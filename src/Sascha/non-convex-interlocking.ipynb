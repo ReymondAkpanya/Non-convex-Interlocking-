{
 "cells": [
  {
   "attachments": {},
   "cell_type": "markdown",
   "metadata": {},
   "source": [
    "# Interlocking analysis for Assemblies of possibly non convex Polyhedra"
   ]
  },
  {
   "cell_type": "code",
   "execution_count": 44,
   "metadata": {},
   "outputs": [
    {
     "data": {
      "text/plain": [
       "plotPolyhedron (generic function with 1 method)"
      ]
     },
     "metadata": {},
     "output_type": "display_data"
    }
   ],
   "source": [
    "include(\"../Polyhedron.jl\")\n",
    "include(\"../examples.jl\")\n",
    "include(\"../decomposition.jl\")\n",
    "include(\"../plotting.jl\")"
   ]
  },
  {
   "cell_type": "code",
   "execution_count": 45,
   "metadata": {},
   "outputs": [
    {
     "data": {
      "application/vnd.plotly.v1+json": {
       "config": {
        "editable": false,
        "responsive": true,
        "scrollZoom": true,
        "showLink": false,
        "staticPlot": false
       },
       "data": [
        {
         "facecolor": [
          "#00E6FF",
          "#00E6FF",
          "#00E6FF",
          "#00E6FF",
          "#00E6FF",
          "#00E6FF",
          "#00E6FF",
          "#00E6FF",
          "#00E6FF",
          "#00E6FF",
          "#00E6FF",
          "#00E6FF",
          "#00E6FF",
          "#00E6FF",
          "#00E6FF",
          "#00E6FF",
          "#00E6FF",
          "#00E6FF",
          "#00E6FF",
          "#00E6FF",
          "#00E6FF",
          "#00E6FF",
          "#00E6FF",
          "#00E6FF",
          "#00E6FF",
          "#00E6FF",
          "#00E6FF",
          "#00E6FF",
          "#00E6FF",
          "#00E6FF"
         ],
         "i": [
          0,
          1,
          0,
          4,
          7,
          8,
          7,
          11,
          2,
          2,
          3,
          3,
          10,
          5,
          5,
          12,
          6,
          6,
          13,
          2,
          3,
          3,
          16,
          9,
          10,
          10,
          16,
          0,
          7,
          2
         ],
         "j": [
          2,
          3,
          5,
          6,
          9,
          10,
          12,
          13,
          1,
          8,
          1,
          8,
          14,
          4,
          11,
          15,
          4,
          11,
          16,
          5,
          0,
          6,
          14,
          12,
          7,
          13,
          14,
          2,
          9,
          9
         ],
         "k": [
          1,
          0,
          4,
          0,
          8,
          7,
          11,
          7,
          8,
          9,
          8,
          10,
          3,
          11,
          12,
          5,
          11,
          13,
          6,
          15,
          6,
          16,
          3,
          15,
          13,
          16,
          10,
          5,
          12,
          15
         ],
         "opacity": 0.6,
         "type": "mesh3d",
         "x": [
          -0.539345,
          0,
          0.872678,
          -0.872678,
          0,
          0.872678,
          -0.872678,
          -0.539345,
          0,
          0.872678,
          -0.872678,
          0,
          0.872678,
          -0.872678,
          -1.41202,
          1.41202,
          -1.41202
         ],
         "y": [
          0,
          1.41202,
          0.872678,
          0.872678,
          -1.41202,
          -0.872678,
          -0.872678,
          0,
          1.41202,
          0.872678,
          0.872678,
          -1.41202,
          -0.872678,
          -0.872678,
          0.539345,
          -0.539345,
          -0.539345
         ],
         "z": [
          1.41202,
          0.539345,
          0.872678,
          0.872678,
          0.539345,
          0.872678,
          0.872678,
          -1.41202,
          -0.539345,
          -0.872678,
          -0.872678,
          -0.539345,
          -0.872678,
          -0.872678,
          0,
          0,
          0
         ]
        },
        {
         "line": {
          "color": "black"
         },
         "mode": "lines",
         "type": "scatter3d",
         "x": [
          -0.539345,
          -0.872678
         ],
         "y": [
          0,
          0.872678
         ],
         "z": [
          1.41202,
          0.872678
         ]
        },
        {
         "line": {
          "color": "black"
         },
         "mode": "lines",
         "type": "scatter3d",
         "x": [
          -0.539345,
          -0.872678
         ],
         "y": [
          0,
          -0.872678
         ],
         "z": [
          1.41202,
          0.872678
         ]
        },
        {
         "line": {
          "color": "black"
         },
         "mode": "lines",
         "type": "scatter3d",
         "x": [
          0,
          0.872678
         ],
         "y": [
          1.41202,
          0.872678
         ],
         "z": [
          0.539345,
          0.872678
         ]
        },
        {
         "line": {
          "color": "black"
         },
         "mode": "lines",
         "type": "scatter3d",
         "x": [
          0,
          -0.872678
         ],
         "y": [
          1.41202,
          0.872678
         ],
         "z": [
          0.539345,
          0.872678
         ]
        },
        {
         "line": {
          "color": "black"
         },
         "mode": "lines",
         "type": "scatter3d",
         "x": [
          0,
          0
         ],
         "y": [
          1.41202,
          1.41202
         ],
         "z": [
          0.539345,
          -0.539345
         ]
        },
        {
         "line": {
          "color": "black"
         },
         "mode": "lines",
         "type": "scatter3d",
         "x": [
          -0.872678,
          -1.41202
         ],
         "y": [
          0.872678,
          0.539345
         ],
         "z": [
          0.872678,
          0
         ]
        },
        {
         "line": {
          "color": "black"
         },
         "mode": "lines",
         "type": "scatter3d",
         "x": [
          0,
          0.872678
         ],
         "y": [
          -1.41202,
          -0.872678
         ],
         "z": [
          0.539345,
          0.872678
         ]
        },
        {
         "line": {
          "color": "black"
         },
         "mode": "lines",
         "type": "scatter3d",
         "x": [
          0,
          -0.872678
         ],
         "y": [
          -1.41202,
          -0.872678
         ],
         "z": [
          0.539345,
          0.872678
         ]
        },
        {
         "line": {
          "color": "black"
         },
         "mode": "lines",
         "type": "scatter3d",
         "x": [
          0,
          0
         ],
         "y": [
          -1.41202,
          -1.41202
         ],
         "z": [
          0.539345,
          -0.539345
         ]
        },
        {
         "line": {
          "color": "black"
         },
         "mode": "lines",
         "type": "scatter3d",
         "x": [
          0.872678,
          1.41202
         ],
         "y": [
          -0.872678,
          -0.539345
         ],
         "z": [
          0.872678,
          0
         ]
        },
        {
         "line": {
          "color": "black"
         },
         "mode": "lines",
         "type": "scatter3d",
         "x": [
          -0.872678,
          -1.41202
         ],
         "y": [
          -0.872678,
          -0.539345
         ],
         "z": [
          0.872678,
          0
         ]
        },
        {
         "line": {
          "color": "black"
         },
         "mode": "lines",
         "type": "scatter3d",
         "x": [
          -0.539345,
          -0.872678
         ],
         "y": [
          0,
          0.872678
         ],
         "z": [
          -1.41202,
          -0.872678
         ]
        },
        {
         "line": {
          "color": "black"
         },
         "mode": "lines",
         "type": "scatter3d",
         "x": [
          -0.539345,
          -0.872678
         ],
         "y": [
          0,
          -0.872678
         ],
         "z": [
          -1.41202,
          -0.872678
         ]
        },
        {
         "line": {
          "color": "black"
         },
         "mode": "lines",
         "type": "scatter3d",
         "x": [
          0,
          0.872678
         ],
         "y": [
          1.41202,
          0.872678
         ],
         "z": [
          -0.539345,
          -0.872678
         ]
        },
        {
         "line": {
          "color": "black"
         },
         "mode": "lines",
         "type": "scatter3d",
         "x": [
          0,
          -0.872678
         ],
         "y": [
          1.41202,
          0.872678
         ],
         "z": [
          -0.539345,
          -0.872678
         ]
        },
        {
         "line": {
          "color": "black"
         },
         "mode": "lines",
         "type": "scatter3d",
         "x": [
          -0.872678,
          -1.41202
         ],
         "y": [
          0.872678,
          0.539345
         ],
         "z": [
          -0.872678,
          0
         ]
        },
        {
         "line": {
          "color": "black"
         },
         "mode": "lines",
         "type": "scatter3d",
         "x": [
          0,
          0.872678
         ],
         "y": [
          -1.41202,
          -0.872678
         ],
         "z": [
          -0.539345,
          -0.872678
         ]
        },
        {
         "line": {
          "color": "black"
         },
         "mode": "lines",
         "type": "scatter3d",
         "x": [
          0,
          -0.872678
         ],
         "y": [
          -1.41202,
          -0.872678
         ],
         "z": [
          -0.539345,
          -0.872678
         ]
        },
        {
         "line": {
          "color": "black"
         },
         "mode": "lines",
         "type": "scatter3d",
         "x": [
          0.872678,
          1.41202
         ],
         "y": [
          -0.872678,
          -0.539345
         ],
         "z": [
          -0.872678,
          0
         ]
        },
        {
         "line": {
          "color": "black"
         },
         "mode": "lines",
         "type": "scatter3d",
         "x": [
          -0.872678,
          -1.41202
         ],
         "y": [
          -0.872678,
          -0.539345
         ],
         "z": [
          -0.872678,
          0
         ]
        },
        {
         "line": {
          "color": "black"
         },
         "mode": "lines",
         "type": "scatter3d",
         "x": [
          -1.41202,
          -1.41202
         ],
         "y": [
          0.539345,
          -0.539345
         ],
         "z": [
          0,
          0
         ]
        },
        {
         "line": {
          "color": "black"
         },
         "mode": "lines",
         "type": "scatter3d",
         "x": [
          -0.539345,
          0.872678
         ],
         "y": [
          0,
          0.872678
         ],
         "z": [
          1.41202,
          0.872678
         ]
        },
        {
         "line": {
          "color": "black"
         },
         "mode": "lines",
         "type": "scatter3d",
         "x": [
          -0.539345,
          0
         ],
         "y": [
          0,
          1.41202
         ],
         "z": [
          1.41202,
          0.539345
         ]
        },
        {
         "line": {
          "color": "black"
         },
         "mode": "lines",
         "type": "scatter3d",
         "x": [
          -0.539345,
          0.872678
         ],
         "y": [
          0,
          -0.872678
         ],
         "z": [
          1.41202,
          0.872678
         ]
        },
        {
         "line": {
          "color": "black"
         },
         "mode": "lines",
         "type": "scatter3d",
         "x": [
          -0.539345,
          0
         ],
         "y": [
          0,
          -1.41202
         ],
         "z": [
          1.41202,
          0.539345
         ]
        },
        {
         "line": {
          "color": "black"
         },
         "mode": "lines",
         "type": "scatter3d",
         "x": [
          -0.539345,
          0.872678
         ],
         "y": [
          0,
          0.872678
         ],
         "z": [
          -1.41202,
          -0.872678
         ]
        },
        {
         "line": {
          "color": "black"
         },
         "mode": "lines",
         "type": "scatter3d",
         "x": [
          -0.539345,
          0
         ],
         "y": [
          0,
          1.41202
         ],
         "z": [
          -1.41202,
          -0.539345
         ]
        },
        {
         "line": {
          "color": "black"
         },
         "mode": "lines",
         "type": "scatter3d",
         "x": [
          -0.539345,
          0.872678
         ],
         "y": [
          0,
          -0.872678
         ],
         "z": [
          -1.41202,
          -0.872678
         ]
        },
        {
         "line": {
          "color": "black"
         },
         "mode": "lines",
         "type": "scatter3d",
         "x": [
          -0.539345,
          0
         ],
         "y": [
          0,
          -1.41202
         ],
         "z": [
          -1.41202,
          -0.539345
         ]
        },
        {
         "line": {
          "color": "black"
         },
         "mode": "lines",
         "type": "scatter3d",
         "x": [
          0.872678,
          0
         ],
         "y": [
          0.872678,
          1.41202
         ],
         "z": [
          0.872678,
          -0.539345
         ]
        },
        {
         "line": {
          "color": "black"
         },
         "mode": "lines",
         "type": "scatter3d",
         "x": [
          0.872678,
          0.872678
         ],
         "y": [
          0.872678,
          0.872678
         ],
         "z": [
          0.872678,
          -0.872678
         ]
        },
        {
         "line": {
          "color": "black"
         },
         "mode": "lines",
         "type": "scatter3d",
         "x": [
          -0.872678,
          0
         ],
         "y": [
          0.872678,
          1.41202
         ],
         "z": [
          0.872678,
          -0.539345
         ]
        },
        {
         "line": {
          "color": "black"
         },
         "mode": "lines",
         "type": "scatter3d",
         "x": [
          -0.872678,
          -0.872678
         ],
         "y": [
          0.872678,
          0.872678
         ],
         "z": [
          0.872678,
          -0.872678
         ]
        },
        {
         "line": {
          "color": "black"
         },
         "mode": "lines",
         "type": "scatter3d",
         "x": [
          0.872678,
          0
         ],
         "y": [
          -0.872678,
          -1.41202
         ],
         "z": [
          0.872678,
          -0.539345
         ]
        },
        {
         "line": {
          "color": "black"
         },
         "mode": "lines",
         "type": "scatter3d",
         "x": [
          0.872678,
          0.872678
         ],
         "y": [
          -0.872678,
          -0.872678
         ],
         "z": [
          0.872678,
          -0.872678
         ]
        },
        {
         "line": {
          "color": "black"
         },
         "mode": "lines",
         "type": "scatter3d",
         "x": [
          -0.872678,
          0
         ],
         "y": [
          -0.872678,
          -1.41202
         ],
         "z": [
          0.872678,
          -0.539345
         ]
        },
        {
         "line": {
          "color": "black"
         },
         "mode": "lines",
         "type": "scatter3d",
         "x": [
          -0.872678,
          -0.872678
         ],
         "y": [
          -0.872678,
          -0.872678
         ],
         "z": [
          0.872678,
          -0.872678
         ]
        },
        {
         "line": {
          "color": "black"
         },
         "mode": "lines",
         "type": "scatter3d",
         "x": [
          0.872678,
          0.872678
         ],
         "y": [
          0.872678,
          -0.872678
         ],
         "z": [
          0.872678,
          0.872678
         ]
        },
        {
         "line": {
          "color": "black"
         },
         "mode": "lines",
         "type": "scatter3d",
         "x": [
          0.872678,
          1.41202
         ],
         "y": [
          0.872678,
          -0.539345
         ],
         "z": [
          0.872678,
          0
         ]
        },
        {
         "line": {
          "color": "black"
         },
         "mode": "lines",
         "type": "scatter3d",
         "x": [
          -0.872678,
          -0.872678
         ],
         "y": [
          0.872678,
          -0.872678
         ],
         "z": [
          0.872678,
          0.872678
         ]
        },
        {
         "line": {
          "color": "black"
         },
         "mode": "lines",
         "type": "scatter3d",
         "x": [
          -0.872678,
          -1.41202
         ],
         "y": [
          0.872678,
          -0.539345
         ],
         "z": [
          0.872678,
          0
         ]
        },
        {
         "line": {
          "color": "black"
         },
         "mode": "lines",
         "type": "scatter3d",
         "x": [
          0.872678,
          0.872678
         ],
         "y": [
          0.872678,
          -0.872678
         ],
         "z": [
          -0.872678,
          -0.872678
         ]
        },
        {
         "line": {
          "color": "black"
         },
         "mode": "lines",
         "type": "scatter3d",
         "x": [
          0.872678,
          1.41202
         ],
         "y": [
          0.872678,
          -0.539345
         ],
         "z": [
          -0.872678,
          0
         ]
        },
        {
         "line": {
          "color": "black"
         },
         "mode": "lines",
         "type": "scatter3d",
         "x": [
          -0.872678,
          -0.872678
         ],
         "y": [
          0.872678,
          -0.872678
         ],
         "z": [
          -0.872678,
          -0.872678
         ]
        },
        {
         "line": {
          "color": "black"
         },
         "mode": "lines",
         "type": "scatter3d",
         "x": [
          -0.872678,
          -1.41202
         ],
         "y": [
          0.872678,
          -0.539345
         ],
         "z": [
          -0.872678,
          0
         ]
        },
        {
         "marker": {
          "color": "#00E6FF",
          "size": 4
         },
         "mode": "markers+text",
         "text": [
          "1",
          "2",
          "3",
          "4",
          "5",
          "6",
          "7",
          "8",
          "9",
          "10",
          "11",
          "12",
          "13",
          "14",
          "15",
          "16",
          "17"
         ],
         "textposition": "bottom center",
         "type": "scatter3d",
         "x": [
          -0.539345,
          0,
          0.872678,
          -0.872678,
          0,
          0.872678,
          -0.872678,
          -0.539345,
          0,
          0.872678,
          -0.872678,
          0,
          0.872678,
          -0.872678,
          -1.41202,
          1.41202,
          -1.41202
         ],
         "y": [
          0,
          1.41202,
          0.872678,
          0.872678,
          -1.41202,
          -0.872678,
          -0.872678,
          0,
          1.41202,
          0.872678,
          0.872678,
          -1.41202,
          -0.872678,
          -0.872678,
          0.539345,
          -0.539345,
          -0.539345
         ],
         "z": [
          1.41202,
          0.539345,
          0.872678,
          0.872678,
          0.539345,
          0.872678,
          0.872678,
          -1.41202,
          -0.539345,
          -0.872678,
          -0.872678,
          -0.539345,
          -0.872678,
          -0.872678,
          0,
          0,
          0
         ]
        }
       ],
       "frames": [],
       "layout": {
        "margin": {
         "b": 50,
         "l": 50,
         "r": 50,
         "t": 60
        },
        "template": {
         "data": {
          "bar": [
           {
            "error_x": {
             "color": "#2a3f5f"
            },
            "error_y": {
             "color": "#2a3f5f"
            },
            "marker": {
             "line": {
              "color": "#E5ECF6",
              "width": 0.5
             }
            },
            "type": "bar"
           }
          ],
          "barpolar": [
           {
            "marker": {
             "line": {
              "color": "#E5ECF6",
              "width": 0.5
             }
            },
            "type": "barpolar"
           }
          ],
          "carpet": [
           {
            "aaxis": {
             "endlinecolor": "#2a3f5f",
             "gridcolor": "white",
             "linecolor": "white",
             "minorgridcolor": "white",
             "startlinecolor": "#2a3f5f"
            },
            "baxis": {
             "endlinecolor": "#2a3f5f",
             "gridcolor": "white",
             "linecolor": "white",
             "minorgridcolor": "white",
             "startlinecolor": "#2a3f5f"
            },
            "type": "carpet"
           }
          ],
          "choropleth": [
           {
            "colorbar": {
             "outlinewidth": 0,
             "ticks": ""
            },
            "type": "choropleth"
           }
          ],
          "contour": [
           {
            "colorbar": {
             "outlinewidth": 0,
             "ticks": ""
            },
            "colorscale": [
             [
              0,
              "#0d0887"
             ],
             [
              0.1111111111111111,
              "#46039f"
             ],
             [
              0.2222222222222222,
              "#7201a8"
             ],
             [
              0.3333333333333333,
              "#9c179e"
             ],
             [
              0.4444444444444444,
              "#bd3786"
             ],
             [
              0.5555555555555556,
              "#d8576b"
             ],
             [
              0.6666666666666666,
              "#ed7953"
             ],
             [
              0.7777777777777778,
              "#fb9f3a"
             ],
             [
              0.8888888888888888,
              "#fdca26"
             ],
             [
              1,
              "#f0f921"
             ]
            ],
            "type": "contour"
           }
          ],
          "contourcarpet": [
           {
            "colorbar": {
             "outlinewidth": 0,
             "ticks": ""
            },
            "type": "contourcarpet"
           }
          ],
          "heatmap": [
           {
            "colorbar": {
             "outlinewidth": 0,
             "ticks": ""
            },
            "colorscale": [
             [
              0,
              "#0d0887"
             ],
             [
              0.1111111111111111,
              "#46039f"
             ],
             [
              0.2222222222222222,
              "#7201a8"
             ],
             [
              0.3333333333333333,
              "#9c179e"
             ],
             [
              0.4444444444444444,
              "#bd3786"
             ],
             [
              0.5555555555555556,
              "#d8576b"
             ],
             [
              0.6666666666666666,
              "#ed7953"
             ],
             [
              0.7777777777777778,
              "#fb9f3a"
             ],
             [
              0.8888888888888888,
              "#fdca26"
             ],
             [
              1,
              "#f0f921"
             ]
            ],
            "type": "heatmap"
           }
          ],
          "heatmapgl": [
           {
            "colorbar": {
             "outlinewidth": 0,
             "ticks": ""
            },
            "colorscale": [
             [
              0,
              "#0d0887"
             ],
             [
              0.1111111111111111,
              "#46039f"
             ],
             [
              0.2222222222222222,
              "#7201a8"
             ],
             [
              0.3333333333333333,
              "#9c179e"
             ],
             [
              0.4444444444444444,
              "#bd3786"
             ],
             [
              0.5555555555555556,
              "#d8576b"
             ],
             [
              0.6666666666666666,
              "#ed7953"
             ],
             [
              0.7777777777777778,
              "#fb9f3a"
             ],
             [
              0.8888888888888888,
              "#fdca26"
             ],
             [
              1,
              "#f0f921"
             ]
            ],
            "type": "heatmapgl"
           }
          ],
          "histogram": [
           {
            "marker": {
             "colorbar": {
              "outlinewidth": 0,
              "ticks": ""
             }
            },
            "type": "histogram"
           }
          ],
          "histogram2d": [
           {
            "colorbar": {
             "outlinewidth": 0,
             "ticks": ""
            },
            "colorscale": [
             [
              0,
              "#0d0887"
             ],
             [
              0.1111111111111111,
              "#46039f"
             ],
             [
              0.2222222222222222,
              "#7201a8"
             ],
             [
              0.3333333333333333,
              "#9c179e"
             ],
             [
              0.4444444444444444,
              "#bd3786"
             ],
             [
              0.5555555555555556,
              "#d8576b"
             ],
             [
              0.6666666666666666,
              "#ed7953"
             ],
             [
              0.7777777777777778,
              "#fb9f3a"
             ],
             [
              0.8888888888888888,
              "#fdca26"
             ],
             [
              1,
              "#f0f921"
             ]
            ],
            "type": "histogram2d"
           }
          ],
          "histogram2dcontour": [
           {
            "colorbar": {
             "outlinewidth": 0,
             "ticks": ""
            },
            "colorscale": [
             [
              0,
              "#0d0887"
             ],
             [
              0.1111111111111111,
              "#46039f"
             ],
             [
              0.2222222222222222,
              "#7201a8"
             ],
             [
              0.3333333333333333,
              "#9c179e"
             ],
             [
              0.4444444444444444,
              "#bd3786"
             ],
             [
              0.5555555555555556,
              "#d8576b"
             ],
             [
              0.6666666666666666,
              "#ed7953"
             ],
             [
              0.7777777777777778,
              "#fb9f3a"
             ],
             [
              0.8888888888888888,
              "#fdca26"
             ],
             [
              1,
              "#f0f921"
             ]
            ],
            "type": "histogram2dcontour"
           }
          ],
          "mesh3d": [
           {
            "colorbar": {
             "outlinewidth": 0,
             "ticks": ""
            },
            "type": "mesh3d"
           }
          ],
          "parcoords": [
           {
            "line": {
             "colorbar": {
              "outlinewidth": 0,
              "ticks": ""
             }
            },
            "type": "parcoords"
           }
          ],
          "pie": [
           {
            "automargin": true,
            "type": "pie"
           }
          ],
          "scatter": [
           {
            "marker": {
             "colorbar": {
              "outlinewidth": 0,
              "ticks": ""
             }
            },
            "type": "scatter"
           }
          ],
          "scatter3d": [
           {
            "line": {
             "colorbar": {
              "outlinewidth": 0,
              "ticks": ""
             }
            },
            "marker": {
             "colorbar": {
              "outlinewidth": 0,
              "ticks": ""
             }
            },
            "type": "scatter3d"
           }
          ],
          "scattercarpet": [
           {
            "marker": {
             "colorbar": {
              "outlinewidth": 0,
              "ticks": ""
             }
            },
            "type": "scattercarpet"
           }
          ],
          "scattergeo": [
           {
            "marker": {
             "colorbar": {
              "outlinewidth": 0,
              "ticks": ""
             }
            },
            "type": "scattergeo"
           }
          ],
          "scattergl": [
           {
            "marker": {
             "colorbar": {
              "outlinewidth": 0,
              "ticks": ""
             }
            },
            "type": "scattergl"
           }
          ],
          "scattermapbox": [
           {
            "marker": {
             "colorbar": {
              "outlinewidth": 0,
              "ticks": ""
             }
            },
            "type": "scattermapbox"
           }
          ],
          "scatterpolar": [
           {
            "marker": {
             "colorbar": {
              "outlinewidth": 0,
              "ticks": ""
             }
            },
            "type": "scatterpolar"
           }
          ],
          "scatterpolargl": [
           {
            "marker": {
             "colorbar": {
              "outlinewidth": 0,
              "ticks": ""
             }
            },
            "type": "scatterpolargl"
           }
          ],
          "scatterternary": [
           {
            "marker": {
             "colorbar": {
              "outlinewidth": 0,
              "ticks": ""
             }
            },
            "type": "scatterternary"
           }
          ],
          "surface": [
           {
            "colorbar": {
             "outlinewidth": 0,
             "ticks": ""
            },
            "colorscale": [
             [
              0,
              "#0d0887"
             ],
             [
              0.1111111111111111,
              "#46039f"
             ],
             [
              0.2222222222222222,
              "#7201a8"
             ],
             [
              0.3333333333333333,
              "#9c179e"
             ],
             [
              0.4444444444444444,
              "#bd3786"
             ],
             [
              0.5555555555555556,
              "#d8576b"
             ],
             [
              0.6666666666666666,
              "#ed7953"
             ],
             [
              0.7777777777777778,
              "#fb9f3a"
             ],
             [
              0.8888888888888888,
              "#fdca26"
             ],
             [
              1,
              "#f0f921"
             ]
            ],
            "type": "surface"
           }
          ],
          "table": [
           {
            "cells": {
             "fill": {
              "color": "#EBF0F8"
             },
             "line": {
              "color": "white"
             }
            },
            "header": {
             "fill": {
              "color": "#C8D4E3"
             },
             "line": {
              "color": "white"
             }
            },
            "type": "table"
           }
          ]
         },
         "layout": {
          "annotationdefaults": {
           "arrowcolor": "#2a3f5f",
           "arrowhead": 0,
           "arrowwidth": 1
          },
          "autotypenumbers": "strict",
          "coloraxis": {
           "colorbar": {
            "outlinewidth": 0,
            "ticks": ""
           }
          },
          "colorscale": {
           "diverging": [
            [
             0,
             "#8e0152"
            ],
            [
             0.1,
             "#c51b7d"
            ],
            [
             0.2,
             "#de77ae"
            ],
            [
             0.3,
             "#f1b6da"
            ],
            [
             0.4,
             "#fde0ef"
            ],
            [
             0.5,
             "#f7f7f7"
            ],
            [
             0.6,
             "#e6f5d0"
            ],
            [
             0.7,
             "#b8e186"
            ],
            [
             0.8,
             "#7fbc41"
            ],
            [
             0.9,
             "#4d9221"
            ],
            [
             1,
             "#276419"
            ]
           ],
           "sequential": [
            [
             0,
             "#0d0887"
            ],
            [
             0.1111111111111111,
             "#46039f"
            ],
            [
             0.2222222222222222,
             "#7201a8"
            ],
            [
             0.3333333333333333,
             "#9c179e"
            ],
            [
             0.4444444444444444,
             "#bd3786"
            ],
            [
             0.5555555555555556,
             "#d8576b"
            ],
            [
             0.6666666666666666,
             "#ed7953"
            ],
            [
             0.7777777777777778,
             "#fb9f3a"
            ],
            [
             0.8888888888888888,
             "#fdca26"
            ],
            [
             1,
             "#f0f921"
            ]
           ],
           "sequentialminus": [
            [
             0,
             "#0d0887"
            ],
            [
             0.1111111111111111,
             "#46039f"
            ],
            [
             0.2222222222222222,
             "#7201a8"
            ],
            [
             0.3333333333333333,
             "#9c179e"
            ],
            [
             0.4444444444444444,
             "#bd3786"
            ],
            [
             0.5555555555555556,
             "#d8576b"
            ],
            [
             0.6666666666666666,
             "#ed7953"
            ],
            [
             0.7777777777777778,
             "#fb9f3a"
            ],
            [
             0.8888888888888888,
             "#fdca26"
            ],
            [
             1,
             "#f0f921"
            ]
           ]
          },
          "colorway": [
           "#636efa",
           "#EF553B",
           "#00cc96",
           "#ab63fa",
           "#FFA15A",
           "#19d3f3",
           "#FF6692",
           "#B6E880",
           "#FF97FF",
           "#FECB52"
          ],
          "font": {
           "color": "#2a3f5f"
          },
          "geo": {
           "bgcolor": "white",
           "lakecolor": "white",
           "landcolor": "#E5ECF6",
           "showlakes": true,
           "showland": true,
           "subunitcolor": "white"
          },
          "hoverlabel": {
           "align": "left"
          },
          "hovermode": "closest",
          "mapbox": {
           "style": "light"
          },
          "paper_bgcolor": "white",
          "plot_bgcolor": "#E5ECF6",
          "polar": {
           "angularaxis": {
            "gridcolor": "white",
            "linecolor": "white",
            "ticks": ""
           },
           "bgcolor": "#E5ECF6",
           "radialaxis": {
            "gridcolor": "white",
            "linecolor": "white",
            "ticks": ""
           }
          },
          "scene": {
           "xaxis": {
            "backgroundcolor": "#E5ECF6",
            "gridcolor": "white",
            "gridwidth": 2,
            "linecolor": "white",
            "showbackground": true,
            "ticks": "",
            "zerolinecolor": "white"
           },
           "yaxis": {
            "backgroundcolor": "#E5ECF6",
            "gridcolor": "white",
            "gridwidth": 2,
            "linecolor": "white",
            "showbackground": true,
            "ticks": "",
            "zerolinecolor": "white"
           },
           "zaxis": {
            "backgroundcolor": "#E5ECF6",
            "gridcolor": "white",
            "gridwidth": 2,
            "linecolor": "white",
            "showbackground": true,
            "ticks": "",
            "zerolinecolor": "white"
           }
          },
          "shapedefaults": {
           "line": {
            "color": "#2a3f5f"
           }
          },
          "ternary": {
           "aaxis": {
            "gridcolor": "white",
            "linecolor": "white",
            "ticks": ""
           },
           "baxis": {
            "gridcolor": "white",
            "linecolor": "white",
            "ticks": ""
           },
           "bgcolor": "#E5ECF6",
           "caxis": {
            "gridcolor": "white",
            "linecolor": "white",
            "ticks": ""
           }
          },
          "title": {
           "x": 0.05
          },
          "xaxis": {
           "automargin": true,
           "gridcolor": "white",
           "linecolor": "white",
           "ticks": "",
           "title": {
            "standoff": 15
           },
           "zerolinecolor": "white",
           "zerolinewidth": 2
          },
          "yaxis": {
           "automargin": true,
           "gridcolor": "white",
           "linecolor": "white",
           "ticks": "",
           "title": {
            "standoff": 15
           },
           "zerolinecolor": "white",
           "zerolinewidth": 2
          }
         }
        }
       }
      },
      "image/png": "[encoded data removed]",
      "image/svg+xml": "<svg class=\"main-svg\" xmlns=\"http://www.w3.org/2000/svg\" xmlns:xlink=\"http://www.w3.org/1999/xlink\" width=\"700\" height=\"500\" style=\"\" viewBox=\"0 0 700 500\"><rect x=\"0\" y=\"0\" width=\"700\" height=\"500\" style=\"fill: rgb(255, 255, 255); fill-opacity: 1;\"/><defs id=\"defs-69bbc7\"><g class=\"clips\"/><g class=\"gradients\"/></defs><g class=\"bglayer\"/><g class=\"layer-below\"><g class=\"imagelayer\"/><g class=\"shapelayer\"/></g><g class=\"cartesianlayer\"/><g class=\"polarlayer\"/><g class=\"ternarylayer\"/><g class=\"geolayer\"/><g class=\"funnelarealayer\"/><g class=\"pielayer\"/><g class=\"treemaplayer\"/><g class=\"sunburstlayer\"/><g class=\"glimages\"><image xmlns=\"http://www.w3.org/2000/svg\" xlink:href=\"data:image/png;base64,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\" x=\"50\" y=\"60\" width=\"531\" height=\"390\" preserveAspectRatio=\"none\"/></g><defs id=\"topdefs-69bbc7\"><g class=\"clips\"/><clipPath id=\"legend69bbc7\"><rect width=\"96\" height=\"390\" x=\"0\" y=\"0\"/></clipPath></defs><g class=\"layer-above\"><g class=\"imagelayer\"/><g class=\"shapelayer\"/></g><g class=\"infolayer\"><g class=\"legend\" pointer-events=\"all\" transform=\"translate(591.62,60)\"><rect class=\"bg\" shape-rendering=\"crispEdges\" width=\"96\" height=\"390\" x=\"0\" y=\"0\" style=\"stroke: rgb(68, 68, 68); stroke-opacity: 1; fill: rgb(255, 255, 255); fill-opacity: 1; stroke-width: 0px;\"/><g class=\"scrollbox\" transform=\"\" clip-path=\"url('#legend69bbc7')\"><g class=\"groups\"><g class=\"traces\" transform=\"translate(0,14.5)\" style=\"opacity: 1;\"><text class=\"legendtext\" text-anchor=\"start\" x=\"40\" y=\"4.680000000000001\" style=\"font-family: 'Open Sans', verdana, arial, sans-serif; font-size: 12px; fill: rgb(42, 63, 95); fill-opacity: 1; white-space: pre;\">trace 1</text><g class=\"layers\" style=\"opacity: 1;\"><g class=\"legendfill\"/><g class=\"legendlines\"><path class=\"js-line\" d=\"M5,0h30\" style=\"fill: none; stroke: rgb(0, 0, 0); stroke-opacity: 1; stroke-width: 2px;\"/></g><g class=\"legendsymbols\"><g class=\"legendpoints\"/></g></g><rect class=\"legendtoggle\" x=\"0\" y=\"-9.5\" width=\"90.09375\" height=\"19\" style=\"fill: rgb(0, 0, 0); fill-opacity: 0;\"/></g><g class=\"traces\" transform=\"translate(0,33.5)\" style=\"opacity: 1;\"><text class=\"legendtext\" text-anchor=\"start\" x=\"40\" y=\"4.680000000000001\" style=\"font-family: 'Open Sans', verdana, arial, sans-serif; font-size: 12px; fill: rgb(42, 63, 95); fill-opacity: 1; white-space: pre;\">trace 2</text><g class=\"layers\" style=\"opacity: 1;\"><g class=\"legendfill\"/><g class=\"legendlines\"><path class=\"js-line\" d=\"M5,0h30\" style=\"fill: none; stroke: rgb(0, 0, 0); stroke-opacity: 1; stroke-width: 2px;\"/></g><g class=\"legendsymbols\"><g class=\"legendpoints\"/></g></g><rect class=\"legendtoggle\" x=\"0\" y=\"-9.5\" width=\"90.09375\" height=\"19\" style=\"fill: rgb(0, 0, 0); fill-opacity: 0;\"/></g><g class=\"traces\" transform=\"translate(0,52.5)\" style=\"opacity: 1;\"><text class=\"legendtext\" text-anchor=\"start\" x=\"40\" y=\"4.680000000000001\" style=\"font-family: 'Open Sans', verdana, arial, sans-serif; font-size: 12px; fill: rgb(42, 63, 95); fill-opacity: 1; white-space: pre;\">trace 3</text><g class=\"layers\" style=\"opacity: 1;\"><g class=\"legendfill\"/><g class=\"legendlines\"><path class=\"js-line\" d=\"M5,0h30\" style=\"fill: none; stroke: rgb(0, 0, 0); stroke-opacity: 1; stroke-width: 2px;\"/></g><g class=\"legendsymbols\"><g class=\"legendpoints\"/></g></g><rect class=\"legendtoggle\" x=\"0\" y=\"-9.5\" width=\"90.09375\" height=\"19\" style=\"fill: rgb(0, 0, 0); fill-opacity: 0;\"/></g><g class=\"traces\" transform=\"translate(0,71.5)\" style=\"opacity: 1;\"><text class=\"legendtext\" text-anchor=\"start\" x=\"40\" y=\"4.680000000000001\" style=\"font-family: 'Open Sans', verdana, arial, sans-serif; font-size: 12px; fill: rgb(42, 63, 95); fill-opacity: 1; white-space: pre;\">trace 4</text><g class=\"layers\" style=\"opacity: 1;\"><g class=\"legendfill\"/><g class=\"legendlines\"><path class=\"js-line\" d=\"M5,0h30\" style=\"fill: none; stroke: rgb(0, 0, 0); stroke-opacity: 1; stroke-width: 2px;\"/></g><g class=\"legendsymbols\"><g class=\"legendpoints\"/></g></g><rect class=\"legendtoggle\" x=\"0\" y=\"-9.5\" width=\"90.09375\" height=\"19\" style=\"fill: rgb(0, 0, 0); fill-opacity: 0;\"/></g><g class=\"traces\" transform=\"translate(0,90.5)\" style=\"opacity: 1;\"><text class=\"legendtext\" text-anchor=\"start\" x=\"40\" y=\"4.680000000000001\" style=\"font-family: 'Open Sans', verdana, arial, sans-serif; font-size: 12px; fill: rgb(42, 63, 95); fill-opacity: 1; white-space: pre;\">trace 5</text><g class=\"layers\" style=\"opacity: 1;\"><g class=\"legendfill\"/><g class=\"legendlines\"><path class=\"js-line\" d=\"M5,0h30\" style=\"fill: none; stroke: rgb(0, 0, 0); stroke-opacity: 1; stroke-width: 2px;\"/></g><g class=\"legendsymbols\"><g class=\"legendpoints\"/></g></g><rect class=\"legendtoggle\" x=\"0\" y=\"-9.5\" width=\"90.09375\" height=\"19\" style=\"fill: rgb(0, 0, 0); fill-opacity: 0;\"/></g><g class=\"traces\" transform=\"translate(0,109.5)\" style=\"opacity: 1;\"><text class=\"legendtext\" text-anchor=\"start\" x=\"40\" y=\"4.680000000000001\" style=\"font-family: 'Open Sans', verdana, arial, sans-serif; font-size: 12px; fill: rgb(42, 63, 95); fill-opacity: 1; white-space: pre;\">trace 6</text><g class=\"layers\" style=\"opacity: 1;\"><g class=\"legendfill\"/><g class=\"legendlines\"><path class=\"js-line\" d=\"M5,0h30\" style=\"fill: none; stroke: rgb(0, 0, 0); stroke-opacity: 1; stroke-width: 2px;\"/></g><g class=\"legendsymbols\"><g class=\"legendpoints\"/></g></g><rect class=\"legendtoggle\" x=\"0\" y=\"-9.5\" width=\"90.09375\" height=\"19\" style=\"fill: rgb(0, 0, 0); fill-opacity: 0;\"/></g><g class=\"traces\" transform=\"translate(0,128.5)\" style=\"opacity: 1;\"><text class=\"legendtext\" text-anchor=\"start\" x=\"40\" y=\"4.680000000000001\" style=\"font-family: 'Open Sans', verdana, arial, sans-serif; font-size: 12px; fill: rgb(42, 63, 95); fill-opacity: 1; white-space: pre;\">trace 7</text><g class=\"layers\" style=\"opacity: 1;\"><g class=\"legendfill\"/><g class=\"legendlines\"><path class=\"js-line\" d=\"M5,0h30\" style=\"fill: none; stroke: rgb(0, 0, 0); stroke-opacity: 1; stroke-width: 2px;\"/></g><g class=\"legendsymbols\"><g class=\"legendpoints\"/></g></g><rect class=\"legendtoggle\" x=\"0\" y=\"-9.5\" width=\"90.09375\" height=\"19\" style=\"fill: rgb(0, 0, 0); fill-opacity: 0;\"/></g><g class=\"traces\" transform=\"translate(0,147.5)\" style=\"opacity: 1;\"><text class=\"legendtext\" text-anchor=\"start\" x=\"40\" y=\"4.680000000000001\" style=\"font-family: 'Open Sans', verdana, arial, sans-serif; font-size: 12px; fill: rgb(42, 63, 95); fill-opacity: 1; white-space: pre;\">trace 8</text><g class=\"layers\" style=\"opacity: 1;\"><g class=\"legendfill\"/><g class=\"legendlines\"><path class=\"js-line\" d=\"M5,0h30\" style=\"fill: none; stroke: rgb(0, 0, 0); stroke-opacity: 1; stroke-width: 2px;\"/></g><g class=\"legendsymbols\"><g class=\"legendpoints\"/></g></g><rect class=\"legendtoggle\" x=\"0\" y=\"-9.5\" width=\"90.09375\" height=\"19\" style=\"fill: rgb(0, 0, 0); fill-opacity: 0;\"/></g><g class=\"traces\" transform=\"translate(0,166.5)\" style=\"opacity: 1;\"><text class=\"legendtext\" text-anchor=\"start\" x=\"40\" y=\"4.680000000000001\" style=\"font-family: 'Open Sans', verdana, arial, sans-serif; font-size: 12px; fill: rgb(42, 63, 95); fill-opacity: 1; white-space: pre;\">trace 9</text><g class=\"layers\" style=\"opacity: 1;\"><g class=\"legendfill\"/><g class=\"legendlines\"><path class=\"js-line\" d=\"M5,0h30\" style=\"fill: none; stroke: rgb(0, 0, 0); stroke-opacity: 1; stroke-width: 2px;\"/></g><g class=\"legendsymbols\"><g class=\"legendpoints\"/></g></g><rect class=\"legendtoggle\" x=\"0\" y=\"-9.5\" width=\"90.09375\" height=\"19\" style=\"fill: rgb(0, 0, 0); fill-opacity: 0;\"/></g><g class=\"traces\" transform=\"translate(0,185.5)\" style=\"opacity: 1;\"><text class=\"legendtext\" text-anchor=\"start\" x=\"40\" y=\"4.680000000000001\" style=\"font-family: 'Open Sans', verdana, arial, sans-serif; font-size: 12px; fill: rgb(42, 63, 95); fill-opacity: 1; white-space: pre;\">trace 10</text><g class=\"layers\" style=\"opacity: 1;\"><g class=\"legendfill\"/><g class=\"legendlines\"><path class=\"js-line\" d=\"M5,0h30\" style=\"fill: none; stroke: rgb(0, 0, 0); stroke-opacity: 1; stroke-width: 2px;\"/></g><g class=\"legendsymbols\"><g class=\"legendpoints\"/></g></g><rect class=\"legendtoggle\" x=\"0\" y=\"-9.5\" width=\"90.09375\" height=\"19\" style=\"fill: rgb(0, 0, 0); fill-opacity: 0;\"/></g><g class=\"traces\" transform=\"translate(0,204.5)\" style=\"opacity: 1;\"><text class=\"legendtext\" text-anchor=\"start\" x=\"40\" y=\"4.680000000000001\" style=\"font-family: 'Open Sans', verdana, arial, sans-serif; font-size: 12px; fill: rgb(42, 63, 95); fill-opacity: 1; white-space: pre;\">trace 11</text><g class=\"layers\" style=\"opacity: 1;\"><g class=\"legendfill\"/><g class=\"legendlines\"><path class=\"js-line\" d=\"M5,0h30\" style=\"fill: none; stroke: rgb(0, 0, 0); stroke-opacity: 1; stroke-width: 2px;\"/></g><g class=\"legendsymbols\"><g class=\"legendpoints\"/></g></g><rect class=\"legendtoggle\" x=\"0\" y=\"-9.5\" width=\"90.09375\" height=\"19\" style=\"fill: rgb(0, 0, 0); fill-opacity: 0;\"/></g><g class=\"traces\" transform=\"translate(0,223.5)\" style=\"opacity: 1;\"><text class=\"legendtext\" text-anchor=\"start\" x=\"40\" y=\"4.680000000000001\" style=\"font-family: 'Open Sans', verdana, arial, sans-serif; font-size: 12px; fill: rgb(42, 63, 95); fill-opacity: 1; white-space: pre;\">trace 12</text><g class=\"layers\" style=\"opacity: 1;\"><g class=\"legendfill\"/><g class=\"legendlines\"><path class=\"js-line\" d=\"M5,0h30\" style=\"fill: none; stroke: rgb(0, 0, 0); stroke-opacity: 1; stroke-width: 2px;\"/></g><g class=\"legendsymbols\"><g class=\"legendpoints\"/></g></g><rect class=\"legendtoggle\" x=\"0\" y=\"-9.5\" width=\"90.09375\" height=\"19\" style=\"fill: rgb(0, 0, 0); fill-opacity: 0;\"/></g><g class=\"traces\" transform=\"translate(0,242.5)\" style=\"opacity: 1;\"><text class=\"legendtext\" text-anchor=\"start\" x=\"40\" y=\"4.680000000000001\" style=\"font-family: 'Open Sans', verdana, arial, sans-serif; font-size: 12px; fill: rgb(42, 63, 95); fill-opacity: 1; white-space: pre;\">trace 13</text><g class=\"layers\" style=\"opacity: 1;\"><g class=\"legendfill\"/><g class=\"legendlines\"><path class=\"js-line\" d=\"M5,0h30\" style=\"fill: none; stroke: rgb(0, 0, 0); stroke-opacity: 1; stroke-width: 2px;\"/></g><g class=\"legendsymbols\"><g class=\"legendpoints\"/></g></g><rect class=\"legendtoggle\" x=\"0\" y=\"-9.5\" width=\"90.09375\" height=\"19\" style=\"fill: rgb(0, 0, 0); fill-opacity: 0;\"/></g><g class=\"traces\" transform=\"translate(0,261.5)\" style=\"opacity: 1;\"><text class=\"legendtext\" text-anchor=\"start\" x=\"40\" y=\"4.680000000000001\" style=\"font-family: 'Open Sans', verdana, arial, sans-serif; font-size: 12px; fill: rgb(42, 63, 95); fill-opacity: 1; white-space: pre;\">trace 14</text><g class=\"layers\" style=\"opacity: 1;\"><g class=\"legendfill\"/><g class=\"legendlines\"><path class=\"js-line\" d=\"M5,0h30\" style=\"fill: none; stroke: rgb(0, 0, 0); stroke-opacity: 1; stroke-width: 2px;\"/></g><g class=\"legendsymbols\"><g class=\"legendpoints\"/></g></g><rect class=\"legendtoggle\" x=\"0\" y=\"-9.5\" width=\"90.09375\" height=\"19\" style=\"fill: rgb(0, 0, 0); fill-opacity: 0;\"/></g><g class=\"traces\" transform=\"translate(0,280.5)\" style=\"opacity: 1;\"><text class=\"legendtext\" text-anchor=\"start\" x=\"40\" y=\"4.680000000000001\" style=\"font-family: 'Open Sans', verdana, arial, sans-serif; font-size: 12px; fill: rgb(42, 63, 95); fill-opacity: 1; white-space: pre;\">trace 15</text><g class=\"layers\" style=\"opacity: 1;\"><g class=\"legendfill\"/><g class=\"legendlines\"><path class=\"js-line\" d=\"M5,0h30\" style=\"fill: none; stroke: rgb(0, 0, 0); stroke-opacity: 1; stroke-width: 2px;\"/></g><g class=\"legendsymbols\"><g class=\"legendpoints\"/></g></g><rect class=\"legendtoggle\" x=\"0\" y=\"-9.5\" width=\"90.09375\" height=\"19\" style=\"fill: rgb(0, 0, 0); fill-opacity: 0;\"/></g><g class=\"traces\" transform=\"translate(0,299.5)\" style=\"opacity: 1;\"><text class=\"legendtext\" text-anchor=\"start\" x=\"40\" y=\"4.680000000000001\" style=\"font-family: 'Open Sans', verdana, arial, sans-serif; font-size: 12px; fill: rgb(42, 63, 95); fill-opacity: 1; white-space: pre;\">trace 16</text><g class=\"layers\" style=\"opacity: 1;\"><g class=\"legendfill\"/><g class=\"legendlines\"><path class=\"js-line\" d=\"M5,0h30\" style=\"fill: none; stroke: rgb(0, 0, 0); stroke-opacity: 1; stroke-width: 2px;\"/></g><g class=\"legendsymbols\"><g class=\"legendpoints\"/></g></g><rect class=\"legendtoggle\" x=\"0\" y=\"-9.5\" width=\"90.09375\" height=\"19\" style=\"fill: rgb(0, 0, 0); fill-opacity: 0;\"/></g><g class=\"traces\" transform=\"translate(0,318.5)\" style=\"opacity: 1;\"><text class=\"legendtext\" text-anchor=\"start\" x=\"40\" y=\"4.680000000000001\" style=\"font-family: 'Open Sans', verdana, arial, sans-serif; font-size: 12px; fill: rgb(42, 63, 95); fill-opacity: 1; white-space: pre;\">trace 17</text><g class=\"layers\" style=\"opacity: 1;\"><g class=\"legendfill\"/><g class=\"legendlines\"><path class=\"js-line\" d=\"M5,0h30\" style=\"fill: none; stroke: rgb(0, 0, 0); stroke-opacity: 1; stroke-width: 2px;\"/></g><g class=\"legendsymbols\"><g class=\"legendpoints\"/></g></g><rect class=\"legendtoggle\" x=\"0\" y=\"-9.5\" width=\"90.09375\" height=\"19\" style=\"fill: rgb(0, 0, 0); fill-opacity: 0;\"/></g><g class=\"traces\" transform=\"translate(0,337.5)\" style=\"opacity: 1;\"><text class=\"legendtext\" text-anchor=\"start\" x=\"40\" y=\"4.680000000000001\" style=\"font-family: 'Open Sans', verdana, arial, sans-serif; font-size: 12px; fill: rgb(42, 63, 95); fill-opacity: 1; white-space: pre;\">trace 18</text><g class=\"layers\" style=\"opacity: 1;\"><g class=\"legendfill\"/><g class=\"legendlines\"><path class=\"js-line\" d=\"M5,0h30\" style=\"fill: none; stroke: rgb(0, 0, 0); stroke-opacity: 1; stroke-width: 2px;\"/></g><g class=\"legendsymbols\"><g class=\"legendpoints\"/></g></g><rect class=\"legendtoggle\" x=\"0\" y=\"-9.5\" width=\"90.09375\" height=\"19\" style=\"fill: rgb(0, 0, 0); fill-opacity: 0;\"/></g><g class=\"traces\" transform=\"translate(0,356.5)\" style=\"opacity: 1;\"><text class=\"legendtext\" text-anchor=\"start\" x=\"40\" y=\"4.680000000000001\" style=\"font-family: 'Open Sans', verdana, arial, sans-serif; font-size: 12px; fill: rgb(42, 63, 95); fill-opacity: 1; white-space: pre;\">trace 19</text><g class=\"layers\" style=\"opacity: 1;\"><g class=\"legendfill\"/><g class=\"legendlines\"><path class=\"js-line\" d=\"M5,0h30\" style=\"fill: none; stroke: rgb(0, 0, 0); stroke-opacity: 1; stroke-width: 2px;\"/></g><g class=\"legendsymbols\"><g class=\"legendpoints\"/></g></g><rect class=\"legendtoggle\" x=\"0\" y=\"-9.5\" width=\"90.09375\" height=\"19\" style=\"fill: rgb(0, 0, 0); fill-opacity: 0;\"/></g><g class=\"traces\" transform=\"translate(0,375.5)\" style=\"opacity: 1;\"><text class=\"legendtext\" text-anchor=\"start\" x=\"40\" y=\"4.680000000000001\" style=\"font-family: 'Open Sans', verdana, arial, sans-serif; font-size: 12px; fill: rgb(42, 63, 95); fill-opacity: 1; white-space: pre;\">trace 20</text><g class=\"layers\" style=\"opacity: 1;\"><g class=\"legendfill\"/><g class=\"legendlines\"><path class=\"js-line\" d=\"M5,0h30\" style=\"fill: none; stroke: rgb(0, 0, 0); stroke-opacity: 1; stroke-width: 2px;\"/></g><g class=\"legendsymbols\"><g class=\"legendpoints\"/></g></g><rect class=\"legendtoggle\" x=\"0\" y=\"-9.5\" width=\"90.09375\" height=\"19\" style=\"fill: rgb(0, 0, 0); fill-opacity: 0;\"/></g><g class=\"traces\" transform=\"translate(0,394.5)\" style=\"opacity: 1;\"><text class=\"legendtext\" text-anchor=\"start\" x=\"40\" y=\"4.680000000000001\" style=\"font-family: 'Open Sans', verdana, arial, sans-serif; font-size: 12px; fill: rgb(42, 63, 95); fill-opacity: 1; white-space: pre;\">trace 21</text><g class=\"layers\" style=\"opacity: 1;\"><g class=\"legendfill\"/><g class=\"legendlines\"><path class=\"js-line\" d=\"M5,0h30\" style=\"fill: none; stroke: rgb(0, 0, 0); stroke-opacity: 1; stroke-width: 2px;\"/></g><g class=\"legendsymbols\"><g class=\"legendpoints\"/></g></g><rect class=\"legendtoggle\" x=\"0\" y=\"-9.5\" width=\"90.09375\" height=\"19\" style=\"fill: rgb(0, 0, 0); fill-opacity: 0;\"/></g><g class=\"traces\" transform=\"translate(0,413.5)\" style=\"opacity: 1;\"><text class=\"legendtext\" text-anchor=\"start\" x=\"40\" y=\"4.680000000000001\" style=\"font-family: 'Open Sans', verdana, arial, sans-serif; font-size: 12px; fill: rgb(42, 63, 95); fill-opacity: 1; white-space: pre;\">trace 22</text><g class=\"layers\" style=\"opacity: 1;\"><g class=\"legendfill\"/><g class=\"legendlines\"><path class=\"js-line\" d=\"M5,0h30\" style=\"fill: none; stroke: rgb(0, 0, 0); stroke-opacity: 1; stroke-width: 2px;\"/></g><g class=\"legendsymbols\"><g class=\"legendpoints\"/></g></g><rect class=\"legendtoggle\" x=\"0\" y=\"-9.5\" width=\"90.09375\" height=\"19\" style=\"fill: rgb(0, 0, 0); fill-opacity: 0;\"/></g><g class=\"traces\" transform=\"translate(0,432.5)\" style=\"opacity: 1;\"><text class=\"legendtext\" text-anchor=\"start\" x=\"40\" y=\"4.680000000000001\" style=\"font-family: 'Open Sans', verdana, arial, sans-serif; font-size: 12px; fill: rgb(42, 63, 95); fill-opacity: 1; white-space: pre;\">trace 23</text><g class=\"layers\" style=\"opacity: 1;\"><g class=\"legendfill\"/><g class=\"legendlines\"><path class=\"js-line\" d=\"M5,0h30\" style=\"fill: none; stroke: rgb(0, 0, 0); stroke-opacity: 1; stroke-width: 2px;\"/></g><g class=\"legendsymbols\"><g class=\"legendpoints\"/></g></g><rect class=\"legendtoggle\" x=\"0\" y=\"-9.5\" width=\"90.09375\" height=\"19\" style=\"fill: rgb(0, 0, 0); fill-opacity: 0;\"/></g><g class=\"traces\" transform=\"translate(0,451.5)\" style=\"opacity: 1;\"><text class=\"legendtext\" text-anchor=\"start\" x=\"40\" y=\"4.680000000000001\" style=\"font-family: 'Open Sans', verdana, arial, sans-serif; font-size: 12px; fill: rgb(42, 63, 95); fill-opacity: 1; white-space: pre;\">trace 24</text><g class=\"layers\" style=\"opacity: 1;\"><g class=\"legendfill\"/><g class=\"legendlines\"><path class=\"js-line\" d=\"M5,0h30\" style=\"fill: none; stroke: rgb(0, 0, 0); stroke-opacity: 1; stroke-width: 2px;\"/></g><g class=\"legendsymbols\"><g class=\"legendpoints\"/></g></g><rect class=\"legendtoggle\" x=\"0\" y=\"-9.5\" width=\"90.09375\" height=\"19\" style=\"fill: rgb(0, 0, 0); fill-opacity: 0;\"/></g><g class=\"traces\" transform=\"translate(0,470.5)\" style=\"opacity: 1;\"><text class=\"legendtext\" text-anchor=\"start\" x=\"40\" y=\"4.680000000000001\" style=\"font-family: 'Open Sans', verdana, arial, sans-serif; font-size: 12px; fill: rgb(42, 63, 95); fill-opacity: 1; white-space: pre;\">trace 25</text><g class=\"layers\" style=\"opacity: 1;\"><g class=\"legendfill\"/><g class=\"legendlines\"><path class=\"js-line\" d=\"M5,0h30\" style=\"fill: none; stroke: rgb(0, 0, 0); stroke-opacity: 1; stroke-width: 2px;\"/></g><g class=\"legendsymbols\"><g class=\"legendpoints\"/></g></g><rect class=\"legendtoggle\" x=\"0\" y=\"-9.5\" width=\"90.09375\" height=\"19\" style=\"fill: rgb(0, 0, 0); fill-opacity: 0;\"/></g><g class=\"traces\" transform=\"translate(0,489.5)\" style=\"opacity: 1;\"><text class=\"legendtext\" text-anchor=\"start\" x=\"40\" y=\"4.680000000000001\" style=\"font-family: 'Open Sans', verdana, arial, sans-serif; font-size: 12px; fill: rgb(42, 63, 95); fill-opacity: 1; white-space: pre;\">trace 26</text><g class=\"layers\" style=\"opacity: 1;\"><g class=\"legendfill\"/><g class=\"legendlines\"><path class=\"js-line\" d=\"M5,0h30\" style=\"fill: none; stroke: rgb(0, 0, 0); stroke-opacity: 1; stroke-width: 2px;\"/></g><g class=\"legendsymbols\"><g class=\"legendpoints\"/></g></g><rect class=\"legendtoggle\" x=\"0\" y=\"-9.5\" width=\"90.09375\" height=\"19\" style=\"fill: rgb(0, 0, 0); fill-opacity: 0;\"/></g><g class=\"traces\" transform=\"translate(0,508.5)\" style=\"opacity: 1;\"><text class=\"legendtext\" text-anchor=\"start\" x=\"40\" y=\"4.680000000000001\" style=\"font-family: 'Open Sans', verdana, arial, sans-serif; font-size: 12px; fill: rgb(42, 63, 95); fill-opacity: 1; white-space: pre;\">trace 27</text><g class=\"layers\" style=\"opacity: 1;\"><g class=\"legendfill\"/><g class=\"legendlines\"><path class=\"js-line\" d=\"M5,0h30\" style=\"fill: none; stroke: rgb(0, 0, 0); stroke-opacity: 1; stroke-width: 2px;\"/></g><g class=\"legendsymbols\"><g class=\"legendpoints\"/></g></g><rect class=\"legendtoggle\" x=\"0\" y=\"-9.5\" width=\"90.09375\" height=\"19\" style=\"fill: rgb(0, 0, 0); fill-opacity: 0;\"/></g><g class=\"traces\" transform=\"translate(0,527.5)\" style=\"opacity: 1;\"><text class=\"legendtext\" text-anchor=\"start\" x=\"40\" y=\"4.680000000000001\" style=\"font-family: 'Open Sans', verdana, arial, sans-serif; font-size: 12px; fill: rgb(42, 63, 95); fill-opacity: 1; white-space: pre;\">trace 28</text><g class=\"layers\" style=\"opacity: 1;\"><g class=\"legendfill\"/><g class=\"legendlines\"><path class=\"js-line\" d=\"M5,0h30\" style=\"fill: none; stroke: rgb(0, 0, 0); stroke-opacity: 1; stroke-width: 2px;\"/></g><g class=\"legendsymbols\"><g class=\"legendpoints\"/></g></g><rect class=\"legendtoggle\" x=\"0\" y=\"-9.5\" width=\"90.09375\" height=\"19\" style=\"fill: rgb(0, 0, 0); fill-opacity: 0;\"/></g><g class=\"traces\" transform=\"translate(0,546.5)\" style=\"opacity: 1;\"><text class=\"legendtext\" text-anchor=\"start\" x=\"40\" y=\"4.680000000000001\" style=\"font-family: 'Open Sans', verdana, arial, sans-serif; font-size: 12px; fill: rgb(42, 63, 95); fill-opacity: 1; white-space: pre;\">trace 29</text><g class=\"layers\" style=\"opacity: 1;\"><g class=\"legendfill\"/><g class=\"legendlines\"><path class=\"js-line\" d=\"M5,0h30\" style=\"fill: none; stroke: rgb(0, 0, 0); stroke-opacity: 1; stroke-width: 2px;\"/></g><g class=\"legendsymbols\"><g class=\"legendpoints\"/></g></g><rect class=\"legendtoggle\" x=\"0\" y=\"-9.5\" width=\"90.09375\" height=\"19\" style=\"fill: rgb(0, 0, 0); fill-opacity: 0;\"/></g><g class=\"traces\" transform=\"translate(0,565.5)\" style=\"opacity: 1;\"><text class=\"legendtext\" text-anchor=\"start\" x=\"40\" y=\"4.680000000000001\" style=\"font-family: 'Open Sans', verdana, arial, sans-serif; font-size: 12px; fill: rgb(42, 63, 95); fill-opacity: 1; white-space: pre;\">trace 30</text><g class=\"layers\" style=\"opacity: 1;\"><g class=\"legendfill\"/><g class=\"legendlines\"><path class=\"js-line\" d=\"M5,0h30\" style=\"fill: none; stroke: rgb(0, 0, 0); stroke-opacity: 1; stroke-width: 2px;\"/></g><g class=\"legendsymbols\"><g class=\"legendpoints\"/></g></g><rect class=\"legendtoggle\" x=\"0\" y=\"-9.5\" width=\"90.09375\" height=\"19\" style=\"fill: rgb(0, 0, 0); fill-opacity: 0;\"/></g><g class=\"traces\" transform=\"translate(0,584.5)\" style=\"opacity: 1;\"><text class=\"legendtext\" text-anchor=\"start\" x=\"40\" y=\"4.680000000000001\" style=\"font-family: 'Open Sans', verdana, arial, sans-serif; font-size: 12px; fill: rgb(42, 63, 95); fill-opacity: 1; white-space: pre;\">trace 31</text><g class=\"layers\" style=\"opacity: 1;\"><g class=\"legendfill\"/><g class=\"legendlines\"><path class=\"js-line\" d=\"M5,0h30\" style=\"fill: none; stroke: rgb(0, 0, 0); stroke-opacity: 1; stroke-width: 2px;\"/></g><g class=\"legendsymbols\"><g class=\"legendpoints\"/></g></g><rect class=\"legendtoggle\" x=\"0\" y=\"-9.5\" width=\"90.09375\" height=\"19\" style=\"fill: rgb(0, 0, 0); fill-opacity: 0;\"/></g><g class=\"traces\" transform=\"translate(0,603.5)\" style=\"opacity: 1;\"><text class=\"legendtext\" text-anchor=\"start\" x=\"40\" y=\"4.680000000000001\" style=\"font-family: 'Open Sans', verdana, arial, sans-serif; font-size: 12px; fill: rgb(42, 63, 95); fill-opacity: 1; white-space: pre;\">trace 32</text><g class=\"layers\" style=\"opacity: 1;\"><g class=\"legendfill\"/><g class=\"legendlines\"><path class=\"js-line\" d=\"M5,0h30\" style=\"fill: none; stroke: rgb(0, 0, 0); stroke-opacity: 1; stroke-width: 2px;\"/></g><g class=\"legendsymbols\"><g class=\"legendpoints\"/></g></g><rect class=\"legendtoggle\" x=\"0\" y=\"-9.5\" width=\"90.09375\" height=\"19\" style=\"fill: rgb(0, 0, 0); fill-opacity: 0;\"/></g><g class=\"traces\" transform=\"translate(0,622.5)\" style=\"opacity: 1;\"><text class=\"legendtext\" text-anchor=\"start\" x=\"40\" y=\"4.680000000000001\" style=\"font-family: 'Open Sans', verdana, arial, sans-serif; font-size: 12px; fill: rgb(42, 63, 95); fill-opacity: 1; white-space: pre;\">trace 33</text><g class=\"layers\" style=\"opacity: 1;\"><g class=\"legendfill\"/><g class=\"legendlines\"><path class=\"js-line\" d=\"M5,0h30\" style=\"fill: none; stroke: rgb(0, 0, 0); stroke-opacity: 1; stroke-width: 2px;\"/></g><g class=\"legendsymbols\"><g class=\"legendpoints\"/></g></g><rect class=\"legendtoggle\" x=\"0\" y=\"-9.5\" width=\"90.09375\" height=\"19\" style=\"fill: rgb(0, 0, 0); fill-opacity: 0;\"/></g><g class=\"traces\" transform=\"translate(0,641.5)\" style=\"opacity: 1;\"><text class=\"legendtext\" text-anchor=\"start\" x=\"40\" y=\"4.680000000000001\" style=\"font-family: 'Open Sans', verdana, arial, sans-serif; font-size: 12px; fill: rgb(42, 63, 95); fill-opacity: 1; white-space: pre;\">trace 34</text><g class=\"layers\" style=\"opacity: 1;\"><g class=\"legendfill\"/><g class=\"legendlines\"><path class=\"js-line\" d=\"M5,0h30\" style=\"fill: none; stroke: rgb(0, 0, 0); stroke-opacity: 1; stroke-width: 2px;\"/></g><g class=\"legendsymbols\"><g class=\"legendpoints\"/></g></g><rect class=\"legendtoggle\" x=\"0\" y=\"-9.5\" width=\"90.09375\" height=\"19\" style=\"fill: rgb(0, 0, 0); fill-opacity: 0;\"/></g><g class=\"traces\" transform=\"translate(0,660.5)\" style=\"opacity: 1;\"><text class=\"legendtext\" text-anchor=\"start\" x=\"40\" y=\"4.680000000000001\" style=\"font-family: 'Open Sans', verdana, arial, sans-serif; font-size: 12px; fill: rgb(42, 63, 95); fill-opacity: 1; white-space: pre;\">trace 35</text><g class=\"layers\" style=\"opacity: 1;\"><g class=\"legendfill\"/><g class=\"legendlines\"><path class=\"js-line\" d=\"M5,0h30\" style=\"fill: none; stroke: rgb(0, 0, 0); stroke-opacity: 1; stroke-width: 2px;\"/></g><g class=\"legendsymbols\"><g class=\"legendpoints\"/></g></g><rect class=\"legendtoggle\" x=\"0\" y=\"-9.5\" width=\"90.09375\" height=\"19\" style=\"fill: rgb(0, 0, 0); fill-opacity: 0;\"/></g><g class=\"traces\" transform=\"translate(0,679.5)\" style=\"opacity: 1;\"><text class=\"legendtext\" text-anchor=\"start\" x=\"40\" y=\"4.680000000000001\" style=\"font-family: 'Open Sans', verdana, arial, sans-serif; font-size: 12px; fill: rgb(42, 63, 95); fill-opacity: 1; white-space: pre;\">trace 36</text><g class=\"layers\" style=\"opacity: 1;\"><g class=\"legendfill\"/><g class=\"legendlines\"><path class=\"js-line\" d=\"M5,0h30\" style=\"fill: none; stroke: rgb(0, 0, 0); stroke-opacity: 1; stroke-width: 2px;\"/></g><g class=\"legendsymbols\"><g class=\"legendpoints\"/></g></g><rect class=\"legendtoggle\" x=\"0\" y=\"-9.5\" width=\"90.09375\" height=\"19\" style=\"fill: rgb(0, 0, 0); fill-opacity: 0;\"/></g><g class=\"traces\" transform=\"translate(0,698.5)\" style=\"opacity: 1;\"><text class=\"legendtext\" text-anchor=\"start\" x=\"40\" y=\"4.680000000000001\" style=\"font-family: 'Open Sans', verdana, arial, sans-serif; font-size: 12px; fill: rgb(42, 63, 95); fill-opacity: 1; white-space: pre;\">trace 37</text><g class=\"layers\" style=\"opacity: 1;\"><g class=\"legendfill\"/><g class=\"legendlines\"><path class=\"js-line\" d=\"M5,0h30\" style=\"fill: none; stroke: rgb(0, 0, 0); stroke-opacity: 1; stroke-width: 2px;\"/></g><g class=\"legendsymbols\"><g class=\"legendpoints\"/></g></g><rect class=\"legendtoggle\" x=\"0\" y=\"-9.5\" width=\"90.09375\" height=\"19\" style=\"fill: rgb(0, 0, 0); fill-opacity: 0;\"/></g><g class=\"traces\" transform=\"translate(0,717.5)\" style=\"opacity: 1;\"><text class=\"legendtext\" text-anchor=\"start\" x=\"40\" y=\"4.680000000000001\" style=\"font-family: 'Open Sans', verdana, arial, sans-serif; font-size: 12px; fill: rgb(42, 63, 95); fill-opacity: 1; white-space: pre;\">trace 38</text><g class=\"layers\" style=\"opacity: 1;\"><g class=\"legendfill\"/><g class=\"legendlines\"><path class=\"js-line\" d=\"M5,0h30\" style=\"fill: none; stroke: rgb(0, 0, 0); stroke-opacity: 1; stroke-width: 2px;\"/></g><g class=\"legendsymbols\"><g class=\"legendpoints\"/></g></g><rect class=\"legendtoggle\" x=\"0\" y=\"-9.5\" width=\"90.09375\" height=\"19\" style=\"fill: rgb(0, 0, 0); fill-opacity: 0;\"/></g><g class=\"traces\" transform=\"translate(0,736.5)\" style=\"opacity: 1;\"><text class=\"legendtext\" text-anchor=\"start\" x=\"40\" y=\"4.680000000000001\" style=\"font-family: 'Open Sans', verdana, arial, sans-serif; font-size: 12px; fill: rgb(42, 63, 95); fill-opacity: 1; white-space: pre;\">trace 39</text><g class=\"layers\" style=\"opacity: 1;\"><g class=\"legendfill\"/><g class=\"legendlines\"><path class=\"js-line\" d=\"M5,0h30\" style=\"fill: none; stroke: rgb(0, 0, 0); stroke-opacity: 1; stroke-width: 2px;\"/></g><g class=\"legendsymbols\"><g class=\"legendpoints\"/></g></g><rect class=\"legendtoggle\" x=\"0\" y=\"-9.5\" width=\"90.09375\" height=\"19\" style=\"fill: rgb(0, 0, 0); fill-opacity: 0;\"/></g><g class=\"traces\" transform=\"translate(0,755.5)\" style=\"opacity: 1;\"><text class=\"legendtext\" text-anchor=\"start\" x=\"40\" y=\"4.680000000000001\" style=\"font-family: 'Open Sans', verdana, arial, sans-serif; font-size: 12px; fill: rgb(42, 63, 95); fill-opacity: 1; white-space: pre;\">trace 40</text><g class=\"layers\" style=\"opacity: 1;\"><g class=\"legendfill\"/><g class=\"legendlines\"><path class=\"js-line\" d=\"M5,0h30\" style=\"fill: none; stroke: rgb(0, 0, 0); stroke-opacity: 1; stroke-width: 2px;\"/></g><g class=\"legendsymbols\"><g class=\"legendpoints\"/></g></g><rect class=\"legendtoggle\" x=\"0\" y=\"-9.5\" width=\"90.09375\" height=\"19\" style=\"fill: rgb(0, 0, 0); fill-opacity: 0;\"/></g><g class=\"traces\" transform=\"translate(0,774.5)\" style=\"opacity: 1;\"><text class=\"legendtext\" text-anchor=\"start\" x=\"40\" y=\"4.680000000000001\" style=\"font-family: 'Open Sans', verdana, arial, sans-serif; font-size: 12px; fill: rgb(42, 63, 95); fill-opacity: 1; white-space: pre;\">trace 41</text><g class=\"layers\" style=\"opacity: 1;\"><g class=\"legendfill\"/><g class=\"legendlines\"><path class=\"js-line\" d=\"M5,0h30\" style=\"fill: none; stroke: rgb(0, 0, 0); stroke-opacity: 1; stroke-width: 2px;\"/></g><g class=\"legendsymbols\"><g class=\"legendpoints\"/></g></g><rect class=\"legendtoggle\" x=\"0\" y=\"-9.5\" width=\"90.09375\" height=\"19\" style=\"fill: rgb(0, 0, 0); fill-opacity: 0;\"/></g><g class=\"traces\" transform=\"translate(0,793.5)\" style=\"opacity: 1;\"><text class=\"legendtext\" text-anchor=\"start\" x=\"40\" y=\"4.680000000000001\" style=\"font-family: 'Open Sans', verdana, arial, sans-serif; font-size: 12px; fill: rgb(42, 63, 95); fill-opacity: 1; white-space: pre;\">trace 42</text><g class=\"layers\" style=\"opacity: 1;\"><g class=\"legendfill\"/><g class=\"legendlines\"><path class=\"js-line\" d=\"M5,0h30\" style=\"fill: none; stroke: rgb(0, 0, 0); stroke-opacity: 1; stroke-width: 2px;\"/></g><g class=\"legendsymbols\"><g class=\"legendpoints\"/></g></g><rect class=\"legendtoggle\" x=\"0\" y=\"-9.5\" width=\"90.09375\" height=\"19\" style=\"fill: rgb(0, 0, 0); fill-opacity: 0;\"/></g><g class=\"traces\" transform=\"translate(0,812.5)\" style=\"opacity: 1;\"><text class=\"legendtext\" text-anchor=\"start\" x=\"40\" y=\"4.680000000000001\" style=\"font-family: 'Open Sans', verdana, arial, sans-serif; font-size: 12px; fill: rgb(42, 63, 95); fill-opacity: 1; white-space: pre;\">trace 43</text><g class=\"layers\" style=\"opacity: 1;\"><g class=\"legendfill\"/><g class=\"legendlines\"><path class=\"js-line\" d=\"M5,0h30\" style=\"fill: none; stroke: rgb(0, 0, 0); stroke-opacity: 1; stroke-width: 2px;\"/></g><g class=\"legendsymbols\"><g class=\"legendpoints\"/></g></g><rect class=\"legendtoggle\" x=\"0\" y=\"-9.5\" width=\"90.09375\" height=\"19\" style=\"fill: rgb(0, 0, 0); fill-opacity: 0;\"/></g><g class=\"traces\" transform=\"translate(0,831.5)\" style=\"opacity: 1;\"><text class=\"legendtext\" text-anchor=\"start\" x=\"40\" y=\"4.680000000000001\" style=\"font-family: 'Open Sans', verdana, arial, sans-serif; font-size: 12px; fill: rgb(42, 63, 95); fill-opacity: 1; white-space: pre;\">trace 44</text><g class=\"layers\" style=\"opacity: 1;\"><g class=\"legendfill\"/><g class=\"legendlines\"><path class=\"js-line\" d=\"M5,0h30\" style=\"fill: none; stroke: rgb(0, 0, 0); stroke-opacity: 1; stroke-width: 2px;\"/></g><g class=\"legendsymbols\"><g class=\"legendpoints\"/></g></g><rect class=\"legendtoggle\" x=\"0\" y=\"-9.5\" width=\"90.09375\" height=\"19\" style=\"fill: rgb(0, 0, 0); fill-opacity: 0;\"/></g><g class=\"traces\" transform=\"translate(0,850.5)\" style=\"opacity: 1;\"><text class=\"legendtext\" text-anchor=\"start\" x=\"40\" y=\"4.680000000000001\" style=\"font-family: 'Open Sans', verdana, arial, sans-serif; font-size: 12px; fill: rgb(42, 63, 95); fill-opacity: 1; white-space: pre;\">trace 45</text><g class=\"layers\" style=\"opacity: 1;\"><g class=\"legendfill\"/><g class=\"legendlines\"><path class=\"js-line\" d=\"M5,0h30\" style=\"fill: none; stroke: rgb(0, 0, 0); stroke-opacity: 1; stroke-width: 2px;\"/></g><g class=\"legendsymbols\"><g class=\"legendpoints\"/></g></g><rect class=\"legendtoggle\" x=\"0\" y=\"-9.5\" width=\"90.09375\" height=\"19\" style=\"fill: rgb(0, 0, 0); fill-opacity: 0;\"/></g><g class=\"traces\" transform=\"translate(0,869.5)\" style=\"opacity: 1;\"><text class=\"legendtext\" text-anchor=\"start\" x=\"40\" y=\"4.680000000000001\" style=\"font-family: 'Open Sans', verdana, arial, sans-serif; font-size: 12px; fill: rgb(42, 63, 95); fill-opacity: 1; white-space: pre;\">trace 46</text><g class=\"layers\" style=\"opacity: 1;\"><g class=\"legendfill\"/><g class=\"legendlines\"/><g class=\"legendsymbols\"><g class=\"legendpoints\"><path class=\"scatterpts\" transform=\"translate(20,0)\" d=\"M2,0A2,2 0 1,1 0,-2A2,2 0 0,1 2,0Z\" style=\"opacity: 1; stroke-width: 0px; fill: rgb(0, 230, 255); fill-opacity: 1;\"/><g class=\"pointtext\" transform=\"translate(0,12.25)\"><text transform=\"translate(20,0)\" x=\"0\" y=\"0\" text-anchor=\"middle\" style=\"font-family: 'Open Sans', verdana, arial, sans-serif; font-size: 10px; fill: rgb(42, 63, 95); fill-opacity: 1; white-space: pre;\">Aa</text></g></g></g></g><rect class=\"legendtoggle\" x=\"0\" y=\"-9.5\" width=\"90.09375\" height=\"19\" style=\"fill: rgb(0, 0, 0); fill-opacity: 0;\"/></g></g></g><rect class=\"scrollbar\" rx=\"20\" ry=\"3\" width=\"0\" height=\"0\" x=\"0\" y=\"0\" style=\"fill: rgb(128, 139, 164); fill-opacity: 1;\"/></g><g class=\"g-gtitle\"/></g></svg>",
      "text/html": [
       "<div\n",
       "    class=\"webio-mountpoint\"\n",
       "    data-webio-mountpoint=\"14567002591292267615\"\n",
       ">\n",
       "    <script>\n",
       "    (function(){\n",
       "    // Some integrations (namely, IJulia/Jupyter) use an alternate render pathway than\n",
       "    // just putting the html on the page. If WebIO isn't defined, then it's pretty likely\n",
       "    // that we're in one of those situations and the integration just isn't installed\n",
       "    // correctly.\n",
       "    if (typeof window.WebIO === \"undefined\") {\n",
       "        document\n",
       "            .querySelector('[data-webio-mountpoint=\"14567002591292267615\"]')\n",
       "            .innerHTML = (\n",
       "                '<div style=\"padding: 1em; background-color: #f8d6da; border: 1px solid #f5c6cb; font-weight: bold;\">' +\n",
       "                '<p><strong>WebIO not detected.</strong></p>' +\n",
       "                '<p>Please read ' +\n",
       "                '<a href=\"https://juliagizmos.github.io/WebIO.jl/latest/troubleshooting/not-detected/\" target=\"_blank\">the troubleshooting guide</a> ' +\n",
       "                'for more information on how to resolve this issue.</p>' +\n",
       "                '<p><a href=\"https://juliagizmos.github.io/WebIO.jl/latest/troubleshooting/not-detected/\" target=\"_blank\">https://juliagizmos.github.io/WebIO.jl/latest/troubleshooting/not-detected/</a></p>' +\n",
       "                '</div>'\n",
       "            );\n",
       "        return;\n",
       "    }\n",
       "    WebIO.mount(\n",
       "        document.querySelector('[data-webio-mountpoint=\"14567002591292267615\"]'),\n",
       "        {\"props\":{},\"nodeType\":\"Scope\",\"type\":\"node\",\"instanceArgs\":{\"imports\":{\"data\":[{\"name\":\"Plotly\",\"type\":\"js\",\"url\":\"\\/assetserver\\/d18d62e3d860f95bdd778d5ce0d98356c8e8cd70-plotly.min.js\"},{\"name\":null,\"type\":\"js\",\"url\":\"\\/assetserver\\/3ce237707c6799d71e862d9d30b4d1f68d73bd38-plotly_webio.bundle.js\"}],\"type\":\"async_block\"},\"id\":\"9724929158026170277\",\"handlers\":{\"_toImage\":[\"(function (options){return this.Plotly.toImage(this.plotElem,options).then((function (data){return WebIO.setval({\\\"name\\\":\\\"image\\\",\\\"scope\\\":\\\"9724929158026170277\\\",\\\"id\\\":\\\"4439402247122821049\\\",\\\"type\\\":\\\"observable\\\"},data)}))})\"],\"__get_gd_contents\":[\"(function (prop){prop==\\\"data\\\" ? (WebIO.setval({\\\"name\\\":\\\"__gd_contents\\\",\\\"scope\\\":\\\"9724929158026170277\\\",\\\"id\\\":\\\"8209333915626149306\\\",\\\"type\\\":\\\"observable\\\"},this.plotElem.data)) : undefined; return prop==\\\"layout\\\" ? (WebIO.setval({\\\"name\\\":\\\"__gd_contents\\\",\\\"scope\\\":\\\"9724929158026170277\\\",\\\"id\\\":\\\"8209333915626149306\\\",\\\"type\\\":\\\"observable\\\"},this.plotElem.layout)) : undefined})\"],\"_downloadImage\":[\"(function (options){return this.Plotly.downloadImage(this.plotElem,options)})\"],\"_commands\":[\"(function (args){var fn=args.shift(); var elem=this.plotElem; var Plotly=this.Plotly; args.unshift(elem); return Plotly[fn].apply(this,args)})\"]},\"systemjs_options\":null,\"mount_callbacks\":[\"function () {\\n    var handler = ((function (Plotly,PlotlyWebIO){PlotlyWebIO.init(WebIO); var gd=this.dom.querySelector(\\\"#plot-c2fd23fa-ea35-43bf-9cbe-65975141be00\\\"); this.plotElem=gd; this.Plotly=Plotly; (window.Blink!==undefined) ? (gd.style.width=\\\"100%\\\", gd.style.height=\\\"100vh\\\", gd.style.marginLeft=\\\"0%\\\", gd.style.marginTop=\\\"0vh\\\") : undefined; window.onresize=(function (){return Plotly.Plots.resize(gd)}); Plotly.newPlot(gd,[{\\\"y\\\":[0.0,1.41202,0.872678,0.872678,-1.41202,-0.872678,-0.872678,0.0,1.41202,0.872678,0.872678,-1.41202,-0.872678,-0.872678,0.539345,-0.539345,-0.539345],\\\"type\\\":\\\"mesh3d\\\",\\\"j\\\":[2,3,5,6,9,10,12,13,1,8,1,8,14,4,11,15,4,11,16,5,0,6,14,12,7,13,14,2,9,9],\\\"k\\\":[1,0,4,0,8,7,11,7,8,9,8,10,3,11,12,5,11,13,6,15,6,16,3,15,13,16,10,5,12,15],\\\"opacity\\\":0.6,\\\"z\\\":[1.41202,0.539345,0.872678,0.872678,0.539345,0.872678,0.872678,-1.41202,-0.539345,-0.872678,-0.872678,-0.539345,-0.872678,-0.872678,0.0,0.0,0.0],\\\"i\\\":[0,1,0,4,7,8,7,11,2,2,3,3,10,5,5,12,6,6,13,2,3,3,16,9,10,10,16,0,7,2],\\\"facecolor\\\":[\\\"#00E6FF\\\",\\\"#00E6FF\\\",\\\"#00E6FF\\\",\\\"#00E6FF\\\",\\\"#00E6FF\\\",\\\"#00E6FF\\\",\\\"#00E6FF\\\",\\\"#00E6FF\\\",\\\"#00E6FF\\\",\\\"#00E6FF\\\",\\\"#00E6FF\\\",\\\"#00E6FF\\\",\\\"#00E6FF\\\",\\\"#00E6FF\\\",\\\"#00E6FF\\\",\\\"#00E6FF\\\",\\\"#00E6FF\\\",\\\"#00E6FF\\\",\\\"#00E6FF\\\",\\\"#00E6FF\\\",\\\"#00E6FF\\\",\\\"#00E6FF\\\",\\\"#00E6FF\\\",\\\"#00E6FF\\\",\\\"#00E6FF\\\",\\\"#00E6FF\\\",\\\"#00E6FF\\\",\\\"#00E6FF\\\",\\\"#00E6FF\\\",\\\"#00E6FF\\\"],\\\"x\\\":[-0.539345,0.0,0.872678,-0.872678,0.0,0.872678,-0.872678,-0.539345,0.0,0.872678,-0.872678,0.0,0.872678,-0.872678,-1.41202,1.41202,-1.41202]},{\\\"mode\\\":\\\"lines\\\",\\\"line\\\":{\\\"color\\\":\\\"black\\\"},\\\"y\\\":[0.0,0.872678],\\\"type\\\":\\\"scatter3d\\\",\\\"z\\\":[1.41202,0.872678],\\\"x\\\":[-0.539345,-0.872678]},{\\\"mode\\\":\\\"lines\\\",\\\"line\\\":{\\\"color\\\":\\\"black\\\"},\\\"y\\\":[0.0,-0.872678],\\\"type\\\":\\\"scatter3d\\\",\\\"z\\\":[1.41202,0.872678],\\\"x\\\":[-0.539345,-0.872678]},{\\\"mode\\\":\\\"lines\\\",\\\"line\\\":{\\\"color\\\":\\\"black\\\"},\\\"y\\\":[1.41202,0.872678],\\\"type\\\":\\\"scatter3d\\\",\\\"z\\\":[0.539345,0.872678],\\\"x\\\":[0.0,0.872678]},{\\\"mode\\\":\\\"lines\\\",\\\"line\\\":{\\\"color\\\":\\\"black\\\"},\\\"y\\\":[1.41202,0.872678],\\\"type\\\":\\\"scatter3d\\\",\\\"z\\\":[0.539345,0.872678],\\\"x\\\":[0.0,-0.872678]},{\\\"mode\\\":\\\"lines\\\",\\\"line\\\":{\\\"color\\\":\\\"black\\\"},\\\"y\\\":[1.41202,1.41202],\\\"type\\\":\\\"scatter3d\\\",\\\"z\\\":[0.539345,-0.539345],\\\"x\\\":[0.0,0.0]},{\\\"mode\\\":\\\"lines\\\",\\\"line\\\":{\\\"color\\\":\\\"black\\\"},\\\"y\\\":[0.872678,0.539345],\\\"type\\\":\\\"scatter3d\\\",\\\"z\\\":[0.872678,0.0],\\\"x\\\":[-0.872678,-1.41202]},{\\\"mode\\\":\\\"lines\\\",\\\"line\\\":{\\\"color\\\":\\\"black\\\"},\\\"y\\\":[-1.41202,-0.872678],\\\"type\\\":\\\"scatter3d\\\",\\\"z\\\":[0.539345,0.872678],\\\"x\\\":[0.0,0.872678]},{\\\"mode\\\":\\\"lines\\\",\\\"line\\\":{\\\"color\\\":\\\"black\\\"},\\\"y\\\":[-1.41202,-0.872678],\\\"type\\\":\\\"scatter3d\\\",\\\"z\\\":[0.539345,0.872678],\\\"x\\\":[0.0,-0.872678]},{\\\"mode\\\":\\\"lines\\\",\\\"line\\\":{\\\"color\\\":\\\"black\\\"},\\\"y\\\":[-1.41202,-1.41202],\\\"type\\\":\\\"scatter3d\\\",\\\"z\\\":[0.539345,-0.539345],\\\"x\\\":[0.0,0.0]},{\\\"mode\\\":\\\"lines\\\",\\\"line\\\":{\\\"color\\\":\\\"black\\\"},\\\"y\\\":[-0.872678,-0.539345],\\\"type\\\":\\\"scatter3d\\\",\\\"z\\\":[0.872678,0.0],\\\"x\\\":[0.872678,1.41202]},{\\\"mode\\\":\\\"lines\\\",\\\"line\\\":{\\\"color\\\":\\\"black\\\"},\\\"y\\\":[-0.872678,-0.539345],\\\"type\\\":\\\"scatter3d\\\",\\\"z\\\":[0.872678,0.0],\\\"x\\\":[-0.872678,-1.41202]},{\\\"mode\\\":\\\"lines\\\",\\\"line\\\":{\\\"color\\\":\\\"black\\\"},\\\"y\\\":[0.0,0.872678],\\\"type\\\":\\\"scatter3d\\\",\\\"z\\\":[-1.41202,-0.872678],\\\"x\\\":[-0.539345,-0.872678]},{\\\"mode\\\":\\\"lines\\\",\\\"line\\\":{\\\"color\\\":\\\"black\\\"},\\\"y\\\":[0.0,-0.872678],\\\"type\\\":\\\"scatter3d\\\",\\\"z\\\":[-1.41202,-0.872678],\\\"x\\\":[-0.539345,-0.872678]},{\\\"mode\\\":\\\"lines\\\",\\\"line\\\":{\\\"color\\\":\\\"black\\\"},\\\"y\\\":[1.41202,0.872678],\\\"type\\\":\\\"scatter3d\\\",\\\"z\\\":[-0.539345,-0.872678],\\\"x\\\":[0.0,0.872678]},{\\\"mode\\\":\\\"lines\\\",\\\"line\\\":{\\\"color\\\":\\\"black\\\"},\\\"y\\\":[1.41202,0.872678],\\\"type\\\":\\\"scatter3d\\\",\\\"z\\\":[-0.539345,-0.872678],\\\"x\\\":[0.0,-0.872678]},{\\\"mode\\\":\\\"lines\\\",\\\"line\\\":{\\\"color\\\":\\\"black\\\"},\\\"y\\\":[0.872678,0.539345],\\\"type\\\":\\\"scatter3d\\\",\\\"z\\\":[-0.872678,0.0],\\\"x\\\":[-0.872678,-1.41202]},{\\\"mode\\\":\\\"lines\\\",\\\"line\\\":{\\\"color\\\":\\\"black\\\"},\\\"y\\\":[-1.41202,-0.872678],\\\"type\\\":\\\"scatter3d\\\",\\\"z\\\":[-0.539345,-0.872678],\\\"x\\\":[0.0,0.872678]},{\\\"mode\\\":\\\"lines\\\",\\\"line\\\":{\\\"color\\\":\\\"black\\\"},\\\"y\\\":[-1.41202,-0.872678],\\\"type\\\":\\\"scatter3d\\\",\\\"z\\\":[-0.539345,-0.872678],\\\"x\\\":[0.0,-0.872678]},{\\\"mode\\\":\\\"lines\\\",\\\"line\\\":{\\\"color\\\":\\\"black\\\"},\\\"y\\\":[-0.872678,-0.539345],\\\"type\\\":\\\"scatter3d\\\",\\\"z\\\":[-0.872678,0.0],\\\"x\\\":[0.872678,1.41202]},{\\\"mode\\\":\\\"lines\\\",\\\"line\\\":{\\\"color\\\":\\\"black\\\"},\\\"y\\\":[-0.872678,-0.539345],\\\"type\\\":\\\"scatter3d\\\",\\\"z\\\":[-0.872678,0.0],\\\"x\\\":[-0.872678,-1.41202]},{\\\"mode\\\":\\\"lines\\\",\\\"line\\\":{\\\"color\\\":\\\"black\\\"},\\\"y\\\":[0.539345,-0.539345],\\\"type\\\":\\\"scatter3d\\\",\\\"z\\\":[0.0,0.0],\\\"x\\\":[-1.41202,-1.41202]},{\\\"mode\\\":\\\"lines\\\",\\\"line\\\":{\\\"color\\\":\\\"black\\\"},\\\"y\\\":[0.0,0.872678],\\\"type\\\":\\\"scatter3d\\\",\\\"z\\\":[1.41202,0.872678],\\\"x\\\":[-0.539345,0.872678]},{\\\"mode\\\":\\\"lines\\\",\\\"line\\\":{\\\"color\\\":\\\"black\\\"},\\\"y\\\":[0.0,1.41202],\\\"type\\\":\\\"scatter3d\\\",\\\"z\\\":[1.41202,0.539345],\\\"x\\\":[-0.539345,0.0]},{\\\"mode\\\":\\\"lines\\\",\\\"line\\\":{\\\"color\\\":\\\"black\\\"},\\\"y\\\":[0.0,-0.872678],\\\"type\\\":\\\"scatter3d\\\",\\\"z\\\":[1.41202,0.872678],\\\"x\\\":[-0.539345,0.872678]},{\\\"mode\\\":\\\"lines\\\",\\\"line\\\":{\\\"color\\\":\\\"black\\\"},\\\"y\\\":[0.0,-1.41202],\\\"type\\\":\\\"scatter3d\\\",\\\"z\\\":[1.41202,0.539345],\\\"x\\\":[-0.539345,0.0]},{\\\"mode\\\":\\\"lines\\\",\\\"line\\\":{\\\"color\\\":\\\"black\\\"},\\\"y\\\":[0.0,0.872678],\\\"type\\\":\\\"scatter3d\\\",\\\"z\\\":[-1.41202,-0.872678],\\\"x\\\":[-0.539345,0.872678]},{\\\"mode\\\":\\\"lines\\\",\\\"line\\\":{\\\"color\\\":\\\"black\\\"},\\\"y\\\":[0.0,1.41202],\\\"type\\\":\\\"scatter3d\\\",\\\"z\\\":[-1.41202,-0.539345],\\\"x\\\":[-0.539345,0.0]},{\\\"mode\\\":\\\"lines\\\",\\\"line\\\":{\\\"color\\\":\\\"black\\\"},\\\"y\\\":[0.0,-0.872678],\\\"type\\\":\\\"scatter3d\\\",\\\"z\\\":[-1.41202,-0.872678],\\\"x\\\":[-0.539345,0.872678]},{\\\"mode\\\":\\\"lines\\\",\\\"line\\\":{\\\"color\\\":\\\"black\\\"},\\\"y\\\":[0.0,-1.41202],\\\"type\\\":\\\"scatter3d\\\",\\\"z\\\":[-1.41202,-0.539345],\\\"x\\\":[-0.539345,0.0]},{\\\"mode\\\":\\\"lines\\\",\\\"line\\\":{\\\"color\\\":\\\"black\\\"},\\\"y\\\":[0.872678,1.41202],\\\"type\\\":\\\"scatter3d\\\",\\\"z\\\":[0.872678,-0.539345],\\\"x\\\":[0.872678,0.0]},{\\\"mode\\\":\\\"lines\\\",\\\"line\\\":{\\\"color\\\":\\\"black\\\"},\\\"y\\\":[0.872678,0.872678],\\\"type\\\":\\\"scatter3d\\\",\\\"z\\\":[0.872678,-0.872678],\\\"x\\\":[0.872678,0.872678]},{\\\"mode\\\":\\\"lines\\\",\\\"line\\\":{\\\"color\\\":\\\"black\\\"},\\\"y\\\":[0.872678,1.41202],\\\"type\\\":\\\"scatter3d\\\",\\\"z\\\":[0.872678,-0.539345],\\\"x\\\":[-0.872678,0.0]},{\\\"mode\\\":\\\"lines\\\",\\\"line\\\":{\\\"color\\\":\\\"black\\\"},\\\"y\\\":[0.872678,0.872678],\\\"type\\\":\\\"scatter3d\\\",\\\"z\\\":[0.872678,-0.872678],\\\"x\\\":[-0.872678,-0.872678]},{\\\"mode\\\":\\\"lines\\\",\\\"line\\\":{\\\"color\\\":\\\"black\\\"},\\\"y\\\":[-0.872678,-1.41202],\\\"type\\\":\\\"scatter3d\\\",\\\"z\\\":[0.872678,-0.539345],\\\"x\\\":[0.872678,0.0]},{\\\"mode\\\":\\\"lines\\\",\\\"line\\\":{\\\"color\\\":\\\"black\\\"},\\\"y\\\":[-0.872678,-0.872678],\\\"type\\\":\\\"scatter3d\\\",\\\"z\\\":[0.872678,-0.872678],\\\"x\\\":[0.872678,0.872678]},{\\\"mode\\\":\\\"lines\\\",\\\"line\\\":{\\\"color\\\":\\\"black\\\"},\\\"y\\\":[-0.872678,-1.41202],\\\"type\\\":\\\"scatter3d\\\",\\\"z\\\":[0.872678,-0.539345],\\\"x\\\":[-0.872678,0.0]},{\\\"mode\\\":\\\"lines\\\",\\\"line\\\":{\\\"color\\\":\\\"black\\\"},\\\"y\\\":[-0.872678,-0.872678],\\\"type\\\":\\\"scatter3d\\\",\\\"z\\\":[0.872678,-0.872678],\\\"x\\\":[-0.872678,-0.872678]},{\\\"mode\\\":\\\"lines\\\",\\\"line\\\":{\\\"color\\\":\\\"black\\\"},\\\"y\\\":[0.872678,-0.872678],\\\"type\\\":\\\"scatter3d\\\",\\\"z\\\":[0.872678,0.872678],\\\"x\\\":[0.872678,0.872678]},{\\\"mode\\\":\\\"lines\\\",\\\"line\\\":{\\\"color\\\":\\\"black\\\"},\\\"y\\\":[0.872678,-0.539345],\\\"type\\\":\\\"scatter3d\\\",\\\"z\\\":[0.872678,0.0],\\\"x\\\":[0.872678,1.41202]},{\\\"mode\\\":\\\"lines\\\",\\\"line\\\":{\\\"color\\\":\\\"black\\\"},\\\"y\\\":[0.872678,-0.872678],\\\"type\\\":\\\"scatter3d\\\",\\\"z\\\":[0.872678,0.872678],\\\"x\\\":[-0.872678,-0.872678]},{\\\"mode\\\":\\\"lines\\\",\\\"line\\\":{\\\"color\\\":\\\"black\\\"},\\\"y\\\":[0.872678,-0.539345],\\\"type\\\":\\\"scatter3d\\\",\\\"z\\\":[0.872678,0.0],\\\"x\\\":[-0.872678,-1.41202]},{\\\"mode\\\":\\\"lines\\\",\\\"line\\\":{\\\"color\\\":\\\"black\\\"},\\\"y\\\":[0.872678,-0.872678],\\\"type\\\":\\\"scatter3d\\\",\\\"z\\\":[-0.872678,-0.872678],\\\"x\\\":[0.872678,0.872678]},{\\\"mode\\\":\\\"lines\\\",\\\"line\\\":{\\\"color\\\":\\\"black\\\"},\\\"y\\\":[0.872678,-0.539345],\\\"type\\\":\\\"scatter3d\\\",\\\"z\\\":[-0.872678,0.0],\\\"x\\\":[0.872678,1.41202]},{\\\"mode\\\":\\\"lines\\\",\\\"line\\\":{\\\"color\\\":\\\"black\\\"},\\\"y\\\":[0.872678,-0.872678],\\\"type\\\":\\\"scatter3d\\\",\\\"z\\\":[-0.872678,-0.872678],\\\"x\\\":[-0.872678,-0.872678]},{\\\"mode\\\":\\\"lines\\\",\\\"line\\\":{\\\"color\\\":\\\"black\\\"},\\\"y\\\":[0.872678,-0.539345],\\\"type\\\":\\\"scatter3d\\\",\\\"z\\\":[-0.872678,0.0],\\\"x\\\":[-0.872678,-1.41202]},{\\\"x\\\":[-0.539345,0.0,0.872678,-0.872678,0.0,0.872678,-0.872678,-0.539345,0.0,0.872678,-0.872678,0.0,0.872678,-0.872678,-1.41202,1.41202,-1.41202],\\\"mode\\\":\\\"markers+text\\\",\\\"textposition\\\":\\\"bottom center\\\",\\\"y\\\":[0.0,1.41202,0.872678,0.872678,-1.41202,-0.872678,-0.872678,0.0,1.41202,0.872678,0.872678,-1.41202,-0.872678,-0.872678,0.539345,-0.539345,-0.539345],\\\"type\\\":\\\"scatter3d\\\",\\\"text\\\":[\\\"1\\\",\\\"2\\\",\\\"3\\\",\\\"4\\\",\\\"5\\\",\\\"6\\\",\\\"7\\\",\\\"8\\\",\\\"9\\\",\\\"10\\\",\\\"11\\\",\\\"12\\\",\\\"13\\\",\\\"14\\\",\\\"15\\\",\\\"16\\\",\\\"17\\\"],\\\"z\\\":[1.41202,0.539345,0.872678,0.872678,0.539345,0.872678,0.872678,-1.41202,-0.539345,-0.872678,-0.872678,-0.539345,-0.872678,-0.872678,0.0,0.0,0.0],\\\"marker\\\":{\\\"color\\\":\\\"#00E6FF\\\",\\\"size\\\":4}}],{\\\"template\\\":{\\\"layout\\\":{\\\"coloraxis\\\":{\\\"colorbar\\\":{\\\"ticks\\\":\\\"\\\",\\\"outlinewidth\\\":0}},\\\"xaxis\\\":{\\\"gridcolor\\\":\\\"white\\\",\\\"zerolinewidth\\\":2,\\\"title\\\":{\\\"standoff\\\":15},\\\"ticks\\\":\\\"\\\",\\\"zerolinecolor\\\":\\\"white\\\",\\\"automargin\\\":true,\\\"linecolor\\\":\\\"white\\\"},\\\"hovermode\\\":\\\"closest\\\",\\\"paper_bgcolor\\\":\\\"white\\\",\\\"geo\\\":{\\\"showlakes\\\":true,\\\"showland\\\":true,\\\"landcolor\\\":\\\"#E5ECF6\\\",\\\"bgcolor\\\":\\\"white\\\",\\\"subunitcolor\\\":\\\"white\\\",\\\"lakecolor\\\":\\\"white\\\"},\\\"colorscale\\\":{\\\"sequential\\\":[[0.0,\\\"#0d0887\\\"],[0.1111111111111111,\\\"#46039f\\\"],[0.2222222222222222,\\\"#7201a8\\\"],[0.3333333333333333,\\\"#9c179e\\\"],[0.4444444444444444,\\\"#bd3786\\\"],[0.5555555555555556,\\\"#d8576b\\\"],[0.6666666666666666,\\\"#ed7953\\\"],[0.7777777777777778,\\\"#fb9f3a\\\"],[0.8888888888888888,\\\"#fdca26\\\"],[1.0,\\\"#f0f921\\\"]],\\\"diverging\\\":[[0,\\\"#8e0152\\\"],[0.1,\\\"#c51b7d\\\"],[0.2,\\\"#de77ae\\\"],[0.3,\\\"#f1b6da\\\"],[0.4,\\\"#fde0ef\\\"],[0.5,\\\"#f7f7f7\\\"],[0.6,\\\"#e6f5d0\\\"],[0.7,\\\"#b8e186\\\"],[0.8,\\\"#7fbc41\\\"],[0.9,\\\"#4d9221\\\"],[1,\\\"#276419\\\"]],\\\"sequentialminus\\\":[[0.0,\\\"#0d0887\\\"],[0.1111111111111111,\\\"#46039f\\\"],[0.2222222222222222,\\\"#7201a8\\\"],[0.3333333333333333,\\\"#9c179e\\\"],[0.4444444444444444,\\\"#bd3786\\\"],[0.5555555555555556,\\\"#d8576b\\\"],[0.6666666666666666,\\\"#ed7953\\\"],[0.7777777777777778,\\\"#fb9f3a\\\"],[0.8888888888888888,\\\"#fdca26\\\"],[1.0,\\\"#f0f921\\\"]]},\\\"yaxis\\\":{\\\"gridcolor\\\":\\\"white\\\",\\\"zerolinewidth\\\":2,\\\"title\\\":{\\\"standoff\\\":15},\\\"ticks\\\":\\\"\\\",\\\"zerolinecolor\\\":\\\"white\\\",\\\"automargin\\\":true,\\\"linecolor\\\":\\\"white\\\"},\\\"shapedefaults\\\":{\\\"line\\\":{\\\"color\\\":\\\"#2a3f5f\\\"}},\\\"hoverlabel\\\":{\\\"align\\\":\\\"left\\\"},\\\"mapbox\\\":{\\\"style\\\":\\\"light\\\"},\\\"polar\\\":{\\\"angularaxis\\\":{\\\"gridcolor\\\":\\\"white\\\",\\\"ticks\\\":\\\"\\\",\\\"linecolor\\\":\\\"white\\\"},\\\"bgcolor\\\":\\\"#E5ECF6\\\",\\\"radialaxis\\\":{\\\"gridcolor\\\":\\\"white\\\",\\\"ticks\\\":\\\"\\\",\\\"linecolor\\\":\\\"white\\\"}},\\\"autotypenumbers\\\":\\\"strict\\\",\\\"font\\\":{\\\"color\\\":\\\"#2a3f5f\\\"},\\\"ternary\\\":{\\\"baxis\\\":{\\\"gridcolor\\\":\\\"white\\\",\\\"ticks\\\":\\\"\\\",\\\"linecolor\\\":\\\"white\\\"},\\\"bgcolor\\\":\\\"#E5ECF6\\\",\\\"caxis\\\":{\\\"gridcolor\\\":\\\"white\\\",\\\"ticks\\\":\\\"\\\",\\\"linecolor\\\":\\\"white\\\"},\\\"aaxis\\\":{\\\"gridcolor\\\":\\\"white\\\",\\\"ticks\\\":\\\"\\\",\\\"linecolor\\\":\\\"white\\\"}},\\\"annotationdefaults\\\":{\\\"arrowhead\\\":0,\\\"arrowwidth\\\":1,\\\"arrowcolor\\\":\\\"#2a3f5f\\\"},\\\"plot_bgcolor\\\":\\\"#E5ECF6\\\",\\\"title\\\":{\\\"x\\\":0.05},\\\"scene\\\":{\\\"xaxis\\\":{\\\"gridcolor\\\":\\\"white\\\",\\\"gridwidth\\\":2,\\\"backgroundcolor\\\":\\\"#E5ECF6\\\",\\\"ticks\\\":\\\"\\\",\\\"showbackground\\\":true,\\\"zerolinecolor\\\":\\\"white\\\",\\\"linecolor\\\":\\\"white\\\"},\\\"zaxis\\\":{\\\"gridcolor\\\":\\\"white\\\",\\\"gridwidth\\\":2,\\\"backgroundcolor\\\":\\\"#E5ECF6\\\",\\\"ticks\\\":\\\"\\\",\\\"showbackground\\\":true,\\\"zerolinecolor\\\":\\\"white\\\",\\\"linecolor\\\":\\\"white\\\"},\\\"yaxis\\\":{\\\"gridcolor\\\":\\\"white\\\",\\\"gridwidth\\\":2,\\\"backgroundcolor\\\":\\\"#E5ECF6\\\",\\\"ticks\\\":\\\"\\\",\\\"showbackground\\\":true,\\\"zerolinecolor\\\":\\\"white\\\",\\\"linecolor\\\":\\\"white\\\"}},\\\"colorway\\\":[\\\"#636efa\\\",\\\"#EF553B\\\",\\\"#00cc96\\\",\\\"#ab63fa\\\",\\\"#FFA15A\\\",\\\"#19d3f3\\\",\\\"#FF6692\\\",\\\"#B6E880\\\",\\\"#FF97FF\\\",\\\"#FECB52\\\"]},\\\"data\\\":{\\\"barpolar\\\":[{\\\"type\\\":\\\"barpolar\\\",\\\"marker\\\":{\\\"line\\\":{\\\"color\\\":\\\"#E5ECF6\\\",\\\"width\\\":0.5}}}],\\\"carpet\\\":[{\\\"aaxis\\\":{\\\"gridcolor\\\":\\\"white\\\",\\\"endlinecolor\\\":\\\"#2a3f5f\\\",\\\"minorgridcolor\\\":\\\"white\\\",\\\"startlinecolor\\\":\\\"#2a3f5f\\\",\\\"linecolor\\\":\\\"white\\\"},\\\"type\\\":\\\"carpet\\\",\\\"baxis\\\":{\\\"gridcolor\\\":\\\"white\\\",\\\"endlinecolor\\\":\\\"#2a3f5f\\\",\\\"minorgridcolor\\\":\\\"white\\\",\\\"startlinecolor\\\":\\\"#2a3f5f\\\",\\\"linecolor\\\":\\\"white\\\"}}],\\\"scatterpolar\\\":[{\\\"type\\\":\\\"scatterpolar\\\",\\\"marker\\\":{\\\"colorbar\\\":{\\\"ticks\\\":\\\"\\\",\\\"outlinewidth\\\":0}}}],\\\"parcoords\\\":[{\\\"line\\\":{\\\"colorbar\\\":{\\\"ticks\\\":\\\"\\\",\\\"outlinewidth\\\":0}},\\\"type\\\":\\\"parcoords\\\"}],\\\"scatter\\\":[{\\\"type\\\":\\\"scatter\\\",\\\"marker\\\":{\\\"colorbar\\\":{\\\"ticks\\\":\\\"\\\",\\\"outlinewidth\\\":0}}}],\\\"histogram2dcontour\\\":[{\\\"colorbar\\\":{\\\"ticks\\\":\\\"\\\",\\\"outlinewidth\\\":0},\\\"type\\\":\\\"histogram2dcontour\\\",\\\"colorscale\\\":[[0.0,\\\"#0d0887\\\"],[0.1111111111111111,\\\"#46039f\\\"],[0.2222222222222222,\\\"#7201a8\\\"],[0.3333333333333333,\\\"#9c179e\\\"],[0.4444444444444444,\\\"#bd3786\\\"],[0.5555555555555556,\\\"#d8576b\\\"],[0.6666666666666666,\\\"#ed7953\\\"],[0.7777777777777778,\\\"#fb9f3a\\\"],[0.8888888888888888,\\\"#fdca26\\\"],[1.0,\\\"#f0f921\\\"]]}],\\\"contour\\\":[{\\\"colorbar\\\":{\\\"ticks\\\":\\\"\\\",\\\"outlinewidth\\\":0},\\\"type\\\":\\\"contour\\\",\\\"colorscale\\\":[[0.0,\\\"#0d0887\\\"],[0.1111111111111111,\\\"#46039f\\\"],[0.2222222222222222,\\\"#7201a8\\\"],[0.3333333333333333,\\\"#9c179e\\\"],[0.4444444444444444,\\\"#bd3786\\\"],[0.5555555555555556,\\\"#d8576b\\\"],[0.6666666666666666,\\\"#ed7953\\\"],[0.7777777777777778,\\\"#fb9f3a\\\"],[0.8888888888888888,\\\"#fdca26\\\"],[1.0,\\\"#f0f921\\\"]]}],\\\"scattercarpet\\\":[{\\\"type\\\":\\\"scattercarpet\\\",\\\"marker\\\":{\\\"colorbar\\\":{\\\"ticks\\\":\\\"\\\",\\\"outlinewidth\\\":0}}}],\\\"mesh3d\\\":[{\\\"colorbar\\\":{\\\"ticks\\\":\\\"\\\",\\\"outlinewidth\\\":0},\\\"type\\\":\\\"mesh3d\\\"}],\\\"surface\\\":[{\\\"colorbar\\\":{\\\"ticks\\\":\\\"\\\",\\\"outlinewidth\\\":0},\\\"type\\\":\\\"surface\\\",\\\"colorscale\\\":[[0.0,\\\"#0d0887\\\"],[0.1111111111111111,\\\"#46039f\\\"],[0.2222222222222222,\\\"#7201a8\\\"],[0.3333333333333333,\\\"#9c179e\\\"],[0.4444444444444444,\\\"#bd3786\\\"],[0.5555555555555556,\\\"#d8576b\\\"],[0.6666666666666666,\\\"#ed7953\\\"],[0.7777777777777778,\\\"#fb9f3a\\\"],[0.8888888888888888,\\\"#fdca26\\\"],[1.0,\\\"#f0f921\\\"]]}],\\\"scattermapbox\\\":[{\\\"type\\\":\\\"scattermapbox\\\",\\\"marker\\\":{\\\"colorbar\\\":{\\\"ticks\\\":\\\"\\\",\\\"outlinewidth\\\":0}}}],\\\"scattergeo\\\":[{\\\"type\\\":\\\"scattergeo\\\",\\\"marker\\\":{\\\"colorbar\\\":{\\\"ticks\\\":\\\"\\\",\\\"outlinewidth\\\":0}}}],\\\"histogram\\\":[{\\\"type\\\":\\\"histogram\\\",\\\"marker\\\":{\\\"colorbar\\\":{\\\"ticks\\\":\\\"\\\",\\\"outlinewidth\\\":0}}}],\\\"pie\\\":[{\\\"type\\\":\\\"pie\\\",\\\"automargin\\\":true}],\\\"choropleth\\\":[{\\\"colorbar\\\":{\\\"ticks\\\":\\\"\\\",\\\"outlinewidth\\\":0},\\\"type\\\":\\\"choropleth\\\"}],\\\"heatmapgl\\\":[{\\\"colorbar\\\":{\\\"ticks\\\":\\\"\\\",\\\"outlinewidth\\\":0},\\\"type\\\":\\\"heatmapgl\\\",\\\"colorscale\\\":[[0.0,\\\"#0d0887\\\"],[0.1111111111111111,\\\"#46039f\\\"],[0.2222222222222222,\\\"#7201a8\\\"],[0.3333333333333333,\\\"#9c179e\\\"],[0.4444444444444444,\\\"#bd3786\\\"],[0.5555555555555556,\\\"#d8576b\\\"],[0.6666666666666666,\\\"#ed7953\\\"],[0.7777777777777778,\\\"#fb9f3a\\\"],[0.8888888888888888,\\\"#fdca26\\\"],[1.0,\\\"#f0f921\\\"]]}],\\\"bar\\\":[{\\\"type\\\":\\\"bar\\\",\\\"error_y\\\":{\\\"color\\\":\\\"#2a3f5f\\\"},\\\"error_x\\\":{\\\"color\\\":\\\"#2a3f5f\\\"},\\\"marker\\\":{\\\"line\\\":{\\\"color\\\":\\\"#E5ECF6\\\",\\\"width\\\":0.5}}}],\\\"heatmap\\\":[{\\\"colorbar\\\":{\\\"ticks\\\":\\\"\\\",\\\"outlinewidth\\\":0},\\\"type\\\":\\\"heatmap\\\",\\\"colorscale\\\":[[0.0,\\\"#0d0887\\\"],[0.1111111111111111,\\\"#46039f\\\"],[0.2222222222222222,\\\"#7201a8\\\"],[0.3333333333333333,\\\"#9c179e\\\"],[0.4444444444444444,\\\"#bd3786\\\"],[0.5555555555555556,\\\"#d8576b\\\"],[0.6666666666666666,\\\"#ed7953\\\"],[0.7777777777777778,\\\"#fb9f3a\\\"],[0.8888888888888888,\\\"#fdca26\\\"],[1.0,\\\"#f0f921\\\"]]}],\\\"contourcarpet\\\":[{\\\"colorbar\\\":{\\\"ticks\\\":\\\"\\\",\\\"outlinewidth\\\":0},\\\"type\\\":\\\"contourcarpet\\\"}],\\\"table\\\":[{\\\"type\\\":\\\"table\\\",\\\"header\\\":{\\\"line\\\":{\\\"color\\\":\\\"white\\\"},\\\"fill\\\":{\\\"color\\\":\\\"#C8D4E3\\\"}},\\\"cells\\\":{\\\"line\\\":{\\\"color\\\":\\\"white\\\"},\\\"fill\\\":{\\\"color\\\":\\\"#EBF0F8\\\"}}}],\\\"scatter3d\\\":[{\\\"line\\\":{\\\"colorbar\\\":{\\\"ticks\\\":\\\"\\\",\\\"outlinewidth\\\":0}},\\\"type\\\":\\\"scatter3d\\\",\\\"marker\\\":{\\\"colorbar\\\":{\\\"ticks\\\":\\\"\\\",\\\"outlinewidth\\\":0}}}],\\\"scattergl\\\":[{\\\"type\\\":\\\"scattergl\\\",\\\"marker\\\":{\\\"colorbar\\\":{\\\"ticks\\\":\\\"\\\",\\\"outlinewidth\\\":0}}}],\\\"histogram2d\\\":[{\\\"colorbar\\\":{\\\"ticks\\\":\\\"\\\",\\\"outlinewidth\\\":0},\\\"type\\\":\\\"histogram2d\\\",\\\"colorscale\\\":[[0.0,\\\"#0d0887\\\"],[0.1111111111111111,\\\"#46039f\\\"],[0.2222222222222222,\\\"#7201a8\\\"],[0.3333333333333333,\\\"#9c179e\\\"],[0.4444444444444444,\\\"#bd3786\\\"],[0.5555555555555556,\\\"#d8576b\\\"],[0.6666666666666666,\\\"#ed7953\\\"],[0.7777777777777778,\\\"#fb9f3a\\\"],[0.8888888888888888,\\\"#fdca26\\\"],[1.0,\\\"#f0f921\\\"]]}],\\\"scatterternary\\\":[{\\\"type\\\":\\\"scatterternary\\\",\\\"marker\\\":{\\\"colorbar\\\":{\\\"ticks\\\":\\\"\\\",\\\"outlinewidth\\\":0}}}],\\\"scatterpolargl\\\":[{\\\"type\\\":\\\"scatterpolargl\\\",\\\"marker\\\":{\\\"colorbar\\\":{\\\"ticks\\\":\\\"\\\",\\\"outlinewidth\\\":0}}}]}},\\\"margin\\\":{\\\"l\\\":50,\\\"b\\\":50,\\\"r\\\":50,\\\"t\\\":60}},{\\\"showLink\\\":false,\\\"editable\\\":false,\\\"responsive\\\":true,\\\"staticPlot\\\":false,\\\"scrollZoom\\\":true}); gd.on(\\\"plotly_hover\\\",(function (data){var filtered_data=WebIO.PlotlyCommands.filterEventData(gd,data,\\\"hover\\\"); return !(filtered_data.isnil) ? (WebIO.setval({\\\"name\\\":\\\"hover\\\",\\\"scope\\\":\\\"9724929158026170277\\\",\\\"id\\\":\\\"14656231575413693624\\\",\\\"type\\\":\\\"observable\\\"},filtered_data.out)) : undefined})); gd.on(\\\"plotly_unhover\\\",(function (){return WebIO.setval({\\\"name\\\":\\\"hover\\\",\\\"scope\\\":\\\"9724929158026170277\\\",\\\"id\\\":\\\"14656231575413693624\\\",\\\"type\\\":\\\"observable\\\"},{})})); gd.on(\\\"plotly_selected\\\",(function (data){var filtered_data=WebIO.PlotlyCommands.filterEventData(gd,data,\\\"selected\\\"); return !(filtered_data.isnil) ? (WebIO.setval({\\\"name\\\":\\\"selected\\\",\\\"scope\\\":\\\"9724929158026170277\\\",\\\"id\\\":\\\"587054438253205206\\\",\\\"type\\\":\\\"observable\\\"},filtered_data.out)) : undefined})); gd.on(\\\"plotly_deselect\\\",(function (){return WebIO.setval({\\\"name\\\":\\\"selected\\\",\\\"scope\\\":\\\"9724929158026170277\\\",\\\"id\\\":\\\"587054438253205206\\\",\\\"type\\\":\\\"observable\\\"},{})})); gd.on(\\\"plotly_relayout\\\",(function (data){var filtered_data=WebIO.PlotlyCommands.filterEventData(gd,data,\\\"relayout\\\"); return !(filtered_data.isnil) ? (WebIO.setval({\\\"name\\\":\\\"relayout\\\",\\\"scope\\\":\\\"9724929158026170277\\\",\\\"id\\\":\\\"13996303618078506346\\\",\\\"type\\\":\\\"observable\\\"},filtered_data.out)) : undefined})); return gd.on(\\\"plotly_click\\\",(function (data){var filtered_data=WebIO.PlotlyCommands.filterEventData(gd,data,\\\"click\\\"); return !(filtered_data.isnil) ? (WebIO.setval({\\\"name\\\":\\\"click\\\",\\\"scope\\\":\\\"9724929158026170277\\\",\\\"id\\\":\\\"8904330854327640707\\\",\\\"type\\\":\\\"observable\\\"},filtered_data.out)) : undefined}))}));\\n    (WebIO.importBlock({\\\"data\\\":[{\\\"name\\\":\\\"Plotly\\\",\\\"type\\\":\\\"js\\\",\\\"url\\\":\\\"\\/assetserver\\/d18d62e3d860f95bdd778d5ce0d98356c8e8cd70-plotly.min.js\\\"},{\\\"name\\\":null,\\\"type\\\":\\\"js\\\",\\\"url\\\":\\\"\\/assetserver\\/3ce237707c6799d71e862d9d30b4d1f68d73bd38-plotly_webio.bundle.js\\\"}],\\\"type\\\":\\\"async_block\\\"})).then((imports) => handler.apply(this, imports));\\n}\\n\"],\"observables\":{\"_toImage\":{\"sync\":false,\"id\":\"5606646340776451044\",\"value\":{}},\"hover\":{\"sync\":false,\"id\":\"14656231575413693624\",\"value\":{}},\"selected\":{\"sync\":false,\"id\":\"587054438253205206\",\"value\":{}},\"__gd_contents\":{\"sync\":false,\"id\":\"8209333915626149306\",\"value\":{}},\"click\":{\"sync\":false,\"id\":\"8904330854327640707\",\"value\":{}},\"image\":{\"sync\":true,\"id\":\"4439402247122821049\",\"value\":\"\"},\"__get_gd_contents\":{\"sync\":false,\"id\":\"6940343309403238031\",\"value\":\"\"},\"_downloadImage\":{\"sync\":false,\"id\":\"9074518169006729047\",\"value\":{}},\"relayout\":{\"sync\":false,\"id\":\"13996303618078506346\",\"value\":{}},\"_commands\":{\"sync\":false,\"id\":\"14716467984962063008\",\"value\":[]}}},\"children\":[{\"props\":{\"id\":\"plot-c2fd23fa-ea35-43bf-9cbe-65975141be00\"},\"nodeType\":\"DOM\",\"type\":\"node\",\"instanceArgs\":{\"namespace\":\"html\",\"tag\":\"div\"},\"children\":[]}]},\n",
       "        window,\n",
       "    );\n",
       "    })()\n",
       "    </script>\n",
       "</div>\n"
      ],
      "text/plain": [
       "data: [\n",
       "  \"mesh3d with fields facecolor, i, j, k, opacity, type, x, y, and z\",\n",
       "  \"scatter3d with fields line, mode, type, x, y, and z\",\n",
       "  \"scatter3d with fields line, mode, type, x, y, and z\",\n",
       "  \"scatter3d with fields line, mode, type, x, y, and z\",\n",
       "  \"scatter3d with fields line, mode, type, x, y, and z\",\n",
       "  \"scatter3d with fields line, mode, type, x, y, and z\",\n",
       "  \"scatter3d with fields line, mode, type, x, y, and z\",\n",
       "  \"scatter3d with fields line, mode, type, x, y, and z\",\n",
       "  \"scatter3d with fields line, mode, type, x, y, and z\",\n",
       "  \"scatter3d with fields line, mode, type, x, y, and z\",\n",
       "  \"scatter3d with fields line, mode, type, x, y, and z\",\n",
       "  \"scatter3d with fields line, mode, type, x, y, and z\",\n",
       "  \"scatter3d with fields line, mode, type, x, y, and z\",\n",
       "  \"scatter3d with fields line, mode, type, x, y, and z\",\n",
       "  \"scatter3d with fields line, mode, type, x, y, and z\",\n",
       "  \"scatter3d with fields line, mode, type, x, y, and z\",\n",
       "  \"scatter3d with fields line, mode, type, x, y, and z\",\n",
       "  \"scatter3d with fields line, mode, type, x, y, and z\",\n",
       "  \"scatter3d with fields line, mode, type, x, y, and z\",\n",
       "  \"scatter3d with fields line, mode, type, x, y, and z\",\n",
       "  \"scatter3d with fields line, mode, type, x, y, and z\",\n",
       "  \"scatter3d with fields line, mode, type, x, y, and z\",\n",
       "  \"scatter3d with fields line, mode, type, x, y, and z\",\n",
       "  \"scatter3d with fields line, mode, type, x, y, and z\",\n",
       "  \"scatter3d with fields line, mode, type, x, y, and z\",\n",
       "  \"scatter3d with fields line, mode, type, x, y, and z\",\n",
       "  \"scatter3d with fields line, mode, type, x, y, and z\",\n",
       "  \"scatter3d with fields line, mode, type, x, y, and z\",\n",
       "  \"scatter3d with fields line, mode, type, x, y, and z\",\n",
       "  \"scatter3d with fields line, mode, type, x, y, and z\",\n",
       "  \"scatter3d with fields line, mode, type, x, y, and z\",\n",
       "  \"scatter3d with fields line, mode, type, x, y, and z\",\n",
       "  \"scatter3d with fields line, mode, type, x, y, and z\",\n",
       "  \"scatter3d with fields line, mode, type, x, y, and z\",\n",
       "  \"scatter3d with fields line, mode, type, x, y, and z\",\n",
       "  \"scatter3d with fields line, mode, type, x, y, and z\",\n",
       "  \"scatter3d with fields line, mode, type, x, y, and z\",\n",
       "  \"scatter3d with fields line, mode, type, x, y, and z\",\n",
       "  \"scatter3d with fields line, mode, type, x, y, and z\",\n",
       "  \"scatter3d with fields line, mode, type, x, y, and z\",\n",
       "  \"scatter3d with fields line, mode, type, x, y, and z\",\n",
       "  \"scatter3d with fields line, mode, type, x, y, and z\",\n",
       "  \"scatter3d with fields line, mode, type, x, y, and z\",\n",
       "  \"scatter3d with fields line, mode, type, x, y, and z\",\n",
       "  \"scatter3d with fields line, mode, type, x, y, and z\",\n",
       "  \"scatter3d with fields line, mode, type, x, y, and z\",\n",
       "  \"scatter3d with fields marker, mode, text, textposition, type, x, y, and z\"\n",
       "]\n",
       "\n",
       "layout: \"layout with fields margin and template\"\n",
       "\n"
      ]
     },
     "metadata": {},
     "output_type": "display_data"
    }
   ],
   "source": [
    "poly = triangulatePolyhedron(Dodecahedron)\n",
    "\n",
    "display(poly.edges[[!isturnable(e, poly) for e in poly.edges]])\n",
    "\n",
    "plotPolyhedron(triangulatePolyhedron(Dodecahedron))"
   ]
  },
  {
   "cell_type": "code",
   "execution_count": 47,
   "metadata": {},
   "outputs": [
    {
     "data": {
      "application/vnd.plotly.v1+json": {
       "config": {
        "editable": false,
        "responsive": true,
        "scrollZoom": true,
        "showLink": false,
        "staticPlot": false
       },
       "data": [
        {
         "marker": {
          "color": "#00D3FF",
          "size": 4
         },
         "mode": "markers",
         "text": [
          "1",
          "2",
          "3",
          "4",
          "5",
          "6",
          "7",
          "8",
          "9",
          "10",
          "11",
          "12",
          "13",
          "14",
          "15",
          "16",
          "17"
         ],
         "textposition": "bottom center",
         "type": "scatter3d",
         "x": [
          -0.539345,
          0,
          0.872678,
          -0.872678,
          0,
          0.872678,
          -0.872678,
          -0.539345,
          0,
          0.872678,
          -0.872678,
          0,
          0.872678,
          -0.872678,
          -1.41202,
          1.41202,
          -1.41202
         ],
         "y": [
          0,
          1.41202,
          0.872678,
          0.872678,
          -1.41202,
          -0.872678,
          -0.872678,
          0,
          1.41202,
          0.872678,
          0.872678,
          -1.41202,
          -0.872678,
          -0.872678,
          0.539345,
          -0.539345,
          -0.539345
         ],
         "z": [
          1.41202,
          0.539345,
          0.872678,
          0.872678,
          0.539345,
          0.872678,
          0.872678,
          -1.41202,
          -0.539345,
          -0.872678,
          -0.872678,
          -0.539345,
          -0.872678,
          -0.872678,
          0,
          0,
          0
         ]
        },
        {
         "line": {
          "color": "black"
         },
         "mode": "lines",
         "type": "scatter3d",
         "x": [
          -0.872678,
          -1.41202
         ],
         "y": [
          0.872678,
          -0.539345
         ],
         "z": [
          -0.872678,
          0
         ]
        },
        {
         "line": {
          "color": "black"
         },
         "mode": "lines",
         "type": "scatter3d",
         "x": [
          -0.872678,
          -0.872678
         ],
         "y": [
          0.872678,
          -0.872678
         ],
         "z": [
          -0.872678,
          -0.872678
         ]
        },
        {
         "line": {
          "color": "black"
         },
         "mode": "lines",
         "type": "scatter3d",
         "x": [
          0.872678,
          1.41202
         ],
         "y": [
          0.872678,
          -0.539345
         ],
         "z": [
          -0.872678,
          0
         ]
        },
        {
         "line": {
          "color": "black"
         },
         "mode": "lines",
         "type": "scatter3d",
         "x": [
          0.872678,
          0.872678
         ],
         "y": [
          0.872678,
          -0.872678
         ],
         "z": [
          -0.872678,
          -0.872678
         ]
        },
        {
         "line": {
          "color": "black"
         },
         "mode": "lines",
         "type": "scatter3d",
         "x": [
          -0.872678,
          -1.41202
         ],
         "y": [
          0.872678,
          -0.539345
         ],
         "z": [
          0.872678,
          0
         ]
        },
        {
         "line": {
          "color": "black"
         },
         "mode": "lines",
         "type": "scatter3d",
         "x": [
          -0.872678,
          -0.872678
         ],
         "y": [
          0.872678,
          -0.872678
         ],
         "z": [
          0.872678,
          0.872678
         ]
        },
        {
         "line": {
          "color": "black"
         },
         "mode": "lines",
         "type": "scatter3d",
         "x": [
          0.872678,
          1.41202
         ],
         "y": [
          0.872678,
          -0.539345
         ],
         "z": [
          0.872678,
          0
         ]
        },
        {
         "line": {
          "color": "black"
         },
         "mode": "lines",
         "type": "scatter3d",
         "x": [
          0.872678,
          0.872678
         ],
         "y": [
          0.872678,
          -0.872678
         ],
         "z": [
          0.872678,
          0.872678
         ]
        },
        {
         "line": {
          "color": "black"
         },
         "mode": "lines",
         "type": "scatter3d",
         "x": [
          -0.872678,
          -0.872678
         ],
         "y": [
          -0.872678,
          -0.872678
         ],
         "z": [
          0.872678,
          -0.872678
         ]
        },
        {
         "line": {
          "color": "black"
         },
         "mode": "lines",
         "type": "scatter3d",
         "x": [
          -0.872678,
          0
         ],
         "y": [
          -0.872678,
          -1.41202
         ],
         "z": [
          0.872678,
          -0.539345
         ]
        },
        {
         "line": {
          "color": "black"
         },
         "mode": "lines",
         "type": "scatter3d",
         "x": [
          0.872678,
          0.872678
         ],
         "y": [
          -0.872678,
          -0.872678
         ],
         "z": [
          0.872678,
          -0.872678
         ]
        },
        {
         "line": {
          "color": "black"
         },
         "mode": "lines",
         "type": "scatter3d",
         "x": [
          0.872678,
          0
         ],
         "y": [
          -0.872678,
          -1.41202
         ],
         "z": [
          0.872678,
          -0.539345
         ]
        },
        {
         "line": {
          "color": "black"
         },
         "mode": "lines",
         "type": "scatter3d",
         "x": [
          -0.872678,
          -0.872678
         ],
         "y": [
          0.872678,
          0.872678
         ],
         "z": [
          0.872678,
          -0.872678
         ]
        },
        {
         "line": {
          "color": "black"
         },
         "mode": "lines",
         "type": "scatter3d",
         "x": [
          -0.872678,
          0
         ],
         "y": [
          0.872678,
          1.41202
         ],
         "z": [
          0.872678,
          -0.539345
         ]
        },
        {
         "line": {
          "color": "black"
         },
         "mode": "lines",
         "type": "scatter3d",
         "x": [
          0.872678,
          0.872678
         ],
         "y": [
          0.872678,
          0.872678
         ],
         "z": [
          0.872678,
          -0.872678
         ]
        },
        {
         "line": {
          "color": "black"
         },
         "mode": "lines",
         "type": "scatter3d",
         "x": [
          0.872678,
          0
         ],
         "y": [
          0.872678,
          1.41202
         ],
         "z": [
          0.872678,
          -0.539345
         ]
        },
        {
         "line": {
          "color": "black"
         },
         "mode": "lines",
         "type": "scatter3d",
         "x": [
          -0.539345,
          0
         ],
         "y": [
          0,
          -1.41202
         ],
         "z": [
          -1.41202,
          -0.539345
         ]
        },
        {
         "line": {
          "color": "black"
         },
         "mode": "lines",
         "type": "scatter3d",
         "x": [
          -0.539345,
          0.872678
         ],
         "y": [
          0,
          -0.872678
         ],
         "z": [
          -1.41202,
          -0.872678
         ]
        },
        {
         "line": {
          "color": "black"
         },
         "mode": "lines",
         "type": "scatter3d",
         "x": [
          -0.539345,
          0
         ],
         "y": [
          0,
          1.41202
         ],
         "z": [
          -1.41202,
          -0.539345
         ]
        },
        {
         "line": {
          "color": "black"
         },
         "mode": "lines",
         "type": "scatter3d",
         "x": [
          -0.539345,
          0.872678
         ],
         "y": [
          0,
          0.872678
         ],
         "z": [
          -1.41202,
          -0.872678
         ]
        },
        {
         "line": {
          "color": "black"
         },
         "mode": "lines",
         "type": "scatter3d",
         "x": [
          -0.539345,
          0
         ],
         "y": [
          0,
          -1.41202
         ],
         "z": [
          1.41202,
          0.539345
         ]
        },
        {
         "line": {
          "color": "black"
         },
         "mode": "lines",
         "type": "scatter3d",
         "x": [
          -0.539345,
          0.872678
         ],
         "y": [
          0,
          -0.872678
         ],
         "z": [
          1.41202,
          0.872678
         ]
        },
        {
         "line": {
          "color": "black"
         },
         "mode": "lines",
         "type": "scatter3d",
         "x": [
          -0.539345,
          0
         ],
         "y": [
          0,
          1.41202
         ],
         "z": [
          1.41202,
          0.539345
         ]
        },
        {
         "line": {
          "color": "black"
         },
         "mode": "lines",
         "type": "scatter3d",
         "x": [
          -0.539345,
          0.872678
         ],
         "y": [
          0,
          0.872678
         ],
         "z": [
          1.41202,
          0.872678
         ]
        },
        {
         "line": {
          "color": "black"
         },
         "mode": "lines",
         "type": "scatter3d",
         "x": [
          -1.41202,
          -1.41202
         ],
         "y": [
          0.539345,
          -0.539345
         ],
         "z": [
          0,
          0
         ]
        },
        {
         "line": {
          "color": "black"
         },
         "mode": "lines",
         "type": "scatter3d",
         "x": [
          -0.872678,
          -1.41202
         ],
         "y": [
          -0.872678,
          -0.539345
         ],
         "z": [
          -0.872678,
          0
         ]
        },
        {
         "line": {
          "color": "black"
         },
         "mode": "lines",
         "type": "scatter3d",
         "x": [
          0.872678,
          1.41202
         ],
         "y": [
          -0.872678,
          -0.539345
         ],
         "z": [
          -0.872678,
          0
         ]
        },
        {
         "line": {
          "color": "black"
         },
         "mode": "lines",
         "type": "scatter3d",
         "x": [
          0,
          -0.872678
         ],
         "y": [
          -1.41202,
          -0.872678
         ],
         "z": [
          -0.539345,
          -0.872678
         ]
        },
        {
         "line": {
          "color": "black"
         },
         "mode": "lines",
         "type": "scatter3d",
         "x": [
          0,
          0.872678
         ],
         "y": [
          -1.41202,
          -0.872678
         ],
         "z": [
          -0.539345,
          -0.872678
         ]
        },
        {
         "line": {
          "color": "black"
         },
         "mode": "lines",
         "type": "scatter3d",
         "x": [
          -0.872678,
          -1.41202
         ],
         "y": [
          0.872678,
          0.539345
         ],
         "z": [
          -0.872678,
          0
         ]
        },
        {
         "line": {
          "color": "black"
         },
         "mode": "lines",
         "type": "scatter3d",
         "x": [
          0,
          -0.872678
         ],
         "y": [
          1.41202,
          0.872678
         ],
         "z": [
          -0.539345,
          -0.872678
         ]
        },
        {
         "line": {
          "color": "black"
         },
         "mode": "lines",
         "type": "scatter3d",
         "x": [
          0,
          0.872678
         ],
         "y": [
          1.41202,
          0.872678
         ],
         "z": [
          -0.539345,
          -0.872678
         ]
        },
        {
         "line": {
          "color": "black"
         },
         "mode": "lines",
         "type": "scatter3d",
         "x": [
          -0.539345,
          -0.872678
         ],
         "y": [
          0,
          -0.872678
         ],
         "z": [
          -1.41202,
          -0.872678
         ]
        },
        {
         "line": {
          "color": "black"
         },
         "mode": "lines",
         "type": "scatter3d",
         "x": [
          -0.539345,
          -0.872678
         ],
         "y": [
          0,
          0.872678
         ],
         "z": [
          -1.41202,
          -0.872678
         ]
        },
        {
         "line": {
          "color": "black"
         },
         "mode": "lines",
         "type": "scatter3d",
         "x": [
          -0.872678,
          -1.41202
         ],
         "y": [
          -0.872678,
          -0.539345
         ],
         "z": [
          0.872678,
          0
         ]
        },
        {
         "line": {
          "color": "black"
         },
         "mode": "lines",
         "type": "scatter3d",
         "x": [
          0.872678,
          1.41202
         ],
         "y": [
          -0.872678,
          -0.539345
         ],
         "z": [
          0.872678,
          0
         ]
        },
        {
         "line": {
          "color": "black"
         },
         "mode": "lines",
         "type": "scatter3d",
         "x": [
          0,
          0
         ],
         "y": [
          -1.41202,
          -1.41202
         ],
         "z": [
          0.539345,
          -0.539345
         ]
        },
        {
         "line": {
          "color": "black"
         },
         "mode": "lines",
         "type": "scatter3d",
         "x": [
          0,
          -0.872678
         ],
         "y": [
          -1.41202,
          -0.872678
         ],
         "z": [
          0.539345,
          0.872678
         ]
        },
        {
         "line": {
          "color": "black"
         },
         "mode": "lines",
         "type": "scatter3d",
         "x": [
          0,
          0.872678
         ],
         "y": [
          -1.41202,
          -0.872678
         ],
         "z": [
          0.539345,
          0.872678
         ]
        },
        {
         "line": {
          "color": "black"
         },
         "mode": "lines",
         "type": "scatter3d",
         "x": [
          -0.872678,
          -1.41202
         ],
         "y": [
          0.872678,
          0.539345
         ],
         "z": [
          0.872678,
          0
         ]
        },
        {
         "line": {
          "color": "black"
         },
         "mode": "lines",
         "type": "scatter3d",
         "x": [
          0,
          0
         ],
         "y": [
          1.41202,
          1.41202
         ],
         "z": [
          0.539345,
          -0.539345
         ]
        },
        {
         "line": {
          "color": "black"
         },
         "mode": "lines",
         "type": "scatter3d",
         "x": [
          0,
          -0.872678
         ],
         "y": [
          1.41202,
          0.872678
         ],
         "z": [
          0.539345,
          0.872678
         ]
        },
        {
         "line": {
          "color": "black"
         },
         "mode": "lines",
         "type": "scatter3d",
         "x": [
          0,
          0.872678
         ],
         "y": [
          1.41202,
          0.872678
         ],
         "z": [
          0.539345,
          0.872678
         ]
        },
        {
         "line": {
          "color": "black"
         },
         "mode": "lines",
         "type": "scatter3d",
         "x": [
          -0.539345,
          -0.872678
         ],
         "y": [
          0,
          -0.872678
         ],
         "z": [
          1.41202,
          0.872678
         ]
        },
        {
         "line": {
          "color": "black"
         },
         "mode": "lines",
         "type": "scatter3d",
         "x": [
          -0.539345,
          -0.872678
         ],
         "y": [
          0,
          0.872678
         ],
         "z": [
          1.41202,
          0.872678
         ]
        },
        {
         "facecolor": [
          "#00D3FF",
          "#00D3FF",
          "#00D3FF",
          "#00D3FF",
          "#00D3FF",
          "#00D3FF",
          "#00D3FF",
          "#00D3FF",
          "#00D3FF",
          "#00D3FF",
          "#00D3FF",
          "#00D3FF",
          "#00D3FF",
          "#00D3FF",
          "#00D3FF",
          "#00D3FF",
          "#00D3FF",
          "#00D3FF",
          "#00D3FF",
          "#00D3FF",
          "#00D3FF",
          "#00D3FF",
          "#00D3FF",
          "#00D3FF",
          "#00D3FF",
          "#00D3FF",
          "#00D3FF",
          "#00D3FF",
          "#00D3FF",
          "#00D3FF"
         ],
         "i": [
          0,
          1,
          0,
          4,
          7,
          8,
          7,
          11,
          2,
          2,
          3,
          3,
          10,
          5,
          5,
          12,
          6,
          6,
          13,
          2,
          3,
          3,
          16,
          9,
          10,
          10,
          16,
          0,
          7,
          2
         ],
         "j": [
          2,
          3,
          5,
          6,
          9,
          10,
          12,
          13,
          1,
          8,
          1,
          8,
          14,
          4,
          11,
          15,
          4,
          11,
          16,
          5,
          0,
          6,
          14,
          12,
          7,
          13,
          14,
          2,
          9,
          9
         ],
         "k": [
          1,
          0,
          4,
          0,
          8,
          7,
          11,
          7,
          8,
          9,
          8,
          10,
          3,
          11,
          12,
          5,
          11,
          13,
          6,
          15,
          6,
          16,
          3,
          15,
          13,
          16,
          10,
          5,
          12,
          15
         ],
         "opacity": 0.6,
         "type": "mesh3d",
         "x": [
          -0.539345,
          0,
          0.872678,
          -0.872678,
          0,
          0.872678,
          -0.872678,
          -0.539345,
          0,
          0.872678,
          -0.872678,
          0,
          0.872678,
          -0.872678,
          -1.41202,
          1.41202,
          -1.41202
         ],
         "y": [
          0,
          1.41202,
          0.872678,
          0.872678,
          -1.41202,
          -0.872678,
          -0.872678,
          0,
          1.41202,
          0.872678,
          0.872678,
          -1.41202,
          -0.872678,
          -0.872678,
          0.539345,
          -0.539345,
          -0.539345
         ],
         "z": [
          1.41202,
          0.539345,
          0.872678,
          0.872678,
          0.539345,
          0.872678,
          0.872678,
          -1.41202,
          -0.539345,
          -0.872678,
          -0.872678,
          -0.539345,
          -0.872678,
          -0.872678,
          0,
          0,
          0
         ]
        },
        {
         "marker": {
          "color": "#FF9BFF",
          "size": 4
         },
         "mode": "markers",
         "text": [
          "1",
          "2",
          "3",
          "4"
         ],
         "textposition": "bottom center",
         "type": "scatter3d",
         "x": [
          0.872678,
          0.872678,
          1.41202,
          1.41202
         ],
         "y": [
          0.872678,
          0.872678,
          -0.539345,
          0.539345
         ],
         "z": [
          0.872678,
          -0.872678,
          0,
          0
         ]
        },
        {
         "line": {
          "color": "black"
         },
         "mode": "lines",
         "type": "scatter3d",
         "x": [
          1.41202,
          1.41202
         ],
         "y": [
          -0.539345,
          0.539345
         ],
         "z": [
          0,
          0
         ]
        },
        {
         "line": {
          "color": "black"
         },
         "mode": "lines",
         "type": "scatter3d",
         "x": [
          0.872678,
          1.41202
         ],
         "y": [
          0.872678,
          0.539345
         ],
         "z": [
          -0.872678,
          0
         ]
        },
        {
         "line": {
          "color": "black"
         },
         "mode": "lines",
         "type": "scatter3d",
         "x": [
          0.872678,
          1.41202
         ],
         "y": [
          0.872678,
          -0.539345
         ],
         "z": [
          -0.872678,
          0
         ]
        },
        {
         "line": {
          "color": "black"
         },
         "mode": "lines",
         "type": "scatter3d",
         "x": [
          0.872678,
          1.41202
         ],
         "y": [
          0.872678,
          0.539345
         ],
         "z": [
          0.872678,
          0
         ]
        },
        {
         "line": {
          "color": "black"
         },
         "mode": "lines",
         "type": "scatter3d",
         "x": [
          0.872678,
          1.41202
         ],
         "y": [
          0.872678,
          -0.539345
         ],
         "z": [
          0.872678,
          0
         ]
        },
        {
         "line": {
          "color": "black"
         },
         "mode": "lines",
         "type": "scatter3d",
         "x": [
          0.872678,
          0.872678
         ],
         "y": [
          0.872678,
          0.872678
         ],
         "z": [
          0.872678,
          -0.872678
         ]
        },
        {
         "facecolor": [
          "#FF9BFF",
          "#FF9BFF",
          "#FF9BFF",
          "#FF9BFF"
         ],
         "i": [
          0,
          0,
          0,
          1
         ],
         "j": [
          1,
          1,
          2,
          2
         ],
         "k": [
          2,
          3,
          3,
          3
         ],
         "opacity": 0.6,
         "type": "mesh3d",
         "x": [
          0.872678,
          0.872678,
          1.41202,
          1.41202
         ],
         "y": [
          0.872678,
          0.872678,
          -0.539345,
          0.539345
         ],
         "z": [
          0.872678,
          -0.872678,
          0,
          0
         ]
        },
        {
         "marker": {
          "color": "#FFFF74",
          "size": 4
         },
         "mode": "markers",
         "text": [
          "1",
          "2",
          "3",
          "4"
         ],
         "textposition": "bottom center",
         "type": "scatter3d",
         "x": [
          -0.539345,
          0.872678,
          0.872678,
          0.539345
         ],
         "y": [
          0,
          0.872678,
          -0.872678,
          0
         ],
         "z": [
          -1.41202,
          -0.872678,
          -0.872678,
          -1.41202
         ]
        },
        {
         "line": {
          "color": "black"
         },
         "mode": "lines",
         "type": "scatter3d",
         "x": [
          0.872678,
          0.539345
         ],
         "y": [
          -0.872678,
          0
         ],
         "z": [
          -0.872678,
          -1.41202
         ]
        },
        {
         "line": {
          "color": "black"
         },
         "mode": "lines",
         "type": "scatter3d",
         "x": [
          0.872678,
          0.539345
         ],
         "y": [
          0.872678,
          0
         ],
         "z": [
          -0.872678,
          -1.41202
         ]
        },
        {
         "line": {
          "color": "black"
         },
         "mode": "lines",
         "type": "scatter3d",
         "x": [
          0.872678,
          0.872678
         ],
         "y": [
          0.872678,
          -0.872678
         ],
         "z": [
          -0.872678,
          -0.872678
         ]
        },
        {
         "line": {
          "color": "black"
         },
         "mode": "lines",
         "type": "scatter3d",
         "x": [
          -0.539345,
          0.539345
         ],
         "y": [
          0,
          0
         ],
         "z": [
          -1.41202,
          -1.41202
         ]
        },
        {
         "line": {
          "color": "black"
         },
         "mode": "lines",
         "type": "scatter3d",
         "x": [
          -0.539345,
          0.872678
         ],
         "y": [
          0,
          -0.872678
         ],
         "z": [
          -1.41202,
          -0.872678
         ]
        },
        {
         "line": {
          "color": "black"
         },
         "mode": "lines",
         "type": "scatter3d",
         "x": [
          -0.539345,
          0.872678
         ],
         "y": [
          0,
          0.872678
         ],
         "z": [
          -1.41202,
          -0.872678
         ]
        },
        {
         "facecolor": [
          "#FFFF74",
          "#FFFF74",
          "#FFFF74",
          "#FFFF74"
         ],
         "i": [
          0,
          0,
          0,
          1
         ],
         "j": [
          1,
          1,
          2,
          2
         ],
         "k": [
          2,
          3,
          3,
          3
         ],
         "opacity": 0.6,
         "type": "mesh3d",
         "x": [
          -0.539345,
          0.872678,
          0.872678,
          0.539345
         ],
         "y": [
          0,
          0.872678,
          -0.872678,
          0
         ],
         "z": [
          -1.41202,
          -0.872678,
          -0.872678,
          -1.41202
         ]
        },
        {
         "marker": {
          "color": "#000000",
          "size": 4
         },
         "mode": "markers",
         "text": [
          "1",
          "2",
          "3",
          "4"
         ],
         "textposition": "bottom center",
         "type": "scatter3d",
         "x": [
          -0.539345,
          0.872678,
          0.872678,
          0.539345
         ],
         "y": [
          0,
          0.872678,
          -0.872678,
          0
         ],
         "z": [
          1.41202,
          0.872678,
          0.872678,
          1.41202
         ]
        },
        {
         "line": {
          "color": "black"
         },
         "mode": "lines",
         "type": "scatter3d",
         "x": [
          0.872678,
          0.539345
         ],
         "y": [
          -0.872678,
          0
         ],
         "z": [
          0.872678,
          1.41202
         ]
        },
        {
         "line": {
          "color": "black"
         },
         "mode": "lines",
         "type": "scatter3d",
         "x": [
          0.872678,
          0.539345
         ],
         "y": [
          0.872678,
          0
         ],
         "z": [
          0.872678,
          1.41202
         ]
        },
        {
         "line": {
          "color": "black"
         },
         "mode": "lines",
         "type": "scatter3d",
         "x": [
          0.872678,
          0.872678
         ],
         "y": [
          0.872678,
          -0.872678
         ],
         "z": [
          0.872678,
          0.872678
         ]
        },
        {
         "line": {
          "color": "black"
         },
         "mode": "lines",
         "type": "scatter3d",
         "x": [
          -0.539345,
          0.539345
         ],
         "y": [
          0,
          0
         ],
         "z": [
          1.41202,
          1.41202
         ]
        },
        {
         "line": {
          "color": "black"
         },
         "mode": "lines",
         "type": "scatter3d",
         "x": [
          -0.539345,
          0.872678
         ],
         "y": [
          0,
          -0.872678
         ],
         "z": [
          1.41202,
          0.872678
         ]
        },
        {
         "line": {
          "color": "black"
         },
         "mode": "lines",
         "type": "scatter3d",
         "x": [
          -0.539345,
          0.872678
         ],
         "y": [
          0,
          0.872678
         ],
         "z": [
          1.41202,
          0.872678
         ]
        },
        {
         "facecolor": [
          "#000000",
          "#000000",
          "#000000",
          "#000000"
         ],
         "i": [
          0,
          0,
          0,
          1
         ],
         "j": [
          1,
          1,
          2,
          2
         ],
         "k": [
          2,
          3,
          3,
          3
         ],
         "opacity": 0.6,
         "type": "mesh3d",
         "x": [
          -0.539345,
          0.872678,
          0.872678,
          0.539345
         ],
         "y": [
          0,
          0.872678,
          -0.872678,
          0
         ],
         "z": [
          1.41202,
          0.872678,
          0.872678,
          1.41202
         ]
        }
       ],
       "frames": [],
       "layout": {
        "margin": {
         "b": 50,
         "l": 50,
         "r": 50,
         "t": 60
        },
        "template": {
         "data": {
          "bar": [
           {
            "error_x": {
             "color": "#2a3f5f"
            },
            "error_y": {
             "color": "#2a3f5f"
            },
            "marker": {
             "line": {
              "color": "#E5ECF6",
              "width": 0.5
             }
            },
            "type": "bar"
           }
          ],
          "barpolar": [
           {
            "marker": {
             "line": {
              "color": "#E5ECF6",
              "width": 0.5
             }
            },
            "type": "barpolar"
           }
          ],
          "carpet": [
           {
            "aaxis": {
             "endlinecolor": "#2a3f5f",
             "gridcolor": "white",
             "linecolor": "white",
             "minorgridcolor": "white",
             "startlinecolor": "#2a3f5f"
            },
            "baxis": {
             "endlinecolor": "#2a3f5f",
             "gridcolor": "white",
             "linecolor": "white",
             "minorgridcolor": "white",
             "startlinecolor": "#2a3f5f"
            },
            "type": "carpet"
           }
          ],
          "choropleth": [
           {
            "colorbar": {
             "outlinewidth": 0,
             "ticks": ""
            },
            "type": "choropleth"
           }
          ],
          "contour": [
           {
            "colorbar": {
             "outlinewidth": 0,
             "ticks": ""
            },
            "colorscale": [
             [
              0,
              "#0d0887"
             ],
             [
              0.1111111111111111,
              "#46039f"
             ],
             [
              0.2222222222222222,
              "#7201a8"
             ],
             [
              0.3333333333333333,
              "#9c179e"
             ],
             [
              0.4444444444444444,
              "#bd3786"
             ],
             [
              0.5555555555555556,
              "#d8576b"
             ],
             [
              0.6666666666666666,
              "#ed7953"
             ],
             [
              0.7777777777777778,
              "#fb9f3a"
             ],
             [
              0.8888888888888888,
              "#fdca26"
             ],
             [
              1,
              "#f0f921"
             ]
            ],
            "type": "contour"
           }
          ],
          "contourcarpet": [
           {
            "colorbar": {
             "outlinewidth": 0,
             "ticks": ""
            },
            "type": "contourcarpet"
           }
          ],
          "heatmap": [
           {
            "colorbar": {
             "outlinewidth": 0,
             "ticks": ""
            },
            "colorscale": [
             [
              0,
              "#0d0887"
             ],
             [
              0.1111111111111111,
              "#46039f"
             ],
             [
              0.2222222222222222,
              "#7201a8"
             ],
             [
              0.3333333333333333,
              "#9c179e"
             ],
             [
              0.4444444444444444,
              "#bd3786"
             ],
             [
              0.5555555555555556,
              "#d8576b"
             ],
             [
              0.6666666666666666,
              "#ed7953"
             ],
             [
              0.7777777777777778,
              "#fb9f3a"
             ],
             [
              0.8888888888888888,
              "#fdca26"
             ],
             [
              1,
              "#f0f921"
             ]
            ],
            "type": "heatmap"
           }
          ],
          "heatmapgl": [
           {
            "colorbar": {
             "outlinewidth": 0,
             "ticks": ""
            },
            "colorscale": [
             [
              0,
              "#0d0887"
             ],
             [
              0.1111111111111111,
              "#46039f"
             ],
             [
              0.2222222222222222,
              "#7201a8"
             ],
             [
              0.3333333333333333,
              "#9c179e"
             ],
             [
              0.4444444444444444,
              "#bd3786"
             ],
             [
              0.5555555555555556,
              "#d8576b"
             ],
             [
              0.6666666666666666,
              "#ed7953"
             ],
             [
              0.7777777777777778,
              "#fb9f3a"
             ],
             [
              0.8888888888888888,
              "#fdca26"
             ],
             [
              1,
              "#f0f921"
             ]
            ],
            "type": "heatmapgl"
           }
          ],
          "histogram": [
           {
            "marker": {
             "colorbar": {
              "outlinewidth": 0,
              "ticks": ""
             }
            },
            "type": "histogram"
           }
          ],
          "histogram2d": [
           {
            "colorbar": {
             "outlinewidth": 0,
             "ticks": ""
            },
            "colorscale": [
             [
              0,
              "#0d0887"
             ],
             [
              0.1111111111111111,
              "#46039f"
             ],
             [
              0.2222222222222222,
              "#7201a8"
             ],
             [
              0.3333333333333333,
              "#9c179e"
             ],
             [
              0.4444444444444444,
              "#bd3786"
             ],
             [
              0.5555555555555556,
              "#d8576b"
             ],
             [
              0.6666666666666666,
              "#ed7953"
             ],
             [
              0.7777777777777778,
              "#fb9f3a"
             ],
             [
              0.8888888888888888,
              "#fdca26"
             ],
             [
              1,
              "#f0f921"
             ]
            ],
            "type": "histogram2d"
           }
          ],
          "histogram2dcontour": [
           {
            "colorbar": {
             "outlinewidth": 0,
             "ticks": ""
            },
            "colorscale": [
             [
              0,
              "#0d0887"
             ],
             [
              0.1111111111111111,
              "#46039f"
             ],
             [
              0.2222222222222222,
              "#7201a8"
             ],
             [
              0.3333333333333333,
              "#9c179e"
             ],
             [
              0.4444444444444444,
              "#bd3786"
             ],
             [
              0.5555555555555556,
              "#d8576b"
             ],
             [
              0.6666666666666666,
              "#ed7953"
             ],
             [
              0.7777777777777778,
              "#fb9f3a"
             ],
             [
              0.8888888888888888,
              "#fdca26"
             ],
             [
              1,
              "#f0f921"
             ]
            ],
            "type": "histogram2dcontour"
           }
          ],
          "mesh3d": [
           {
            "colorbar": {
             "outlinewidth": 0,
             "ticks": ""
            },
            "type": "mesh3d"
           }
          ],
          "parcoords": [
           {
            "line": {
             "colorbar": {
              "outlinewidth": 0,
              "ticks": ""
             }
            },
            "type": "parcoords"
           }
          ],
          "pie": [
           {
            "automargin": true,
            "type": "pie"
           }
          ],
          "scatter": [
           {
            "marker": {
             "colorbar": {
              "outlinewidth": 0,
              "ticks": ""
             }
            },
            "type": "scatter"
           }
          ],
          "scatter3d": [
           {
            "line": {
             "colorbar": {
              "outlinewidth": 0,
              "ticks": ""
             }
            },
            "marker": {
             "colorbar": {
              "outlinewidth": 0,
              "ticks": ""
             }
            },
            "type": "scatter3d"
           }
          ],
          "scattercarpet": [
           {
            "marker": {
             "colorbar": {
              "outlinewidth": 0,
              "ticks": ""
             }
            },
            "type": "scattercarpet"
           }
          ],
          "scattergeo": [
           {
            "marker": {
             "colorbar": {
              "outlinewidth": 0,
              "ticks": ""
             }
            },
            "type": "scattergeo"
           }
          ],
          "scattergl": [
           {
            "marker": {
             "colorbar": {
              "outlinewidth": 0,
              "ticks": ""
             }
            },
            "type": "scattergl"
           }
          ],
          "scattermapbox": [
           {
            "marker": {
             "colorbar": {
              "outlinewidth": 0,
              "ticks": ""
             }
            },
            "type": "scattermapbox"
           }
          ],
          "scatterpolar": [
           {
            "marker": {
             "colorbar": {
              "outlinewidth": 0,
              "ticks": ""
             }
            },
            "type": "scatterpolar"
           }
          ],
          "scatterpolargl": [
           {
            "marker": {
             "colorbar": {
              "outlinewidth": 0,
              "ticks": ""
             }
            },
            "type": "scatterpolargl"
           }
          ],
          "scatterternary": [
           {
            "marker": {
             "colorbar": {
              "outlinewidth": 0,
              "ticks": ""
             }
            },
            "type": "scatterternary"
           }
          ],
          "surface": [
           {
            "colorbar": {
             "outlinewidth": 0,
             "ticks": ""
            },
            "colorscale": [
             [
              0,
              "#0d0887"
             ],
             [
              0.1111111111111111,
              "#46039f"
             ],
             [
              0.2222222222222222,
              "#7201a8"
             ],
             [
              0.3333333333333333,
              "#9c179e"
             ],
             [
              0.4444444444444444,
              "#bd3786"
             ],
             [
              0.5555555555555556,
              "#d8576b"
             ],
             [
              0.6666666666666666,
              "#ed7953"
             ],
             [
              0.7777777777777778,
              "#fb9f3a"
             ],
             [
              0.8888888888888888,
              "#fdca26"
             ],
             [
              1,
              "#f0f921"
             ]
            ],
            "type": "surface"
           }
          ],
          "table": [
           {
            "cells": {
             "fill": {
              "color": "#EBF0F8"
             },
             "line": {
              "color": "white"
             }
            },
            "header": {
             "fill": {
              "color": "#C8D4E3"
             },
             "line": {
              "color": "white"
             }
            },
            "type": "table"
           }
          ]
         },
         "layout": {
          "annotationdefaults": {
           "arrowcolor": "#2a3f5f",
           "arrowhead": 0,
           "arrowwidth": 1
          },
          "autotypenumbers": "strict",
          "coloraxis": {
           "colorbar": {
            "outlinewidth": 0,
            "ticks": ""
           }
          },
          "colorscale": {
           "diverging": [
            [
             0,
             "#8e0152"
            ],
            [
             0.1,
             "#c51b7d"
            ],
            [
             0.2,
             "#de77ae"
            ],
            [
             0.3,
             "#f1b6da"
            ],
            [
             0.4,
             "#fde0ef"
            ],
            [
             0.5,
             "#f7f7f7"
            ],
            [
             0.6,
             "#e6f5d0"
            ],
            [
             0.7,
             "#b8e186"
            ],
            [
             0.8,
             "#7fbc41"
            ],
            [
             0.9,
             "#4d9221"
            ],
            [
             1,
             "#276419"
            ]
           ],
           "sequential": [
            [
             0,
             "#0d0887"
            ],
            [
             0.1111111111111111,
             "#46039f"
            ],
            [
             0.2222222222222222,
             "#7201a8"
            ],
            [
             0.3333333333333333,
             "#9c179e"
            ],
            [
             0.4444444444444444,
             "#bd3786"
            ],
            [
             0.5555555555555556,
             "#d8576b"
            ],
            [
             0.6666666666666666,
             "#ed7953"
            ],
            [
             0.7777777777777778,
             "#fb9f3a"
            ],
            [
             0.8888888888888888,
             "#fdca26"
            ],
            [
             1,
             "#f0f921"
            ]
           ],
           "sequentialminus": [
            [
             0,
             "#0d0887"
            ],
            [
             0.1111111111111111,
             "#46039f"
            ],
            [
             0.2222222222222222,
             "#7201a8"
            ],
            [
             0.3333333333333333,
             "#9c179e"
            ],
            [
             0.4444444444444444,
             "#bd3786"
            ],
            [
             0.5555555555555556,
             "#d8576b"
            ],
            [
             0.6666666666666666,
             "#ed7953"
            ],
            [
             0.7777777777777778,
             "#fb9f3a"
            ],
            [
             0.8888888888888888,
             "#fdca26"
            ],
            [
             1,
             "#f0f921"
            ]
           ]
          },
          "colorway": [
           "#636efa",
           "#EF553B",
           "#00cc96",
           "#ab63fa",
           "#FFA15A",
           "#19d3f3",
           "#FF6692",
           "#B6E880",
           "#FF97FF",
           "#FECB52"
          ],
          "font": {
           "color": "#2a3f5f"
          },
          "geo": {
           "bgcolor": "white",
           "lakecolor": "white",
           "landcolor": "#E5ECF6",
           "showlakes": true,
           "showland": true,
           "subunitcolor": "white"
          },
          "hoverlabel": {
           "align": "left"
          },
          "hovermode": "closest",
          "mapbox": {
           "style": "light"
          },
          "paper_bgcolor": "white",
          "plot_bgcolor": "#E5ECF6",
          "polar": {
           "angularaxis": {
            "gridcolor": "white",
            "linecolor": "white",
            "ticks": ""
           },
           "bgcolor": "#E5ECF6",
           "radialaxis": {
            "gridcolor": "white",
            "linecolor": "white",
            "ticks": ""
           }
          },
          "scene": {
           "xaxis": {
            "backgroundcolor": "#E5ECF6",
            "gridcolor": "white",
            "gridwidth": 2,
            "linecolor": "white",
            "showbackground": true,
            "ticks": "",
            "zerolinecolor": "white"
           },
           "yaxis": {
            "backgroundcolor": "#E5ECF6",
            "gridcolor": "white",
            "gridwidth": 2,
            "linecolor": "white",
            "showbackground": true,
            "ticks": "",
            "zerolinecolor": "white"
           },
           "zaxis": {
            "backgroundcolor": "#E5ECF6",
            "gridcolor": "white",
            "gridwidth": 2,
            "linecolor": "white",
            "showbackground": true,
            "ticks": "",
            "zerolinecolor": "white"
           }
          },
          "shapedefaults": {
           "line": {
            "color": "#2a3f5f"
           }
          },
          "ternary": {
           "aaxis": {
            "gridcolor": "white",
            "linecolor": "white",
            "ticks": ""
           },
           "baxis": {
            "gridcolor": "white",
            "linecolor": "white",
            "ticks": ""
           },
           "bgcolor": "#E5ECF6",
           "caxis": {
            "gridcolor": "white",
            "linecolor": "white",
            "ticks": ""
           }
          },
          "title": {
           "x": 0.05
          },
          "xaxis": {
           "automargin": true,
           "gridcolor": "white",
           "linecolor": "white",
           "ticks": "",
           "title": {
            "standoff": 15
           },
           "zerolinecolor": "white",
           "zerolinewidth": 2
          },
          "yaxis": {
           "automargin": true,
           "gridcolor": "white",
           "linecolor": "white",
           "ticks": "",
           "title": {
            "standoff": 15
           },
           "zerolinecolor": "white",
           "zerolinewidth": 2
          }
         }
        }
       }
      },
      "image/png": "[encoded data removed]",
      "image/svg+xml": "<svg class=\"main-svg\" xmlns=\"http://www.w3.org/2000/svg\" xmlns:xlink=\"http://www.w3.org/1999/xlink\" width=\"700\" height=\"500\" style=\"\" viewBox=\"0 0 700 500\"><rect x=\"0\" y=\"0\" width=\"700\" height=\"500\" style=\"fill: rgb(255, 255, 255); fill-opacity: 1;\"/><defs id=\"defs-b62425\"><g class=\"clips\"/><g class=\"gradients\"/></defs><g class=\"bglayer\"/><g class=\"layer-below\"><g class=\"imagelayer\"/><g class=\"shapelayer\"/></g><g class=\"cartesianlayer\"/><g class=\"polarlayer\"/><g class=\"ternarylayer\"/><g class=\"geolayer\"/><g class=\"funnelarealayer\"/><g class=\"pielayer\"/><g class=\"treemaplayer\"/><g class=\"sunburstlayer\"/><g class=\"glimages\"><image xmlns=\"http://www.w3.org/2000/svg\" xlink:href=\"data:image/png;base64,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\" x=\"50\" y=\"60\" width=\"531\" height=\"390\" preserveAspectRatio=\"none\"/></g><defs id=\"topdefs-b62425\"><g class=\"clips\"/><clipPath id=\"legendb62425\"><rect width=\"96\" height=\"390\" x=\"0\" y=\"0\"/></clipPath></defs><g class=\"layer-above\"><g class=\"imagelayer\"/><g class=\"shapelayer\"/></g><g class=\"infolayer\"><g class=\"legend\" pointer-events=\"all\" transform=\"translate(591.62,60)\"><rect class=\"bg\" shape-rendering=\"crispEdges\" style=\"stroke: rgb(68, 68, 68); stroke-opacity: 1; fill: rgb(255, 255, 255); fill-opacity: 1; stroke-width: 0px;\" width=\"96\" height=\"390\" x=\"0\" y=\"0\"/><g class=\"scrollbox\" transform=\"\" clip-path=\"url('#legendb62425')\"><g class=\"groups\"><g class=\"traces\" transform=\"translate(0,14.5)\" style=\"opacity: 1;\"><text class=\"legendtext\" text-anchor=\"start\" x=\"40\" y=\"4.680000000000001\" style=\"font-family: 'Open Sans', verdana, arial, sans-serif; font-size: 12px; fill: rgb(42, 63, 95); fill-opacity: 1; white-space: pre;\">trace 0</text><g class=\"layers\" style=\"opacity: 1;\"><g class=\"legendfill\"/><g class=\"legendlines\"/><g class=\"legendsymbols\"><g class=\"legendpoints\"><path class=\"scatterpts\" transform=\"translate(20,0)\" d=\"M2,0A2,2 0 1,1 0,-2A2,2 0 0,1 2,0Z\" style=\"opacity: 1; stroke-width: 0px; fill: rgb(0, 211, 255); fill-opacity: 1;\"/></g></g></g><rect class=\"legendtoggle\" x=\"0\" y=\"-9.5\" width=\"90.09375\" height=\"19\" style=\"fill: rgb(0, 0, 0); fill-opacity: 0;\"/></g><g class=\"traces\" transform=\"translate(0,33.5)\" style=\"opacity: 1;\"><text class=\"legendtext\" text-anchor=\"start\" x=\"40\" y=\"4.680000000000001\" style=\"font-family: 'Open Sans', verdana, arial, sans-serif; font-size: 12px; fill: rgb(42, 63, 95); fill-opacity: 1; white-space: pre;\">trace 1</text><g class=\"layers\" style=\"opacity: 1;\"><g class=\"legendfill\"/><g class=\"legendlines\"><path class=\"js-line\" d=\"M5,0h30\" style=\"fill: none; stroke: rgb(0, 0, 0); stroke-opacity: 1; stroke-width: 2px;\"/></g><g class=\"legendsymbols\"><g class=\"legendpoints\"/></g></g><rect class=\"legendtoggle\" x=\"0\" y=\"-9.5\" width=\"90.09375\" height=\"19\" style=\"fill: rgb(0, 0, 0); fill-opacity: 0;\"/></g><g class=\"traces\" transform=\"translate(0,52.5)\" style=\"opacity: 1;\"><text class=\"legendtext\" text-anchor=\"start\" x=\"40\" y=\"4.680000000000001\" style=\"font-family: 'Open Sans', verdana, arial, sans-serif; font-size: 12px; fill: rgb(42, 63, 95); fill-opacity: 1; white-space: pre;\">trace 2</text><g class=\"layers\" style=\"opacity: 1;\"><g class=\"legendfill\"/><g class=\"legendlines\"><path class=\"js-line\" d=\"M5,0h30\" style=\"fill: none; stroke: rgb(0, 0, 0); stroke-opacity: 1; stroke-width: 2px;\"/></g><g class=\"legendsymbols\"><g class=\"legendpoints\"/></g></g><rect class=\"legendtoggle\" x=\"0\" y=\"-9.5\" width=\"90.09375\" height=\"19\" style=\"fill: rgb(0, 0, 0); fill-opacity: 0;\"/></g><g class=\"traces\" transform=\"translate(0,71.5)\" style=\"opacity: 1;\"><text class=\"legendtext\" text-anchor=\"start\" x=\"40\" y=\"4.680000000000001\" style=\"font-family: 'Open Sans', verdana, arial, sans-serif; font-size: 12px; fill: rgb(42, 63, 95); fill-opacity: 1; white-space: pre;\">trace 3</text><g class=\"layers\" style=\"opacity: 1;\"><g class=\"legendfill\"/><g class=\"legendlines\"><path class=\"js-line\" d=\"M5,0h30\" style=\"fill: none; stroke: rgb(0, 0, 0); stroke-opacity: 1; stroke-width: 2px;\"/></g><g class=\"legendsymbols\"><g class=\"legendpoints\"/></g></g><rect class=\"legendtoggle\" x=\"0\" y=\"-9.5\" width=\"90.09375\" height=\"19\" style=\"fill: rgb(0, 0, 0); fill-opacity: 0;\"/></g><g class=\"traces\" transform=\"translate(0,90.5)\" style=\"opacity: 1;\"><text class=\"legendtext\" text-anchor=\"start\" x=\"40\" y=\"4.680000000000001\" style=\"font-family: 'Open Sans', verdana, arial, sans-serif; font-size: 12px; fill: rgb(42, 63, 95); fill-opacity: 1; white-space: pre;\">trace 4</text><g class=\"layers\" style=\"opacity: 1;\"><g class=\"legendfill\"/><g class=\"legendlines\"><path class=\"js-line\" d=\"M5,0h30\" style=\"fill: none; stroke: rgb(0, 0, 0); stroke-opacity: 1; stroke-width: 2px;\"/></g><g class=\"legendsymbols\"><g class=\"legendpoints\"/></g></g><rect class=\"legendtoggle\" x=\"0\" y=\"-9.5\" width=\"90.09375\" height=\"19\" style=\"fill: rgb(0, 0, 0); fill-opacity: 0;\"/></g><g class=\"traces\" transform=\"translate(0,109.5)\" style=\"opacity: 1;\"><text class=\"legendtext\" text-anchor=\"start\" x=\"40\" y=\"4.680000000000001\" style=\"font-family: 'Open Sans', verdana, arial, sans-serif; font-size: 12px; fill: rgb(42, 63, 95); fill-opacity: 1; white-space: pre;\">trace 5</text><g class=\"layers\" style=\"opacity: 1;\"><g class=\"legendfill\"/><g class=\"legendlines\"><path class=\"js-line\" d=\"M5,0h30\" style=\"fill: none; stroke: rgb(0, 0, 0); stroke-opacity: 1; stroke-width: 2px;\"/></g><g class=\"legendsymbols\"><g class=\"legendpoints\"/></g></g><rect class=\"legendtoggle\" x=\"0\" y=\"-9.5\" width=\"90.09375\" height=\"19\" style=\"fill: rgb(0, 0, 0); fill-opacity: 0;\"/></g><g class=\"traces\" transform=\"translate(0,128.5)\" style=\"opacity: 1;\"><text class=\"legendtext\" text-anchor=\"start\" x=\"40\" y=\"4.680000000000001\" style=\"font-family: 'Open Sans', verdana, arial, sans-serif; font-size: 12px; fill: rgb(42, 63, 95); fill-opacity: 1; white-space: pre;\">trace 6</text><g class=\"layers\" style=\"opacity: 1;\"><g class=\"legendfill\"/><g class=\"legendlines\"><path class=\"js-line\" d=\"M5,0h30\" style=\"fill: none; stroke: rgb(0, 0, 0); stroke-opacity: 1; stroke-width: 2px;\"/></g><g class=\"legendsymbols\"><g class=\"legendpoints\"/></g></g><rect class=\"legendtoggle\" x=\"0\" y=\"-9.5\" width=\"90.09375\" height=\"19\" style=\"fill: rgb(0, 0, 0); fill-opacity: 0;\"/></g><g class=\"traces\" transform=\"translate(0,147.5)\" style=\"opacity: 1;\"><text class=\"legendtext\" text-anchor=\"start\" x=\"40\" y=\"4.680000000000001\" style=\"font-family: 'Open Sans', verdana, arial, sans-serif; font-size: 12px; fill: rgb(42, 63, 95); fill-opacity: 1; white-space: pre;\">trace 7</text><g class=\"layers\" style=\"opacity: 1;\"><g class=\"legendfill\"/><g class=\"legendlines\"><path class=\"js-line\" d=\"M5,0h30\" style=\"fill: none; stroke: rgb(0, 0, 0); stroke-opacity: 1; stroke-width: 2px;\"/></g><g class=\"legendsymbols\"><g class=\"legendpoints\"/></g></g><rect class=\"legendtoggle\" x=\"0\" y=\"-9.5\" width=\"90.09375\" height=\"19\" style=\"fill: rgb(0, 0, 0); fill-opacity: 0;\"/></g><g class=\"traces\" transform=\"translate(0,166.5)\" style=\"opacity: 1;\"><text class=\"legendtext\" text-anchor=\"start\" x=\"40\" y=\"4.680000000000001\" style=\"font-family: 'Open Sans', verdana, arial, sans-serif; font-size: 12px; fill: rgb(42, 63, 95); fill-opacity: 1; white-space: pre;\">trace 8</text><g class=\"layers\" style=\"opacity: 1;\"><g class=\"legendfill\"/><g class=\"legendlines\"><path class=\"js-line\" d=\"M5,0h30\" style=\"fill: none; stroke: rgb(0, 0, 0); stroke-opacity: 1; stroke-width: 2px;\"/></g><g class=\"legendsymbols\"><g class=\"legendpoints\"/></g></g><rect class=\"legendtoggle\" x=\"0\" y=\"-9.5\" width=\"90.09375\" height=\"19\" style=\"fill: rgb(0, 0, 0); fill-opacity: 0;\"/></g><g class=\"traces\" transform=\"translate(0,185.5)\" style=\"opacity: 1;\"><text class=\"legendtext\" text-anchor=\"start\" x=\"40\" y=\"4.680000000000001\" style=\"font-family: 'Open Sans', verdana, arial, sans-serif; font-size: 12px; fill: rgb(42, 63, 95); fill-opacity: 1; white-space: pre;\">trace 9</text><g class=\"layers\" style=\"opacity: 1;\"><g class=\"legendfill\"/><g class=\"legendlines\"><path class=\"js-line\" d=\"M5,0h30\" style=\"fill: none; stroke: rgb(0, 0, 0); stroke-opacity: 1; stroke-width: 2px;\"/></g><g class=\"legendsymbols\"><g class=\"legendpoints\"/></g></g><rect class=\"legendtoggle\" x=\"0\" y=\"-9.5\" width=\"90.09375\" height=\"19\" style=\"fill: rgb(0, 0, 0); fill-opacity: 0;\"/></g><g class=\"traces\" transform=\"translate(0,204.5)\" style=\"opacity: 1;\"><text class=\"legendtext\" text-anchor=\"start\" x=\"40\" y=\"4.680000000000001\" style=\"font-family: 'Open Sans', verdana, arial, sans-serif; font-size: 12px; fill: rgb(42, 63, 95); fill-opacity: 1; white-space: pre;\">trace 10</text><g class=\"layers\" style=\"opacity: 1;\"><g class=\"legendfill\"/><g class=\"legendlines\"><path class=\"js-line\" d=\"M5,0h30\" style=\"fill: none; stroke: rgb(0, 0, 0); stroke-opacity: 1; stroke-width: 2px;\"/></g><g class=\"legendsymbols\"><g class=\"legendpoints\"/></g></g><rect class=\"legendtoggle\" x=\"0\" y=\"-9.5\" width=\"90.09375\" height=\"19\" style=\"fill: rgb(0, 0, 0); fill-opacity: 0;\"/></g><g class=\"traces\" transform=\"translate(0,223.5)\" style=\"opacity: 1;\"><text class=\"legendtext\" text-anchor=\"start\" x=\"40\" y=\"4.680000000000001\" style=\"font-family: 'Open Sans', verdana, arial, sans-serif; font-size: 12px; fill: rgb(42, 63, 95); fill-opacity: 1; white-space: pre;\">trace 11</text><g class=\"layers\" style=\"opacity: 1;\"><g class=\"legendfill\"/><g class=\"legendlines\"><path class=\"js-line\" d=\"M5,0h30\" style=\"fill: none; stroke: rgb(0, 0, 0); stroke-opacity: 1; stroke-width: 2px;\"/></g><g class=\"legendsymbols\"><g class=\"legendpoints\"/></g></g><rect class=\"legendtoggle\" x=\"0\" y=\"-9.5\" width=\"90.09375\" height=\"19\" style=\"fill: rgb(0, 0, 0); fill-opacity: 0;\"/></g><g class=\"traces\" transform=\"translate(0,242.5)\" style=\"opacity: 1;\"><text class=\"legendtext\" text-anchor=\"start\" x=\"40\" y=\"4.680000000000001\" style=\"font-family: 'Open Sans', verdana, arial, sans-serif; font-size: 12px; fill: rgb(42, 63, 95); fill-opacity: 1; white-space: pre;\">trace 12</text><g class=\"layers\" style=\"opacity: 1;\"><g class=\"legendfill\"/><g class=\"legendlines\"><path class=\"js-line\" d=\"M5,0h30\" style=\"fill: none; stroke: rgb(0, 0, 0); stroke-opacity: 1; stroke-width: 2px;\"/></g><g class=\"legendsymbols\"><g class=\"legendpoints\"/></g></g><rect class=\"legendtoggle\" x=\"0\" y=\"-9.5\" width=\"90.09375\" height=\"19\" style=\"fill: rgb(0, 0, 0); fill-opacity: 0;\"/></g><g class=\"traces\" transform=\"translate(0,261.5)\" style=\"opacity: 1;\"><text class=\"legendtext\" text-anchor=\"start\" x=\"40\" y=\"4.680000000000001\" style=\"font-family: 'Open Sans', verdana, arial, sans-serif; font-size: 12px; fill: rgb(42, 63, 95); fill-opacity: 1; white-space: pre;\">trace 13</text><g class=\"layers\" style=\"opacity: 1;\"><g class=\"legendfill\"/><g class=\"legendlines\"><path class=\"js-line\" d=\"M5,0h30\" style=\"fill: none; stroke: rgb(0, 0, 0); stroke-opacity: 1; stroke-width: 2px;\"/></g><g class=\"legendsymbols\"><g class=\"legendpoints\"/></g></g><rect class=\"legendtoggle\" x=\"0\" y=\"-9.5\" width=\"90.09375\" height=\"19\" style=\"fill: rgb(0, 0, 0); fill-opacity: 0;\"/></g><g class=\"traces\" transform=\"translate(0,280.5)\" style=\"opacity: 1;\"><text class=\"legendtext\" text-anchor=\"start\" x=\"40\" y=\"4.680000000000001\" style=\"font-family: 'Open Sans', verdana, arial, sans-serif; font-size: 12px; fill: rgb(42, 63, 95); fill-opacity: 1; white-space: pre;\">trace 14</text><g class=\"layers\" style=\"opacity: 1;\"><g class=\"legendfill\"/><g class=\"legendlines\"><path class=\"js-line\" d=\"M5,0h30\" style=\"fill: none; stroke: rgb(0, 0, 0); stroke-opacity: 1; stroke-width: 2px;\"/></g><g class=\"legendsymbols\"><g class=\"legendpoints\"/></g></g><rect class=\"legendtoggle\" x=\"0\" y=\"-9.5\" width=\"90.09375\" height=\"19\" style=\"fill: rgb(0, 0, 0); fill-opacity: 0;\"/></g><g class=\"traces\" transform=\"translate(0,299.5)\" style=\"opacity: 1;\"><text class=\"legendtext\" text-anchor=\"start\" x=\"40\" y=\"4.680000000000001\" style=\"font-family: 'Open Sans', verdana, arial, sans-serif; font-size: 12px; fill: rgb(42, 63, 95); fill-opacity: 1; white-space: pre;\">trace 15</text><g class=\"layers\" style=\"opacity: 1;\"><g class=\"legendfill\"/><g class=\"legendlines\"><path class=\"js-line\" d=\"M5,0h30\" style=\"fill: none; stroke: rgb(0, 0, 0); stroke-opacity: 1; stroke-width: 2px;\"/></g><g class=\"legendsymbols\"><g class=\"legendpoints\"/></g></g><rect class=\"legendtoggle\" x=\"0\" y=\"-9.5\" width=\"90.09375\" height=\"19\" style=\"fill: rgb(0, 0, 0); fill-opacity: 0;\"/></g><g class=\"traces\" transform=\"translate(0,318.5)\" style=\"opacity: 1;\"><text class=\"legendtext\" text-anchor=\"start\" x=\"40\" y=\"4.680000000000001\" style=\"font-family: 'Open Sans', verdana, arial, sans-serif; font-size: 12px; fill: rgb(42, 63, 95); fill-opacity: 1; white-space: pre;\">trace 16</text><g class=\"layers\" style=\"opacity: 1;\"><g class=\"legendfill\"/><g class=\"legendlines\"><path class=\"js-line\" d=\"M5,0h30\" style=\"fill: none; stroke: rgb(0, 0, 0); stroke-opacity: 1; stroke-width: 2px;\"/></g><g class=\"legendsymbols\"><g class=\"legendpoints\"/></g></g><rect class=\"legendtoggle\" x=\"0\" y=\"-9.5\" width=\"90.09375\" height=\"19\" style=\"fill: rgb(0, 0, 0); fill-opacity: 0;\"/></g><g class=\"traces\" transform=\"translate(0,337.5)\" style=\"opacity: 1;\"><text class=\"legendtext\" text-anchor=\"start\" x=\"40\" y=\"4.680000000000001\" style=\"font-family: 'Open Sans', verdana, arial, sans-serif; font-size: 12px; fill: rgb(42, 63, 95); fill-opacity: 1; white-space: pre;\">trace 17</text><g class=\"layers\" style=\"opacity: 1;\"><g class=\"legendfill\"/><g class=\"legendlines\"><path class=\"js-line\" d=\"M5,0h30\" style=\"fill: none; stroke: rgb(0, 0, 0); stroke-opacity: 1; stroke-width: 2px;\"/></g><g class=\"legendsymbols\"><g class=\"legendpoints\"/></g></g><rect class=\"legendtoggle\" x=\"0\" y=\"-9.5\" width=\"90.09375\" height=\"19\" style=\"fill: rgb(0, 0, 0); fill-opacity: 0;\"/></g><g class=\"traces\" transform=\"translate(0,356.5)\" style=\"opacity: 1;\"><text class=\"legendtext\" text-anchor=\"start\" x=\"40\" y=\"4.680000000000001\" style=\"font-family: 'Open Sans', verdana, arial, sans-serif; font-size: 12px; fill: rgb(42, 63, 95); fill-opacity: 1; white-space: pre;\">trace 18</text><g class=\"layers\" style=\"opacity: 1;\"><g class=\"legendfill\"/><g class=\"legendlines\"><path class=\"js-line\" d=\"M5,0h30\" style=\"fill: none; stroke: rgb(0, 0, 0); stroke-opacity: 1; stroke-width: 2px;\"/></g><g class=\"legendsymbols\"><g class=\"legendpoints\"/></g></g><rect class=\"legendtoggle\" x=\"0\" y=\"-9.5\" width=\"90.09375\" height=\"19\" style=\"fill: rgb(0, 0, 0); fill-opacity: 0;\"/></g><g class=\"traces\" transform=\"translate(0,375.5)\" style=\"opacity: 1;\"><text class=\"legendtext\" text-anchor=\"start\" x=\"40\" y=\"4.680000000000001\" style=\"font-family: 'Open Sans', verdana, arial, sans-serif; font-size: 12px; fill: rgb(42, 63, 95); fill-opacity: 1; white-space: pre;\">trace 19</text><g class=\"layers\" style=\"opacity: 1;\"><g class=\"legendfill\"/><g class=\"legendlines\"><path class=\"js-line\" d=\"M5,0h30\" style=\"fill: none; stroke: rgb(0, 0, 0); stroke-opacity: 1; stroke-width: 2px;\"/></g><g class=\"legendsymbols\"><g class=\"legendpoints\"/></g></g><rect class=\"legendtoggle\" x=\"0\" y=\"-9.5\" width=\"90.09375\" height=\"19\" style=\"fill: rgb(0, 0, 0); fill-opacity: 0;\"/></g><g class=\"traces\" transform=\"translate(0,394.5)\" style=\"opacity: 1;\"><text class=\"legendtext\" text-anchor=\"start\" x=\"40\" y=\"4.680000000000001\" style=\"font-family: 'Open Sans', verdana, arial, sans-serif; font-size: 12px; fill: rgb(42, 63, 95); fill-opacity: 1; white-space: pre;\">trace 20</text><g class=\"layers\" style=\"opacity: 1;\"><g class=\"legendfill\"/><g class=\"legendlines\"><path class=\"js-line\" d=\"M5,0h30\" style=\"fill: none; stroke: rgb(0, 0, 0); stroke-opacity: 1; stroke-width: 2px;\"/></g><g class=\"legendsymbols\"><g class=\"legendpoints\"/></g></g><rect class=\"legendtoggle\" x=\"0\" y=\"-9.5\" width=\"90.09375\" height=\"19\" style=\"fill: rgb(0, 0, 0); fill-opacity: 0;\"/></g><g class=\"traces\" transform=\"translate(0,413.5)\" style=\"opacity: 1;\"><text class=\"legendtext\" text-anchor=\"start\" x=\"40\" y=\"4.680000000000001\" style=\"font-family: 'Open Sans', verdana, arial, sans-serif; font-size: 12px; fill: rgb(42, 63, 95); fill-opacity: 1; white-space: pre;\">trace 21</text><g class=\"layers\" style=\"opacity: 1;\"><g class=\"legendfill\"/><g class=\"legendlines\"><path class=\"js-line\" d=\"M5,0h30\" style=\"fill: none; stroke: rgb(0, 0, 0); stroke-opacity: 1; stroke-width: 2px;\"/></g><g class=\"legendsymbols\"><g class=\"legendpoints\"/></g></g><rect class=\"legendtoggle\" x=\"0\" y=\"-9.5\" width=\"90.09375\" height=\"19\" style=\"fill: rgb(0, 0, 0); fill-opacity: 0;\"/></g><g class=\"traces\" transform=\"translate(0,432.5)\" style=\"opacity: 1;\"><text class=\"legendtext\" text-anchor=\"start\" x=\"40\" y=\"4.680000000000001\" style=\"font-family: 'Open Sans', verdana, arial, sans-serif; font-size: 12px; fill: rgb(42, 63, 95); fill-opacity: 1; white-space: pre;\">trace 22</text><g class=\"layers\" style=\"opacity: 1;\"><g class=\"legendfill\"/><g class=\"legendlines\"><path class=\"js-line\" d=\"M5,0h30\" style=\"fill: none; stroke: rgb(0, 0, 0); stroke-opacity: 1; stroke-width: 2px;\"/></g><g class=\"legendsymbols\"><g class=\"legendpoints\"/></g></g><rect class=\"legendtoggle\" x=\"0\" y=\"-9.5\" width=\"90.09375\" height=\"19\" style=\"fill: rgb(0, 0, 0); fill-opacity: 0;\"/></g><g class=\"traces\" transform=\"translate(0,451.5)\" style=\"opacity: 1;\"><text class=\"legendtext\" text-anchor=\"start\" x=\"40\" y=\"4.680000000000001\" style=\"font-family: 'Open Sans', verdana, arial, sans-serif; font-size: 12px; fill: rgb(42, 63, 95); fill-opacity: 1; white-space: pre;\">trace 23</text><g class=\"layers\" style=\"opacity: 1;\"><g class=\"legendfill\"/><g class=\"legendlines\"><path class=\"js-line\" d=\"M5,0h30\" style=\"fill: none; stroke: rgb(0, 0, 0); stroke-opacity: 1; stroke-width: 2px;\"/></g><g class=\"legendsymbols\"><g class=\"legendpoints\"/></g></g><rect class=\"legendtoggle\" x=\"0\" y=\"-9.5\" width=\"90.09375\" height=\"19\" style=\"fill: rgb(0, 0, 0); fill-opacity: 0;\"/></g><g class=\"traces\" transform=\"translate(0,470.5)\" style=\"opacity: 1;\"><text class=\"legendtext\" text-anchor=\"start\" x=\"40\" y=\"4.680000000000001\" style=\"font-family: 'Open Sans', verdana, arial, sans-serif; font-size: 12px; fill: rgb(42, 63, 95); fill-opacity: 1; white-space: pre;\">trace 24</text><g class=\"layers\" style=\"opacity: 1;\"><g class=\"legendfill\"/><g class=\"legendlines\"><path class=\"js-line\" d=\"M5,0h30\" style=\"fill: none; stroke: rgb(0, 0, 0); stroke-opacity: 1; stroke-width: 2px;\"/></g><g class=\"legendsymbols\"><g class=\"legendpoints\"/></g></g><rect class=\"legendtoggle\" x=\"0\" y=\"-9.5\" width=\"90.09375\" height=\"19\" style=\"fill: rgb(0, 0, 0); fill-opacity: 0;\"/></g><g class=\"traces\" transform=\"translate(0,489.5)\" style=\"opacity: 1;\"><text class=\"legendtext\" text-anchor=\"start\" x=\"40\" y=\"4.680000000000001\" style=\"font-family: 'Open Sans', verdana, arial, sans-serif; font-size: 12px; fill: rgb(42, 63, 95); fill-opacity: 1; white-space: pre;\">trace 25</text><g class=\"layers\" style=\"opacity: 1;\"><g class=\"legendfill\"/><g class=\"legendlines\"><path class=\"js-line\" d=\"M5,0h30\" style=\"fill: none; stroke: rgb(0, 0, 0); stroke-opacity: 1; stroke-width: 2px;\"/></g><g class=\"legendsymbols\"><g class=\"legendpoints\"/></g></g><rect class=\"legendtoggle\" x=\"0\" y=\"-9.5\" width=\"90.09375\" height=\"19\" style=\"fill: rgb(0, 0, 0); fill-opacity: 0;\"/></g><g class=\"traces\" transform=\"translate(0,508.5)\" style=\"opacity: 1;\"><text class=\"legendtext\" text-anchor=\"start\" x=\"40\" y=\"4.680000000000001\" style=\"font-family: 'Open Sans', verdana, arial, sans-serif; font-size: 12px; fill: rgb(42, 63, 95); fill-opacity: 1; white-space: pre;\">trace 26</text><g class=\"layers\" style=\"opacity: 1;\"><g class=\"legendfill\"/><g class=\"legendlines\"><path class=\"js-line\" d=\"M5,0h30\" style=\"fill: none; stroke: rgb(0, 0, 0); stroke-opacity: 1; stroke-width: 2px;\"/></g><g class=\"legendsymbols\"><g class=\"legendpoints\"/></g></g><rect class=\"legendtoggle\" x=\"0\" y=\"-9.5\" width=\"90.09375\" height=\"19\" style=\"fill: rgb(0, 0, 0); fill-opacity: 0;\"/></g><g class=\"traces\" transform=\"translate(0,527.5)\" style=\"opacity: 1;\"><text class=\"legendtext\" text-anchor=\"start\" x=\"40\" y=\"4.680000000000001\" style=\"font-family: 'Open Sans', verdana, arial, sans-serif; font-size: 12px; fill: rgb(42, 63, 95); fill-opacity: 1; white-space: pre;\">trace 27</text><g class=\"layers\" style=\"opacity: 1;\"><g class=\"legendfill\"/><g class=\"legendlines\"><path class=\"js-line\" d=\"M5,0h30\" style=\"fill: none; stroke: rgb(0, 0, 0); stroke-opacity: 1; stroke-width: 2px;\"/></g><g class=\"legendsymbols\"><g class=\"legendpoints\"/></g></g><rect class=\"legendtoggle\" x=\"0\" y=\"-9.5\" width=\"90.09375\" height=\"19\" style=\"fill: rgb(0, 0, 0); fill-opacity: 0;\"/></g><g class=\"traces\" transform=\"translate(0,546.5)\" style=\"opacity: 1;\"><text class=\"legendtext\" text-anchor=\"start\" x=\"40\" y=\"4.680000000000001\" style=\"font-family: 'Open Sans', verdana, arial, sans-serif; font-size: 12px; fill: rgb(42, 63, 95); fill-opacity: 1; white-space: pre;\">trace 28</text><g class=\"layers\" style=\"opacity: 1;\"><g class=\"legendfill\"/><g class=\"legendlines\"><path class=\"js-line\" d=\"M5,0h30\" style=\"fill: none; stroke: rgb(0, 0, 0); stroke-opacity: 1; stroke-width: 2px;\"/></g><g class=\"legendsymbols\"><g class=\"legendpoints\"/></g></g><rect class=\"legendtoggle\" x=\"0\" y=\"-9.5\" width=\"90.09375\" height=\"19\" style=\"fill: rgb(0, 0, 0); fill-opacity: 0;\"/></g><g class=\"traces\" transform=\"translate(0,565.5)\" style=\"opacity: 1;\"><text class=\"legendtext\" text-anchor=\"start\" x=\"40\" y=\"4.680000000000001\" style=\"font-family: 'Open Sans', verdana, arial, sans-serif; font-size: 12px; fill: rgb(42, 63, 95); fill-opacity: 1; white-space: pre;\">trace 29</text><g class=\"layers\" style=\"opacity: 1;\"><g class=\"legendfill\"/><g class=\"legendlines\"><path class=\"js-line\" d=\"M5,0h30\" style=\"fill: none; stroke: rgb(0, 0, 0); stroke-opacity: 1; stroke-width: 2px;\"/></g><g class=\"legendsymbols\"><g class=\"legendpoints\"/></g></g><rect class=\"legendtoggle\" x=\"0\" y=\"-9.5\" width=\"90.09375\" height=\"19\" style=\"fill: rgb(0, 0, 0); fill-opacity: 0;\"/></g><g class=\"traces\" transform=\"translate(0,584.5)\" style=\"opacity: 1;\"><text class=\"legendtext\" text-anchor=\"start\" x=\"40\" y=\"4.680000000000001\" style=\"font-family: 'Open Sans', verdana, arial, sans-serif; font-size: 12px; fill: rgb(42, 63, 95); fill-opacity: 1; white-space: pre;\">trace 30</text><g class=\"layers\" style=\"opacity: 1;\"><g class=\"legendfill\"/><g class=\"legendlines\"><path class=\"js-line\" d=\"M5,0h30\" style=\"fill: none; stroke: rgb(0, 0, 0); stroke-opacity: 1; stroke-width: 2px;\"/></g><g class=\"legendsymbols\"><g class=\"legendpoints\"/></g></g><rect class=\"legendtoggle\" x=\"0\" y=\"-9.5\" width=\"90.09375\" height=\"19\" style=\"fill: rgb(0, 0, 0); fill-opacity: 0;\"/></g><g class=\"traces\" transform=\"translate(0,603.5)\" style=\"opacity: 1;\"><text class=\"legendtext\" text-anchor=\"start\" x=\"40\" y=\"4.680000000000001\" style=\"font-family: 'Open Sans', verdana, arial, sans-serif; font-size: 12px; fill: rgb(42, 63, 95); fill-opacity: 1; white-space: pre;\">trace 31</text><g class=\"layers\" style=\"opacity: 1;\"><g class=\"legendfill\"/><g class=\"legendlines\"><path class=\"js-line\" d=\"M5,0h30\" style=\"fill: none; stroke: rgb(0, 0, 0); stroke-opacity: 1; stroke-width: 2px;\"/></g><g class=\"legendsymbols\"><g class=\"legendpoints\"/></g></g><rect class=\"legendtoggle\" x=\"0\" y=\"-9.5\" width=\"90.09375\" height=\"19\" style=\"fill: rgb(0, 0, 0); fill-opacity: 0;\"/></g><g class=\"traces\" transform=\"translate(0,622.5)\" style=\"opacity: 1;\"><text class=\"legendtext\" text-anchor=\"start\" x=\"40\" y=\"4.680000000000001\" style=\"font-family: 'Open Sans', verdana, arial, sans-serif; font-size: 12px; fill: rgb(42, 63, 95); fill-opacity: 1; white-space: pre;\">trace 32</text><g class=\"layers\" style=\"opacity: 1;\"><g class=\"legendfill\"/><g class=\"legendlines\"><path class=\"js-line\" d=\"M5,0h30\" style=\"fill: none; stroke: rgb(0, 0, 0); stroke-opacity: 1; stroke-width: 2px;\"/></g><g class=\"legendsymbols\"><g class=\"legendpoints\"/></g></g><rect class=\"legendtoggle\" x=\"0\" y=\"-9.5\" width=\"90.09375\" height=\"19\" style=\"fill: rgb(0, 0, 0); fill-opacity: 0;\"/></g><g class=\"traces\" transform=\"translate(0,641.5)\" style=\"opacity: 1;\"><text class=\"legendtext\" text-anchor=\"start\" x=\"40\" y=\"4.680000000000001\" style=\"font-family: 'Open Sans', verdana, arial, sans-serif; font-size: 12px; fill: rgb(42, 63, 95); fill-opacity: 1; white-space: pre;\">trace 33</text><g class=\"layers\" style=\"opacity: 1;\"><g class=\"legendfill\"/><g class=\"legendlines\"><path class=\"js-line\" d=\"M5,0h30\" style=\"fill: none; stroke: rgb(0, 0, 0); stroke-opacity: 1; stroke-width: 2px;\"/></g><g class=\"legendsymbols\"><g class=\"legendpoints\"/></g></g><rect class=\"legendtoggle\" x=\"0\" y=\"-9.5\" width=\"90.09375\" height=\"19\" style=\"fill: rgb(0, 0, 0); fill-opacity: 0;\"/></g><g class=\"traces\" transform=\"translate(0,660.5)\" style=\"opacity: 1;\"><text class=\"legendtext\" text-anchor=\"start\" x=\"40\" y=\"4.680000000000001\" style=\"font-family: 'Open Sans', verdana, arial, sans-serif; font-size: 12px; fill: rgb(42, 63, 95); fill-opacity: 1; white-space: pre;\">trace 34</text><g class=\"layers\" style=\"opacity: 1;\"><g class=\"legendfill\"/><g class=\"legendlines\"><path class=\"js-line\" d=\"M5,0h30\" style=\"fill: none; stroke: rgb(0, 0, 0); stroke-opacity: 1; stroke-width: 2px;\"/></g><g class=\"legendsymbols\"><g class=\"legendpoints\"/></g></g><rect class=\"legendtoggle\" x=\"0\" y=\"-9.5\" width=\"90.09375\" height=\"19\" style=\"fill: rgb(0, 0, 0); fill-opacity: 0;\"/></g><g class=\"traces\" transform=\"translate(0,679.5)\" style=\"opacity: 1;\"><text class=\"legendtext\" text-anchor=\"start\" x=\"40\" y=\"4.680000000000001\" style=\"font-family: 'Open Sans', verdana, arial, sans-serif; font-size: 12px; fill: rgb(42, 63, 95); fill-opacity: 1; white-space: pre;\">trace 35</text><g class=\"layers\" style=\"opacity: 1;\"><g class=\"legendfill\"/><g class=\"legendlines\"><path class=\"js-line\" d=\"M5,0h30\" style=\"fill: none; stroke: rgb(0, 0, 0); stroke-opacity: 1; stroke-width: 2px;\"/></g><g class=\"legendsymbols\"><g class=\"legendpoints\"/></g></g><rect class=\"legendtoggle\" x=\"0\" y=\"-9.5\" width=\"90.09375\" height=\"19\" style=\"fill: rgb(0, 0, 0); fill-opacity: 0;\"/></g><g class=\"traces\" transform=\"translate(0,698.5)\" style=\"opacity: 1;\"><text class=\"legendtext\" text-anchor=\"start\" x=\"40\" y=\"4.680000000000001\" style=\"font-family: 'Open Sans', verdana, arial, sans-serif; font-size: 12px; fill: rgb(42, 63, 95); fill-opacity: 1; white-space: pre;\">trace 36</text><g class=\"layers\" style=\"opacity: 1;\"><g class=\"legendfill\"/><g class=\"legendlines\"><path class=\"js-line\" d=\"M5,0h30\" style=\"fill: none; stroke: rgb(0, 0, 0); stroke-opacity: 1; stroke-width: 2px;\"/></g><g class=\"legendsymbols\"><g class=\"legendpoints\"/></g></g><rect class=\"legendtoggle\" x=\"0\" y=\"-9.5\" width=\"90.09375\" height=\"19\" style=\"fill: rgb(0, 0, 0); fill-opacity: 0;\"/></g><g class=\"traces\" transform=\"translate(0,717.5)\" style=\"opacity: 1;\"><text class=\"legendtext\" text-anchor=\"start\" x=\"40\" y=\"4.680000000000001\" style=\"font-family: 'Open Sans', verdana, arial, sans-serif; font-size: 12px; fill: rgb(42, 63, 95); fill-opacity: 1; white-space: pre;\">trace 37</text><g class=\"layers\" style=\"opacity: 1;\"><g class=\"legendfill\"/><g class=\"legendlines\"><path class=\"js-line\" d=\"M5,0h30\" style=\"fill: none; stroke: rgb(0, 0, 0); stroke-opacity: 1; stroke-width: 2px;\"/></g><g class=\"legendsymbols\"><g class=\"legendpoints\"/></g></g><rect class=\"legendtoggle\" x=\"0\" y=\"-9.5\" width=\"90.09375\" height=\"19\" style=\"fill: rgb(0, 0, 0); fill-opacity: 0;\"/></g><g class=\"traces\" transform=\"translate(0,736.5)\" style=\"opacity: 1;\"><text class=\"legendtext\" text-anchor=\"start\" x=\"40\" y=\"4.680000000000001\" style=\"font-family: 'Open Sans', verdana, arial, sans-serif; font-size: 12px; fill: rgb(42, 63, 95); fill-opacity: 1; white-space: pre;\">trace 38</text><g class=\"layers\" style=\"opacity: 1;\"><g class=\"legendfill\"/><g class=\"legendlines\"><path class=\"js-line\" d=\"M5,0h30\" style=\"fill: none; stroke: rgb(0, 0, 0); stroke-opacity: 1; stroke-width: 2px;\"/></g><g class=\"legendsymbols\"><g class=\"legendpoints\"/></g></g><rect class=\"legendtoggle\" x=\"0\" y=\"-9.5\" width=\"90.09375\" height=\"19\" style=\"fill: rgb(0, 0, 0); fill-opacity: 0;\"/></g><g class=\"traces\" transform=\"translate(0,755.5)\" style=\"opacity: 1;\"><text class=\"legendtext\" text-anchor=\"start\" x=\"40\" y=\"4.680000000000001\" style=\"font-family: 'Open Sans', verdana, arial, sans-serif; font-size: 12px; fill: rgb(42, 63, 95); fill-opacity: 1; white-space: pre;\">trace 39</text><g class=\"layers\" style=\"opacity: 1;\"><g class=\"legendfill\"/><g class=\"legendlines\"><path class=\"js-line\" d=\"M5,0h30\" style=\"fill: none; stroke: rgb(0, 0, 0); stroke-opacity: 1; stroke-width: 2px;\"/></g><g class=\"legendsymbols\"><g class=\"legendpoints\"/></g></g><rect class=\"legendtoggle\" x=\"0\" y=\"-9.5\" width=\"90.09375\" height=\"19\" style=\"fill: rgb(0, 0, 0); fill-opacity: 0;\"/></g><g class=\"traces\" transform=\"translate(0,774.5)\" style=\"opacity: 1;\"><text class=\"legendtext\" text-anchor=\"start\" x=\"40\" y=\"4.680000000000001\" style=\"font-family: 'Open Sans', verdana, arial, sans-serif; font-size: 12px; fill: rgb(42, 63, 95); fill-opacity: 1; white-space: pre;\">trace 40</text><g class=\"layers\" style=\"opacity: 1;\"><g class=\"legendfill\"/><g class=\"legendlines\"><path class=\"js-line\" d=\"M5,0h30\" style=\"fill: none; stroke: rgb(0, 0, 0); stroke-opacity: 1; stroke-width: 2px;\"/></g><g class=\"legendsymbols\"><g class=\"legendpoints\"/></g></g><rect class=\"legendtoggle\" x=\"0\" y=\"-9.5\" width=\"90.09375\" height=\"19\" style=\"fill: rgb(0, 0, 0); fill-opacity: 0;\"/></g><g class=\"traces\" transform=\"translate(0,793.5)\" style=\"opacity: 1;\"><text class=\"legendtext\" text-anchor=\"start\" x=\"40\" y=\"4.680000000000001\" style=\"font-family: 'Open Sans', verdana, arial, sans-serif; font-size: 12px; fill: rgb(42, 63, 95); fill-opacity: 1; white-space: pre;\">trace 41</text><g class=\"layers\" style=\"opacity: 1;\"><g class=\"legendfill\"/><g class=\"legendlines\"><path class=\"js-line\" d=\"M5,0h30\" style=\"fill: none; stroke: rgb(0, 0, 0); stroke-opacity: 1; stroke-width: 2px;\"/></g><g class=\"legendsymbols\"><g class=\"legendpoints\"/></g></g><rect class=\"legendtoggle\" x=\"0\" y=\"-9.5\" width=\"90.09375\" height=\"19\" style=\"fill: rgb(0, 0, 0); fill-opacity: 0;\"/></g><g class=\"traces\" transform=\"translate(0,812.5)\" style=\"opacity: 1;\"><text class=\"legendtext\" text-anchor=\"start\" x=\"40\" y=\"4.680000000000001\" style=\"font-family: 'Open Sans', verdana, arial, sans-serif; font-size: 12px; fill: rgb(42, 63, 95); fill-opacity: 1; white-space: pre;\">trace 42</text><g class=\"layers\" style=\"opacity: 1;\"><g class=\"legendfill\"/><g class=\"legendlines\"><path class=\"js-line\" d=\"M5,0h30\" style=\"fill: none; stroke: rgb(0, 0, 0); stroke-opacity: 1; stroke-width: 2px;\"/></g><g class=\"legendsymbols\"><g class=\"legendpoints\"/></g></g><rect class=\"legendtoggle\" x=\"0\" y=\"-9.5\" width=\"90.09375\" height=\"19\" style=\"fill: rgb(0, 0, 0); fill-opacity: 0;\"/></g><g class=\"traces\" transform=\"translate(0,831.5)\" style=\"opacity: 1;\"><text class=\"legendtext\" text-anchor=\"start\" x=\"40\" y=\"4.680000000000001\" style=\"font-family: 'Open Sans', verdana, arial, sans-serif; font-size: 12px; fill: rgb(42, 63, 95); fill-opacity: 1; white-space: pre;\">trace 43</text><g class=\"layers\" style=\"opacity: 1;\"><g class=\"legendfill\"/><g class=\"legendlines\"><path class=\"js-line\" d=\"M5,0h30\" style=\"fill: none; stroke: rgb(0, 0, 0); stroke-opacity: 1; stroke-width: 2px;\"/></g><g class=\"legendsymbols\"><g class=\"legendpoints\"/></g></g><rect class=\"legendtoggle\" x=\"0\" y=\"-9.5\" width=\"90.09375\" height=\"19\" style=\"fill: rgb(0, 0, 0); fill-opacity: 0;\"/></g><g class=\"traces\" transform=\"translate(0,850.5)\" style=\"opacity: 1;\"><text class=\"legendtext\" text-anchor=\"start\" x=\"40\" y=\"4.680000000000001\" style=\"font-family: 'Open Sans', verdana, arial, sans-serif; font-size: 12px; fill: rgb(42, 63, 95); fill-opacity: 1; white-space: pre;\">trace 44</text><g class=\"layers\" style=\"opacity: 1;\"><g class=\"legendfill\"/><g class=\"legendlines\"><path class=\"js-line\" d=\"M5,0h30\" style=\"fill: none; stroke: rgb(0, 0, 0); stroke-opacity: 1; stroke-width: 2px;\"/></g><g class=\"legendsymbols\"><g class=\"legendpoints\"/></g></g><rect class=\"legendtoggle\" x=\"0\" y=\"-9.5\" width=\"90.09375\" height=\"19\" style=\"fill: rgb(0, 0, 0); fill-opacity: 0;\"/></g><g class=\"traces\" transform=\"translate(0,869.5)\" style=\"opacity: 1;\"><text class=\"legendtext\" text-anchor=\"start\" x=\"40\" y=\"4.680000000000001\" style=\"font-family: 'Open Sans', verdana, arial, sans-serif; font-size: 12px; fill: rgb(42, 63, 95); fill-opacity: 1; white-space: pre;\">trace 45</text><g class=\"layers\" style=\"opacity: 1;\"><g class=\"legendfill\"/><g class=\"legendlines\"><path class=\"js-line\" d=\"M5,0h30\" style=\"fill: none; stroke: rgb(0, 0, 0); stroke-opacity: 1; stroke-width: 2px;\"/></g><g class=\"legendsymbols\"><g class=\"legendpoints\"/></g></g><rect class=\"legendtoggle\" x=\"0\" y=\"-9.5\" width=\"90.09375\" height=\"19\" style=\"fill: rgb(0, 0, 0); fill-opacity: 0;\"/></g><g class=\"traces\" transform=\"translate(0,888.5)\" style=\"opacity: 1;\"><text class=\"legendtext\" text-anchor=\"start\" x=\"40\" y=\"4.680000000000001\" style=\"font-family: 'Open Sans', verdana, arial, sans-serif; font-size: 12px; fill: rgb(42, 63, 95); fill-opacity: 1; white-space: pre;\">trace 47</text><g class=\"layers\" style=\"opacity: 1;\"><g class=\"legendfill\"/><g class=\"legendlines\"/><g class=\"legendsymbols\"><g class=\"legendpoints\"><path class=\"scatterpts\" transform=\"translate(20,0)\" d=\"M2,0A2,2 0 1,1 0,-2A2,2 0 0,1 2,0Z\" style=\"opacity: 1; stroke-width: 0px; fill: rgb(255, 155, 255); fill-opacity: 1;\"/></g></g></g><rect class=\"legendtoggle\" x=\"0\" y=\"-9.5\" width=\"90.09375\" height=\"19\" style=\"fill: rgb(0, 0, 0); fill-opacity: 0;\"/></g><g class=\"traces\" transform=\"translate(0,907.5)\" style=\"opacity: 1;\"><text class=\"legendtext\" text-anchor=\"start\" x=\"40\" y=\"4.680000000000001\" style=\"font-family: 'Open Sans', verdana, arial, sans-serif; font-size: 12px; fill: rgb(42, 63, 95); fill-opacity: 1; white-space: pre;\">trace 48</text><g class=\"layers\" style=\"opacity: 1;\"><g class=\"legendfill\"/><g class=\"legendlines\"><path class=\"js-line\" d=\"M5,0h30\" style=\"fill: none; stroke: rgb(0, 0, 0); stroke-opacity: 1; stroke-width: 2px;\"/></g><g class=\"legendsymbols\"><g class=\"legendpoints\"/></g></g><rect class=\"legendtoggle\" x=\"0\" y=\"-9.5\" width=\"90.09375\" height=\"19\" style=\"fill: rgb(0, 0, 0); fill-opacity: 0;\"/></g><g class=\"traces\" transform=\"translate(0,926.5)\" style=\"opacity: 1;\"><text class=\"legendtext\" text-anchor=\"start\" x=\"40\" y=\"4.680000000000001\" style=\"font-family: 'Open Sans', verdana, arial, sans-serif; font-size: 12px; fill: rgb(42, 63, 95); fill-opacity: 1; white-space: pre;\">trace 49</text><g class=\"layers\" style=\"opacity: 1;\"><g class=\"legendfill\"/><g class=\"legendlines\"><path class=\"js-line\" d=\"M5,0h30\" style=\"fill: none; stroke: rgb(0, 0, 0); stroke-opacity: 1; stroke-width: 2px;\"/></g><g class=\"legendsymbols\"><g class=\"legendpoints\"/></g></g><rect class=\"legendtoggle\" x=\"0\" y=\"-9.5\" width=\"90.09375\" height=\"19\" style=\"fill: rgb(0, 0, 0); fill-opacity: 0;\"/></g><g class=\"traces\" transform=\"translate(0,945.5)\" style=\"opacity: 1;\"><text class=\"legendtext\" text-anchor=\"start\" x=\"40\" y=\"4.680000000000001\" style=\"font-family: 'Open Sans', verdana, arial, sans-serif; font-size: 12px; fill: rgb(42, 63, 95); fill-opacity: 1; white-space: pre;\">trace 50</text><g class=\"layers\" style=\"opacity: 1;\"><g class=\"legendfill\"/><g class=\"legendlines\"><path class=\"js-line\" d=\"M5,0h30\" style=\"fill: none; stroke: rgb(0, 0, 0); stroke-opacity: 1; stroke-width: 2px;\"/></g><g class=\"legendsymbols\"><g class=\"legendpoints\"/></g></g><rect class=\"legendtoggle\" x=\"0\" y=\"-9.5\" width=\"90.09375\" height=\"19\" style=\"fill: rgb(0, 0, 0); fill-opacity: 0;\"/></g><g class=\"traces\" transform=\"translate(0,964.5)\" style=\"opacity: 1;\"><text class=\"legendtext\" text-anchor=\"start\" x=\"40\" y=\"4.680000000000001\" style=\"font-family: 'Open Sans', verdana, arial, sans-serif; font-size: 12px; fill: rgb(42, 63, 95); fill-opacity: 1; white-space: pre;\">trace 51</text><g class=\"layers\" style=\"opacity: 1;\"><g class=\"legendfill\"/><g class=\"legendlines\"><path class=\"js-line\" d=\"M5,0h30\" style=\"fill: none; stroke: rgb(0, 0, 0); stroke-opacity: 1; stroke-width: 2px;\"/></g><g class=\"legendsymbols\"><g class=\"legendpoints\"/></g></g><rect class=\"legendtoggle\" x=\"0\" y=\"-9.5\" width=\"90.09375\" height=\"19\" style=\"fill: rgb(0, 0, 0); fill-opacity: 0;\"/></g><g class=\"traces\" transform=\"translate(0,983.5)\" style=\"opacity: 1;\"><text class=\"legendtext\" text-anchor=\"start\" x=\"40\" y=\"4.680000000000001\" style=\"font-family: 'Open Sans', verdana, arial, sans-serif; font-size: 12px; fill: rgb(42, 63, 95); fill-opacity: 1; white-space: pre;\">trace 52</text><g class=\"layers\" style=\"opacity: 1;\"><g class=\"legendfill\"/><g class=\"legendlines\"><path class=\"js-line\" d=\"M5,0h30\" style=\"fill: none; stroke: rgb(0, 0, 0); stroke-opacity: 1; stroke-width: 2px;\"/></g><g class=\"legendsymbols\"><g class=\"legendpoints\"/></g></g><rect class=\"legendtoggle\" x=\"0\" y=\"-9.5\" width=\"90.09375\" height=\"19\" style=\"fill: rgb(0, 0, 0); fill-opacity: 0;\"/></g><g class=\"traces\" transform=\"translate(0,1002.5)\" style=\"opacity: 1;\"><text class=\"legendtext\" text-anchor=\"start\" x=\"40\" y=\"4.680000000000001\" style=\"font-family: 'Open Sans', verdana, arial, sans-serif; font-size: 12px; fill: rgb(42, 63, 95); fill-opacity: 1; white-space: pre;\">trace 53</text><g class=\"layers\" style=\"opacity: 1;\"><g class=\"legendfill\"/><g class=\"legendlines\"><path class=\"js-line\" d=\"M5,0h30\" style=\"fill: none; stroke: rgb(0, 0, 0); stroke-opacity: 1; stroke-width: 2px;\"/></g><g class=\"legendsymbols\"><g class=\"legendpoints\"/></g></g><rect class=\"legendtoggle\" x=\"0\" y=\"-9.5\" width=\"90.09375\" height=\"19\" style=\"fill: rgb(0, 0, 0); fill-opacity: 0;\"/></g><g class=\"traces\" transform=\"translate(0,1021.5)\" style=\"opacity: 1;\"><text class=\"legendtext\" text-anchor=\"start\" x=\"40\" y=\"4.680000000000001\" style=\"font-family: 'Open Sans', verdana, arial, sans-serif; font-size: 12px; fill: rgb(42, 63, 95); fill-opacity: 1; white-space: pre;\">trace 55</text><g class=\"layers\" style=\"opacity: 1;\"><g class=\"legendfill\"/><g class=\"legendlines\"/><g class=\"legendsymbols\"><g class=\"legendpoints\"><path class=\"scatterpts\" transform=\"translate(20,0)\" d=\"M2,0A2,2 0 1,1 0,-2A2,2 0 0,1 2,0Z\" style=\"opacity: 1; stroke-width: 0px; fill: rgb(255, 255, 116); fill-opacity: 1;\"/></g></g></g><rect class=\"legendtoggle\" x=\"0\" y=\"-9.5\" width=\"90.09375\" height=\"19\" style=\"fill: rgb(0, 0, 0); fill-opacity: 0;\"/></g><g class=\"traces\" transform=\"translate(0,1040.5)\" style=\"opacity: 1;\"><text class=\"legendtext\" text-anchor=\"start\" x=\"40\" y=\"4.680000000000001\" style=\"font-family: 'Open Sans', verdana, arial, sans-serif; font-size: 12px; fill: rgb(42, 63, 95); fill-opacity: 1; white-space: pre;\">trace 56</text><g class=\"layers\" style=\"opacity: 1;\"><g class=\"legendfill\"/><g class=\"legendlines\"><path class=\"js-line\" d=\"M5,0h30\" style=\"fill: none; stroke: rgb(0, 0, 0); stroke-opacity: 1; stroke-width: 2px;\"/></g><g class=\"legendsymbols\"><g class=\"legendpoints\"/></g></g><rect class=\"legendtoggle\" x=\"0\" y=\"-9.5\" width=\"90.09375\" height=\"19\" style=\"fill: rgb(0, 0, 0); fill-opacity: 0;\"/></g><g class=\"traces\" transform=\"translate(0,1059.5)\" style=\"opacity: 1;\"><text class=\"legendtext\" text-anchor=\"start\" x=\"40\" y=\"4.680000000000001\" style=\"font-family: 'Open Sans', verdana, arial, sans-serif; font-size: 12px; fill: rgb(42, 63, 95); fill-opacity: 1; white-space: pre;\">trace 57</text><g class=\"layers\" style=\"opacity: 1;\"><g class=\"legendfill\"/><g class=\"legendlines\"><path class=\"js-line\" d=\"M5,0h30\" style=\"fill: none; stroke: rgb(0, 0, 0); stroke-opacity: 1; stroke-width: 2px;\"/></g><g class=\"legendsymbols\"><g class=\"legendpoints\"/></g></g><rect class=\"legendtoggle\" x=\"0\" y=\"-9.5\" width=\"90.09375\" height=\"19\" style=\"fill: rgb(0, 0, 0); fill-opacity: 0;\"/></g><g class=\"traces\" transform=\"translate(0,1078.5)\" style=\"opacity: 1;\"><text class=\"legendtext\" text-anchor=\"start\" x=\"40\" y=\"4.680000000000001\" style=\"font-family: 'Open Sans', verdana, arial, sans-serif; font-size: 12px; fill: rgb(42, 63, 95); fill-opacity: 1; white-space: pre;\">trace 58</text><g class=\"layers\" style=\"opacity: 1;\"><g class=\"legendfill\"/><g class=\"legendlines\"><path class=\"js-line\" d=\"M5,0h30\" style=\"fill: none; stroke: rgb(0, 0, 0); stroke-opacity: 1; stroke-width: 2px;\"/></g><g class=\"legendsymbols\"><g class=\"legendpoints\"/></g></g><rect class=\"legendtoggle\" x=\"0\" y=\"-9.5\" width=\"90.09375\" height=\"19\" style=\"fill: rgb(0, 0, 0); fill-opacity: 0;\"/></g><g class=\"traces\" transform=\"translate(0,1097.5)\" style=\"opacity: 1;\"><text class=\"legendtext\" text-anchor=\"start\" x=\"40\" y=\"4.680000000000001\" style=\"font-family: 'Open Sans', verdana, arial, sans-serif; font-size: 12px; fill: rgb(42, 63, 95); fill-opacity: 1; white-space: pre;\">trace 59</text><g class=\"layers\" style=\"opacity: 1;\"><g class=\"legendfill\"/><g class=\"legendlines\"><path class=\"js-line\" d=\"M5,0h30\" style=\"fill: none; stroke: rgb(0, 0, 0); stroke-opacity: 1; stroke-width: 2px;\"/></g><g class=\"legendsymbols\"><g class=\"legendpoints\"/></g></g><rect class=\"legendtoggle\" x=\"0\" y=\"-9.5\" width=\"90.09375\" height=\"19\" style=\"fill: rgb(0, 0, 0); fill-opacity: 0;\"/></g><g class=\"traces\" transform=\"translate(0,1116.5)\" style=\"opacity: 1;\"><text class=\"legendtext\" text-anchor=\"start\" x=\"40\" y=\"4.680000000000001\" style=\"font-family: 'Open Sans', verdana, arial, sans-serif; font-size: 12px; fill: rgb(42, 63, 95); fill-opacity: 1; white-space: pre;\">trace 60</text><g class=\"layers\" style=\"opacity: 1;\"><g class=\"legendfill\"/><g class=\"legendlines\"><path class=\"js-line\" d=\"M5,0h30\" style=\"fill: none; stroke: rgb(0, 0, 0); stroke-opacity: 1; stroke-width: 2px;\"/></g><g class=\"legendsymbols\"><g class=\"legendpoints\"/></g></g><rect class=\"legendtoggle\" x=\"0\" y=\"-9.5\" width=\"90.09375\" height=\"19\" style=\"fill: rgb(0, 0, 0); fill-opacity: 0;\"/></g><g class=\"traces\" transform=\"translate(0,1135.5)\" style=\"opacity: 1;\"><text class=\"legendtext\" text-anchor=\"start\" x=\"40\" y=\"4.680000000000001\" style=\"font-family: 'Open Sans', verdana, arial, sans-serif; font-size: 12px; fill: rgb(42, 63, 95); fill-opacity: 1; white-space: pre;\">trace 61</text><g class=\"layers\" style=\"opacity: 1;\"><g class=\"legendfill\"/><g class=\"legendlines\"><path class=\"js-line\" d=\"M5,0h30\" style=\"fill: none; stroke: rgb(0, 0, 0); stroke-opacity: 1; stroke-width: 2px;\"/></g><g class=\"legendsymbols\"><g class=\"legendpoints\"/></g></g><rect class=\"legendtoggle\" x=\"0\" y=\"-9.5\" width=\"90.09375\" height=\"19\" style=\"fill: rgb(0, 0, 0); fill-opacity: 0;\"/></g><g class=\"traces\" transform=\"translate(0,1154.5)\" style=\"opacity: 1;\"><text class=\"legendtext\" text-anchor=\"start\" x=\"40\" y=\"4.680000000000001\" style=\"font-family: 'Open Sans', verdana, arial, sans-serif; font-size: 12px; fill: rgb(42, 63, 95); fill-opacity: 1; white-space: pre;\">trace 63</text><g class=\"layers\" style=\"opacity: 1;\"><g class=\"legendfill\"/><g class=\"legendlines\"/><g class=\"legendsymbols\"><g class=\"legendpoints\"><path class=\"scatterpts\" transform=\"translate(20,0)\" d=\"M2,0A2,2 0 1,1 0,-2A2,2 0 0,1 2,0Z\" style=\"opacity: 1; stroke-width: 0px; fill: rgb(0, 0, 0); fill-opacity: 1;\"/></g></g></g><rect class=\"legendtoggle\" x=\"0\" y=\"-9.5\" width=\"90.09375\" height=\"19\" style=\"fill: rgb(0, 0, 0); fill-opacity: 0;\"/></g><g class=\"traces\" transform=\"translate(0,1173.5)\" style=\"opacity: 1;\"><text class=\"legendtext\" text-anchor=\"start\" x=\"40\" y=\"4.680000000000001\" style=\"font-family: 'Open Sans', verdana, arial, sans-serif; font-size: 12px; fill: rgb(42, 63, 95); fill-opacity: 1; white-space: pre;\">trace 64</text><g class=\"layers\" style=\"opacity: 1;\"><g class=\"legendfill\"/><g class=\"legendlines\"><path class=\"js-line\" d=\"M5,0h30\" style=\"fill: none; stroke: rgb(0, 0, 0); stroke-opacity: 1; stroke-width: 2px;\"/></g><g class=\"legendsymbols\"><g class=\"legendpoints\"/></g></g><rect class=\"legendtoggle\" x=\"0\" y=\"-9.5\" width=\"90.09375\" height=\"19\" style=\"fill: rgb(0, 0, 0); fill-opacity: 0;\"/></g><g class=\"traces\" transform=\"translate(0,1192.5)\" style=\"opacity: 1;\"><text class=\"legendtext\" text-anchor=\"start\" x=\"40\" y=\"4.680000000000001\" style=\"font-family: 'Open Sans', verdana, arial, sans-serif; font-size: 12px; fill: rgb(42, 63, 95); fill-opacity: 1; white-space: pre;\">trace 65</text><g class=\"layers\" style=\"opacity: 1;\"><g class=\"legendfill\"/><g class=\"legendlines\"><path class=\"js-line\" d=\"M5,0h30\" style=\"fill: none; stroke: rgb(0, 0, 0); stroke-opacity: 1; stroke-width: 2px;\"/></g><g class=\"legendsymbols\"><g class=\"legendpoints\"/></g></g><rect class=\"legendtoggle\" x=\"0\" y=\"-9.5\" width=\"90.09375\" height=\"19\" style=\"fill: rgb(0, 0, 0); fill-opacity: 0;\"/></g><g class=\"traces\" transform=\"translate(0,1211.5)\" style=\"opacity: 1;\"><text class=\"legendtext\" text-anchor=\"start\" x=\"40\" y=\"4.680000000000001\" style=\"font-family: 'Open Sans', verdana, arial, sans-serif; font-size: 12px; fill: rgb(42, 63, 95); fill-opacity: 1; white-space: pre;\">trace 66</text><g class=\"layers\" style=\"opacity: 1;\"><g class=\"legendfill\"/><g class=\"legendlines\"><path class=\"js-line\" d=\"M5,0h30\" style=\"fill: none; stroke: rgb(0, 0, 0); stroke-opacity: 1; stroke-width: 2px;\"/></g><g class=\"legendsymbols\"><g class=\"legendpoints\"/></g></g><rect class=\"legendtoggle\" x=\"0\" y=\"-9.5\" width=\"90.09375\" height=\"19\" style=\"fill: rgb(0, 0, 0); fill-opacity: 0;\"/></g><g class=\"traces\" transform=\"translate(0,1230.5)\" style=\"opacity: 1;\"><text class=\"legendtext\" text-anchor=\"start\" x=\"40\" y=\"4.680000000000001\" style=\"font-family: 'Open Sans', verdana, arial, sans-serif; font-size: 12px; fill: rgb(42, 63, 95); fill-opacity: 1; white-space: pre;\">trace 67</text><g class=\"layers\" style=\"opacity: 1;\"><g class=\"legendfill\"/><g class=\"legendlines\"><path class=\"js-line\" d=\"M5,0h30\" style=\"fill: none; stroke: rgb(0, 0, 0); stroke-opacity: 1; stroke-width: 2px;\"/></g><g class=\"legendsymbols\"><g class=\"legendpoints\"/></g></g><rect class=\"legendtoggle\" x=\"0\" y=\"-9.5\" width=\"90.09375\" height=\"19\" style=\"fill: rgb(0, 0, 0); fill-opacity: 0;\"/></g><g class=\"traces\" transform=\"translate(0,1249.5)\" style=\"opacity: 1;\"><text class=\"legendtext\" text-anchor=\"start\" x=\"40\" y=\"4.680000000000001\" style=\"font-family: 'Open Sans', verdana, arial, sans-serif; font-size: 12px; fill: rgb(42, 63, 95); fill-opacity: 1; white-space: pre;\">trace 68</text><g class=\"layers\" style=\"opacity: 1;\"><g class=\"legendfill\"/><g class=\"legendlines\"><path class=\"js-line\" d=\"M5,0h30\" style=\"fill: none; stroke: rgb(0, 0, 0); stroke-opacity: 1; stroke-width: 2px;\"/></g><g class=\"legendsymbols\"><g class=\"legendpoints\"/></g></g><rect class=\"legendtoggle\" x=\"0\" y=\"-9.5\" width=\"90.09375\" height=\"19\" style=\"fill: rgb(0, 0, 0); fill-opacity: 0;\"/></g><g class=\"traces\" transform=\"translate(0,1268.5)\" style=\"opacity: 1;\"><text class=\"legendtext\" text-anchor=\"start\" x=\"40\" y=\"4.680000000000001\" style=\"font-family: 'Open Sans', verdana, arial, sans-serif; font-size: 12px; fill: rgb(42, 63, 95); fill-opacity: 1; white-space: pre;\">trace 69</text><g class=\"layers\" style=\"opacity: 1;\"><g class=\"legendfill\"/><g class=\"legendlines\"><path class=\"js-line\" d=\"M5,0h30\" style=\"fill: none; stroke: rgb(0, 0, 0); stroke-opacity: 1; stroke-width: 2px;\"/></g><g class=\"legendsymbols\"><g class=\"legendpoints\"/></g></g><rect class=\"legendtoggle\" x=\"0\" y=\"-9.5\" width=\"90.09375\" height=\"19\" style=\"fill: rgb(0, 0, 0); fill-opacity: 0;\"/></g></g></g><rect class=\"scrollbar\" rx=\"20\" ry=\"3\" width=\"0\" height=\"0\" style=\"fill: rgb(128, 139, 164); fill-opacity: 1;\" x=\"0\" y=\"0\"/></g><g class=\"g-gtitle\"/></g></svg>",
      "text/html": [
       "<div\n",
       "    class=\"webio-mountpoint\"\n",
       "    data-webio-mountpoint=\"9366914906432498918\"\n",
       ">\n",
       "    <script>\n",
       "    (function(){\n",
       "    // Some integrations (namely, IJulia/Jupyter) use an alternate render pathway than\n",
       "    // just putting the html on the page. If WebIO isn't defined, then it's pretty likely\n",
       "    // that we're in one of those situations and the integration just isn't installed\n",
       "    // correctly.\n",
       "    if (typeof window.WebIO === \"undefined\") {\n",
       "        document\n",
       "            .querySelector('[data-webio-mountpoint=\"9366914906432498918\"]')\n",
       "            .innerHTML = (\n",
       "                '<div style=\"padding: 1em; background-color: #f8d6da; border: 1px solid #f5c6cb; font-weight: bold;\">' +\n",
       "                '<p><strong>WebIO not detected.</strong></p>' +\n",
       "                '<p>Please read ' +\n",
       "                '<a href=\"https://juliagizmos.github.io/WebIO.jl/latest/troubleshooting/not-detected/\" target=\"_blank\">the troubleshooting guide</a> ' +\n",
       "                'for more information on how to resolve this issue.</p>' +\n",
       "                '<p><a href=\"https://juliagizmos.github.io/WebIO.jl/latest/troubleshooting/not-detected/\" target=\"_blank\">https://juliagizmos.github.io/WebIO.jl/latest/troubleshooting/not-detected/</a></p>' +\n",
       "                '</div>'\n",
       "            );\n",
       "        return;\n",
       "    }\n",
       "    WebIO.mount(\n",
       "        document.querySelector('[data-webio-mountpoint=\"9366914906432498918\"]'),\n",
       "        {\"props\":{},\"nodeType\":\"Scope\",\"type\":\"node\",\"instanceArgs\":{\"imports\":{\"data\":[{\"name\":\"Plotly\",\"type\":\"js\",\"url\":\"\\/assetserver\\/d18d62e3d860f95bdd778d5ce0d98356c8e8cd70-plotly.min.js\"},{\"name\":null,\"type\":\"js\",\"url\":\"\\/assetserver\\/3ce237707c6799d71e862d9d30b4d1f68d73bd38-plotly_webio.bundle.js\"}],\"type\":\"async_block\"},\"id\":\"4536365702223279360\",\"handlers\":{\"_toImage\":[\"(function (options){return this.Plotly.toImage(this.plotElem,options).then((function (data){return WebIO.setval({\\\"name\\\":\\\"image\\\",\\\"scope\\\":\\\"4536365702223279360\\\",\\\"id\\\":\\\"13918264913561802706\\\",\\\"type\\\":\\\"observable\\\"},data)}))})\"],\"__get_gd_contents\":[\"(function (prop){prop==\\\"data\\\" ? (WebIO.setval({\\\"name\\\":\\\"__gd_contents\\\",\\\"scope\\\":\\\"4536365702223279360\\\",\\\"id\\\":\\\"2952179570926919859\\\",\\\"type\\\":\\\"observable\\\"},this.plotElem.data)) : undefined; return prop==\\\"layout\\\" ? (WebIO.setval({\\\"name\\\":\\\"__gd_contents\\\",\\\"scope\\\":\\\"4536365702223279360\\\",\\\"id\\\":\\\"2952179570926919859\\\",\\\"type\\\":\\\"observable\\\"},this.plotElem.layout)) : undefined})\"],\"_downloadImage\":[\"(function (options){return this.Plotly.downloadImage(this.plotElem,options)})\"],\"_commands\":[\"(function (args){var fn=args.shift(); var elem=this.plotElem; var Plotly=this.Plotly; args.unshift(elem); return Plotly[fn].apply(this,args)})\"]},\"systemjs_options\":null,\"mount_callbacks\":[\"function () {\\n    var handler = ((function (Plotly,PlotlyWebIO){PlotlyWebIO.init(WebIO); var gd=this.dom.querySelector(\\\"#plot-8d342ea9-9e8d-4166-a794-e58a8f928597\\\"); this.plotElem=gd; this.Plotly=Plotly; (window.Blink!==undefined) ? (gd.style.width=\\\"100%\\\", gd.style.height=\\\"100vh\\\", gd.style.marginLeft=\\\"0%\\\", gd.style.marginTop=\\\"0vh\\\") : undefined; window.onresize=(function (){return Plotly.Plots.resize(gd)}); Plotly.newPlot(gd,[{\\\"x\\\":[-0.539345,0.0,0.872678,-0.872678,0.0,0.872678,-0.872678,-0.539345,0.0,0.872678,-0.872678,0.0,0.872678,-0.872678,-1.41202,1.41202,-1.41202],\\\"mode\\\":\\\"markers\\\",\\\"textposition\\\":\\\"bottom center\\\",\\\"y\\\":[0.0,1.41202,0.872678,0.872678,-1.41202,-0.872678,-0.872678,0.0,1.41202,0.872678,0.872678,-1.41202,-0.872678,-0.872678,0.539345,-0.539345,-0.539345],\\\"type\\\":\\\"scatter3d\\\",\\\"text\\\":[\\\"1\\\",\\\"2\\\",\\\"3\\\",\\\"4\\\",\\\"5\\\",\\\"6\\\",\\\"7\\\",\\\"8\\\",\\\"9\\\",\\\"10\\\",\\\"11\\\",\\\"12\\\",\\\"13\\\",\\\"14\\\",\\\"15\\\",\\\"16\\\",\\\"17\\\"],\\\"z\\\":[1.41202,0.539345,0.872678,0.872678,0.539345,0.872678,0.872678,-1.41202,-0.539345,-0.872678,-0.872678,-0.539345,-0.872678,-0.872678,0.0,0.0,0.0],\\\"marker\\\":{\\\"color\\\":\\\"#00D3FF\\\",\\\"size\\\":4}},{\\\"mode\\\":\\\"lines\\\",\\\"line\\\":{\\\"color\\\":\\\"black\\\"},\\\"y\\\":[0.872678,-0.539345],\\\"type\\\":\\\"scatter3d\\\",\\\"z\\\":[-0.872678,0.0],\\\"x\\\":[-0.872678,-1.41202]},{\\\"mode\\\":\\\"lines\\\",\\\"line\\\":{\\\"color\\\":\\\"black\\\"},\\\"y\\\":[0.872678,-0.872678],\\\"type\\\":\\\"scatter3d\\\",\\\"z\\\":[-0.872678,-0.872678],\\\"x\\\":[-0.872678,-0.872678]},{\\\"mode\\\":\\\"lines\\\",\\\"line\\\":{\\\"color\\\":\\\"black\\\"},\\\"y\\\":[0.872678,-0.539345],\\\"type\\\":\\\"scatter3d\\\",\\\"z\\\":[-0.872678,0.0],\\\"x\\\":[0.872678,1.41202]},{\\\"mode\\\":\\\"lines\\\",\\\"line\\\":{\\\"color\\\":\\\"black\\\"},\\\"y\\\":[0.872678,-0.872678],\\\"type\\\":\\\"scatter3d\\\",\\\"z\\\":[-0.872678,-0.872678],\\\"x\\\":[0.872678,0.872678]},{\\\"mode\\\":\\\"lines\\\",\\\"line\\\":{\\\"color\\\":\\\"black\\\"},\\\"y\\\":[0.872678,-0.539345],\\\"type\\\":\\\"scatter3d\\\",\\\"z\\\":[0.872678,0.0],\\\"x\\\":[-0.872678,-1.41202]},{\\\"mode\\\":\\\"lines\\\",\\\"line\\\":{\\\"color\\\":\\\"black\\\"},\\\"y\\\":[0.872678,-0.872678],\\\"type\\\":\\\"scatter3d\\\",\\\"z\\\":[0.872678,0.872678],\\\"x\\\":[-0.872678,-0.872678]},{\\\"mode\\\":\\\"lines\\\",\\\"line\\\":{\\\"color\\\":\\\"black\\\"},\\\"y\\\":[0.872678,-0.539345],\\\"type\\\":\\\"scatter3d\\\",\\\"z\\\":[0.872678,0.0],\\\"x\\\":[0.872678,1.41202]},{\\\"mode\\\":\\\"lines\\\",\\\"line\\\":{\\\"color\\\":\\\"black\\\"},\\\"y\\\":[0.872678,-0.872678],\\\"type\\\":\\\"scatter3d\\\",\\\"z\\\":[0.872678,0.872678],\\\"x\\\":[0.872678,0.872678]},{\\\"mode\\\":\\\"lines\\\",\\\"line\\\":{\\\"color\\\":\\\"black\\\"},\\\"y\\\":[-0.872678,-0.872678],\\\"type\\\":\\\"scatter3d\\\",\\\"z\\\":[0.872678,-0.872678],\\\"x\\\":[-0.872678,-0.872678]},{\\\"mode\\\":\\\"lines\\\",\\\"line\\\":{\\\"color\\\":\\\"black\\\"},\\\"y\\\":[-0.872678,-1.41202],\\\"type\\\":\\\"scatter3d\\\",\\\"z\\\":[0.872678,-0.539345],\\\"x\\\":[-0.872678,0.0]},{\\\"mode\\\":\\\"lines\\\",\\\"line\\\":{\\\"color\\\":\\\"black\\\"},\\\"y\\\":[-0.872678,-0.872678],\\\"type\\\":\\\"scatter3d\\\",\\\"z\\\":[0.872678,-0.872678],\\\"x\\\":[0.872678,0.872678]},{\\\"mode\\\":\\\"lines\\\",\\\"line\\\":{\\\"color\\\":\\\"black\\\"},\\\"y\\\":[-0.872678,-1.41202],\\\"type\\\":\\\"scatter3d\\\",\\\"z\\\":[0.872678,-0.539345],\\\"x\\\":[0.872678,0.0]},{\\\"mode\\\":\\\"lines\\\",\\\"line\\\":{\\\"color\\\":\\\"black\\\"},\\\"y\\\":[0.872678,0.872678],\\\"type\\\":\\\"scatter3d\\\",\\\"z\\\":[0.872678,-0.872678],\\\"x\\\":[-0.872678,-0.872678]},{\\\"mode\\\":\\\"lines\\\",\\\"line\\\":{\\\"color\\\":\\\"black\\\"},\\\"y\\\":[0.872678,1.41202],\\\"type\\\":\\\"scatter3d\\\",\\\"z\\\":[0.872678,-0.539345],\\\"x\\\":[-0.872678,0.0]},{\\\"mode\\\":\\\"lines\\\",\\\"line\\\":{\\\"color\\\":\\\"black\\\"},\\\"y\\\":[0.872678,0.872678],\\\"type\\\":\\\"scatter3d\\\",\\\"z\\\":[0.872678,-0.872678],\\\"x\\\":[0.872678,0.872678]},{\\\"mode\\\":\\\"lines\\\",\\\"line\\\":{\\\"color\\\":\\\"black\\\"},\\\"y\\\":[0.872678,1.41202],\\\"type\\\":\\\"scatter3d\\\",\\\"z\\\":[0.872678,-0.539345],\\\"x\\\":[0.872678,0.0]},{\\\"mode\\\":\\\"lines\\\",\\\"line\\\":{\\\"color\\\":\\\"black\\\"},\\\"y\\\":[0.0,-1.41202],\\\"type\\\":\\\"scatter3d\\\",\\\"z\\\":[-1.41202,-0.539345],\\\"x\\\":[-0.539345,0.0]},{\\\"mode\\\":\\\"lines\\\",\\\"line\\\":{\\\"color\\\":\\\"black\\\"},\\\"y\\\":[0.0,-0.872678],\\\"type\\\":\\\"scatter3d\\\",\\\"z\\\":[-1.41202,-0.872678],\\\"x\\\":[-0.539345,0.872678]},{\\\"mode\\\":\\\"lines\\\",\\\"line\\\":{\\\"color\\\":\\\"black\\\"},\\\"y\\\":[0.0,1.41202],\\\"type\\\":\\\"scatter3d\\\",\\\"z\\\":[-1.41202,-0.539345],\\\"x\\\":[-0.539345,0.0]},{\\\"mode\\\":\\\"lines\\\",\\\"line\\\":{\\\"color\\\":\\\"black\\\"},\\\"y\\\":[0.0,0.872678],\\\"type\\\":\\\"scatter3d\\\",\\\"z\\\":[-1.41202,-0.872678],\\\"x\\\":[-0.539345,0.872678]},{\\\"mode\\\":\\\"lines\\\",\\\"line\\\":{\\\"color\\\":\\\"black\\\"},\\\"y\\\":[0.0,-1.41202],\\\"type\\\":\\\"scatter3d\\\",\\\"z\\\":[1.41202,0.539345],\\\"x\\\":[-0.539345,0.0]},{\\\"mode\\\":\\\"lines\\\",\\\"line\\\":{\\\"color\\\":\\\"black\\\"},\\\"y\\\":[0.0,-0.872678],\\\"type\\\":\\\"scatter3d\\\",\\\"z\\\":[1.41202,0.872678],\\\"x\\\":[-0.539345,0.872678]},{\\\"mode\\\":\\\"lines\\\",\\\"line\\\":{\\\"color\\\":\\\"black\\\"},\\\"y\\\":[0.0,1.41202],\\\"type\\\":\\\"scatter3d\\\",\\\"z\\\":[1.41202,0.539345],\\\"x\\\":[-0.539345,0.0]},{\\\"mode\\\":\\\"lines\\\",\\\"line\\\":{\\\"color\\\":\\\"black\\\"},\\\"y\\\":[0.0,0.872678],\\\"type\\\":\\\"scatter3d\\\",\\\"z\\\":[1.41202,0.872678],\\\"x\\\":[-0.539345,0.872678]},{\\\"mode\\\":\\\"lines\\\",\\\"line\\\":{\\\"color\\\":\\\"black\\\"},\\\"y\\\":[0.539345,-0.539345],\\\"type\\\":\\\"scatter3d\\\",\\\"z\\\":[0.0,0.0],\\\"x\\\":[-1.41202,-1.41202]},{\\\"mode\\\":\\\"lines\\\",\\\"line\\\":{\\\"color\\\":\\\"black\\\"},\\\"y\\\":[-0.872678,-0.539345],\\\"type\\\":\\\"scatter3d\\\",\\\"z\\\":[-0.872678,0.0],\\\"x\\\":[-0.872678,-1.41202]},{\\\"mode\\\":\\\"lines\\\",\\\"line\\\":{\\\"color\\\":\\\"black\\\"},\\\"y\\\":[-0.872678,-0.539345],\\\"type\\\":\\\"scatter3d\\\",\\\"z\\\":[-0.872678,0.0],\\\"x\\\":[0.872678,1.41202]},{\\\"mode\\\":\\\"lines\\\",\\\"line\\\":{\\\"color\\\":\\\"black\\\"},\\\"y\\\":[-1.41202,-0.872678],\\\"type\\\":\\\"scatter3d\\\",\\\"z\\\":[-0.539345,-0.872678],\\\"x\\\":[0.0,-0.872678]},{\\\"mode\\\":\\\"lines\\\",\\\"line\\\":{\\\"color\\\":\\\"black\\\"},\\\"y\\\":[-1.41202,-0.872678],\\\"type\\\":\\\"scatter3d\\\",\\\"z\\\":[-0.539345,-0.872678],\\\"x\\\":[0.0,0.872678]},{\\\"mode\\\":\\\"lines\\\",\\\"line\\\":{\\\"color\\\":\\\"black\\\"},\\\"y\\\":[0.872678,0.539345],\\\"type\\\":\\\"scatter3d\\\",\\\"z\\\":[-0.872678,0.0],\\\"x\\\":[-0.872678,-1.41202]},{\\\"mode\\\":\\\"lines\\\",\\\"line\\\":{\\\"color\\\":\\\"black\\\"},\\\"y\\\":[1.41202,0.872678],\\\"type\\\":\\\"scatter3d\\\",\\\"z\\\":[-0.539345,-0.872678],\\\"x\\\":[0.0,-0.872678]},{\\\"mode\\\":\\\"lines\\\",\\\"line\\\":{\\\"color\\\":\\\"black\\\"},\\\"y\\\":[1.41202,0.872678],\\\"type\\\":\\\"scatter3d\\\",\\\"z\\\":[-0.539345,-0.872678],\\\"x\\\":[0.0,0.872678]},{\\\"mode\\\":\\\"lines\\\",\\\"line\\\":{\\\"color\\\":\\\"black\\\"},\\\"y\\\":[0.0,-0.872678],\\\"type\\\":\\\"scatter3d\\\",\\\"z\\\":[-1.41202,-0.872678],\\\"x\\\":[-0.539345,-0.872678]},{\\\"mode\\\":\\\"lines\\\",\\\"line\\\":{\\\"color\\\":\\\"black\\\"},\\\"y\\\":[0.0,0.872678],\\\"type\\\":\\\"scatter3d\\\",\\\"z\\\":[-1.41202,-0.872678],\\\"x\\\":[-0.539345,-0.872678]},{\\\"mode\\\":\\\"lines\\\",\\\"line\\\":{\\\"color\\\":\\\"black\\\"},\\\"y\\\":[-0.872678,-0.539345],\\\"type\\\":\\\"scatter3d\\\",\\\"z\\\":[0.872678,0.0],\\\"x\\\":[-0.872678,-1.41202]},{\\\"mode\\\":\\\"lines\\\",\\\"line\\\":{\\\"color\\\":\\\"black\\\"},\\\"y\\\":[-0.872678,-0.539345],\\\"type\\\":\\\"scatter3d\\\",\\\"z\\\":[0.872678,0.0],\\\"x\\\":[0.872678,1.41202]},{\\\"mode\\\":\\\"lines\\\",\\\"line\\\":{\\\"color\\\":\\\"black\\\"},\\\"y\\\":[-1.41202,-1.41202],\\\"type\\\":\\\"scatter3d\\\",\\\"z\\\":[0.539345,-0.539345],\\\"x\\\":[0.0,0.0]},{\\\"mode\\\":\\\"lines\\\",\\\"line\\\":{\\\"color\\\":\\\"black\\\"},\\\"y\\\":[-1.41202,-0.872678],\\\"type\\\":\\\"scatter3d\\\",\\\"z\\\":[0.539345,0.872678],\\\"x\\\":[0.0,-0.872678]},{\\\"mode\\\":\\\"lines\\\",\\\"line\\\":{\\\"color\\\":\\\"black\\\"},\\\"y\\\":[-1.41202,-0.872678],\\\"type\\\":\\\"scatter3d\\\",\\\"z\\\":[0.539345,0.872678],\\\"x\\\":[0.0,0.872678]},{\\\"mode\\\":\\\"lines\\\",\\\"line\\\":{\\\"color\\\":\\\"black\\\"},\\\"y\\\":[0.872678,0.539345],\\\"type\\\":\\\"scatter3d\\\",\\\"z\\\":[0.872678,0.0],\\\"x\\\":[-0.872678,-1.41202]},{\\\"mode\\\":\\\"lines\\\",\\\"line\\\":{\\\"color\\\":\\\"black\\\"},\\\"y\\\":[1.41202,1.41202],\\\"type\\\":\\\"scatter3d\\\",\\\"z\\\":[0.539345,-0.539345],\\\"x\\\":[0.0,0.0]},{\\\"mode\\\":\\\"lines\\\",\\\"line\\\":{\\\"color\\\":\\\"black\\\"},\\\"y\\\":[1.41202,0.872678],\\\"type\\\":\\\"scatter3d\\\",\\\"z\\\":[0.539345,0.872678],\\\"x\\\":[0.0,-0.872678]},{\\\"mode\\\":\\\"lines\\\",\\\"line\\\":{\\\"color\\\":\\\"black\\\"},\\\"y\\\":[1.41202,0.872678],\\\"type\\\":\\\"scatter3d\\\",\\\"z\\\":[0.539345,0.872678],\\\"x\\\":[0.0,0.872678]},{\\\"mode\\\":\\\"lines\\\",\\\"line\\\":{\\\"color\\\":\\\"black\\\"},\\\"y\\\":[0.0,-0.872678],\\\"type\\\":\\\"scatter3d\\\",\\\"z\\\":[1.41202,0.872678],\\\"x\\\":[-0.539345,-0.872678]},{\\\"mode\\\":\\\"lines\\\",\\\"line\\\":{\\\"color\\\":\\\"black\\\"},\\\"y\\\":[0.0,0.872678],\\\"type\\\":\\\"scatter3d\\\",\\\"z\\\":[1.41202,0.872678],\\\"x\\\":[-0.539345,-0.872678]},{\\\"y\\\":[0.0,1.41202,0.872678,0.872678,-1.41202,-0.872678,-0.872678,0.0,1.41202,0.872678,0.872678,-1.41202,-0.872678,-0.872678,0.539345,-0.539345,-0.539345],\\\"type\\\":\\\"mesh3d\\\",\\\"j\\\":[2,3,5,6,9,10,12,13,1,8,1,8,14,4,11,15,4,11,16,5,0,6,14,12,7,13,14,2,9,9],\\\"k\\\":[1,0,4,0,8,7,11,7,8,9,8,10,3,11,12,5,11,13,6,15,6,16,3,15,13,16,10,5,12,15],\\\"opacity\\\":0.6,\\\"z\\\":[1.41202,0.539345,0.872678,0.872678,0.539345,0.872678,0.872678,-1.41202,-0.539345,-0.872678,-0.872678,-0.539345,-0.872678,-0.872678,0.0,0.0,0.0],\\\"i\\\":[0,1,0,4,7,8,7,11,2,2,3,3,10,5,5,12,6,6,13,2,3,3,16,9,10,10,16,0,7,2],\\\"facecolor\\\":[\\\"#00D3FF\\\",\\\"#00D3FF\\\",\\\"#00D3FF\\\",\\\"#00D3FF\\\",\\\"#00D3FF\\\",\\\"#00D3FF\\\",\\\"#00D3FF\\\",\\\"#00D3FF\\\",\\\"#00D3FF\\\",\\\"#00D3FF\\\",\\\"#00D3FF\\\",\\\"#00D3FF\\\",\\\"#00D3FF\\\",\\\"#00D3FF\\\",\\\"#00D3FF\\\",\\\"#00D3FF\\\",\\\"#00D3FF\\\",\\\"#00D3FF\\\",\\\"#00D3FF\\\",\\\"#00D3FF\\\",\\\"#00D3FF\\\",\\\"#00D3FF\\\",\\\"#00D3FF\\\",\\\"#00D3FF\\\",\\\"#00D3FF\\\",\\\"#00D3FF\\\",\\\"#00D3FF\\\",\\\"#00D3FF\\\",\\\"#00D3FF\\\",\\\"#00D3FF\\\"],\\\"x\\\":[-0.539345,0.0,0.872678,-0.872678,0.0,0.872678,-0.872678,-0.539345,0.0,0.872678,-0.872678,0.0,0.872678,-0.872678,-1.41202,1.41202,-1.41202]},{\\\"x\\\":[0.872678,0.872678,1.41202,1.41202],\\\"mode\\\":\\\"markers\\\",\\\"textposition\\\":\\\"bottom center\\\",\\\"y\\\":[0.872678,0.872678,-0.539345,0.539345],\\\"type\\\":\\\"scatter3d\\\",\\\"text\\\":[\\\"1\\\",\\\"2\\\",\\\"3\\\",\\\"4\\\"],\\\"z\\\":[0.872678,-0.872678,0.0,0.0],\\\"marker\\\":{\\\"color\\\":\\\"#FF9BFF\\\",\\\"size\\\":4}},{\\\"mode\\\":\\\"lines\\\",\\\"line\\\":{\\\"color\\\":\\\"black\\\"},\\\"y\\\":[-0.539345,0.539345],\\\"type\\\":\\\"scatter3d\\\",\\\"z\\\":[0.0,0.0],\\\"x\\\":[1.41202,1.41202]},{\\\"mode\\\":\\\"lines\\\",\\\"line\\\":{\\\"color\\\":\\\"black\\\"},\\\"y\\\":[0.872678,0.539345],\\\"type\\\":\\\"scatter3d\\\",\\\"z\\\":[-0.872678,0.0],\\\"x\\\":[0.872678,1.41202]},{\\\"mode\\\":\\\"lines\\\",\\\"line\\\":{\\\"color\\\":\\\"black\\\"},\\\"y\\\":[0.872678,-0.539345],\\\"type\\\":\\\"scatter3d\\\",\\\"z\\\":[-0.872678,0.0],\\\"x\\\":[0.872678,1.41202]},{\\\"mode\\\":\\\"lines\\\",\\\"line\\\":{\\\"color\\\":\\\"black\\\"},\\\"y\\\":[0.872678,0.539345],\\\"type\\\":\\\"scatter3d\\\",\\\"z\\\":[0.872678,0.0],\\\"x\\\":[0.872678,1.41202]},{\\\"mode\\\":\\\"lines\\\",\\\"line\\\":{\\\"color\\\":\\\"black\\\"},\\\"y\\\":[0.872678,-0.539345],\\\"type\\\":\\\"scatter3d\\\",\\\"z\\\":[0.872678,0.0],\\\"x\\\":[0.872678,1.41202]},{\\\"mode\\\":\\\"lines\\\",\\\"line\\\":{\\\"color\\\":\\\"black\\\"},\\\"y\\\":[0.872678,0.872678],\\\"type\\\":\\\"scatter3d\\\",\\\"z\\\":[0.872678,-0.872678],\\\"x\\\":[0.872678,0.872678]},{\\\"y\\\":[0.872678,0.872678,-0.539345,0.539345],\\\"type\\\":\\\"mesh3d\\\",\\\"j\\\":[1,1,2,2],\\\"k\\\":[2,3,3,3],\\\"opacity\\\":0.6,\\\"z\\\":[0.872678,-0.872678,0.0,0.0],\\\"i\\\":[0,0,0,1],\\\"facecolor\\\":[\\\"#FF9BFF\\\",\\\"#FF9BFF\\\",\\\"#FF9BFF\\\",\\\"#FF9BFF\\\"],\\\"x\\\":[0.872678,0.872678,1.41202,1.41202]},{\\\"x\\\":[-0.539345,0.872678,0.872678,0.539345],\\\"mode\\\":\\\"markers\\\",\\\"textposition\\\":\\\"bottom center\\\",\\\"y\\\":[0.0,0.872678,-0.872678,0.0],\\\"type\\\":\\\"scatter3d\\\",\\\"text\\\":[\\\"1\\\",\\\"2\\\",\\\"3\\\",\\\"4\\\"],\\\"z\\\":[-1.41202,-0.872678,-0.872678,-1.41202],\\\"marker\\\":{\\\"color\\\":\\\"#FFFF74\\\",\\\"size\\\":4}},{\\\"mode\\\":\\\"lines\\\",\\\"line\\\":{\\\"color\\\":\\\"black\\\"},\\\"y\\\":[-0.872678,0.0],\\\"type\\\":\\\"scatter3d\\\",\\\"z\\\":[-0.872678,-1.41202],\\\"x\\\":[0.872678,0.539345]},{\\\"mode\\\":\\\"lines\\\",\\\"line\\\":{\\\"color\\\":\\\"black\\\"},\\\"y\\\":[0.872678,0.0],\\\"type\\\":\\\"scatter3d\\\",\\\"z\\\":[-0.872678,-1.41202],\\\"x\\\":[0.872678,0.539345]},{\\\"mode\\\":\\\"lines\\\",\\\"line\\\":{\\\"color\\\":\\\"black\\\"},\\\"y\\\":[0.872678,-0.872678],\\\"type\\\":\\\"scatter3d\\\",\\\"z\\\":[-0.872678,-0.872678],\\\"x\\\":[0.872678,0.872678]},{\\\"mode\\\":\\\"lines\\\",\\\"line\\\":{\\\"color\\\":\\\"black\\\"},\\\"y\\\":[0.0,0.0],\\\"type\\\":\\\"scatter3d\\\",\\\"z\\\":[-1.41202,-1.41202],\\\"x\\\":[-0.539345,0.539345]},{\\\"mode\\\":\\\"lines\\\",\\\"line\\\":{\\\"color\\\":\\\"black\\\"},\\\"y\\\":[0.0,-0.872678],\\\"type\\\":\\\"scatter3d\\\",\\\"z\\\":[-1.41202,-0.872678],\\\"x\\\":[-0.539345,0.872678]},{\\\"mode\\\":\\\"lines\\\",\\\"line\\\":{\\\"color\\\":\\\"black\\\"},\\\"y\\\":[0.0,0.872678],\\\"type\\\":\\\"scatter3d\\\",\\\"z\\\":[-1.41202,-0.872678],\\\"x\\\":[-0.539345,0.872678]},{\\\"y\\\":[0.0,0.872678,-0.872678,0.0],\\\"type\\\":\\\"mesh3d\\\",\\\"j\\\":[1,1,2,2],\\\"k\\\":[2,3,3,3],\\\"opacity\\\":0.6,\\\"z\\\":[-1.41202,-0.872678,-0.872678,-1.41202],\\\"i\\\":[0,0,0,1],\\\"facecolor\\\":[\\\"#FFFF74\\\",\\\"#FFFF74\\\",\\\"#FFFF74\\\",\\\"#FFFF74\\\"],\\\"x\\\":[-0.539345,0.872678,0.872678,0.539345]},{\\\"x\\\":[-0.539345,0.872678,0.872678,0.539345],\\\"mode\\\":\\\"markers\\\",\\\"textposition\\\":\\\"bottom center\\\",\\\"y\\\":[0.0,0.872678,-0.872678,0.0],\\\"type\\\":\\\"scatter3d\\\",\\\"text\\\":[\\\"1\\\",\\\"2\\\",\\\"3\\\",\\\"4\\\"],\\\"z\\\":[1.41202,0.872678,0.872678,1.41202],\\\"marker\\\":{\\\"color\\\":\\\"#000000\\\",\\\"size\\\":4}},{\\\"mode\\\":\\\"lines\\\",\\\"line\\\":{\\\"color\\\":\\\"black\\\"},\\\"y\\\":[-0.872678,0.0],\\\"type\\\":\\\"scatter3d\\\",\\\"z\\\":[0.872678,1.41202],\\\"x\\\":[0.872678,0.539345]},{\\\"mode\\\":\\\"lines\\\",\\\"line\\\":{\\\"color\\\":\\\"black\\\"},\\\"y\\\":[0.872678,0.0],\\\"type\\\":\\\"scatter3d\\\",\\\"z\\\":[0.872678,1.41202],\\\"x\\\":[0.872678,0.539345]},{\\\"mode\\\":\\\"lines\\\",\\\"line\\\":{\\\"color\\\":\\\"black\\\"},\\\"y\\\":[0.872678,-0.872678],\\\"type\\\":\\\"scatter3d\\\",\\\"z\\\":[0.872678,0.872678],\\\"x\\\":[0.872678,0.872678]},{\\\"mode\\\":\\\"lines\\\",\\\"line\\\":{\\\"color\\\":\\\"black\\\"},\\\"y\\\":[0.0,0.0],\\\"type\\\":\\\"scatter3d\\\",\\\"z\\\":[1.41202,1.41202],\\\"x\\\":[-0.539345,0.539345]},{\\\"mode\\\":\\\"lines\\\",\\\"line\\\":{\\\"color\\\":\\\"black\\\"},\\\"y\\\":[0.0,-0.872678],\\\"type\\\":\\\"scatter3d\\\",\\\"z\\\":[1.41202,0.872678],\\\"x\\\":[-0.539345,0.872678]},{\\\"mode\\\":\\\"lines\\\",\\\"line\\\":{\\\"color\\\":\\\"black\\\"},\\\"y\\\":[0.0,0.872678],\\\"type\\\":\\\"scatter3d\\\",\\\"z\\\":[1.41202,0.872678],\\\"x\\\":[-0.539345,0.872678]},{\\\"y\\\":[0.0,0.872678,-0.872678,0.0],\\\"type\\\":\\\"mesh3d\\\",\\\"j\\\":[1,1,2,2],\\\"k\\\":[2,3,3,3],\\\"opacity\\\":0.6,\\\"z\\\":[1.41202,0.872678,0.872678,1.41202],\\\"i\\\":[0,0,0,1],\\\"facecolor\\\":[\\\"#000000\\\",\\\"#000000\\\",\\\"#000000\\\",\\\"#000000\\\"],\\\"x\\\":[-0.539345,0.872678,0.872678,0.539345]}],{\\\"template\\\":{\\\"layout\\\":{\\\"coloraxis\\\":{\\\"colorbar\\\":{\\\"ticks\\\":\\\"\\\",\\\"outlinewidth\\\":0}},\\\"xaxis\\\":{\\\"gridcolor\\\":\\\"white\\\",\\\"zerolinewidth\\\":2,\\\"title\\\":{\\\"standoff\\\":15},\\\"ticks\\\":\\\"\\\",\\\"zerolinecolor\\\":\\\"white\\\",\\\"automargin\\\":true,\\\"linecolor\\\":\\\"white\\\"},\\\"hovermode\\\":\\\"closest\\\",\\\"paper_bgcolor\\\":\\\"white\\\",\\\"geo\\\":{\\\"showlakes\\\":true,\\\"showland\\\":true,\\\"landcolor\\\":\\\"#E5ECF6\\\",\\\"bgcolor\\\":\\\"white\\\",\\\"subunitcolor\\\":\\\"white\\\",\\\"lakecolor\\\":\\\"white\\\"},\\\"colorscale\\\":{\\\"sequential\\\":[[0.0,\\\"#0d0887\\\"],[0.1111111111111111,\\\"#46039f\\\"],[0.2222222222222222,\\\"#7201a8\\\"],[0.3333333333333333,\\\"#9c179e\\\"],[0.4444444444444444,\\\"#bd3786\\\"],[0.5555555555555556,\\\"#d8576b\\\"],[0.6666666666666666,\\\"#ed7953\\\"],[0.7777777777777778,\\\"#fb9f3a\\\"],[0.8888888888888888,\\\"#fdca26\\\"],[1.0,\\\"#f0f921\\\"]],\\\"diverging\\\":[[0,\\\"#8e0152\\\"],[0.1,\\\"#c51b7d\\\"],[0.2,\\\"#de77ae\\\"],[0.3,\\\"#f1b6da\\\"],[0.4,\\\"#fde0ef\\\"],[0.5,\\\"#f7f7f7\\\"],[0.6,\\\"#e6f5d0\\\"],[0.7,\\\"#b8e186\\\"],[0.8,\\\"#7fbc41\\\"],[0.9,\\\"#4d9221\\\"],[1,\\\"#276419\\\"]],\\\"sequentialminus\\\":[[0.0,\\\"#0d0887\\\"],[0.1111111111111111,\\\"#46039f\\\"],[0.2222222222222222,\\\"#7201a8\\\"],[0.3333333333333333,\\\"#9c179e\\\"],[0.4444444444444444,\\\"#bd3786\\\"],[0.5555555555555556,\\\"#d8576b\\\"],[0.6666666666666666,\\\"#ed7953\\\"],[0.7777777777777778,\\\"#fb9f3a\\\"],[0.8888888888888888,\\\"#fdca26\\\"],[1.0,\\\"#f0f921\\\"]]},\\\"yaxis\\\":{\\\"gridcolor\\\":\\\"white\\\",\\\"zerolinewidth\\\":2,\\\"title\\\":{\\\"standoff\\\":15},\\\"ticks\\\":\\\"\\\",\\\"zerolinecolor\\\":\\\"white\\\",\\\"automargin\\\":true,\\\"linecolor\\\":\\\"white\\\"},\\\"shapedefaults\\\":{\\\"line\\\":{\\\"color\\\":\\\"#2a3f5f\\\"}},\\\"hoverlabel\\\":{\\\"align\\\":\\\"left\\\"},\\\"mapbox\\\":{\\\"style\\\":\\\"light\\\"},\\\"polar\\\":{\\\"angularaxis\\\":{\\\"gridcolor\\\":\\\"white\\\",\\\"ticks\\\":\\\"\\\",\\\"linecolor\\\":\\\"white\\\"},\\\"bgcolor\\\":\\\"#E5ECF6\\\",\\\"radialaxis\\\":{\\\"gridcolor\\\":\\\"white\\\",\\\"ticks\\\":\\\"\\\",\\\"linecolor\\\":\\\"white\\\"}},\\\"autotypenumbers\\\":\\\"strict\\\",\\\"font\\\":{\\\"color\\\":\\\"#2a3f5f\\\"},\\\"ternary\\\":{\\\"baxis\\\":{\\\"gridcolor\\\":\\\"white\\\",\\\"ticks\\\":\\\"\\\",\\\"linecolor\\\":\\\"white\\\"},\\\"bgcolor\\\":\\\"#E5ECF6\\\",\\\"caxis\\\":{\\\"gridcolor\\\":\\\"white\\\",\\\"ticks\\\":\\\"\\\",\\\"linecolor\\\":\\\"white\\\"},\\\"aaxis\\\":{\\\"gridcolor\\\":\\\"white\\\",\\\"ticks\\\":\\\"\\\",\\\"linecolor\\\":\\\"white\\\"}},\\\"annotationdefaults\\\":{\\\"arrowhead\\\":0,\\\"arrowwidth\\\":1,\\\"arrowcolor\\\":\\\"#2a3f5f\\\"},\\\"plot_bgcolor\\\":\\\"#E5ECF6\\\",\\\"title\\\":{\\\"x\\\":0.05},\\\"scene\\\":{\\\"xaxis\\\":{\\\"gridcolor\\\":\\\"white\\\",\\\"gridwidth\\\":2,\\\"backgroundcolor\\\":\\\"#E5ECF6\\\",\\\"ticks\\\":\\\"\\\",\\\"showbackground\\\":true,\\\"zerolinecolor\\\":\\\"white\\\",\\\"linecolor\\\":\\\"white\\\"},\\\"zaxis\\\":{\\\"gridcolor\\\":\\\"white\\\",\\\"gridwidth\\\":2,\\\"backgroundcolor\\\":\\\"#E5ECF6\\\",\\\"ticks\\\":\\\"\\\",\\\"showbackground\\\":true,\\\"zerolinecolor\\\":\\\"white\\\",\\\"linecolor\\\":\\\"white\\\"},\\\"yaxis\\\":{\\\"gridcolor\\\":\\\"white\\\",\\\"gridwidth\\\":2,\\\"backgroundcolor\\\":\\\"#E5ECF6\\\",\\\"ticks\\\":\\\"\\\",\\\"showbackground\\\":true,\\\"zerolinecolor\\\":\\\"white\\\",\\\"linecolor\\\":\\\"white\\\"}},\\\"colorway\\\":[\\\"#636efa\\\",\\\"#EF553B\\\",\\\"#00cc96\\\",\\\"#ab63fa\\\",\\\"#FFA15A\\\",\\\"#19d3f3\\\",\\\"#FF6692\\\",\\\"#B6E880\\\",\\\"#FF97FF\\\",\\\"#FECB52\\\"]},\\\"data\\\":{\\\"barpolar\\\":[{\\\"type\\\":\\\"barpolar\\\",\\\"marker\\\":{\\\"line\\\":{\\\"color\\\":\\\"#E5ECF6\\\",\\\"width\\\":0.5}}}],\\\"carpet\\\":[{\\\"aaxis\\\":{\\\"gridcolor\\\":\\\"white\\\",\\\"endlinecolor\\\":\\\"#2a3f5f\\\",\\\"minorgridcolor\\\":\\\"white\\\",\\\"startlinecolor\\\":\\\"#2a3f5f\\\",\\\"linecolor\\\":\\\"white\\\"},\\\"type\\\":\\\"carpet\\\",\\\"baxis\\\":{\\\"gridcolor\\\":\\\"white\\\",\\\"endlinecolor\\\":\\\"#2a3f5f\\\",\\\"minorgridcolor\\\":\\\"white\\\",\\\"startlinecolor\\\":\\\"#2a3f5f\\\",\\\"linecolor\\\":\\\"white\\\"}}],\\\"scatterpolar\\\":[{\\\"type\\\":\\\"scatterpolar\\\",\\\"marker\\\":{\\\"colorbar\\\":{\\\"ticks\\\":\\\"\\\",\\\"outlinewidth\\\":0}}}],\\\"parcoords\\\":[{\\\"line\\\":{\\\"colorbar\\\":{\\\"ticks\\\":\\\"\\\",\\\"outlinewidth\\\":0}},\\\"type\\\":\\\"parcoords\\\"}],\\\"scatter\\\":[{\\\"type\\\":\\\"scatter\\\",\\\"marker\\\":{\\\"colorbar\\\":{\\\"ticks\\\":\\\"\\\",\\\"outlinewidth\\\":0}}}],\\\"histogram2dcontour\\\":[{\\\"colorbar\\\":{\\\"ticks\\\":\\\"\\\",\\\"outlinewidth\\\":0},\\\"type\\\":\\\"histogram2dcontour\\\",\\\"colorscale\\\":[[0.0,\\\"#0d0887\\\"],[0.1111111111111111,\\\"#46039f\\\"],[0.2222222222222222,\\\"#7201a8\\\"],[0.3333333333333333,\\\"#9c179e\\\"],[0.4444444444444444,\\\"#bd3786\\\"],[0.5555555555555556,\\\"#d8576b\\\"],[0.6666666666666666,\\\"#ed7953\\\"],[0.7777777777777778,\\\"#fb9f3a\\\"],[0.8888888888888888,\\\"#fdca26\\\"],[1.0,\\\"#f0f921\\\"]]}],\\\"contour\\\":[{\\\"colorbar\\\":{\\\"ticks\\\":\\\"\\\",\\\"outlinewidth\\\":0},\\\"type\\\":\\\"contour\\\",\\\"colorscale\\\":[[0.0,\\\"#0d0887\\\"],[0.1111111111111111,\\\"#46039f\\\"],[0.2222222222222222,\\\"#7201a8\\\"],[0.3333333333333333,\\\"#9c179e\\\"],[0.4444444444444444,\\\"#bd3786\\\"],[0.5555555555555556,\\\"#d8576b\\\"],[0.6666666666666666,\\\"#ed7953\\\"],[0.7777777777777778,\\\"#fb9f3a\\\"],[0.8888888888888888,\\\"#fdca26\\\"],[1.0,\\\"#f0f921\\\"]]}],\\\"scattercarpet\\\":[{\\\"type\\\":\\\"scattercarpet\\\",\\\"marker\\\":{\\\"colorbar\\\":{\\\"ticks\\\":\\\"\\\",\\\"outlinewidth\\\":0}}}],\\\"mesh3d\\\":[{\\\"colorbar\\\":{\\\"ticks\\\":\\\"\\\",\\\"outlinewidth\\\":0},\\\"type\\\":\\\"mesh3d\\\"}],\\\"surface\\\":[{\\\"colorbar\\\":{\\\"ticks\\\":\\\"\\\",\\\"outlinewidth\\\":0},\\\"type\\\":\\\"surface\\\",\\\"colorscale\\\":[[0.0,\\\"#0d0887\\\"],[0.1111111111111111,\\\"#46039f\\\"],[0.2222222222222222,\\\"#7201a8\\\"],[0.3333333333333333,\\\"#9c179e\\\"],[0.4444444444444444,\\\"#bd3786\\\"],[0.5555555555555556,\\\"#d8576b\\\"],[0.6666666666666666,\\\"#ed7953\\\"],[0.7777777777777778,\\\"#fb9f3a\\\"],[0.8888888888888888,\\\"#fdca26\\\"],[1.0,\\\"#f0f921\\\"]]}],\\\"scattermapbox\\\":[{\\\"type\\\":\\\"scattermapbox\\\",\\\"marker\\\":{\\\"colorbar\\\":{\\\"ticks\\\":\\\"\\\",\\\"outlinewidth\\\":0}}}],\\\"scattergeo\\\":[{\\\"type\\\":\\\"scattergeo\\\",\\\"marker\\\":{\\\"colorbar\\\":{\\\"ticks\\\":\\\"\\\",\\\"outlinewidth\\\":0}}}],\\\"histogram\\\":[{\\\"type\\\":\\\"histogram\\\",\\\"marker\\\":{\\\"colorbar\\\":{\\\"ticks\\\":\\\"\\\",\\\"outlinewidth\\\":0}}}],\\\"pie\\\":[{\\\"type\\\":\\\"pie\\\",\\\"automargin\\\":true}],\\\"choropleth\\\":[{\\\"colorbar\\\":{\\\"ticks\\\":\\\"\\\",\\\"outlinewidth\\\":0},\\\"type\\\":\\\"choropleth\\\"}],\\\"heatmapgl\\\":[{\\\"colorbar\\\":{\\\"ticks\\\":\\\"\\\",\\\"outlinewidth\\\":0},\\\"type\\\":\\\"heatmapgl\\\",\\\"colorscale\\\":[[0.0,\\\"#0d0887\\\"],[0.1111111111111111,\\\"#46039f\\\"],[0.2222222222222222,\\\"#7201a8\\\"],[0.3333333333333333,\\\"#9c179e\\\"],[0.4444444444444444,\\\"#bd3786\\\"],[0.5555555555555556,\\\"#d8576b\\\"],[0.6666666666666666,\\\"#ed7953\\\"],[0.7777777777777778,\\\"#fb9f3a\\\"],[0.8888888888888888,\\\"#fdca26\\\"],[1.0,\\\"#f0f921\\\"]]}],\\\"bar\\\":[{\\\"type\\\":\\\"bar\\\",\\\"error_y\\\":{\\\"color\\\":\\\"#2a3f5f\\\"},\\\"error_x\\\":{\\\"color\\\":\\\"#2a3f5f\\\"},\\\"marker\\\":{\\\"line\\\":{\\\"color\\\":\\\"#E5ECF6\\\",\\\"width\\\":0.5}}}],\\\"heatmap\\\":[{\\\"colorbar\\\":{\\\"ticks\\\":\\\"\\\",\\\"outlinewidth\\\":0},\\\"type\\\":\\\"heatmap\\\",\\\"colorscale\\\":[[0.0,\\\"#0d0887\\\"],[0.1111111111111111,\\\"#46039f\\\"],[0.2222222222222222,\\\"#7201a8\\\"],[0.3333333333333333,\\\"#9c179e\\\"],[0.4444444444444444,\\\"#bd3786\\\"],[0.5555555555555556,\\\"#d8576b\\\"],[0.6666666666666666,\\\"#ed7953\\\"],[0.7777777777777778,\\\"#fb9f3a\\\"],[0.8888888888888888,\\\"#fdca26\\\"],[1.0,\\\"#f0f921\\\"]]}],\\\"contourcarpet\\\":[{\\\"colorbar\\\":{\\\"ticks\\\":\\\"\\\",\\\"outlinewidth\\\":0},\\\"type\\\":\\\"contourcarpet\\\"}],\\\"table\\\":[{\\\"type\\\":\\\"table\\\",\\\"header\\\":{\\\"line\\\":{\\\"color\\\":\\\"white\\\"},\\\"fill\\\":{\\\"color\\\":\\\"#C8D4E3\\\"}},\\\"cells\\\":{\\\"line\\\":{\\\"color\\\":\\\"white\\\"},\\\"fill\\\":{\\\"color\\\":\\\"#EBF0F8\\\"}}}],\\\"scatter3d\\\":[{\\\"line\\\":{\\\"colorbar\\\":{\\\"ticks\\\":\\\"\\\",\\\"outlinewidth\\\":0}},\\\"type\\\":\\\"scatter3d\\\",\\\"marker\\\":{\\\"colorbar\\\":{\\\"ticks\\\":\\\"\\\",\\\"outlinewidth\\\":0}}}],\\\"scattergl\\\":[{\\\"type\\\":\\\"scattergl\\\",\\\"marker\\\":{\\\"colorbar\\\":{\\\"ticks\\\":\\\"\\\",\\\"outlinewidth\\\":0}}}],\\\"histogram2d\\\":[{\\\"colorbar\\\":{\\\"ticks\\\":\\\"\\\",\\\"outlinewidth\\\":0},\\\"type\\\":\\\"histogram2d\\\",\\\"colorscale\\\":[[0.0,\\\"#0d0887\\\"],[0.1111111111111111,\\\"#46039f\\\"],[0.2222222222222222,\\\"#7201a8\\\"],[0.3333333333333333,\\\"#9c179e\\\"],[0.4444444444444444,\\\"#bd3786\\\"],[0.5555555555555556,\\\"#d8576b\\\"],[0.6666666666666666,\\\"#ed7953\\\"],[0.7777777777777778,\\\"#fb9f3a\\\"],[0.8888888888888888,\\\"#fdca26\\\"],[1.0,\\\"#f0f921\\\"]]}],\\\"scatterternary\\\":[{\\\"type\\\":\\\"scatterternary\\\",\\\"marker\\\":{\\\"colorbar\\\":{\\\"ticks\\\":\\\"\\\",\\\"outlinewidth\\\":0}}}],\\\"scatterpolargl\\\":[{\\\"type\\\":\\\"scatterpolargl\\\",\\\"marker\\\":{\\\"colorbar\\\":{\\\"ticks\\\":\\\"\\\",\\\"outlinewidth\\\":0}}}]}},\\\"margin\\\":{\\\"l\\\":50,\\\"b\\\":50,\\\"r\\\":50,\\\"t\\\":60}},{\\\"showLink\\\":false,\\\"editable\\\":false,\\\"responsive\\\":true,\\\"staticPlot\\\":false,\\\"scrollZoom\\\":true}); gd.on(\\\"plotly_hover\\\",(function (data){var filtered_data=WebIO.PlotlyCommands.filterEventData(gd,data,\\\"hover\\\"); return !(filtered_data.isnil) ? (WebIO.setval({\\\"name\\\":\\\"hover\\\",\\\"scope\\\":\\\"4536365702223279360\\\",\\\"id\\\":\\\"14597802216258439957\\\",\\\"type\\\":\\\"observable\\\"},filtered_data.out)) : undefined})); gd.on(\\\"plotly_unhover\\\",(function (){return WebIO.setval({\\\"name\\\":\\\"hover\\\",\\\"scope\\\":\\\"4536365702223279360\\\",\\\"id\\\":\\\"14597802216258439957\\\",\\\"type\\\":\\\"observable\\\"},{})})); gd.on(\\\"plotly_selected\\\",(function (data){var filtered_data=WebIO.PlotlyCommands.filterEventData(gd,data,\\\"selected\\\"); return !(filtered_data.isnil) ? (WebIO.setval({\\\"name\\\":\\\"selected\\\",\\\"scope\\\":\\\"4536365702223279360\\\",\\\"id\\\":\\\"17862359412964499519\\\",\\\"type\\\":\\\"observable\\\"},filtered_data.out)) : undefined})); gd.on(\\\"plotly_deselect\\\",(function (){return WebIO.setval({\\\"name\\\":\\\"selected\\\",\\\"scope\\\":\\\"4536365702223279360\\\",\\\"id\\\":\\\"17862359412964499519\\\",\\\"type\\\":\\\"observable\\\"},{})})); gd.on(\\\"plotly_relayout\\\",(function (data){var filtered_data=WebIO.PlotlyCommands.filterEventData(gd,data,\\\"relayout\\\"); return !(filtered_data.isnil) ? (WebIO.setval({\\\"name\\\":\\\"relayout\\\",\\\"scope\\\":\\\"4536365702223279360\\\",\\\"id\\\":\\\"5989576415393193283\\\",\\\"type\\\":\\\"observable\\\"},filtered_data.out)) : undefined})); return gd.on(\\\"plotly_click\\\",(function (data){var filtered_data=WebIO.PlotlyCommands.filterEventData(gd,data,\\\"click\\\"); return !(filtered_data.isnil) ? (WebIO.setval({\\\"name\\\":\\\"click\\\",\\\"scope\\\":\\\"4536365702223279360\\\",\\\"id\\\":\\\"8909230663427347434\\\",\\\"type\\\":\\\"observable\\\"},filtered_data.out)) : undefined}))}));\\n    (WebIO.importBlock({\\\"data\\\":[{\\\"name\\\":\\\"Plotly\\\",\\\"type\\\":\\\"js\\\",\\\"url\\\":\\\"\\/assetserver\\/d18d62e3d860f95bdd778d5ce0d98356c8e8cd70-plotly.min.js\\\"},{\\\"name\\\":null,\\\"type\\\":\\\"js\\\",\\\"url\\\":\\\"\\/assetserver\\/3ce237707c6799d71e862d9d30b4d1f68d73bd38-plotly_webio.bundle.js\\\"}],\\\"type\\\":\\\"async_block\\\"})).then((imports) => handler.apply(this, imports));\\n}\\n\"],\"observables\":{\"_toImage\":{\"sync\":false,\"id\":\"12371422113938237037\",\"value\":{}},\"hover\":{\"sync\":false,\"id\":\"14597802216258439957\",\"value\":{}},\"selected\":{\"sync\":false,\"id\":\"17862359412964499519\",\"value\":{}},\"__gd_contents\":{\"sync\":false,\"id\":\"2952179570926919859\",\"value\":{}},\"click\":{\"sync\":false,\"id\":\"8909230663427347434\",\"value\":{}},\"image\":{\"sync\":true,\"id\":\"13918264913561802706\",\"value\":\"\"},\"__get_gd_contents\":{\"sync\":false,\"id\":\"18086575002480805547\",\"value\":\"\"},\"_downloadImage\":{\"sync\":false,\"id\":\"9713833194036403240\",\"value\":{}},\"relayout\":{\"sync\":false,\"id\":\"5989576415393193283\",\"value\":{}},\"_commands\":{\"sync\":false,\"id\":\"17679046293823181848\",\"value\":[]}}},\"children\":[{\"props\":{\"id\":\"plot-8d342ea9-9e8d-4166-a794-e58a8f928597\"},\"nodeType\":\"DOM\",\"type\":\"node\",\"instanceArgs\":{\"namespace\":\"html\",\"tag\":\"div\"},\"children\":[]}]},\n",
       "        window,\n",
       "    );\n",
       "    })()\n",
       "    </script>\n",
       "</div>\n"
      ],
      "text/plain": [
       "data: [\n",
       "  \"scatter3d with fields marker, mode, text, textposition, type, x, y, and z\",\n",
       "  \"scatter3d with fields line, mode, type, x, y, and z\",\n",
       "  \"scatter3d with fields line, mode, type, x, y, and z\",\n",
       "  \"scatter3d with fields line, mode, type, x, y, and z\",\n",
       "  \"scatter3d with fields line, mode, type, x, y, and z\",\n",
       "  \"scatter3d with fields line, mode, type, x, y, and z\",\n",
       "  \"scatter3d with fields line, mode, type, x, y, and z\",\n",
       "  \"scatter3d with fields line, mode, type, x, y, and z\",\n",
       "  \"scatter3d with fields line, mode, type, x, y, and z\",\n",
       "  \"scatter3d with fields line, mode, type, x, y, and z\",\n",
       "  \"scatter3d with fields line, mode, type, x, y, and z\",\n",
       "  \"scatter3d with fields line, mode, type, x, y, and z\",\n",
       "  \"scatter3d with fields line, mode, type, x, y, and z\",\n",
       "  \"scatter3d with fields line, mode, type, x, y, and z\",\n",
       "  \"scatter3d with fields line, mode, type, x, y, and z\",\n",
       "  \"scatter3d with fields line, mode, type, x, y, and z\",\n",
       "  \"scatter3d with fields line, mode, type, x, y, and z\",\n",
       "  \"scatter3d with fields line, mode, type, x, y, and z\",\n",
       "  \"scatter3d with fields line, mode, type, x, y, and z\",\n",
       "  \"scatter3d with fields line, mode, type, x, y, and z\",\n",
       "  \"scatter3d with fields line, mode, type, x, y, and z\",\n",
       "  \"scatter3d with fields line, mode, type, x, y, and z\",\n",
       "  \"scatter3d with fields line, mode, type, x, y, and z\",\n",
       "  \"scatter3d with fields line, mode, type, x, y, and z\",\n",
       "  \"scatter3d with fields line, mode, type, x, y, and z\",\n",
       "  \"scatter3d with fields line, mode, type, x, y, and z\",\n",
       "  \"scatter3d with fields line, mode, type, x, y, and z\",\n",
       "  \"scatter3d with fields line, mode, type, x, y, and z\",\n",
       "  \"scatter3d with fields line, mode, type, x, y, and z\",\n",
       "  \"scatter3d with fields line, mode, type, x, y, and z\",\n",
       "  \"scatter3d with fields line, mode, type, x, y, and z\",\n",
       "  \"scatter3d with fields line, mode, type, x, y, and z\",\n",
       "  \"scatter3d with fields line, mode, type, x, y, and z\",\n",
       "  \"scatter3d with fields line, mode, type, x, y, and z\",\n",
       "  \"scatter3d with fields line, mode, type, x, y, and z\",\n",
       "  \"scatter3d with fields line, mode, type, x, y, and z\",\n",
       "  \"scatter3d with fields line, mode, type, x, y, and z\",\n",
       "  \"scatter3d with fields line, mode, type, x, y, and z\",\n",
       "  \"scatter3d with fields line, mode, type, x, y, and z\",\n",
       "  \"scatter3d with fields line, mode, type, x, y, and z\",\n",
       "  \"scatter3d with fields line, mode, type, x, y, and z\",\n",
       "  \"scatter3d with fields line, mode, type, x, y, and z\",\n",
       "  \"scatter3d with fields line, mode, type, x, y, and z\",\n",
       "  \"scatter3d with fields line, mode, type, x, y, and z\",\n",
       "  \"scatter3d with fields line, mode, type, x, y, and z\",\n",
       "  \"scatter3d with fields line, mode, type, x, y, and z\",\n",
       "  \"mesh3d with fields facecolor, i, j, k, opacity, type, x, y, and z\",\n",
       "  \"scatter3d with fields marker, mode, text, textposition, type, x, y, and z\",\n",
       "  \"scatter3d with fields line, mode, type, x, y, and z\",\n",
       "  \"scatter3d with fields line, mode, type, x, y, and z\",\n",
       "  \"scatter3d with fields line, mode, type, x, y, and z\",\n",
       "  \"scatter3d with fields line, mode, type, x, y, and z\",\n",
       "  \"scatter3d with fields line, mode, type, x, y, and z\",\n",
       "  \"scatter3d with fields line, mode, type, x, y, and z\",\n",
       "  \"mesh3d with fields facecolor, i, j, k, opacity, type, x, y, and z\",\n",
       "  \"scatter3d with fields marker, mode, text, textposition, type, x, y, and z\",\n",
       "  \"scatter3d with fields line, mode, type, x, y, and z\",\n",
       "  \"scatter3d with fields line, mode, type, x, y, and z\",\n",
       "  \"scatter3d with fields line, mode, type, x, y, and z\",\n",
       "  \"scatter3d with fields line, mode, type, x, y, and z\",\n",
       "  \"scatter3d with fields line, mode, type, x, y, and z\",\n",
       "  \"scatter3d with fields line, mode, type, x, y, and z\",\n",
       "  \"mesh3d with fields facecolor, i, j, k, opacity, type, x, y, and z\",\n",
       "  \"scatter3d with fields marker, mode, text, textposition, type, x, y, and z\",\n",
       "  \"scatter3d with fields line, mode, type, x, y, and z\",\n",
       "  \"scatter3d with fields line, mode, type, x, y, and z\",\n",
       "  \"scatter3d with fields line, mode, type, x, y, and z\",\n",
       "  \"scatter3d with fields line, mode, type, x, y, and z\",\n",
       "  \"scatter3d with fields line, mode, type, x, y, and z\",\n",
       "  \"scatter3d with fields line, mode, type, x, y, and z\",\n",
       "  \"mesh3d with fields facecolor, i, j, k, opacity, type, x, y, and z\"\n",
       "]\n",
       "\n",
       "layout: \"layout with fields margin and template\"\n",
       "\n"
      ]
     },
     "metadata": {},
     "output_type": "display_data"
    }
   ],
   "source": [
    "plotAssembly(convexDecomposition(Dodecahedron))"
   ]
  },
  {
   "cell_type": "code",
   "execution_count": 10,
   "metadata": {},
   "outputs": [
    {
     "data": {
      "text/plain": [
       "2-element Vector{Vector{Int64}}:\n",
       " [4, 17]\n",
       " [12, 17]"
      ]
     },
     "metadata": {},
     "output_type": "display_data"
    }
   ],
   "source": [
    "poly = triangulatePolyhedron(Dodecahedron)\n",
    "\n",
    "poly.edges[[!isturnable(e, poly) for e in poly.edges]]"
   ]
  },
  {
   "cell_type": "code",
   "execution_count": 15,
   "metadata": {},
   "outputs": [
    {
     "data": {
      "text/plain": [
       "\"yes\""
      ]
     },
     "metadata": {},
     "output_type": "display_data"
    }
   ],
   "source": [
    "a = 3==3 ? \"yes\" : no"
   ]
  },
  {
   "cell_type": "markdown",
   "metadata": {},
   "source": [
    "## Experimente"
   ]
  },
  {
   "cell_type": "code",
   "execution_count": 17,
   "metadata": {},
   "outputs": [
    {
     "data": {
      "application/vnd.plotly.v1+json": {
       "config": {
        "editable": false,
        "responsive": true,
        "scrollZoom": true,
        "showLink": false,
        "staticPlot": false
       },
       "data": [
        {
         "facecolor": [
          "rgb(50, 200, 200)",
          "rgb(50, 200, 200)",
          "rgb(100, 200, 255)",
          "rgb(100, 200, 255)",
          "rgb(150, 200, 115)",
          "rgb(150, 200, 115)",
          "rgb(200, 200, 50)",
          "rgb(200, 200, 50)",
          "rgb(230, 200, 10)",
          "rgb(230, 200, 10)",
          "rgb(255, 140, 0)",
          "rgb(255, 140, 0)"
         ],
         "i": [
          7,
          0,
          0,
          0,
          4,
          4,
          2,
          6,
          4,
          0,
          3,
          7
         ],
         "j": [
          3,
          4,
          1,
          2,
          5,
          6,
          5,
          5,
          0,
          1,
          2,
          2
         ],
         "k": [
          0,
          7,
          2,
          3,
          6,
          7,
          1,
          2,
          5,
          5,
          7,
          6
         ],
         "type": "mesh3d",
         "x": [
          0,
          0,
          1,
          1,
          0,
          0,
          1,
          1
         ],
         "y": [
          0,
          1,
          1,
          0,
          0,
          1,
          1,
          0
         ],
         "z": [
          0,
          0,
          0,
          0,
          1,
          1,
          1,
          1
         ]
        }
       ],
       "frames": [],
       "layout": {
        "margin": {
         "b": 50,
         "l": 50,
         "r": 50,
         "t": 60
        },
        "template": {
         "data": {
          "bar": [
           {
            "error_x": {
             "color": "#2a3f5f"
            },
            "error_y": {
             "color": "#2a3f5f"
            },
            "marker": {
             "line": {
              "color": "#E5ECF6",
              "width": 0.5
             }
            },
            "type": "bar"
           }
          ],
          "barpolar": [
           {
            "marker": {
             "line": {
              "color": "#E5ECF6",
              "width": 0.5
             }
            },
            "type": "barpolar"
           }
          ],
          "carpet": [
           {
            "aaxis": {
             "endlinecolor": "#2a3f5f",
             "gridcolor": "white",
             "linecolor": "white",
             "minorgridcolor": "white",
             "startlinecolor": "#2a3f5f"
            },
            "baxis": {
             "endlinecolor": "#2a3f5f",
             "gridcolor": "white",
             "linecolor": "white",
             "minorgridcolor": "white",
             "startlinecolor": "#2a3f5f"
            },
            "type": "carpet"
           }
          ],
          "choropleth": [
           {
            "colorbar": {
             "outlinewidth": 0,
             "ticks": ""
            },
            "type": "choropleth"
           }
          ],
          "contour": [
           {
            "colorbar": {
             "outlinewidth": 0,
             "ticks": ""
            },
            "colorscale": [
             [
              0,
              "#0d0887"
             ],
             [
              0.1111111111111111,
              "#46039f"
             ],
             [
              0.2222222222222222,
              "#7201a8"
             ],
             [
              0.3333333333333333,
              "#9c179e"
             ],
             [
              0.4444444444444444,
              "#bd3786"
             ],
             [
              0.5555555555555556,
              "#d8576b"
             ],
             [
              0.6666666666666666,
              "#ed7953"
             ],
             [
              0.7777777777777778,
              "#fb9f3a"
             ],
             [
              0.8888888888888888,
              "#fdca26"
             ],
             [
              1,
              "#f0f921"
             ]
            ],
            "type": "contour"
           }
          ],
          "contourcarpet": [
           {
            "colorbar": {
             "outlinewidth": 0,
             "ticks": ""
            },
            "type": "contourcarpet"
           }
          ],
          "heatmap": [
           {
            "colorbar": {
             "outlinewidth": 0,
             "ticks": ""
            },
            "colorscale": [
             [
              0,
              "#0d0887"
             ],
             [
              0.1111111111111111,
              "#46039f"
             ],
             [
              0.2222222222222222,
              "#7201a8"
             ],
             [
              0.3333333333333333,
              "#9c179e"
             ],
             [
              0.4444444444444444,
              "#bd3786"
             ],
             [
              0.5555555555555556,
              "#d8576b"
             ],
             [
              0.6666666666666666,
              "#ed7953"
             ],
             [
              0.7777777777777778,
              "#fb9f3a"
             ],
             [
              0.8888888888888888,
              "#fdca26"
             ],
             [
              1,
              "#f0f921"
             ]
            ],
            "type": "heatmap"
           }
          ],
          "heatmapgl": [
           {
            "colorbar": {
             "outlinewidth": 0,
             "ticks": ""
            },
            "colorscale": [
             [
              0,
              "#0d0887"
             ],
             [
              0.1111111111111111,
              "#46039f"
             ],
             [
              0.2222222222222222,
              "#7201a8"
             ],
             [
              0.3333333333333333,
              "#9c179e"
             ],
             [
              0.4444444444444444,
              "#bd3786"
             ],
             [
              0.5555555555555556,
              "#d8576b"
             ],
             [
              0.6666666666666666,
              "#ed7953"
             ],
             [
              0.7777777777777778,
              "#fb9f3a"
             ],
             [
              0.8888888888888888,
              "#fdca26"
             ],
             [
              1,
              "#f0f921"
             ]
            ],
            "type": "heatmapgl"
           }
          ],
          "histogram": [
           {
            "marker": {
             "colorbar": {
              "outlinewidth": 0,
              "ticks": ""
             }
            },
            "type": "histogram"
           }
          ],
          "histogram2d": [
           {
            "colorbar": {
             "outlinewidth": 0,
             "ticks": ""
            },
            "colorscale": [
             [
              0,
              "#0d0887"
             ],
             [
              0.1111111111111111,
              "#46039f"
             ],
             [
              0.2222222222222222,
              "#7201a8"
             ],
             [
              0.3333333333333333,
              "#9c179e"
             ],
             [
              0.4444444444444444,
              "#bd3786"
             ],
             [
              0.5555555555555556,
              "#d8576b"
             ],
             [
              0.6666666666666666,
              "#ed7953"
             ],
             [
              0.7777777777777778,
              "#fb9f3a"
             ],
             [
              0.8888888888888888,
              "#fdca26"
             ],
             [
              1,
              "#f0f921"
             ]
            ],
            "type": "histogram2d"
           }
          ],
          "histogram2dcontour": [
           {
            "colorbar": {
             "outlinewidth": 0,
             "ticks": ""
            },
            "colorscale": [
             [
              0,
              "#0d0887"
             ],
             [
              0.1111111111111111,
              "#46039f"
             ],
             [
              0.2222222222222222,
              "#7201a8"
             ],
             [
              0.3333333333333333,
              "#9c179e"
             ],
             [
              0.4444444444444444,
              "#bd3786"
             ],
             [
              0.5555555555555556,
              "#d8576b"
             ],
             [
              0.6666666666666666,
              "#ed7953"
             ],
             [
              0.7777777777777778,
              "#fb9f3a"
             ],
             [
              0.8888888888888888,
              "#fdca26"
             ],
             [
              1,
              "#f0f921"
             ]
            ],
            "type": "histogram2dcontour"
           }
          ],
          "mesh3d": [
           {
            "colorbar": {
             "outlinewidth": 0,
             "ticks": ""
            },
            "type": "mesh3d"
           }
          ],
          "parcoords": [
           {
            "line": {
             "colorbar": {
              "outlinewidth": 0,
              "ticks": ""
             }
            },
            "type": "parcoords"
           }
          ],
          "pie": [
           {
            "automargin": true,
            "type": "pie"
           }
          ],
          "scatter": [
           {
            "marker": {
             "colorbar": {
              "outlinewidth": 0,
              "ticks": ""
             }
            },
            "type": "scatter"
           }
          ],
          "scatter3d": [
           {
            "line": {
             "colorbar": {
              "outlinewidth": 0,
              "ticks": ""
             }
            },
            "marker": {
             "colorbar": {
              "outlinewidth": 0,
              "ticks": ""
             }
            },
            "type": "scatter3d"
           }
          ],
          "scattercarpet": [
           {
            "marker": {
             "colorbar": {
              "outlinewidth": 0,
              "ticks": ""
             }
            },
            "type": "scattercarpet"
           }
          ],
          "scattergeo": [
           {
            "marker": {
             "colorbar": {
              "outlinewidth": 0,
              "ticks": ""
             }
            },
            "type": "scattergeo"
           }
          ],
          "scattergl": [
           {
            "marker": {
             "colorbar": {
              "outlinewidth": 0,
              "ticks": ""
             }
            },
            "type": "scattergl"
           }
          ],
          "scattermapbox": [
           {
            "marker": {
             "colorbar": {
              "outlinewidth": 0,
              "ticks": ""
             }
            },
            "type": "scattermapbox"
           }
          ],
          "scatterpolar": [
           {
            "marker": {
             "colorbar": {
              "outlinewidth": 0,
              "ticks": ""
             }
            },
            "type": "scatterpolar"
           }
          ],
          "scatterpolargl": [
           {
            "marker": {
             "colorbar": {
              "outlinewidth": 0,
              "ticks": ""
             }
            },
            "type": "scatterpolargl"
           }
          ],
          "scatterternary": [
           {
            "marker": {
             "colorbar": {
              "outlinewidth": 0,
              "ticks": ""
             }
            },
            "type": "scatterternary"
           }
          ],
          "surface": [
           {
            "colorbar": {
             "outlinewidth": 0,
             "ticks": ""
            },
            "colorscale": [
             [
              0,
              "#0d0887"
             ],
             [
              0.1111111111111111,
              "#46039f"
             ],
             [
              0.2222222222222222,
              "#7201a8"
             ],
             [
              0.3333333333333333,
              "#9c179e"
             ],
             [
              0.4444444444444444,
              "#bd3786"
             ],
             [
              0.5555555555555556,
              "#d8576b"
             ],
             [
              0.6666666666666666,
              "#ed7953"
             ],
             [
              0.7777777777777778,
              "#fb9f3a"
             ],
             [
              0.8888888888888888,
              "#fdca26"
             ],
             [
              1,
              "#f0f921"
             ]
            ],
            "type": "surface"
           }
          ],
          "table": [
           {
            "cells": {
             "fill": {
              "color": "#EBF0F8"
             },
             "line": {
              "color": "white"
             }
            },
            "header": {
             "fill": {
              "color": "#C8D4E3"
             },
             "line": {
              "color": "white"
             }
            },
            "type": "table"
           }
          ]
         },
         "layout": {
          "annotationdefaults": {
           "arrowcolor": "#2a3f5f",
           "arrowhead": 0,
           "arrowwidth": 1
          },
          "autotypenumbers": "strict",
          "coloraxis": {
           "colorbar": {
            "outlinewidth": 0,
            "ticks": ""
           }
          },
          "colorscale": {
           "diverging": [
            [
             0,
             "#8e0152"
            ],
            [
             0.1,
             "#c51b7d"
            ],
            [
             0.2,
             "#de77ae"
            ],
            [
             0.3,
             "#f1b6da"
            ],
            [
             0.4,
             "#fde0ef"
            ],
            [
             0.5,
             "#f7f7f7"
            ],
            [
             0.6,
             "#e6f5d0"
            ],
            [
             0.7,
             "#b8e186"
            ],
            [
             0.8,
             "#7fbc41"
            ],
            [
             0.9,
             "#4d9221"
            ],
            [
             1,
             "#276419"
            ]
           ],
           "sequential": [
            [
             0,
             "#0d0887"
            ],
            [
             0.1111111111111111,
             "#46039f"
            ],
            [
             0.2222222222222222,
             "#7201a8"
            ],
            [
             0.3333333333333333,
             "#9c179e"
            ],
            [
             0.4444444444444444,
             "#bd3786"
            ],
            [
             0.5555555555555556,
             "#d8576b"
            ],
            [
             0.6666666666666666,
             "#ed7953"
            ],
            [
             0.7777777777777778,
             "#fb9f3a"
            ],
            [
             0.8888888888888888,
             "#fdca26"
            ],
            [
             1,
             "#f0f921"
            ]
           ],
           "sequentialminus": [
            [
             0,
             "#0d0887"
            ],
            [
             0.1111111111111111,
             "#46039f"
            ],
            [
             0.2222222222222222,
             "#7201a8"
            ],
            [
             0.3333333333333333,
             "#9c179e"
            ],
            [
             0.4444444444444444,
             "#bd3786"
            ],
            [
             0.5555555555555556,
             "#d8576b"
            ],
            [
             0.6666666666666666,
             "#ed7953"
            ],
            [
             0.7777777777777778,
             "#fb9f3a"
            ],
            [
             0.8888888888888888,
             "#fdca26"
            ],
            [
             1,
             "#f0f921"
            ]
           ]
          },
          "colorway": [
           "#636efa",
           "#EF553B",
           "#00cc96",
           "#ab63fa",
           "#FFA15A",
           "#19d3f3",
           "#FF6692",
           "#B6E880",
           "#FF97FF",
           "#FECB52"
          ],
          "font": {
           "color": "#2a3f5f"
          },
          "geo": {
           "bgcolor": "white",
           "lakecolor": "white",
           "landcolor": "#E5ECF6",
           "showlakes": true,
           "showland": true,
           "subunitcolor": "white"
          },
          "hoverlabel": {
           "align": "left"
          },
          "hovermode": "closest",
          "mapbox": {
           "style": "light"
          },
          "paper_bgcolor": "white",
          "plot_bgcolor": "#E5ECF6",
          "polar": {
           "angularaxis": {
            "gridcolor": "white",
            "linecolor": "white",
            "ticks": ""
           },
           "bgcolor": "#E5ECF6",
           "radialaxis": {
            "gridcolor": "white",
            "linecolor": "white",
            "ticks": ""
           }
          },
          "scene": {
           "xaxis": {
            "backgroundcolor": "#E5ECF6",
            "gridcolor": "white",
            "gridwidth": 2,
            "linecolor": "white",
            "showbackground": true,
            "ticks": "",
            "zerolinecolor": "white"
           },
           "yaxis": {
            "backgroundcolor": "#E5ECF6",
            "gridcolor": "white",
            "gridwidth": 2,
            "linecolor": "white",
            "showbackground": true,
            "ticks": "",
            "zerolinecolor": "white"
           },
           "zaxis": {
            "backgroundcolor": "#E5ECF6",
            "gridcolor": "white",
            "gridwidth": 2,
            "linecolor": "white",
            "showbackground": true,
            "ticks": "",
            "zerolinecolor": "white"
           }
          },
          "shapedefaults": {
           "line": {
            "color": "#2a3f5f"
           }
          },
          "ternary": {
           "aaxis": {
            "gridcolor": "white",
            "linecolor": "white",
            "ticks": ""
           },
           "baxis": {
            "gridcolor": "white",
            "linecolor": "white",
            "ticks": ""
           },
           "bgcolor": "#E5ECF6",
           "caxis": {
            "gridcolor": "white",
            "linecolor": "white",
            "ticks": ""
           }
          },
          "title": {
           "x": 0.05
          },
          "xaxis": {
           "automargin": true,
           "gridcolor": "white",
           "linecolor": "white",
           "ticks": "",
           "title": {
            "standoff": 15
           },
           "zerolinecolor": "white",
           "zerolinewidth": 2
          },
          "yaxis": {
           "automargin": true,
           "gridcolor": "white",
           "linecolor": "white",
           "ticks": "",
           "title": {
            "standoff": 15
           },
           "zerolinecolor": "white",
           "zerolinewidth": 2
          }
         }
        }
       }
      },
      "image/png": "[encoded data removed]",
      "image/svg+xml": "<svg class=\"main-svg\" xmlns=\"http://www.w3.org/2000/svg\" xmlns:xlink=\"http://www.w3.org/1999/xlink\" width=\"700\" height=\"500\" style=\"\" viewBox=\"0 0 700 500\"><rect x=\"0\" y=\"0\" width=\"700\" height=\"500\" style=\"fill: rgb(255, 255, 255); fill-opacity: 1;\"/><defs id=\"defs-98b1d2\"><g class=\"clips\"/><g class=\"gradients\"/></defs><g class=\"bglayer\"/><g class=\"layer-below\"><g class=\"imagelayer\"/><g class=\"shapelayer\"/></g><g class=\"cartesianlayer\"/><g class=\"polarlayer\"/><g class=\"ternarylayer\"/><g class=\"geolayer\"/><g class=\"funnelarealayer\"/><g class=\"pielayer\"/><g class=\"treemaplayer\"/><g class=\"sunburstlayer\"/><g class=\"glimages\"><image xmlns=\"http://www.w3.org/2000/svg\" xlink:href=\"data:image/png;base64,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\" x=\"50\" y=\"60\" width=\"600\" height=\"390\" preserveAspectRatio=\"none\"/></g><defs id=\"topdefs-98b1d2\"><g class=\"clips\"/></defs><g class=\"layer-above\"><g class=\"imagelayer\"/><g class=\"shapelayer\"/></g><g class=\"infolayer\"><g class=\"g-gtitle\"/></g></svg>",
      "text/html": [
       "<div\n",
       "    class=\"webio-mountpoint\"\n",
       "    data-webio-mountpoint=\"11685345162212126119\"\n",
       ">\n",
       "    <script>\n",
       "    (function(){\n",
       "    // Some integrations (namely, IJulia/Jupyter) use an alternate render pathway than\n",
       "    // just putting the html on the page. If WebIO isn't defined, then it's pretty likely\n",
       "    // that we're in one of those situations and the integration just isn't installed\n",
       "    // correctly.\n",
       "    if (typeof window.WebIO === \"undefined\") {\n",
       "        document\n",
       "            .querySelector('[data-webio-mountpoint=\"11685345162212126119\"]')\n",
       "            .innerHTML = (\n",
       "                '<div style=\"padding: 1em; background-color: #f8d6da; border: 1px solid #f5c6cb; font-weight: bold;\">' +\n",
       "                '<p><strong>WebIO not detected.</strong></p>' +\n",
       "                '<p>Please read ' +\n",
       "                '<a href=\"https://juliagizmos.github.io/WebIO.jl/latest/troubleshooting/not-detected/\" target=\"_blank\">the troubleshooting guide</a> ' +\n",
       "                'for more information on how to resolve this issue.</p>' +\n",
       "                '<p><a href=\"https://juliagizmos.github.io/WebIO.jl/latest/troubleshooting/not-detected/\" target=\"_blank\">https://juliagizmos.github.io/WebIO.jl/latest/troubleshooting/not-detected/</a></p>' +\n",
       "                '</div>'\n",
       "            );\n",
       "        return;\n",
       "    }\n",
       "    WebIO.mount(\n",
       "        document.querySelector('[data-webio-mountpoint=\"11685345162212126119\"]'),\n",
       "        {\"props\":{},\"nodeType\":\"Scope\",\"type\":\"node\",\"instanceArgs\":{\"imports\":{\"data\":[{\"name\":\"Plotly\",\"type\":\"js\",\"url\":\"\\/assetserver\\/d18d62e3d860f95bdd778d5ce0d98356c8e8cd70-plotly.min.js\"},{\"name\":null,\"type\":\"js\",\"url\":\"\\/assetserver\\/3ce237707c6799d71e862d9d30b4d1f68d73bd38-plotly_webio.bundle.js\"}],\"type\":\"async_block\"},\"id\":\"2935658697145168549\",\"handlers\":{\"_toImage\":[\"(function (options){return this.Plotly.toImage(this.plotElem,options).then((function (data){return WebIO.setval({\\\"name\\\":\\\"image\\\",\\\"scope\\\":\\\"2935658697145168549\\\",\\\"id\\\":\\\"12697539583857091393\\\",\\\"type\\\":\\\"observable\\\"},data)}))})\"],\"__get_gd_contents\":[\"(function (prop){prop==\\\"data\\\" ? (WebIO.setval({\\\"name\\\":\\\"__gd_contents\\\",\\\"scope\\\":\\\"2935658697145168549\\\",\\\"id\\\":\\\"4189943000620689502\\\",\\\"type\\\":\\\"observable\\\"},this.plotElem.data)) : undefined; return prop==\\\"layout\\\" ? (WebIO.setval({\\\"name\\\":\\\"__gd_contents\\\",\\\"scope\\\":\\\"2935658697145168549\\\",\\\"id\\\":\\\"4189943000620689502\\\",\\\"type\\\":\\\"observable\\\"},this.plotElem.layout)) : undefined})\"],\"_downloadImage\":[\"(function (options){return this.Plotly.downloadImage(this.plotElem,options)})\"],\"_commands\":[\"(function (args){var fn=args.shift(); var elem=this.plotElem; var Plotly=this.Plotly; args.unshift(elem); return Plotly[fn].apply(this,args)})\"]},\"systemjs_options\":null,\"mount_callbacks\":[\"function () {\\n    var handler = ((function (Plotly,PlotlyWebIO){PlotlyWebIO.init(WebIO); var gd=this.dom.querySelector(\\\"#plot-46c3f828-9f5f-4018-bbc8-c0ce39e5905e\\\"); this.plotElem=gd; this.Plotly=Plotly; (window.Blink!==undefined) ? (gd.style.width=\\\"100%\\\", gd.style.height=\\\"100vh\\\", gd.style.marginLeft=\\\"0%\\\", gd.style.marginTop=\\\"0vh\\\") : undefined; window.onresize=(function (){return Plotly.Plots.resize(gd)}); Plotly.newPlot(gd,[{\\\"y\\\":[0,1,1,0,0,1,1,0],\\\"type\\\":\\\"mesh3d\\\",\\\"j\\\":[3,4,1,2,5,6,5,5,0,1,2,2],\\\"k\\\":[0,7,2,3,6,7,1,2,5,5,7,6],\\\"z\\\":[0,0,0,0,1,1,1,1],\\\"i\\\":[7,0,0,0,4,4,2,6,4,0,3,7],\\\"facecolor\\\":[\\\"rgb(50, 200, 200)\\\",\\\"rgb(50, 200, 200)\\\",\\\"rgb(100, 200, 255)\\\",\\\"rgb(100, 200, 255)\\\",\\\"rgb(150, 200, 115)\\\",\\\"rgb(150, 200, 115)\\\",\\\"rgb(200, 200, 50)\\\",\\\"rgb(200, 200, 50)\\\",\\\"rgb(230, 200, 10)\\\",\\\"rgb(230, 200, 10)\\\",\\\"rgb(255, 140, 0)\\\",\\\"rgb(255, 140, 0)\\\"],\\\"x\\\":[0,0,1,1,0,0,1,1]}],{\\\"template\\\":{\\\"layout\\\":{\\\"coloraxis\\\":{\\\"colorbar\\\":{\\\"ticks\\\":\\\"\\\",\\\"outlinewidth\\\":0}},\\\"xaxis\\\":{\\\"gridcolor\\\":\\\"white\\\",\\\"zerolinewidth\\\":2,\\\"title\\\":{\\\"standoff\\\":15},\\\"ticks\\\":\\\"\\\",\\\"zerolinecolor\\\":\\\"white\\\",\\\"automargin\\\":true,\\\"linecolor\\\":\\\"white\\\"},\\\"hovermode\\\":\\\"closest\\\",\\\"paper_bgcolor\\\":\\\"white\\\",\\\"geo\\\":{\\\"showlakes\\\":true,\\\"showland\\\":true,\\\"landcolor\\\":\\\"#E5ECF6\\\",\\\"bgcolor\\\":\\\"white\\\",\\\"subunitcolor\\\":\\\"white\\\",\\\"lakecolor\\\":\\\"white\\\"},\\\"colorscale\\\":{\\\"sequential\\\":[[0.0,\\\"#0d0887\\\"],[0.1111111111111111,\\\"#46039f\\\"],[0.2222222222222222,\\\"#7201a8\\\"],[0.3333333333333333,\\\"#9c179e\\\"],[0.4444444444444444,\\\"#bd3786\\\"],[0.5555555555555556,\\\"#d8576b\\\"],[0.6666666666666666,\\\"#ed7953\\\"],[0.7777777777777778,\\\"#fb9f3a\\\"],[0.8888888888888888,\\\"#fdca26\\\"],[1.0,\\\"#f0f921\\\"]],\\\"diverging\\\":[[0,\\\"#8e0152\\\"],[0.1,\\\"#c51b7d\\\"],[0.2,\\\"#de77ae\\\"],[0.3,\\\"#f1b6da\\\"],[0.4,\\\"#fde0ef\\\"],[0.5,\\\"#f7f7f7\\\"],[0.6,\\\"#e6f5d0\\\"],[0.7,\\\"#b8e186\\\"],[0.8,\\\"#7fbc41\\\"],[0.9,\\\"#4d9221\\\"],[1,\\\"#276419\\\"]],\\\"sequentialminus\\\":[[0.0,\\\"#0d0887\\\"],[0.1111111111111111,\\\"#46039f\\\"],[0.2222222222222222,\\\"#7201a8\\\"],[0.3333333333333333,\\\"#9c179e\\\"],[0.4444444444444444,\\\"#bd3786\\\"],[0.5555555555555556,\\\"#d8576b\\\"],[0.6666666666666666,\\\"#ed7953\\\"],[0.7777777777777778,\\\"#fb9f3a\\\"],[0.8888888888888888,\\\"#fdca26\\\"],[1.0,\\\"#f0f921\\\"]]},\\\"yaxis\\\":{\\\"gridcolor\\\":\\\"white\\\",\\\"zerolinewidth\\\":2,\\\"title\\\":{\\\"standoff\\\":15},\\\"ticks\\\":\\\"\\\",\\\"zerolinecolor\\\":\\\"white\\\",\\\"automargin\\\":true,\\\"linecolor\\\":\\\"white\\\"},\\\"shapedefaults\\\":{\\\"line\\\":{\\\"color\\\":\\\"#2a3f5f\\\"}},\\\"hoverlabel\\\":{\\\"align\\\":\\\"left\\\"},\\\"mapbox\\\":{\\\"style\\\":\\\"light\\\"},\\\"polar\\\":{\\\"angularaxis\\\":{\\\"gridcolor\\\":\\\"white\\\",\\\"ticks\\\":\\\"\\\",\\\"linecolor\\\":\\\"white\\\"},\\\"bgcolor\\\":\\\"#E5ECF6\\\",\\\"radialaxis\\\":{\\\"gridcolor\\\":\\\"white\\\",\\\"ticks\\\":\\\"\\\",\\\"linecolor\\\":\\\"white\\\"}},\\\"autotypenumbers\\\":\\\"strict\\\",\\\"font\\\":{\\\"color\\\":\\\"#2a3f5f\\\"},\\\"ternary\\\":{\\\"baxis\\\":{\\\"gridcolor\\\":\\\"white\\\",\\\"ticks\\\":\\\"\\\",\\\"linecolor\\\":\\\"white\\\"},\\\"bgcolor\\\":\\\"#E5ECF6\\\",\\\"caxis\\\":{\\\"gridcolor\\\":\\\"white\\\",\\\"ticks\\\":\\\"\\\",\\\"linecolor\\\":\\\"white\\\"},\\\"aaxis\\\":{\\\"gridcolor\\\":\\\"white\\\",\\\"ticks\\\":\\\"\\\",\\\"linecolor\\\":\\\"white\\\"}},\\\"annotationdefaults\\\":{\\\"arrowhead\\\":0,\\\"arrowwidth\\\":1,\\\"arrowcolor\\\":\\\"#2a3f5f\\\"},\\\"plot_bgcolor\\\":\\\"#E5ECF6\\\",\\\"title\\\":{\\\"x\\\":0.05},\\\"scene\\\":{\\\"xaxis\\\":{\\\"gridcolor\\\":\\\"white\\\",\\\"gridwidth\\\":2,\\\"backgroundcolor\\\":\\\"#E5ECF6\\\",\\\"ticks\\\":\\\"\\\",\\\"showbackground\\\":true,\\\"zerolinecolor\\\":\\\"white\\\",\\\"linecolor\\\":\\\"white\\\"},\\\"zaxis\\\":{\\\"gridcolor\\\":\\\"white\\\",\\\"gridwidth\\\":2,\\\"backgroundcolor\\\":\\\"#E5ECF6\\\",\\\"ticks\\\":\\\"\\\",\\\"showbackground\\\":true,\\\"zerolinecolor\\\":\\\"white\\\",\\\"linecolor\\\":\\\"white\\\"},\\\"yaxis\\\":{\\\"gridcolor\\\":\\\"white\\\",\\\"gridwidth\\\":2,\\\"backgroundcolor\\\":\\\"#E5ECF6\\\",\\\"ticks\\\":\\\"\\\",\\\"showbackground\\\":true,\\\"zerolinecolor\\\":\\\"white\\\",\\\"linecolor\\\":\\\"white\\\"}},\\\"colorway\\\":[\\\"#636efa\\\",\\\"#EF553B\\\",\\\"#00cc96\\\",\\\"#ab63fa\\\",\\\"#FFA15A\\\",\\\"#19d3f3\\\",\\\"#FF6692\\\",\\\"#B6E880\\\",\\\"#FF97FF\\\",\\\"#FECB52\\\"]},\\\"data\\\":{\\\"barpolar\\\":[{\\\"type\\\":\\\"barpolar\\\",\\\"marker\\\":{\\\"line\\\":{\\\"color\\\":\\\"#E5ECF6\\\",\\\"width\\\":0.5}}}],\\\"carpet\\\":[{\\\"aaxis\\\":{\\\"gridcolor\\\":\\\"white\\\",\\\"endlinecolor\\\":\\\"#2a3f5f\\\",\\\"minorgridcolor\\\":\\\"white\\\",\\\"startlinecolor\\\":\\\"#2a3f5f\\\",\\\"linecolor\\\":\\\"white\\\"},\\\"type\\\":\\\"carpet\\\",\\\"baxis\\\":{\\\"gridcolor\\\":\\\"white\\\",\\\"endlinecolor\\\":\\\"#2a3f5f\\\",\\\"minorgridcolor\\\":\\\"white\\\",\\\"startlinecolor\\\":\\\"#2a3f5f\\\",\\\"linecolor\\\":\\\"white\\\"}}],\\\"scatterpolar\\\":[{\\\"type\\\":\\\"scatterpolar\\\",\\\"marker\\\":{\\\"colorbar\\\":{\\\"ticks\\\":\\\"\\\",\\\"outlinewidth\\\":0}}}],\\\"parcoords\\\":[{\\\"line\\\":{\\\"colorbar\\\":{\\\"ticks\\\":\\\"\\\",\\\"outlinewidth\\\":0}},\\\"type\\\":\\\"parcoords\\\"}],\\\"scatter\\\":[{\\\"type\\\":\\\"scatter\\\",\\\"marker\\\":{\\\"colorbar\\\":{\\\"ticks\\\":\\\"\\\",\\\"outlinewidth\\\":0}}}],\\\"histogram2dcontour\\\":[{\\\"colorbar\\\":{\\\"ticks\\\":\\\"\\\",\\\"outlinewidth\\\":0},\\\"type\\\":\\\"histogram2dcontour\\\",\\\"colorscale\\\":[[0.0,\\\"#0d0887\\\"],[0.1111111111111111,\\\"#46039f\\\"],[0.2222222222222222,\\\"#7201a8\\\"],[0.3333333333333333,\\\"#9c179e\\\"],[0.4444444444444444,\\\"#bd3786\\\"],[0.5555555555555556,\\\"#d8576b\\\"],[0.6666666666666666,\\\"#ed7953\\\"],[0.7777777777777778,\\\"#fb9f3a\\\"],[0.8888888888888888,\\\"#fdca26\\\"],[1.0,\\\"#f0f921\\\"]]}],\\\"contour\\\":[{\\\"colorbar\\\":{\\\"ticks\\\":\\\"\\\",\\\"outlinewidth\\\":0},\\\"type\\\":\\\"contour\\\",\\\"colorscale\\\":[[0.0,\\\"#0d0887\\\"],[0.1111111111111111,\\\"#46039f\\\"],[0.2222222222222222,\\\"#7201a8\\\"],[0.3333333333333333,\\\"#9c179e\\\"],[0.4444444444444444,\\\"#bd3786\\\"],[0.5555555555555556,\\\"#d8576b\\\"],[0.6666666666666666,\\\"#ed7953\\\"],[0.7777777777777778,\\\"#fb9f3a\\\"],[0.8888888888888888,\\\"#fdca26\\\"],[1.0,\\\"#f0f921\\\"]]}],\\\"scattercarpet\\\":[{\\\"type\\\":\\\"scattercarpet\\\",\\\"marker\\\":{\\\"colorbar\\\":{\\\"ticks\\\":\\\"\\\",\\\"outlinewidth\\\":0}}}],\\\"mesh3d\\\":[{\\\"colorbar\\\":{\\\"ticks\\\":\\\"\\\",\\\"outlinewidth\\\":0},\\\"type\\\":\\\"mesh3d\\\"}],\\\"surface\\\":[{\\\"colorbar\\\":{\\\"ticks\\\":\\\"\\\",\\\"outlinewidth\\\":0},\\\"type\\\":\\\"surface\\\",\\\"colorscale\\\":[[0.0,\\\"#0d0887\\\"],[0.1111111111111111,\\\"#46039f\\\"],[0.2222222222222222,\\\"#7201a8\\\"],[0.3333333333333333,\\\"#9c179e\\\"],[0.4444444444444444,\\\"#bd3786\\\"],[0.5555555555555556,\\\"#d8576b\\\"],[0.6666666666666666,\\\"#ed7953\\\"],[0.7777777777777778,\\\"#fb9f3a\\\"],[0.8888888888888888,\\\"#fdca26\\\"],[1.0,\\\"#f0f921\\\"]]}],\\\"scattermapbox\\\":[{\\\"type\\\":\\\"scattermapbox\\\",\\\"marker\\\":{\\\"colorbar\\\":{\\\"ticks\\\":\\\"\\\",\\\"outlinewidth\\\":0}}}],\\\"scattergeo\\\":[{\\\"type\\\":\\\"scattergeo\\\",\\\"marker\\\":{\\\"colorbar\\\":{\\\"ticks\\\":\\\"\\\",\\\"outlinewidth\\\":0}}}],\\\"histogram\\\":[{\\\"type\\\":\\\"histogram\\\",\\\"marker\\\":{\\\"colorbar\\\":{\\\"ticks\\\":\\\"\\\",\\\"outlinewidth\\\":0}}}],\\\"pie\\\":[{\\\"type\\\":\\\"pie\\\",\\\"automargin\\\":true}],\\\"choropleth\\\":[{\\\"colorbar\\\":{\\\"ticks\\\":\\\"\\\",\\\"outlinewidth\\\":0},\\\"type\\\":\\\"choropleth\\\"}],\\\"heatmapgl\\\":[{\\\"colorbar\\\":{\\\"ticks\\\":\\\"\\\",\\\"outlinewidth\\\":0},\\\"type\\\":\\\"heatmapgl\\\",\\\"colorscale\\\":[[0.0,\\\"#0d0887\\\"],[0.1111111111111111,\\\"#46039f\\\"],[0.2222222222222222,\\\"#7201a8\\\"],[0.3333333333333333,\\\"#9c179e\\\"],[0.4444444444444444,\\\"#bd3786\\\"],[0.5555555555555556,\\\"#d8576b\\\"],[0.6666666666666666,\\\"#ed7953\\\"],[0.7777777777777778,\\\"#fb9f3a\\\"],[0.8888888888888888,\\\"#fdca26\\\"],[1.0,\\\"#f0f921\\\"]]}],\\\"bar\\\":[{\\\"type\\\":\\\"bar\\\",\\\"error_y\\\":{\\\"color\\\":\\\"#2a3f5f\\\"},\\\"error_x\\\":{\\\"color\\\":\\\"#2a3f5f\\\"},\\\"marker\\\":{\\\"line\\\":{\\\"color\\\":\\\"#E5ECF6\\\",\\\"width\\\":0.5}}}],\\\"heatmap\\\":[{\\\"colorbar\\\":{\\\"ticks\\\":\\\"\\\",\\\"outlinewidth\\\":0},\\\"type\\\":\\\"heatmap\\\",\\\"colorscale\\\":[[0.0,\\\"#0d0887\\\"],[0.1111111111111111,\\\"#46039f\\\"],[0.2222222222222222,\\\"#7201a8\\\"],[0.3333333333333333,\\\"#9c179e\\\"],[0.4444444444444444,\\\"#bd3786\\\"],[0.5555555555555556,\\\"#d8576b\\\"],[0.6666666666666666,\\\"#ed7953\\\"],[0.7777777777777778,\\\"#fb9f3a\\\"],[0.8888888888888888,\\\"#fdca26\\\"],[1.0,\\\"#f0f921\\\"]]}],\\\"contourcarpet\\\":[{\\\"colorbar\\\":{\\\"ticks\\\":\\\"\\\",\\\"outlinewidth\\\":0},\\\"type\\\":\\\"contourcarpet\\\"}],\\\"table\\\":[{\\\"type\\\":\\\"table\\\",\\\"header\\\":{\\\"line\\\":{\\\"color\\\":\\\"white\\\"},\\\"fill\\\":{\\\"color\\\":\\\"#C8D4E3\\\"}},\\\"cells\\\":{\\\"line\\\":{\\\"color\\\":\\\"white\\\"},\\\"fill\\\":{\\\"color\\\":\\\"#EBF0F8\\\"}}}],\\\"scatter3d\\\":[{\\\"line\\\":{\\\"colorbar\\\":{\\\"ticks\\\":\\\"\\\",\\\"outlinewidth\\\":0}},\\\"type\\\":\\\"scatter3d\\\",\\\"marker\\\":{\\\"colorbar\\\":{\\\"ticks\\\":\\\"\\\",\\\"outlinewidth\\\":0}}}],\\\"scattergl\\\":[{\\\"type\\\":\\\"scattergl\\\",\\\"marker\\\":{\\\"colorbar\\\":{\\\"ticks\\\":\\\"\\\",\\\"outlinewidth\\\":0}}}],\\\"histogram2d\\\":[{\\\"colorbar\\\":{\\\"ticks\\\":\\\"\\\",\\\"outlinewidth\\\":0},\\\"type\\\":\\\"histogram2d\\\",\\\"colorscale\\\":[[0.0,\\\"#0d0887\\\"],[0.1111111111111111,\\\"#46039f\\\"],[0.2222222222222222,\\\"#7201a8\\\"],[0.3333333333333333,\\\"#9c179e\\\"],[0.4444444444444444,\\\"#bd3786\\\"],[0.5555555555555556,\\\"#d8576b\\\"],[0.6666666666666666,\\\"#ed7953\\\"],[0.7777777777777778,\\\"#fb9f3a\\\"],[0.8888888888888888,\\\"#fdca26\\\"],[1.0,\\\"#f0f921\\\"]]}],\\\"scatterternary\\\":[{\\\"type\\\":\\\"scatterternary\\\",\\\"marker\\\":{\\\"colorbar\\\":{\\\"ticks\\\":\\\"\\\",\\\"outlinewidth\\\":0}}}],\\\"scatterpolargl\\\":[{\\\"type\\\":\\\"scatterpolargl\\\",\\\"marker\\\":{\\\"colorbar\\\":{\\\"ticks\\\":\\\"\\\",\\\"outlinewidth\\\":0}}}]}},\\\"margin\\\":{\\\"l\\\":50,\\\"b\\\":50,\\\"r\\\":50,\\\"t\\\":60}},{\\\"showLink\\\":false,\\\"editable\\\":false,\\\"responsive\\\":true,\\\"staticPlot\\\":false,\\\"scrollZoom\\\":true}); gd.on(\\\"plotly_hover\\\",(function (data){var filtered_data=WebIO.PlotlyCommands.filterEventData(gd,data,\\\"hover\\\"); return !(filtered_data.isnil) ? (WebIO.setval({\\\"name\\\":\\\"hover\\\",\\\"scope\\\":\\\"2935658697145168549\\\",\\\"id\\\":\\\"15800013356210834763\\\",\\\"type\\\":\\\"observable\\\"},filtered_data.out)) : undefined})); gd.on(\\\"plotly_unhover\\\",(function (){return WebIO.setval({\\\"name\\\":\\\"hover\\\",\\\"scope\\\":\\\"2935658697145168549\\\",\\\"id\\\":\\\"15800013356210834763\\\",\\\"type\\\":\\\"observable\\\"},{})})); gd.on(\\\"plotly_selected\\\",(function (data){var filtered_data=WebIO.PlotlyCommands.filterEventData(gd,data,\\\"selected\\\"); return !(filtered_data.isnil) ? (WebIO.setval({\\\"name\\\":\\\"selected\\\",\\\"scope\\\":\\\"2935658697145168549\\\",\\\"id\\\":\\\"326705014404238569\\\",\\\"type\\\":\\\"observable\\\"},filtered_data.out)) : undefined})); gd.on(\\\"plotly_deselect\\\",(function (){return WebIO.setval({\\\"name\\\":\\\"selected\\\",\\\"scope\\\":\\\"2935658697145168549\\\",\\\"id\\\":\\\"326705014404238569\\\",\\\"type\\\":\\\"observable\\\"},{})})); gd.on(\\\"plotly_relayout\\\",(function (data){var filtered_data=WebIO.PlotlyCommands.filterEventData(gd,data,\\\"relayout\\\"); return !(filtered_data.isnil) ? (WebIO.setval({\\\"name\\\":\\\"relayout\\\",\\\"scope\\\":\\\"2935658697145168549\\\",\\\"id\\\":\\\"10680869735979685588\\\",\\\"type\\\":\\\"observable\\\"},filtered_data.out)) : undefined})); return gd.on(\\\"plotly_click\\\",(function (data){var filtered_data=WebIO.PlotlyCommands.filterEventData(gd,data,\\\"click\\\"); return !(filtered_data.isnil) ? (WebIO.setval({\\\"name\\\":\\\"click\\\",\\\"scope\\\":\\\"2935658697145168549\\\",\\\"id\\\":\\\"6465275641259916280\\\",\\\"type\\\":\\\"observable\\\"},filtered_data.out)) : undefined}))}));\\n    (WebIO.importBlock({\\\"data\\\":[{\\\"name\\\":\\\"Plotly\\\",\\\"type\\\":\\\"js\\\",\\\"url\\\":\\\"\\/assetserver\\/d18d62e3d860f95bdd778d5ce0d98356c8e8cd70-plotly.min.js\\\"},{\\\"name\\\":null,\\\"type\\\":\\\"js\\\",\\\"url\\\":\\\"\\/assetserver\\/3ce237707c6799d71e862d9d30b4d1f68d73bd38-plotly_webio.bundle.js\\\"}],\\\"type\\\":\\\"async_block\\\"})).then((imports) => handler.apply(this, imports));\\n}\\n\"],\"observables\":{\"_toImage\":{\"sync\":false,\"id\":\"4634778325657260244\",\"value\":{}},\"hover\":{\"sync\":false,\"id\":\"15800013356210834763\",\"value\":{}},\"selected\":{\"sync\":false,\"id\":\"326705014404238569\",\"value\":{}},\"__gd_contents\":{\"sync\":false,\"id\":\"4189943000620689502\",\"value\":{}},\"click\":{\"sync\":false,\"id\":\"6465275641259916280\",\"value\":{}},\"image\":{\"sync\":true,\"id\":\"12697539583857091393\",\"value\":\"\"},\"__get_gd_contents\":{\"sync\":false,\"id\":\"7498729654597496858\",\"value\":\"\"},\"_downloadImage\":{\"sync\":false,\"id\":\"11979485285014988804\",\"value\":{}},\"relayout\":{\"sync\":false,\"id\":\"10680869735979685588\",\"value\":{}},\"_commands\":{\"sync\":false,\"id\":\"7306327925092032797\",\"value\":[]}}},\"children\":[{\"props\":{\"id\":\"plot-46c3f828-9f5f-4018-bbc8-c0ce39e5905e\"},\"nodeType\":\"DOM\",\"type\":\"node\",\"instanceArgs\":{\"namespace\":\"html\",\"tag\":\"div\"},\"children\":[]}]},\n",
       "        window,\n",
       "    );\n",
       "    })()\n",
       "    </script>\n",
       "</div>\n"
      ],
      "text/plain": [
       "data: [\n",
       "  \"mesh3d with fields facecolor, i, j, k, type, x, y, and z\"\n",
       "]\n",
       "\n",
       "layout: \"layout with fields margin and template\"\n",
       "\n"
      ]
     },
     "metadata": {},
     "output_type": "display_data"
    }
   ],
   "source": [
    "using PlotlyJS\n",
    "\n",
    "p = Plot()\n",
    "\n",
    "plot(mesh3d(\n",
    "    x=[0, 1, 2, 0],\n",
    "    y=[0, 0, 1, 2],\n",
    "    z=[0, 2, 0, 1],\n",
    "    #colorbar_title=\"z\",\n",
    "    colorscale=[[0, \"gold\"],\n",
    "                [0.5, \"mediumturquoise\"],\n",
    "                [1, \"magenta\"]],\n",
    "    # Intensity of each vertex, which will be interpolated and color-coded\n",
    "    intensity=[0, 0,0,0],\n",
    "    # i, j and k give the vertices of triangles\n",
    "    # here we represent the 4 triangles of the tetrahedron surface\n",
    "    i=[0, 0, 0, 1],\n",
    "    j=[1, 2, 3, 2],\n",
    "    k=[2, 3, 1, 3],\n",
    "    name=\"y\",\n",
    "    showscale=true\n",
    "))\n",
    "\n",
    "facecolor = repeat([\n",
    "    \"rgb(50, 200, 200)\",\n",
    "    \"rgb(100, 200, 255)\",\n",
    "    \"rgb(150, 200, 115)\",\n",
    "    \"rgb(200, 200, 50)\",\n",
    "    \"rgb(230, 200, 10)\",\n",
    "    \"rgb(255, 140, 0)\"\n",
    "], inner=[2])\n",
    "\n",
    "t = mesh3d(\n",
    "    x=[0, 0, 1, 1, 0, 0, 1, 1],\n",
    "    y=[0, 1, 1, 0, 0, 1, 1, 0],\n",
    "    z=[0, 0, 0, 0, 1, 1, 1, 1],\n",
    "    i=[7, 0, 0, 0, 4, 4, 2, 6, 4, 0, 3, 7],\n",
    "    j=[3, 4, 1, 2, 5, 6, 5, 5, 0, 1, 2, 2],\n",
    "    k=[0, 7, 2, 3, 6, 7, 1, 2, 5, 5, 7, 6],\n",
    "    facecolor=facecolor)\n",
    "\n",
    "plot(t)\n"
   ]
  },
  {
   "cell_type": "code",
   "execution_count": null,
   "metadata": {},
   "outputs": [],
   "source": []
  }
 ],
 "metadata": {
  "kernelspec": {
   "display_name": "Julia 1.8.4",
   "language": "julia",
   "name": "julia-1.8"
  },
  "language_info": {
   "file_extension": ".jl",
   "mimetype": "application/julia",
   "name": "julia",
   "version": "1.8.4"
  },
  "orig_nbformat": 4,
  "vscode": {
   "interpreter": {
    "hash": "a2ac061361b194fcb51195d855160f93752d4459f9e3b172838ff5b9184122a7"
   }
  }
 },
 "nbformat": 4,
 "nbformat_minor": 2
}
