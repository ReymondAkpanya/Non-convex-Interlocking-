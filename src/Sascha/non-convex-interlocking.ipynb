{
 "cells": [
  {
   "attachments": {},
   "cell_type": "markdown",
   "metadata": {},
   "source": [
    "# Interlocking analysis for Assemblies of possibly non convex Polyhedra"
   ]
  },
  {
   "cell_type": "code",
   "execution_count": 1,
   "metadata": {},
   "outputs": [
    {
     "name": "stderr",
     "output_type": "stream",
     "text": [
      "WARNING: using LinearAlgebra.nullspace in module Main conflicts with an existing identifier.\n"
     ]
    },
    {
     "data": {
      "text/plain": [
       "testComputeIntersection2 (generic function with 1 method)"
      ]
     },
     "metadata": {},
     "output_type": "display_data"
    }
   ],
   "source": [
    "include(\"../Polyhedron.jl\")\n",
    "include(\"../examples.jl\")\n",
    "include(\"../decomposition.jl\")\n",
    "include(\"../plotting.jl\")\n",
    "include(\"../merging.jl\")\n",
    "include(\"../polygonal_geometry.jl\")\n",
    "include(\"../InterlockingTest.jl\")"
   ]
  },
  {
   "cell_type": "code",
   "execution_count": null,
   "metadata": {},
   "outputs": [],
   "source": [
    "ass, frame = assembly2(12,5,3,7)\n",
    "colors = [RGB(0.5,0.5,0.5) for block in ass]\n",
    "colors[frame] .= RGB(1,0,0)\n",
    "\n",
    "plot(ass, colors = colors, width = 600, height = 600, drawverts = false)"
   ]
  },
  {
   "cell_type": "code",
   "execution_count": null,
   "metadata": {},
   "outputs": [],
   "source": [
    "ass, frame, link = assembly3(8,8,2,3)\n",
    "colors = [RGB(0.5,0.5,0.5) for block in ass]\n",
    "colors[frame] .= RGB(1,0,0)\n",
    "colors[link] .= RGB(0,0,1)\n",
    "\n",
    "plot(ass, colors = colors, width = 600, height = 600, drawverts = false)"
   ]
  },
  {
   "cell_type": "code",
   "execution_count": 124,
   "metadata": {},
   "outputs": [
    {
     "name": "stdout",
     "output_type": "stream",
     "text": [
      "Polyhedron embedded into 3-space with 24 vertices, 48 edges and 26 facets.\n",
      " \n",
      "Edges:  [[1, 2], [2, 3], [3, 4], [4, 5], [5, 6], [6, 1], [7, 8], [8, 9], [9, 10], [10, 11], [11, 12], [12, 7], [1, 7], [2, 8], [3, 9], [4, 10], [5, 11], [6, 12], [8, 13], [13, 2], [7, 14], [14, 1], [13, 14], [2, 15], [15, 13], [1, 16], [16, 14], [15, 16], [13, 17], [17, 8], [14, 18], [18, 7], [17, 18], [11, 19], [19, 5], [10, 20], [20, 4], [19, 20], [5, 21], [21, 19], [4, 22], [22, 20], [21, 22], [19, 23], [23, 11], [20, 24], [24, 10], [23, 24]]\n",
      "Facets: [[1, 2, 3, 4, 5, 6], [7, 8, 9, 10, 11, 12], [2, 3, 9, 8], [3, 4, 10, 9], [5, 6, 12, 11], [6, 1, 7, 12], [2, 8, 13], [1, 7, 14], [13, 2, 15], [14, 1, 16], [2, 15, 16, 1], [15, 13, 14, 16], [8, 13, 17], [7, 14, 18], [13, 17, 18, 14], [17, 8, 7, 18], [5, 11, 19], [4, 10, 20], [19, 5, 21], [20, 4, 22], [5, 21, 22, 4], [21, 19, 20, 22], [11, 19, 23], [10, 20, 24], [19, 23, 24, 20], [23, 11, 10, 24]] \n"
     ]
    }
   ],
   "source": [
    "tiblock(6,3,2)"
   ]
  },
  {
   "cell_type": "code",
   "execution_count": null,
   "metadata": {},
   "outputs": [],
   "source": [
    "setprecision(128)\n",
    "\n",
    "sideelem = nprism(3)\n",
    "set_verts!(sideelem, map(v -> map(entry -> parse(BigFloat, \"$(entry)\"), v), get_verts(sideelem)))\n",
    "merge!(sideelem, nprism(3), [[3,1,6,4]], [[1,2,4,5]])\n",
    "merge!(sideelem, nprism(3), [[2,3,5,6]], [[1,2,4,5]])\n",
    "sideelemtriang = triangulate(sideelem)\n",
    "display(plot(sideelemtriang, labels = true))\n",
    "display(get_edges(sideelemtriang)[[!isturnable(e, sideelemtriang) for e in get_edges(sideelemtriang)]])\n",
    "isconvex(sideelemtriang)\n"
   ]
  },
  {
   "cell_type": "code",
   "execution_count": null,
   "metadata": {},
   "outputs": [],
   "source": [
    "poly = merge(nprism(5), nprism(3), [[1,2,7,6]], [[4,1,2,5]])\n",
    "merge!(poly, nprism(3), [[12,11,7,6]], [[4,1,2,5]])\n",
    "merge!(poly, )\n",
    "plot(poly, labels = true)"
   ]
  },
  {
   "cell_type": "markdown",
   "metadata": {},
   "source": [
    "## Experimente"
   ]
  },
  {
   "cell_type": "code",
   "execution_count": 17,
   "metadata": {},
   "outputs": [
    {
     "data": {
      "application/vnd.plotly.v1+json": {
       "config": {
        "editable": false,
        "responsive": true,
        "scrollZoom": true,
        "showLink": false,
        "staticPlot": false
       },
       "data": [
        {
         "facecolor": [
          "rgb(50, 200, 200)",
          "rgb(50, 200, 200)",
          "rgb(100, 200, 255)",
          "rgb(100, 200, 255)",
          "rgb(150, 200, 115)",
          "rgb(150, 200, 115)",
          "rgb(200, 200, 50)",
          "rgb(200, 200, 50)",
          "rgb(230, 200, 10)",
          "rgb(230, 200, 10)",
          "rgb(255, 140, 0)",
          "rgb(255, 140, 0)"
         ],
         "i": [
          7,
          0,
          0,
          0,
          4,
          4,
          2,
          6,
          4,
          0,
          3,
          7
         ],
         "j": [
          3,
          4,
          1,
          2,
          5,
          6,
          5,
          5,
          0,
          1,
          2,
          2
         ],
         "k": [
          0,
          7,
          2,
          3,
          6,
          7,
          1,
          2,
          5,
          5,
          7,
          6
         ],
         "type": "mesh3d",
         "x": [
          0,
          0,
          1,
          1,
          0,
          0,
          1,
          1
         ],
         "y": [
          0,
          1,
          1,
          0,
          0,
          1,
          1,
          0
         ],
         "z": [
          0,
          0,
          0,
          0,
          1,
          1,
          1,
          1
         ]
        }
       ],
       "frames": [],
       "layout": {
        "margin": {
         "b": 50,
         "l": 50,
         "r": 50,
         "t": 60
        },
        "template": {
         "data": {
          "bar": [
           {
            "error_x": {
             "color": "#2a3f5f"
            },
            "error_y": {
             "color": "#2a3f5f"
            },
            "marker": {
             "line": {
              "color": "#E5ECF6",
              "width": 0.5
             }
            },
            "type": "bar"
           }
          ],
          "barpolar": [
           {
            "marker": {
             "line": {
              "color": "#E5ECF6",
              "width": 0.5
             }
            },
            "type": "barpolar"
           }
          ],
          "carpet": [
           {
            "aaxis": {
             "endlinecolor": "#2a3f5f",
             "gridcolor": "white",
             "linecolor": "white",
             "minorgridcolor": "white",
             "startlinecolor": "#2a3f5f"
            },
            "baxis": {
             "endlinecolor": "#2a3f5f",
             "gridcolor": "white",
             "linecolor": "white",
             "minorgridcolor": "white",
             "startlinecolor": "#2a3f5f"
            },
            "type": "carpet"
           }
          ],
          "choropleth": [
           {
            "colorbar": {
             "outlinewidth": 0,
             "ticks": ""
            },
            "type": "choropleth"
           }
          ],
          "contour": [
           {
            "colorbar": {
             "outlinewidth": 0,
             "ticks": ""
            },
            "colorscale": [
             [
              0,
              "#0d0887"
             ],
             [
              0.1111111111111111,
              "#46039f"
             ],
             [
              0.2222222222222222,
              "#7201a8"
             ],
             [
              0.3333333333333333,
              "#9c179e"
             ],
             [
              0.4444444444444444,
              "#bd3786"
             ],
             [
              0.5555555555555556,
              "#d8576b"
             ],
             [
              0.6666666666666666,
              "#ed7953"
             ],
             [
              0.7777777777777778,
              "#fb9f3a"
             ],
             [
              0.8888888888888888,
              "#fdca26"
             ],
             [
              1,
              "#f0f921"
             ]
            ],
            "type": "contour"
           }
          ],
          "contourcarpet": [
           {
            "colorbar": {
             "outlinewidth": 0,
             "ticks": ""
            },
            "type": "contourcarpet"
           }
          ],
          "heatmap": [
           {
            "colorbar": {
             "outlinewidth": 0,
             "ticks": ""
            },
            "colorscale": [
             [
              0,
              "#0d0887"
             ],
             [
              0.1111111111111111,
              "#46039f"
             ],
             [
              0.2222222222222222,
              "#7201a8"
             ],
             [
              0.3333333333333333,
              "#9c179e"
             ],
             [
              0.4444444444444444,
              "#bd3786"
             ],
             [
              0.5555555555555556,
              "#d8576b"
             ],
             [
              0.6666666666666666,
              "#ed7953"
             ],
             [
              0.7777777777777778,
              "#fb9f3a"
             ],
             [
              0.8888888888888888,
              "#fdca26"
             ],
             [
              1,
              "#f0f921"
             ]
            ],
            "type": "heatmap"
           }
          ],
          "heatmapgl": [
           {
            "colorbar": {
             "outlinewidth": 0,
             "ticks": ""
            },
            "colorscale": [
             [
              0,
              "#0d0887"
             ],
             [
              0.1111111111111111,
              "#46039f"
             ],
             [
              0.2222222222222222,
              "#7201a8"
             ],
             [
              0.3333333333333333,
              "#9c179e"
             ],
             [
              0.4444444444444444,
              "#bd3786"
             ],
             [
              0.5555555555555556,
              "#d8576b"
             ],
             [
              0.6666666666666666,
              "#ed7953"
             ],
             [
              0.7777777777777778,
              "#fb9f3a"
             ],
             [
              0.8888888888888888,
              "#fdca26"
             ],
             [
              1,
              "#f0f921"
             ]
            ],
            "type": "heatmapgl"
           }
          ],
          "histogram": [
           {
            "marker": {
             "colorbar": {
              "outlinewidth": 0,
              "ticks": ""
             }
            },
            "type": "histogram"
           }
          ],
          "histogram2d": [
           {
            "colorbar": {
             "outlinewidth": 0,
             "ticks": ""
            },
            "colorscale": [
             [
              0,
              "#0d0887"
             ],
             [
              0.1111111111111111,
              "#46039f"
             ],
             [
              0.2222222222222222,
              "#7201a8"
             ],
             [
              0.3333333333333333,
              "#9c179e"
             ],
             [
              0.4444444444444444,
              "#bd3786"
             ],
             [
              0.5555555555555556,
              "#d8576b"
             ],
             [
              0.6666666666666666,
              "#ed7953"
             ],
             [
              0.7777777777777778,
              "#fb9f3a"
             ],
             [
              0.8888888888888888,
              "#fdca26"
             ],
             [
              1,
              "#f0f921"
             ]
            ],
            "type": "histogram2d"
           }
          ],
          "histogram2dcontour": [
           {
            "colorbar": {
             "outlinewidth": 0,
             "ticks": ""
            },
            "colorscale": [
             [
              0,
              "#0d0887"
             ],
             [
              0.1111111111111111,
              "#46039f"
             ],
             [
              0.2222222222222222,
              "#7201a8"
             ],
             [
              0.3333333333333333,
              "#9c179e"
             ],
             [
              0.4444444444444444,
              "#bd3786"
             ],
             [
              0.5555555555555556,
              "#d8576b"
             ],
             [
              0.6666666666666666,
              "#ed7953"
             ],
             [
              0.7777777777777778,
              "#fb9f3a"
             ],
             [
              0.8888888888888888,
              "#fdca26"
             ],
             [
              1,
              "#f0f921"
             ]
            ],
            "type": "histogram2dcontour"
           }
          ],
          "mesh3d": [
           {
            "colorbar": {
             "outlinewidth": 0,
             "ticks": ""
            },
            "type": "mesh3d"
           }
          ],
          "parcoords": [
           {
            "line": {
             "colorbar": {
              "outlinewidth": 0,
              "ticks": ""
             }
            },
            "type": "parcoords"
           }
          ],
          "pie": [
           {
            "automargin": true,
            "type": "pie"
           }
          ],
          "scatter": [
           {
            "marker": {
             "colorbar": {
              "outlinewidth": 0,
              "ticks": ""
             }
            },
            "type": "scatter"
           }
          ],
          "scatter3d": [
           {
            "line": {
             "colorbar": {
              "outlinewidth": 0,
              "ticks": ""
             }
            },
            "marker": {
             "colorbar": {
              "outlinewidth": 0,
              "ticks": ""
             }
            },
            "type": "scatter3d"
           }
          ],
          "scattercarpet": [
           {
            "marker": {
             "colorbar": {
              "outlinewidth": 0,
              "ticks": ""
             }
            },
            "type": "scattercarpet"
           }
          ],
          "scattergeo": [
           {
            "marker": {
             "colorbar": {
              "outlinewidth": 0,
              "ticks": ""
             }
            },
            "type": "scattergeo"
           }
          ],
          "scattergl": [
           {
            "marker": {
             "colorbar": {
              "outlinewidth": 0,
              "ticks": ""
             }
            },
            "type": "scattergl"
           }
          ],
          "scattermapbox": [
           {
            "marker": {
             "colorbar": {
              "outlinewidth": 0,
              "ticks": ""
             }
            },
            "type": "scattermapbox"
           }
          ],
          "scatterpolar": [
           {
            "marker": {
             "colorbar": {
              "outlinewidth": 0,
              "ticks": ""
             }
            },
            "type": "scatterpolar"
           }
          ],
          "scatterpolargl": [
           {
            "marker": {
             "colorbar": {
              "outlinewidth": 0,
              "ticks": ""
             }
            },
            "type": "scatterpolargl"
           }
          ],
          "scatterternary": [
           {
            "marker": {
             "colorbar": {
              "outlinewidth": 0,
              "ticks": ""
             }
            },
            "type": "scatterternary"
           }
          ],
          "surface": [
           {
            "colorbar": {
             "outlinewidth": 0,
             "ticks": ""
            },
            "colorscale": [
             [
              0,
              "#0d0887"
             ],
             [
              0.1111111111111111,
              "#46039f"
             ],
             [
              0.2222222222222222,
              "#7201a8"
             ],
             [
              0.3333333333333333,
              "#9c179e"
             ],
             [
              0.4444444444444444,
              "#bd3786"
             ],
             [
              0.5555555555555556,
              "#d8576b"
             ],
             [
              0.6666666666666666,
              "#ed7953"
             ],
             [
              0.7777777777777778,
              "#fb9f3a"
             ],
             [
              0.8888888888888888,
              "#fdca26"
             ],
             [
              1,
              "#f0f921"
             ]
            ],
            "type": "surface"
           }
          ],
          "table": [
           {
            "cells": {
             "fill": {
              "color": "#EBF0F8"
             },
             "line": {
              "color": "white"
             }
            },
            "header": {
             "fill": {
              "color": "#C8D4E3"
             },
             "line": {
              "color": "white"
             }
            },
            "type": "table"
           }
          ]
         },
         "layout": {
          "annotationdefaults": {
           "arrowcolor": "#2a3f5f",
           "arrowhead": 0,
           "arrowwidth": 1
          },
          "autotypenumbers": "strict",
          "coloraxis": {
           "colorbar": {
            "outlinewidth": 0,
            "ticks": ""
           }
          },
          "colorscale": {
           "diverging": [
            [
             0,
             "#8e0152"
            ],
            [
             0.1,
             "#c51b7d"
            ],
            [
             0.2,
             "#de77ae"
            ],
            [
             0.3,
             "#f1b6da"
            ],
            [
             0.4,
             "#fde0ef"
            ],
            [
             0.5,
             "#f7f7f7"
            ],
            [
             0.6,
             "#e6f5d0"
            ],
            [
             0.7,
             "#b8e186"
            ],
            [
             0.8,
             "#7fbc41"
            ],
            [
             0.9,
             "#4d9221"
            ],
            [
             1,
             "#276419"
            ]
           ],
           "sequential": [
            [
             0,
             "#0d0887"
            ],
            [
             0.1111111111111111,
             "#46039f"
            ],
            [
             0.2222222222222222,
             "#7201a8"
            ],
            [
             0.3333333333333333,
             "#9c179e"
            ],
            [
             0.4444444444444444,
             "#bd3786"
            ],
            [
             0.5555555555555556,
             "#d8576b"
            ],
            [
             0.6666666666666666,
             "#ed7953"
            ],
            [
             0.7777777777777778,
             "#fb9f3a"
            ],
            [
             0.8888888888888888,
             "#fdca26"
            ],
            [
             1,
             "#f0f921"
            ]
           ],
           "sequentialminus": [
            [
             0,
             "#0d0887"
            ],
            [
             0.1111111111111111,
             "#46039f"
            ],
            [
             0.2222222222222222,
             "#7201a8"
            ],
            [
             0.3333333333333333,
             "#9c179e"
            ],
            [
             0.4444444444444444,
             "#bd3786"
            ],
            [
             0.5555555555555556,
             "#d8576b"
            ],
            [
             0.6666666666666666,
             "#ed7953"
            ],
            [
             0.7777777777777778,
             "#fb9f3a"
            ],
            [
             0.8888888888888888,
             "#fdca26"
            ],
            [
             1,
             "#f0f921"
            ]
           ]
          },
          "colorway": [
           "#636efa",
           "#EF553B",
           "#00cc96",
           "#ab63fa",
           "#FFA15A",
           "#19d3f3",
           "#FF6692",
           "#B6E880",
           "#FF97FF",
           "#FECB52"
          ],
          "font": {
           "color": "#2a3f5f"
          },
          "geo": {
           "bgcolor": "white",
           "lakecolor": "white",
           "landcolor": "#E5ECF6",
           "showlakes": true,
           "showland": true,
           "subunitcolor": "white"
          },
          "hoverlabel": {
           "align": "left"
          },
          "hovermode": "closest",
          "mapbox": {
           "style": "light"
          },
          "paper_bgcolor": "white",
          "plot_bgcolor": "#E5ECF6",
          "polar": {
           "angularaxis": {
            "gridcolor": "white",
            "linecolor": "white",
            "ticks": ""
           },
           "bgcolor": "#E5ECF6",
           "radialaxis": {
            "gridcolor": "white",
            "linecolor": "white",
            "ticks": ""
           }
          },
          "scene": {
           "xaxis": {
            "backgroundcolor": "#E5ECF6",
            "gridcolor": "white",
            "gridwidth": 2,
            "linecolor": "white",
            "showbackground": true,
            "ticks": "",
            "zerolinecolor": "white"
           },
           "yaxis": {
            "backgroundcolor": "#E5ECF6",
            "gridcolor": "white",
            "gridwidth": 2,
            "linecolor": "white",
            "showbackground": true,
            "ticks": "",
            "zerolinecolor": "white"
           },
           "zaxis": {
            "backgroundcolor": "#E5ECF6",
            "gridcolor": "white",
            "gridwidth": 2,
            "linecolor": "white",
            "showbackground": true,
            "ticks": "",
            "zerolinecolor": "white"
           }
          },
          "shapedefaults": {
           "line": {
            "color": "#2a3f5f"
           }
          },
          "ternary": {
           "aaxis": {
            "gridcolor": "white",
            "linecolor": "white",
            "ticks": ""
           },
           "baxis": {
            "gridcolor": "white",
            "linecolor": "white",
            "ticks": ""
           },
           "bgcolor": "#E5ECF6",
           "caxis": {
            "gridcolor": "white",
            "linecolor": "white",
            "ticks": ""
           }
          },
          "title": {
           "x": 0.05
          },
          "xaxis": {
           "automargin": true,
           "gridcolor": "white",
           "linecolor": "white",
           "ticks": "",
           "title": {
            "standoff": 15
           },
           "zerolinecolor": "white",
           "zerolinewidth": 2
          },
          "yaxis": {
           "automargin": true,
           "gridcolor": "white",
           "linecolor": "white",
           "ticks": "",
           "title": {
            "standoff": 15
           },
           "zerolinecolor": "white",
           "zerolinewidth": 2
          }
         }
        }
       }
      },
      "image/png": "[encoded data removed]",
      "image/svg+xml": "<svg class=\"main-svg\" xmlns=\"http://www.w3.org/2000/svg\" xmlns:xlink=\"http://www.w3.org/1999/xlink\" width=\"700\" height=\"500\" style=\"\" viewBox=\"0 0 700 500\"><rect x=\"0\" y=\"0\" width=\"700\" height=\"500\" style=\"fill: rgb(255, 255, 255); fill-opacity: 1;\"/><defs id=\"defs-98b1d2\"><g class=\"clips\"/><g class=\"gradients\"/></defs><g class=\"bglayer\"/><g class=\"layer-below\"><g class=\"imagelayer\"/><g class=\"shapelayer\"/></g><g class=\"cartesianlayer\"/><g class=\"polarlayer\"/><g class=\"ternarylayer\"/><g class=\"geolayer\"/><g class=\"funnelarealayer\"/><g class=\"pielayer\"/><g class=\"treemaplayer\"/><g class=\"sunburstlayer\"/><g class=\"glimages\"><image xmlns=\"http://www.w3.org/2000/svg\" xlink:href=\"data:image/png;base64,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\" x=\"50\" y=\"60\" width=\"600\" height=\"390\" preserveAspectRatio=\"none\"/></g><defs id=\"topdefs-98b1d2\"><g class=\"clips\"/></defs><g class=\"layer-above\"><g class=\"imagelayer\"/><g class=\"shapelayer\"/></g><g class=\"infolayer\"><g class=\"g-gtitle\"/></g></svg>",
      "text/html": [
       "<div\n",
       "    class=\"webio-mountpoint\"\n",
       "    data-webio-mountpoint=\"11685345162212126119\"\n",
       ">\n",
       "    <script>\n",
       "    (function(){\n",
       "    // Some integrations (namely, IJulia/Jupyter) use an alternate render pathway than\n",
       "    // just putting the html on the page. If WebIO isn't defined, then it's pretty likely\n",
       "    // that we're in one of those situations and the integration just isn't installed\n",
       "    // correctly.\n",
       "    if (typeof window.WebIO === \"undefined\") {\n",
       "        document\n",
       "            .querySelector('[data-webio-mountpoint=\"11685345162212126119\"]')\n",
       "            .innerHTML = (\n",
       "                '<div style=\"padding: 1em; background-color: #f8d6da; border: 1px solid #f5c6cb; font-weight: bold;\">' +\n",
       "                '<p><strong>WebIO not detected.</strong></p>' +\n",
       "                '<p>Please read ' +\n",
       "                '<a href=\"https://juliagizmos.github.io/WebIO.jl/latest/troubleshooting/not-detected/\" target=\"_blank\">the troubleshooting guide</a> ' +\n",
       "                'for more information on how to resolve this issue.</p>' +\n",
       "                '<p><a href=\"https://juliagizmos.github.io/WebIO.jl/latest/troubleshooting/not-detected/\" target=\"_blank\">https://juliagizmos.github.io/WebIO.jl/latest/troubleshooting/not-detected/</a></p>' +\n",
       "                '</div>'\n",
       "            );\n",
       "        return;\n",
       "    }\n",
       "    WebIO.mount(\n",
       "        document.querySelector('[data-webio-mountpoint=\"11685345162212126119\"]'),\n",
       "        {\"props\":{},\"nodeType\":\"Scope\",\"type\":\"node\",\"instanceArgs\":{\"imports\":{\"data\":[{\"name\":\"Plotly\",\"type\":\"js\",\"url\":\"\\/assetserver\\/d18d62e3d860f95bdd778d5ce0d98356c8e8cd70-plotly.min.js\"},{\"name\":null,\"type\":\"js\",\"url\":\"\\/assetserver\\/3ce237707c6799d71e862d9d30b4d1f68d73bd38-plotly_webio.bundle.js\"}],\"type\":\"async_block\"},\"id\":\"2935658697145168549\",\"handlers\":{\"_toImage\":[\"(function (options){return this.Plotly.toImage(this.plotElem,options).then((function (data){return WebIO.setval({\\\"name\\\":\\\"image\\\",\\\"scope\\\":\\\"2935658697145168549\\\",\\\"id\\\":\\\"12697539583857091393\\\",\\\"type\\\":\\\"observable\\\"},data)}))})\"],\"__get_gd_contents\":[\"(function (prop){prop==\\\"data\\\" ? (WebIO.setval({\\\"name\\\":\\\"__gd_contents\\\",\\\"scope\\\":\\\"2935658697145168549\\\",\\\"id\\\":\\\"4189943000620689502\\\",\\\"type\\\":\\\"observable\\\"},this.plotElem.data)) : undefined; return prop==\\\"layout\\\" ? (WebIO.setval({\\\"name\\\":\\\"__gd_contents\\\",\\\"scope\\\":\\\"2935658697145168549\\\",\\\"id\\\":\\\"4189943000620689502\\\",\\\"type\\\":\\\"observable\\\"},this.plotElem.layout)) : undefined})\"],\"_downloadImage\":[\"(function (options){return this.Plotly.downloadImage(this.plotElem,options)})\"],\"_commands\":[\"(function (args){var fn=args.shift(); var elem=this.plotElem; var Plotly=this.Plotly; args.unshift(elem); return Plotly[fn].apply(this,args)})\"]},\"systemjs_options\":null,\"mount_callbacks\":[\"function () {\\n    var handler = ((function (Plotly,PlotlyWebIO){PlotlyWebIO.init(WebIO); var gd=this.dom.querySelector(\\\"#plot-46c3f828-9f5f-4018-bbc8-c0ce39e5905e\\\"); this.plotElem=gd; this.Plotly=Plotly; (window.Blink!==undefined) ? (gd.style.width=\\\"100%\\\", gd.style.height=\\\"100vh\\\", gd.style.marginLeft=\\\"0%\\\", gd.style.marginTop=\\\"0vh\\\") : undefined; window.onresize=(function (){return Plotly.Plots.resize(gd)}); Plotly.newPlot(gd,[{\\\"y\\\":[0,1,1,0,0,1,1,0],\\\"type\\\":\\\"mesh3d\\\",\\\"j\\\":[3,4,1,2,5,6,5,5,0,1,2,2],\\\"k\\\":[0,7,2,3,6,7,1,2,5,5,7,6],\\\"z\\\":[0,0,0,0,1,1,1,1],\\\"i\\\":[7,0,0,0,4,4,2,6,4,0,3,7],\\\"facecolor\\\":[\\\"rgb(50, 200, 200)\\\",\\\"rgb(50, 200, 200)\\\",\\\"rgb(100, 200, 255)\\\",\\\"rgb(100, 200, 255)\\\",\\\"rgb(150, 200, 115)\\\",\\\"rgb(150, 200, 115)\\\",\\\"rgb(200, 200, 50)\\\",\\\"rgb(200, 200, 50)\\\",\\\"rgb(230, 200, 10)\\\",\\\"rgb(230, 200, 10)\\\",\\\"rgb(255, 140, 0)\\\",\\\"rgb(255, 140, 0)\\\"],\\\"x\\\":[0,0,1,1,0,0,1,1]}],{\\\"template\\\":{\\\"layout\\\":{\\\"coloraxis\\\":{\\\"colorbar\\\":{\\\"ticks\\\":\\\"\\\",\\\"outlinewidth\\\":0}},\\\"xaxis\\\":{\\\"gridcolor\\\":\\\"white\\\",\\\"zerolinewidth\\\":2,\\\"title\\\":{\\\"standoff\\\":15},\\\"ticks\\\":\\\"\\\",\\\"zerolinecolor\\\":\\\"white\\\",\\\"automargin\\\":true,\\\"linecolor\\\":\\\"white\\\"},\\\"hovermode\\\":\\\"closest\\\",\\\"paper_bgcolor\\\":\\\"white\\\",\\\"geo\\\":{\\\"showlakes\\\":true,\\\"showland\\\":true,\\\"landcolor\\\":\\\"#E5ECF6\\\",\\\"bgcolor\\\":\\\"white\\\",\\\"subunitcolor\\\":\\\"white\\\",\\\"lakecolor\\\":\\\"white\\\"},\\\"colorscale\\\":{\\\"sequential\\\":[[0.0,\\\"#0d0887\\\"],[0.1111111111111111,\\\"#46039f\\\"],[0.2222222222222222,\\\"#7201a8\\\"],[0.3333333333333333,\\\"#9c179e\\\"],[0.4444444444444444,\\\"#bd3786\\\"],[0.5555555555555556,\\\"#d8576b\\\"],[0.6666666666666666,\\\"#ed7953\\\"],[0.7777777777777778,\\\"#fb9f3a\\\"],[0.8888888888888888,\\\"#fdca26\\\"],[1.0,\\\"#f0f921\\\"]],\\\"diverging\\\":[[0,\\\"#8e0152\\\"],[0.1,\\\"#c51b7d\\\"],[0.2,\\\"#de77ae\\\"],[0.3,\\\"#f1b6da\\\"],[0.4,\\\"#fde0ef\\\"],[0.5,\\\"#f7f7f7\\\"],[0.6,\\\"#e6f5d0\\\"],[0.7,\\\"#b8e186\\\"],[0.8,\\\"#7fbc41\\\"],[0.9,\\\"#4d9221\\\"],[1,\\\"#276419\\\"]],\\\"sequentialminus\\\":[[0.0,\\\"#0d0887\\\"],[0.1111111111111111,\\\"#46039f\\\"],[0.2222222222222222,\\\"#7201a8\\\"],[0.3333333333333333,\\\"#9c179e\\\"],[0.4444444444444444,\\\"#bd3786\\\"],[0.5555555555555556,\\\"#d8576b\\\"],[0.6666666666666666,\\\"#ed7953\\\"],[0.7777777777777778,\\\"#fb9f3a\\\"],[0.8888888888888888,\\\"#fdca26\\\"],[1.0,\\\"#f0f921\\\"]]},\\\"yaxis\\\":{\\\"gridcolor\\\":\\\"white\\\",\\\"zerolinewidth\\\":2,\\\"title\\\":{\\\"standoff\\\":15},\\\"ticks\\\":\\\"\\\",\\\"zerolinecolor\\\":\\\"white\\\",\\\"automargin\\\":true,\\\"linecolor\\\":\\\"white\\\"},\\\"shapedefaults\\\":{\\\"line\\\":{\\\"color\\\":\\\"#2a3f5f\\\"}},\\\"hoverlabel\\\":{\\\"align\\\":\\\"left\\\"},\\\"mapbox\\\":{\\\"style\\\":\\\"light\\\"},\\\"polar\\\":{\\\"angularaxis\\\":{\\\"gridcolor\\\":\\\"white\\\",\\\"ticks\\\":\\\"\\\",\\\"linecolor\\\":\\\"white\\\"},\\\"bgcolor\\\":\\\"#E5ECF6\\\",\\\"radialaxis\\\":{\\\"gridcolor\\\":\\\"white\\\",\\\"ticks\\\":\\\"\\\",\\\"linecolor\\\":\\\"white\\\"}},\\\"autotypenumbers\\\":\\\"strict\\\",\\\"font\\\":{\\\"color\\\":\\\"#2a3f5f\\\"},\\\"ternary\\\":{\\\"baxis\\\":{\\\"gridcolor\\\":\\\"white\\\",\\\"ticks\\\":\\\"\\\",\\\"linecolor\\\":\\\"white\\\"},\\\"bgcolor\\\":\\\"#E5ECF6\\\",\\\"caxis\\\":{\\\"gridcolor\\\":\\\"white\\\",\\\"ticks\\\":\\\"\\\",\\\"linecolor\\\":\\\"white\\\"},\\\"aaxis\\\":{\\\"gridcolor\\\":\\\"white\\\",\\\"ticks\\\":\\\"\\\",\\\"linecolor\\\":\\\"white\\\"}},\\\"annotationdefaults\\\":{\\\"arrowhead\\\":0,\\\"arrowwidth\\\":1,\\\"arrowcolor\\\":\\\"#2a3f5f\\\"},\\\"plot_bgcolor\\\":\\\"#E5ECF6\\\",\\\"title\\\":{\\\"x\\\":0.05},\\\"scene\\\":{\\\"xaxis\\\":{\\\"gridcolor\\\":\\\"white\\\",\\\"gridwidth\\\":2,\\\"backgroundcolor\\\":\\\"#E5ECF6\\\",\\\"ticks\\\":\\\"\\\",\\\"showbackground\\\":true,\\\"zerolinecolor\\\":\\\"white\\\",\\\"linecolor\\\":\\\"white\\\"},\\\"zaxis\\\":{\\\"gridcolor\\\":\\\"white\\\",\\\"gridwidth\\\":2,\\\"backgroundcolor\\\":\\\"#E5ECF6\\\",\\\"ticks\\\":\\\"\\\",\\\"showbackground\\\":true,\\\"zerolinecolor\\\":\\\"white\\\",\\\"linecolor\\\":\\\"white\\\"},\\\"yaxis\\\":{\\\"gridcolor\\\":\\\"white\\\",\\\"gridwidth\\\":2,\\\"backgroundcolor\\\":\\\"#E5ECF6\\\",\\\"ticks\\\":\\\"\\\",\\\"showbackground\\\":true,\\\"zerolinecolor\\\":\\\"white\\\",\\\"linecolor\\\":\\\"white\\\"}},\\\"colorway\\\":[\\\"#636efa\\\",\\\"#EF553B\\\",\\\"#00cc96\\\",\\\"#ab63fa\\\",\\\"#FFA15A\\\",\\\"#19d3f3\\\",\\\"#FF6692\\\",\\\"#B6E880\\\",\\\"#FF97FF\\\",\\\"#FECB52\\\"]},\\\"data\\\":{\\\"barpolar\\\":[{\\\"type\\\":\\\"barpolar\\\",\\\"marker\\\":{\\\"line\\\":{\\\"color\\\":\\\"#E5ECF6\\\",\\\"width\\\":0.5}}}],\\\"carpet\\\":[{\\\"aaxis\\\":{\\\"gridcolor\\\":\\\"white\\\",\\\"endlinecolor\\\":\\\"#2a3f5f\\\",\\\"minorgridcolor\\\":\\\"white\\\",\\\"startlinecolor\\\":\\\"#2a3f5f\\\",\\\"linecolor\\\":\\\"white\\\"},\\\"type\\\":\\\"carpet\\\",\\\"baxis\\\":{\\\"gridcolor\\\":\\\"white\\\",\\\"endlinecolor\\\":\\\"#2a3f5f\\\",\\\"minorgridcolor\\\":\\\"white\\\",\\\"startlinecolor\\\":\\\"#2a3f5f\\\",\\\"linecolor\\\":\\\"white\\\"}}],\\\"scatterpolar\\\":[{\\\"type\\\":\\\"scatterpolar\\\",\\\"marker\\\":{\\\"colorbar\\\":{\\\"ticks\\\":\\\"\\\",\\\"outlinewidth\\\":0}}}],\\\"parcoords\\\":[{\\\"line\\\":{\\\"colorbar\\\":{\\\"ticks\\\":\\\"\\\",\\\"outlinewidth\\\":0}},\\\"type\\\":\\\"parcoords\\\"}],\\\"scatter\\\":[{\\\"type\\\":\\\"scatter\\\",\\\"marker\\\":{\\\"colorbar\\\":{\\\"ticks\\\":\\\"\\\",\\\"outlinewidth\\\":0}}}],\\\"histogram2dcontour\\\":[{\\\"colorbar\\\":{\\\"ticks\\\":\\\"\\\",\\\"outlinewidth\\\":0},\\\"type\\\":\\\"histogram2dcontour\\\",\\\"colorscale\\\":[[0.0,\\\"#0d0887\\\"],[0.1111111111111111,\\\"#46039f\\\"],[0.2222222222222222,\\\"#7201a8\\\"],[0.3333333333333333,\\\"#9c179e\\\"],[0.4444444444444444,\\\"#bd3786\\\"],[0.5555555555555556,\\\"#d8576b\\\"],[0.6666666666666666,\\\"#ed7953\\\"],[0.7777777777777778,\\\"#fb9f3a\\\"],[0.8888888888888888,\\\"#fdca26\\\"],[1.0,\\\"#f0f921\\\"]]}],\\\"contour\\\":[{\\\"colorbar\\\":{\\\"ticks\\\":\\\"\\\",\\\"outlinewidth\\\":0},\\\"type\\\":\\\"contour\\\",\\\"colorscale\\\":[[0.0,\\\"#0d0887\\\"],[0.1111111111111111,\\\"#46039f\\\"],[0.2222222222222222,\\\"#7201a8\\\"],[0.3333333333333333,\\\"#9c179e\\\"],[0.4444444444444444,\\\"#bd3786\\\"],[0.5555555555555556,\\\"#d8576b\\\"],[0.6666666666666666,\\\"#ed7953\\\"],[0.7777777777777778,\\\"#fb9f3a\\\"],[0.8888888888888888,\\\"#fdca26\\\"],[1.0,\\\"#f0f921\\\"]]}],\\\"scattercarpet\\\":[{\\\"type\\\":\\\"scattercarpet\\\",\\\"marker\\\":{\\\"colorbar\\\":{\\\"ticks\\\":\\\"\\\",\\\"outlinewidth\\\":0}}}],\\\"mesh3d\\\":[{\\\"colorbar\\\":{\\\"ticks\\\":\\\"\\\",\\\"outlinewidth\\\":0},\\\"type\\\":\\\"mesh3d\\\"}],\\\"surface\\\":[{\\\"colorbar\\\":{\\\"ticks\\\":\\\"\\\",\\\"outlinewidth\\\":0},\\\"type\\\":\\\"surface\\\",\\\"colorscale\\\":[[0.0,\\\"#0d0887\\\"],[0.1111111111111111,\\\"#46039f\\\"],[0.2222222222222222,\\\"#7201a8\\\"],[0.3333333333333333,\\\"#9c179e\\\"],[0.4444444444444444,\\\"#bd3786\\\"],[0.5555555555555556,\\\"#d8576b\\\"],[0.6666666666666666,\\\"#ed7953\\\"],[0.7777777777777778,\\\"#fb9f3a\\\"],[0.8888888888888888,\\\"#fdca26\\\"],[1.0,\\\"#f0f921\\\"]]}],\\\"scattermapbox\\\":[{\\\"type\\\":\\\"scattermapbox\\\",\\\"marker\\\":{\\\"colorbar\\\":{\\\"ticks\\\":\\\"\\\",\\\"outlinewidth\\\":0}}}],\\\"scattergeo\\\":[{\\\"type\\\":\\\"scattergeo\\\",\\\"marker\\\":{\\\"colorbar\\\":{\\\"ticks\\\":\\\"\\\",\\\"outlinewidth\\\":0}}}],\\\"histogram\\\":[{\\\"type\\\":\\\"histogram\\\",\\\"marker\\\":{\\\"colorbar\\\":{\\\"ticks\\\":\\\"\\\",\\\"outlinewidth\\\":0}}}],\\\"pie\\\":[{\\\"type\\\":\\\"pie\\\",\\\"automargin\\\":true}],\\\"choropleth\\\":[{\\\"colorbar\\\":{\\\"ticks\\\":\\\"\\\",\\\"outlinewidth\\\":0},\\\"type\\\":\\\"choropleth\\\"}],\\\"heatmapgl\\\":[{\\\"colorbar\\\":{\\\"ticks\\\":\\\"\\\",\\\"outlinewidth\\\":0},\\\"type\\\":\\\"heatmapgl\\\",\\\"colorscale\\\":[[0.0,\\\"#0d0887\\\"],[0.1111111111111111,\\\"#46039f\\\"],[0.2222222222222222,\\\"#7201a8\\\"],[0.3333333333333333,\\\"#9c179e\\\"],[0.4444444444444444,\\\"#bd3786\\\"],[0.5555555555555556,\\\"#d8576b\\\"],[0.6666666666666666,\\\"#ed7953\\\"],[0.7777777777777778,\\\"#fb9f3a\\\"],[0.8888888888888888,\\\"#fdca26\\\"],[1.0,\\\"#f0f921\\\"]]}],\\\"bar\\\":[{\\\"type\\\":\\\"bar\\\",\\\"error_y\\\":{\\\"color\\\":\\\"#2a3f5f\\\"},\\\"error_x\\\":{\\\"color\\\":\\\"#2a3f5f\\\"},\\\"marker\\\":{\\\"line\\\":{\\\"color\\\":\\\"#E5ECF6\\\",\\\"width\\\":0.5}}}],\\\"heatmap\\\":[{\\\"colorbar\\\":{\\\"ticks\\\":\\\"\\\",\\\"outlinewidth\\\":0},\\\"type\\\":\\\"heatmap\\\",\\\"colorscale\\\":[[0.0,\\\"#0d0887\\\"],[0.1111111111111111,\\\"#46039f\\\"],[0.2222222222222222,\\\"#7201a8\\\"],[0.3333333333333333,\\\"#9c179e\\\"],[0.4444444444444444,\\\"#bd3786\\\"],[0.5555555555555556,\\\"#d8576b\\\"],[0.6666666666666666,\\\"#ed7953\\\"],[0.7777777777777778,\\\"#fb9f3a\\\"],[0.8888888888888888,\\\"#fdca26\\\"],[1.0,\\\"#f0f921\\\"]]}],\\\"contourcarpet\\\":[{\\\"colorbar\\\":{\\\"ticks\\\":\\\"\\\",\\\"outlinewidth\\\":0},\\\"type\\\":\\\"contourcarpet\\\"}],\\\"table\\\":[{\\\"type\\\":\\\"table\\\",\\\"header\\\":{\\\"line\\\":{\\\"color\\\":\\\"white\\\"},\\\"fill\\\":{\\\"color\\\":\\\"#C8D4E3\\\"}},\\\"cells\\\":{\\\"line\\\":{\\\"color\\\":\\\"white\\\"},\\\"fill\\\":{\\\"color\\\":\\\"#EBF0F8\\\"}}}],\\\"scatter3d\\\":[{\\\"line\\\":{\\\"colorbar\\\":{\\\"ticks\\\":\\\"\\\",\\\"outlinewidth\\\":0}},\\\"type\\\":\\\"scatter3d\\\",\\\"marker\\\":{\\\"colorbar\\\":{\\\"ticks\\\":\\\"\\\",\\\"outlinewidth\\\":0}}}],\\\"scattergl\\\":[{\\\"type\\\":\\\"scattergl\\\",\\\"marker\\\":{\\\"colorbar\\\":{\\\"ticks\\\":\\\"\\\",\\\"outlinewidth\\\":0}}}],\\\"histogram2d\\\":[{\\\"colorbar\\\":{\\\"ticks\\\":\\\"\\\",\\\"outlinewidth\\\":0},\\\"type\\\":\\\"histogram2d\\\",\\\"colorscale\\\":[[0.0,\\\"#0d0887\\\"],[0.1111111111111111,\\\"#46039f\\\"],[0.2222222222222222,\\\"#7201a8\\\"],[0.3333333333333333,\\\"#9c179e\\\"],[0.4444444444444444,\\\"#bd3786\\\"],[0.5555555555555556,\\\"#d8576b\\\"],[0.6666666666666666,\\\"#ed7953\\\"],[0.7777777777777778,\\\"#fb9f3a\\\"],[0.8888888888888888,\\\"#fdca26\\\"],[1.0,\\\"#f0f921\\\"]]}],\\\"scatterternary\\\":[{\\\"type\\\":\\\"scatterternary\\\",\\\"marker\\\":{\\\"colorbar\\\":{\\\"ticks\\\":\\\"\\\",\\\"outlinewidth\\\":0}}}],\\\"scatterpolargl\\\":[{\\\"type\\\":\\\"scatterpolargl\\\",\\\"marker\\\":{\\\"colorbar\\\":{\\\"ticks\\\":\\\"\\\",\\\"outlinewidth\\\":0}}}]}},\\\"margin\\\":{\\\"l\\\":50,\\\"b\\\":50,\\\"r\\\":50,\\\"t\\\":60}},{\\\"showLink\\\":false,\\\"editable\\\":false,\\\"responsive\\\":true,\\\"staticPlot\\\":false,\\\"scrollZoom\\\":true}); gd.on(\\\"plotly_hover\\\",(function (data){var filtered_data=WebIO.PlotlyCommands.filterEventData(gd,data,\\\"hover\\\"); return !(filtered_data.isnil) ? (WebIO.setval({\\\"name\\\":\\\"hover\\\",\\\"scope\\\":\\\"2935658697145168549\\\",\\\"id\\\":\\\"15800013356210834763\\\",\\\"type\\\":\\\"observable\\\"},filtered_data.out)) : undefined})); gd.on(\\\"plotly_unhover\\\",(function (){return WebIO.setval({\\\"name\\\":\\\"hover\\\",\\\"scope\\\":\\\"2935658697145168549\\\",\\\"id\\\":\\\"15800013356210834763\\\",\\\"type\\\":\\\"observable\\\"},{})})); gd.on(\\\"plotly_selected\\\",(function (data){var filtered_data=WebIO.PlotlyCommands.filterEventData(gd,data,\\\"selected\\\"); return !(filtered_data.isnil) ? (WebIO.setval({\\\"name\\\":\\\"selected\\\",\\\"scope\\\":\\\"2935658697145168549\\\",\\\"id\\\":\\\"326705014404238569\\\",\\\"type\\\":\\\"observable\\\"},filtered_data.out)) : undefined})); gd.on(\\\"plotly_deselect\\\",(function (){return WebIO.setval({\\\"name\\\":\\\"selected\\\",\\\"scope\\\":\\\"2935658697145168549\\\",\\\"id\\\":\\\"326705014404238569\\\",\\\"type\\\":\\\"observable\\\"},{})})); gd.on(\\\"plotly_relayout\\\",(function (data){var filtered_data=WebIO.PlotlyCommands.filterEventData(gd,data,\\\"relayout\\\"); return !(filtered_data.isnil) ? (WebIO.setval({\\\"name\\\":\\\"relayout\\\",\\\"scope\\\":\\\"2935658697145168549\\\",\\\"id\\\":\\\"10680869735979685588\\\",\\\"type\\\":\\\"observable\\\"},filtered_data.out)) : undefined})); return gd.on(\\\"plotly_click\\\",(function (data){var filtered_data=WebIO.PlotlyCommands.filterEventData(gd,data,\\\"click\\\"); return !(filtered_data.isnil) ? (WebIO.setval({\\\"name\\\":\\\"click\\\",\\\"scope\\\":\\\"2935658697145168549\\\",\\\"id\\\":\\\"6465275641259916280\\\",\\\"type\\\":\\\"observable\\\"},filtered_data.out)) : undefined}))}));\\n    (WebIO.importBlock({\\\"data\\\":[{\\\"name\\\":\\\"Plotly\\\",\\\"type\\\":\\\"js\\\",\\\"url\\\":\\\"\\/assetserver\\/d18d62e3d860f95bdd778d5ce0d98356c8e8cd70-plotly.min.js\\\"},{\\\"name\\\":null,\\\"type\\\":\\\"js\\\",\\\"url\\\":\\\"\\/assetserver\\/3ce237707c6799d71e862d9d30b4d1f68d73bd38-plotly_webio.bundle.js\\\"}],\\\"type\\\":\\\"async_block\\\"})).then((imports) => handler.apply(this, imports));\\n}\\n\"],\"observables\":{\"_toImage\":{\"sync\":false,\"id\":\"4634778325657260244\",\"value\":{}},\"hover\":{\"sync\":false,\"id\":\"15800013356210834763\",\"value\":{}},\"selected\":{\"sync\":false,\"id\":\"326705014404238569\",\"value\":{}},\"__gd_contents\":{\"sync\":false,\"id\":\"4189943000620689502\",\"value\":{}},\"click\":{\"sync\":false,\"id\":\"6465275641259916280\",\"value\":{}},\"image\":{\"sync\":true,\"id\":\"12697539583857091393\",\"value\":\"\"},\"__get_gd_contents\":{\"sync\":false,\"id\":\"7498729654597496858\",\"value\":\"\"},\"_downloadImage\":{\"sync\":false,\"id\":\"11979485285014988804\",\"value\":{}},\"relayout\":{\"sync\":false,\"id\":\"10680869735979685588\",\"value\":{}},\"_commands\":{\"sync\":false,\"id\":\"7306327925092032797\",\"value\":[]}}},\"children\":[{\"props\":{\"id\":\"plot-46c3f828-9f5f-4018-bbc8-c0ce39e5905e\"},\"nodeType\":\"DOM\",\"type\":\"node\",\"instanceArgs\":{\"namespace\":\"html\",\"tag\":\"div\"},\"children\":[]}]},\n",
       "        window,\n",
       "    );\n",
       "    })()\n",
       "    </script>\n",
       "</div>\n"
      ],
      "text/plain": [
       "data: [\n",
       "  \"mesh3d with fields facecolor, i, j, k, type, x, y, and z\"\n",
       "]\n",
       "\n",
       "layout: \"layout with fields margin and template\"\n",
       "\n"
      ]
     },
     "metadata": {},
     "output_type": "display_data"
    }
   ],
   "source": [
    "using PlotlyJS\n",
    "\n",
    "p = Plot()\n",
    "\n",
    "plot(mesh3d(\n",
    "    x=[0, 1, 2, 0],\n",
    "    y=[0, 0, 1, 2],\n",
    "    z=[0, 2, 0, 1],\n",
    "    #colorbar_title=\"z\",\n",
    "    colorscale=[[0, \"gold\"],\n",
    "                [0.5, \"mediumturquoise\"],\n",
    "                [1, \"magenta\"]],\n",
    "    # Intensity of each vertex, which will be interpolated and color-coded\n",
    "    intensity=[0, 0,0,0],\n",
    "    # i, j and k give the vertices of triangles\n",
    "    # here we represent the 4 triangles of the tetrahedron surface\n",
    "    i=[0, 0, 0, 1],\n",
    "    j=[1, 2, 3, 2],\n",
    "    k=[2, 3, 1, 3],\n",
    "    name=\"y\",\n",
    "    showscale=true\n",
    "))\n",
    "\n",
    "facecolor = repeat([\n",
    "    \"rgb(50, 200, 200)\",\n",
    "    \"rgb(100, 200, 255)\",\n",
    "    \"rgb(150, 200, 115)\",\n",
    "    \"rgb(200, 200, 50)\",\n",
    "    \"rgb(230, 200, 10)\",\n",
    "    \"rgb(255, 140, 0)\"\n",
    "], inner=[2])\n",
    "\n",
    "t = mesh3d(\n",
    "    x=[0, 0, 1, 1, 0, 0, 1, 1],\n",
    "    y=[0, 1, 1, 0, 0, 1, 1, 0],\n",
    "    z=[0, 0, 0, 0, 1, 1, 1, 1],\n",
    "    i=[7, 0, 0, 0, 4, 4, 2, 6, 4, 0, 3, 7],\n",
    "    j=[3, 4, 1, 2, 5, 6, 5, 5, 0, 1, 2, 2],\n",
    "    k=[0, 7, 2, 3, 6, 7, 1, 2, 5, 5, 7, 6],\n",
    "    facecolor=facecolor)\n",
    "\n",
    "plot(t)\n"
   ]
  },
  {
   "cell_type": "code",
   "execution_count": null,
   "metadata": {},
   "outputs": [],
   "source": []
  }
 ],
 "metadata": {
  "kernelspec": {
   "display_name": "Julia 1.8.5",
   "language": "julia",
   "name": "julia-1.8"
  },
  "language_info": {
   "file_extension": ".jl",
   "mimetype": "application/julia",
   "name": "julia",
   "version": "1.8.5"
  },
  "orig_nbformat": 4,
  "vscode": {
   "interpreter": {
    "hash": "a2ac061361b194fcb51195d855160f93752d4459f9e3b172838ff5b9184122a7"
   }
  }
 },
 "nbformat": 4,
 "nbformat_minor": 2
}
