{
 "cells": [
  {
   "attachments": {},
   "cell_type": "markdown",
   "metadata": {},
   "source": [
    "# Interlocking analysis for Assemblies of possibly non convex Polyhedra"
   ]
  },
  {
   "cell_type": "code",
   "execution_count": 4,
   "metadata": {},
   "outputs": [
    {
     "data": {
      "text/plain": [
       "plotPolyhedron (generic function with 1 method)"
      ]
     },
     "metadata": {},
     "output_type": "display_data"
    }
   ],
   "source": [
    "include(\"../Polyhedron.jl\")\n",
    "include(\"../examples.jl\")\n",
    "include(\"../decomposition.jl\")\n",
    "include(\"../plotting.jl\")"
   ]
  },
  {
   "cell_type": "code",
   "execution_count": 5,
   "metadata": {},
   "outputs": [
    {
     "data": {
      "text/plain": [
       "2-element Vector{Vector{Int64}}:\n",
       " [4, 17]\n",
       " [12, 17]"
      ]
     },
     "metadata": {},
     "output_type": "display_data"
    },
    {
     "data": {
      "application/vnd.plotly.v1+json": {
       "config": {
        "editable": false,
        "responsive": true,
        "scrollZoom": true,
        "showLink": false,
        "staticPlot": false
       },
       "data": [
        {
         "facecolor": [
          "#00E6FF",
          "#00E6FF",
          "#00E6FF",
          "#00E6FF",
          "#00E6FF",
          "#00E6FF",
          "#00E6FF",
          "#00E6FF",
          "#00E6FF",
          "#00E6FF",
          "#00E6FF",
          "#00E6FF",
          "#00E6FF",
          "#00E6FF",
          "#00E6FF",
          "#00E6FF",
          "#00E6FF",
          "#00E6FF",
          "#00E6FF",
          "#00E6FF",
          "#00E6FF",
          "#00E6FF",
          "#00E6FF",
          "#00E6FF",
          "#00E6FF",
          "#00E6FF",
          "#00E6FF",
          "#00E6FF",
          "#00E6FF",
          "#00E6FF",
          "#00E6FF",
          "#00E6FF",
          "#00E6FF",
          "#00E6FF",
          "#00E6FF",
          "#00E6FF"
         ],
         "i": [
          1,
          1,
          2,
          1,
          1,
          5,
          9,
          9,
          10,
          9,
          9,
          13,
          3,
          3,
          11,
          4,
          4,
          12,
          6,
          6,
          14,
          7,
          7,
          15,
          3,
          3,
          18,
          4,
          4,
          19,
          11,
          11,
          18,
          12,
          12,
          19
         ],
         "j": [
          0,
          3,
          4,
          0,
          6,
          7,
          8,
          11,
          12,
          8,
          14,
          15,
          2,
          10,
          16,
          2,
          10,
          17,
          5,
          13,
          18,
          5,
          13,
          19,
          0,
          6,
          16,
          1,
          7,
          17,
          8,
          14,
          16,
          9,
          15,
          17
         ],
         "k": [
          3,
          2,
          1,
          6,
          5,
          1,
          11,
          10,
          9,
          14,
          13,
          9,
          10,
          11,
          3,
          10,
          12,
          4,
          13,
          14,
          6,
          13,
          15,
          7,
          6,
          18,
          3,
          7,
          19,
          4,
          14,
          18,
          11,
          15,
          19,
          12
         ],
         "opacity": 0.6,
         "type": "mesh3d",
         "x": [
          0.539345,
          -0.539345,
          0,
          0.872678,
          -0.872678,
          0,
          0.872678,
          -0.872678,
          0.539345,
          -0.539345,
          0,
          0.872678,
          -0.872678,
          0,
          0.872678,
          -0.872678,
          1.41202,
          -1.41202,
          1.41202,
          -1.41202
         ],
         "y": [
          0,
          0,
          1.41202,
          0.872678,
          0.872678,
          -1.41202,
          -0.872678,
          -0.872678,
          0,
          0,
          1.41202,
          0.872678,
          0.872678,
          -1.41202,
          -0.872678,
          -0.872678,
          0.539345,
          0.539345,
          -0.539345,
          -0.539345
         ],
         "z": [
          1.41202,
          1.41202,
          0.539345,
          0.872678,
          0.872678,
          0.539345,
          0.872678,
          0.872678,
          -1.41202,
          -1.41202,
          -0.539345,
          -0.872678,
          -0.872678,
          -0.539345,
          -0.872678,
          -0.872678,
          0,
          0,
          0,
          0
         ]
        },
        {
         "line": {
          "color": "black"
         },
         "mode": "lines",
         "type": "scatter3d",
         "x": [
          0.539345,
          -0.539345
         ],
         "y": [
          0,
          0
         ],
         "z": [
          1.41202,
          1.41202
         ]
        },
        {
         "line": {
          "color": "black"
         },
         "mode": "lines",
         "type": "scatter3d",
         "x": [
          0.539345,
          0.872678
         ],
         "y": [
          0,
          0.872678
         ],
         "z": [
          1.41202,
          0.872678
         ]
        },
        {
         "line": {
          "color": "black"
         },
         "mode": "lines",
         "type": "scatter3d",
         "x": [
          0.539345,
          0.872678
         ],
         "y": [
          0,
          -0.872678
         ],
         "z": [
          1.41202,
          0.872678
         ]
        },
        {
         "line": {
          "color": "black"
         },
         "mode": "lines",
         "type": "scatter3d",
         "x": [
          -0.539345,
          -0.872678
         ],
         "y": [
          0,
          0.872678
         ],
         "z": [
          1.41202,
          0.872678
         ]
        },
        {
         "line": {
          "color": "black"
         },
         "mode": "lines",
         "type": "scatter3d",
         "x": [
          -0.539345,
          -0.872678
         ],
         "y": [
          0,
          -0.872678
         ],
         "z": [
          1.41202,
          0.872678
         ]
        },
        {
         "line": {
          "color": "black"
         },
         "mode": "lines",
         "type": "scatter3d",
         "x": [
          0,
          0.872678
         ],
         "y": [
          1.41202,
          0.872678
         ],
         "z": [
          0.539345,
          0.872678
         ]
        },
        {
         "line": {
          "color": "black"
         },
         "mode": "lines",
         "type": "scatter3d",
         "x": [
          0,
          -0.872678
         ],
         "y": [
          1.41202,
          0.872678
         ],
         "z": [
          0.539345,
          0.872678
         ]
        },
        {
         "line": {
          "color": "black"
         },
         "mode": "lines",
         "type": "scatter3d",
         "x": [
          0,
          0
         ],
         "y": [
          1.41202,
          1.41202
         ],
         "z": [
          0.539345,
          -0.539345
         ]
        },
        {
         "line": {
          "color": "black"
         },
         "mode": "lines",
         "type": "scatter3d",
         "x": [
          0.872678,
          1.41202
         ],
         "y": [
          0.872678,
          0.539345
         ],
         "z": [
          0.872678,
          0
         ]
        },
        {
         "line": {
          "color": "black"
         },
         "mode": "lines",
         "type": "scatter3d",
         "x": [
          -0.872678,
          -1.41202
         ],
         "y": [
          0.872678,
          0.539345
         ],
         "z": [
          0.872678,
          0
         ]
        },
        {
         "line": {
          "color": "black"
         },
         "mode": "lines",
         "type": "scatter3d",
         "x": [
          0,
          0.872678
         ],
         "y": [
          -1.41202,
          -0.872678
         ],
         "z": [
          0.539345,
          0.872678
         ]
        },
        {
         "line": {
          "color": "black"
         },
         "mode": "lines",
         "type": "scatter3d",
         "x": [
          0,
          -0.872678
         ],
         "y": [
          -1.41202,
          -0.872678
         ],
         "z": [
          0.539345,
          0.872678
         ]
        },
        {
         "line": {
          "color": "black"
         },
         "mode": "lines",
         "type": "scatter3d",
         "x": [
          0,
          0
         ],
         "y": [
          -1.41202,
          -1.41202
         ],
         "z": [
          0.539345,
          -0.539345
         ]
        },
        {
         "line": {
          "color": "black"
         },
         "mode": "lines",
         "type": "scatter3d",
         "x": [
          0.872678,
          1.41202
         ],
         "y": [
          -0.872678,
          -0.539345
         ],
         "z": [
          0.872678,
          0
         ]
        },
        {
         "line": {
          "color": "black"
         },
         "mode": "lines",
         "type": "scatter3d",
         "x": [
          -0.872678,
          -1.41202
         ],
         "y": [
          -0.872678,
          -0.539345
         ],
         "z": [
          0.872678,
          0
         ]
        },
        {
         "line": {
          "color": "black"
         },
         "mode": "lines",
         "type": "scatter3d",
         "x": [
          0.539345,
          -0.539345
         ],
         "y": [
          0,
          0
         ],
         "z": [
          -1.41202,
          -1.41202
         ]
        },
        {
         "line": {
          "color": "black"
         },
         "mode": "lines",
         "type": "scatter3d",
         "x": [
          0.539345,
          0.872678
         ],
         "y": [
          0,
          0.872678
         ],
         "z": [
          -1.41202,
          -0.872678
         ]
        },
        {
         "line": {
          "color": "black"
         },
         "mode": "lines",
         "type": "scatter3d",
         "x": [
          0.539345,
          0.872678
         ],
         "y": [
          0,
          -0.872678
         ],
         "z": [
          -1.41202,
          -0.872678
         ]
        },
        {
         "line": {
          "color": "black"
         },
         "mode": "lines",
         "type": "scatter3d",
         "x": [
          -0.539345,
          -0.872678
         ],
         "y": [
          0,
          0.872678
         ],
         "z": [
          -1.41202,
          -0.872678
         ]
        },
        {
         "line": {
          "color": "black"
         },
         "mode": "lines",
         "type": "scatter3d",
         "x": [
          -0.539345,
          -0.872678
         ],
         "y": [
          0,
          -0.872678
         ],
         "z": [
          -1.41202,
          -0.872678
         ]
        },
        {
         "line": {
          "color": "black"
         },
         "mode": "lines",
         "type": "scatter3d",
         "x": [
          0,
          0.872678
         ],
         "y": [
          1.41202,
          0.872678
         ],
         "z": [
          -0.539345,
          -0.872678
         ]
        },
        {
         "line": {
          "color": "black"
         },
         "mode": "lines",
         "type": "scatter3d",
         "x": [
          0,
          -0.872678
         ],
         "y": [
          1.41202,
          0.872678
         ],
         "z": [
          -0.539345,
          -0.872678
         ]
        },
        {
         "line": {
          "color": "black"
         },
         "mode": "lines",
         "type": "scatter3d",
         "x": [
          0.872678,
          1.41202
         ],
         "y": [
          0.872678,
          0.539345
         ],
         "z": [
          -0.872678,
          0
         ]
        },
        {
         "line": {
          "color": "black"
         },
         "mode": "lines",
         "type": "scatter3d",
         "x": [
          -0.872678,
          -1.41202
         ],
         "y": [
          0.872678,
          0.539345
         ],
         "z": [
          -0.872678,
          0
         ]
        },
        {
         "line": {
          "color": "black"
         },
         "mode": "lines",
         "type": "scatter3d",
         "x": [
          0,
          0.872678
         ],
         "y": [
          -1.41202,
          -0.872678
         ],
         "z": [
          -0.539345,
          -0.872678
         ]
        },
        {
         "line": {
          "color": "black"
         },
         "mode": "lines",
         "type": "scatter3d",
         "x": [
          0,
          -0.872678
         ],
         "y": [
          -1.41202,
          -0.872678
         ],
         "z": [
          -0.539345,
          -0.872678
         ]
        },
        {
         "line": {
          "color": "black"
         },
         "mode": "lines",
         "type": "scatter3d",
         "x": [
          0.872678,
          1.41202
         ],
         "y": [
          -0.872678,
          -0.539345
         ],
         "z": [
          -0.872678,
          0
         ]
        },
        {
         "line": {
          "color": "black"
         },
         "mode": "lines",
         "type": "scatter3d",
         "x": [
          -0.872678,
          -1.41202
         ],
         "y": [
          -0.872678,
          -0.539345
         ],
         "z": [
          -0.872678,
          0
         ]
        },
        {
         "line": {
          "color": "black"
         },
         "mode": "lines",
         "type": "scatter3d",
         "x": [
          1.41202,
          1.41202
         ],
         "y": [
          0.539345,
          -0.539345
         ],
         "z": [
          0,
          0
         ]
        },
        {
         "line": {
          "color": "black"
         },
         "mode": "lines",
         "type": "scatter3d",
         "x": [
          -1.41202,
          -1.41202
         ],
         "y": [
          0.539345,
          -0.539345
         ],
         "z": [
          0,
          0
         ]
        },
        {
         "line": {
          "color": "black"
         },
         "mode": "lines",
         "type": "scatter3d",
         "x": [
          -0.539345,
          0.872678
         ],
         "y": [
          0,
          0.872678
         ],
         "z": [
          1.41202,
          0.872678
         ]
        },
        {
         "line": {
          "color": "black"
         },
         "mode": "lines",
         "type": "scatter3d",
         "x": [
          -0.539345,
          0
         ],
         "y": [
          0,
          1.41202
         ],
         "z": [
          1.41202,
          0.539345
         ]
        },
        {
         "line": {
          "color": "black"
         },
         "mode": "lines",
         "type": "scatter3d",
         "x": [
          -0.539345,
          0.872678
         ],
         "y": [
          0,
          -0.872678
         ],
         "z": [
          1.41202,
          0.872678
         ]
        },
        {
         "line": {
          "color": "black"
         },
         "mode": "lines",
         "type": "scatter3d",
         "x": [
          -0.539345,
          0
         ],
         "y": [
          0,
          -1.41202
         ],
         "z": [
          1.41202,
          0.539345
         ]
        },
        {
         "line": {
          "color": "black"
         },
         "mode": "lines",
         "type": "scatter3d",
         "x": [
          -0.539345,
          0.872678
         ],
         "y": [
          0,
          0.872678
         ],
         "z": [
          -1.41202,
          -0.872678
         ]
        },
        {
         "line": {
          "color": "black"
         },
         "mode": "lines",
         "type": "scatter3d",
         "x": [
          -0.539345,
          0
         ],
         "y": [
          0,
          1.41202
         ],
         "z": [
          -1.41202,
          -0.539345
         ]
        },
        {
         "line": {
          "color": "black"
         },
         "mode": "lines",
         "type": "scatter3d",
         "x": [
          -0.539345,
          0.872678
         ],
         "y": [
          0,
          -0.872678
         ],
         "z": [
          -1.41202,
          -0.872678
         ]
        },
        {
         "line": {
          "color": "black"
         },
         "mode": "lines",
         "type": "scatter3d",
         "x": [
          -0.539345,
          0
         ],
         "y": [
          0,
          -1.41202
         ],
         "z": [
          -1.41202,
          -0.539345
         ]
        },
        {
         "line": {
          "color": "black"
         },
         "mode": "lines",
         "type": "scatter3d",
         "x": [
          0.872678,
          0
         ],
         "y": [
          0.872678,
          1.41202
         ],
         "z": [
          0.872678,
          -0.539345
         ]
        },
        {
         "line": {
          "color": "black"
         },
         "mode": "lines",
         "type": "scatter3d",
         "x": [
          0.872678,
          0.872678
         ],
         "y": [
          0.872678,
          0.872678
         ],
         "z": [
          0.872678,
          -0.872678
         ]
        },
        {
         "line": {
          "color": "black"
         },
         "mode": "lines",
         "type": "scatter3d",
         "x": [
          -0.872678,
          0
         ],
         "y": [
          0.872678,
          1.41202
         ],
         "z": [
          0.872678,
          -0.539345
         ]
        },
        {
         "line": {
          "color": "black"
         },
         "mode": "lines",
         "type": "scatter3d",
         "x": [
          -0.872678,
          -0.872678
         ],
         "y": [
          0.872678,
          0.872678
         ],
         "z": [
          0.872678,
          -0.872678
         ]
        },
        {
         "line": {
          "color": "black"
         },
         "mode": "lines",
         "type": "scatter3d",
         "x": [
          0.872678,
          0
         ],
         "y": [
          -0.872678,
          -1.41202
         ],
         "z": [
          0.872678,
          -0.539345
         ]
        },
        {
         "line": {
          "color": "black"
         },
         "mode": "lines",
         "type": "scatter3d",
         "x": [
          0.872678,
          0.872678
         ],
         "y": [
          -0.872678,
          -0.872678
         ],
         "z": [
          0.872678,
          -0.872678
         ]
        },
        {
         "line": {
          "color": "black"
         },
         "mode": "lines",
         "type": "scatter3d",
         "x": [
          -0.872678,
          0
         ],
         "y": [
          -0.872678,
          -1.41202
         ],
         "z": [
          0.872678,
          -0.539345
         ]
        },
        {
         "line": {
          "color": "black"
         },
         "mode": "lines",
         "type": "scatter3d",
         "x": [
          -0.872678,
          -0.872678
         ],
         "y": [
          -0.872678,
          -0.872678
         ],
         "z": [
          0.872678,
          -0.872678
         ]
        },
        {
         "line": {
          "color": "black"
         },
         "mode": "lines",
         "type": "scatter3d",
         "x": [
          0.872678,
          0.872678
         ],
         "y": [
          0.872678,
          -0.872678
         ],
         "z": [
          0.872678,
          0.872678
         ]
        },
        {
         "line": {
          "color": "black"
         },
         "mode": "lines",
         "type": "scatter3d",
         "x": [
          0.872678,
          1.41202
         ],
         "y": [
          0.872678,
          -0.539345
         ],
         "z": [
          0.872678,
          0
         ]
        },
        {
         "line": {
          "color": "black"
         },
         "mode": "lines",
         "type": "scatter3d",
         "x": [
          -0.872678,
          -0.872678
         ],
         "y": [
          0.872678,
          -0.872678
         ],
         "z": [
          0.872678,
          0.872678
         ]
        },
        {
         "line": {
          "color": "black"
         },
         "mode": "lines",
         "type": "scatter3d",
         "x": [
          -0.872678,
          -1.41202
         ],
         "y": [
          0.872678,
          -0.539345
         ],
         "z": [
          0.872678,
          0
         ]
        },
        {
         "line": {
          "color": "black"
         },
         "mode": "lines",
         "type": "scatter3d",
         "x": [
          0.872678,
          0.872678
         ],
         "y": [
          0.872678,
          -0.872678
         ],
         "z": [
          -0.872678,
          -0.872678
         ]
        },
        {
         "line": {
          "color": "black"
         },
         "mode": "lines",
         "type": "scatter3d",
         "x": [
          0.872678,
          1.41202
         ],
         "y": [
          0.872678,
          -0.539345
         ],
         "z": [
          -0.872678,
          0
         ]
        },
        {
         "line": {
          "color": "black"
         },
         "mode": "lines",
         "type": "scatter3d",
         "x": [
          -0.872678,
          -0.872678
         ],
         "y": [
          0.872678,
          -0.872678
         ],
         "z": [
          -0.872678,
          -0.872678
         ]
        },
        {
         "line": {
          "color": "black"
         },
         "mode": "lines",
         "type": "scatter3d",
         "x": [
          -0.872678,
          -1.41202
         ],
         "y": [
          0.872678,
          -0.539345
         ],
         "z": [
          -0.872678,
          0
         ]
        },
        {
         "marker": {
          "color": "#00E6FF",
          "size": 4
         },
         "mode": "markers",
         "text": [
          "1",
          "2",
          "3",
          "4",
          "5",
          "6",
          "7",
          "8",
          "9",
          "10",
          "11",
          "12",
          "13",
          "14",
          "15",
          "16",
          "17",
          "18",
          "19",
          "20"
         ],
         "textposition": "bottom center",
         "type": "scatter3d",
         "x": [
          0.539345,
          -0.539345,
          0,
          0.872678,
          -0.872678,
          0,
          0.872678,
          -0.872678,
          0.539345,
          -0.539345,
          0,
          0.872678,
          -0.872678,
          0,
          0.872678,
          -0.872678,
          1.41202,
          -1.41202,
          1.41202,
          -1.41202
         ],
         "y": [
          0,
          0,
          1.41202,
          0.872678,
          0.872678,
          -1.41202,
          -0.872678,
          -0.872678,
          0,
          0,
          1.41202,
          0.872678,
          0.872678,
          -1.41202,
          -0.872678,
          -0.872678,
          0.539345,
          0.539345,
          -0.539345,
          -0.539345
         ],
         "z": [
          1.41202,
          1.41202,
          0.539345,
          0.872678,
          0.872678,
          0.539345,
          0.872678,
          0.872678,
          -1.41202,
          -1.41202,
          -0.539345,
          -0.872678,
          -0.872678,
          -0.539345,
          -0.872678,
          -0.872678,
          0,
          0,
          0,
          0
         ]
        }
       ],
       "frames": [],
       "layout": {
        "margin": {
         "b": 50,
         "l": 50,
         "r": 50,
         "t": 60
        },
        "showlegend": false,
        "template": {
         "data": {
          "bar": [
           {
            "error_x": {
             "color": "#2a3f5f"
            },
            "error_y": {
             "color": "#2a3f5f"
            },
            "marker": {
             "line": {
              "color": "#E5ECF6",
              "width": 0.5
             }
            },
            "type": "bar"
           }
          ],
          "barpolar": [
           {
            "marker": {
             "line": {
              "color": "#E5ECF6",
              "width": 0.5
             }
            },
            "type": "barpolar"
           }
          ],
          "carpet": [
           {
            "aaxis": {
             "endlinecolor": "#2a3f5f",
             "gridcolor": "white",
             "linecolor": "white",
             "minorgridcolor": "white",
             "startlinecolor": "#2a3f5f"
            },
            "baxis": {
             "endlinecolor": "#2a3f5f",
             "gridcolor": "white",
             "linecolor": "white",
             "minorgridcolor": "white",
             "startlinecolor": "#2a3f5f"
            },
            "type": "carpet"
           }
          ],
          "choropleth": [
           {
            "colorbar": {
             "outlinewidth": 0,
             "ticks": ""
            },
            "type": "choropleth"
           }
          ],
          "contour": [
           {
            "colorbar": {
             "outlinewidth": 0,
             "ticks": ""
            },
            "colorscale": [
             [
              0,
              "#0d0887"
             ],
             [
              0.1111111111111111,
              "#46039f"
             ],
             [
              0.2222222222222222,
              "#7201a8"
             ],
             [
              0.3333333333333333,
              "#9c179e"
             ],
             [
              0.4444444444444444,
              "#bd3786"
             ],
             [
              0.5555555555555556,
              "#d8576b"
             ],
             [
              0.6666666666666666,
              "#ed7953"
             ],
             [
              0.7777777777777778,
              "#fb9f3a"
             ],
             [
              0.8888888888888888,
              "#fdca26"
             ],
             [
              1,
              "#f0f921"
             ]
            ],
            "type": "contour"
           }
          ],
          "contourcarpet": [
           {
            "colorbar": {
             "outlinewidth": 0,
             "ticks": ""
            },
            "type": "contourcarpet"
           }
          ],
          "heatmap": [
           {
            "colorbar": {
             "outlinewidth": 0,
             "ticks": ""
            },
            "colorscale": [
             [
              0,
              "#0d0887"
             ],
             [
              0.1111111111111111,
              "#46039f"
             ],
             [
              0.2222222222222222,
              "#7201a8"
             ],
             [
              0.3333333333333333,
              "#9c179e"
             ],
             [
              0.4444444444444444,
              "#bd3786"
             ],
             [
              0.5555555555555556,
              "#d8576b"
             ],
             [
              0.6666666666666666,
              "#ed7953"
             ],
             [
              0.7777777777777778,
              "#fb9f3a"
             ],
             [
              0.8888888888888888,
              "#fdca26"
             ],
             [
              1,
              "#f0f921"
             ]
            ],
            "type": "heatmap"
           }
          ],
          "heatmapgl": [
           {
            "colorbar": {
             "outlinewidth": 0,
             "ticks": ""
            },
            "colorscale": [
             [
              0,
              "#0d0887"
             ],
             [
              0.1111111111111111,
              "#46039f"
             ],
             [
              0.2222222222222222,
              "#7201a8"
             ],
             [
              0.3333333333333333,
              "#9c179e"
             ],
             [
              0.4444444444444444,
              "#bd3786"
             ],
             [
              0.5555555555555556,
              "#d8576b"
             ],
             [
              0.6666666666666666,
              "#ed7953"
             ],
             [
              0.7777777777777778,
              "#fb9f3a"
             ],
             [
              0.8888888888888888,
              "#fdca26"
             ],
             [
              1,
              "#f0f921"
             ]
            ],
            "type": "heatmapgl"
           }
          ],
          "histogram": [
           {
            "marker": {
             "colorbar": {
              "outlinewidth": 0,
              "ticks": ""
             }
            },
            "type": "histogram"
           }
          ],
          "histogram2d": [
           {
            "colorbar": {
             "outlinewidth": 0,
             "ticks": ""
            },
            "colorscale": [
             [
              0,
              "#0d0887"
             ],
             [
              0.1111111111111111,
              "#46039f"
             ],
             [
              0.2222222222222222,
              "#7201a8"
             ],
             [
              0.3333333333333333,
              "#9c179e"
             ],
             [
              0.4444444444444444,
              "#bd3786"
             ],
             [
              0.5555555555555556,
              "#d8576b"
             ],
             [
              0.6666666666666666,
              "#ed7953"
             ],
             [
              0.7777777777777778,
              "#fb9f3a"
             ],
             [
              0.8888888888888888,
              "#fdca26"
             ],
             [
              1,
              "#f0f921"
             ]
            ],
            "type": "histogram2d"
           }
          ],
          "histogram2dcontour": [
           {
            "colorbar": {
             "outlinewidth": 0,
             "ticks": ""
            },
            "colorscale": [
             [
              0,
              "#0d0887"
             ],
             [
              0.1111111111111111,
              "#46039f"
             ],
             [
              0.2222222222222222,
              "#7201a8"
             ],
             [
              0.3333333333333333,
              "#9c179e"
             ],
             [
              0.4444444444444444,
              "#bd3786"
             ],
             [
              0.5555555555555556,
              "#d8576b"
             ],
             [
              0.6666666666666666,
              "#ed7953"
             ],
             [
              0.7777777777777778,
              "#fb9f3a"
             ],
             [
              0.8888888888888888,
              "#fdca26"
             ],
             [
              1,
              "#f0f921"
             ]
            ],
            "type": "histogram2dcontour"
           }
          ],
          "mesh3d": [
           {
            "colorbar": {
             "outlinewidth": 0,
             "ticks": ""
            },
            "type": "mesh3d"
           }
          ],
          "parcoords": [
           {
            "line": {
             "colorbar": {
              "outlinewidth": 0,
              "ticks": ""
             }
            },
            "type": "parcoords"
           }
          ],
          "pie": [
           {
            "automargin": true,
            "type": "pie"
           }
          ],
          "scatter": [
           {
            "marker": {
             "colorbar": {
              "outlinewidth": 0,
              "ticks": ""
             }
            },
            "type": "scatter"
           }
          ],
          "scatter3d": [
           {
            "line": {
             "colorbar": {
              "outlinewidth": 0,
              "ticks": ""
             }
            },
            "marker": {
             "colorbar": {
              "outlinewidth": 0,
              "ticks": ""
             }
            },
            "type": "scatter3d"
           }
          ],
          "scattercarpet": [
           {
            "marker": {
             "colorbar": {
              "outlinewidth": 0,
              "ticks": ""
             }
            },
            "type": "scattercarpet"
           }
          ],
          "scattergeo": [
           {
            "marker": {
             "colorbar": {
              "outlinewidth": 0,
              "ticks": ""
             }
            },
            "type": "scattergeo"
           }
          ],
          "scattergl": [
           {
            "marker": {
             "colorbar": {
              "outlinewidth": 0,
              "ticks": ""
             }
            },
            "type": "scattergl"
           }
          ],
          "scattermapbox": [
           {
            "marker": {
             "colorbar": {
              "outlinewidth": 0,
              "ticks": ""
             }
            },
            "type": "scattermapbox"
           }
          ],
          "scatterpolar": [
           {
            "marker": {
             "colorbar": {
              "outlinewidth": 0,
              "ticks": ""
             }
            },
            "type": "scatterpolar"
           }
          ],
          "scatterpolargl": [
           {
            "marker": {
             "colorbar": {
              "outlinewidth": 0,
              "ticks": ""
             }
            },
            "type": "scatterpolargl"
           }
          ],
          "scatterternary": [
           {
            "marker": {
             "colorbar": {
              "outlinewidth": 0,
              "ticks": ""
             }
            },
            "type": "scatterternary"
           }
          ],
          "surface": [
           {
            "colorbar": {
             "outlinewidth": 0,
             "ticks": ""
            },
            "colorscale": [
             [
              0,
              "#0d0887"
             ],
             [
              0.1111111111111111,
              "#46039f"
             ],
             [
              0.2222222222222222,
              "#7201a8"
             ],
             [
              0.3333333333333333,
              "#9c179e"
             ],
             [
              0.4444444444444444,
              "#bd3786"
             ],
             [
              0.5555555555555556,
              "#d8576b"
             ],
             [
              0.6666666666666666,
              "#ed7953"
             ],
             [
              0.7777777777777778,
              "#fb9f3a"
             ],
             [
              0.8888888888888888,
              "#fdca26"
             ],
             [
              1,
              "#f0f921"
             ]
            ],
            "type": "surface"
           }
          ],
          "table": [
           {
            "cells": {
             "fill": {
              "color": "#EBF0F8"
             },
             "line": {
              "color": "white"
             }
            },
            "header": {
             "fill": {
              "color": "#C8D4E3"
             },
             "line": {
              "color": "white"
             }
            },
            "type": "table"
           }
          ]
         },
         "layout": {
          "annotationdefaults": {
           "arrowcolor": "#2a3f5f",
           "arrowhead": 0,
           "arrowwidth": 1
          },
          "autotypenumbers": "strict",
          "coloraxis": {
           "colorbar": {
            "outlinewidth": 0,
            "ticks": ""
           }
          },
          "colorscale": {
           "diverging": [
            [
             0,
             "#8e0152"
            ],
            [
             0.1,
             "#c51b7d"
            ],
            [
             0.2,
             "#de77ae"
            ],
            [
             0.3,
             "#f1b6da"
            ],
            [
             0.4,
             "#fde0ef"
            ],
            [
             0.5,
             "#f7f7f7"
            ],
            [
             0.6,
             "#e6f5d0"
            ],
            [
             0.7,
             "#b8e186"
            ],
            [
             0.8,
             "#7fbc41"
            ],
            [
             0.9,
             "#4d9221"
            ],
            [
             1,
             "#276419"
            ]
           ],
           "sequential": [
            [
             0,
             "#0d0887"
            ],
            [
             0.1111111111111111,
             "#46039f"
            ],
            [
             0.2222222222222222,
             "#7201a8"
            ],
            [
             0.3333333333333333,
             "#9c179e"
            ],
            [
             0.4444444444444444,
             "#bd3786"
            ],
            [
             0.5555555555555556,
             "#d8576b"
            ],
            [
             0.6666666666666666,
             "#ed7953"
            ],
            [
             0.7777777777777778,
             "#fb9f3a"
            ],
            [
             0.8888888888888888,
             "#fdca26"
            ],
            [
             1,
             "#f0f921"
            ]
           ],
           "sequentialminus": [
            [
             0,
             "#0d0887"
            ],
            [
             0.1111111111111111,
             "#46039f"
            ],
            [
             0.2222222222222222,
             "#7201a8"
            ],
            [
             0.3333333333333333,
             "#9c179e"
            ],
            [
             0.4444444444444444,
             "#bd3786"
            ],
            [
             0.5555555555555556,
             "#d8576b"
            ],
            [
             0.6666666666666666,
             "#ed7953"
            ],
            [
             0.7777777777777778,
             "#fb9f3a"
            ],
            [
             0.8888888888888888,
             "#fdca26"
            ],
            [
             1,
             "#f0f921"
            ]
           ]
          },
          "colorway": [
           "#636efa",
           "#EF553B",
           "#00cc96",
           "#ab63fa",
           "#FFA15A",
           "#19d3f3",
           "#FF6692",
           "#B6E880",
           "#FF97FF",
           "#FECB52"
          ],
          "font": {
           "color": "#2a3f5f"
          },
          "geo": {
           "bgcolor": "white",
           "lakecolor": "white",
           "landcolor": "#E5ECF6",
           "showlakes": true,
           "showland": true,
           "subunitcolor": "white"
          },
          "hoverlabel": {
           "align": "left"
          },
          "hovermode": "closest",
          "mapbox": {
           "style": "light"
          },
          "paper_bgcolor": "white",
          "plot_bgcolor": "#E5ECF6",
          "polar": {
           "angularaxis": {
            "gridcolor": "white",
            "linecolor": "white",
            "ticks": ""
           },
           "bgcolor": "#E5ECF6",
           "radialaxis": {
            "gridcolor": "white",
            "linecolor": "white",
            "ticks": ""
           }
          },
          "scene": {
           "xaxis": {
            "backgroundcolor": "#E5ECF6",
            "gridcolor": "white",
            "gridwidth": 2,
            "linecolor": "white",
            "showbackground": true,
            "ticks": "",
            "zerolinecolor": "white"
           },
           "yaxis": {
            "backgroundcolor": "#E5ECF6",
            "gridcolor": "white",
            "gridwidth": 2,
            "linecolor": "white",
            "showbackground": true,
            "ticks": "",
            "zerolinecolor": "white"
           },
           "zaxis": {
            "backgroundcolor": "#E5ECF6",
            "gridcolor": "white",
            "gridwidth": 2,
            "linecolor": "white",
            "showbackground": true,
            "ticks": "",
            "zerolinecolor": "white"
           }
          },
          "shapedefaults": {
           "line": {
            "color": "#2a3f5f"
           }
          },
          "ternary": {
           "aaxis": {
            "gridcolor": "white",
            "linecolor": "white",
            "ticks": ""
           },
           "baxis": {
            "gridcolor": "white",
            "linecolor": "white",
            "ticks": ""
           },
           "bgcolor": "#E5ECF6",
           "caxis": {
            "gridcolor": "white",
            "linecolor": "white",
            "ticks": ""
           }
          },
          "title": {
           "x": 0.05
          },
          "xaxis": {
           "automargin": true,
           "gridcolor": "white",
           "linecolor": "white",
           "ticks": "",
           "title": {
            "standoff": 15
           },
           "zerolinecolor": "white",
           "zerolinewidth": 2
          },
          "yaxis": {
           "automargin": true,
           "gridcolor": "white",
           "linecolor": "white",
           "ticks": "",
           "title": {
            "standoff": 15
           },
           "zerolinecolor": "white",
           "zerolinewidth": 2
          }
         }
        }
       }
      },
      "image/png": "[encoded data removed]",
      "image/svg+xml": "<svg class=\"main-svg\" xmlns=\"http://www.w3.org/2000/svg\" xmlns:xlink=\"http://www.w3.org/1999/xlink\" width=\"700\" height=\"500\" style=\"\" viewBox=\"0 0 700 500\"><rect x=\"0\" y=\"0\" width=\"700\" height=\"500\" style=\"fill: rgb(255, 255, 255); fill-opacity: 1;\"/><defs id=\"defs-6d790f\"><g class=\"clips\"/><g class=\"gradients\"/></defs><g class=\"bglayer\"/><g class=\"layer-below\"><g class=\"imagelayer\"/><g class=\"shapelayer\"/></g><g class=\"cartesianlayer\"/><g class=\"polarlayer\"/><g class=\"ternarylayer\"/><g class=\"geolayer\"/><g class=\"funnelarealayer\"/><g class=\"pielayer\"/><g class=\"treemaplayer\"/><g class=\"sunburstlayer\"/><g class=\"glimages\"><image xmlns=\"http://www.w3.org/2000/svg\" xlink:href=\"data:image/png;base64,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\" x=\"50\" y=\"60\" width=\"600\" height=\"390\" preserveAspectRatio=\"none\"/></g><defs id=\"topdefs-6d790f\"><g class=\"clips\"/></defs><g class=\"layer-above\"><g class=\"imagelayer\"/><g class=\"shapelayer\"/></g><g class=\"infolayer\"><g class=\"g-gtitle\"/></g></svg>",
      "text/html": [
       "<div\n",
       "    class=\"webio-mountpoint\"\n",
       "    data-webio-mountpoint=\"4257163921797037663\"\n",
       ">\n",
       "    <script>\n",
       "    (function(){\n",
       "    // Some integrations (namely, IJulia/Jupyter) use an alternate render pathway than\n",
       "    // just putting the html on the page. If WebIO isn't defined, then it's pretty likely\n",
       "    // that we're in one of those situations and the integration just isn't installed\n",
       "    // correctly.\n",
       "    if (typeof window.WebIO === \"undefined\") {\n",
       "        document\n",
       "            .querySelector('[data-webio-mountpoint=\"4257163921797037663\"]')\n",
       "            .innerHTML = (\n",
       "                '<div style=\"padding: 1em; background-color: #f8d6da; border: 1px solid #f5c6cb; font-weight: bold;\">' +\n",
       "                '<p><strong>WebIO not detected.</strong></p>' +\n",
       "                '<p>Please read ' +\n",
       "                '<a href=\"https://juliagizmos.github.io/WebIO.jl/latest/troubleshooting/not-detected/\" target=\"_blank\">the troubleshooting guide</a> ' +\n",
       "                'for more information on how to resolve this issue.</p>' +\n",
       "                '<p><a href=\"https://juliagizmos.github.io/WebIO.jl/latest/troubleshooting/not-detected/\" target=\"_blank\">https://juliagizmos.github.io/WebIO.jl/latest/troubleshooting/not-detected/</a></p>' +\n",
       "                '</div>'\n",
       "            );\n",
       "        return;\n",
       "    }\n",
       "    WebIO.mount(\n",
       "        document.querySelector('[data-webio-mountpoint=\"4257163921797037663\"]'),\n",
       "        {\"props\":{},\"nodeType\":\"Scope\",\"type\":\"node\",\"instanceArgs\":{\"imports\":{\"data\":[{\"name\":\"Plotly\",\"type\":\"js\",\"url\":\"\\/assetserver\\/d18d62e3d860f95bdd778d5ce0d98356c8e8cd70-plotly.min.js\"},{\"name\":null,\"type\":\"js\",\"url\":\"\\/assetserver\\/3ce237707c6799d71e862d9d30b4d1f68d73bd38-plotly_webio.bundle.js\"}],\"type\":\"async_block\"},\"id\":\"12244663474154455079\",\"handlers\":{\"_toImage\":[\"(function (options){return this.Plotly.toImage(this.plotElem,options).then((function (data){return WebIO.setval({\\\"name\\\":\\\"image\\\",\\\"scope\\\":\\\"12244663474154455079\\\",\\\"id\\\":\\\"15013779487731933954\\\",\\\"type\\\":\\\"observable\\\"},data)}))})\"],\"__get_gd_contents\":[\"(function (prop){prop==\\\"data\\\" ? (WebIO.setval({\\\"name\\\":\\\"__gd_contents\\\",\\\"scope\\\":\\\"12244663474154455079\\\",\\\"id\\\":\\\"14586824109396954115\\\",\\\"type\\\":\\\"observable\\\"},this.plotElem.data)) : undefined; return prop==\\\"layout\\\" ? (WebIO.setval({\\\"name\\\":\\\"__gd_contents\\\",\\\"scope\\\":\\\"12244663474154455079\\\",\\\"id\\\":\\\"14586824109396954115\\\",\\\"type\\\":\\\"observable\\\"},this.plotElem.layout)) : undefined})\"],\"_downloadImage\":[\"(function (options){return this.Plotly.downloadImage(this.plotElem,options)})\"],\"_commands\":[\"(function (args){var fn=args.shift(); var elem=this.plotElem; var Plotly=this.Plotly; args.unshift(elem); return Plotly[fn].apply(this,args)})\"]},\"systemjs_options\":null,\"mount_callbacks\":[\"function () {\\n    var handler = ((function (Plotly,PlotlyWebIO){PlotlyWebIO.init(WebIO); var gd=this.dom.querySelector(\\\"#plot-10590347-3c70-43c2-a2c2-7b0a8cfc9aba\\\"); this.plotElem=gd; this.Plotly=Plotly; (window.Blink!==undefined) ? (gd.style.width=\\\"100%\\\", gd.style.height=\\\"100vh\\\", gd.style.marginLeft=\\\"0%\\\", gd.style.marginTop=\\\"0vh\\\") : undefined; window.onresize=(function (){return Plotly.Plots.resize(gd)}); Plotly.newPlot(gd,[{\\\"y\\\":[0.0,0.0,1.41202,0.872678,0.872678,-1.41202,-0.872678,-0.872678,0.0,0.0,1.41202,0.872678,0.872678,-1.41202,-0.872678,-0.872678,0.539345,0.539345,-0.539345,-0.539345],\\\"type\\\":\\\"mesh3d\\\",\\\"j\\\":[0,3,4,0,6,7,8,11,12,8,14,15,2,10,16,2,10,17,5,13,18,5,13,19,0,6,16,1,7,17,8,14,16,9,15,17],\\\"k\\\":[3,2,1,6,5,1,11,10,9,14,13,9,10,11,3,10,12,4,13,14,6,13,15,7,6,18,3,7,19,4,14,18,11,15,19,12],\\\"opacity\\\":0.6,\\\"z\\\":[1.41202,1.41202,0.539345,0.872678,0.872678,0.539345,0.872678,0.872678,-1.41202,-1.41202,-0.539345,-0.872678,-0.872678,-0.539345,-0.872678,-0.872678,0.0,0.0,0.0,0.0],\\\"i\\\":[1,1,2,1,1,5,9,9,10,9,9,13,3,3,11,4,4,12,6,6,14,7,7,15,3,3,18,4,4,19,11,11,18,12,12,19],\\\"facecolor\\\":[\\\"#00E6FF\\\",\\\"#00E6FF\\\",\\\"#00E6FF\\\",\\\"#00E6FF\\\",\\\"#00E6FF\\\",\\\"#00E6FF\\\",\\\"#00E6FF\\\",\\\"#00E6FF\\\",\\\"#00E6FF\\\",\\\"#00E6FF\\\",\\\"#00E6FF\\\",\\\"#00E6FF\\\",\\\"#00E6FF\\\",\\\"#00E6FF\\\",\\\"#00E6FF\\\",\\\"#00E6FF\\\",\\\"#00E6FF\\\",\\\"#00E6FF\\\",\\\"#00E6FF\\\",\\\"#00E6FF\\\",\\\"#00E6FF\\\",\\\"#00E6FF\\\",\\\"#00E6FF\\\",\\\"#00E6FF\\\",\\\"#00E6FF\\\",\\\"#00E6FF\\\",\\\"#00E6FF\\\",\\\"#00E6FF\\\",\\\"#00E6FF\\\",\\\"#00E6FF\\\",\\\"#00E6FF\\\",\\\"#00E6FF\\\",\\\"#00E6FF\\\",\\\"#00E6FF\\\",\\\"#00E6FF\\\",\\\"#00E6FF\\\"],\\\"x\\\":[0.539345,-0.539345,0.0,0.872678,-0.872678,0.0,0.872678,-0.872678,0.539345,-0.539345,0.0,0.872678,-0.872678,0.0,0.872678,-0.872678,1.41202,-1.41202,1.41202,-1.41202]},{\\\"mode\\\":\\\"lines\\\",\\\"line\\\":{\\\"color\\\":\\\"black\\\"},\\\"y\\\":[0.0,0.0],\\\"type\\\":\\\"scatter3d\\\",\\\"z\\\":[1.41202,1.41202],\\\"x\\\":[0.539345,-0.539345]},{\\\"mode\\\":\\\"lines\\\",\\\"line\\\":{\\\"color\\\":\\\"black\\\"},\\\"y\\\":[0.0,0.872678],\\\"type\\\":\\\"scatter3d\\\",\\\"z\\\":[1.41202,0.872678],\\\"x\\\":[0.539345,0.872678]},{\\\"mode\\\":\\\"lines\\\",\\\"line\\\":{\\\"color\\\":\\\"black\\\"},\\\"y\\\":[0.0,-0.872678],\\\"type\\\":\\\"scatter3d\\\",\\\"z\\\":[1.41202,0.872678],\\\"x\\\":[0.539345,0.872678]},{\\\"mode\\\":\\\"lines\\\",\\\"line\\\":{\\\"color\\\":\\\"black\\\"},\\\"y\\\":[0.0,0.872678],\\\"type\\\":\\\"scatter3d\\\",\\\"z\\\":[1.41202,0.872678],\\\"x\\\":[-0.539345,-0.872678]},{\\\"mode\\\":\\\"lines\\\",\\\"line\\\":{\\\"color\\\":\\\"black\\\"},\\\"y\\\":[0.0,-0.872678],\\\"type\\\":\\\"scatter3d\\\",\\\"z\\\":[1.41202,0.872678],\\\"x\\\":[-0.539345,-0.872678]},{\\\"mode\\\":\\\"lines\\\",\\\"line\\\":{\\\"color\\\":\\\"black\\\"},\\\"y\\\":[1.41202,0.872678],\\\"type\\\":\\\"scatter3d\\\",\\\"z\\\":[0.539345,0.872678],\\\"x\\\":[0.0,0.872678]},{\\\"mode\\\":\\\"lines\\\",\\\"line\\\":{\\\"color\\\":\\\"black\\\"},\\\"y\\\":[1.41202,0.872678],\\\"type\\\":\\\"scatter3d\\\",\\\"z\\\":[0.539345,0.872678],\\\"x\\\":[0.0,-0.872678]},{\\\"mode\\\":\\\"lines\\\",\\\"line\\\":{\\\"color\\\":\\\"black\\\"},\\\"y\\\":[1.41202,1.41202],\\\"type\\\":\\\"scatter3d\\\",\\\"z\\\":[0.539345,-0.539345],\\\"x\\\":[0.0,0.0]},{\\\"mode\\\":\\\"lines\\\",\\\"line\\\":{\\\"color\\\":\\\"black\\\"},\\\"y\\\":[0.872678,0.539345],\\\"type\\\":\\\"scatter3d\\\",\\\"z\\\":[0.872678,0.0],\\\"x\\\":[0.872678,1.41202]},{\\\"mode\\\":\\\"lines\\\",\\\"line\\\":{\\\"color\\\":\\\"black\\\"},\\\"y\\\":[0.872678,0.539345],\\\"type\\\":\\\"scatter3d\\\",\\\"z\\\":[0.872678,0.0],\\\"x\\\":[-0.872678,-1.41202]},{\\\"mode\\\":\\\"lines\\\",\\\"line\\\":{\\\"color\\\":\\\"black\\\"},\\\"y\\\":[-1.41202,-0.872678],\\\"type\\\":\\\"scatter3d\\\",\\\"z\\\":[0.539345,0.872678],\\\"x\\\":[0.0,0.872678]},{\\\"mode\\\":\\\"lines\\\",\\\"line\\\":{\\\"color\\\":\\\"black\\\"},\\\"y\\\":[-1.41202,-0.872678],\\\"type\\\":\\\"scatter3d\\\",\\\"z\\\":[0.539345,0.872678],\\\"x\\\":[0.0,-0.872678]},{\\\"mode\\\":\\\"lines\\\",\\\"line\\\":{\\\"color\\\":\\\"black\\\"},\\\"y\\\":[-1.41202,-1.41202],\\\"type\\\":\\\"scatter3d\\\",\\\"z\\\":[0.539345,-0.539345],\\\"x\\\":[0.0,0.0]},{\\\"mode\\\":\\\"lines\\\",\\\"line\\\":{\\\"color\\\":\\\"black\\\"},\\\"y\\\":[-0.872678,-0.539345],\\\"type\\\":\\\"scatter3d\\\",\\\"z\\\":[0.872678,0.0],\\\"x\\\":[0.872678,1.41202]},{\\\"mode\\\":\\\"lines\\\",\\\"line\\\":{\\\"color\\\":\\\"black\\\"},\\\"y\\\":[-0.872678,-0.539345],\\\"type\\\":\\\"scatter3d\\\",\\\"z\\\":[0.872678,0.0],\\\"x\\\":[-0.872678,-1.41202]},{\\\"mode\\\":\\\"lines\\\",\\\"line\\\":{\\\"color\\\":\\\"black\\\"},\\\"y\\\":[0.0,0.0],\\\"type\\\":\\\"scatter3d\\\",\\\"z\\\":[-1.41202,-1.41202],\\\"x\\\":[0.539345,-0.539345]},{\\\"mode\\\":\\\"lines\\\",\\\"line\\\":{\\\"color\\\":\\\"black\\\"},\\\"y\\\":[0.0,0.872678],\\\"type\\\":\\\"scatter3d\\\",\\\"z\\\":[-1.41202,-0.872678],\\\"x\\\":[0.539345,0.872678]},{\\\"mode\\\":\\\"lines\\\",\\\"line\\\":{\\\"color\\\":\\\"black\\\"},\\\"y\\\":[0.0,-0.872678],\\\"type\\\":\\\"scatter3d\\\",\\\"z\\\":[-1.41202,-0.872678],\\\"x\\\":[0.539345,0.872678]},{\\\"mode\\\":\\\"lines\\\",\\\"line\\\":{\\\"color\\\":\\\"black\\\"},\\\"y\\\":[0.0,0.872678],\\\"type\\\":\\\"scatter3d\\\",\\\"z\\\":[-1.41202,-0.872678],\\\"x\\\":[-0.539345,-0.872678]},{\\\"mode\\\":\\\"lines\\\",\\\"line\\\":{\\\"color\\\":\\\"black\\\"},\\\"y\\\":[0.0,-0.872678],\\\"type\\\":\\\"scatter3d\\\",\\\"z\\\":[-1.41202,-0.872678],\\\"x\\\":[-0.539345,-0.872678]},{\\\"mode\\\":\\\"lines\\\",\\\"line\\\":{\\\"color\\\":\\\"black\\\"},\\\"y\\\":[1.41202,0.872678],\\\"type\\\":\\\"scatter3d\\\",\\\"z\\\":[-0.539345,-0.872678],\\\"x\\\":[0.0,0.872678]},{\\\"mode\\\":\\\"lines\\\",\\\"line\\\":{\\\"color\\\":\\\"black\\\"},\\\"y\\\":[1.41202,0.872678],\\\"type\\\":\\\"scatter3d\\\",\\\"z\\\":[-0.539345,-0.872678],\\\"x\\\":[0.0,-0.872678]},{\\\"mode\\\":\\\"lines\\\",\\\"line\\\":{\\\"color\\\":\\\"black\\\"},\\\"y\\\":[0.872678,0.539345],\\\"type\\\":\\\"scatter3d\\\",\\\"z\\\":[-0.872678,0.0],\\\"x\\\":[0.872678,1.41202]},{\\\"mode\\\":\\\"lines\\\",\\\"line\\\":{\\\"color\\\":\\\"black\\\"},\\\"y\\\":[0.872678,0.539345],\\\"type\\\":\\\"scatter3d\\\",\\\"z\\\":[-0.872678,0.0],\\\"x\\\":[-0.872678,-1.41202]},{\\\"mode\\\":\\\"lines\\\",\\\"line\\\":{\\\"color\\\":\\\"black\\\"},\\\"y\\\":[-1.41202,-0.872678],\\\"type\\\":\\\"scatter3d\\\",\\\"z\\\":[-0.539345,-0.872678],\\\"x\\\":[0.0,0.872678]},{\\\"mode\\\":\\\"lines\\\",\\\"line\\\":{\\\"color\\\":\\\"black\\\"},\\\"y\\\":[-1.41202,-0.872678],\\\"type\\\":\\\"scatter3d\\\",\\\"z\\\":[-0.539345,-0.872678],\\\"x\\\":[0.0,-0.872678]},{\\\"mode\\\":\\\"lines\\\",\\\"line\\\":{\\\"color\\\":\\\"black\\\"},\\\"y\\\":[-0.872678,-0.539345],\\\"type\\\":\\\"scatter3d\\\",\\\"z\\\":[-0.872678,0.0],\\\"x\\\":[0.872678,1.41202]},{\\\"mode\\\":\\\"lines\\\",\\\"line\\\":{\\\"color\\\":\\\"black\\\"},\\\"y\\\":[-0.872678,-0.539345],\\\"type\\\":\\\"scatter3d\\\",\\\"z\\\":[-0.872678,0.0],\\\"x\\\":[-0.872678,-1.41202]},{\\\"mode\\\":\\\"lines\\\",\\\"line\\\":{\\\"color\\\":\\\"black\\\"},\\\"y\\\":[0.539345,-0.539345],\\\"type\\\":\\\"scatter3d\\\",\\\"z\\\":[0.0,0.0],\\\"x\\\":[1.41202,1.41202]},{\\\"mode\\\":\\\"lines\\\",\\\"line\\\":{\\\"color\\\":\\\"black\\\"},\\\"y\\\":[0.539345,-0.539345],\\\"type\\\":\\\"scatter3d\\\",\\\"z\\\":[0.0,0.0],\\\"x\\\":[-1.41202,-1.41202]},{\\\"mode\\\":\\\"lines\\\",\\\"line\\\":{\\\"color\\\":\\\"black\\\"},\\\"y\\\":[0.0,0.872678],\\\"type\\\":\\\"scatter3d\\\",\\\"z\\\":[1.41202,0.872678],\\\"x\\\":[-0.539345,0.872678]},{\\\"mode\\\":\\\"lines\\\",\\\"line\\\":{\\\"color\\\":\\\"black\\\"},\\\"y\\\":[0.0,1.41202],\\\"type\\\":\\\"scatter3d\\\",\\\"z\\\":[1.41202,0.539345],\\\"x\\\":[-0.539345,0.0]},{\\\"mode\\\":\\\"lines\\\",\\\"line\\\":{\\\"color\\\":\\\"black\\\"},\\\"y\\\":[0.0,-0.872678],\\\"type\\\":\\\"scatter3d\\\",\\\"z\\\":[1.41202,0.872678],\\\"x\\\":[-0.539345,0.872678]},{\\\"mode\\\":\\\"lines\\\",\\\"line\\\":{\\\"color\\\":\\\"black\\\"},\\\"y\\\":[0.0,-1.41202],\\\"type\\\":\\\"scatter3d\\\",\\\"z\\\":[1.41202,0.539345],\\\"x\\\":[-0.539345,0.0]},{\\\"mode\\\":\\\"lines\\\",\\\"line\\\":{\\\"color\\\":\\\"black\\\"},\\\"y\\\":[0.0,0.872678],\\\"type\\\":\\\"scatter3d\\\",\\\"z\\\":[-1.41202,-0.872678],\\\"x\\\":[-0.539345,0.872678]},{\\\"mode\\\":\\\"lines\\\",\\\"line\\\":{\\\"color\\\":\\\"black\\\"},\\\"y\\\":[0.0,1.41202],\\\"type\\\":\\\"scatter3d\\\",\\\"z\\\":[-1.41202,-0.539345],\\\"x\\\":[-0.539345,0.0]},{\\\"mode\\\":\\\"lines\\\",\\\"line\\\":{\\\"color\\\":\\\"black\\\"},\\\"y\\\":[0.0,-0.872678],\\\"type\\\":\\\"scatter3d\\\",\\\"z\\\":[-1.41202,-0.872678],\\\"x\\\":[-0.539345,0.872678]},{\\\"mode\\\":\\\"lines\\\",\\\"line\\\":{\\\"color\\\":\\\"black\\\"},\\\"y\\\":[0.0,-1.41202],\\\"type\\\":\\\"scatter3d\\\",\\\"z\\\":[-1.41202,-0.539345],\\\"x\\\":[-0.539345,0.0]},{\\\"mode\\\":\\\"lines\\\",\\\"line\\\":{\\\"color\\\":\\\"black\\\"},\\\"y\\\":[0.872678,1.41202],\\\"type\\\":\\\"scatter3d\\\",\\\"z\\\":[0.872678,-0.539345],\\\"x\\\":[0.872678,0.0]},{\\\"mode\\\":\\\"lines\\\",\\\"line\\\":{\\\"color\\\":\\\"black\\\"},\\\"y\\\":[0.872678,0.872678],\\\"type\\\":\\\"scatter3d\\\",\\\"z\\\":[0.872678,-0.872678],\\\"x\\\":[0.872678,0.872678]},{\\\"mode\\\":\\\"lines\\\",\\\"line\\\":{\\\"color\\\":\\\"black\\\"},\\\"y\\\":[0.872678,1.41202],\\\"type\\\":\\\"scatter3d\\\",\\\"z\\\":[0.872678,-0.539345],\\\"x\\\":[-0.872678,0.0]},{\\\"mode\\\":\\\"lines\\\",\\\"line\\\":{\\\"color\\\":\\\"black\\\"},\\\"y\\\":[0.872678,0.872678],\\\"type\\\":\\\"scatter3d\\\",\\\"z\\\":[0.872678,-0.872678],\\\"x\\\":[-0.872678,-0.872678]},{\\\"mode\\\":\\\"lines\\\",\\\"line\\\":{\\\"color\\\":\\\"black\\\"},\\\"y\\\":[-0.872678,-1.41202],\\\"type\\\":\\\"scatter3d\\\",\\\"z\\\":[0.872678,-0.539345],\\\"x\\\":[0.872678,0.0]},{\\\"mode\\\":\\\"lines\\\",\\\"line\\\":{\\\"color\\\":\\\"black\\\"},\\\"y\\\":[-0.872678,-0.872678],\\\"type\\\":\\\"scatter3d\\\",\\\"z\\\":[0.872678,-0.872678],\\\"x\\\":[0.872678,0.872678]},{\\\"mode\\\":\\\"lines\\\",\\\"line\\\":{\\\"color\\\":\\\"black\\\"},\\\"y\\\":[-0.872678,-1.41202],\\\"type\\\":\\\"scatter3d\\\",\\\"z\\\":[0.872678,-0.539345],\\\"x\\\":[-0.872678,0.0]},{\\\"mode\\\":\\\"lines\\\",\\\"line\\\":{\\\"color\\\":\\\"black\\\"},\\\"y\\\":[-0.872678,-0.872678],\\\"type\\\":\\\"scatter3d\\\",\\\"z\\\":[0.872678,-0.872678],\\\"x\\\":[-0.872678,-0.872678]},{\\\"mode\\\":\\\"lines\\\",\\\"line\\\":{\\\"color\\\":\\\"black\\\"},\\\"y\\\":[0.872678,-0.872678],\\\"type\\\":\\\"scatter3d\\\",\\\"z\\\":[0.872678,0.872678],\\\"x\\\":[0.872678,0.872678]},{\\\"mode\\\":\\\"lines\\\",\\\"line\\\":{\\\"color\\\":\\\"black\\\"},\\\"y\\\":[0.872678,-0.539345],\\\"type\\\":\\\"scatter3d\\\",\\\"z\\\":[0.872678,0.0],\\\"x\\\":[0.872678,1.41202]},{\\\"mode\\\":\\\"lines\\\",\\\"line\\\":{\\\"color\\\":\\\"black\\\"},\\\"y\\\":[0.872678,-0.872678],\\\"type\\\":\\\"scatter3d\\\",\\\"z\\\":[0.872678,0.872678],\\\"x\\\":[-0.872678,-0.872678]},{\\\"mode\\\":\\\"lines\\\",\\\"line\\\":{\\\"color\\\":\\\"black\\\"},\\\"y\\\":[0.872678,-0.539345],\\\"type\\\":\\\"scatter3d\\\",\\\"z\\\":[0.872678,0.0],\\\"x\\\":[-0.872678,-1.41202]},{\\\"mode\\\":\\\"lines\\\",\\\"line\\\":{\\\"color\\\":\\\"black\\\"},\\\"y\\\":[0.872678,-0.872678],\\\"type\\\":\\\"scatter3d\\\",\\\"z\\\":[-0.872678,-0.872678],\\\"x\\\":[0.872678,0.872678]},{\\\"mode\\\":\\\"lines\\\",\\\"line\\\":{\\\"color\\\":\\\"black\\\"},\\\"y\\\":[0.872678,-0.539345],\\\"type\\\":\\\"scatter3d\\\",\\\"z\\\":[-0.872678,0.0],\\\"x\\\":[0.872678,1.41202]},{\\\"mode\\\":\\\"lines\\\",\\\"line\\\":{\\\"color\\\":\\\"black\\\"},\\\"y\\\":[0.872678,-0.872678],\\\"type\\\":\\\"scatter3d\\\",\\\"z\\\":[-0.872678,-0.872678],\\\"x\\\":[-0.872678,-0.872678]},{\\\"mode\\\":\\\"lines\\\",\\\"line\\\":{\\\"color\\\":\\\"black\\\"},\\\"y\\\":[0.872678,-0.539345],\\\"type\\\":\\\"scatter3d\\\",\\\"z\\\":[-0.872678,0.0],\\\"x\\\":[-0.872678,-1.41202]},{\\\"x\\\":[0.539345,-0.539345,0.0,0.872678,-0.872678,0.0,0.872678,-0.872678,0.539345,-0.539345,0.0,0.872678,-0.872678,0.0,0.872678,-0.872678,1.41202,-1.41202,1.41202,-1.41202],\\\"mode\\\":\\\"markers\\\",\\\"textposition\\\":\\\"bottom center\\\",\\\"y\\\":[0.0,0.0,1.41202,0.872678,0.872678,-1.41202,-0.872678,-0.872678,0.0,0.0,1.41202,0.872678,0.872678,-1.41202,-0.872678,-0.872678,0.539345,0.539345,-0.539345,-0.539345],\\\"type\\\":\\\"scatter3d\\\",\\\"text\\\":[\\\"1\\\",\\\"2\\\",\\\"3\\\",\\\"4\\\",\\\"5\\\",\\\"6\\\",\\\"7\\\",\\\"8\\\",\\\"9\\\",\\\"10\\\",\\\"11\\\",\\\"12\\\",\\\"13\\\",\\\"14\\\",\\\"15\\\",\\\"16\\\",\\\"17\\\",\\\"18\\\",\\\"19\\\",\\\"20\\\"],\\\"z\\\":[1.41202,1.41202,0.539345,0.872678,0.872678,0.539345,0.872678,0.872678,-1.41202,-1.41202,-0.539345,-0.872678,-0.872678,-0.539345,-0.872678,-0.872678,0.0,0.0,0.0,0.0],\\\"marker\\\":{\\\"color\\\":\\\"#00E6FF\\\",\\\"size\\\":4}}],{\\\"showlegend\\\":false,\\\"template\\\":{\\\"layout\\\":{\\\"coloraxis\\\":{\\\"colorbar\\\":{\\\"ticks\\\":\\\"\\\",\\\"outlinewidth\\\":0}},\\\"xaxis\\\":{\\\"gridcolor\\\":\\\"white\\\",\\\"zerolinewidth\\\":2,\\\"title\\\":{\\\"standoff\\\":15},\\\"ticks\\\":\\\"\\\",\\\"zerolinecolor\\\":\\\"white\\\",\\\"automargin\\\":true,\\\"linecolor\\\":\\\"white\\\"},\\\"hovermode\\\":\\\"closest\\\",\\\"paper_bgcolor\\\":\\\"white\\\",\\\"geo\\\":{\\\"showlakes\\\":true,\\\"showland\\\":true,\\\"landcolor\\\":\\\"#E5ECF6\\\",\\\"bgcolor\\\":\\\"white\\\",\\\"subunitcolor\\\":\\\"white\\\",\\\"lakecolor\\\":\\\"white\\\"},\\\"colorscale\\\":{\\\"sequential\\\":[[0.0,\\\"#0d0887\\\"],[0.1111111111111111,\\\"#46039f\\\"],[0.2222222222222222,\\\"#7201a8\\\"],[0.3333333333333333,\\\"#9c179e\\\"],[0.4444444444444444,\\\"#bd3786\\\"],[0.5555555555555556,\\\"#d8576b\\\"],[0.6666666666666666,\\\"#ed7953\\\"],[0.7777777777777778,\\\"#fb9f3a\\\"],[0.8888888888888888,\\\"#fdca26\\\"],[1.0,\\\"#f0f921\\\"]],\\\"diverging\\\":[[0,\\\"#8e0152\\\"],[0.1,\\\"#c51b7d\\\"],[0.2,\\\"#de77ae\\\"],[0.3,\\\"#f1b6da\\\"],[0.4,\\\"#fde0ef\\\"],[0.5,\\\"#f7f7f7\\\"],[0.6,\\\"#e6f5d0\\\"],[0.7,\\\"#b8e186\\\"],[0.8,\\\"#7fbc41\\\"],[0.9,\\\"#4d9221\\\"],[1,\\\"#276419\\\"]],\\\"sequentialminus\\\":[[0.0,\\\"#0d0887\\\"],[0.1111111111111111,\\\"#46039f\\\"],[0.2222222222222222,\\\"#7201a8\\\"],[0.3333333333333333,\\\"#9c179e\\\"],[0.4444444444444444,\\\"#bd3786\\\"],[0.5555555555555556,\\\"#d8576b\\\"],[0.6666666666666666,\\\"#ed7953\\\"],[0.7777777777777778,\\\"#fb9f3a\\\"],[0.8888888888888888,\\\"#fdca26\\\"],[1.0,\\\"#f0f921\\\"]]},\\\"yaxis\\\":{\\\"gridcolor\\\":\\\"white\\\",\\\"zerolinewidth\\\":2,\\\"title\\\":{\\\"standoff\\\":15},\\\"ticks\\\":\\\"\\\",\\\"zerolinecolor\\\":\\\"white\\\",\\\"automargin\\\":true,\\\"linecolor\\\":\\\"white\\\"},\\\"shapedefaults\\\":{\\\"line\\\":{\\\"color\\\":\\\"#2a3f5f\\\"}},\\\"hoverlabel\\\":{\\\"align\\\":\\\"left\\\"},\\\"mapbox\\\":{\\\"style\\\":\\\"light\\\"},\\\"polar\\\":{\\\"angularaxis\\\":{\\\"gridcolor\\\":\\\"white\\\",\\\"ticks\\\":\\\"\\\",\\\"linecolor\\\":\\\"white\\\"},\\\"bgcolor\\\":\\\"#E5ECF6\\\",\\\"radialaxis\\\":{\\\"gridcolor\\\":\\\"white\\\",\\\"ticks\\\":\\\"\\\",\\\"linecolor\\\":\\\"white\\\"}},\\\"autotypenumbers\\\":\\\"strict\\\",\\\"font\\\":{\\\"color\\\":\\\"#2a3f5f\\\"},\\\"ternary\\\":{\\\"baxis\\\":{\\\"gridcolor\\\":\\\"white\\\",\\\"ticks\\\":\\\"\\\",\\\"linecolor\\\":\\\"white\\\"},\\\"bgcolor\\\":\\\"#E5ECF6\\\",\\\"caxis\\\":{\\\"gridcolor\\\":\\\"white\\\",\\\"ticks\\\":\\\"\\\",\\\"linecolor\\\":\\\"white\\\"},\\\"aaxis\\\":{\\\"gridcolor\\\":\\\"white\\\",\\\"ticks\\\":\\\"\\\",\\\"linecolor\\\":\\\"white\\\"}},\\\"annotationdefaults\\\":{\\\"arrowhead\\\":0,\\\"arrowwidth\\\":1,\\\"arrowcolor\\\":\\\"#2a3f5f\\\"},\\\"plot_bgcolor\\\":\\\"#E5ECF6\\\",\\\"title\\\":{\\\"x\\\":0.05},\\\"scene\\\":{\\\"xaxis\\\":{\\\"gridcolor\\\":\\\"white\\\",\\\"gridwidth\\\":2,\\\"backgroundcolor\\\":\\\"#E5ECF6\\\",\\\"ticks\\\":\\\"\\\",\\\"showbackground\\\":true,\\\"zerolinecolor\\\":\\\"white\\\",\\\"linecolor\\\":\\\"white\\\"},\\\"zaxis\\\":{\\\"gridcolor\\\":\\\"white\\\",\\\"gridwidth\\\":2,\\\"backgroundcolor\\\":\\\"#E5ECF6\\\",\\\"ticks\\\":\\\"\\\",\\\"showbackground\\\":true,\\\"zerolinecolor\\\":\\\"white\\\",\\\"linecolor\\\":\\\"white\\\"},\\\"yaxis\\\":{\\\"gridcolor\\\":\\\"white\\\",\\\"gridwidth\\\":2,\\\"backgroundcolor\\\":\\\"#E5ECF6\\\",\\\"ticks\\\":\\\"\\\",\\\"showbackground\\\":true,\\\"zerolinecolor\\\":\\\"white\\\",\\\"linecolor\\\":\\\"white\\\"}},\\\"colorway\\\":[\\\"#636efa\\\",\\\"#EF553B\\\",\\\"#00cc96\\\",\\\"#ab63fa\\\",\\\"#FFA15A\\\",\\\"#19d3f3\\\",\\\"#FF6692\\\",\\\"#B6E880\\\",\\\"#FF97FF\\\",\\\"#FECB52\\\"]},\\\"data\\\":{\\\"barpolar\\\":[{\\\"type\\\":\\\"barpolar\\\",\\\"marker\\\":{\\\"line\\\":{\\\"color\\\":\\\"#E5ECF6\\\",\\\"width\\\":0.5}}}],\\\"carpet\\\":[{\\\"aaxis\\\":{\\\"gridcolor\\\":\\\"white\\\",\\\"endlinecolor\\\":\\\"#2a3f5f\\\",\\\"minorgridcolor\\\":\\\"white\\\",\\\"startlinecolor\\\":\\\"#2a3f5f\\\",\\\"linecolor\\\":\\\"white\\\"},\\\"type\\\":\\\"carpet\\\",\\\"baxis\\\":{\\\"gridcolor\\\":\\\"white\\\",\\\"endlinecolor\\\":\\\"#2a3f5f\\\",\\\"minorgridcolor\\\":\\\"white\\\",\\\"startlinecolor\\\":\\\"#2a3f5f\\\",\\\"linecolor\\\":\\\"white\\\"}}],\\\"scatterpolar\\\":[{\\\"type\\\":\\\"scatterpolar\\\",\\\"marker\\\":{\\\"colorbar\\\":{\\\"ticks\\\":\\\"\\\",\\\"outlinewidth\\\":0}}}],\\\"parcoords\\\":[{\\\"line\\\":{\\\"colorbar\\\":{\\\"ticks\\\":\\\"\\\",\\\"outlinewidth\\\":0}},\\\"type\\\":\\\"parcoords\\\"}],\\\"scatter\\\":[{\\\"type\\\":\\\"scatter\\\",\\\"marker\\\":{\\\"colorbar\\\":{\\\"ticks\\\":\\\"\\\",\\\"outlinewidth\\\":0}}}],\\\"histogram2dcontour\\\":[{\\\"colorbar\\\":{\\\"ticks\\\":\\\"\\\",\\\"outlinewidth\\\":0},\\\"type\\\":\\\"histogram2dcontour\\\",\\\"colorscale\\\":[[0.0,\\\"#0d0887\\\"],[0.1111111111111111,\\\"#46039f\\\"],[0.2222222222222222,\\\"#7201a8\\\"],[0.3333333333333333,\\\"#9c179e\\\"],[0.4444444444444444,\\\"#bd3786\\\"],[0.5555555555555556,\\\"#d8576b\\\"],[0.6666666666666666,\\\"#ed7953\\\"],[0.7777777777777778,\\\"#fb9f3a\\\"],[0.8888888888888888,\\\"#fdca26\\\"],[1.0,\\\"#f0f921\\\"]]}],\\\"contour\\\":[{\\\"colorbar\\\":{\\\"ticks\\\":\\\"\\\",\\\"outlinewidth\\\":0},\\\"type\\\":\\\"contour\\\",\\\"colorscale\\\":[[0.0,\\\"#0d0887\\\"],[0.1111111111111111,\\\"#46039f\\\"],[0.2222222222222222,\\\"#7201a8\\\"],[0.3333333333333333,\\\"#9c179e\\\"],[0.4444444444444444,\\\"#bd3786\\\"],[0.5555555555555556,\\\"#d8576b\\\"],[0.6666666666666666,\\\"#ed7953\\\"],[0.7777777777777778,\\\"#fb9f3a\\\"],[0.8888888888888888,\\\"#fdca26\\\"],[1.0,\\\"#f0f921\\\"]]}],\\\"scattercarpet\\\":[{\\\"type\\\":\\\"scattercarpet\\\",\\\"marker\\\":{\\\"colorbar\\\":{\\\"ticks\\\":\\\"\\\",\\\"outlinewidth\\\":0}}}],\\\"mesh3d\\\":[{\\\"colorbar\\\":{\\\"ticks\\\":\\\"\\\",\\\"outlinewidth\\\":0},\\\"type\\\":\\\"mesh3d\\\"}],\\\"surface\\\":[{\\\"colorbar\\\":{\\\"ticks\\\":\\\"\\\",\\\"outlinewidth\\\":0},\\\"type\\\":\\\"surface\\\",\\\"colorscale\\\":[[0.0,\\\"#0d0887\\\"],[0.1111111111111111,\\\"#46039f\\\"],[0.2222222222222222,\\\"#7201a8\\\"],[0.3333333333333333,\\\"#9c179e\\\"],[0.4444444444444444,\\\"#bd3786\\\"],[0.5555555555555556,\\\"#d8576b\\\"],[0.6666666666666666,\\\"#ed7953\\\"],[0.7777777777777778,\\\"#fb9f3a\\\"],[0.8888888888888888,\\\"#fdca26\\\"],[1.0,\\\"#f0f921\\\"]]}],\\\"scattermapbox\\\":[{\\\"type\\\":\\\"scattermapbox\\\",\\\"marker\\\":{\\\"colorbar\\\":{\\\"ticks\\\":\\\"\\\",\\\"outlinewidth\\\":0}}}],\\\"scattergeo\\\":[{\\\"type\\\":\\\"scattergeo\\\",\\\"marker\\\":{\\\"colorbar\\\":{\\\"ticks\\\":\\\"\\\",\\\"outlinewidth\\\":0}}}],\\\"histogram\\\":[{\\\"type\\\":\\\"histogram\\\",\\\"marker\\\":{\\\"colorbar\\\":{\\\"ticks\\\":\\\"\\\",\\\"outlinewidth\\\":0}}}],\\\"pie\\\":[{\\\"type\\\":\\\"pie\\\",\\\"automargin\\\":true}],\\\"choropleth\\\":[{\\\"colorbar\\\":{\\\"ticks\\\":\\\"\\\",\\\"outlinewidth\\\":0},\\\"type\\\":\\\"choropleth\\\"}],\\\"heatmapgl\\\":[{\\\"colorbar\\\":{\\\"ticks\\\":\\\"\\\",\\\"outlinewidth\\\":0},\\\"type\\\":\\\"heatmapgl\\\",\\\"colorscale\\\":[[0.0,\\\"#0d0887\\\"],[0.1111111111111111,\\\"#46039f\\\"],[0.2222222222222222,\\\"#7201a8\\\"],[0.3333333333333333,\\\"#9c179e\\\"],[0.4444444444444444,\\\"#bd3786\\\"],[0.5555555555555556,\\\"#d8576b\\\"],[0.6666666666666666,\\\"#ed7953\\\"],[0.7777777777777778,\\\"#fb9f3a\\\"],[0.8888888888888888,\\\"#fdca26\\\"],[1.0,\\\"#f0f921\\\"]]}],\\\"bar\\\":[{\\\"type\\\":\\\"bar\\\",\\\"error_y\\\":{\\\"color\\\":\\\"#2a3f5f\\\"},\\\"error_x\\\":{\\\"color\\\":\\\"#2a3f5f\\\"},\\\"marker\\\":{\\\"line\\\":{\\\"color\\\":\\\"#E5ECF6\\\",\\\"width\\\":0.5}}}],\\\"heatmap\\\":[{\\\"colorbar\\\":{\\\"ticks\\\":\\\"\\\",\\\"outlinewidth\\\":0},\\\"type\\\":\\\"heatmap\\\",\\\"colorscale\\\":[[0.0,\\\"#0d0887\\\"],[0.1111111111111111,\\\"#46039f\\\"],[0.2222222222222222,\\\"#7201a8\\\"],[0.3333333333333333,\\\"#9c179e\\\"],[0.4444444444444444,\\\"#bd3786\\\"],[0.5555555555555556,\\\"#d8576b\\\"],[0.6666666666666666,\\\"#ed7953\\\"],[0.7777777777777778,\\\"#fb9f3a\\\"],[0.8888888888888888,\\\"#fdca26\\\"],[1.0,\\\"#f0f921\\\"]]}],\\\"contourcarpet\\\":[{\\\"colorbar\\\":{\\\"ticks\\\":\\\"\\\",\\\"outlinewidth\\\":0},\\\"type\\\":\\\"contourcarpet\\\"}],\\\"table\\\":[{\\\"type\\\":\\\"table\\\",\\\"header\\\":{\\\"line\\\":{\\\"color\\\":\\\"white\\\"},\\\"fill\\\":{\\\"color\\\":\\\"#C8D4E3\\\"}},\\\"cells\\\":{\\\"line\\\":{\\\"color\\\":\\\"white\\\"},\\\"fill\\\":{\\\"color\\\":\\\"#EBF0F8\\\"}}}],\\\"scatter3d\\\":[{\\\"line\\\":{\\\"colorbar\\\":{\\\"ticks\\\":\\\"\\\",\\\"outlinewidth\\\":0}},\\\"type\\\":\\\"scatter3d\\\",\\\"marker\\\":{\\\"colorbar\\\":{\\\"ticks\\\":\\\"\\\",\\\"outlinewidth\\\":0}}}],\\\"scattergl\\\":[{\\\"type\\\":\\\"scattergl\\\",\\\"marker\\\":{\\\"colorbar\\\":{\\\"ticks\\\":\\\"\\\",\\\"outlinewidth\\\":0}}}],\\\"histogram2d\\\":[{\\\"colorbar\\\":{\\\"ticks\\\":\\\"\\\",\\\"outlinewidth\\\":0},\\\"type\\\":\\\"histogram2d\\\",\\\"colorscale\\\":[[0.0,\\\"#0d0887\\\"],[0.1111111111111111,\\\"#46039f\\\"],[0.2222222222222222,\\\"#7201a8\\\"],[0.3333333333333333,\\\"#9c179e\\\"],[0.4444444444444444,\\\"#bd3786\\\"],[0.5555555555555556,\\\"#d8576b\\\"],[0.6666666666666666,\\\"#ed7953\\\"],[0.7777777777777778,\\\"#fb9f3a\\\"],[0.8888888888888888,\\\"#fdca26\\\"],[1.0,\\\"#f0f921\\\"]]}],\\\"scatterternary\\\":[{\\\"type\\\":\\\"scatterternary\\\",\\\"marker\\\":{\\\"colorbar\\\":{\\\"ticks\\\":\\\"\\\",\\\"outlinewidth\\\":0}}}],\\\"scatterpolargl\\\":[{\\\"type\\\":\\\"scatterpolargl\\\",\\\"marker\\\":{\\\"colorbar\\\":{\\\"ticks\\\":\\\"\\\",\\\"outlinewidth\\\":0}}}]}},\\\"margin\\\":{\\\"l\\\":50,\\\"b\\\":50,\\\"r\\\":50,\\\"t\\\":60}},{\\\"showLink\\\":false,\\\"editable\\\":false,\\\"responsive\\\":true,\\\"staticPlot\\\":false,\\\"scrollZoom\\\":true}); gd.on(\\\"plotly_hover\\\",(function (data){var filtered_data=WebIO.PlotlyCommands.filterEventData(gd,data,\\\"hover\\\"); return !(filtered_data.isnil) ? (WebIO.setval({\\\"name\\\":\\\"hover\\\",\\\"scope\\\":\\\"12244663474154455079\\\",\\\"id\\\":\\\"8699612707062559116\\\",\\\"type\\\":\\\"observable\\\"},filtered_data.out)) : undefined})); gd.on(\\\"plotly_unhover\\\",(function (){return WebIO.setval({\\\"name\\\":\\\"hover\\\",\\\"scope\\\":\\\"12244663474154455079\\\",\\\"id\\\":\\\"8699612707062559116\\\",\\\"type\\\":\\\"observable\\\"},{})})); gd.on(\\\"plotly_selected\\\",(function (data){var filtered_data=WebIO.PlotlyCommands.filterEventData(gd,data,\\\"selected\\\"); return !(filtered_data.isnil) ? (WebIO.setval({\\\"name\\\":\\\"selected\\\",\\\"scope\\\":\\\"12244663474154455079\\\",\\\"id\\\":\\\"15195721079933611982\\\",\\\"type\\\":\\\"observable\\\"},filtered_data.out)) : undefined})); gd.on(\\\"plotly_deselect\\\",(function (){return WebIO.setval({\\\"name\\\":\\\"selected\\\",\\\"scope\\\":\\\"12244663474154455079\\\",\\\"id\\\":\\\"15195721079933611982\\\",\\\"type\\\":\\\"observable\\\"},{})})); gd.on(\\\"plotly_relayout\\\",(function (data){var filtered_data=WebIO.PlotlyCommands.filterEventData(gd,data,\\\"relayout\\\"); return !(filtered_data.isnil) ? (WebIO.setval({\\\"name\\\":\\\"relayout\\\",\\\"scope\\\":\\\"12244663474154455079\\\",\\\"id\\\":\\\"18006569796126110313\\\",\\\"type\\\":\\\"observable\\\"},filtered_data.out)) : undefined})); return gd.on(\\\"plotly_click\\\",(function (data){var filtered_data=WebIO.PlotlyCommands.filterEventData(gd,data,\\\"click\\\"); return !(filtered_data.isnil) ? (WebIO.setval({\\\"name\\\":\\\"click\\\",\\\"scope\\\":\\\"12244663474154455079\\\",\\\"id\\\":\\\"8666919800374936259\\\",\\\"type\\\":\\\"observable\\\"},filtered_data.out)) : undefined}))}));\\n    (WebIO.importBlock({\\\"data\\\":[{\\\"name\\\":\\\"Plotly\\\",\\\"type\\\":\\\"js\\\",\\\"url\\\":\\\"\\/assetserver\\/d18d62e3d860f95bdd778d5ce0d98356c8e8cd70-plotly.min.js\\\"},{\\\"name\\\":null,\\\"type\\\":\\\"js\\\",\\\"url\\\":\\\"\\/assetserver\\/3ce237707c6799d71e862d9d30b4d1f68d73bd38-plotly_webio.bundle.js\\\"}],\\\"type\\\":\\\"async_block\\\"})).then((imports) => handler.apply(this, imports));\\n}\\n\"],\"observables\":{\"_toImage\":{\"sync\":false,\"id\":\"8236464612102658314\",\"value\":{}},\"hover\":{\"sync\":false,\"id\":\"8699612707062559116\",\"value\":{}},\"selected\":{\"sync\":false,\"id\":\"15195721079933611982\",\"value\":{}},\"__gd_contents\":{\"sync\":false,\"id\":\"14586824109396954115\",\"value\":{}},\"click\":{\"sync\":false,\"id\":\"8666919800374936259\",\"value\":{}},\"image\":{\"sync\":true,\"id\":\"15013779487731933954\",\"value\":\"\"},\"__get_gd_contents\":{\"sync\":false,\"id\":\"12774107215378660821\",\"value\":\"\"},\"_downloadImage\":{\"sync\":false,\"id\":\"17637818517533556222\",\"value\":{}},\"relayout\":{\"sync\":false,\"id\":\"18006569796126110313\",\"value\":{}},\"_commands\":{\"sync\":false,\"id\":\"14418124977264313332\",\"value\":[]}}},\"children\":[{\"props\":{\"id\":\"plot-10590347-3c70-43c2-a2c2-7b0a8cfc9aba\"},\"nodeType\":\"DOM\",\"type\":\"node\",\"instanceArgs\":{\"namespace\":\"html\",\"tag\":\"div\"},\"children\":[]}]},\n",
       "        window,\n",
       "    );\n",
       "    })()\n",
       "    </script>\n",
       "</div>\n"
      ],
      "text/plain": [
       "data: [\n",
       "  \"mesh3d with fields facecolor, i, j, k, opacity, type, x, y, and z\",\n",
       "  \"scatter3d with fields line, mode, type, x, y, and z\",\n",
       "  \"scatter3d with fields line, mode, type, x, y, and z\",\n",
       "  \"scatter3d with fields line, mode, type, x, y, and z\",\n",
       "  \"scatter3d with fields line, mode, type, x, y, and z\",\n",
       "  \"scatter3d with fields line, mode, type, x, y, and z\",\n",
       "  \"scatter3d with fields line, mode, type, x, y, and z\",\n",
       "  \"scatter3d with fields line, mode, type, x, y, and z\",\n",
       "  \"scatter3d with fields line, mode, type, x, y, and z\",\n",
       "  \"scatter3d with fields line, mode, type, x, y, and z\",\n",
       "  \"scatter3d with fields line, mode, type, x, y, and z\",\n",
       "  \"scatter3d with fields line, mode, type, x, y, and z\",\n",
       "  \"scatter3d with fields line, mode, type, x, y, and z\",\n",
       "  \"scatter3d with fields line, mode, type, x, y, and z\",\n",
       "  \"scatter3d with fields line, mode, type, x, y, and z\",\n",
       "  \"scatter3d with fields line, mode, type, x, y, and z\",\n",
       "  \"scatter3d with fields line, mode, type, x, y, and z\",\n",
       "  \"scatter3d with fields line, mode, type, x, y, and z\",\n",
       "  \"scatter3d with fields line, mode, type, x, y, and z\",\n",
       "  \"scatter3d with fields line, mode, type, x, y, and z\",\n",
       "  \"scatter3d with fields line, mode, type, x, y, and z\",\n",
       "  \"scatter3d with fields line, mode, type, x, y, and z\",\n",
       "  \"scatter3d with fields line, mode, type, x, y, and z\",\n",
       "  \"scatter3d with fields line, mode, type, x, y, and z\",\n",
       "  \"scatter3d with fields line, mode, type, x, y, and z\",\n",
       "  \"scatter3d with fields line, mode, type, x, y, and z\",\n",
       "  \"scatter3d with fields line, mode, type, x, y, and z\",\n",
       "  \"scatter3d with fields line, mode, type, x, y, and z\",\n",
       "  \"scatter3d with fields line, mode, type, x, y, and z\",\n",
       "  \"scatter3d with fields line, mode, type, x, y, and z\",\n",
       "  \"scatter3d with fields line, mode, type, x, y, and z\",\n",
       "  \"scatter3d with fields line, mode, type, x, y, and z\",\n",
       "  \"scatter3d with fields line, mode, type, x, y, and z\",\n",
       "  \"scatter3d with fields line, mode, type, x, y, and z\",\n",
       "  \"scatter3d with fields line, mode, type, x, y, and z\",\n",
       "  \"scatter3d with fields line, mode, type, x, y, and z\",\n",
       "  \"scatter3d with fields line, mode, type, x, y, and z\",\n",
       "  \"scatter3d with fields line, mode, type, x, y, and z\",\n",
       "  \"scatter3d with fields line, mode, type, x, y, and z\",\n",
       "  \"scatter3d with fields line, mode, type, x, y, and z\",\n",
       "  \"scatter3d with fields line, mode, type, x, y, and z\",\n",
       "  \"scatter3d with fields line, mode, type, x, y, and z\",\n",
       "  \"scatter3d with fields line, mode, type, x, y, and z\",\n",
       "  \"scatter3d with fields line, mode, type, x, y, and z\",\n",
       "  \"scatter3d with fields line, mode, type, x, y, and z\",\n",
       "  \"scatter3d with fields line, mode, type, x, y, and z\",\n",
       "  \"scatter3d with fields line, mode, type, x, y, and z\",\n",
       "  \"scatter3d with fields line, mode, type, x, y, and z\",\n",
       "  \"scatter3d with fields line, mode, type, x, y, and z\",\n",
       "  \"scatter3d with fields line, mode, type, x, y, and z\",\n",
       "  \"scatter3d with fields line, mode, type, x, y, and z\",\n",
       "  \"scatter3d with fields line, mode, type, x, y, and z\",\n",
       "  \"scatter3d with fields line, mode, type, x, y, and z\",\n",
       "  \"scatter3d with fields line, mode, type, x, y, and z\",\n",
       "  \"scatter3d with fields line, mode, type, x, y, and z\",\n",
       "  \"scatter3d with fields marker, mode, text, textposition, type, x, y, and z\"\n",
       "]\n",
       "\n",
       "layout: \"layout with fields margin, showlegend, and template\"\n",
       "\n"
      ]
     },
     "metadata": {},
     "output_type": "display_data"
    }
   ],
   "source": [
    "poly = triangulatePolyhedron(Dodecahedron)\n",
    "\n",
    "display(poly.edges[[!isturnable(e, poly) for e in poly.edges]])\n",
    "\n",
    "plotPolyhedron(triangulatePolyhedron(Dodecahedron))"
   ]
  },
  {
   "cell_type": "code",
   "execution_count": 3,
   "metadata": {},
   "outputs": [
    {
     "data": {
      "application/vnd.plotly.v1+json": {
       "config": {
        "editable": false,
        "responsive": true,
        "scrollZoom": true,
        "showLink": false,
        "staticPlot": false
       },
       "data": [
        {
         "marker": {
          "color": "#00D3FF",
          "size": 4
         },
         "mode": "markers",
         "text": [
          "1",
          "2",
          "3",
          "4",
          "5",
          "6",
          "7",
          "8",
          "9",
          "10",
          "11",
          "12",
          "13",
          "14",
          "15",
          "16",
          "17"
         ],
         "textposition": "bottom center",
         "type": "scatter3d",
         "x": [
          -0.539345,
          0,
          0.872678,
          -0.872678,
          0,
          0.872678,
          -0.872678,
          -0.539345,
          0,
          0.872678,
          -0.872678,
          0,
          0.872678,
          -0.872678,
          -1.41202,
          1.41202,
          -1.41202
         ],
         "y": [
          0,
          1.41202,
          0.872678,
          0.872678,
          -1.41202,
          -0.872678,
          -0.872678,
          0,
          1.41202,
          0.872678,
          0.872678,
          -1.41202,
          -0.872678,
          -0.872678,
          0.539345,
          -0.539345,
          -0.539345
         ],
         "z": [
          1.41202,
          0.539345,
          0.872678,
          0.872678,
          0.539345,
          0.872678,
          0.872678,
          -1.41202,
          -0.539345,
          -0.872678,
          -0.872678,
          -0.539345,
          -0.872678,
          -0.872678,
          0,
          0,
          0
         ]
        },
        {
         "line": {
          "color": "black"
         },
         "mode": "lines",
         "type": "scatter3d",
         "x": [
          -0.872678,
          -1.41202
         ],
         "y": [
          0.872678,
          -0.539345
         ],
         "z": [
          -0.872678,
          0
         ]
        },
        {
         "line": {
          "color": "black"
         },
         "mode": "lines",
         "type": "scatter3d",
         "x": [
          -0.872678,
          -0.872678
         ],
         "y": [
          0.872678,
          -0.872678
         ],
         "z": [
          -0.872678,
          -0.872678
         ]
        },
        {
         "line": {
          "color": "black"
         },
         "mode": "lines",
         "type": "scatter3d",
         "x": [
          0.872678,
          1.41202
         ],
         "y": [
          0.872678,
          -0.539345
         ],
         "z": [
          -0.872678,
          0
         ]
        },
        {
         "line": {
          "color": "black"
         },
         "mode": "lines",
         "type": "scatter3d",
         "x": [
          0.872678,
          0.872678
         ],
         "y": [
          0.872678,
          -0.872678
         ],
         "z": [
          -0.872678,
          -0.872678
         ]
        },
        {
         "line": {
          "color": "black"
         },
         "mode": "lines",
         "type": "scatter3d",
         "x": [
          -0.872678,
          -1.41202
         ],
         "y": [
          0.872678,
          -0.539345
         ],
         "z": [
          0.872678,
          0
         ]
        },
        {
         "line": {
          "color": "black"
         },
         "mode": "lines",
         "type": "scatter3d",
         "x": [
          -0.872678,
          -0.872678
         ],
         "y": [
          0.872678,
          -0.872678
         ],
         "z": [
          0.872678,
          0.872678
         ]
        },
        {
         "line": {
          "color": "black"
         },
         "mode": "lines",
         "type": "scatter3d",
         "x": [
          0.872678,
          1.41202
         ],
         "y": [
          0.872678,
          -0.539345
         ],
         "z": [
          0.872678,
          0
         ]
        },
        {
         "line": {
          "color": "black"
         },
         "mode": "lines",
         "type": "scatter3d",
         "x": [
          0.872678,
          0.872678
         ],
         "y": [
          0.872678,
          -0.872678
         ],
         "z": [
          0.872678,
          0.872678
         ]
        },
        {
         "line": {
          "color": "black"
         },
         "mode": "lines",
         "type": "scatter3d",
         "x": [
          -0.872678,
          -0.872678
         ],
         "y": [
          -0.872678,
          -0.872678
         ],
         "z": [
          0.872678,
          -0.872678
         ]
        },
        {
         "line": {
          "color": "black"
         },
         "mode": "lines",
         "type": "scatter3d",
         "x": [
          -0.872678,
          0
         ],
         "y": [
          -0.872678,
          -1.41202
         ],
         "z": [
          0.872678,
          -0.539345
         ]
        },
        {
         "line": {
          "color": "black"
         },
         "mode": "lines",
         "type": "scatter3d",
         "x": [
          0.872678,
          0.872678
         ],
         "y": [
          -0.872678,
          -0.872678
         ],
         "z": [
          0.872678,
          -0.872678
         ]
        },
        {
         "line": {
          "color": "black"
         },
         "mode": "lines",
         "type": "scatter3d",
         "x": [
          0.872678,
          0
         ],
         "y": [
          -0.872678,
          -1.41202
         ],
         "z": [
          0.872678,
          -0.539345
         ]
        },
        {
         "line": {
          "color": "black"
         },
         "mode": "lines",
         "type": "scatter3d",
         "x": [
          -0.872678,
          -0.872678
         ],
         "y": [
          0.872678,
          0.872678
         ],
         "z": [
          0.872678,
          -0.872678
         ]
        },
        {
         "line": {
          "color": "black"
         },
         "mode": "lines",
         "type": "scatter3d",
         "x": [
          -0.872678,
          0
         ],
         "y": [
          0.872678,
          1.41202
         ],
         "z": [
          0.872678,
          -0.539345
         ]
        },
        {
         "line": {
          "color": "black"
         },
         "mode": "lines",
         "type": "scatter3d",
         "x": [
          0.872678,
          0.872678
         ],
         "y": [
          0.872678,
          0.872678
         ],
         "z": [
          0.872678,
          -0.872678
         ]
        },
        {
         "line": {
          "color": "black"
         },
         "mode": "lines",
         "type": "scatter3d",
         "x": [
          0.872678,
          0
         ],
         "y": [
          0.872678,
          1.41202
         ],
         "z": [
          0.872678,
          -0.539345
         ]
        },
        {
         "line": {
          "color": "black"
         },
         "mode": "lines",
         "type": "scatter3d",
         "x": [
          -0.539345,
          0
         ],
         "y": [
          0,
          -1.41202
         ],
         "z": [
          -1.41202,
          -0.539345
         ]
        },
        {
         "line": {
          "color": "black"
         },
         "mode": "lines",
         "type": "scatter3d",
         "x": [
          -0.539345,
          0.872678
         ],
         "y": [
          0,
          -0.872678
         ],
         "z": [
          -1.41202,
          -0.872678
         ]
        },
        {
         "line": {
          "color": "black"
         },
         "mode": "lines",
         "type": "scatter3d",
         "x": [
          -0.539345,
          0
         ],
         "y": [
          0,
          1.41202
         ],
         "z": [
          -1.41202,
          -0.539345
         ]
        },
        {
         "line": {
          "color": "black"
         },
         "mode": "lines",
         "type": "scatter3d",
         "x": [
          -0.539345,
          0.872678
         ],
         "y": [
          0,
          0.872678
         ],
         "z": [
          -1.41202,
          -0.872678
         ]
        },
        {
         "line": {
          "color": "black"
         },
         "mode": "lines",
         "type": "scatter3d",
         "x": [
          -0.539345,
          0
         ],
         "y": [
          0,
          -1.41202
         ],
         "z": [
          1.41202,
          0.539345
         ]
        },
        {
         "line": {
          "color": "black"
         },
         "mode": "lines",
         "type": "scatter3d",
         "x": [
          -0.539345,
          0.872678
         ],
         "y": [
          0,
          -0.872678
         ],
         "z": [
          1.41202,
          0.872678
         ]
        },
        {
         "line": {
          "color": "black"
         },
         "mode": "lines",
         "type": "scatter3d",
         "x": [
          -0.539345,
          0
         ],
         "y": [
          0,
          1.41202
         ],
         "z": [
          1.41202,
          0.539345
         ]
        },
        {
         "line": {
          "color": "black"
         },
         "mode": "lines",
         "type": "scatter3d",
         "x": [
          -0.539345,
          0.872678
         ],
         "y": [
          0,
          0.872678
         ],
         "z": [
          1.41202,
          0.872678
         ]
        },
        {
         "line": {
          "color": "black"
         },
         "mode": "lines",
         "type": "scatter3d",
         "x": [
          -1.41202,
          -1.41202
         ],
         "y": [
          0.539345,
          -0.539345
         ],
         "z": [
          0,
          0
         ]
        },
        {
         "line": {
          "color": "black"
         },
         "mode": "lines",
         "type": "scatter3d",
         "x": [
          -0.872678,
          -1.41202
         ],
         "y": [
          -0.872678,
          -0.539345
         ],
         "z": [
          -0.872678,
          0
         ]
        },
        {
         "line": {
          "color": "black"
         },
         "mode": "lines",
         "type": "scatter3d",
         "x": [
          0.872678,
          1.41202
         ],
         "y": [
          -0.872678,
          -0.539345
         ],
         "z": [
          -0.872678,
          0
         ]
        },
        {
         "line": {
          "color": "black"
         },
         "mode": "lines",
         "type": "scatter3d",
         "x": [
          0,
          -0.872678
         ],
         "y": [
          -1.41202,
          -0.872678
         ],
         "z": [
          -0.539345,
          -0.872678
         ]
        },
        {
         "line": {
          "color": "black"
         },
         "mode": "lines",
         "type": "scatter3d",
         "x": [
          0,
          0.872678
         ],
         "y": [
          -1.41202,
          -0.872678
         ],
         "z": [
          -0.539345,
          -0.872678
         ]
        },
        {
         "line": {
          "color": "black"
         },
         "mode": "lines",
         "type": "scatter3d",
         "x": [
          -0.872678,
          -1.41202
         ],
         "y": [
          0.872678,
          0.539345
         ],
         "z": [
          -0.872678,
          0
         ]
        },
        {
         "line": {
          "color": "black"
         },
         "mode": "lines",
         "type": "scatter3d",
         "x": [
          0,
          -0.872678
         ],
         "y": [
          1.41202,
          0.872678
         ],
         "z": [
          -0.539345,
          -0.872678
         ]
        },
        {
         "line": {
          "color": "black"
         },
         "mode": "lines",
         "type": "scatter3d",
         "x": [
          0,
          0.872678
         ],
         "y": [
          1.41202,
          0.872678
         ],
         "z": [
          -0.539345,
          -0.872678
         ]
        },
        {
         "line": {
          "color": "black"
         },
         "mode": "lines",
         "type": "scatter3d",
         "x": [
          -0.539345,
          -0.872678
         ],
         "y": [
          0,
          -0.872678
         ],
         "z": [
          -1.41202,
          -0.872678
         ]
        },
        {
         "line": {
          "color": "black"
         },
         "mode": "lines",
         "type": "scatter3d",
         "x": [
          -0.539345,
          -0.872678
         ],
         "y": [
          0,
          0.872678
         ],
         "z": [
          -1.41202,
          -0.872678
         ]
        },
        {
         "line": {
          "color": "black"
         },
         "mode": "lines",
         "type": "scatter3d",
         "x": [
          -0.872678,
          -1.41202
         ],
         "y": [
          -0.872678,
          -0.539345
         ],
         "z": [
          0.872678,
          0
         ]
        },
        {
         "line": {
          "color": "black"
         },
         "mode": "lines",
         "type": "scatter3d",
         "x": [
          0.872678,
          1.41202
         ],
         "y": [
          -0.872678,
          -0.539345
         ],
         "z": [
          0.872678,
          0
         ]
        },
        {
         "line": {
          "color": "black"
         },
         "mode": "lines",
         "type": "scatter3d",
         "x": [
          0,
          0
         ],
         "y": [
          -1.41202,
          -1.41202
         ],
         "z": [
          0.539345,
          -0.539345
         ]
        },
        {
         "line": {
          "color": "black"
         },
         "mode": "lines",
         "type": "scatter3d",
         "x": [
          0,
          -0.872678
         ],
         "y": [
          -1.41202,
          -0.872678
         ],
         "z": [
          0.539345,
          0.872678
         ]
        },
        {
         "line": {
          "color": "black"
         },
         "mode": "lines",
         "type": "scatter3d",
         "x": [
          0,
          0.872678
         ],
         "y": [
          -1.41202,
          -0.872678
         ],
         "z": [
          0.539345,
          0.872678
         ]
        },
        {
         "line": {
          "color": "black"
         },
         "mode": "lines",
         "type": "scatter3d",
         "x": [
          -0.872678,
          -1.41202
         ],
         "y": [
          0.872678,
          0.539345
         ],
         "z": [
          0.872678,
          0
         ]
        },
        {
         "line": {
          "color": "black"
         },
         "mode": "lines",
         "type": "scatter3d",
         "x": [
          0,
          0
         ],
         "y": [
          1.41202,
          1.41202
         ],
         "z": [
          0.539345,
          -0.539345
         ]
        },
        {
         "line": {
          "color": "black"
         },
         "mode": "lines",
         "type": "scatter3d",
         "x": [
          0,
          -0.872678
         ],
         "y": [
          1.41202,
          0.872678
         ],
         "z": [
          0.539345,
          0.872678
         ]
        },
        {
         "line": {
          "color": "black"
         },
         "mode": "lines",
         "type": "scatter3d",
         "x": [
          0,
          0.872678
         ],
         "y": [
          1.41202,
          0.872678
         ],
         "z": [
          0.539345,
          0.872678
         ]
        },
        {
         "line": {
          "color": "black"
         },
         "mode": "lines",
         "type": "scatter3d",
         "x": [
          -0.539345,
          -0.872678
         ],
         "y": [
          0,
          -0.872678
         ],
         "z": [
          1.41202,
          0.872678
         ]
        },
        {
         "line": {
          "color": "black"
         },
         "mode": "lines",
         "type": "scatter3d",
         "x": [
          -0.539345,
          -0.872678
         ],
         "y": [
          0,
          0.872678
         ],
         "z": [
          1.41202,
          0.872678
         ]
        },
        {
         "facecolor": [
          "#00D3FF",
          "#00D3FF",
          "#00D3FF",
          "#00D3FF",
          "#00D3FF",
          "#00D3FF",
          "#00D3FF",
          "#00D3FF",
          "#00D3FF",
          "#00D3FF",
          "#00D3FF",
          "#00D3FF",
          "#00D3FF",
          "#00D3FF",
          "#00D3FF",
          "#00D3FF",
          "#00D3FF",
          "#00D3FF",
          "#00D3FF",
          "#00D3FF",
          "#00D3FF",
          "#00D3FF",
          "#00D3FF",
          "#00D3FF",
          "#00D3FF",
          "#00D3FF",
          "#00D3FF",
          "#00D3FF",
          "#00D3FF",
          "#00D3FF"
         ],
         "i": [
          0,
          1,
          0,
          4,
          7,
          8,
          7,
          11,
          2,
          2,
          3,
          3,
          10,
          5,
          5,
          12,
          6,
          6,
          13,
          2,
          3,
          3,
          16,
          9,
          10,
          10,
          16,
          0,
          7,
          2
         ],
         "j": [
          2,
          3,
          5,
          6,
          9,
          10,
          12,
          13,
          1,
          8,
          1,
          8,
          14,
          4,
          11,
          15,
          4,
          11,
          16,
          5,
          0,
          6,
          14,
          12,
          7,
          13,
          14,
          2,
          9,
          9
         ],
         "k": [
          1,
          0,
          4,
          0,
          8,
          7,
          11,
          7,
          8,
          9,
          8,
          10,
          3,
          11,
          12,
          5,
          11,
          13,
          6,
          15,
          6,
          16,
          3,
          15,
          13,
          16,
          10,
          5,
          12,
          15
         ],
         "opacity": 0.6,
         "type": "mesh3d",
         "x": [
          -0.539345,
          0,
          0.872678,
          -0.872678,
          0,
          0.872678,
          -0.872678,
          -0.539345,
          0,
          0.872678,
          -0.872678,
          0,
          0.872678,
          -0.872678,
          -1.41202,
          1.41202,
          -1.41202
         ],
         "y": [
          0,
          1.41202,
          0.872678,
          0.872678,
          -1.41202,
          -0.872678,
          -0.872678,
          0,
          1.41202,
          0.872678,
          0.872678,
          -1.41202,
          -0.872678,
          -0.872678,
          0.539345,
          -0.539345,
          -0.539345
         ],
         "z": [
          1.41202,
          0.539345,
          0.872678,
          0.872678,
          0.539345,
          0.872678,
          0.872678,
          -1.41202,
          -0.539345,
          -0.872678,
          -0.872678,
          -0.539345,
          -0.872678,
          -0.872678,
          0,
          0,
          0
         ]
        },
        {
         "marker": {
          "color": "#FF9BFF",
          "size": 4
         },
         "mode": "markers",
         "text": [
          "1",
          "2",
          "3",
          "4"
         ],
         "textposition": "bottom center",
         "type": "scatter3d",
         "x": [
          0.872678,
          0.872678,
          1.41202,
          1.41202
         ],
         "y": [
          0.872678,
          0.872678,
          -0.539345,
          0.539345
         ],
         "z": [
          0.872678,
          -0.872678,
          0,
          0
         ]
        },
        {
         "line": {
          "color": "black"
         },
         "mode": "lines",
         "type": "scatter3d",
         "x": [
          1.41202,
          1.41202
         ],
         "y": [
          -0.539345,
          0.539345
         ],
         "z": [
          0,
          0
         ]
        },
        {
         "line": {
          "color": "black"
         },
         "mode": "lines",
         "type": "scatter3d",
         "x": [
          0.872678,
          1.41202
         ],
         "y": [
          0.872678,
          0.539345
         ],
         "z": [
          -0.872678,
          0
         ]
        },
        {
         "line": {
          "color": "black"
         },
         "mode": "lines",
         "type": "scatter3d",
         "x": [
          0.872678,
          1.41202
         ],
         "y": [
          0.872678,
          -0.539345
         ],
         "z": [
          -0.872678,
          0
         ]
        },
        {
         "line": {
          "color": "black"
         },
         "mode": "lines",
         "type": "scatter3d",
         "x": [
          0.872678,
          1.41202
         ],
         "y": [
          0.872678,
          0.539345
         ],
         "z": [
          0.872678,
          0
         ]
        },
        {
         "line": {
          "color": "black"
         },
         "mode": "lines",
         "type": "scatter3d",
         "x": [
          0.872678,
          1.41202
         ],
         "y": [
          0.872678,
          -0.539345
         ],
         "z": [
          0.872678,
          0
         ]
        },
        {
         "line": {
          "color": "black"
         },
         "mode": "lines",
         "type": "scatter3d",
         "x": [
          0.872678,
          0.872678
         ],
         "y": [
          0.872678,
          0.872678
         ],
         "z": [
          0.872678,
          -0.872678
         ]
        },
        {
         "facecolor": [
          "#FF9BFF",
          "#FF9BFF",
          "#FF9BFF",
          "#FF9BFF"
         ],
         "i": [
          0,
          0,
          0,
          1
         ],
         "j": [
          1,
          1,
          2,
          2
         ],
         "k": [
          2,
          3,
          3,
          3
         ],
         "opacity": 0.6,
         "type": "mesh3d",
         "x": [
          0.872678,
          0.872678,
          1.41202,
          1.41202
         ],
         "y": [
          0.872678,
          0.872678,
          -0.539345,
          0.539345
         ],
         "z": [
          0.872678,
          -0.872678,
          0,
          0
         ]
        },
        {
         "marker": {
          "color": "#FFFF74",
          "size": 4
         },
         "mode": "markers",
         "text": [
          "1",
          "2",
          "3",
          "4"
         ],
         "textposition": "bottom center",
         "type": "scatter3d",
         "x": [
          -0.539345,
          0.872678,
          0.872678,
          0.539345
         ],
         "y": [
          0,
          0.872678,
          -0.872678,
          0
         ],
         "z": [
          -1.41202,
          -0.872678,
          -0.872678,
          -1.41202
         ]
        },
        {
         "line": {
          "color": "black"
         },
         "mode": "lines",
         "type": "scatter3d",
         "x": [
          0.872678,
          0.539345
         ],
         "y": [
          -0.872678,
          0
         ],
         "z": [
          -0.872678,
          -1.41202
         ]
        },
        {
         "line": {
          "color": "black"
         },
         "mode": "lines",
         "type": "scatter3d",
         "x": [
          0.872678,
          0.539345
         ],
         "y": [
          0.872678,
          0
         ],
         "z": [
          -0.872678,
          -1.41202
         ]
        },
        {
         "line": {
          "color": "black"
         },
         "mode": "lines",
         "type": "scatter3d",
         "x": [
          0.872678,
          0.872678
         ],
         "y": [
          0.872678,
          -0.872678
         ],
         "z": [
          -0.872678,
          -0.872678
         ]
        },
        {
         "line": {
          "color": "black"
         },
         "mode": "lines",
         "type": "scatter3d",
         "x": [
          -0.539345,
          0.539345
         ],
         "y": [
          0,
          0
         ],
         "z": [
          -1.41202,
          -1.41202
         ]
        },
        {
         "line": {
          "color": "black"
         },
         "mode": "lines",
         "type": "scatter3d",
         "x": [
          -0.539345,
          0.872678
         ],
         "y": [
          0,
          -0.872678
         ],
         "z": [
          -1.41202,
          -0.872678
         ]
        },
        {
         "line": {
          "color": "black"
         },
         "mode": "lines",
         "type": "scatter3d",
         "x": [
          -0.539345,
          0.872678
         ],
         "y": [
          0,
          0.872678
         ],
         "z": [
          -1.41202,
          -0.872678
         ]
        },
        {
         "facecolor": [
          "#FFFF74",
          "#FFFF74",
          "#FFFF74",
          "#FFFF74"
         ],
         "i": [
          0,
          0,
          0,
          1
         ],
         "j": [
          1,
          1,
          2,
          2
         ],
         "k": [
          2,
          3,
          3,
          3
         ],
         "opacity": 0.6,
         "type": "mesh3d",
         "x": [
          -0.539345,
          0.872678,
          0.872678,
          0.539345
         ],
         "y": [
          0,
          0.872678,
          -0.872678,
          0
         ],
         "z": [
          -1.41202,
          -0.872678,
          -0.872678,
          -1.41202
         ]
        },
        {
         "marker": {
          "color": "#000000",
          "size": 4
         },
         "mode": "markers",
         "text": [
          "1",
          "2",
          "3",
          "4"
         ],
         "textposition": "bottom center",
         "type": "scatter3d",
         "x": [
          -0.539345,
          0.872678,
          0.872678,
          0.539345
         ],
         "y": [
          0,
          0.872678,
          -0.872678,
          0
         ],
         "z": [
          1.41202,
          0.872678,
          0.872678,
          1.41202
         ]
        },
        {
         "line": {
          "color": "black"
         },
         "mode": "lines",
         "type": "scatter3d",
         "x": [
          0.872678,
          0.539345
         ],
         "y": [
          -0.872678,
          0
         ],
         "z": [
          0.872678,
          1.41202
         ]
        },
        {
         "line": {
          "color": "black"
         },
         "mode": "lines",
         "type": "scatter3d",
         "x": [
          0.872678,
          0.539345
         ],
         "y": [
          0.872678,
          0
         ],
         "z": [
          0.872678,
          1.41202
         ]
        },
        {
         "line": {
          "color": "black"
         },
         "mode": "lines",
         "type": "scatter3d",
         "x": [
          0.872678,
          0.872678
         ],
         "y": [
          0.872678,
          -0.872678
         ],
         "z": [
          0.872678,
          0.872678
         ]
        },
        {
         "line": {
          "color": "black"
         },
         "mode": "lines",
         "type": "scatter3d",
         "x": [
          -0.539345,
          0.539345
         ],
         "y": [
          0,
          0
         ],
         "z": [
          1.41202,
          1.41202
         ]
        },
        {
         "line": {
          "color": "black"
         },
         "mode": "lines",
         "type": "scatter3d",
         "x": [
          -0.539345,
          0.872678
         ],
         "y": [
          0,
          -0.872678
         ],
         "z": [
          1.41202,
          0.872678
         ]
        },
        {
         "line": {
          "color": "black"
         },
         "mode": "lines",
         "type": "scatter3d",
         "x": [
          -0.539345,
          0.872678
         ],
         "y": [
          0,
          0.872678
         ],
         "z": [
          1.41202,
          0.872678
         ]
        },
        {
         "facecolor": [
          "#000000",
          "#000000",
          "#000000",
          "#000000"
         ],
         "i": [
          0,
          0,
          0,
          1
         ],
         "j": [
          1,
          1,
          2,
          2
         ],
         "k": [
          2,
          3,
          3,
          3
         ],
         "opacity": 0.6,
         "type": "mesh3d",
         "x": [
          -0.539345,
          0.872678,
          0.872678,
          0.539345
         ],
         "y": [
          0,
          0.872678,
          -0.872678,
          0
         ],
         "z": [
          1.41202,
          0.872678,
          0.872678,
          1.41202
         ]
        }
       ],
       "frames": [],
       "layout": {
        "margin": {
         "b": 50,
         "l": 50,
         "r": 50,
         "t": 60
        },
        "showlegend": false,
        "template": {
         "data": {
          "bar": [
           {
            "error_x": {
             "color": "#2a3f5f"
            },
            "error_y": {
             "color": "#2a3f5f"
            },
            "marker": {
             "line": {
              "color": "#E5ECF6",
              "width": 0.5
             }
            },
            "type": "bar"
           }
          ],
          "barpolar": [
           {
            "marker": {
             "line": {
              "color": "#E5ECF6",
              "width": 0.5
             }
            },
            "type": "barpolar"
           }
          ],
          "carpet": [
           {
            "aaxis": {
             "endlinecolor": "#2a3f5f",
             "gridcolor": "white",
             "linecolor": "white",
             "minorgridcolor": "white",
             "startlinecolor": "#2a3f5f"
            },
            "baxis": {
             "endlinecolor": "#2a3f5f",
             "gridcolor": "white",
             "linecolor": "white",
             "minorgridcolor": "white",
             "startlinecolor": "#2a3f5f"
            },
            "type": "carpet"
           }
          ],
          "choropleth": [
           {
            "colorbar": {
             "outlinewidth": 0,
             "ticks": ""
            },
            "type": "choropleth"
           }
          ],
          "contour": [
           {
            "colorbar": {
             "outlinewidth": 0,
             "ticks": ""
            },
            "colorscale": [
             [
              0,
              "#0d0887"
             ],
             [
              0.1111111111111111,
              "#46039f"
             ],
             [
              0.2222222222222222,
              "#7201a8"
             ],
             [
              0.3333333333333333,
              "#9c179e"
             ],
             [
              0.4444444444444444,
              "#bd3786"
             ],
             [
              0.5555555555555556,
              "#d8576b"
             ],
             [
              0.6666666666666666,
              "#ed7953"
             ],
             [
              0.7777777777777778,
              "#fb9f3a"
             ],
             [
              0.8888888888888888,
              "#fdca26"
             ],
             [
              1,
              "#f0f921"
             ]
            ],
            "type": "contour"
           }
          ],
          "contourcarpet": [
           {
            "colorbar": {
             "outlinewidth": 0,
             "ticks": ""
            },
            "type": "contourcarpet"
           }
          ],
          "heatmap": [
           {
            "colorbar": {
             "outlinewidth": 0,
             "ticks": ""
            },
            "colorscale": [
             [
              0,
              "#0d0887"
             ],
             [
              0.1111111111111111,
              "#46039f"
             ],
             [
              0.2222222222222222,
              "#7201a8"
             ],
             [
              0.3333333333333333,
              "#9c179e"
             ],
             [
              0.4444444444444444,
              "#bd3786"
             ],
             [
              0.5555555555555556,
              "#d8576b"
             ],
             [
              0.6666666666666666,
              "#ed7953"
             ],
             [
              0.7777777777777778,
              "#fb9f3a"
             ],
             [
              0.8888888888888888,
              "#fdca26"
             ],
             [
              1,
              "#f0f921"
             ]
            ],
            "type": "heatmap"
           }
          ],
          "heatmapgl": [
           {
            "colorbar": {
             "outlinewidth": 0,
             "ticks": ""
            },
            "colorscale": [
             [
              0,
              "#0d0887"
             ],
             [
              0.1111111111111111,
              "#46039f"
             ],
             [
              0.2222222222222222,
              "#7201a8"
             ],
             [
              0.3333333333333333,
              "#9c179e"
             ],
             [
              0.4444444444444444,
              "#bd3786"
             ],
             [
              0.5555555555555556,
              "#d8576b"
             ],
             [
              0.6666666666666666,
              "#ed7953"
             ],
             [
              0.7777777777777778,
              "#fb9f3a"
             ],
             [
              0.8888888888888888,
              "#fdca26"
             ],
             [
              1,
              "#f0f921"
             ]
            ],
            "type": "heatmapgl"
           }
          ],
          "histogram": [
           {
            "marker": {
             "colorbar": {
              "outlinewidth": 0,
              "ticks": ""
             }
            },
            "type": "histogram"
           }
          ],
          "histogram2d": [
           {
            "colorbar": {
             "outlinewidth": 0,
             "ticks": ""
            },
            "colorscale": [
             [
              0,
              "#0d0887"
             ],
             [
              0.1111111111111111,
              "#46039f"
             ],
             [
              0.2222222222222222,
              "#7201a8"
             ],
             [
              0.3333333333333333,
              "#9c179e"
             ],
             [
              0.4444444444444444,
              "#bd3786"
             ],
             [
              0.5555555555555556,
              "#d8576b"
             ],
             [
              0.6666666666666666,
              "#ed7953"
             ],
             [
              0.7777777777777778,
              "#fb9f3a"
             ],
             [
              0.8888888888888888,
              "#fdca26"
             ],
             [
              1,
              "#f0f921"
             ]
            ],
            "type": "histogram2d"
           }
          ],
          "histogram2dcontour": [
           {
            "colorbar": {
             "outlinewidth": 0,
             "ticks": ""
            },
            "colorscale": [
             [
              0,
              "#0d0887"
             ],
             [
              0.1111111111111111,
              "#46039f"
             ],
             [
              0.2222222222222222,
              "#7201a8"
             ],
             [
              0.3333333333333333,
              "#9c179e"
             ],
             [
              0.4444444444444444,
              "#bd3786"
             ],
             [
              0.5555555555555556,
              "#d8576b"
             ],
             [
              0.6666666666666666,
              "#ed7953"
             ],
             [
              0.7777777777777778,
              "#fb9f3a"
             ],
             [
              0.8888888888888888,
              "#fdca26"
             ],
             [
              1,
              "#f0f921"
             ]
            ],
            "type": "histogram2dcontour"
           }
          ],
          "mesh3d": [
           {
            "colorbar": {
             "outlinewidth": 0,
             "ticks": ""
            },
            "type": "mesh3d"
           }
          ],
          "parcoords": [
           {
            "line": {
             "colorbar": {
              "outlinewidth": 0,
              "ticks": ""
             }
            },
            "type": "parcoords"
           }
          ],
          "pie": [
           {
            "automargin": true,
            "type": "pie"
           }
          ],
          "scatter": [
           {
            "marker": {
             "colorbar": {
              "outlinewidth": 0,
              "ticks": ""
             }
            },
            "type": "scatter"
           }
          ],
          "scatter3d": [
           {
            "line": {
             "colorbar": {
              "outlinewidth": 0,
              "ticks": ""
             }
            },
            "marker": {
             "colorbar": {
              "outlinewidth": 0,
              "ticks": ""
             }
            },
            "type": "scatter3d"
           }
          ],
          "scattercarpet": [
           {
            "marker": {
             "colorbar": {
              "outlinewidth": 0,
              "ticks": ""
             }
            },
            "type": "scattercarpet"
           }
          ],
          "scattergeo": [
           {
            "marker": {
             "colorbar": {
              "outlinewidth": 0,
              "ticks": ""
             }
            },
            "type": "scattergeo"
           }
          ],
          "scattergl": [
           {
            "marker": {
             "colorbar": {
              "outlinewidth": 0,
              "ticks": ""
             }
            },
            "type": "scattergl"
           }
          ],
          "scattermapbox": [
           {
            "marker": {
             "colorbar": {
              "outlinewidth": 0,
              "ticks": ""
             }
            },
            "type": "scattermapbox"
           }
          ],
          "scatterpolar": [
           {
            "marker": {
             "colorbar": {
              "outlinewidth": 0,
              "ticks": ""
             }
            },
            "type": "scatterpolar"
           }
          ],
          "scatterpolargl": [
           {
            "marker": {
             "colorbar": {
              "outlinewidth": 0,
              "ticks": ""
             }
            },
            "type": "scatterpolargl"
           }
          ],
          "scatterternary": [
           {
            "marker": {
             "colorbar": {
              "outlinewidth": 0,
              "ticks": ""
             }
            },
            "type": "scatterternary"
           }
          ],
          "surface": [
           {
            "colorbar": {
             "outlinewidth": 0,
             "ticks": ""
            },
            "colorscale": [
             [
              0,
              "#0d0887"
             ],
             [
              0.1111111111111111,
              "#46039f"
             ],
             [
              0.2222222222222222,
              "#7201a8"
             ],
             [
              0.3333333333333333,
              "#9c179e"
             ],
             [
              0.4444444444444444,
              "#bd3786"
             ],
             [
              0.5555555555555556,
              "#d8576b"
             ],
             [
              0.6666666666666666,
              "#ed7953"
             ],
             [
              0.7777777777777778,
              "#fb9f3a"
             ],
             [
              0.8888888888888888,
              "#fdca26"
             ],
             [
              1,
              "#f0f921"
             ]
            ],
            "type": "surface"
           }
          ],
          "table": [
           {
            "cells": {
             "fill": {
              "color": "#EBF0F8"
             },
             "line": {
              "color": "white"
             }
            },
            "header": {
             "fill": {
              "color": "#C8D4E3"
             },
             "line": {
              "color": "white"
             }
            },
            "type": "table"
           }
          ]
         },
         "layout": {
          "annotationdefaults": {
           "arrowcolor": "#2a3f5f",
           "arrowhead": 0,
           "arrowwidth": 1
          },
          "autotypenumbers": "strict",
          "coloraxis": {
           "colorbar": {
            "outlinewidth": 0,
            "ticks": ""
           }
          },
          "colorscale": {
           "diverging": [
            [
             0,
             "#8e0152"
            ],
            [
             0.1,
             "#c51b7d"
            ],
            [
             0.2,
             "#de77ae"
            ],
            [
             0.3,
             "#f1b6da"
            ],
            [
             0.4,
             "#fde0ef"
            ],
            [
             0.5,
             "#f7f7f7"
            ],
            [
             0.6,
             "#e6f5d0"
            ],
            [
             0.7,
             "#b8e186"
            ],
            [
             0.8,
             "#7fbc41"
            ],
            [
             0.9,
             "#4d9221"
            ],
            [
             1,
             "#276419"
            ]
           ],
           "sequential": [
            [
             0,
             "#0d0887"
            ],
            [
             0.1111111111111111,
             "#46039f"
            ],
            [
             0.2222222222222222,
             "#7201a8"
            ],
            [
             0.3333333333333333,
             "#9c179e"
            ],
            [
             0.4444444444444444,
             "#bd3786"
            ],
            [
             0.5555555555555556,
             "#d8576b"
            ],
            [
             0.6666666666666666,
             "#ed7953"
            ],
            [
             0.7777777777777778,
             "#fb9f3a"
            ],
            [
             0.8888888888888888,
             "#fdca26"
            ],
            [
             1,
             "#f0f921"
            ]
           ],
           "sequentialminus": [
            [
             0,
             "#0d0887"
            ],
            [
             0.1111111111111111,
             "#46039f"
            ],
            [
             0.2222222222222222,
             "#7201a8"
            ],
            [
             0.3333333333333333,
             "#9c179e"
            ],
            [
             0.4444444444444444,
             "#bd3786"
            ],
            [
             0.5555555555555556,
             "#d8576b"
            ],
            [
             0.6666666666666666,
             "#ed7953"
            ],
            [
             0.7777777777777778,
             "#fb9f3a"
            ],
            [
             0.8888888888888888,
             "#fdca26"
            ],
            [
             1,
             "#f0f921"
            ]
           ]
          },
          "colorway": [
           "#636efa",
           "#EF553B",
           "#00cc96",
           "#ab63fa",
           "#FFA15A",
           "#19d3f3",
           "#FF6692",
           "#B6E880",
           "#FF97FF",
           "#FECB52"
          ],
          "font": {
           "color": "#2a3f5f"
          },
          "geo": {
           "bgcolor": "white",
           "lakecolor": "white",
           "landcolor": "#E5ECF6",
           "showlakes": true,
           "showland": true,
           "subunitcolor": "white"
          },
          "hoverlabel": {
           "align": "left"
          },
          "hovermode": "closest",
          "mapbox": {
           "style": "light"
          },
          "paper_bgcolor": "white",
          "plot_bgcolor": "#E5ECF6",
          "polar": {
           "angularaxis": {
            "gridcolor": "white",
            "linecolor": "white",
            "ticks": ""
           },
           "bgcolor": "#E5ECF6",
           "radialaxis": {
            "gridcolor": "white",
            "linecolor": "white",
            "ticks": ""
           }
          },
          "scene": {
           "xaxis": {
            "backgroundcolor": "#E5ECF6",
            "gridcolor": "white",
            "gridwidth": 2,
            "linecolor": "white",
            "showbackground": true,
            "ticks": "",
            "zerolinecolor": "white"
           },
           "yaxis": {
            "backgroundcolor": "#E5ECF6",
            "gridcolor": "white",
            "gridwidth": 2,
            "linecolor": "white",
            "showbackground": true,
            "ticks": "",
            "zerolinecolor": "white"
           },
           "zaxis": {
            "backgroundcolor": "#E5ECF6",
            "gridcolor": "white",
            "gridwidth": 2,
            "linecolor": "white",
            "showbackground": true,
            "ticks": "",
            "zerolinecolor": "white"
           }
          },
          "shapedefaults": {
           "line": {
            "color": "#2a3f5f"
           }
          },
          "ternary": {
           "aaxis": {
            "gridcolor": "white",
            "linecolor": "white",
            "ticks": ""
           },
           "baxis": {
            "gridcolor": "white",
            "linecolor": "white",
            "ticks": ""
           },
           "bgcolor": "#E5ECF6",
           "caxis": {
            "gridcolor": "white",
            "linecolor": "white",
            "ticks": ""
           }
          },
          "title": {
           "x": 0.05
          },
          "xaxis": {
           "automargin": true,
           "gridcolor": "white",
           "linecolor": "white",
           "ticks": "",
           "title": {
            "standoff": 15
           },
           "zerolinecolor": "white",
           "zerolinewidth": 2
          },
          "yaxis": {
           "automargin": true,
           "gridcolor": "white",
           "linecolor": "white",
           "ticks": "",
           "title": {
            "standoff": 15
           },
           "zerolinecolor": "white",
           "zerolinewidth": 2
          }
         }
        }
       }
      },
      "image/png": "[encoded data removed]",
      "image/svg+xml": "<svg class=\"main-svg\" xmlns=\"http://www.w3.org/2000/svg\" xmlns:xlink=\"http://www.w3.org/1999/xlink\" width=\"700\" height=\"500\" style=\"\" viewBox=\"0 0 700 500\"><rect x=\"0\" y=\"0\" width=\"700\" height=\"500\" style=\"fill: rgb(255, 255, 255); fill-opacity: 1;\"/><defs id=\"defs-abf082\"><g class=\"clips\"/><g class=\"gradients\"/></defs><g class=\"bglayer\"/><g class=\"layer-below\"><g class=\"imagelayer\"/><g class=\"shapelayer\"/></g><g class=\"cartesianlayer\"/><g class=\"polarlayer\"/><g class=\"ternarylayer\"/><g class=\"geolayer\"/><g class=\"funnelarealayer\"/><g class=\"pielayer\"/><g class=\"treemaplayer\"/><g class=\"sunburstlayer\"/><g class=\"glimages\"><image xmlns=\"http://www.w3.org/2000/svg\" xlink:href=\"data:image/png;base64,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\" x=\"50\" y=\"60\" width=\"600\" height=\"390\" preserveAspectRatio=\"none\"/></g><defs id=\"topdefs-abf082\"><g class=\"clips\"/></defs><g class=\"layer-above\"><g class=\"imagelayer\"/><g class=\"shapelayer\"/></g><g class=\"infolayer\"><g class=\"g-gtitle\"/></g></svg>",
      "text/html": [
       "<div\n",
       "    class=\"webio-mountpoint\"\n",
       "    data-webio-mountpoint=\"16886177445978751674\"\n",
       ">\n",
       "    <script>\n",
       "    (function(){\n",
       "    // Some integrations (namely, IJulia/Jupyter) use an alternate render pathway than\n",
       "    // just putting the html on the page. If WebIO isn't defined, then it's pretty likely\n",
       "    // that we're in one of those situations and the integration just isn't installed\n",
       "    // correctly.\n",
       "    if (typeof window.WebIO === \"undefined\") {\n",
       "        document\n",
       "            .querySelector('[data-webio-mountpoint=\"16886177445978751674\"]')\n",
       "            .innerHTML = (\n",
       "                '<div style=\"padding: 1em; background-color: #f8d6da; border: 1px solid #f5c6cb; font-weight: bold;\">' +\n",
       "                '<p><strong>WebIO not detected.</strong></p>' +\n",
       "                '<p>Please read ' +\n",
       "                '<a href=\"https://juliagizmos.github.io/WebIO.jl/latest/troubleshooting/not-detected/\" target=\"_blank\">the troubleshooting guide</a> ' +\n",
       "                'for more information on how to resolve this issue.</p>' +\n",
       "                '<p><a href=\"https://juliagizmos.github.io/WebIO.jl/latest/troubleshooting/not-detected/\" target=\"_blank\">https://juliagizmos.github.io/WebIO.jl/latest/troubleshooting/not-detected/</a></p>' +\n",
       "                '</div>'\n",
       "            );\n",
       "        return;\n",
       "    }\n",
       "    WebIO.mount(\n",
       "        document.querySelector('[data-webio-mountpoint=\"16886177445978751674\"]'),\n",
       "        {\"props\":{},\"nodeType\":\"Scope\",\"type\":\"node\",\"instanceArgs\":{\"imports\":{\"data\":[{\"name\":\"Plotly\",\"type\":\"js\",\"url\":\"\\/assetserver\\/d18d62e3d860f95bdd778d5ce0d98356c8e8cd70-plotly.min.js\"},{\"name\":null,\"type\":\"js\",\"url\":\"\\/assetserver\\/3ce237707c6799d71e862d9d30b4d1f68d73bd38-plotly_webio.bundle.js\"}],\"type\":\"async_block\"},\"id\":\"1666782335039859445\",\"handlers\":{\"_toImage\":[\"(function (options){return this.Plotly.toImage(this.plotElem,options).then((function (data){return WebIO.setval({\\\"name\\\":\\\"image\\\",\\\"scope\\\":\\\"1666782335039859445\\\",\\\"id\\\":\\\"10580521689499206823\\\",\\\"type\\\":\\\"observable\\\"},data)}))})\"],\"__get_gd_contents\":[\"(function (prop){prop==\\\"data\\\" ? (WebIO.setval({\\\"name\\\":\\\"__gd_contents\\\",\\\"scope\\\":\\\"1666782335039859445\\\",\\\"id\\\":\\\"13213118729417378517\\\",\\\"type\\\":\\\"observable\\\"},this.plotElem.data)) : undefined; return prop==\\\"layout\\\" ? (WebIO.setval({\\\"name\\\":\\\"__gd_contents\\\",\\\"scope\\\":\\\"1666782335039859445\\\",\\\"id\\\":\\\"13213118729417378517\\\",\\\"type\\\":\\\"observable\\\"},this.plotElem.layout)) : undefined})\"],\"_downloadImage\":[\"(function (options){return this.Plotly.downloadImage(this.plotElem,options)})\"],\"_commands\":[\"(function (args){var fn=args.shift(); var elem=this.plotElem; var Plotly=this.Plotly; args.unshift(elem); return Plotly[fn].apply(this,args)})\"]},\"systemjs_options\":null,\"mount_callbacks\":[\"function () {\\n    var handler = ((function (Plotly,PlotlyWebIO){PlotlyWebIO.init(WebIO); var gd=this.dom.querySelector(\\\"#plot-26d7c7ab-401e-433f-9ccf-260fffb9dafb\\\"); this.plotElem=gd; this.Plotly=Plotly; (window.Blink!==undefined) ? (gd.style.width=\\\"100%\\\", gd.style.height=\\\"100vh\\\", gd.style.marginLeft=\\\"0%\\\", gd.style.marginTop=\\\"0vh\\\") : undefined; window.onresize=(function (){return Plotly.Plots.resize(gd)}); Plotly.newPlot(gd,[{\\\"x\\\":[-0.539345,0.0,0.872678,-0.872678,0.0,0.872678,-0.872678,-0.539345,0.0,0.872678,-0.872678,0.0,0.872678,-0.872678,-1.41202,1.41202,-1.41202],\\\"mode\\\":\\\"markers\\\",\\\"textposition\\\":\\\"bottom center\\\",\\\"y\\\":[0.0,1.41202,0.872678,0.872678,-1.41202,-0.872678,-0.872678,0.0,1.41202,0.872678,0.872678,-1.41202,-0.872678,-0.872678,0.539345,-0.539345,-0.539345],\\\"type\\\":\\\"scatter3d\\\",\\\"text\\\":[\\\"1\\\",\\\"2\\\",\\\"3\\\",\\\"4\\\",\\\"5\\\",\\\"6\\\",\\\"7\\\",\\\"8\\\",\\\"9\\\",\\\"10\\\",\\\"11\\\",\\\"12\\\",\\\"13\\\",\\\"14\\\",\\\"15\\\",\\\"16\\\",\\\"17\\\"],\\\"z\\\":[1.41202,0.539345,0.872678,0.872678,0.539345,0.872678,0.872678,-1.41202,-0.539345,-0.872678,-0.872678,-0.539345,-0.872678,-0.872678,0.0,0.0,0.0],\\\"marker\\\":{\\\"color\\\":\\\"#00D3FF\\\",\\\"size\\\":4}},{\\\"mode\\\":\\\"lines\\\",\\\"line\\\":{\\\"color\\\":\\\"black\\\"},\\\"y\\\":[0.872678,-0.539345],\\\"type\\\":\\\"scatter3d\\\",\\\"z\\\":[-0.872678,0.0],\\\"x\\\":[-0.872678,-1.41202]},{\\\"mode\\\":\\\"lines\\\",\\\"line\\\":{\\\"color\\\":\\\"black\\\"},\\\"y\\\":[0.872678,-0.872678],\\\"type\\\":\\\"scatter3d\\\",\\\"z\\\":[-0.872678,-0.872678],\\\"x\\\":[-0.872678,-0.872678]},{\\\"mode\\\":\\\"lines\\\",\\\"line\\\":{\\\"color\\\":\\\"black\\\"},\\\"y\\\":[0.872678,-0.539345],\\\"type\\\":\\\"scatter3d\\\",\\\"z\\\":[-0.872678,0.0],\\\"x\\\":[0.872678,1.41202]},{\\\"mode\\\":\\\"lines\\\",\\\"line\\\":{\\\"color\\\":\\\"black\\\"},\\\"y\\\":[0.872678,-0.872678],\\\"type\\\":\\\"scatter3d\\\",\\\"z\\\":[-0.872678,-0.872678],\\\"x\\\":[0.872678,0.872678]},{\\\"mode\\\":\\\"lines\\\",\\\"line\\\":{\\\"color\\\":\\\"black\\\"},\\\"y\\\":[0.872678,-0.539345],\\\"type\\\":\\\"scatter3d\\\",\\\"z\\\":[0.872678,0.0],\\\"x\\\":[-0.872678,-1.41202]},{\\\"mode\\\":\\\"lines\\\",\\\"line\\\":{\\\"color\\\":\\\"black\\\"},\\\"y\\\":[0.872678,-0.872678],\\\"type\\\":\\\"scatter3d\\\",\\\"z\\\":[0.872678,0.872678],\\\"x\\\":[-0.872678,-0.872678]},{\\\"mode\\\":\\\"lines\\\",\\\"line\\\":{\\\"color\\\":\\\"black\\\"},\\\"y\\\":[0.872678,-0.539345],\\\"type\\\":\\\"scatter3d\\\",\\\"z\\\":[0.872678,0.0],\\\"x\\\":[0.872678,1.41202]},{\\\"mode\\\":\\\"lines\\\",\\\"line\\\":{\\\"color\\\":\\\"black\\\"},\\\"y\\\":[0.872678,-0.872678],\\\"type\\\":\\\"scatter3d\\\",\\\"z\\\":[0.872678,0.872678],\\\"x\\\":[0.872678,0.872678]},{\\\"mode\\\":\\\"lines\\\",\\\"line\\\":{\\\"color\\\":\\\"black\\\"},\\\"y\\\":[-0.872678,-0.872678],\\\"type\\\":\\\"scatter3d\\\",\\\"z\\\":[0.872678,-0.872678],\\\"x\\\":[-0.872678,-0.872678]},{\\\"mode\\\":\\\"lines\\\",\\\"line\\\":{\\\"color\\\":\\\"black\\\"},\\\"y\\\":[-0.872678,-1.41202],\\\"type\\\":\\\"scatter3d\\\",\\\"z\\\":[0.872678,-0.539345],\\\"x\\\":[-0.872678,0.0]},{\\\"mode\\\":\\\"lines\\\",\\\"line\\\":{\\\"color\\\":\\\"black\\\"},\\\"y\\\":[-0.872678,-0.872678],\\\"type\\\":\\\"scatter3d\\\",\\\"z\\\":[0.872678,-0.872678],\\\"x\\\":[0.872678,0.872678]},{\\\"mode\\\":\\\"lines\\\",\\\"line\\\":{\\\"color\\\":\\\"black\\\"},\\\"y\\\":[-0.872678,-1.41202],\\\"type\\\":\\\"scatter3d\\\",\\\"z\\\":[0.872678,-0.539345],\\\"x\\\":[0.872678,0.0]},{\\\"mode\\\":\\\"lines\\\",\\\"line\\\":{\\\"color\\\":\\\"black\\\"},\\\"y\\\":[0.872678,0.872678],\\\"type\\\":\\\"scatter3d\\\",\\\"z\\\":[0.872678,-0.872678],\\\"x\\\":[-0.872678,-0.872678]},{\\\"mode\\\":\\\"lines\\\",\\\"line\\\":{\\\"color\\\":\\\"black\\\"},\\\"y\\\":[0.872678,1.41202],\\\"type\\\":\\\"scatter3d\\\",\\\"z\\\":[0.872678,-0.539345],\\\"x\\\":[-0.872678,0.0]},{\\\"mode\\\":\\\"lines\\\",\\\"line\\\":{\\\"color\\\":\\\"black\\\"},\\\"y\\\":[0.872678,0.872678],\\\"type\\\":\\\"scatter3d\\\",\\\"z\\\":[0.872678,-0.872678],\\\"x\\\":[0.872678,0.872678]},{\\\"mode\\\":\\\"lines\\\",\\\"line\\\":{\\\"color\\\":\\\"black\\\"},\\\"y\\\":[0.872678,1.41202],\\\"type\\\":\\\"scatter3d\\\",\\\"z\\\":[0.872678,-0.539345],\\\"x\\\":[0.872678,0.0]},{\\\"mode\\\":\\\"lines\\\",\\\"line\\\":{\\\"color\\\":\\\"black\\\"},\\\"y\\\":[0.0,-1.41202],\\\"type\\\":\\\"scatter3d\\\",\\\"z\\\":[-1.41202,-0.539345],\\\"x\\\":[-0.539345,0.0]},{\\\"mode\\\":\\\"lines\\\",\\\"line\\\":{\\\"color\\\":\\\"black\\\"},\\\"y\\\":[0.0,-0.872678],\\\"type\\\":\\\"scatter3d\\\",\\\"z\\\":[-1.41202,-0.872678],\\\"x\\\":[-0.539345,0.872678]},{\\\"mode\\\":\\\"lines\\\",\\\"line\\\":{\\\"color\\\":\\\"black\\\"},\\\"y\\\":[0.0,1.41202],\\\"type\\\":\\\"scatter3d\\\",\\\"z\\\":[-1.41202,-0.539345],\\\"x\\\":[-0.539345,0.0]},{\\\"mode\\\":\\\"lines\\\",\\\"line\\\":{\\\"color\\\":\\\"black\\\"},\\\"y\\\":[0.0,0.872678],\\\"type\\\":\\\"scatter3d\\\",\\\"z\\\":[-1.41202,-0.872678],\\\"x\\\":[-0.539345,0.872678]},{\\\"mode\\\":\\\"lines\\\",\\\"line\\\":{\\\"color\\\":\\\"black\\\"},\\\"y\\\":[0.0,-1.41202],\\\"type\\\":\\\"scatter3d\\\",\\\"z\\\":[1.41202,0.539345],\\\"x\\\":[-0.539345,0.0]},{\\\"mode\\\":\\\"lines\\\",\\\"line\\\":{\\\"color\\\":\\\"black\\\"},\\\"y\\\":[0.0,-0.872678],\\\"type\\\":\\\"scatter3d\\\",\\\"z\\\":[1.41202,0.872678],\\\"x\\\":[-0.539345,0.872678]},{\\\"mode\\\":\\\"lines\\\",\\\"line\\\":{\\\"color\\\":\\\"black\\\"},\\\"y\\\":[0.0,1.41202],\\\"type\\\":\\\"scatter3d\\\",\\\"z\\\":[1.41202,0.539345],\\\"x\\\":[-0.539345,0.0]},{\\\"mode\\\":\\\"lines\\\",\\\"line\\\":{\\\"color\\\":\\\"black\\\"},\\\"y\\\":[0.0,0.872678],\\\"type\\\":\\\"scatter3d\\\",\\\"z\\\":[1.41202,0.872678],\\\"x\\\":[-0.539345,0.872678]},{\\\"mode\\\":\\\"lines\\\",\\\"line\\\":{\\\"color\\\":\\\"black\\\"},\\\"y\\\":[0.539345,-0.539345],\\\"type\\\":\\\"scatter3d\\\",\\\"z\\\":[0.0,0.0],\\\"x\\\":[-1.41202,-1.41202]},{\\\"mode\\\":\\\"lines\\\",\\\"line\\\":{\\\"color\\\":\\\"black\\\"},\\\"y\\\":[-0.872678,-0.539345],\\\"type\\\":\\\"scatter3d\\\",\\\"z\\\":[-0.872678,0.0],\\\"x\\\":[-0.872678,-1.41202]},{\\\"mode\\\":\\\"lines\\\",\\\"line\\\":{\\\"color\\\":\\\"black\\\"},\\\"y\\\":[-0.872678,-0.539345],\\\"type\\\":\\\"scatter3d\\\",\\\"z\\\":[-0.872678,0.0],\\\"x\\\":[0.872678,1.41202]},{\\\"mode\\\":\\\"lines\\\",\\\"line\\\":{\\\"color\\\":\\\"black\\\"},\\\"y\\\":[-1.41202,-0.872678],\\\"type\\\":\\\"scatter3d\\\",\\\"z\\\":[-0.539345,-0.872678],\\\"x\\\":[0.0,-0.872678]},{\\\"mode\\\":\\\"lines\\\",\\\"line\\\":{\\\"color\\\":\\\"black\\\"},\\\"y\\\":[-1.41202,-0.872678],\\\"type\\\":\\\"scatter3d\\\",\\\"z\\\":[-0.539345,-0.872678],\\\"x\\\":[0.0,0.872678]},{\\\"mode\\\":\\\"lines\\\",\\\"line\\\":{\\\"color\\\":\\\"black\\\"},\\\"y\\\":[0.872678,0.539345],\\\"type\\\":\\\"scatter3d\\\",\\\"z\\\":[-0.872678,0.0],\\\"x\\\":[-0.872678,-1.41202]},{\\\"mode\\\":\\\"lines\\\",\\\"line\\\":{\\\"color\\\":\\\"black\\\"},\\\"y\\\":[1.41202,0.872678],\\\"type\\\":\\\"scatter3d\\\",\\\"z\\\":[-0.539345,-0.872678],\\\"x\\\":[0.0,-0.872678]},{\\\"mode\\\":\\\"lines\\\",\\\"line\\\":{\\\"color\\\":\\\"black\\\"},\\\"y\\\":[1.41202,0.872678],\\\"type\\\":\\\"scatter3d\\\",\\\"z\\\":[-0.539345,-0.872678],\\\"x\\\":[0.0,0.872678]},{\\\"mode\\\":\\\"lines\\\",\\\"line\\\":{\\\"color\\\":\\\"black\\\"},\\\"y\\\":[0.0,-0.872678],\\\"type\\\":\\\"scatter3d\\\",\\\"z\\\":[-1.41202,-0.872678],\\\"x\\\":[-0.539345,-0.872678]},{\\\"mode\\\":\\\"lines\\\",\\\"line\\\":{\\\"color\\\":\\\"black\\\"},\\\"y\\\":[0.0,0.872678],\\\"type\\\":\\\"scatter3d\\\",\\\"z\\\":[-1.41202,-0.872678],\\\"x\\\":[-0.539345,-0.872678]},{\\\"mode\\\":\\\"lines\\\",\\\"line\\\":{\\\"color\\\":\\\"black\\\"},\\\"y\\\":[-0.872678,-0.539345],\\\"type\\\":\\\"scatter3d\\\",\\\"z\\\":[0.872678,0.0],\\\"x\\\":[-0.872678,-1.41202]},{\\\"mode\\\":\\\"lines\\\",\\\"line\\\":{\\\"color\\\":\\\"black\\\"},\\\"y\\\":[-0.872678,-0.539345],\\\"type\\\":\\\"scatter3d\\\",\\\"z\\\":[0.872678,0.0],\\\"x\\\":[0.872678,1.41202]},{\\\"mode\\\":\\\"lines\\\",\\\"line\\\":{\\\"color\\\":\\\"black\\\"},\\\"y\\\":[-1.41202,-1.41202],\\\"type\\\":\\\"scatter3d\\\",\\\"z\\\":[0.539345,-0.539345],\\\"x\\\":[0.0,0.0]},{\\\"mode\\\":\\\"lines\\\",\\\"line\\\":{\\\"color\\\":\\\"black\\\"},\\\"y\\\":[-1.41202,-0.872678],\\\"type\\\":\\\"scatter3d\\\",\\\"z\\\":[0.539345,0.872678],\\\"x\\\":[0.0,-0.872678]},{\\\"mode\\\":\\\"lines\\\",\\\"line\\\":{\\\"color\\\":\\\"black\\\"},\\\"y\\\":[-1.41202,-0.872678],\\\"type\\\":\\\"scatter3d\\\",\\\"z\\\":[0.539345,0.872678],\\\"x\\\":[0.0,0.872678]},{\\\"mode\\\":\\\"lines\\\",\\\"line\\\":{\\\"color\\\":\\\"black\\\"},\\\"y\\\":[0.872678,0.539345],\\\"type\\\":\\\"scatter3d\\\",\\\"z\\\":[0.872678,0.0],\\\"x\\\":[-0.872678,-1.41202]},{\\\"mode\\\":\\\"lines\\\",\\\"line\\\":{\\\"color\\\":\\\"black\\\"},\\\"y\\\":[1.41202,1.41202],\\\"type\\\":\\\"scatter3d\\\",\\\"z\\\":[0.539345,-0.539345],\\\"x\\\":[0.0,0.0]},{\\\"mode\\\":\\\"lines\\\",\\\"line\\\":{\\\"color\\\":\\\"black\\\"},\\\"y\\\":[1.41202,0.872678],\\\"type\\\":\\\"scatter3d\\\",\\\"z\\\":[0.539345,0.872678],\\\"x\\\":[0.0,-0.872678]},{\\\"mode\\\":\\\"lines\\\",\\\"line\\\":{\\\"color\\\":\\\"black\\\"},\\\"y\\\":[1.41202,0.872678],\\\"type\\\":\\\"scatter3d\\\",\\\"z\\\":[0.539345,0.872678],\\\"x\\\":[0.0,0.872678]},{\\\"mode\\\":\\\"lines\\\",\\\"line\\\":{\\\"color\\\":\\\"black\\\"},\\\"y\\\":[0.0,-0.872678],\\\"type\\\":\\\"scatter3d\\\",\\\"z\\\":[1.41202,0.872678],\\\"x\\\":[-0.539345,-0.872678]},{\\\"mode\\\":\\\"lines\\\",\\\"line\\\":{\\\"color\\\":\\\"black\\\"},\\\"y\\\":[0.0,0.872678],\\\"type\\\":\\\"scatter3d\\\",\\\"z\\\":[1.41202,0.872678],\\\"x\\\":[-0.539345,-0.872678]},{\\\"y\\\":[0.0,1.41202,0.872678,0.872678,-1.41202,-0.872678,-0.872678,0.0,1.41202,0.872678,0.872678,-1.41202,-0.872678,-0.872678,0.539345,-0.539345,-0.539345],\\\"type\\\":\\\"mesh3d\\\",\\\"j\\\":[2,3,5,6,9,10,12,13,1,8,1,8,14,4,11,15,4,11,16,5,0,6,14,12,7,13,14,2,9,9],\\\"k\\\":[1,0,4,0,8,7,11,7,8,9,8,10,3,11,12,5,11,13,6,15,6,16,3,15,13,16,10,5,12,15],\\\"opacity\\\":0.6,\\\"z\\\":[1.41202,0.539345,0.872678,0.872678,0.539345,0.872678,0.872678,-1.41202,-0.539345,-0.872678,-0.872678,-0.539345,-0.872678,-0.872678,0.0,0.0,0.0],\\\"i\\\":[0,1,0,4,7,8,7,11,2,2,3,3,10,5,5,12,6,6,13,2,3,3,16,9,10,10,16,0,7,2],\\\"facecolor\\\":[\\\"#00D3FF\\\",\\\"#00D3FF\\\",\\\"#00D3FF\\\",\\\"#00D3FF\\\",\\\"#00D3FF\\\",\\\"#00D3FF\\\",\\\"#00D3FF\\\",\\\"#00D3FF\\\",\\\"#00D3FF\\\",\\\"#00D3FF\\\",\\\"#00D3FF\\\",\\\"#00D3FF\\\",\\\"#00D3FF\\\",\\\"#00D3FF\\\",\\\"#00D3FF\\\",\\\"#00D3FF\\\",\\\"#00D3FF\\\",\\\"#00D3FF\\\",\\\"#00D3FF\\\",\\\"#00D3FF\\\",\\\"#00D3FF\\\",\\\"#00D3FF\\\",\\\"#00D3FF\\\",\\\"#00D3FF\\\",\\\"#00D3FF\\\",\\\"#00D3FF\\\",\\\"#00D3FF\\\",\\\"#00D3FF\\\",\\\"#00D3FF\\\",\\\"#00D3FF\\\"],\\\"x\\\":[-0.539345,0.0,0.872678,-0.872678,0.0,0.872678,-0.872678,-0.539345,0.0,0.872678,-0.872678,0.0,0.872678,-0.872678,-1.41202,1.41202,-1.41202]},{\\\"x\\\":[0.872678,0.872678,1.41202,1.41202],\\\"mode\\\":\\\"markers\\\",\\\"textposition\\\":\\\"bottom center\\\",\\\"y\\\":[0.872678,0.872678,-0.539345,0.539345],\\\"type\\\":\\\"scatter3d\\\",\\\"text\\\":[\\\"1\\\",\\\"2\\\",\\\"3\\\",\\\"4\\\"],\\\"z\\\":[0.872678,-0.872678,0.0,0.0],\\\"marker\\\":{\\\"color\\\":\\\"#FF9BFF\\\",\\\"size\\\":4}},{\\\"mode\\\":\\\"lines\\\",\\\"line\\\":{\\\"color\\\":\\\"black\\\"},\\\"y\\\":[-0.539345,0.539345],\\\"type\\\":\\\"scatter3d\\\",\\\"z\\\":[0.0,0.0],\\\"x\\\":[1.41202,1.41202]},{\\\"mode\\\":\\\"lines\\\",\\\"line\\\":{\\\"color\\\":\\\"black\\\"},\\\"y\\\":[0.872678,0.539345],\\\"type\\\":\\\"scatter3d\\\",\\\"z\\\":[-0.872678,0.0],\\\"x\\\":[0.872678,1.41202]},{\\\"mode\\\":\\\"lines\\\",\\\"line\\\":{\\\"color\\\":\\\"black\\\"},\\\"y\\\":[0.872678,-0.539345],\\\"type\\\":\\\"scatter3d\\\",\\\"z\\\":[-0.872678,0.0],\\\"x\\\":[0.872678,1.41202]},{\\\"mode\\\":\\\"lines\\\",\\\"line\\\":{\\\"color\\\":\\\"black\\\"},\\\"y\\\":[0.872678,0.539345],\\\"type\\\":\\\"scatter3d\\\",\\\"z\\\":[0.872678,0.0],\\\"x\\\":[0.872678,1.41202]},{\\\"mode\\\":\\\"lines\\\",\\\"line\\\":{\\\"color\\\":\\\"black\\\"},\\\"y\\\":[0.872678,-0.539345],\\\"type\\\":\\\"scatter3d\\\",\\\"z\\\":[0.872678,0.0],\\\"x\\\":[0.872678,1.41202]},{\\\"mode\\\":\\\"lines\\\",\\\"line\\\":{\\\"color\\\":\\\"black\\\"},\\\"y\\\":[0.872678,0.872678],\\\"type\\\":\\\"scatter3d\\\",\\\"z\\\":[0.872678,-0.872678],\\\"x\\\":[0.872678,0.872678]},{\\\"y\\\":[0.872678,0.872678,-0.539345,0.539345],\\\"type\\\":\\\"mesh3d\\\",\\\"j\\\":[1,1,2,2],\\\"k\\\":[2,3,3,3],\\\"opacity\\\":0.6,\\\"z\\\":[0.872678,-0.872678,0.0,0.0],\\\"i\\\":[0,0,0,1],\\\"facecolor\\\":[\\\"#FF9BFF\\\",\\\"#FF9BFF\\\",\\\"#FF9BFF\\\",\\\"#FF9BFF\\\"],\\\"x\\\":[0.872678,0.872678,1.41202,1.41202]},{\\\"x\\\":[-0.539345,0.872678,0.872678,0.539345],\\\"mode\\\":\\\"markers\\\",\\\"textposition\\\":\\\"bottom center\\\",\\\"y\\\":[0.0,0.872678,-0.872678,0.0],\\\"type\\\":\\\"scatter3d\\\",\\\"text\\\":[\\\"1\\\",\\\"2\\\",\\\"3\\\",\\\"4\\\"],\\\"z\\\":[-1.41202,-0.872678,-0.872678,-1.41202],\\\"marker\\\":{\\\"color\\\":\\\"#FFFF74\\\",\\\"size\\\":4}},{\\\"mode\\\":\\\"lines\\\",\\\"line\\\":{\\\"color\\\":\\\"black\\\"},\\\"y\\\":[-0.872678,0.0],\\\"type\\\":\\\"scatter3d\\\",\\\"z\\\":[-0.872678,-1.41202],\\\"x\\\":[0.872678,0.539345]},{\\\"mode\\\":\\\"lines\\\",\\\"line\\\":{\\\"color\\\":\\\"black\\\"},\\\"y\\\":[0.872678,0.0],\\\"type\\\":\\\"scatter3d\\\",\\\"z\\\":[-0.872678,-1.41202],\\\"x\\\":[0.872678,0.539345]},{\\\"mode\\\":\\\"lines\\\",\\\"line\\\":{\\\"color\\\":\\\"black\\\"},\\\"y\\\":[0.872678,-0.872678],\\\"type\\\":\\\"scatter3d\\\",\\\"z\\\":[-0.872678,-0.872678],\\\"x\\\":[0.872678,0.872678]},{\\\"mode\\\":\\\"lines\\\",\\\"line\\\":{\\\"color\\\":\\\"black\\\"},\\\"y\\\":[0.0,0.0],\\\"type\\\":\\\"scatter3d\\\",\\\"z\\\":[-1.41202,-1.41202],\\\"x\\\":[-0.539345,0.539345]},{\\\"mode\\\":\\\"lines\\\",\\\"line\\\":{\\\"color\\\":\\\"black\\\"},\\\"y\\\":[0.0,-0.872678],\\\"type\\\":\\\"scatter3d\\\",\\\"z\\\":[-1.41202,-0.872678],\\\"x\\\":[-0.539345,0.872678]},{\\\"mode\\\":\\\"lines\\\",\\\"line\\\":{\\\"color\\\":\\\"black\\\"},\\\"y\\\":[0.0,0.872678],\\\"type\\\":\\\"scatter3d\\\",\\\"z\\\":[-1.41202,-0.872678],\\\"x\\\":[-0.539345,0.872678]},{\\\"y\\\":[0.0,0.872678,-0.872678,0.0],\\\"type\\\":\\\"mesh3d\\\",\\\"j\\\":[1,1,2,2],\\\"k\\\":[2,3,3,3],\\\"opacity\\\":0.6,\\\"z\\\":[-1.41202,-0.872678,-0.872678,-1.41202],\\\"i\\\":[0,0,0,1],\\\"facecolor\\\":[\\\"#FFFF74\\\",\\\"#FFFF74\\\",\\\"#FFFF74\\\",\\\"#FFFF74\\\"],\\\"x\\\":[-0.539345,0.872678,0.872678,0.539345]},{\\\"x\\\":[-0.539345,0.872678,0.872678,0.539345],\\\"mode\\\":\\\"markers\\\",\\\"textposition\\\":\\\"bottom center\\\",\\\"y\\\":[0.0,0.872678,-0.872678,0.0],\\\"type\\\":\\\"scatter3d\\\",\\\"text\\\":[\\\"1\\\",\\\"2\\\",\\\"3\\\",\\\"4\\\"],\\\"z\\\":[1.41202,0.872678,0.872678,1.41202],\\\"marker\\\":{\\\"color\\\":\\\"#000000\\\",\\\"size\\\":4}},{\\\"mode\\\":\\\"lines\\\",\\\"line\\\":{\\\"color\\\":\\\"black\\\"},\\\"y\\\":[-0.872678,0.0],\\\"type\\\":\\\"scatter3d\\\",\\\"z\\\":[0.872678,1.41202],\\\"x\\\":[0.872678,0.539345]},{\\\"mode\\\":\\\"lines\\\",\\\"line\\\":{\\\"color\\\":\\\"black\\\"},\\\"y\\\":[0.872678,0.0],\\\"type\\\":\\\"scatter3d\\\",\\\"z\\\":[0.872678,1.41202],\\\"x\\\":[0.872678,0.539345]},{\\\"mode\\\":\\\"lines\\\",\\\"line\\\":{\\\"color\\\":\\\"black\\\"},\\\"y\\\":[0.872678,-0.872678],\\\"type\\\":\\\"scatter3d\\\",\\\"z\\\":[0.872678,0.872678],\\\"x\\\":[0.872678,0.872678]},{\\\"mode\\\":\\\"lines\\\",\\\"line\\\":{\\\"color\\\":\\\"black\\\"},\\\"y\\\":[0.0,0.0],\\\"type\\\":\\\"scatter3d\\\",\\\"z\\\":[1.41202,1.41202],\\\"x\\\":[-0.539345,0.539345]},{\\\"mode\\\":\\\"lines\\\",\\\"line\\\":{\\\"color\\\":\\\"black\\\"},\\\"y\\\":[0.0,-0.872678],\\\"type\\\":\\\"scatter3d\\\",\\\"z\\\":[1.41202,0.872678],\\\"x\\\":[-0.539345,0.872678]},{\\\"mode\\\":\\\"lines\\\",\\\"line\\\":{\\\"color\\\":\\\"black\\\"},\\\"y\\\":[0.0,0.872678],\\\"type\\\":\\\"scatter3d\\\",\\\"z\\\":[1.41202,0.872678],\\\"x\\\":[-0.539345,0.872678]},{\\\"y\\\":[0.0,0.872678,-0.872678,0.0],\\\"type\\\":\\\"mesh3d\\\",\\\"j\\\":[1,1,2,2],\\\"k\\\":[2,3,3,3],\\\"opacity\\\":0.6,\\\"z\\\":[1.41202,0.872678,0.872678,1.41202],\\\"i\\\":[0,0,0,1],\\\"facecolor\\\":[\\\"#000000\\\",\\\"#000000\\\",\\\"#000000\\\",\\\"#000000\\\"],\\\"x\\\":[-0.539345,0.872678,0.872678,0.539345]}],{\\\"showlegend\\\":false,\\\"template\\\":{\\\"layout\\\":{\\\"coloraxis\\\":{\\\"colorbar\\\":{\\\"ticks\\\":\\\"\\\",\\\"outlinewidth\\\":0}},\\\"xaxis\\\":{\\\"gridcolor\\\":\\\"white\\\",\\\"zerolinewidth\\\":2,\\\"title\\\":{\\\"standoff\\\":15},\\\"ticks\\\":\\\"\\\",\\\"zerolinecolor\\\":\\\"white\\\",\\\"automargin\\\":true,\\\"linecolor\\\":\\\"white\\\"},\\\"hovermode\\\":\\\"closest\\\",\\\"paper_bgcolor\\\":\\\"white\\\",\\\"geo\\\":{\\\"showlakes\\\":true,\\\"showland\\\":true,\\\"landcolor\\\":\\\"#E5ECF6\\\",\\\"bgcolor\\\":\\\"white\\\",\\\"subunitcolor\\\":\\\"white\\\",\\\"lakecolor\\\":\\\"white\\\"},\\\"colorscale\\\":{\\\"sequential\\\":[[0.0,\\\"#0d0887\\\"],[0.1111111111111111,\\\"#46039f\\\"],[0.2222222222222222,\\\"#7201a8\\\"],[0.3333333333333333,\\\"#9c179e\\\"],[0.4444444444444444,\\\"#bd3786\\\"],[0.5555555555555556,\\\"#d8576b\\\"],[0.6666666666666666,\\\"#ed7953\\\"],[0.7777777777777778,\\\"#fb9f3a\\\"],[0.8888888888888888,\\\"#fdca26\\\"],[1.0,\\\"#f0f921\\\"]],\\\"diverging\\\":[[0,\\\"#8e0152\\\"],[0.1,\\\"#c51b7d\\\"],[0.2,\\\"#de77ae\\\"],[0.3,\\\"#f1b6da\\\"],[0.4,\\\"#fde0ef\\\"],[0.5,\\\"#f7f7f7\\\"],[0.6,\\\"#e6f5d0\\\"],[0.7,\\\"#b8e186\\\"],[0.8,\\\"#7fbc41\\\"],[0.9,\\\"#4d9221\\\"],[1,\\\"#276419\\\"]],\\\"sequentialminus\\\":[[0.0,\\\"#0d0887\\\"],[0.1111111111111111,\\\"#46039f\\\"],[0.2222222222222222,\\\"#7201a8\\\"],[0.3333333333333333,\\\"#9c179e\\\"],[0.4444444444444444,\\\"#bd3786\\\"],[0.5555555555555556,\\\"#d8576b\\\"],[0.6666666666666666,\\\"#ed7953\\\"],[0.7777777777777778,\\\"#fb9f3a\\\"],[0.8888888888888888,\\\"#fdca26\\\"],[1.0,\\\"#f0f921\\\"]]},\\\"yaxis\\\":{\\\"gridcolor\\\":\\\"white\\\",\\\"zerolinewidth\\\":2,\\\"title\\\":{\\\"standoff\\\":15},\\\"ticks\\\":\\\"\\\",\\\"zerolinecolor\\\":\\\"white\\\",\\\"automargin\\\":true,\\\"linecolor\\\":\\\"white\\\"},\\\"shapedefaults\\\":{\\\"line\\\":{\\\"color\\\":\\\"#2a3f5f\\\"}},\\\"hoverlabel\\\":{\\\"align\\\":\\\"left\\\"},\\\"mapbox\\\":{\\\"style\\\":\\\"light\\\"},\\\"polar\\\":{\\\"angularaxis\\\":{\\\"gridcolor\\\":\\\"white\\\",\\\"ticks\\\":\\\"\\\",\\\"linecolor\\\":\\\"white\\\"},\\\"bgcolor\\\":\\\"#E5ECF6\\\",\\\"radialaxis\\\":{\\\"gridcolor\\\":\\\"white\\\",\\\"ticks\\\":\\\"\\\",\\\"linecolor\\\":\\\"white\\\"}},\\\"autotypenumbers\\\":\\\"strict\\\",\\\"font\\\":{\\\"color\\\":\\\"#2a3f5f\\\"},\\\"ternary\\\":{\\\"baxis\\\":{\\\"gridcolor\\\":\\\"white\\\",\\\"ticks\\\":\\\"\\\",\\\"linecolor\\\":\\\"white\\\"},\\\"bgcolor\\\":\\\"#E5ECF6\\\",\\\"caxis\\\":{\\\"gridcolor\\\":\\\"white\\\",\\\"ticks\\\":\\\"\\\",\\\"linecolor\\\":\\\"white\\\"},\\\"aaxis\\\":{\\\"gridcolor\\\":\\\"white\\\",\\\"ticks\\\":\\\"\\\",\\\"linecolor\\\":\\\"white\\\"}},\\\"annotationdefaults\\\":{\\\"arrowhead\\\":0,\\\"arrowwidth\\\":1,\\\"arrowcolor\\\":\\\"#2a3f5f\\\"},\\\"plot_bgcolor\\\":\\\"#E5ECF6\\\",\\\"title\\\":{\\\"x\\\":0.05},\\\"scene\\\":{\\\"xaxis\\\":{\\\"gridcolor\\\":\\\"white\\\",\\\"gridwidth\\\":2,\\\"backgroundcolor\\\":\\\"#E5ECF6\\\",\\\"ticks\\\":\\\"\\\",\\\"showbackground\\\":true,\\\"zerolinecolor\\\":\\\"white\\\",\\\"linecolor\\\":\\\"white\\\"},\\\"zaxis\\\":{\\\"gridcolor\\\":\\\"white\\\",\\\"gridwidth\\\":2,\\\"backgroundcolor\\\":\\\"#E5ECF6\\\",\\\"ticks\\\":\\\"\\\",\\\"showbackground\\\":true,\\\"zerolinecolor\\\":\\\"white\\\",\\\"linecolor\\\":\\\"white\\\"},\\\"yaxis\\\":{\\\"gridcolor\\\":\\\"white\\\",\\\"gridwidth\\\":2,\\\"backgroundcolor\\\":\\\"#E5ECF6\\\",\\\"ticks\\\":\\\"\\\",\\\"showbackground\\\":true,\\\"zerolinecolor\\\":\\\"white\\\",\\\"linecolor\\\":\\\"white\\\"}},\\\"colorway\\\":[\\\"#636efa\\\",\\\"#EF553B\\\",\\\"#00cc96\\\",\\\"#ab63fa\\\",\\\"#FFA15A\\\",\\\"#19d3f3\\\",\\\"#FF6692\\\",\\\"#B6E880\\\",\\\"#FF97FF\\\",\\\"#FECB52\\\"]},\\\"data\\\":{\\\"barpolar\\\":[{\\\"type\\\":\\\"barpolar\\\",\\\"marker\\\":{\\\"line\\\":{\\\"color\\\":\\\"#E5ECF6\\\",\\\"width\\\":0.5}}}],\\\"carpet\\\":[{\\\"aaxis\\\":{\\\"gridcolor\\\":\\\"white\\\",\\\"endlinecolor\\\":\\\"#2a3f5f\\\",\\\"minorgridcolor\\\":\\\"white\\\",\\\"startlinecolor\\\":\\\"#2a3f5f\\\",\\\"linecolor\\\":\\\"white\\\"},\\\"type\\\":\\\"carpet\\\",\\\"baxis\\\":{\\\"gridcolor\\\":\\\"white\\\",\\\"endlinecolor\\\":\\\"#2a3f5f\\\",\\\"minorgridcolor\\\":\\\"white\\\",\\\"startlinecolor\\\":\\\"#2a3f5f\\\",\\\"linecolor\\\":\\\"white\\\"}}],\\\"scatterpolar\\\":[{\\\"type\\\":\\\"scatterpolar\\\",\\\"marker\\\":{\\\"colorbar\\\":{\\\"ticks\\\":\\\"\\\",\\\"outlinewidth\\\":0}}}],\\\"parcoords\\\":[{\\\"line\\\":{\\\"colorbar\\\":{\\\"ticks\\\":\\\"\\\",\\\"outlinewidth\\\":0}},\\\"type\\\":\\\"parcoords\\\"}],\\\"scatter\\\":[{\\\"type\\\":\\\"scatter\\\",\\\"marker\\\":{\\\"colorbar\\\":{\\\"ticks\\\":\\\"\\\",\\\"outlinewidth\\\":0}}}],\\\"histogram2dcontour\\\":[{\\\"colorbar\\\":{\\\"ticks\\\":\\\"\\\",\\\"outlinewidth\\\":0},\\\"type\\\":\\\"histogram2dcontour\\\",\\\"colorscale\\\":[[0.0,\\\"#0d0887\\\"],[0.1111111111111111,\\\"#46039f\\\"],[0.2222222222222222,\\\"#7201a8\\\"],[0.3333333333333333,\\\"#9c179e\\\"],[0.4444444444444444,\\\"#bd3786\\\"],[0.5555555555555556,\\\"#d8576b\\\"],[0.6666666666666666,\\\"#ed7953\\\"],[0.7777777777777778,\\\"#fb9f3a\\\"],[0.8888888888888888,\\\"#fdca26\\\"],[1.0,\\\"#f0f921\\\"]]}],\\\"contour\\\":[{\\\"colorbar\\\":{\\\"ticks\\\":\\\"\\\",\\\"outlinewidth\\\":0},\\\"type\\\":\\\"contour\\\",\\\"colorscale\\\":[[0.0,\\\"#0d0887\\\"],[0.1111111111111111,\\\"#46039f\\\"],[0.2222222222222222,\\\"#7201a8\\\"],[0.3333333333333333,\\\"#9c179e\\\"],[0.4444444444444444,\\\"#bd3786\\\"],[0.5555555555555556,\\\"#d8576b\\\"],[0.6666666666666666,\\\"#ed7953\\\"],[0.7777777777777778,\\\"#fb9f3a\\\"],[0.8888888888888888,\\\"#fdca26\\\"],[1.0,\\\"#f0f921\\\"]]}],\\\"scattercarpet\\\":[{\\\"type\\\":\\\"scattercarpet\\\",\\\"marker\\\":{\\\"colorbar\\\":{\\\"ticks\\\":\\\"\\\",\\\"outlinewidth\\\":0}}}],\\\"mesh3d\\\":[{\\\"colorbar\\\":{\\\"ticks\\\":\\\"\\\",\\\"outlinewidth\\\":0},\\\"type\\\":\\\"mesh3d\\\"}],\\\"surface\\\":[{\\\"colorbar\\\":{\\\"ticks\\\":\\\"\\\",\\\"outlinewidth\\\":0},\\\"type\\\":\\\"surface\\\",\\\"colorscale\\\":[[0.0,\\\"#0d0887\\\"],[0.1111111111111111,\\\"#46039f\\\"],[0.2222222222222222,\\\"#7201a8\\\"],[0.3333333333333333,\\\"#9c179e\\\"],[0.4444444444444444,\\\"#bd3786\\\"],[0.5555555555555556,\\\"#d8576b\\\"],[0.6666666666666666,\\\"#ed7953\\\"],[0.7777777777777778,\\\"#fb9f3a\\\"],[0.8888888888888888,\\\"#fdca26\\\"],[1.0,\\\"#f0f921\\\"]]}],\\\"scattermapbox\\\":[{\\\"type\\\":\\\"scattermapbox\\\",\\\"marker\\\":{\\\"colorbar\\\":{\\\"ticks\\\":\\\"\\\",\\\"outlinewidth\\\":0}}}],\\\"scattergeo\\\":[{\\\"type\\\":\\\"scattergeo\\\",\\\"marker\\\":{\\\"colorbar\\\":{\\\"ticks\\\":\\\"\\\",\\\"outlinewidth\\\":0}}}],\\\"histogram\\\":[{\\\"type\\\":\\\"histogram\\\",\\\"marker\\\":{\\\"colorbar\\\":{\\\"ticks\\\":\\\"\\\",\\\"outlinewidth\\\":0}}}],\\\"pie\\\":[{\\\"type\\\":\\\"pie\\\",\\\"automargin\\\":true}],\\\"choropleth\\\":[{\\\"colorbar\\\":{\\\"ticks\\\":\\\"\\\",\\\"outlinewidth\\\":0},\\\"type\\\":\\\"choropleth\\\"}],\\\"heatmapgl\\\":[{\\\"colorbar\\\":{\\\"ticks\\\":\\\"\\\",\\\"outlinewidth\\\":0},\\\"type\\\":\\\"heatmapgl\\\",\\\"colorscale\\\":[[0.0,\\\"#0d0887\\\"],[0.1111111111111111,\\\"#46039f\\\"],[0.2222222222222222,\\\"#7201a8\\\"],[0.3333333333333333,\\\"#9c179e\\\"],[0.4444444444444444,\\\"#bd3786\\\"],[0.5555555555555556,\\\"#d8576b\\\"],[0.6666666666666666,\\\"#ed7953\\\"],[0.7777777777777778,\\\"#fb9f3a\\\"],[0.8888888888888888,\\\"#fdca26\\\"],[1.0,\\\"#f0f921\\\"]]}],\\\"bar\\\":[{\\\"type\\\":\\\"bar\\\",\\\"error_y\\\":{\\\"color\\\":\\\"#2a3f5f\\\"},\\\"error_x\\\":{\\\"color\\\":\\\"#2a3f5f\\\"},\\\"marker\\\":{\\\"line\\\":{\\\"color\\\":\\\"#E5ECF6\\\",\\\"width\\\":0.5}}}],\\\"heatmap\\\":[{\\\"colorbar\\\":{\\\"ticks\\\":\\\"\\\",\\\"outlinewidth\\\":0},\\\"type\\\":\\\"heatmap\\\",\\\"colorscale\\\":[[0.0,\\\"#0d0887\\\"],[0.1111111111111111,\\\"#46039f\\\"],[0.2222222222222222,\\\"#7201a8\\\"],[0.3333333333333333,\\\"#9c179e\\\"],[0.4444444444444444,\\\"#bd3786\\\"],[0.5555555555555556,\\\"#d8576b\\\"],[0.6666666666666666,\\\"#ed7953\\\"],[0.7777777777777778,\\\"#fb9f3a\\\"],[0.8888888888888888,\\\"#fdca26\\\"],[1.0,\\\"#f0f921\\\"]]}],\\\"contourcarpet\\\":[{\\\"colorbar\\\":{\\\"ticks\\\":\\\"\\\",\\\"outlinewidth\\\":0},\\\"type\\\":\\\"contourcarpet\\\"}],\\\"table\\\":[{\\\"type\\\":\\\"table\\\",\\\"header\\\":{\\\"line\\\":{\\\"color\\\":\\\"white\\\"},\\\"fill\\\":{\\\"color\\\":\\\"#C8D4E3\\\"}},\\\"cells\\\":{\\\"line\\\":{\\\"color\\\":\\\"white\\\"},\\\"fill\\\":{\\\"color\\\":\\\"#EBF0F8\\\"}}}],\\\"scatter3d\\\":[{\\\"line\\\":{\\\"colorbar\\\":{\\\"ticks\\\":\\\"\\\",\\\"outlinewidth\\\":0}},\\\"type\\\":\\\"scatter3d\\\",\\\"marker\\\":{\\\"colorbar\\\":{\\\"ticks\\\":\\\"\\\",\\\"outlinewidth\\\":0}}}],\\\"scattergl\\\":[{\\\"type\\\":\\\"scattergl\\\",\\\"marker\\\":{\\\"colorbar\\\":{\\\"ticks\\\":\\\"\\\",\\\"outlinewidth\\\":0}}}],\\\"histogram2d\\\":[{\\\"colorbar\\\":{\\\"ticks\\\":\\\"\\\",\\\"outlinewidth\\\":0},\\\"type\\\":\\\"histogram2d\\\",\\\"colorscale\\\":[[0.0,\\\"#0d0887\\\"],[0.1111111111111111,\\\"#46039f\\\"],[0.2222222222222222,\\\"#7201a8\\\"],[0.3333333333333333,\\\"#9c179e\\\"],[0.4444444444444444,\\\"#bd3786\\\"],[0.5555555555555556,\\\"#d8576b\\\"],[0.6666666666666666,\\\"#ed7953\\\"],[0.7777777777777778,\\\"#fb9f3a\\\"],[0.8888888888888888,\\\"#fdca26\\\"],[1.0,\\\"#f0f921\\\"]]}],\\\"scatterternary\\\":[{\\\"type\\\":\\\"scatterternary\\\",\\\"marker\\\":{\\\"colorbar\\\":{\\\"ticks\\\":\\\"\\\",\\\"outlinewidth\\\":0}}}],\\\"scatterpolargl\\\":[{\\\"type\\\":\\\"scatterpolargl\\\",\\\"marker\\\":{\\\"colorbar\\\":{\\\"ticks\\\":\\\"\\\",\\\"outlinewidth\\\":0}}}]}},\\\"margin\\\":{\\\"l\\\":50,\\\"b\\\":50,\\\"r\\\":50,\\\"t\\\":60}},{\\\"showLink\\\":false,\\\"editable\\\":false,\\\"responsive\\\":true,\\\"staticPlot\\\":false,\\\"scrollZoom\\\":true}); gd.on(\\\"plotly_hover\\\",(function (data){var filtered_data=WebIO.PlotlyCommands.filterEventData(gd,data,\\\"hover\\\"); return !(filtered_data.isnil) ? (WebIO.setval({\\\"name\\\":\\\"hover\\\",\\\"scope\\\":\\\"1666782335039859445\\\",\\\"id\\\":\\\"9274631866020476723\\\",\\\"type\\\":\\\"observable\\\"},filtered_data.out)) : undefined})); gd.on(\\\"plotly_unhover\\\",(function (){return WebIO.setval({\\\"name\\\":\\\"hover\\\",\\\"scope\\\":\\\"1666782335039859445\\\",\\\"id\\\":\\\"9274631866020476723\\\",\\\"type\\\":\\\"observable\\\"},{})})); gd.on(\\\"plotly_selected\\\",(function (data){var filtered_data=WebIO.PlotlyCommands.filterEventData(gd,data,\\\"selected\\\"); return !(filtered_data.isnil) ? (WebIO.setval({\\\"name\\\":\\\"selected\\\",\\\"scope\\\":\\\"1666782335039859445\\\",\\\"id\\\":\\\"7201973150863857186\\\",\\\"type\\\":\\\"observable\\\"},filtered_data.out)) : undefined})); gd.on(\\\"plotly_deselect\\\",(function (){return WebIO.setval({\\\"name\\\":\\\"selected\\\",\\\"scope\\\":\\\"1666782335039859445\\\",\\\"id\\\":\\\"7201973150863857186\\\",\\\"type\\\":\\\"observable\\\"},{})})); gd.on(\\\"plotly_relayout\\\",(function (data){var filtered_data=WebIO.PlotlyCommands.filterEventData(gd,data,\\\"relayout\\\"); return !(filtered_data.isnil) ? (WebIO.setval({\\\"name\\\":\\\"relayout\\\",\\\"scope\\\":\\\"1666782335039859445\\\",\\\"id\\\":\\\"6731675202395492146\\\",\\\"type\\\":\\\"observable\\\"},filtered_data.out)) : undefined})); return gd.on(\\\"plotly_click\\\",(function (data){var filtered_data=WebIO.PlotlyCommands.filterEventData(gd,data,\\\"click\\\"); return !(filtered_data.isnil) ? (WebIO.setval({\\\"name\\\":\\\"click\\\",\\\"scope\\\":\\\"1666782335039859445\\\",\\\"id\\\":\\\"13837653040218362408\\\",\\\"type\\\":\\\"observable\\\"},filtered_data.out)) : undefined}))}));\\n    (WebIO.importBlock({\\\"data\\\":[{\\\"name\\\":\\\"Plotly\\\",\\\"type\\\":\\\"js\\\",\\\"url\\\":\\\"\\/assetserver\\/d18d62e3d860f95bdd778d5ce0d98356c8e8cd70-plotly.min.js\\\"},{\\\"name\\\":null,\\\"type\\\":\\\"js\\\",\\\"url\\\":\\\"\\/assetserver\\/3ce237707c6799d71e862d9d30b4d1f68d73bd38-plotly_webio.bundle.js\\\"}],\\\"type\\\":\\\"async_block\\\"})).then((imports) => handler.apply(this, imports));\\n}\\n\"],\"observables\":{\"_toImage\":{\"sync\":false,\"id\":\"16129730512811980634\",\"value\":{}},\"hover\":{\"sync\":false,\"id\":\"9274631866020476723\",\"value\":{}},\"selected\":{\"sync\":false,\"id\":\"7201973150863857186\",\"value\":{}},\"__gd_contents\":{\"sync\":false,\"id\":\"13213118729417378517\",\"value\":{}},\"click\":{\"sync\":false,\"id\":\"13837653040218362408\",\"value\":{}},\"image\":{\"sync\":true,\"id\":\"10580521689499206823\",\"value\":\"\"},\"__get_gd_contents\":{\"sync\":false,\"id\":\"897710448804758922\",\"value\":\"\"},\"_downloadImage\":{\"sync\":false,\"id\":\"6945689602481418927\",\"value\":{}},\"relayout\":{\"sync\":false,\"id\":\"6731675202395492146\",\"value\":{}},\"_commands\":{\"sync\":false,\"id\":\"14938157394362692526\",\"value\":[]}}},\"children\":[{\"props\":{\"id\":\"plot-26d7c7ab-401e-433f-9ccf-260fffb9dafb\"},\"nodeType\":\"DOM\",\"type\":\"node\",\"instanceArgs\":{\"namespace\":\"html\",\"tag\":\"div\"},\"children\":[]}]},\n",
       "        window,\n",
       "    );\n",
       "    })()\n",
       "    </script>\n",
       "</div>\n"
      ],
      "text/plain": [
       "data: [\n",
       "  \"scatter3d with fields marker, mode, text, textposition, type, x, y, and z\",\n",
       "  \"scatter3d with fields line, mode, type, x, y, and z\",\n",
       "  \"scatter3d with fields line, mode, type, x, y, and z\",\n",
       "  \"scatter3d with fields line, mode, type, x, y, and z\",\n",
       "  \"scatter3d with fields line, mode, type, x, y, and z\",\n",
       "  \"scatter3d with fields line, mode, type, x, y, and z\",\n",
       "  \"scatter3d with fields line, mode, type, x, y, and z\",\n",
       "  \"scatter3d with fields line, mode, type, x, y, and z\",\n",
       "  \"scatter3d with fields line, mode, type, x, y, and z\",\n",
       "  \"scatter3d with fields line, mode, type, x, y, and z\",\n",
       "  \"scatter3d with fields line, mode, type, x, y, and z\",\n",
       "  \"scatter3d with fields line, mode, type, x, y, and z\",\n",
       "  \"scatter3d with fields line, mode, type, x, y, and z\",\n",
       "  \"scatter3d with fields line, mode, type, x, y, and z\",\n",
       "  \"scatter3d with fields line, mode, type, x, y, and z\",\n",
       "  \"scatter3d with fields line, mode, type, x, y, and z\",\n",
       "  \"scatter3d with fields line, mode, type, x, y, and z\",\n",
       "  \"scatter3d with fields line, mode, type, x, y, and z\",\n",
       "  \"scatter3d with fields line, mode, type, x, y, and z\",\n",
       "  \"scatter3d with fields line, mode, type, x, y, and z\",\n",
       "  \"scatter3d with fields line, mode, type, x, y, and z\",\n",
       "  \"scatter3d with fields line, mode, type, x, y, and z\",\n",
       "  \"scatter3d with fields line, mode, type, x, y, and z\",\n",
       "  \"scatter3d with fields line, mode, type, x, y, and z\",\n",
       "  \"scatter3d with fields line, mode, type, x, y, and z\",\n",
       "  \"scatter3d with fields line, mode, type, x, y, and z\",\n",
       "  \"scatter3d with fields line, mode, type, x, y, and z\",\n",
       "  \"scatter3d with fields line, mode, type, x, y, and z\",\n",
       "  \"scatter3d with fields line, mode, type, x, y, and z\",\n",
       "  \"scatter3d with fields line, mode, type, x, y, and z\",\n",
       "  \"scatter3d with fields line, mode, type, x, y, and z\",\n",
       "  \"scatter3d with fields line, mode, type, x, y, and z\",\n",
       "  \"scatter3d with fields line, mode, type, x, y, and z\",\n",
       "  \"scatter3d with fields line, mode, type, x, y, and z\",\n",
       "  \"scatter3d with fields line, mode, type, x, y, and z\",\n",
       "  \"scatter3d with fields line, mode, type, x, y, and z\",\n",
       "  \"scatter3d with fields line, mode, type, x, y, and z\",\n",
       "  \"scatter3d with fields line, mode, type, x, y, and z\",\n",
       "  \"scatter3d with fields line, mode, type, x, y, and z\",\n",
       "  \"scatter3d with fields line, mode, type, x, y, and z\",\n",
       "  \"scatter3d with fields line, mode, type, x, y, and z\",\n",
       "  \"scatter3d with fields line, mode, type, x, y, and z\",\n",
       "  \"scatter3d with fields line, mode, type, x, y, and z\",\n",
       "  \"scatter3d with fields line, mode, type, x, y, and z\",\n",
       "  \"scatter3d with fields line, mode, type, x, y, and z\",\n",
       "  \"scatter3d with fields line, mode, type, x, y, and z\",\n",
       "  \"mesh3d with fields facecolor, i, j, k, opacity, type, x, y, and z\",\n",
       "  \"scatter3d with fields marker, mode, text, textposition, type, x, y, and z\",\n",
       "  \"scatter3d with fields line, mode, type, x, y, and z\",\n",
       "  \"scatter3d with fields line, mode, type, x, y, and z\",\n",
       "  \"scatter3d with fields line, mode, type, x, y, and z\",\n",
       "  \"scatter3d with fields line, mode, type, x, y, and z\",\n",
       "  \"scatter3d with fields line, mode, type, x, y, and z\",\n",
       "  \"scatter3d with fields line, mode, type, x, y, and z\",\n",
       "  \"mesh3d with fields facecolor, i, j, k, opacity, type, x, y, and z\",\n",
       "  \"scatter3d with fields marker, mode, text, textposition, type, x, y, and z\",\n",
       "  \"scatter3d with fields line, mode, type, x, y, and z\",\n",
       "  \"scatter3d with fields line, mode, type, x, y, and z\",\n",
       "  \"scatter3d with fields line, mode, type, x, y, and z\",\n",
       "  \"scatter3d with fields line, mode, type, x, y, and z\",\n",
       "  \"scatter3d with fields line, mode, type, x, y, and z\",\n",
       "  \"scatter3d with fields line, mode, type, x, y, and z\",\n",
       "  \"mesh3d with fields facecolor, i, j, k, opacity, type, x, y, and z\",\n",
       "  \"scatter3d with fields marker, mode, text, textposition, type, x, y, and z\",\n",
       "  \"scatter3d with fields line, mode, type, x, y, and z\",\n",
       "  \"scatter3d with fields line, mode, type, x, y, and z\",\n",
       "  \"scatter3d with fields line, mode, type, x, y, and z\",\n",
       "  \"scatter3d with fields line, mode, type, x, y, and z\",\n",
       "  \"scatter3d with fields line, mode, type, x, y, and z\",\n",
       "  \"scatter3d with fields line, mode, type, x, y, and z\",\n",
       "  \"mesh3d with fields facecolor, i, j, k, opacity, type, x, y, and z\"\n",
       "]\n",
       "\n",
       "layout: \"layout with fields margin, showlegend, and template\"\n",
       "\n"
      ]
     },
     "metadata": {},
     "output_type": "display_data"
    }
   ],
   "source": [
    "plotAssembly(convexDecomposition(Dodecahedron))"
   ]
  },
  {
   "cell_type": "code",
   "execution_count": 4,
   "metadata": {},
   "outputs": [
    {
     "data": {
      "text/plain": [
       "2-element Vector{Vector{Int64}}:\n",
       " [4, 17]\n",
       " [12, 17]"
      ]
     },
     "metadata": {},
     "output_type": "display_data"
    }
   ],
   "source": [
    "poly = triangulatePolyhedron(Dodecahedron)\n",
    "\n",
    "poly.edges[[!isturnable(e, poly) for e in poly.edges]]"
   ]
  },
  {
   "cell_type": "code",
   "execution_count": 15,
   "metadata": {},
   "outputs": [
    {
     "data": {
      "text/plain": [
       "\"yes\""
      ]
     },
     "metadata": {},
     "output_type": "display_data"
    }
   ],
   "source": [
    "a = 3==3 ? \"yes\" : no"
   ]
  },
  {
   "cell_type": "markdown",
   "metadata": {},
   "source": [
    "## Experimente"
   ]
  },
  {
   "cell_type": "code",
   "execution_count": 17,
   "metadata": {},
   "outputs": [
    {
     "data": {
      "application/vnd.plotly.v1+json": {
       "config": {
        "editable": false,
        "responsive": true,
        "scrollZoom": true,
        "showLink": false,
        "staticPlot": false
       },
       "data": [
        {
         "facecolor": [
          "rgb(50, 200, 200)",
          "rgb(50, 200, 200)",
          "rgb(100, 200, 255)",
          "rgb(100, 200, 255)",
          "rgb(150, 200, 115)",
          "rgb(150, 200, 115)",
          "rgb(200, 200, 50)",
          "rgb(200, 200, 50)",
          "rgb(230, 200, 10)",
          "rgb(230, 200, 10)",
          "rgb(255, 140, 0)",
          "rgb(255, 140, 0)"
         ],
         "i": [
          7,
          0,
          0,
          0,
          4,
          4,
          2,
          6,
          4,
          0,
          3,
          7
         ],
         "j": [
          3,
          4,
          1,
          2,
          5,
          6,
          5,
          5,
          0,
          1,
          2,
          2
         ],
         "k": [
          0,
          7,
          2,
          3,
          6,
          7,
          1,
          2,
          5,
          5,
          7,
          6
         ],
         "type": "mesh3d",
         "x": [
          0,
          0,
          1,
          1,
          0,
          0,
          1,
          1
         ],
         "y": [
          0,
          1,
          1,
          0,
          0,
          1,
          1,
          0
         ],
         "z": [
          0,
          0,
          0,
          0,
          1,
          1,
          1,
          1
         ]
        }
       ],
       "frames": [],
       "layout": {
        "margin": {
         "b": 50,
         "l": 50,
         "r": 50,
         "t": 60
        },
        "template": {
         "data": {
          "bar": [
           {
            "error_x": {
             "color": "#2a3f5f"
            },
            "error_y": {
             "color": "#2a3f5f"
            },
            "marker": {
             "line": {
              "color": "#E5ECF6",
              "width": 0.5
             }
            },
            "type": "bar"
           }
          ],
          "barpolar": [
           {
            "marker": {
             "line": {
              "color": "#E5ECF6",
              "width": 0.5
             }
            },
            "type": "barpolar"
           }
          ],
          "carpet": [
           {
            "aaxis": {
             "endlinecolor": "#2a3f5f",
             "gridcolor": "white",
             "linecolor": "white",
             "minorgridcolor": "white",
             "startlinecolor": "#2a3f5f"
            },
            "baxis": {
             "endlinecolor": "#2a3f5f",
             "gridcolor": "white",
             "linecolor": "white",
             "minorgridcolor": "white",
             "startlinecolor": "#2a3f5f"
            },
            "type": "carpet"
           }
          ],
          "choropleth": [
           {
            "colorbar": {
             "outlinewidth": 0,
             "ticks": ""
            },
            "type": "choropleth"
           }
          ],
          "contour": [
           {
            "colorbar": {
             "outlinewidth": 0,
             "ticks": ""
            },
            "colorscale": [
             [
              0,
              "#0d0887"
             ],
             [
              0.1111111111111111,
              "#46039f"
             ],
             [
              0.2222222222222222,
              "#7201a8"
             ],
             [
              0.3333333333333333,
              "#9c179e"
             ],
             [
              0.4444444444444444,
              "#bd3786"
             ],
             [
              0.5555555555555556,
              "#d8576b"
             ],
             [
              0.6666666666666666,
              "#ed7953"
             ],
             [
              0.7777777777777778,
              "#fb9f3a"
             ],
             [
              0.8888888888888888,
              "#fdca26"
             ],
             [
              1,
              "#f0f921"
             ]
            ],
            "type": "contour"
           }
          ],
          "contourcarpet": [
           {
            "colorbar": {
             "outlinewidth": 0,
             "ticks": ""
            },
            "type": "contourcarpet"
           }
          ],
          "heatmap": [
           {
            "colorbar": {
             "outlinewidth": 0,
             "ticks": ""
            },
            "colorscale": [
             [
              0,
              "#0d0887"
             ],
             [
              0.1111111111111111,
              "#46039f"
             ],
             [
              0.2222222222222222,
              "#7201a8"
             ],
             [
              0.3333333333333333,
              "#9c179e"
             ],
             [
              0.4444444444444444,
              "#bd3786"
             ],
             [
              0.5555555555555556,
              "#d8576b"
             ],
             [
              0.6666666666666666,
              "#ed7953"
             ],
             [
              0.7777777777777778,
              "#fb9f3a"
             ],
             [
              0.8888888888888888,
              "#fdca26"
             ],
             [
              1,
              "#f0f921"
             ]
            ],
            "type": "heatmap"
           }
          ],
          "heatmapgl": [
           {
            "colorbar": {
             "outlinewidth": 0,
             "ticks": ""
            },
            "colorscale": [
             [
              0,
              "#0d0887"
             ],
             [
              0.1111111111111111,
              "#46039f"
             ],
             [
              0.2222222222222222,
              "#7201a8"
             ],
             [
              0.3333333333333333,
              "#9c179e"
             ],
             [
              0.4444444444444444,
              "#bd3786"
             ],
             [
              0.5555555555555556,
              "#d8576b"
             ],
             [
              0.6666666666666666,
              "#ed7953"
             ],
             [
              0.7777777777777778,
              "#fb9f3a"
             ],
             [
              0.8888888888888888,
              "#fdca26"
             ],
             [
              1,
              "#f0f921"
             ]
            ],
            "type": "heatmapgl"
           }
          ],
          "histogram": [
           {
            "marker": {
             "colorbar": {
              "outlinewidth": 0,
              "ticks": ""
             }
            },
            "type": "histogram"
           }
          ],
          "histogram2d": [
           {
            "colorbar": {
             "outlinewidth": 0,
             "ticks": ""
            },
            "colorscale": [
             [
              0,
              "#0d0887"
             ],
             [
              0.1111111111111111,
              "#46039f"
             ],
             [
              0.2222222222222222,
              "#7201a8"
             ],
             [
              0.3333333333333333,
              "#9c179e"
             ],
             [
              0.4444444444444444,
              "#bd3786"
             ],
             [
              0.5555555555555556,
              "#d8576b"
             ],
             [
              0.6666666666666666,
              "#ed7953"
             ],
             [
              0.7777777777777778,
              "#fb9f3a"
             ],
             [
              0.8888888888888888,
              "#fdca26"
             ],
             [
              1,
              "#f0f921"
             ]
            ],
            "type": "histogram2d"
           }
          ],
          "histogram2dcontour": [
           {
            "colorbar": {
             "outlinewidth": 0,
             "ticks": ""
            },
            "colorscale": [
             [
              0,
              "#0d0887"
             ],
             [
              0.1111111111111111,
              "#46039f"
             ],
             [
              0.2222222222222222,
              "#7201a8"
             ],
             [
              0.3333333333333333,
              "#9c179e"
             ],
             [
              0.4444444444444444,
              "#bd3786"
             ],
             [
              0.5555555555555556,
              "#d8576b"
             ],
             [
              0.6666666666666666,
              "#ed7953"
             ],
             [
              0.7777777777777778,
              "#fb9f3a"
             ],
             [
              0.8888888888888888,
              "#fdca26"
             ],
             [
              1,
              "#f0f921"
             ]
            ],
            "type": "histogram2dcontour"
           }
          ],
          "mesh3d": [
           {
            "colorbar": {
             "outlinewidth": 0,
             "ticks": ""
            },
            "type": "mesh3d"
           }
          ],
          "parcoords": [
           {
            "line": {
             "colorbar": {
              "outlinewidth": 0,
              "ticks": ""
             }
            },
            "type": "parcoords"
           }
          ],
          "pie": [
           {
            "automargin": true,
            "type": "pie"
           }
          ],
          "scatter": [
           {
            "marker": {
             "colorbar": {
              "outlinewidth": 0,
              "ticks": ""
             }
            },
            "type": "scatter"
           }
          ],
          "scatter3d": [
           {
            "line": {
             "colorbar": {
              "outlinewidth": 0,
              "ticks": ""
             }
            },
            "marker": {
             "colorbar": {
              "outlinewidth": 0,
              "ticks": ""
             }
            },
            "type": "scatter3d"
           }
          ],
          "scattercarpet": [
           {
            "marker": {
             "colorbar": {
              "outlinewidth": 0,
              "ticks": ""
             }
            },
            "type": "scattercarpet"
           }
          ],
          "scattergeo": [
           {
            "marker": {
             "colorbar": {
              "outlinewidth": 0,
              "ticks": ""
             }
            },
            "type": "scattergeo"
           }
          ],
          "scattergl": [
           {
            "marker": {
             "colorbar": {
              "outlinewidth": 0,
              "ticks": ""
             }
            },
            "type": "scattergl"
           }
          ],
          "scattermapbox": [
           {
            "marker": {
             "colorbar": {
              "outlinewidth": 0,
              "ticks": ""
             }
            },
            "type": "scattermapbox"
           }
          ],
          "scatterpolar": [
           {
            "marker": {
             "colorbar": {
              "outlinewidth": 0,
              "ticks": ""
             }
            },
            "type": "scatterpolar"
           }
          ],
          "scatterpolargl": [
           {
            "marker": {
             "colorbar": {
              "outlinewidth": 0,
              "ticks": ""
             }
            },
            "type": "scatterpolargl"
           }
          ],
          "scatterternary": [
           {
            "marker": {
             "colorbar": {
              "outlinewidth": 0,
              "ticks": ""
             }
            },
            "type": "scatterternary"
           }
          ],
          "surface": [
           {
            "colorbar": {
             "outlinewidth": 0,
             "ticks": ""
            },
            "colorscale": [
             [
              0,
              "#0d0887"
             ],
             [
              0.1111111111111111,
              "#46039f"
             ],
             [
              0.2222222222222222,
              "#7201a8"
             ],
             [
              0.3333333333333333,
              "#9c179e"
             ],
             [
              0.4444444444444444,
              "#bd3786"
             ],
             [
              0.5555555555555556,
              "#d8576b"
             ],
             [
              0.6666666666666666,
              "#ed7953"
             ],
             [
              0.7777777777777778,
              "#fb9f3a"
             ],
             [
              0.8888888888888888,
              "#fdca26"
             ],
             [
              1,
              "#f0f921"
             ]
            ],
            "type": "surface"
           }
          ],
          "table": [
           {
            "cells": {
             "fill": {
              "color": "#EBF0F8"
             },
             "line": {
              "color": "white"
             }
            },
            "header": {
             "fill": {
              "color": "#C8D4E3"
             },
             "line": {
              "color": "white"
             }
            },
            "type": "table"
           }
          ]
         },
         "layout": {
          "annotationdefaults": {
           "arrowcolor": "#2a3f5f",
           "arrowhead": 0,
           "arrowwidth": 1
          },
          "autotypenumbers": "strict",
          "coloraxis": {
           "colorbar": {
            "outlinewidth": 0,
            "ticks": ""
           }
          },
          "colorscale": {
           "diverging": [
            [
             0,
             "#8e0152"
            ],
            [
             0.1,
             "#c51b7d"
            ],
            [
             0.2,
             "#de77ae"
            ],
            [
             0.3,
             "#f1b6da"
            ],
            [
             0.4,
             "#fde0ef"
            ],
            [
             0.5,
             "#f7f7f7"
            ],
            [
             0.6,
             "#e6f5d0"
            ],
            [
             0.7,
             "#b8e186"
            ],
            [
             0.8,
             "#7fbc41"
            ],
            [
             0.9,
             "#4d9221"
            ],
            [
             1,
             "#276419"
            ]
           ],
           "sequential": [
            [
             0,
             "#0d0887"
            ],
            [
             0.1111111111111111,
             "#46039f"
            ],
            [
             0.2222222222222222,
             "#7201a8"
            ],
            [
             0.3333333333333333,
             "#9c179e"
            ],
            [
             0.4444444444444444,
             "#bd3786"
            ],
            [
             0.5555555555555556,
             "#d8576b"
            ],
            [
             0.6666666666666666,
             "#ed7953"
            ],
            [
             0.7777777777777778,
             "#fb9f3a"
            ],
            [
             0.8888888888888888,
             "#fdca26"
            ],
            [
             1,
             "#f0f921"
            ]
           ],
           "sequentialminus": [
            [
             0,
             "#0d0887"
            ],
            [
             0.1111111111111111,
             "#46039f"
            ],
            [
             0.2222222222222222,
             "#7201a8"
            ],
            [
             0.3333333333333333,
             "#9c179e"
            ],
            [
             0.4444444444444444,
             "#bd3786"
            ],
            [
             0.5555555555555556,
             "#d8576b"
            ],
            [
             0.6666666666666666,
             "#ed7953"
            ],
            [
             0.7777777777777778,
             "#fb9f3a"
            ],
            [
             0.8888888888888888,
             "#fdca26"
            ],
            [
             1,
             "#f0f921"
            ]
           ]
          },
          "colorway": [
           "#636efa",
           "#EF553B",
           "#00cc96",
           "#ab63fa",
           "#FFA15A",
           "#19d3f3",
           "#FF6692",
           "#B6E880",
           "#FF97FF",
           "#FECB52"
          ],
          "font": {
           "color": "#2a3f5f"
          },
          "geo": {
           "bgcolor": "white",
           "lakecolor": "white",
           "landcolor": "#E5ECF6",
           "showlakes": true,
           "showland": true,
           "subunitcolor": "white"
          },
          "hoverlabel": {
           "align": "left"
          },
          "hovermode": "closest",
          "mapbox": {
           "style": "light"
          },
          "paper_bgcolor": "white",
          "plot_bgcolor": "#E5ECF6",
          "polar": {
           "angularaxis": {
            "gridcolor": "white",
            "linecolor": "white",
            "ticks": ""
           },
           "bgcolor": "#E5ECF6",
           "radialaxis": {
            "gridcolor": "white",
            "linecolor": "white",
            "ticks": ""
           }
          },
          "scene": {
           "xaxis": {
            "backgroundcolor": "#E5ECF6",
            "gridcolor": "white",
            "gridwidth": 2,
            "linecolor": "white",
            "showbackground": true,
            "ticks": "",
            "zerolinecolor": "white"
           },
           "yaxis": {
            "backgroundcolor": "#E5ECF6",
            "gridcolor": "white",
            "gridwidth": 2,
            "linecolor": "white",
            "showbackground": true,
            "ticks": "",
            "zerolinecolor": "white"
           },
           "zaxis": {
            "backgroundcolor": "#E5ECF6",
            "gridcolor": "white",
            "gridwidth": 2,
            "linecolor": "white",
            "showbackground": true,
            "ticks": "",
            "zerolinecolor": "white"
           }
          },
          "shapedefaults": {
           "line": {
            "color": "#2a3f5f"
           }
          },
          "ternary": {
           "aaxis": {
            "gridcolor": "white",
            "linecolor": "white",
            "ticks": ""
           },
           "baxis": {
            "gridcolor": "white",
            "linecolor": "white",
            "ticks": ""
           },
           "bgcolor": "#E5ECF6",
           "caxis": {
            "gridcolor": "white",
            "linecolor": "white",
            "ticks": ""
           }
          },
          "title": {
           "x": 0.05
          },
          "xaxis": {
           "automargin": true,
           "gridcolor": "white",
           "linecolor": "white",
           "ticks": "",
           "title": {
            "standoff": 15
           },
           "zerolinecolor": "white",
           "zerolinewidth": 2
          },
          "yaxis": {
           "automargin": true,
           "gridcolor": "white",
           "linecolor": "white",
           "ticks": "",
           "title": {
            "standoff": 15
           },
           "zerolinecolor": "white",
           "zerolinewidth": 2
          }
         }
        }
       }
      },
      "image/png": "[encoded data removed]",
      "image/svg+xml": "<svg class=\"main-svg\" xmlns=\"http://www.w3.org/2000/svg\" xmlns:xlink=\"http://www.w3.org/1999/xlink\" width=\"700\" height=\"500\" style=\"\" viewBox=\"0 0 700 500\"><rect x=\"0\" y=\"0\" width=\"700\" height=\"500\" style=\"fill: rgb(255, 255, 255); fill-opacity: 1;\"/><defs id=\"defs-98b1d2\"><g class=\"clips\"/><g class=\"gradients\"/></defs><g class=\"bglayer\"/><g class=\"layer-below\"><g class=\"imagelayer\"/><g class=\"shapelayer\"/></g><g class=\"cartesianlayer\"/><g class=\"polarlayer\"/><g class=\"ternarylayer\"/><g class=\"geolayer\"/><g class=\"funnelarealayer\"/><g class=\"pielayer\"/><g class=\"treemaplayer\"/><g class=\"sunburstlayer\"/><g class=\"glimages\"><image xmlns=\"http://www.w3.org/2000/svg\" xlink:href=\"data:image/png;base64,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\" x=\"50\" y=\"60\" width=\"600\" height=\"390\" preserveAspectRatio=\"none\"/></g><defs id=\"topdefs-98b1d2\"><g class=\"clips\"/></defs><g class=\"layer-above\"><g class=\"imagelayer\"/><g class=\"shapelayer\"/></g><g class=\"infolayer\"><g class=\"g-gtitle\"/></g></svg>",
      "text/html": [
       "<div\n",
       "    class=\"webio-mountpoint\"\n",
       "    data-webio-mountpoint=\"11685345162212126119\"\n",
       ">\n",
       "    <script>\n",
       "    (function(){\n",
       "    // Some integrations (namely, IJulia/Jupyter) use an alternate render pathway than\n",
       "    // just putting the html on the page. If WebIO isn't defined, then it's pretty likely\n",
       "    // that we're in one of those situations and the integration just isn't installed\n",
       "    // correctly.\n",
       "    if (typeof window.WebIO === \"undefined\") {\n",
       "        document\n",
       "            .querySelector('[data-webio-mountpoint=\"11685345162212126119\"]')\n",
       "            .innerHTML = (\n",
       "                '<div style=\"padding: 1em; background-color: #f8d6da; border: 1px solid #f5c6cb; font-weight: bold;\">' +\n",
       "                '<p><strong>WebIO not detected.</strong></p>' +\n",
       "                '<p>Please read ' +\n",
       "                '<a href=\"https://juliagizmos.github.io/WebIO.jl/latest/troubleshooting/not-detected/\" target=\"_blank\">the troubleshooting guide</a> ' +\n",
       "                'for more information on how to resolve this issue.</p>' +\n",
       "                '<p><a href=\"https://juliagizmos.github.io/WebIO.jl/latest/troubleshooting/not-detected/\" target=\"_blank\">https://juliagizmos.github.io/WebIO.jl/latest/troubleshooting/not-detected/</a></p>' +\n",
       "                '</div>'\n",
       "            );\n",
       "        return;\n",
       "    }\n",
       "    WebIO.mount(\n",
       "        document.querySelector('[data-webio-mountpoint=\"11685345162212126119\"]'),\n",
       "        {\"props\":{},\"nodeType\":\"Scope\",\"type\":\"node\",\"instanceArgs\":{\"imports\":{\"data\":[{\"name\":\"Plotly\",\"type\":\"js\",\"url\":\"\\/assetserver\\/d18d62e3d860f95bdd778d5ce0d98356c8e8cd70-plotly.min.js\"},{\"name\":null,\"type\":\"js\",\"url\":\"\\/assetserver\\/3ce237707c6799d71e862d9d30b4d1f68d73bd38-plotly_webio.bundle.js\"}],\"type\":\"async_block\"},\"id\":\"2935658697145168549\",\"handlers\":{\"_toImage\":[\"(function (options){return this.Plotly.toImage(this.plotElem,options).then((function (data){return WebIO.setval({\\\"name\\\":\\\"image\\\",\\\"scope\\\":\\\"2935658697145168549\\\",\\\"id\\\":\\\"12697539583857091393\\\",\\\"type\\\":\\\"observable\\\"},data)}))})\"],\"__get_gd_contents\":[\"(function (prop){prop==\\\"data\\\" ? (WebIO.setval({\\\"name\\\":\\\"__gd_contents\\\",\\\"scope\\\":\\\"2935658697145168549\\\",\\\"id\\\":\\\"4189943000620689502\\\",\\\"type\\\":\\\"observable\\\"},this.plotElem.data)) : undefined; return prop==\\\"layout\\\" ? (WebIO.setval({\\\"name\\\":\\\"__gd_contents\\\",\\\"scope\\\":\\\"2935658697145168549\\\",\\\"id\\\":\\\"4189943000620689502\\\",\\\"type\\\":\\\"observable\\\"},this.plotElem.layout)) : undefined})\"],\"_downloadImage\":[\"(function (options){return this.Plotly.downloadImage(this.plotElem,options)})\"],\"_commands\":[\"(function (args){var fn=args.shift(); var elem=this.plotElem; var Plotly=this.Plotly; args.unshift(elem); return Plotly[fn].apply(this,args)})\"]},\"systemjs_options\":null,\"mount_callbacks\":[\"function () {\\n    var handler = ((function (Plotly,PlotlyWebIO){PlotlyWebIO.init(WebIO); var gd=this.dom.querySelector(\\\"#plot-46c3f828-9f5f-4018-bbc8-c0ce39e5905e\\\"); this.plotElem=gd; this.Plotly=Plotly; (window.Blink!==undefined) ? (gd.style.width=\\\"100%\\\", gd.style.height=\\\"100vh\\\", gd.style.marginLeft=\\\"0%\\\", gd.style.marginTop=\\\"0vh\\\") : undefined; window.onresize=(function (){return Plotly.Plots.resize(gd)}); Plotly.newPlot(gd,[{\\\"y\\\":[0,1,1,0,0,1,1,0],\\\"type\\\":\\\"mesh3d\\\",\\\"j\\\":[3,4,1,2,5,6,5,5,0,1,2,2],\\\"k\\\":[0,7,2,3,6,7,1,2,5,5,7,6],\\\"z\\\":[0,0,0,0,1,1,1,1],\\\"i\\\":[7,0,0,0,4,4,2,6,4,0,3,7],\\\"facecolor\\\":[\\\"rgb(50, 200, 200)\\\",\\\"rgb(50, 200, 200)\\\",\\\"rgb(100, 200, 255)\\\",\\\"rgb(100, 200, 255)\\\",\\\"rgb(150, 200, 115)\\\",\\\"rgb(150, 200, 115)\\\",\\\"rgb(200, 200, 50)\\\",\\\"rgb(200, 200, 50)\\\",\\\"rgb(230, 200, 10)\\\",\\\"rgb(230, 200, 10)\\\",\\\"rgb(255, 140, 0)\\\",\\\"rgb(255, 140, 0)\\\"],\\\"x\\\":[0,0,1,1,0,0,1,1]}],{\\\"template\\\":{\\\"layout\\\":{\\\"coloraxis\\\":{\\\"colorbar\\\":{\\\"ticks\\\":\\\"\\\",\\\"outlinewidth\\\":0}},\\\"xaxis\\\":{\\\"gridcolor\\\":\\\"white\\\",\\\"zerolinewidth\\\":2,\\\"title\\\":{\\\"standoff\\\":15},\\\"ticks\\\":\\\"\\\",\\\"zerolinecolor\\\":\\\"white\\\",\\\"automargin\\\":true,\\\"linecolor\\\":\\\"white\\\"},\\\"hovermode\\\":\\\"closest\\\",\\\"paper_bgcolor\\\":\\\"white\\\",\\\"geo\\\":{\\\"showlakes\\\":true,\\\"showland\\\":true,\\\"landcolor\\\":\\\"#E5ECF6\\\",\\\"bgcolor\\\":\\\"white\\\",\\\"subunitcolor\\\":\\\"white\\\",\\\"lakecolor\\\":\\\"white\\\"},\\\"colorscale\\\":{\\\"sequential\\\":[[0.0,\\\"#0d0887\\\"],[0.1111111111111111,\\\"#46039f\\\"],[0.2222222222222222,\\\"#7201a8\\\"],[0.3333333333333333,\\\"#9c179e\\\"],[0.4444444444444444,\\\"#bd3786\\\"],[0.5555555555555556,\\\"#d8576b\\\"],[0.6666666666666666,\\\"#ed7953\\\"],[0.7777777777777778,\\\"#fb9f3a\\\"],[0.8888888888888888,\\\"#fdca26\\\"],[1.0,\\\"#f0f921\\\"]],\\\"diverging\\\":[[0,\\\"#8e0152\\\"],[0.1,\\\"#c51b7d\\\"],[0.2,\\\"#de77ae\\\"],[0.3,\\\"#f1b6da\\\"],[0.4,\\\"#fde0ef\\\"],[0.5,\\\"#f7f7f7\\\"],[0.6,\\\"#e6f5d0\\\"],[0.7,\\\"#b8e186\\\"],[0.8,\\\"#7fbc41\\\"],[0.9,\\\"#4d9221\\\"],[1,\\\"#276419\\\"]],\\\"sequentialminus\\\":[[0.0,\\\"#0d0887\\\"],[0.1111111111111111,\\\"#46039f\\\"],[0.2222222222222222,\\\"#7201a8\\\"],[0.3333333333333333,\\\"#9c179e\\\"],[0.4444444444444444,\\\"#bd3786\\\"],[0.5555555555555556,\\\"#d8576b\\\"],[0.6666666666666666,\\\"#ed7953\\\"],[0.7777777777777778,\\\"#fb9f3a\\\"],[0.8888888888888888,\\\"#fdca26\\\"],[1.0,\\\"#f0f921\\\"]]},\\\"yaxis\\\":{\\\"gridcolor\\\":\\\"white\\\",\\\"zerolinewidth\\\":2,\\\"title\\\":{\\\"standoff\\\":15},\\\"ticks\\\":\\\"\\\",\\\"zerolinecolor\\\":\\\"white\\\",\\\"automargin\\\":true,\\\"linecolor\\\":\\\"white\\\"},\\\"shapedefaults\\\":{\\\"line\\\":{\\\"color\\\":\\\"#2a3f5f\\\"}},\\\"hoverlabel\\\":{\\\"align\\\":\\\"left\\\"},\\\"mapbox\\\":{\\\"style\\\":\\\"light\\\"},\\\"polar\\\":{\\\"angularaxis\\\":{\\\"gridcolor\\\":\\\"white\\\",\\\"ticks\\\":\\\"\\\",\\\"linecolor\\\":\\\"white\\\"},\\\"bgcolor\\\":\\\"#E5ECF6\\\",\\\"radialaxis\\\":{\\\"gridcolor\\\":\\\"white\\\",\\\"ticks\\\":\\\"\\\",\\\"linecolor\\\":\\\"white\\\"}},\\\"autotypenumbers\\\":\\\"strict\\\",\\\"font\\\":{\\\"color\\\":\\\"#2a3f5f\\\"},\\\"ternary\\\":{\\\"baxis\\\":{\\\"gridcolor\\\":\\\"white\\\",\\\"ticks\\\":\\\"\\\",\\\"linecolor\\\":\\\"white\\\"},\\\"bgcolor\\\":\\\"#E5ECF6\\\",\\\"caxis\\\":{\\\"gridcolor\\\":\\\"white\\\",\\\"ticks\\\":\\\"\\\",\\\"linecolor\\\":\\\"white\\\"},\\\"aaxis\\\":{\\\"gridcolor\\\":\\\"white\\\",\\\"ticks\\\":\\\"\\\",\\\"linecolor\\\":\\\"white\\\"}},\\\"annotationdefaults\\\":{\\\"arrowhead\\\":0,\\\"arrowwidth\\\":1,\\\"arrowcolor\\\":\\\"#2a3f5f\\\"},\\\"plot_bgcolor\\\":\\\"#E5ECF6\\\",\\\"title\\\":{\\\"x\\\":0.05},\\\"scene\\\":{\\\"xaxis\\\":{\\\"gridcolor\\\":\\\"white\\\",\\\"gridwidth\\\":2,\\\"backgroundcolor\\\":\\\"#E5ECF6\\\",\\\"ticks\\\":\\\"\\\",\\\"showbackground\\\":true,\\\"zerolinecolor\\\":\\\"white\\\",\\\"linecolor\\\":\\\"white\\\"},\\\"zaxis\\\":{\\\"gridcolor\\\":\\\"white\\\",\\\"gridwidth\\\":2,\\\"backgroundcolor\\\":\\\"#E5ECF6\\\",\\\"ticks\\\":\\\"\\\",\\\"showbackground\\\":true,\\\"zerolinecolor\\\":\\\"white\\\",\\\"linecolor\\\":\\\"white\\\"},\\\"yaxis\\\":{\\\"gridcolor\\\":\\\"white\\\",\\\"gridwidth\\\":2,\\\"backgroundcolor\\\":\\\"#E5ECF6\\\",\\\"ticks\\\":\\\"\\\",\\\"showbackground\\\":true,\\\"zerolinecolor\\\":\\\"white\\\",\\\"linecolor\\\":\\\"white\\\"}},\\\"colorway\\\":[\\\"#636efa\\\",\\\"#EF553B\\\",\\\"#00cc96\\\",\\\"#ab63fa\\\",\\\"#FFA15A\\\",\\\"#19d3f3\\\",\\\"#FF6692\\\",\\\"#B6E880\\\",\\\"#FF97FF\\\",\\\"#FECB52\\\"]},\\\"data\\\":{\\\"barpolar\\\":[{\\\"type\\\":\\\"barpolar\\\",\\\"marker\\\":{\\\"line\\\":{\\\"color\\\":\\\"#E5ECF6\\\",\\\"width\\\":0.5}}}],\\\"carpet\\\":[{\\\"aaxis\\\":{\\\"gridcolor\\\":\\\"white\\\",\\\"endlinecolor\\\":\\\"#2a3f5f\\\",\\\"minorgridcolor\\\":\\\"white\\\",\\\"startlinecolor\\\":\\\"#2a3f5f\\\",\\\"linecolor\\\":\\\"white\\\"},\\\"type\\\":\\\"carpet\\\",\\\"baxis\\\":{\\\"gridcolor\\\":\\\"white\\\",\\\"endlinecolor\\\":\\\"#2a3f5f\\\",\\\"minorgridcolor\\\":\\\"white\\\",\\\"startlinecolor\\\":\\\"#2a3f5f\\\",\\\"linecolor\\\":\\\"white\\\"}}],\\\"scatterpolar\\\":[{\\\"type\\\":\\\"scatterpolar\\\",\\\"marker\\\":{\\\"colorbar\\\":{\\\"ticks\\\":\\\"\\\",\\\"outlinewidth\\\":0}}}],\\\"parcoords\\\":[{\\\"line\\\":{\\\"colorbar\\\":{\\\"ticks\\\":\\\"\\\",\\\"outlinewidth\\\":0}},\\\"type\\\":\\\"parcoords\\\"}],\\\"scatter\\\":[{\\\"type\\\":\\\"scatter\\\",\\\"marker\\\":{\\\"colorbar\\\":{\\\"ticks\\\":\\\"\\\",\\\"outlinewidth\\\":0}}}],\\\"histogram2dcontour\\\":[{\\\"colorbar\\\":{\\\"ticks\\\":\\\"\\\",\\\"outlinewidth\\\":0},\\\"type\\\":\\\"histogram2dcontour\\\",\\\"colorscale\\\":[[0.0,\\\"#0d0887\\\"],[0.1111111111111111,\\\"#46039f\\\"],[0.2222222222222222,\\\"#7201a8\\\"],[0.3333333333333333,\\\"#9c179e\\\"],[0.4444444444444444,\\\"#bd3786\\\"],[0.5555555555555556,\\\"#d8576b\\\"],[0.6666666666666666,\\\"#ed7953\\\"],[0.7777777777777778,\\\"#fb9f3a\\\"],[0.8888888888888888,\\\"#fdca26\\\"],[1.0,\\\"#f0f921\\\"]]}],\\\"contour\\\":[{\\\"colorbar\\\":{\\\"ticks\\\":\\\"\\\",\\\"outlinewidth\\\":0},\\\"type\\\":\\\"contour\\\",\\\"colorscale\\\":[[0.0,\\\"#0d0887\\\"],[0.1111111111111111,\\\"#46039f\\\"],[0.2222222222222222,\\\"#7201a8\\\"],[0.3333333333333333,\\\"#9c179e\\\"],[0.4444444444444444,\\\"#bd3786\\\"],[0.5555555555555556,\\\"#d8576b\\\"],[0.6666666666666666,\\\"#ed7953\\\"],[0.7777777777777778,\\\"#fb9f3a\\\"],[0.8888888888888888,\\\"#fdca26\\\"],[1.0,\\\"#f0f921\\\"]]}],\\\"scattercarpet\\\":[{\\\"type\\\":\\\"scattercarpet\\\",\\\"marker\\\":{\\\"colorbar\\\":{\\\"ticks\\\":\\\"\\\",\\\"outlinewidth\\\":0}}}],\\\"mesh3d\\\":[{\\\"colorbar\\\":{\\\"ticks\\\":\\\"\\\",\\\"outlinewidth\\\":0},\\\"type\\\":\\\"mesh3d\\\"}],\\\"surface\\\":[{\\\"colorbar\\\":{\\\"ticks\\\":\\\"\\\",\\\"outlinewidth\\\":0},\\\"type\\\":\\\"surface\\\",\\\"colorscale\\\":[[0.0,\\\"#0d0887\\\"],[0.1111111111111111,\\\"#46039f\\\"],[0.2222222222222222,\\\"#7201a8\\\"],[0.3333333333333333,\\\"#9c179e\\\"],[0.4444444444444444,\\\"#bd3786\\\"],[0.5555555555555556,\\\"#d8576b\\\"],[0.6666666666666666,\\\"#ed7953\\\"],[0.7777777777777778,\\\"#fb9f3a\\\"],[0.8888888888888888,\\\"#fdca26\\\"],[1.0,\\\"#f0f921\\\"]]}],\\\"scattermapbox\\\":[{\\\"type\\\":\\\"scattermapbox\\\",\\\"marker\\\":{\\\"colorbar\\\":{\\\"ticks\\\":\\\"\\\",\\\"outlinewidth\\\":0}}}],\\\"scattergeo\\\":[{\\\"type\\\":\\\"scattergeo\\\",\\\"marker\\\":{\\\"colorbar\\\":{\\\"ticks\\\":\\\"\\\",\\\"outlinewidth\\\":0}}}],\\\"histogram\\\":[{\\\"type\\\":\\\"histogram\\\",\\\"marker\\\":{\\\"colorbar\\\":{\\\"ticks\\\":\\\"\\\",\\\"outlinewidth\\\":0}}}],\\\"pie\\\":[{\\\"type\\\":\\\"pie\\\",\\\"automargin\\\":true}],\\\"choropleth\\\":[{\\\"colorbar\\\":{\\\"ticks\\\":\\\"\\\",\\\"outlinewidth\\\":0},\\\"type\\\":\\\"choropleth\\\"}],\\\"heatmapgl\\\":[{\\\"colorbar\\\":{\\\"ticks\\\":\\\"\\\",\\\"outlinewidth\\\":0},\\\"type\\\":\\\"heatmapgl\\\",\\\"colorscale\\\":[[0.0,\\\"#0d0887\\\"],[0.1111111111111111,\\\"#46039f\\\"],[0.2222222222222222,\\\"#7201a8\\\"],[0.3333333333333333,\\\"#9c179e\\\"],[0.4444444444444444,\\\"#bd3786\\\"],[0.5555555555555556,\\\"#d8576b\\\"],[0.6666666666666666,\\\"#ed7953\\\"],[0.7777777777777778,\\\"#fb9f3a\\\"],[0.8888888888888888,\\\"#fdca26\\\"],[1.0,\\\"#f0f921\\\"]]}],\\\"bar\\\":[{\\\"type\\\":\\\"bar\\\",\\\"error_y\\\":{\\\"color\\\":\\\"#2a3f5f\\\"},\\\"error_x\\\":{\\\"color\\\":\\\"#2a3f5f\\\"},\\\"marker\\\":{\\\"line\\\":{\\\"color\\\":\\\"#E5ECF6\\\",\\\"width\\\":0.5}}}],\\\"heatmap\\\":[{\\\"colorbar\\\":{\\\"ticks\\\":\\\"\\\",\\\"outlinewidth\\\":0},\\\"type\\\":\\\"heatmap\\\",\\\"colorscale\\\":[[0.0,\\\"#0d0887\\\"],[0.1111111111111111,\\\"#46039f\\\"],[0.2222222222222222,\\\"#7201a8\\\"],[0.3333333333333333,\\\"#9c179e\\\"],[0.4444444444444444,\\\"#bd3786\\\"],[0.5555555555555556,\\\"#d8576b\\\"],[0.6666666666666666,\\\"#ed7953\\\"],[0.7777777777777778,\\\"#fb9f3a\\\"],[0.8888888888888888,\\\"#fdca26\\\"],[1.0,\\\"#f0f921\\\"]]}],\\\"contourcarpet\\\":[{\\\"colorbar\\\":{\\\"ticks\\\":\\\"\\\",\\\"outlinewidth\\\":0},\\\"type\\\":\\\"contourcarpet\\\"}],\\\"table\\\":[{\\\"type\\\":\\\"table\\\",\\\"header\\\":{\\\"line\\\":{\\\"color\\\":\\\"white\\\"},\\\"fill\\\":{\\\"color\\\":\\\"#C8D4E3\\\"}},\\\"cells\\\":{\\\"line\\\":{\\\"color\\\":\\\"white\\\"},\\\"fill\\\":{\\\"color\\\":\\\"#EBF0F8\\\"}}}],\\\"scatter3d\\\":[{\\\"line\\\":{\\\"colorbar\\\":{\\\"ticks\\\":\\\"\\\",\\\"outlinewidth\\\":0}},\\\"type\\\":\\\"scatter3d\\\",\\\"marker\\\":{\\\"colorbar\\\":{\\\"ticks\\\":\\\"\\\",\\\"outlinewidth\\\":0}}}],\\\"scattergl\\\":[{\\\"type\\\":\\\"scattergl\\\",\\\"marker\\\":{\\\"colorbar\\\":{\\\"ticks\\\":\\\"\\\",\\\"outlinewidth\\\":0}}}],\\\"histogram2d\\\":[{\\\"colorbar\\\":{\\\"ticks\\\":\\\"\\\",\\\"outlinewidth\\\":0},\\\"type\\\":\\\"histogram2d\\\",\\\"colorscale\\\":[[0.0,\\\"#0d0887\\\"],[0.1111111111111111,\\\"#46039f\\\"],[0.2222222222222222,\\\"#7201a8\\\"],[0.3333333333333333,\\\"#9c179e\\\"],[0.4444444444444444,\\\"#bd3786\\\"],[0.5555555555555556,\\\"#d8576b\\\"],[0.6666666666666666,\\\"#ed7953\\\"],[0.7777777777777778,\\\"#fb9f3a\\\"],[0.8888888888888888,\\\"#fdca26\\\"],[1.0,\\\"#f0f921\\\"]]}],\\\"scatterternary\\\":[{\\\"type\\\":\\\"scatterternary\\\",\\\"marker\\\":{\\\"colorbar\\\":{\\\"ticks\\\":\\\"\\\",\\\"outlinewidth\\\":0}}}],\\\"scatterpolargl\\\":[{\\\"type\\\":\\\"scatterpolargl\\\",\\\"marker\\\":{\\\"colorbar\\\":{\\\"ticks\\\":\\\"\\\",\\\"outlinewidth\\\":0}}}]}},\\\"margin\\\":{\\\"l\\\":50,\\\"b\\\":50,\\\"r\\\":50,\\\"t\\\":60}},{\\\"showLink\\\":false,\\\"editable\\\":false,\\\"responsive\\\":true,\\\"staticPlot\\\":false,\\\"scrollZoom\\\":true}); gd.on(\\\"plotly_hover\\\",(function (data){var filtered_data=WebIO.PlotlyCommands.filterEventData(gd,data,\\\"hover\\\"); return !(filtered_data.isnil) ? (WebIO.setval({\\\"name\\\":\\\"hover\\\",\\\"scope\\\":\\\"2935658697145168549\\\",\\\"id\\\":\\\"15800013356210834763\\\",\\\"type\\\":\\\"observable\\\"},filtered_data.out)) : undefined})); gd.on(\\\"plotly_unhover\\\",(function (){return WebIO.setval({\\\"name\\\":\\\"hover\\\",\\\"scope\\\":\\\"2935658697145168549\\\",\\\"id\\\":\\\"15800013356210834763\\\",\\\"type\\\":\\\"observable\\\"},{})})); gd.on(\\\"plotly_selected\\\",(function (data){var filtered_data=WebIO.PlotlyCommands.filterEventData(gd,data,\\\"selected\\\"); return !(filtered_data.isnil) ? (WebIO.setval({\\\"name\\\":\\\"selected\\\",\\\"scope\\\":\\\"2935658697145168549\\\",\\\"id\\\":\\\"326705014404238569\\\",\\\"type\\\":\\\"observable\\\"},filtered_data.out)) : undefined})); gd.on(\\\"plotly_deselect\\\",(function (){return WebIO.setval({\\\"name\\\":\\\"selected\\\",\\\"scope\\\":\\\"2935658697145168549\\\",\\\"id\\\":\\\"326705014404238569\\\",\\\"type\\\":\\\"observable\\\"},{})})); gd.on(\\\"plotly_relayout\\\",(function (data){var filtered_data=WebIO.PlotlyCommands.filterEventData(gd,data,\\\"relayout\\\"); return !(filtered_data.isnil) ? (WebIO.setval({\\\"name\\\":\\\"relayout\\\",\\\"scope\\\":\\\"2935658697145168549\\\",\\\"id\\\":\\\"10680869735979685588\\\",\\\"type\\\":\\\"observable\\\"},filtered_data.out)) : undefined})); return gd.on(\\\"plotly_click\\\",(function (data){var filtered_data=WebIO.PlotlyCommands.filterEventData(gd,data,\\\"click\\\"); return !(filtered_data.isnil) ? (WebIO.setval({\\\"name\\\":\\\"click\\\",\\\"scope\\\":\\\"2935658697145168549\\\",\\\"id\\\":\\\"6465275641259916280\\\",\\\"type\\\":\\\"observable\\\"},filtered_data.out)) : undefined}))}));\\n    (WebIO.importBlock({\\\"data\\\":[{\\\"name\\\":\\\"Plotly\\\",\\\"type\\\":\\\"js\\\",\\\"url\\\":\\\"\\/assetserver\\/d18d62e3d860f95bdd778d5ce0d98356c8e8cd70-plotly.min.js\\\"},{\\\"name\\\":null,\\\"type\\\":\\\"js\\\",\\\"url\\\":\\\"\\/assetserver\\/3ce237707c6799d71e862d9d30b4d1f68d73bd38-plotly_webio.bundle.js\\\"}],\\\"type\\\":\\\"async_block\\\"})).then((imports) => handler.apply(this, imports));\\n}\\n\"],\"observables\":{\"_toImage\":{\"sync\":false,\"id\":\"4634778325657260244\",\"value\":{}},\"hover\":{\"sync\":false,\"id\":\"15800013356210834763\",\"value\":{}},\"selected\":{\"sync\":false,\"id\":\"326705014404238569\",\"value\":{}},\"__gd_contents\":{\"sync\":false,\"id\":\"4189943000620689502\",\"value\":{}},\"click\":{\"sync\":false,\"id\":\"6465275641259916280\",\"value\":{}},\"image\":{\"sync\":true,\"id\":\"12697539583857091393\",\"value\":\"\"},\"__get_gd_contents\":{\"sync\":false,\"id\":\"7498729654597496858\",\"value\":\"\"},\"_downloadImage\":{\"sync\":false,\"id\":\"11979485285014988804\",\"value\":{}},\"relayout\":{\"sync\":false,\"id\":\"10680869735979685588\",\"value\":{}},\"_commands\":{\"sync\":false,\"id\":\"7306327925092032797\",\"value\":[]}}},\"children\":[{\"props\":{\"id\":\"plot-46c3f828-9f5f-4018-bbc8-c0ce39e5905e\"},\"nodeType\":\"DOM\",\"type\":\"node\",\"instanceArgs\":{\"namespace\":\"html\",\"tag\":\"div\"},\"children\":[]}]},\n",
       "        window,\n",
       "    );\n",
       "    })()\n",
       "    </script>\n",
       "</div>\n"
      ],
      "text/plain": [
       "data: [\n",
       "  \"mesh3d with fields facecolor, i, j, k, type, x, y, and z\"\n",
       "]\n",
       "\n",
       "layout: \"layout with fields margin and template\"\n",
       "\n"
      ]
     },
     "metadata": {},
     "output_type": "display_data"
    }
   ],
   "source": [
    "using PlotlyJS\n",
    "\n",
    "p = Plot()\n",
    "\n",
    "plot(mesh3d(\n",
    "    x=[0, 1, 2, 0],\n",
    "    y=[0, 0, 1, 2],\n",
    "    z=[0, 2, 0, 1],\n",
    "    #colorbar_title=\"z\",\n",
    "    colorscale=[[0, \"gold\"],\n",
    "                [0.5, \"mediumturquoise\"],\n",
    "                [1, \"magenta\"]],\n",
    "    # Intensity of each vertex, which will be interpolated and color-coded\n",
    "    intensity=[0, 0,0,0],\n",
    "    # i, j and k give the vertices of triangles\n",
    "    # here we represent the 4 triangles of the tetrahedron surface\n",
    "    i=[0, 0, 0, 1],\n",
    "    j=[1, 2, 3, 2],\n",
    "    k=[2, 3, 1, 3],\n",
    "    name=\"y\",\n",
    "    showscale=true\n",
    "))\n",
    "\n",
    "facecolor = repeat([\n",
    "    \"rgb(50, 200, 200)\",\n",
    "    \"rgb(100, 200, 255)\",\n",
    "    \"rgb(150, 200, 115)\",\n",
    "    \"rgb(200, 200, 50)\",\n",
    "    \"rgb(230, 200, 10)\",\n",
    "    \"rgb(255, 140, 0)\"\n",
    "], inner=[2])\n",
    "\n",
    "t = mesh3d(\n",
    "    x=[0, 0, 1, 1, 0, 0, 1, 1],\n",
    "    y=[0, 1, 1, 0, 0, 1, 1, 0],\n",
    "    z=[0, 0, 0, 0, 1, 1, 1, 1],\n",
    "    i=[7, 0, 0, 0, 4, 4, 2, 6, 4, 0, 3, 7],\n",
    "    j=[3, 4, 1, 2, 5, 6, 5, 5, 0, 1, 2, 2],\n",
    "    k=[0, 7, 2, 3, 6, 7, 1, 2, 5, 5, 7, 6],\n",
    "    facecolor=facecolor)\n",
    "\n",
    "plot(t)\n"
   ]
  },
  {
   "cell_type": "code",
   "execution_count": null,
   "metadata": {},
   "outputs": [],
   "source": []
  }
 ],
 "metadata": {
  "kernelspec": {
   "display_name": "Julia 1.8.5",
   "language": "julia",
   "name": "julia-1.8"
  },
  "language_info": {
   "file_extension": ".jl",
   "mimetype": "application/julia",
   "name": "julia",
   "version": "1.8.5"
  },
  "orig_nbformat": 4,
  "vscode": {
   "interpreter": {
    "hash": "a2ac061361b194fcb51195d855160f93752d4459f9e3b172838ff5b9184122a7"
   }
  }
 },
 "nbformat": 4,
 "nbformat_minor": 2
}
