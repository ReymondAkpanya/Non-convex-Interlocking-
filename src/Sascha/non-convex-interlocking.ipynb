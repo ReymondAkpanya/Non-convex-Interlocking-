{
 "cells": [
  {
   "attachments": {},
   "cell_type": "markdown",
   "metadata": {},
   "source": [
    "# Interlocking analysis for Assemblies of possibly non convex Polyhedra"
   ]
  },
  {
   "cell_type": "code",
   "execution_count": 9,
   "metadata": {},
   "outputs": [
    {
     "data": {
      "text/plain": [
       "convexDecomposition"
      ]
     },
     "metadata": {},
     "output_type": "display_data"
    }
   ],
   "source": [
    "include(\"../Polyhedron.jl\")\n",
    "include(\"../examples.jl\")\n",
    "include(\"../decomposition.jl\")"
   ]
  },
  {
   "cell_type": "code",
   "execution_count": 10,
   "metadata": {},
   "outputs": [
    {
     "data": {
      "application/vnd.plotly.v1+json": {
       "config": {
        "editable": false,
        "responsive": true,
        "scrollZoom": true,
        "showLink": false,
        "staticPlot": false
       },
       "data": [
        {
         "facecolor": [
          "rgb(50, 200, 200)",
          "rgb(50, 200, 200)",
          "rgb(50, 200, 200)",
          "rgb(50, 200, 200)",
          "rgb(50, 200, 200)",
          "rgb(50, 200, 200)",
          "rgb(50, 200, 200)",
          "rgb(50, 200, 200)",
          "rgb(50, 200, 200)",
          "rgb(50, 200, 200)",
          "rgb(50, 200, 200)",
          "rgb(50, 200, 200)",
          "rgb(50, 200, 200)",
          "rgb(50, 200, 200)",
          "rgb(50, 200, 200)",
          "rgb(50, 200, 200)",
          "rgb(50, 200, 200)",
          "rgb(50, 200, 200)",
          "rgb(50, 200, 200)",
          "rgb(50, 200, 200)",
          "rgb(50, 200, 200)",
          "rgb(50, 200, 200)",
          "rgb(50, 200, 200)",
          "rgb(50, 200, 200)",
          "rgb(50, 200, 200)",
          "rgb(50, 200, 200)",
          "rgb(50, 200, 200)",
          "rgb(50, 200, 200)",
          "rgb(50, 200, 200)",
          "rgb(50, 200, 200)",
          "rgb(50, 200, 200)",
          "rgb(50, 200, 200)",
          "rgb(50, 200, 200)",
          "rgb(50, 200, 200)",
          "rgb(50, 200, 200)",
          "rgb(50, 200, 200)"
         ],
         "i": [
          2,
          2,
          3,
          2,
          2,
          6,
          10,
          10,
          11,
          10,
          10,
          14,
          4,
          4,
          12,
          5,
          5,
          13,
          7,
          7,
          15,
          8,
          8,
          16,
          4,
          4,
          19,
          5,
          5,
          20,
          12,
          12,
          19,
          13,
          13,
          20
         ],
         "j": [
          1,
          4,
          5,
          1,
          7,
          8,
          9,
          12,
          13,
          9,
          15,
          16,
          3,
          11,
          17,
          3,
          11,
          18,
          6,
          14,
          19,
          6,
          14,
          20,
          1,
          7,
          17,
          2,
          8,
          18,
          9,
          15,
          17,
          10,
          16,
          18
         ],
         "k": [
          4,
          3,
          2,
          7,
          6,
          2,
          12,
          11,
          10,
          15,
          14,
          10,
          11,
          12,
          4,
          11,
          13,
          5,
          14,
          15,
          7,
          14,
          16,
          8,
          7,
          19,
          4,
          8,
          20,
          5,
          15,
          19,
          12,
          16,
          20,
          13
         ],
         "type": "mesh3d",
         "x": [
          0.539345,
          -0.539345,
          0,
          0.872678,
          -0.872678,
          0,
          0.872678,
          -0.872678,
          0.539345,
          -0.539345,
          0,
          0.872678,
          -0.872678,
          0,
          0.872678,
          -0.872678,
          1.41202,
          -1.41202,
          1.41202,
          -1.41202
         ],
         "y": [
          0,
          0,
          1.41202,
          0.872678,
          0.872678,
          -1.41202,
          -0.872678,
          -0.872678,
          0,
          0,
          1.41202,
          0.872678,
          0.872678,
          -1.41202,
          -0.872678,
          -0.872678,
          0.539345,
          0.539345,
          -0.539345,
          -0.539345
         ],
         "z": [
          1.41202,
          1.41202,
          0.539345,
          0.872678,
          0.872678,
          0.539345,
          0.872678,
          0.872678,
          -1.41202,
          -1.41202,
          -0.539345,
          -0.872678,
          -0.872678,
          -0.539345,
          -0.872678,
          -0.872678,
          0,
          0,
          0,
          0
         ]
        }
       ],
       "frames": [],
       "layout": {
        "margin": {
         "b": 50,
         "l": 50,
         "r": 50,
         "t": 60
        },
        "template": {
         "data": {
          "bar": [
           {
            "error_x": {
             "color": "#2a3f5f"
            },
            "error_y": {
             "color": "#2a3f5f"
            },
            "marker": {
             "line": {
              "color": "#E5ECF6",
              "width": 0.5
             }
            },
            "type": "bar"
           }
          ],
          "barpolar": [
           {
            "marker": {
             "line": {
              "color": "#E5ECF6",
              "width": 0.5
             }
            },
            "type": "barpolar"
           }
          ],
          "carpet": [
           {
            "aaxis": {
             "endlinecolor": "#2a3f5f",
             "gridcolor": "white",
             "linecolor": "white",
             "minorgridcolor": "white",
             "startlinecolor": "#2a3f5f"
            },
            "baxis": {
             "endlinecolor": "#2a3f5f",
             "gridcolor": "white",
             "linecolor": "white",
             "minorgridcolor": "white",
             "startlinecolor": "#2a3f5f"
            },
            "type": "carpet"
           }
          ],
          "choropleth": [
           {
            "colorbar": {
             "outlinewidth": 0,
             "ticks": ""
            },
            "type": "choropleth"
           }
          ],
          "contour": [
           {
            "colorbar": {
             "outlinewidth": 0,
             "ticks": ""
            },
            "colorscale": [
             [
              0,
              "#0d0887"
             ],
             [
              0.1111111111111111,
              "#46039f"
             ],
             [
              0.2222222222222222,
              "#7201a8"
             ],
             [
              0.3333333333333333,
              "#9c179e"
             ],
             [
              0.4444444444444444,
              "#bd3786"
             ],
             [
              0.5555555555555556,
              "#d8576b"
             ],
             [
              0.6666666666666666,
              "#ed7953"
             ],
             [
              0.7777777777777778,
              "#fb9f3a"
             ],
             [
              0.8888888888888888,
              "#fdca26"
             ],
             [
              1,
              "#f0f921"
             ]
            ],
            "type": "contour"
           }
          ],
          "contourcarpet": [
           {
            "colorbar": {
             "outlinewidth": 0,
             "ticks": ""
            },
            "type": "contourcarpet"
           }
          ],
          "heatmap": [
           {
            "colorbar": {
             "outlinewidth": 0,
             "ticks": ""
            },
            "colorscale": [
             [
              0,
              "#0d0887"
             ],
             [
              0.1111111111111111,
              "#46039f"
             ],
             [
              0.2222222222222222,
              "#7201a8"
             ],
             [
              0.3333333333333333,
              "#9c179e"
             ],
             [
              0.4444444444444444,
              "#bd3786"
             ],
             [
              0.5555555555555556,
              "#d8576b"
             ],
             [
              0.6666666666666666,
              "#ed7953"
             ],
             [
              0.7777777777777778,
              "#fb9f3a"
             ],
             [
              0.8888888888888888,
              "#fdca26"
             ],
             [
              1,
              "#f0f921"
             ]
            ],
            "type": "heatmap"
           }
          ],
          "heatmapgl": [
           {
            "colorbar": {
             "outlinewidth": 0,
             "ticks": ""
            },
            "colorscale": [
             [
              0,
              "#0d0887"
             ],
             [
              0.1111111111111111,
              "#46039f"
             ],
             [
              0.2222222222222222,
              "#7201a8"
             ],
             [
              0.3333333333333333,
              "#9c179e"
             ],
             [
              0.4444444444444444,
              "#bd3786"
             ],
             [
              0.5555555555555556,
              "#d8576b"
             ],
             [
              0.6666666666666666,
              "#ed7953"
             ],
             [
              0.7777777777777778,
              "#fb9f3a"
             ],
             [
              0.8888888888888888,
              "#fdca26"
             ],
             [
              1,
              "#f0f921"
             ]
            ],
            "type": "heatmapgl"
           }
          ],
          "histogram": [
           {
            "marker": {
             "colorbar": {
              "outlinewidth": 0,
              "ticks": ""
             }
            },
            "type": "histogram"
           }
          ],
          "histogram2d": [
           {
            "colorbar": {
             "outlinewidth": 0,
             "ticks": ""
            },
            "colorscale": [
             [
              0,
              "#0d0887"
             ],
             [
              0.1111111111111111,
              "#46039f"
             ],
             [
              0.2222222222222222,
              "#7201a8"
             ],
             [
              0.3333333333333333,
              "#9c179e"
             ],
             [
              0.4444444444444444,
              "#bd3786"
             ],
             [
              0.5555555555555556,
              "#d8576b"
             ],
             [
              0.6666666666666666,
              "#ed7953"
             ],
             [
              0.7777777777777778,
              "#fb9f3a"
             ],
             [
              0.8888888888888888,
              "#fdca26"
             ],
             [
              1,
              "#f0f921"
             ]
            ],
            "type": "histogram2d"
           }
          ],
          "histogram2dcontour": [
           {
            "colorbar": {
             "outlinewidth": 0,
             "ticks": ""
            },
            "colorscale": [
             [
              0,
              "#0d0887"
             ],
             [
              0.1111111111111111,
              "#46039f"
             ],
             [
              0.2222222222222222,
              "#7201a8"
             ],
             [
              0.3333333333333333,
              "#9c179e"
             ],
             [
              0.4444444444444444,
              "#bd3786"
             ],
             [
              0.5555555555555556,
              "#d8576b"
             ],
             [
              0.6666666666666666,
              "#ed7953"
             ],
             [
              0.7777777777777778,
              "#fb9f3a"
             ],
             [
              0.8888888888888888,
              "#fdca26"
             ],
             [
              1,
              "#f0f921"
             ]
            ],
            "type": "histogram2dcontour"
           }
          ],
          "mesh3d": [
           {
            "colorbar": {
             "outlinewidth": 0,
             "ticks": ""
            },
            "type": "mesh3d"
           }
          ],
          "parcoords": [
           {
            "line": {
             "colorbar": {
              "outlinewidth": 0,
              "ticks": ""
             }
            },
            "type": "parcoords"
           }
          ],
          "pie": [
           {
            "automargin": true,
            "type": "pie"
           }
          ],
          "scatter": [
           {
            "marker": {
             "colorbar": {
              "outlinewidth": 0,
              "ticks": ""
             }
            },
            "type": "scatter"
           }
          ],
          "scatter3d": [
           {
            "line": {
             "colorbar": {
              "outlinewidth": 0,
              "ticks": ""
             }
            },
            "marker": {
             "colorbar": {
              "outlinewidth": 0,
              "ticks": ""
             }
            },
            "type": "scatter3d"
           }
          ],
          "scattercarpet": [
           {
            "marker": {
             "colorbar": {
              "outlinewidth": 0,
              "ticks": ""
             }
            },
            "type": "scattercarpet"
           }
          ],
          "scattergeo": [
           {
            "marker": {
             "colorbar": {
              "outlinewidth": 0,
              "ticks": ""
             }
            },
            "type": "scattergeo"
           }
          ],
          "scattergl": [
           {
            "marker": {
             "colorbar": {
              "outlinewidth": 0,
              "ticks": ""
             }
            },
            "type": "scattergl"
           }
          ],
          "scattermapbox": [
           {
            "marker": {
             "colorbar": {
              "outlinewidth": 0,
              "ticks": ""
             }
            },
            "type": "scattermapbox"
           }
          ],
          "scatterpolar": [
           {
            "marker": {
             "colorbar": {
              "outlinewidth": 0,
              "ticks": ""
             }
            },
            "type": "scatterpolar"
           }
          ],
          "scatterpolargl": [
           {
            "marker": {
             "colorbar": {
              "outlinewidth": 0,
              "ticks": ""
             }
            },
            "type": "scatterpolargl"
           }
          ],
          "scatterternary": [
           {
            "marker": {
             "colorbar": {
              "outlinewidth": 0,
              "ticks": ""
             }
            },
            "type": "scatterternary"
           }
          ],
          "surface": [
           {
            "colorbar": {
             "outlinewidth": 0,
             "ticks": ""
            },
            "colorscale": [
             [
              0,
              "#0d0887"
             ],
             [
              0.1111111111111111,
              "#46039f"
             ],
             [
              0.2222222222222222,
              "#7201a8"
             ],
             [
              0.3333333333333333,
              "#9c179e"
             ],
             [
              0.4444444444444444,
              "#bd3786"
             ],
             [
              0.5555555555555556,
              "#d8576b"
             ],
             [
              0.6666666666666666,
              "#ed7953"
             ],
             [
              0.7777777777777778,
              "#fb9f3a"
             ],
             [
              0.8888888888888888,
              "#fdca26"
             ],
             [
              1,
              "#f0f921"
             ]
            ],
            "type": "surface"
           }
          ],
          "table": [
           {
            "cells": {
             "fill": {
              "color": "#EBF0F8"
             },
             "line": {
              "color": "white"
             }
            },
            "header": {
             "fill": {
              "color": "#C8D4E3"
             },
             "line": {
              "color": "white"
             }
            },
            "type": "table"
           }
          ]
         },
         "layout": {
          "annotationdefaults": {
           "arrowcolor": "#2a3f5f",
           "arrowhead": 0,
           "arrowwidth": 1
          },
          "autotypenumbers": "strict",
          "coloraxis": {
           "colorbar": {
            "outlinewidth": 0,
            "ticks": ""
           }
          },
          "colorscale": {
           "diverging": [
            [
             0,
             "#8e0152"
            ],
            [
             0.1,
             "#c51b7d"
            ],
            [
             0.2,
             "#de77ae"
            ],
            [
             0.3,
             "#f1b6da"
            ],
            [
             0.4,
             "#fde0ef"
            ],
            [
             0.5,
             "#f7f7f7"
            ],
            [
             0.6,
             "#e6f5d0"
            ],
            [
             0.7,
             "#b8e186"
            ],
            [
             0.8,
             "#7fbc41"
            ],
            [
             0.9,
             "#4d9221"
            ],
            [
             1,
             "#276419"
            ]
           ],
           "sequential": [
            [
             0,
             "#0d0887"
            ],
            [
             0.1111111111111111,
             "#46039f"
            ],
            [
             0.2222222222222222,
             "#7201a8"
            ],
            [
             0.3333333333333333,
             "#9c179e"
            ],
            [
             0.4444444444444444,
             "#bd3786"
            ],
            [
             0.5555555555555556,
             "#d8576b"
            ],
            [
             0.6666666666666666,
             "#ed7953"
            ],
            [
             0.7777777777777778,
             "#fb9f3a"
            ],
            [
             0.8888888888888888,
             "#fdca26"
            ],
            [
             1,
             "#f0f921"
            ]
           ],
           "sequentialminus": [
            [
             0,
             "#0d0887"
            ],
            [
             0.1111111111111111,
             "#46039f"
            ],
            [
             0.2222222222222222,
             "#7201a8"
            ],
            [
             0.3333333333333333,
             "#9c179e"
            ],
            [
             0.4444444444444444,
             "#bd3786"
            ],
            [
             0.5555555555555556,
             "#d8576b"
            ],
            [
             0.6666666666666666,
             "#ed7953"
            ],
            [
             0.7777777777777778,
             "#fb9f3a"
            ],
            [
             0.8888888888888888,
             "#fdca26"
            ],
            [
             1,
             "#f0f921"
            ]
           ]
          },
          "colorway": [
           "#636efa",
           "#EF553B",
           "#00cc96",
           "#ab63fa",
           "#FFA15A",
           "#19d3f3",
           "#FF6692",
           "#B6E880",
           "#FF97FF",
           "#FECB52"
          ],
          "font": {
           "color": "#2a3f5f"
          },
          "geo": {
           "bgcolor": "white",
           "lakecolor": "white",
           "landcolor": "#E5ECF6",
           "showlakes": true,
           "showland": true,
           "subunitcolor": "white"
          },
          "hoverlabel": {
           "align": "left"
          },
          "hovermode": "closest",
          "mapbox": {
           "style": "light"
          },
          "paper_bgcolor": "white",
          "plot_bgcolor": "#E5ECF6",
          "polar": {
           "angularaxis": {
            "gridcolor": "white",
            "linecolor": "white",
            "ticks": ""
           },
           "bgcolor": "#E5ECF6",
           "radialaxis": {
            "gridcolor": "white",
            "linecolor": "white",
            "ticks": ""
           }
          },
          "scene": {
           "xaxis": {
            "backgroundcolor": "#E5ECF6",
            "gridcolor": "white",
            "gridwidth": 2,
            "linecolor": "white",
            "showbackground": true,
            "ticks": "",
            "zerolinecolor": "white"
           },
           "yaxis": {
            "backgroundcolor": "#E5ECF6",
            "gridcolor": "white",
            "gridwidth": 2,
            "linecolor": "white",
            "showbackground": true,
            "ticks": "",
            "zerolinecolor": "white"
           },
           "zaxis": {
            "backgroundcolor": "#E5ECF6",
            "gridcolor": "white",
            "gridwidth": 2,
            "linecolor": "white",
            "showbackground": true,
            "ticks": "",
            "zerolinecolor": "white"
           }
          },
          "shapedefaults": {
           "line": {
            "color": "#2a3f5f"
           }
          },
          "ternary": {
           "aaxis": {
            "gridcolor": "white",
            "linecolor": "white",
            "ticks": ""
           },
           "baxis": {
            "gridcolor": "white",
            "linecolor": "white",
            "ticks": ""
           },
           "bgcolor": "#E5ECF6",
           "caxis": {
            "gridcolor": "white",
            "linecolor": "white",
            "ticks": ""
           }
          },
          "title": {
           "x": 0.05
          },
          "xaxis": {
           "automargin": true,
           "gridcolor": "white",
           "linecolor": "white",
           "ticks": "",
           "title": {
            "standoff": 15
           },
           "zerolinecolor": "white",
           "zerolinewidth": 2
          },
          "yaxis": {
           "automargin": true,
           "gridcolor": "white",
           "linecolor": "white",
           "ticks": "",
           "title": {
            "standoff": 15
           },
           "zerolinecolor": "white",
           "zerolinewidth": 2
          }
         }
        }
       }
      },
      "image/png": "[encoded data removed]",
      "image/svg+xml": "<svg class=\"main-svg\" xmlns=\"http://www.w3.org/2000/svg\" xmlns:xlink=\"http://www.w3.org/1999/xlink\" width=\"700\" height=\"500\" style=\"\" viewBox=\"0 0 700 500\"><rect x=\"0\" y=\"0\" width=\"700\" height=\"500\" style=\"fill: rgb(255, 255, 255); fill-opacity: 1;\"/><defs id=\"defs-54526d\"><g class=\"clips\"/><g class=\"gradients\"/></defs><g class=\"bglayer\"/><g class=\"layer-below\"><g class=\"imagelayer\"/><g class=\"shapelayer\"/></g><g class=\"cartesianlayer\"/><g class=\"polarlayer\"/><g class=\"ternarylayer\"/><g class=\"geolayer\"/><g class=\"funnelarealayer\"/><g class=\"pielayer\"/><g class=\"treemaplayer\"/><g class=\"sunburstlayer\"/><g class=\"glimages\"><image xmlns=\"http://www.w3.org/2000/svg\" xlink:href=\"data:image/png;base64,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\" x=\"50\" y=\"60\" width=\"600\" height=\"390\" preserveAspectRatio=\"none\"/></g><defs id=\"topdefs-54526d\"><g class=\"clips\"/></defs><g class=\"layer-above\"><g class=\"imagelayer\"/><g class=\"shapelayer\"/></g><g class=\"infolayer\"><g class=\"g-gtitle\"/></g></svg>",
      "text/html": [
       "<div\n",
       "    class=\"webio-mountpoint\"\n",
       "    data-webio-mountpoint=\"9757469583563596650\"\n",
       ">\n",
       "    <script>\n",
       "    (function(){\n",
       "    // Some integrations (namely, IJulia/Jupyter) use an alternate render pathway than\n",
       "    // just putting the html on the page. If WebIO isn't defined, then it's pretty likely\n",
       "    // that we're in one of those situations and the integration just isn't installed\n",
       "    // correctly.\n",
       "    if (typeof window.WebIO === \"undefined\") {\n",
       "        document\n",
       "            .querySelector('[data-webio-mountpoint=\"9757469583563596650\"]')\n",
       "            .innerHTML = (\n",
       "                '<div style=\"padding: 1em; background-color: #f8d6da; border: 1px solid #f5c6cb; font-weight: bold;\">' +\n",
       "                '<p><strong>WebIO not detected.</strong></p>' +\n",
       "                '<p>Please read ' +\n",
       "                '<a href=\"https://juliagizmos.github.io/WebIO.jl/latest/troubleshooting/not-detected/\" target=\"_blank\">the troubleshooting guide</a> ' +\n",
       "                'for more information on how to resolve this issue.</p>' +\n",
       "                '<p><a href=\"https://juliagizmos.github.io/WebIO.jl/latest/troubleshooting/not-detected/\" target=\"_blank\">https://juliagizmos.github.io/WebIO.jl/latest/troubleshooting/not-detected/</a></p>' +\n",
       "                '</div>'\n",
       "            );\n",
       "        return;\n",
       "    }\n",
       "    WebIO.mount(\n",
       "        document.querySelector('[data-webio-mountpoint=\"9757469583563596650\"]'),\n",
       "        {\"props\":{},\"nodeType\":\"Scope\",\"type\":\"node\",\"instanceArgs\":{\"imports\":{\"data\":[{\"name\":\"Plotly\",\"type\":\"js\",\"url\":\"\\/assetserver\\/d18d62e3d860f95bdd778d5ce0d98356c8e8cd70-plotly.min.js\"},{\"name\":null,\"type\":\"js\",\"url\":\"\\/assetserver\\/3ce237707c6799d71e862d9d30b4d1f68d73bd38-plotly_webio.bundle.js\"}],\"type\":\"async_block\"},\"id\":\"5600667166663898331\",\"handlers\":{\"_toImage\":[\"(function (options){return this.Plotly.toImage(this.plotElem,options).then((function (data){return WebIO.setval({\\\"name\\\":\\\"image\\\",\\\"scope\\\":\\\"5600667166663898331\\\",\\\"id\\\":\\\"13744111803277443559\\\",\\\"type\\\":\\\"observable\\\"},data)}))})\"],\"__get_gd_contents\":[\"(function (prop){prop==\\\"data\\\" ? (WebIO.setval({\\\"name\\\":\\\"__gd_contents\\\",\\\"scope\\\":\\\"5600667166663898331\\\",\\\"id\\\":\\\"16170707739691254054\\\",\\\"type\\\":\\\"observable\\\"},this.plotElem.data)) : undefined; return prop==\\\"layout\\\" ? (WebIO.setval({\\\"name\\\":\\\"__gd_contents\\\",\\\"scope\\\":\\\"5600667166663898331\\\",\\\"id\\\":\\\"16170707739691254054\\\",\\\"type\\\":\\\"observable\\\"},this.plotElem.layout)) : undefined})\"],\"_downloadImage\":[\"(function (options){return this.Plotly.downloadImage(this.plotElem,options)})\"],\"_commands\":[\"(function (args){var fn=args.shift(); var elem=this.plotElem; var Plotly=this.Plotly; args.unshift(elem); return Plotly[fn].apply(this,args)})\"]},\"systemjs_options\":null,\"mount_callbacks\":[\"function () {\\n    var handler = ((function (Plotly,PlotlyWebIO){PlotlyWebIO.init(WebIO); var gd=this.dom.querySelector(\\\"#plot-6acbe17c-38a9-4ff2-8b3e-fdabdd3e6d30\\\"); this.plotElem=gd; this.Plotly=Plotly; (window.Blink!==undefined) ? (gd.style.width=\\\"100%\\\", gd.style.height=\\\"100vh\\\", gd.style.marginLeft=\\\"0%\\\", gd.style.marginTop=\\\"0vh\\\") : undefined; window.onresize=(function (){return Plotly.Plots.resize(gd)}); Plotly.newPlot(gd,[{\\\"y\\\":[0.0,0.0,1.41202,0.872678,0.872678,-1.41202,-0.872678,-0.872678,0.0,0.0,1.41202,0.872678,0.872678,-1.41202,-0.872678,-0.872678,0.539345,0.539345,-0.539345,-0.539345],\\\"type\\\":\\\"mesh3d\\\",\\\"j\\\":[1,4,5,1,7,8,9,12,13,9,15,16,3,11,17,3,11,18,6,14,19,6,14,20,1,7,17,2,8,18,9,15,17,10,16,18],\\\"k\\\":[4,3,2,7,6,2,12,11,10,15,14,10,11,12,4,11,13,5,14,15,7,14,16,8,7,19,4,8,20,5,15,19,12,16,20,13],\\\"z\\\":[1.41202,1.41202,0.539345,0.872678,0.872678,0.539345,0.872678,0.872678,-1.41202,-1.41202,-0.539345,-0.872678,-0.872678,-0.539345,-0.872678,-0.872678,0.0,0.0,0.0,0.0],\\\"i\\\":[2,2,3,2,2,6,10,10,11,10,10,14,4,4,12,5,5,13,7,7,15,8,8,16,4,4,19,5,5,20,12,12,19,13,13,20],\\\"facecolor\\\":[\\\"rgb(50, 200, 200)\\\",\\\"rgb(50, 200, 200)\\\",\\\"rgb(50, 200, 200)\\\",\\\"rgb(50, 200, 200)\\\",\\\"rgb(50, 200, 200)\\\",\\\"rgb(50, 200, 200)\\\",\\\"rgb(50, 200, 200)\\\",\\\"rgb(50, 200, 200)\\\",\\\"rgb(50, 200, 200)\\\",\\\"rgb(50, 200, 200)\\\",\\\"rgb(50, 200, 200)\\\",\\\"rgb(50, 200, 200)\\\",\\\"rgb(50, 200, 200)\\\",\\\"rgb(50, 200, 200)\\\",\\\"rgb(50, 200, 200)\\\",\\\"rgb(50, 200, 200)\\\",\\\"rgb(50, 200, 200)\\\",\\\"rgb(50, 200, 200)\\\",\\\"rgb(50, 200, 200)\\\",\\\"rgb(50, 200, 200)\\\",\\\"rgb(50, 200, 200)\\\",\\\"rgb(50, 200, 200)\\\",\\\"rgb(50, 200, 200)\\\",\\\"rgb(50, 200, 200)\\\",\\\"rgb(50, 200, 200)\\\",\\\"rgb(50, 200, 200)\\\",\\\"rgb(50, 200, 200)\\\",\\\"rgb(50, 200, 200)\\\",\\\"rgb(50, 200, 200)\\\",\\\"rgb(50, 200, 200)\\\",\\\"rgb(50, 200, 200)\\\",\\\"rgb(50, 200, 200)\\\",\\\"rgb(50, 200, 200)\\\",\\\"rgb(50, 200, 200)\\\",\\\"rgb(50, 200, 200)\\\",\\\"rgb(50, 200, 200)\\\"],\\\"x\\\":[0.539345,-0.539345,0.0,0.872678,-0.872678,0.0,0.872678,-0.872678,0.539345,-0.539345,0.0,0.872678,-0.872678,0.0,0.872678,-0.872678,1.41202,-1.41202,1.41202,-1.41202]}],{\\\"template\\\":{\\\"layout\\\":{\\\"coloraxis\\\":{\\\"colorbar\\\":{\\\"ticks\\\":\\\"\\\",\\\"outlinewidth\\\":0}},\\\"xaxis\\\":{\\\"gridcolor\\\":\\\"white\\\",\\\"zerolinewidth\\\":2,\\\"title\\\":{\\\"standoff\\\":15},\\\"ticks\\\":\\\"\\\",\\\"zerolinecolor\\\":\\\"white\\\",\\\"automargin\\\":true,\\\"linecolor\\\":\\\"white\\\"},\\\"hovermode\\\":\\\"closest\\\",\\\"paper_bgcolor\\\":\\\"white\\\",\\\"geo\\\":{\\\"showlakes\\\":true,\\\"showland\\\":true,\\\"landcolor\\\":\\\"#E5ECF6\\\",\\\"bgcolor\\\":\\\"white\\\",\\\"subunitcolor\\\":\\\"white\\\",\\\"lakecolor\\\":\\\"white\\\"},\\\"colorscale\\\":{\\\"sequential\\\":[[0.0,\\\"#0d0887\\\"],[0.1111111111111111,\\\"#46039f\\\"],[0.2222222222222222,\\\"#7201a8\\\"],[0.3333333333333333,\\\"#9c179e\\\"],[0.4444444444444444,\\\"#bd3786\\\"],[0.5555555555555556,\\\"#d8576b\\\"],[0.6666666666666666,\\\"#ed7953\\\"],[0.7777777777777778,\\\"#fb9f3a\\\"],[0.8888888888888888,\\\"#fdca26\\\"],[1.0,\\\"#f0f921\\\"]],\\\"diverging\\\":[[0,\\\"#8e0152\\\"],[0.1,\\\"#c51b7d\\\"],[0.2,\\\"#de77ae\\\"],[0.3,\\\"#f1b6da\\\"],[0.4,\\\"#fde0ef\\\"],[0.5,\\\"#f7f7f7\\\"],[0.6,\\\"#e6f5d0\\\"],[0.7,\\\"#b8e186\\\"],[0.8,\\\"#7fbc41\\\"],[0.9,\\\"#4d9221\\\"],[1,\\\"#276419\\\"]],\\\"sequentialminus\\\":[[0.0,\\\"#0d0887\\\"],[0.1111111111111111,\\\"#46039f\\\"],[0.2222222222222222,\\\"#7201a8\\\"],[0.3333333333333333,\\\"#9c179e\\\"],[0.4444444444444444,\\\"#bd3786\\\"],[0.5555555555555556,\\\"#d8576b\\\"],[0.6666666666666666,\\\"#ed7953\\\"],[0.7777777777777778,\\\"#fb9f3a\\\"],[0.8888888888888888,\\\"#fdca26\\\"],[1.0,\\\"#f0f921\\\"]]},\\\"yaxis\\\":{\\\"gridcolor\\\":\\\"white\\\",\\\"zerolinewidth\\\":2,\\\"title\\\":{\\\"standoff\\\":15},\\\"ticks\\\":\\\"\\\",\\\"zerolinecolor\\\":\\\"white\\\",\\\"automargin\\\":true,\\\"linecolor\\\":\\\"white\\\"},\\\"shapedefaults\\\":{\\\"line\\\":{\\\"color\\\":\\\"#2a3f5f\\\"}},\\\"hoverlabel\\\":{\\\"align\\\":\\\"left\\\"},\\\"mapbox\\\":{\\\"style\\\":\\\"light\\\"},\\\"polar\\\":{\\\"angularaxis\\\":{\\\"gridcolor\\\":\\\"white\\\",\\\"ticks\\\":\\\"\\\",\\\"linecolor\\\":\\\"white\\\"},\\\"bgcolor\\\":\\\"#E5ECF6\\\",\\\"radialaxis\\\":{\\\"gridcolor\\\":\\\"white\\\",\\\"ticks\\\":\\\"\\\",\\\"linecolor\\\":\\\"white\\\"}},\\\"autotypenumbers\\\":\\\"strict\\\",\\\"font\\\":{\\\"color\\\":\\\"#2a3f5f\\\"},\\\"ternary\\\":{\\\"baxis\\\":{\\\"gridcolor\\\":\\\"white\\\",\\\"ticks\\\":\\\"\\\",\\\"linecolor\\\":\\\"white\\\"},\\\"bgcolor\\\":\\\"#E5ECF6\\\",\\\"caxis\\\":{\\\"gridcolor\\\":\\\"white\\\",\\\"ticks\\\":\\\"\\\",\\\"linecolor\\\":\\\"white\\\"},\\\"aaxis\\\":{\\\"gridcolor\\\":\\\"white\\\",\\\"ticks\\\":\\\"\\\",\\\"linecolor\\\":\\\"white\\\"}},\\\"annotationdefaults\\\":{\\\"arrowhead\\\":0,\\\"arrowwidth\\\":1,\\\"arrowcolor\\\":\\\"#2a3f5f\\\"},\\\"plot_bgcolor\\\":\\\"#E5ECF6\\\",\\\"title\\\":{\\\"x\\\":0.05},\\\"scene\\\":{\\\"xaxis\\\":{\\\"gridcolor\\\":\\\"white\\\",\\\"gridwidth\\\":2,\\\"backgroundcolor\\\":\\\"#E5ECF6\\\",\\\"ticks\\\":\\\"\\\",\\\"showbackground\\\":true,\\\"zerolinecolor\\\":\\\"white\\\",\\\"linecolor\\\":\\\"white\\\"},\\\"zaxis\\\":{\\\"gridcolor\\\":\\\"white\\\",\\\"gridwidth\\\":2,\\\"backgroundcolor\\\":\\\"#E5ECF6\\\",\\\"ticks\\\":\\\"\\\",\\\"showbackground\\\":true,\\\"zerolinecolor\\\":\\\"white\\\",\\\"linecolor\\\":\\\"white\\\"},\\\"yaxis\\\":{\\\"gridcolor\\\":\\\"white\\\",\\\"gridwidth\\\":2,\\\"backgroundcolor\\\":\\\"#E5ECF6\\\",\\\"ticks\\\":\\\"\\\",\\\"showbackground\\\":true,\\\"zerolinecolor\\\":\\\"white\\\",\\\"linecolor\\\":\\\"white\\\"}},\\\"colorway\\\":[\\\"#636efa\\\",\\\"#EF553B\\\",\\\"#00cc96\\\",\\\"#ab63fa\\\",\\\"#FFA15A\\\",\\\"#19d3f3\\\",\\\"#FF6692\\\",\\\"#B6E880\\\",\\\"#FF97FF\\\",\\\"#FECB52\\\"]},\\\"data\\\":{\\\"barpolar\\\":[{\\\"type\\\":\\\"barpolar\\\",\\\"marker\\\":{\\\"line\\\":{\\\"color\\\":\\\"#E5ECF6\\\",\\\"width\\\":0.5}}}],\\\"carpet\\\":[{\\\"aaxis\\\":{\\\"gridcolor\\\":\\\"white\\\",\\\"endlinecolor\\\":\\\"#2a3f5f\\\",\\\"minorgridcolor\\\":\\\"white\\\",\\\"startlinecolor\\\":\\\"#2a3f5f\\\",\\\"linecolor\\\":\\\"white\\\"},\\\"type\\\":\\\"carpet\\\",\\\"baxis\\\":{\\\"gridcolor\\\":\\\"white\\\",\\\"endlinecolor\\\":\\\"#2a3f5f\\\",\\\"minorgridcolor\\\":\\\"white\\\",\\\"startlinecolor\\\":\\\"#2a3f5f\\\",\\\"linecolor\\\":\\\"white\\\"}}],\\\"scatterpolar\\\":[{\\\"type\\\":\\\"scatterpolar\\\",\\\"marker\\\":{\\\"colorbar\\\":{\\\"ticks\\\":\\\"\\\",\\\"outlinewidth\\\":0}}}],\\\"parcoords\\\":[{\\\"line\\\":{\\\"colorbar\\\":{\\\"ticks\\\":\\\"\\\",\\\"outlinewidth\\\":0}},\\\"type\\\":\\\"parcoords\\\"}],\\\"scatter\\\":[{\\\"type\\\":\\\"scatter\\\",\\\"marker\\\":{\\\"colorbar\\\":{\\\"ticks\\\":\\\"\\\",\\\"outlinewidth\\\":0}}}],\\\"histogram2dcontour\\\":[{\\\"colorbar\\\":{\\\"ticks\\\":\\\"\\\",\\\"outlinewidth\\\":0},\\\"type\\\":\\\"histogram2dcontour\\\",\\\"colorscale\\\":[[0.0,\\\"#0d0887\\\"],[0.1111111111111111,\\\"#46039f\\\"],[0.2222222222222222,\\\"#7201a8\\\"],[0.3333333333333333,\\\"#9c179e\\\"],[0.4444444444444444,\\\"#bd3786\\\"],[0.5555555555555556,\\\"#d8576b\\\"],[0.6666666666666666,\\\"#ed7953\\\"],[0.7777777777777778,\\\"#fb9f3a\\\"],[0.8888888888888888,\\\"#fdca26\\\"],[1.0,\\\"#f0f921\\\"]]}],\\\"contour\\\":[{\\\"colorbar\\\":{\\\"ticks\\\":\\\"\\\",\\\"outlinewidth\\\":0},\\\"type\\\":\\\"contour\\\",\\\"colorscale\\\":[[0.0,\\\"#0d0887\\\"],[0.1111111111111111,\\\"#46039f\\\"],[0.2222222222222222,\\\"#7201a8\\\"],[0.3333333333333333,\\\"#9c179e\\\"],[0.4444444444444444,\\\"#bd3786\\\"],[0.5555555555555556,\\\"#d8576b\\\"],[0.6666666666666666,\\\"#ed7953\\\"],[0.7777777777777778,\\\"#fb9f3a\\\"],[0.8888888888888888,\\\"#fdca26\\\"],[1.0,\\\"#f0f921\\\"]]}],\\\"scattercarpet\\\":[{\\\"type\\\":\\\"scattercarpet\\\",\\\"marker\\\":{\\\"colorbar\\\":{\\\"ticks\\\":\\\"\\\",\\\"outlinewidth\\\":0}}}],\\\"mesh3d\\\":[{\\\"colorbar\\\":{\\\"ticks\\\":\\\"\\\",\\\"outlinewidth\\\":0},\\\"type\\\":\\\"mesh3d\\\"}],\\\"surface\\\":[{\\\"colorbar\\\":{\\\"ticks\\\":\\\"\\\",\\\"outlinewidth\\\":0},\\\"type\\\":\\\"surface\\\",\\\"colorscale\\\":[[0.0,\\\"#0d0887\\\"],[0.1111111111111111,\\\"#46039f\\\"],[0.2222222222222222,\\\"#7201a8\\\"],[0.3333333333333333,\\\"#9c179e\\\"],[0.4444444444444444,\\\"#bd3786\\\"],[0.5555555555555556,\\\"#d8576b\\\"],[0.6666666666666666,\\\"#ed7953\\\"],[0.7777777777777778,\\\"#fb9f3a\\\"],[0.8888888888888888,\\\"#fdca26\\\"],[1.0,\\\"#f0f921\\\"]]}],\\\"scattermapbox\\\":[{\\\"type\\\":\\\"scattermapbox\\\",\\\"marker\\\":{\\\"colorbar\\\":{\\\"ticks\\\":\\\"\\\",\\\"outlinewidth\\\":0}}}],\\\"scattergeo\\\":[{\\\"type\\\":\\\"scattergeo\\\",\\\"marker\\\":{\\\"colorbar\\\":{\\\"ticks\\\":\\\"\\\",\\\"outlinewidth\\\":0}}}],\\\"histogram\\\":[{\\\"type\\\":\\\"histogram\\\",\\\"marker\\\":{\\\"colorbar\\\":{\\\"ticks\\\":\\\"\\\",\\\"outlinewidth\\\":0}}}],\\\"pie\\\":[{\\\"type\\\":\\\"pie\\\",\\\"automargin\\\":true}],\\\"choropleth\\\":[{\\\"colorbar\\\":{\\\"ticks\\\":\\\"\\\",\\\"outlinewidth\\\":0},\\\"type\\\":\\\"choropleth\\\"}],\\\"heatmapgl\\\":[{\\\"colorbar\\\":{\\\"ticks\\\":\\\"\\\",\\\"outlinewidth\\\":0},\\\"type\\\":\\\"heatmapgl\\\",\\\"colorscale\\\":[[0.0,\\\"#0d0887\\\"],[0.1111111111111111,\\\"#46039f\\\"],[0.2222222222222222,\\\"#7201a8\\\"],[0.3333333333333333,\\\"#9c179e\\\"],[0.4444444444444444,\\\"#bd3786\\\"],[0.5555555555555556,\\\"#d8576b\\\"],[0.6666666666666666,\\\"#ed7953\\\"],[0.7777777777777778,\\\"#fb9f3a\\\"],[0.8888888888888888,\\\"#fdca26\\\"],[1.0,\\\"#f0f921\\\"]]}],\\\"bar\\\":[{\\\"type\\\":\\\"bar\\\",\\\"error_y\\\":{\\\"color\\\":\\\"#2a3f5f\\\"},\\\"error_x\\\":{\\\"color\\\":\\\"#2a3f5f\\\"},\\\"marker\\\":{\\\"line\\\":{\\\"color\\\":\\\"#E5ECF6\\\",\\\"width\\\":0.5}}}],\\\"heatmap\\\":[{\\\"colorbar\\\":{\\\"ticks\\\":\\\"\\\",\\\"outlinewidth\\\":0},\\\"type\\\":\\\"heatmap\\\",\\\"colorscale\\\":[[0.0,\\\"#0d0887\\\"],[0.1111111111111111,\\\"#46039f\\\"],[0.2222222222222222,\\\"#7201a8\\\"],[0.3333333333333333,\\\"#9c179e\\\"],[0.4444444444444444,\\\"#bd3786\\\"],[0.5555555555555556,\\\"#d8576b\\\"],[0.6666666666666666,\\\"#ed7953\\\"],[0.7777777777777778,\\\"#fb9f3a\\\"],[0.8888888888888888,\\\"#fdca26\\\"],[1.0,\\\"#f0f921\\\"]]}],\\\"contourcarpet\\\":[{\\\"colorbar\\\":{\\\"ticks\\\":\\\"\\\",\\\"outlinewidth\\\":0},\\\"type\\\":\\\"contourcarpet\\\"}],\\\"table\\\":[{\\\"type\\\":\\\"table\\\",\\\"header\\\":{\\\"line\\\":{\\\"color\\\":\\\"white\\\"},\\\"fill\\\":{\\\"color\\\":\\\"#C8D4E3\\\"}},\\\"cells\\\":{\\\"line\\\":{\\\"color\\\":\\\"white\\\"},\\\"fill\\\":{\\\"color\\\":\\\"#EBF0F8\\\"}}}],\\\"scatter3d\\\":[{\\\"line\\\":{\\\"colorbar\\\":{\\\"ticks\\\":\\\"\\\",\\\"outlinewidth\\\":0}},\\\"type\\\":\\\"scatter3d\\\",\\\"marker\\\":{\\\"colorbar\\\":{\\\"ticks\\\":\\\"\\\",\\\"outlinewidth\\\":0}}}],\\\"scattergl\\\":[{\\\"type\\\":\\\"scattergl\\\",\\\"marker\\\":{\\\"colorbar\\\":{\\\"ticks\\\":\\\"\\\",\\\"outlinewidth\\\":0}}}],\\\"histogram2d\\\":[{\\\"colorbar\\\":{\\\"ticks\\\":\\\"\\\",\\\"outlinewidth\\\":0},\\\"type\\\":\\\"histogram2d\\\",\\\"colorscale\\\":[[0.0,\\\"#0d0887\\\"],[0.1111111111111111,\\\"#46039f\\\"],[0.2222222222222222,\\\"#7201a8\\\"],[0.3333333333333333,\\\"#9c179e\\\"],[0.4444444444444444,\\\"#bd3786\\\"],[0.5555555555555556,\\\"#d8576b\\\"],[0.6666666666666666,\\\"#ed7953\\\"],[0.7777777777777778,\\\"#fb9f3a\\\"],[0.8888888888888888,\\\"#fdca26\\\"],[1.0,\\\"#f0f921\\\"]]}],\\\"scatterternary\\\":[{\\\"type\\\":\\\"scatterternary\\\",\\\"marker\\\":{\\\"colorbar\\\":{\\\"ticks\\\":\\\"\\\",\\\"outlinewidth\\\":0}}}],\\\"scatterpolargl\\\":[{\\\"type\\\":\\\"scatterpolargl\\\",\\\"marker\\\":{\\\"colorbar\\\":{\\\"ticks\\\":\\\"\\\",\\\"outlinewidth\\\":0}}}]}},\\\"margin\\\":{\\\"l\\\":50,\\\"b\\\":50,\\\"r\\\":50,\\\"t\\\":60}},{\\\"showLink\\\":false,\\\"editable\\\":false,\\\"responsive\\\":true,\\\"staticPlot\\\":false,\\\"scrollZoom\\\":true}); gd.on(\\\"plotly_hover\\\",(function (data){var filtered_data=WebIO.PlotlyCommands.filterEventData(gd,data,\\\"hover\\\"); return !(filtered_data.isnil) ? (WebIO.setval({\\\"name\\\":\\\"hover\\\",\\\"scope\\\":\\\"5600667166663898331\\\",\\\"id\\\":\\\"7281288140608292550\\\",\\\"type\\\":\\\"observable\\\"},filtered_data.out)) : undefined})); gd.on(\\\"plotly_unhover\\\",(function (){return WebIO.setval({\\\"name\\\":\\\"hover\\\",\\\"scope\\\":\\\"5600667166663898331\\\",\\\"id\\\":\\\"7281288140608292550\\\",\\\"type\\\":\\\"observable\\\"},{})})); gd.on(\\\"plotly_selected\\\",(function (data){var filtered_data=WebIO.PlotlyCommands.filterEventData(gd,data,\\\"selected\\\"); return !(filtered_data.isnil) ? (WebIO.setval({\\\"name\\\":\\\"selected\\\",\\\"scope\\\":\\\"5600667166663898331\\\",\\\"id\\\":\\\"8438542436679520755\\\",\\\"type\\\":\\\"observable\\\"},filtered_data.out)) : undefined})); gd.on(\\\"plotly_deselect\\\",(function (){return WebIO.setval({\\\"name\\\":\\\"selected\\\",\\\"scope\\\":\\\"5600667166663898331\\\",\\\"id\\\":\\\"8438542436679520755\\\",\\\"type\\\":\\\"observable\\\"},{})})); gd.on(\\\"plotly_relayout\\\",(function (data){var filtered_data=WebIO.PlotlyCommands.filterEventData(gd,data,\\\"relayout\\\"); return !(filtered_data.isnil) ? (WebIO.setval({\\\"name\\\":\\\"relayout\\\",\\\"scope\\\":\\\"5600667166663898331\\\",\\\"id\\\":\\\"5019506735974641870\\\",\\\"type\\\":\\\"observable\\\"},filtered_data.out)) : undefined})); return gd.on(\\\"plotly_click\\\",(function (data){var filtered_data=WebIO.PlotlyCommands.filterEventData(gd,data,\\\"click\\\"); return !(filtered_data.isnil) ? (WebIO.setval({\\\"name\\\":\\\"click\\\",\\\"scope\\\":\\\"5600667166663898331\\\",\\\"id\\\":\\\"1204817760867113552\\\",\\\"type\\\":\\\"observable\\\"},filtered_data.out)) : undefined}))}));\\n    (WebIO.importBlock({\\\"data\\\":[{\\\"name\\\":\\\"Plotly\\\",\\\"type\\\":\\\"js\\\",\\\"url\\\":\\\"\\/assetserver\\/d18d62e3d860f95bdd778d5ce0d98356c8e8cd70-plotly.min.js\\\"},{\\\"name\\\":null,\\\"type\\\":\\\"js\\\",\\\"url\\\":\\\"\\/assetserver\\/3ce237707c6799d71e862d9d30b4d1f68d73bd38-plotly_webio.bundle.js\\\"}],\\\"type\\\":\\\"async_block\\\"})).then((imports) => handler.apply(this, imports));\\n}\\n\"],\"observables\":{\"_toImage\":{\"sync\":false,\"id\":\"13221927173073349828\",\"value\":{}},\"hover\":{\"sync\":false,\"id\":\"7281288140608292550\",\"value\":{}},\"selected\":{\"sync\":false,\"id\":\"8438542436679520755\",\"value\":{}},\"__gd_contents\":{\"sync\":false,\"id\":\"16170707739691254054\",\"value\":{}},\"click\":{\"sync\":false,\"id\":\"1204817760867113552\",\"value\":{}},\"image\":{\"sync\":true,\"id\":\"13744111803277443559\",\"value\":\"\"},\"__get_gd_contents\":{\"sync\":false,\"id\":\"6886534657559993595\",\"value\":\"\"},\"_downloadImage\":{\"sync\":false,\"id\":\"13836588848704806247\",\"value\":{}},\"relayout\":{\"sync\":false,\"id\":\"5019506735974641870\",\"value\":{}},\"_commands\":{\"sync\":false,\"id\":\"1887044703082416236\",\"value\":[]}}},\"children\":[{\"props\":{\"id\":\"plot-6acbe17c-38a9-4ff2-8b3e-fdabdd3e6d30\"},\"nodeType\":\"DOM\",\"type\":\"node\",\"instanceArgs\":{\"namespace\":\"html\",\"tag\":\"div\"},\"children\":[]}]},\n",
       "        window,\n",
       "    );\n",
       "    })()\n",
       "    </script>\n",
       "</div>\n"
      ],
      "text/plain": [
       "data: [\n",
       "  \"mesh3d with fields facecolor, i, j, k, type, x, y, and z\"\n",
       "]\n",
       "\n",
       "layout: \"layout with fields margin and template\"\n",
       "\n"
      ]
     },
     "metadata": {},
     "output_type": "display_data"
    }
   ],
   "source": [
    "include(\"../plotting.jl\")\n",
    "\n"
   ]
  },
  {
   "cell_type": "code",
   "execution_count": 14,
   "metadata": {},
   "outputs": [
    {
     "data": {
      "text/plain": [
       "36-element Vector{Int64}:\n",
       "  1\n",
       "  4\n",
       "  5\n",
       "  1\n",
       "  7\n",
       "  8\n",
       "  9\n",
       " 12\n",
       " 13\n",
       "  9\n",
       "  ⋮\n",
       "  2\n",
       "  8\n",
       " 18\n",
       "  9\n",
       " 15\n",
       " 17\n",
       " 10\n",
       " 16\n",
       " 18"
      ]
     },
     "metadata": {},
     "output_type": "display_data"
    }
   ],
   "source": [
    "poly = Dodecahedron\n",
    "\n",
    "polyTriang = triangulatePolyhedron(poly)\n",
    "\n",
    "facecolor = repeat([\"rgb(50, 200, 200)\"], length(polyTriang.facets))\n",
    "mesh = mesh3d(\n",
    "        x = [vert[1] for vert in polyTriang.verts],\n",
    "        y = [vert[2] for vert in polyTriang.verts],\n",
    "        z = [vert[3] for vert in polyTriang.verts],\n",
    "        i = [triang[1] for triang in polyTriang.facets],\n",
    "        j = [triang[2] for triang in polyTriang.facets],\n",
    "        k = [triang[3] for triang in polyTriang.facets],\n",
    "        facecolor = facecolor\n",
    "    )\n",
    "\n",
    "plot(mesh)"
   ]
  },
  {
   "cell_type": "code",
   "execution_count": 6,
   "metadata": {},
   "outputs": [
    {
     "data": {
      "text/plain": [
       "5-element Vector{Vector{Float64}}:\n",
       " [0.0, 1.41202, 0.539345]\n",
       " [0.0, 1.41202, -0.539345]\n",
       " [0.872678, 0.872678, -0.872678]\n",
       " [0.872678, -0.872678, 0.872678]\n",
       " [0.872678, 0.872678, 0.872678]"
      ]
     },
     "metadata": {},
     "output_type": "display_data"
    }
   ],
   "source": [
    "Dodecahedron.verts[[3,11,12,7,4]]"
   ]
  },
  {
   "cell_type": "code",
   "execution_count": 9,
   "metadata": {},
   "outputs": [
    {
     "data": {
      "image/png": "[encoded data removed]",
      "image/svg+xml": "<?xml version=\"1.0\" encoding=\"utf-8\"?>\n<svg xmlns=\"http://www.w3.org/2000/svg\" xmlns:xlink=\"http://www.w3.org/1999/xlink\" width=\"600\" height=\"400\" viewBox=\"0 0 2400 1600\">\n<defs>\n  <clipPath id=\"clip820\">\n    <rect x=\"0\" y=\"0\" width=\"2400\" height=\"1600\"/>\n  </clipPath>\n</defs>\n<path clip-path=\"url(#clip820)\" d=\"M0 1600 L2400 1600 L2400 0 L0 0  Z\" fill=\"#ffffff\" fill-rule=\"evenodd\" fill-opacity=\"1\"/>\n<defs>\n  <clipPath id=\"clip821\">\n    <rect x=\"480\" y=\"0\" width=\"1681\" height=\"1600\"/>\n  </clipPath>\n</defs>\n<defs>\n  <clipPath id=\"clip822\">\n    <rect x=\"224\" y=\"47\" width=\"2130\" height=\"1440\"/>\n  </clipPath>\n</defs>\n<path clip-path=\"url(#clip822)\" d=\"M-474.014 3227.16 L-474.014 1671.32 L81.1418 893.405 L1042.7 1342.54 L1042.7 2898.37 L487.544 3676.29 L-474.014 3227.16  Z\" fill=\"#ffffff\" fill-rule=\"evenodd\" fill-opacity=\"1\"/>\n<polyline clip-path=\"url(#clip822)\" style=\"stroke:#000000; stroke-linecap:round; stroke-linejoin:round; stroke-width:2; stroke-opacity:0.1; fill:none\" points=\"741.261,1208.56 1156.72,848.76 1156.72,129.158 \"/>\n<polyline clip-path=\"url(#clip822)\" style=\"stroke:#000000; stroke-linecap:round; stroke-linejoin:round; stroke-width:2; stroke-opacity:0.1; fill:none\" points=\"861.456,1243.26 1276.92,883.457 1276.92,163.855 \"/>\n<polyline clip-path=\"url(#clip822)\" style=\"stroke:#000000; stroke-linecap:round; stroke-linejoin:round; stroke-width:2; stroke-opacity:0.1; fill:none\" points=\"981.65,1277.96 1397.11,918.155 1397.11,198.553 \"/>\n<polyline clip-path=\"url(#clip822)\" style=\"stroke:#000000; stroke-linecap:round; stroke-linejoin:round; stroke-width:2; stroke-opacity:0.1; fill:none\" points=\"1101.85,1312.65 1517.31,952.852 1517.31,233.25 \"/>\n<polyline clip-path=\"url(#clip822)\" style=\"stroke:#000000; stroke-linecap:round; stroke-linejoin:round; stroke-width:2; stroke-opacity:0.1; fill:none\" points=\"1222.04,1347.35 1637.5,987.549 1637.5,267.947 \"/>\n<polyline clip-path=\"url(#clip822)\" style=\"stroke:#000000; stroke-linecap:round; stroke-linejoin:round; stroke-width:2; stroke-opacity:0.1; fill:none\" points=\"1342.23,1382.05 1757.7,1022.25 1757.7,302.644 \"/>\n<polyline clip-path=\"url(#clip820)\" style=\"stroke:#000000; stroke-linecap:round; stroke-linejoin:round; stroke-width:4; stroke-opacity:1; fill:none\" points=\"720.895,1202.68 1440.5,1410.41 \"/>\n<polyline clip-path=\"url(#clip820)\" style=\"stroke:#000000; stroke-linecap:round; stroke-linejoin:round; stroke-width:4; stroke-opacity:1; fill:none\" points=\"741.261,1208.56 746.246,1204.24 \"/>\n<polyline clip-path=\"url(#clip820)\" style=\"stroke:#000000; stroke-linecap:round; stroke-linejoin:round; stroke-width:4; stroke-opacity:1; fill:none\" points=\"861.456,1243.26 866.441,1238.94 \"/>\n<polyline clip-path=\"url(#clip820)\" style=\"stroke:#000000; stroke-linecap:round; stroke-linejoin:round; stroke-width:4; stroke-opacity:1; fill:none\" points=\"981.65,1277.96 986.636,1273.64 \"/>\n<polyline clip-path=\"url(#clip820)\" style=\"stroke:#000000; stroke-linecap:round; stroke-linejoin:round; stroke-width:4; stroke-opacity:1; fill:none\" points=\"1101.85,1312.65 1106.83,1308.34 \"/>\n<polyline clip-path=\"url(#clip820)\" style=\"stroke:#000000; stroke-linecap:round; stroke-linejoin:round; stroke-width:4; stroke-opacity:1; fill:none\" points=\"1222.04,1347.35 1227.03,1343.03 \"/>\n<polyline clip-path=\"url(#clip820)\" style=\"stroke:#000000; stroke-linecap:round; stroke-linejoin:round; stroke-width:4; stroke-opacity:1; fill:none\" points=\"1342.23,1382.05 1347.22,1377.73 \"/>\n<path clip-path=\"url(#clip820)\" d=\"M641.735 1220.45 Q638.124 1220.45 636.295 1224.02 Q634.49 1227.56 634.49 1234.69 Q634.49 1241.8 636.295 1245.36 Q638.124 1248.9 641.735 1248.9 Q645.37 1248.9 647.175 1245.36 Q649.004 1241.8 649.004 1234.69 Q649.004 1227.56 647.175 1224.02 Q645.37 1220.45 641.735 1220.45 M641.735 1216.75 Q647.545 1216.75 650.601 1221.36 Q653.68 1225.94 653.68 1234.69 Q653.68 1243.42 650.601 1248.02 Q647.545 1252.61 641.735 1252.61 Q635.925 1252.61 632.846 1248.02 Q629.791 1243.42 629.791 1234.69 Q629.791 1225.94 632.846 1221.36 Q635.925 1216.75 641.735 1216.75 Z\" fill=\"#000000\" fill-rule=\"evenodd\" fill-opacity=\"1\" /><path clip-path=\"url(#clip820)\" d=\"M661.897 1246.06 L666.781 1246.06 L666.781 1251.93 L661.897 1251.93 L661.897 1246.06 Z\" fill=\"#000000\" fill-rule=\"evenodd\" fill-opacity=\"1\" /><path clip-path=\"url(#clip820)\" d=\"M686.967 1220.45 Q683.355 1220.45 681.527 1224.02 Q679.721 1227.56 679.721 1234.69 Q679.721 1241.8 681.527 1245.36 Q683.355 1248.9 686.967 1248.9 Q690.601 1248.9 692.406 1245.36 Q694.235 1241.8 694.235 1234.69 Q694.235 1227.56 692.406 1224.02 Q690.601 1220.45 686.967 1220.45 M686.967 1216.75 Q692.777 1216.75 695.832 1221.36 Q698.911 1225.94 698.911 1234.69 Q698.911 1243.42 695.832 1248.02 Q692.777 1252.61 686.967 1252.61 Q681.156 1252.61 678.078 1248.02 Q675.022 1243.42 675.022 1234.69 Q675.022 1225.94 678.078 1221.36 Q681.156 1216.75 686.967 1216.75 Z\" fill=\"#000000\" fill-rule=\"evenodd\" fill-opacity=\"1\" /><path clip-path=\"url(#clip820)\" d=\"M717.128 1220.45 Q713.517 1220.45 711.689 1224.02 Q709.883 1227.56 709.883 1234.69 Q709.883 1241.8 711.689 1245.36 Q713.517 1248.9 717.128 1248.9 Q720.763 1248.9 722.568 1245.36 Q724.397 1241.8 724.397 1234.69 Q724.397 1227.56 722.568 1224.02 Q720.763 1220.45 717.128 1220.45 M717.128 1216.75 Q722.939 1216.75 725.994 1221.36 Q729.073 1225.94 729.073 1234.69 Q729.073 1243.42 725.994 1248.02 Q722.939 1252.61 717.128 1252.61 Q711.318 1252.61 708.24 1248.02 Q705.184 1243.42 705.184 1234.69 Q705.184 1225.94 708.24 1221.36 Q711.318 1216.75 717.128 1216.75 Z\" fill=\"#000000\" fill-rule=\"evenodd\" fill-opacity=\"1\" /><path clip-path=\"url(#clip820)\" d=\"M762.925 1255.15 Q759.314 1255.15 757.486 1258.72 Q755.68 1262.26 755.68 1269.39 Q755.68 1276.49 757.486 1280.06 Q759.314 1283.6 762.925 1283.6 Q766.56 1283.6 768.365 1280.06 Q770.194 1276.49 770.194 1269.39 Q770.194 1262.26 768.365 1258.72 Q766.56 1255.15 762.925 1255.15 M762.925 1251.45 Q768.736 1251.45 771.791 1256.05 Q774.87 1260.64 774.87 1269.39 Q774.87 1278.11 771.791 1282.72 Q768.736 1287.3 762.925 1287.3 Q757.115 1287.3 754.037 1282.72 Q750.981 1278.11 750.981 1269.39 Q750.981 1260.64 754.037 1256.05 Q757.115 1251.45 762.925 1251.45 Z\" fill=\"#000000\" fill-rule=\"evenodd\" fill-opacity=\"1\" /><path clip-path=\"url(#clip820)\" d=\"M783.087 1280.75 L787.972 1280.75 L787.972 1286.63 L783.087 1286.63 L783.087 1280.75 Z\" fill=\"#000000\" fill-rule=\"evenodd\" fill-opacity=\"1\" /><path clip-path=\"url(#clip820)\" d=\"M802.184 1282.7 L818.504 1282.7 L818.504 1286.63 L796.559 1286.63 L796.559 1282.7 Q799.222 1279.94 803.805 1275.31 Q808.411 1270.66 809.592 1269.32 Q811.837 1266.79 812.717 1265.06 Q813.62 1263.3 813.62 1261.61 Q813.62 1258.85 811.675 1257.12 Q809.754 1255.38 806.652 1255.38 Q804.453 1255.38 801.999 1256.15 Q799.569 1256.91 796.791 1258.46 L796.791 1253.74 Q799.615 1252.6 802.069 1252.03 Q804.522 1251.45 806.559 1251.45 Q811.93 1251.45 815.124 1254.13 Q818.319 1256.82 818.319 1261.31 Q818.319 1263.44 817.508 1265.36 Q816.721 1267.26 814.615 1269.85 Q814.036 1270.52 810.934 1273.74 Q807.833 1276.93 802.184 1282.7 Z\" fill=\"#000000\" fill-rule=\"evenodd\" fill-opacity=\"1\" /><path clip-path=\"url(#clip820)\" d=\"M828.365 1252.07 L846.721 1252.07 L846.721 1256.01 L832.647 1256.01 L832.647 1264.48 Q833.666 1264.13 834.684 1263.97 Q835.703 1263.79 836.721 1263.79 Q842.508 1263.79 845.888 1266.96 Q849.268 1270.13 849.268 1275.54 Q849.268 1281.12 845.795 1284.22 Q842.323 1287.3 836.004 1287.3 Q833.828 1287.3 831.559 1286.93 Q829.314 1286.56 826.907 1285.82 L826.907 1281.12 Q828.99 1282.26 831.212 1282.81 Q833.434 1283.37 835.911 1283.37 Q839.916 1283.37 842.254 1281.26 Q844.592 1279.16 844.592 1275.54 Q844.592 1271.93 842.254 1269.83 Q839.916 1267.72 835.911 1267.72 Q834.036 1267.72 832.161 1268.14 Q830.309 1268.55 828.365 1269.43 L828.365 1252.07 Z\" fill=\"#000000\" fill-rule=\"evenodd\" fill-opacity=\"1\" /><path clip-path=\"url(#clip820)\" d=\"M882.125 1289.85 Q878.514 1289.85 876.685 1293.41 Q874.879 1296.95 874.879 1304.08 Q874.879 1311.19 876.685 1314.76 Q878.514 1318.3 882.125 1318.3 Q885.759 1318.3 887.565 1314.76 Q889.393 1311.19 889.393 1304.08 Q889.393 1296.95 887.565 1293.41 Q885.759 1289.85 882.125 1289.85 M882.125 1286.14 Q887.935 1286.14 890.991 1290.75 Q894.069 1295.33 894.069 1304.08 Q894.069 1312.81 890.991 1317.42 Q887.935 1322 882.125 1322 Q876.315 1322 873.236 1317.42 Q870.18 1312.81 870.18 1304.08 Q870.18 1295.33 873.236 1290.75 Q876.315 1286.14 882.125 1286.14 Z\" fill=\"#000000\" fill-rule=\"evenodd\" fill-opacity=\"1\" /><path clip-path=\"url(#clip820)\" d=\"M902.287 1315.45 L907.171 1315.45 L907.171 1321.33 L902.287 1321.33 L902.287 1315.45 Z\" fill=\"#000000\" fill-rule=\"evenodd\" fill-opacity=\"1\" /><path clip-path=\"url(#clip820)\" d=\"M917.402 1286.77 L935.759 1286.77 L935.759 1290.7 L921.685 1290.7 L921.685 1299.18 Q922.703 1298.83 923.722 1298.67 Q924.74 1298.48 925.759 1298.48 Q931.546 1298.48 934.925 1301.65 Q938.305 1304.82 938.305 1310.24 Q938.305 1315.82 934.833 1318.92 Q931.361 1322 925.041 1322 Q922.865 1322 920.597 1321.63 Q918.351 1321.26 915.944 1320.52 L915.944 1315.82 Q918.027 1316.95 920.25 1317.51 Q922.472 1318.07 924.949 1318.07 Q928.953 1318.07 931.291 1315.96 Q933.629 1313.85 933.629 1310.24 Q933.629 1306.63 931.291 1304.52 Q928.953 1302.42 924.949 1302.42 Q923.074 1302.42 921.199 1302.83 Q919.347 1303.25 917.402 1304.13 L917.402 1286.77 Z\" fill=\"#000000\" fill-rule=\"evenodd\" fill-opacity=\"1\" /><path clip-path=\"url(#clip820)\" d=\"M957.518 1289.85 Q953.907 1289.85 952.078 1293.41 Q950.273 1296.95 950.273 1304.08 Q950.273 1311.19 952.078 1314.76 Q953.907 1318.3 957.518 1318.3 Q961.152 1318.3 962.958 1314.76 Q964.786 1311.19 964.786 1304.08 Q964.786 1296.95 962.958 1293.41 Q961.152 1289.85 957.518 1289.85 M957.518 1286.14 Q963.328 1286.14 966.384 1290.75 Q969.462 1295.33 969.462 1304.08 Q969.462 1312.81 966.384 1317.42 Q963.328 1322 957.518 1322 Q951.708 1322 948.629 1317.42 Q945.574 1312.81 945.574 1304.08 Q945.574 1295.33 948.629 1290.75 Q951.708 1286.14 957.518 1286.14 Z\" fill=\"#000000\" fill-rule=\"evenodd\" fill-opacity=\"1\" /><path clip-path=\"url(#clip820)\" d=\"M1003.31 1324.55 Q999.704 1324.55 997.875 1328.11 Q996.07 1331.65 996.07 1338.78 Q996.07 1345.89 997.875 1349.45 Q999.704 1352.99 1003.31 1352.99 Q1006.95 1352.99 1008.75 1349.45 Q1010.58 1345.89 1010.58 1338.78 Q1010.58 1331.65 1008.75 1328.11 Q1006.95 1324.55 1003.31 1324.55 M1003.31 1320.84 Q1009.13 1320.84 1012.18 1325.45 Q1015.26 1330.03 1015.26 1338.78 Q1015.26 1347.51 1012.18 1352.11 Q1009.13 1356.7 1003.31 1356.7 Q997.505 1356.7 994.426 1352.11 Q991.371 1347.51 991.371 1338.78 Q991.371 1330.03 994.426 1325.45 Q997.505 1320.84 1003.31 1320.84 Z\" fill=\"#000000\" fill-rule=\"evenodd\" fill-opacity=\"1\" /><path clip-path=\"url(#clip820)\" d=\"M1023.48 1350.15 L1028.36 1350.15 L1028.36 1356.03 L1023.48 1356.03 L1023.48 1350.15 Z\" fill=\"#000000\" fill-rule=\"evenodd\" fill-opacity=\"1\" /><path clip-path=\"url(#clip820)\" d=\"M1037.37 1321.47 L1059.59 1321.47 L1059.59 1323.46 L1047.04 1356.03 L1042.16 1356.03 L1053.96 1325.4 L1037.37 1325.4 L1037.37 1321.47 Z\" fill=\"#000000\" fill-rule=\"evenodd\" fill-opacity=\"1\" /><path clip-path=\"url(#clip820)\" d=\"M1068.75 1321.47 L1087.11 1321.47 L1087.11 1325.4 L1073.04 1325.4 L1073.04 1333.87 Q1074.06 1333.53 1075.07 1333.36 Q1076.09 1333.18 1077.11 1333.18 Q1082.9 1333.18 1086.28 1336.35 Q1089.66 1339.52 1089.66 1344.94 Q1089.66 1350.52 1086.18 1353.62 Q1082.71 1356.7 1076.39 1356.7 Q1074.22 1356.7 1071.95 1356.33 Q1069.7 1355.96 1067.3 1355.22 L1067.3 1350.52 Q1069.38 1351.65 1071.6 1352.21 Q1073.82 1352.76 1076.3 1352.76 Q1080.31 1352.76 1082.64 1350.66 Q1084.98 1348.55 1084.98 1344.94 Q1084.98 1341.33 1082.64 1339.22 Q1080.31 1337.11 1076.3 1337.11 Q1074.43 1337.11 1072.55 1337.53 Q1070.7 1337.95 1068.75 1338.83 L1068.75 1321.47 Z\" fill=\"#000000\" fill-rule=\"evenodd\" fill-opacity=\"1\" /><path clip-path=\"url(#clip820)\" d=\"M1113.32 1386.79 L1120.96 1386.79 L1120.96 1360.42 L1112.65 1362.09 L1112.65 1357.83 L1120.92 1356.16 L1125.59 1356.16 L1125.59 1386.79 L1133.23 1386.79 L1133.23 1390.72 L1113.32 1390.72 L1113.32 1386.79 Z\" fill=\"#000000\" fill-rule=\"evenodd\" fill-opacity=\"1\" /><path clip-path=\"url(#clip820)\" d=\"M1142.68 1384.84 L1147.56 1384.84 L1147.56 1390.72 L1142.68 1390.72 L1142.68 1384.84 Z\" fill=\"#000000\" fill-rule=\"evenodd\" fill-opacity=\"1\" /><path clip-path=\"url(#clip820)\" d=\"M1167.75 1359.24 Q1164.13 1359.24 1162.31 1362.81 Q1160.5 1366.35 1160.5 1373.48 Q1160.5 1380.59 1162.31 1384.15 Q1164.13 1387.69 1167.75 1387.69 Q1171.38 1387.69 1173.19 1384.15 Q1175.01 1380.59 1175.01 1373.48 Q1175.01 1366.35 1173.19 1362.81 Q1171.38 1359.24 1167.75 1359.24 M1167.75 1355.54 Q1173.56 1355.54 1176.61 1360.15 Q1179.69 1364.73 1179.69 1373.48 Q1179.69 1382.21 1176.61 1386.81 Q1173.56 1391.4 1167.75 1391.4 Q1161.94 1391.4 1158.86 1386.81 Q1155.8 1382.21 1155.8 1373.48 Q1155.8 1364.73 1158.86 1360.15 Q1161.94 1355.54 1167.75 1355.54 Z\" fill=\"#000000\" fill-rule=\"evenodd\" fill-opacity=\"1\" /><path clip-path=\"url(#clip820)\" d=\"M1197.91 1359.24 Q1194.3 1359.24 1192.47 1362.81 Q1190.66 1366.35 1190.66 1373.48 Q1190.66 1380.59 1192.47 1384.15 Q1194.3 1387.69 1197.91 1387.69 Q1201.54 1387.69 1203.35 1384.15 Q1205.18 1380.59 1205.18 1373.48 Q1205.18 1366.35 1203.35 1362.81 Q1201.54 1359.24 1197.91 1359.24 M1197.91 1355.54 Q1203.72 1355.54 1206.77 1360.15 Q1209.85 1364.73 1209.85 1373.48 Q1209.85 1382.21 1206.77 1386.81 Q1203.72 1391.4 1197.91 1391.4 Q1192.1 1391.4 1189.02 1386.81 Q1185.96 1382.21 1185.96 1373.48 Q1185.96 1364.73 1189.02 1360.15 Q1192.1 1355.54 1197.91 1355.54 Z\" fill=\"#000000\" fill-rule=\"evenodd\" fill-opacity=\"1\" /><path clip-path=\"url(#clip820)\" d=\"M1234.51 1421.49 L1242.15 1421.49 L1242.15 1395.12 L1233.84 1396.79 L1233.84 1392.53 L1242.11 1390.86 L1246.78 1390.86 L1246.78 1421.49 L1254.42 1421.49 L1254.42 1425.42 L1234.51 1425.42 L1234.51 1421.49 Z\" fill=\"#000000\" fill-rule=\"evenodd\" fill-opacity=\"1\" /><path clip-path=\"url(#clip820)\" d=\"M1263.87 1419.54 L1268.75 1419.54 L1268.75 1425.42 L1263.87 1425.42 L1263.87 1419.54 Z\" fill=\"#000000\" fill-rule=\"evenodd\" fill-opacity=\"1\" /><path clip-path=\"url(#clip820)\" d=\"M1282.96 1421.49 L1299.28 1421.49 L1299.28 1425.42 L1277.34 1425.42 L1277.34 1421.49 Q1280 1418.73 1284.58 1414.1 Q1289.19 1409.45 1290.37 1408.11 Q1292.62 1405.58 1293.5 1403.85 Q1294.4 1402.09 1294.4 1400.4 Q1294.4 1397.64 1292.45 1395.91 Q1290.53 1394.17 1287.43 1394.17 Q1285.23 1394.17 1282.78 1394.94 Q1280.35 1395.7 1277.57 1397.25 L1277.57 1392.53 Q1280.39 1391.39 1282.85 1390.81 Q1285.3 1390.24 1287.34 1390.24 Q1292.71 1390.24 1295.9 1392.92 Q1299.1 1395.61 1299.1 1400.1 Q1299.1 1402.23 1298.29 1404.15 Q1297.5 1406.05 1295.39 1408.64 Q1294.82 1409.31 1291.71 1412.53 Q1288.61 1415.72 1282.96 1421.49 Z\" fill=\"#000000\" fill-rule=\"evenodd\" fill-opacity=\"1\" /><path clip-path=\"url(#clip820)\" d=\"M1309.14 1390.86 L1327.5 1390.86 L1327.5 1394.8 L1313.43 1394.8 L1313.43 1403.27 Q1314.44 1402.92 1315.46 1402.76 Q1316.48 1402.57 1317.5 1402.57 Q1323.29 1402.57 1326.67 1405.75 Q1330.05 1408.92 1330.05 1414.33 Q1330.05 1419.91 1326.57 1423.01 Q1323.1 1426.09 1316.78 1426.09 Q1314.61 1426.09 1312.34 1425.72 Q1310.09 1425.35 1307.69 1424.61 L1307.69 1419.91 Q1309.77 1421.05 1311.99 1421.6 Q1314.21 1422.16 1316.69 1422.16 Q1320.69 1422.16 1323.03 1420.05 Q1325.37 1417.94 1325.37 1414.33 Q1325.37 1410.72 1323.03 1408.62 Q1320.69 1406.51 1316.69 1406.51 Q1314.82 1406.51 1312.94 1406.93 Q1311.09 1407.34 1309.14 1408.22 L1309.14 1390.86 Z\" fill=\"#000000\" fill-rule=\"evenodd\" fill-opacity=\"1\" /><polyline clip-path=\"url(#clip822)\" style=\"stroke:#000000; stroke-linecap:round; stroke-linejoin:round; stroke-width:2; stroke-opacity:0.1; fill:none\" points=\"1479.5,1376.64 759.895,1168.91 759.895,449.305 \"/>\n<polyline clip-path=\"url(#clip822)\" style=\"stroke:#000000; stroke-linecap:round; stroke-linejoin:round; stroke-width:2; stroke-opacity:0.1; fill:none\" points=\"1569.32,1298.85 849.721,1091.11 849.721,371.513 \"/>\n<polyline clip-path=\"url(#clip822)\" style=\"stroke:#000000; stroke-linecap:round; stroke-linejoin:round; stroke-width:2; stroke-opacity:0.1; fill:none\" points=\"1659.15,1221.05 939.548,1013.32 939.548,293.721 \"/>\n<polyline clip-path=\"url(#clip822)\" style=\"stroke:#000000; stroke-linecap:round; stroke-linejoin:round; stroke-width:2; stroke-opacity:0.1; fill:none\" points=\"1748.98,1143.26 1029.37,935.531 1029.37,215.929 \"/>\n<polyline clip-path=\"url(#clip822)\" style=\"stroke:#000000; stroke-linecap:round; stroke-linejoin:round; stroke-width:2; stroke-opacity:0.1; fill:none\" points=\"1838.8,1065.47 1119.2,857.739 1119.2,138.137 \"/>\n<polyline clip-path=\"url(#clip820)\" style=\"stroke:#000000; stroke-linecap:round; stroke-linejoin:round; stroke-width:4; stroke-opacity:1; fill:none\" points=\"1440.5,1410.41 1855.96,1050.61 \"/>\n<polyline clip-path=\"url(#clip820)\" style=\"stroke:#000000; stroke-linecap:round; stroke-linejoin:round; stroke-width:4; stroke-opacity:1; fill:none\" points=\"1479.5,1376.64 1470.86,1374.14 \"/>\n<polyline clip-path=\"url(#clip820)\" style=\"stroke:#000000; stroke-linecap:round; stroke-linejoin:round; stroke-width:4; stroke-opacity:1; fill:none\" points=\"1569.32,1298.85 1560.69,1296.35 \"/>\n<polyline clip-path=\"url(#clip820)\" style=\"stroke:#000000; stroke-linecap:round; stroke-linejoin:round; stroke-width:4; stroke-opacity:1; fill:none\" points=\"1659.15,1221.05 1650.51,1218.56 \"/>\n<polyline clip-path=\"url(#clip820)\" style=\"stroke:#000000; stroke-linecap:round; stroke-linejoin:round; stroke-width:4; stroke-opacity:1; fill:none\" points=\"1748.98,1143.26 1740.34,1140.77 \"/>\n<polyline clip-path=\"url(#clip820)\" style=\"stroke:#000000; stroke-linecap:round; stroke-linejoin:round; stroke-width:4; stroke-opacity:1; fill:none\" points=\"1838.8,1065.47 1830.17,1062.98 \"/>\n<path clip-path=\"url(#clip820)\" d=\"M1514.88 1379.17 Q1511.27 1379.17 1509.44 1382.73 Q1507.64 1386.27 1507.64 1393.4 Q1507.64 1400.51 1509.44 1404.07 Q1511.27 1407.61 1514.88 1407.61 Q1518.52 1407.61 1520.32 1404.07 Q1522.15 1400.51 1522.15 1393.4 Q1522.15 1386.27 1520.32 1382.73 Q1518.52 1379.17 1514.88 1379.17 M1514.88 1375.46 Q1520.69 1375.46 1523.75 1380.07 Q1526.83 1384.65 1526.83 1393.4 Q1526.83 1402.13 1523.75 1406.74 Q1520.69 1411.32 1514.88 1411.32 Q1509.07 1411.32 1506 1406.74 Q1502.94 1402.13 1502.94 1393.4 Q1502.94 1384.65 1506 1380.07 Q1509.07 1375.46 1514.88 1375.46 Z\" fill=\"#000000\" fill-rule=\"evenodd\" fill-opacity=\"1\" /><path clip-path=\"url(#clip820)\" d=\"M1535.05 1404.77 L1539.93 1404.77 L1539.93 1410.65 L1535.05 1410.65 L1535.05 1404.77 Z\" fill=\"#000000\" fill-rule=\"evenodd\" fill-opacity=\"1\" /><path clip-path=\"url(#clip820)\" d=\"M1560.69 1391.5 Q1557.55 1391.5 1555.69 1393.66 Q1553.87 1395.81 1553.87 1399.56 Q1553.87 1403.29 1555.69 1405.46 Q1557.55 1407.61 1560.69 1407.61 Q1563.84 1407.61 1565.67 1405.46 Q1567.52 1403.29 1567.52 1399.56 Q1567.52 1395.81 1565.67 1393.66 Q1563.84 1391.5 1560.69 1391.5 M1569.98 1376.85 L1569.98 1381.11 Q1568.22 1380.28 1566.41 1379.84 Q1564.63 1379.4 1562.87 1379.4 Q1558.24 1379.4 1555.79 1382.52 Q1553.36 1385.65 1553.01 1391.97 Q1554.37 1389.95 1556.43 1388.89 Q1558.49 1387.8 1560.97 1387.8 Q1566.18 1387.8 1569.19 1390.97 Q1572.22 1394.12 1572.22 1399.56 Q1572.22 1404.88 1569.07 1408.1 Q1565.93 1411.32 1560.69 1411.32 Q1554.7 1411.32 1551.53 1406.74 Q1548.36 1402.13 1548.36 1393.4 Q1548.36 1385.21 1552.25 1380.35 Q1556.13 1375.46 1562.68 1375.46 Q1564.44 1375.46 1566.23 1375.81 Q1568.03 1376.16 1569.98 1376.85 Z\" fill=\"#000000\" fill-rule=\"evenodd\" fill-opacity=\"1\" /><path clip-path=\"url(#clip820)\" d=\"M1604.71 1301.37 Q1601.1 1301.37 1599.27 1304.94 Q1597.47 1308.48 1597.47 1315.61 Q1597.47 1322.72 1599.27 1326.28 Q1601.1 1329.82 1604.71 1329.82 Q1608.34 1329.82 1610.15 1326.28 Q1611.98 1322.72 1611.98 1315.61 Q1611.98 1308.48 1610.15 1304.94 Q1608.34 1301.37 1604.71 1301.37 M1604.71 1297.67 Q1610.52 1297.67 1613.58 1302.28 Q1616.65 1306.86 1616.65 1315.61 Q1616.65 1324.34 1613.58 1328.94 Q1610.52 1333.53 1604.71 1333.53 Q1598.9 1333.53 1595.82 1328.94 Q1592.77 1324.34 1592.77 1315.61 Q1592.77 1306.86 1595.82 1302.28 Q1598.9 1297.67 1604.71 1297.67 Z\" fill=\"#000000\" fill-rule=\"evenodd\" fill-opacity=\"1\" /><path clip-path=\"url(#clip820)\" d=\"M1624.87 1326.98 L1629.76 1326.98 L1629.76 1332.86 L1624.87 1332.86 L1624.87 1326.98 Z\" fill=\"#000000\" fill-rule=\"evenodd\" fill-opacity=\"1\" /><path clip-path=\"url(#clip820)\" d=\"M1649.94 1316.44 Q1646.61 1316.44 1644.69 1318.23 Q1642.79 1320.01 1642.79 1323.13 Q1642.79 1326.26 1644.69 1328.04 Q1646.61 1329.82 1649.94 1329.82 Q1653.27 1329.82 1655.2 1328.04 Q1657.12 1326.24 1657.12 1323.13 Q1657.12 1320.01 1655.2 1318.23 Q1653.3 1316.44 1649.94 1316.44 M1645.27 1314.45 Q1642.26 1313.71 1640.57 1311.65 Q1638.9 1309.59 1638.9 1306.63 Q1638.9 1302.49 1641.84 1300.08 Q1644.8 1297.67 1649.94 1297.67 Q1655.1 1297.67 1658.04 1300.08 Q1660.98 1302.49 1660.98 1306.63 Q1660.98 1309.59 1659.29 1311.65 Q1657.63 1313.71 1654.64 1314.45 Q1658.02 1315.24 1659.9 1317.53 Q1661.79 1319.82 1661.79 1323.13 Q1661.79 1328.16 1658.71 1330.84 Q1655.66 1333.53 1649.94 1333.53 Q1644.22 1333.53 1641.15 1330.84 Q1638.09 1328.16 1638.09 1323.13 Q1638.09 1319.82 1639.99 1317.53 Q1641.89 1315.24 1645.27 1314.45 M1643.55 1307.07 Q1643.55 1309.75 1645.22 1311.26 Q1646.91 1312.76 1649.94 1312.76 Q1652.95 1312.76 1654.64 1311.26 Q1656.35 1309.75 1656.35 1307.07 Q1656.35 1304.38 1654.64 1302.88 Q1652.95 1301.37 1649.94 1301.37 Q1646.91 1301.37 1645.22 1302.88 Q1643.55 1304.38 1643.55 1307.07 Z\" fill=\"#000000\" fill-rule=\"evenodd\" fill-opacity=\"1\" /><path clip-path=\"url(#clip820)\" d=\"M1683.26 1251.13 L1690.9 1251.13 L1690.9 1224.76 L1682.59 1226.43 L1682.59 1222.17 L1690.86 1220.5 L1695.53 1220.5 L1695.53 1251.13 L1703.17 1251.13 L1703.17 1255.06 L1683.26 1255.06 L1683.26 1251.13 Z\" fill=\"#000000\" fill-rule=\"evenodd\" fill-opacity=\"1\" /><path clip-path=\"url(#clip820)\" d=\"M1712.62 1249.18 L1717.5 1249.18 L1717.5 1255.06 L1712.62 1255.06 L1712.62 1249.18 Z\" fill=\"#000000\" fill-rule=\"evenodd\" fill-opacity=\"1\" /><path clip-path=\"url(#clip820)\" d=\"M1737.68 1223.58 Q1734.07 1223.58 1732.24 1227.15 Q1730.44 1230.69 1730.44 1237.82 Q1730.44 1244.92 1732.24 1248.49 Q1734.07 1252.03 1737.68 1252.03 Q1741.32 1252.03 1743.12 1248.49 Q1744.95 1244.92 1744.95 1237.82 Q1744.95 1230.69 1743.12 1227.15 Q1741.32 1223.58 1737.68 1223.58 M1737.68 1219.88 Q1743.49 1219.88 1746.55 1224.49 Q1749.63 1229.07 1749.63 1237.82 Q1749.63 1246.55 1746.55 1251.15 Q1743.49 1255.73 1737.68 1255.73 Q1731.87 1255.73 1728.8 1251.15 Q1725.74 1246.55 1725.74 1237.82 Q1725.74 1229.07 1728.8 1224.49 Q1731.87 1219.88 1737.68 1219.88 Z\" fill=\"#000000\" fill-rule=\"evenodd\" fill-opacity=\"1\" /><path clip-path=\"url(#clip820)\" d=\"M1773.09 1173.34 L1780.73 1173.34 L1780.73 1146.97 L1772.42 1148.64 L1772.42 1144.38 L1780.68 1142.71 L1785.36 1142.71 L1785.36 1173.34 L1793 1173.34 L1793 1177.27 L1773.09 1177.27 L1773.09 1173.34 Z\" fill=\"#000000\" fill-rule=\"evenodd\" fill-opacity=\"1\" /><path clip-path=\"url(#clip820)\" d=\"M1802.44 1171.39 L1807.33 1171.39 L1807.33 1177.27 L1802.44 1177.27 L1802.44 1171.39 Z\" fill=\"#000000\" fill-rule=\"evenodd\" fill-opacity=\"1\" /><path clip-path=\"url(#clip820)\" d=\"M1821.54 1173.34 L1837.86 1173.34 L1837.86 1177.27 L1815.91 1177.27 L1815.91 1173.34 Q1818.58 1170.58 1823.16 1165.95 Q1827.77 1161.3 1828.95 1159.96 Q1831.19 1157.43 1832.07 1155.7 Q1832.97 1153.94 1832.97 1152.25 Q1832.97 1149.49 1831.03 1147.76 Q1829.11 1146.02 1826.01 1146.02 Q1823.81 1146.02 1821.35 1146.79 Q1818.92 1147.55 1816.15 1149.1 L1816.15 1144.38 Q1818.97 1143.24 1821.42 1142.67 Q1823.88 1142.09 1825.91 1142.09 Q1831.28 1142.09 1834.48 1144.77 Q1837.67 1147.46 1837.67 1151.95 Q1837.67 1154.08 1836.86 1156 Q1836.08 1157.9 1833.97 1160.49 Q1833.39 1161.16 1830.29 1164.38 Q1827.19 1167.57 1821.54 1173.34 Z\" fill=\"#000000\" fill-rule=\"evenodd\" fill-opacity=\"1\" /><path clip-path=\"url(#clip820)\" d=\"M1862.92 1095.54 L1870.55 1095.54 L1870.55 1069.18 L1862.24 1070.85 L1862.24 1066.59 L1870.51 1064.92 L1875.18 1064.92 L1875.18 1095.54 L1882.82 1095.54 L1882.82 1099.48 L1862.92 1099.48 L1862.92 1095.54 Z\" fill=\"#000000\" fill-rule=\"evenodd\" fill-opacity=\"1\" /><path clip-path=\"url(#clip820)\" d=\"M1892.27 1093.6 L1897.15 1093.6 L1897.15 1099.48 L1892.27 1099.48 L1892.27 1093.6 Z\" fill=\"#000000\" fill-rule=\"evenodd\" fill-opacity=\"1\" /><path clip-path=\"url(#clip820)\" d=\"M1920.18 1068.99 L1908.38 1087.44 L1920.18 1087.44 L1920.18 1068.99 M1918.96 1064.92 L1924.84 1064.92 L1924.84 1087.44 L1929.77 1087.44 L1929.77 1091.33 L1924.84 1091.33 L1924.84 1099.48 L1920.18 1099.48 L1920.18 1091.33 L1904.58 1091.33 L1904.58 1086.82 L1918.96 1064.92 Z\" fill=\"#000000\" fill-rule=\"evenodd\" fill-opacity=\"1\" /><polyline clip-path=\"url(#clip822)\" style=\"stroke:#000000; stroke-linecap:round; stroke-linejoin:round; stroke-width:2; stroke-opacity:0.1; fill:none\" points=\"720.895,1134.6 1136.36,774.798 1855.96,982.529 \"/>\n<polyline clip-path=\"url(#clip822)\" style=\"stroke:#000000; stroke-linecap:round; stroke-linejoin:round; stroke-width:2; stroke-opacity:0.1; fill:none\" points=\"720.895,1037.36 1136.36,677.559 1855.96,885.29 \"/>\n<polyline clip-path=\"url(#clip822)\" style=\"stroke:#000000; stroke-linecap:round; stroke-linejoin:round; stroke-width:2; stroke-opacity:0.1; fill:none\" points=\"720.895,940.12 1136.36,580.319 1855.96,788.051 \"/>\n<polyline clip-path=\"url(#clip822)\" style=\"stroke:#000000; stroke-linecap:round; stroke-linejoin:round; stroke-width:2; stroke-opacity:0.1; fill:none\" points=\"720.895,842.881 1136.36,483.08 1855.96,690.811 \"/>\n<polyline clip-path=\"url(#clip822)\" style=\"stroke:#000000; stroke-linecap:round; stroke-linejoin:round; stroke-width:2; stroke-opacity:0.1; fill:none\" points=\"720.895,745.641 1136.36,385.84 1855.96,593.572 \"/>\n<polyline clip-path=\"url(#clip822)\" style=\"stroke:#000000; stroke-linecap:round; stroke-linejoin:round; stroke-width:2; stroke-opacity:0.1; fill:none\" points=\"720.895,648.402 1136.36,288.601 1855.96,496.332 \"/>\n<polyline clip-path=\"url(#clip822)\" style=\"stroke:#000000; stroke-linecap:round; stroke-linejoin:round; stroke-width:2; stroke-opacity:0.1; fill:none\" points=\"720.895,551.163 1136.36,191.362 1855.96,399.093 \"/>\n<polyline clip-path=\"url(#clip820)\" style=\"stroke:#000000; stroke-linecap:round; stroke-linejoin:round; stroke-width:4; stroke-opacity:1; fill:none\" points=\"720.895,1202.68 720.895,483.08 \"/>\n<polyline clip-path=\"url(#clip820)\" style=\"stroke:#000000; stroke-linecap:round; stroke-linejoin:round; stroke-width:4; stroke-opacity:1; fill:none\" points=\"720.895,1134.6 725.88,1130.28 \"/>\n<polyline clip-path=\"url(#clip820)\" style=\"stroke:#000000; stroke-linecap:round; stroke-linejoin:round; stroke-width:4; stroke-opacity:1; fill:none\" points=\"720.895,1037.36 725.88,1033.04 \"/>\n<polyline clip-path=\"url(#clip820)\" style=\"stroke:#000000; stroke-linecap:round; stroke-linejoin:round; stroke-width:4; stroke-opacity:1; fill:none\" points=\"720.895,940.12 725.88,935.803 \"/>\n<polyline clip-path=\"url(#clip820)\" style=\"stroke:#000000; stroke-linecap:round; stroke-linejoin:round; stroke-width:4; stroke-opacity:1; fill:none\" points=\"720.895,842.881 725.88,838.563 \"/>\n<polyline clip-path=\"url(#clip820)\" style=\"stroke:#000000; stroke-linecap:round; stroke-linejoin:round; stroke-width:4; stroke-opacity:1; fill:none\" points=\"720.895,745.641 725.88,741.324 \"/>\n<polyline clip-path=\"url(#clip820)\" style=\"stroke:#000000; stroke-linecap:round; stroke-linejoin:round; stroke-width:4; stroke-opacity:1; fill:none\" points=\"720.895,648.402 725.88,644.084 \"/>\n<polyline clip-path=\"url(#clip820)\" style=\"stroke:#000000; stroke-linecap:round; stroke-linejoin:round; stroke-width:4; stroke-opacity:1; fill:none\" points=\"720.895,551.163 725.88,546.845 \"/>\n<path clip-path=\"url(#clip820)\" d=\"M555.984 1135.05 L585.66 1135.05 L585.66 1138.99 L555.984 1138.99 L555.984 1135.05 Z\" fill=\"#000000\" fill-rule=\"evenodd\" fill-opacity=\"1\" /><path clip-path=\"url(#clip820)\" d=\"M605.753 1120.4 Q602.142 1120.4 600.313 1123.96 Q598.507 1127.5 598.507 1134.63 Q598.507 1141.74 600.313 1145.31 Q602.142 1148.85 605.753 1148.85 Q609.387 1148.85 611.192 1145.31 Q613.021 1141.74 613.021 1134.63 Q613.021 1127.5 611.192 1123.96 Q609.387 1120.4 605.753 1120.4 M605.753 1116.69 Q611.563 1116.69 614.618 1121.3 Q617.697 1125.88 617.697 1134.63 Q617.697 1143.36 614.618 1147.97 Q611.563 1152.55 605.753 1152.55 Q599.942 1152.55 596.864 1147.97 Q593.808 1143.36 593.808 1134.63 Q593.808 1125.88 596.864 1121.3 Q599.942 1116.69 605.753 1116.69 Z\" fill=\"#000000\" fill-rule=\"evenodd\" fill-opacity=\"1\" /><path clip-path=\"url(#clip820)\" d=\"M625.915 1146 L630.799 1146 L630.799 1151.88 L625.915 1151.88 L625.915 1146 Z\" fill=\"#000000\" fill-rule=\"evenodd\" fill-opacity=\"1\" /><path clip-path=\"url(#clip820)\" d=\"M639.803 1117.32 L662.025 1117.32 L662.025 1119.31 L649.479 1151.88 L644.595 1151.88 L656.401 1121.25 L639.803 1121.25 L639.803 1117.32 Z\" fill=\"#000000\" fill-rule=\"evenodd\" fill-opacity=\"1\" /><path clip-path=\"url(#clip820)\" d=\"M671.192 1117.32 L689.548 1117.32 L689.548 1121.25 L675.474 1121.25 L675.474 1129.73 Q676.493 1129.38 677.512 1129.22 Q678.53 1129.03 679.549 1129.03 Q685.336 1129.03 688.715 1132.2 Q692.095 1135.37 692.095 1140.79 Q692.095 1146.37 688.623 1149.47 Q685.15 1152.55 678.831 1152.55 Q676.655 1152.55 674.387 1152.18 Q672.141 1151.81 669.734 1151.07 L669.734 1146.37 Q671.817 1147.5 674.039 1148.06 Q676.262 1148.62 678.738 1148.62 Q682.743 1148.62 685.081 1146.51 Q687.419 1144.4 687.419 1140.79 Q687.419 1137.18 685.081 1135.07 Q682.743 1132.97 678.738 1132.97 Q676.863 1132.97 674.988 1133.38 Q673.137 1133.8 671.192 1134.68 L671.192 1117.32 Z\" fill=\"#000000\" fill-rule=\"evenodd\" fill-opacity=\"1\" /><path clip-path=\"url(#clip820)\" d=\"M554.989 1037.81 L584.665 1037.81 L584.665 1041.75 L554.989 1041.75 L554.989 1037.81 Z\" fill=\"#000000\" fill-rule=\"evenodd\" fill-opacity=\"1\" /><path clip-path=\"url(#clip820)\" d=\"M604.757 1023.16 Q601.146 1023.16 599.317 1026.72 Q597.512 1030.26 597.512 1037.39 Q597.512 1044.5 599.317 1048.07 Q601.146 1051.61 604.757 1051.61 Q608.392 1051.61 610.197 1048.07 Q612.026 1044.5 612.026 1037.39 Q612.026 1030.26 610.197 1026.72 Q608.392 1023.16 604.757 1023.16 M604.757 1019.45 Q610.567 1019.45 613.623 1024.06 Q616.702 1028.64 616.702 1037.39 Q616.702 1046.12 613.623 1050.73 Q610.567 1055.31 604.757 1055.31 Q598.947 1055.31 595.868 1050.73 Q592.813 1046.12 592.813 1037.39 Q592.813 1028.64 595.868 1024.06 Q598.947 1019.45 604.757 1019.45 Z\" fill=\"#000000\" fill-rule=\"evenodd\" fill-opacity=\"1\" /><path clip-path=\"url(#clip820)\" d=\"M624.919 1048.76 L629.803 1048.76 L629.803 1054.64 L624.919 1054.64 L624.919 1048.76 Z\" fill=\"#000000\" fill-rule=\"evenodd\" fill-opacity=\"1\" /><path clip-path=\"url(#clip820)\" d=\"M640.035 1020.08 L658.391 1020.08 L658.391 1024.01 L644.317 1024.01 L644.317 1032.49 Q645.336 1032.14 646.354 1031.98 Q647.373 1031.79 648.391 1031.79 Q654.178 1031.79 657.558 1034.96 Q660.938 1038.14 660.938 1043.55 Q660.938 1049.13 657.465 1052.23 Q653.993 1055.31 647.674 1055.31 Q645.498 1055.31 643.229 1054.94 Q640.984 1054.57 638.577 1053.83 L638.577 1049.13 Q640.66 1050.26 642.882 1050.82 Q645.104 1051.38 647.581 1051.38 Q651.586 1051.38 653.924 1049.27 Q656.262 1047.16 656.262 1043.55 Q656.262 1039.94 653.924 1037.83 Q651.586 1035.73 647.581 1035.73 Q645.706 1035.73 643.831 1036.14 Q641.979 1036.56 640.035 1037.44 L640.035 1020.08 Z\" fill=\"#000000\" fill-rule=\"evenodd\" fill-opacity=\"1\" /><path clip-path=\"url(#clip820)\" d=\"M680.15 1023.16 Q676.539 1023.16 674.711 1026.72 Q672.905 1030.26 672.905 1037.39 Q672.905 1044.5 674.711 1048.07 Q676.539 1051.61 680.15 1051.61 Q683.785 1051.61 685.59 1048.07 Q687.419 1044.5 687.419 1037.39 Q687.419 1030.26 685.59 1026.72 Q683.785 1023.16 680.15 1023.16 M680.15 1019.45 Q685.961 1019.45 689.016 1024.06 Q692.095 1028.64 692.095 1037.39 Q692.095 1046.12 689.016 1050.73 Q685.961 1055.31 680.15 1055.31 Q674.34 1055.31 671.262 1050.73 Q668.206 1046.12 668.206 1037.39 Q668.206 1028.64 671.262 1024.06 Q674.34 1019.45 680.15 1019.45 Z\" fill=\"#000000\" fill-rule=\"evenodd\" fill-opacity=\"1\" /><path clip-path=\"url(#clip820)\" d=\"M555.984 940.572 L585.66 940.572 L585.66 944.507 L555.984 944.507 L555.984 940.572 Z\" fill=\"#000000\" fill-rule=\"evenodd\" fill-opacity=\"1\" /><path clip-path=\"url(#clip820)\" d=\"M605.753 925.919 Q602.142 925.919 600.313 929.484 Q598.507 933.025 598.507 940.155 Q598.507 947.261 600.313 950.826 Q602.142 954.368 605.753 954.368 Q609.387 954.368 611.192 950.826 Q613.021 947.261 613.021 940.155 Q613.021 933.025 611.192 929.484 Q609.387 925.919 605.753 925.919 M605.753 922.215 Q611.563 922.215 614.618 926.822 Q617.697 931.405 617.697 940.155 Q617.697 948.882 614.618 953.488 Q611.563 958.072 605.753 958.072 Q599.942 958.072 596.864 953.488 Q593.808 948.882 593.808 940.155 Q593.808 931.405 596.864 926.822 Q599.942 922.215 605.753 922.215 Z\" fill=\"#000000\" fill-rule=\"evenodd\" fill-opacity=\"1\" /><path clip-path=\"url(#clip820)\" d=\"M625.915 951.521 L630.799 951.521 L630.799 957.4 L625.915 957.4 L625.915 951.521 Z\" fill=\"#000000\" fill-rule=\"evenodd\" fill-opacity=\"1\" /><path clip-path=\"url(#clip820)\" d=\"M645.012 953.465 L661.331 953.465 L661.331 957.4 L639.387 957.4 L639.387 953.465 Q642.049 950.711 646.632 946.081 Q651.239 941.428 652.419 940.086 Q654.664 937.562 655.544 935.826 Q656.447 934.067 656.447 932.377 Q656.447 929.623 654.502 927.887 Q652.581 926.15 649.479 926.15 Q647.28 926.15 644.827 926.914 Q642.396 927.678 639.618 929.229 L639.618 924.507 Q642.442 923.373 644.896 922.794 Q647.35 922.215 649.387 922.215 Q654.757 922.215 657.951 924.9 Q661.146 927.586 661.146 932.076 Q661.146 934.206 660.336 936.127 Q659.549 938.025 657.442 940.618 Q656.863 941.289 653.762 944.507 Q650.66 947.701 645.012 953.465 Z\" fill=\"#000000\" fill-rule=\"evenodd\" fill-opacity=\"1\" /><path clip-path=\"url(#clip820)\" d=\"M671.192 922.84 L689.548 922.84 L689.548 926.775 L675.474 926.775 L675.474 935.248 Q676.493 934.9 677.512 934.738 Q678.53 934.553 679.549 934.553 Q685.336 934.553 688.715 937.724 Q692.095 940.896 692.095 946.312 Q692.095 951.891 688.623 954.993 Q685.15 958.072 678.831 958.072 Q676.655 958.072 674.387 957.701 Q672.141 957.331 669.734 956.59 L669.734 951.891 Q671.817 953.025 674.039 953.581 Q676.262 954.136 678.738 954.136 Q682.743 954.136 685.081 952.03 Q687.419 949.923 687.419 946.312 Q687.419 942.701 685.081 940.595 Q682.743 938.488 678.738 938.488 Q676.863 938.488 674.988 938.905 Q673.137 939.322 671.192 940.201 L671.192 922.84 Z\" fill=\"#000000\" fill-rule=\"evenodd\" fill-opacity=\"1\" /><path clip-path=\"url(#clip820)\" d=\"M604.757 828.68 Q601.146 828.68 599.317 832.244 Q597.512 835.786 597.512 842.916 Q597.512 850.022 599.317 853.587 Q601.146 857.128 604.757 857.128 Q608.392 857.128 610.197 853.587 Q612.026 850.022 612.026 842.916 Q612.026 835.786 610.197 832.244 Q608.392 828.68 604.757 828.68 M604.757 824.976 Q610.567 824.976 613.623 829.582 Q616.702 834.166 616.702 842.916 Q616.702 851.642 613.623 856.249 Q610.567 860.832 604.757 860.832 Q598.947 860.832 595.868 856.249 Q592.813 851.642 592.813 842.916 Q592.813 834.166 595.868 829.582 Q598.947 824.976 604.757 824.976 Z\" fill=\"#000000\" fill-rule=\"evenodd\" fill-opacity=\"1\" /><path clip-path=\"url(#clip820)\" d=\"M624.919 854.281 L629.803 854.281 L629.803 860.161 L624.919 860.161 L624.919 854.281 Z\" fill=\"#000000\" fill-rule=\"evenodd\" fill-opacity=\"1\" /><path clip-path=\"url(#clip820)\" d=\"M649.989 828.68 Q646.377 828.68 644.549 832.244 Q642.743 835.786 642.743 842.916 Q642.743 850.022 644.549 853.587 Q646.377 857.128 649.989 857.128 Q653.623 857.128 655.428 853.587 Q657.257 850.022 657.257 842.916 Q657.257 835.786 655.428 832.244 Q653.623 828.68 649.989 828.68 M649.989 824.976 Q655.799 824.976 658.854 829.582 Q661.933 834.166 661.933 842.916 Q661.933 851.642 658.854 856.249 Q655.799 860.832 649.989 860.832 Q644.178 860.832 641.1 856.249 Q638.044 851.642 638.044 842.916 Q638.044 834.166 641.1 829.582 Q644.178 824.976 649.989 824.976 Z\" fill=\"#000000\" fill-rule=\"evenodd\" fill-opacity=\"1\" /><path clip-path=\"url(#clip820)\" d=\"M680.15 828.68 Q676.539 828.68 674.711 832.244 Q672.905 835.786 672.905 842.916 Q672.905 850.022 674.711 853.587 Q676.539 857.128 680.15 857.128 Q683.785 857.128 685.59 853.587 Q687.419 850.022 687.419 842.916 Q687.419 835.786 685.59 832.244 Q683.785 828.68 680.15 828.68 M680.15 824.976 Q685.961 824.976 689.016 829.582 Q692.095 834.166 692.095 842.916 Q692.095 851.642 689.016 856.249 Q685.961 860.832 680.15 860.832 Q674.34 860.832 671.262 856.249 Q668.206 851.642 668.206 842.916 Q668.206 834.166 671.262 829.582 Q674.34 824.976 680.15 824.976 Z\" fill=\"#000000\" fill-rule=\"evenodd\" fill-opacity=\"1\" /><path clip-path=\"url(#clip820)\" d=\"M605.753 731.44 Q602.142 731.44 600.313 735.005 Q598.507 738.547 598.507 745.676 Q598.507 752.783 600.313 756.347 Q602.142 759.889 605.753 759.889 Q609.387 759.889 611.192 756.347 Q613.021 752.783 613.021 745.676 Q613.021 738.547 611.192 735.005 Q609.387 731.44 605.753 731.44 M605.753 727.736 Q611.563 727.736 614.618 732.343 Q617.697 736.926 617.697 745.676 Q617.697 754.403 614.618 759.009 Q611.563 763.593 605.753 763.593 Q599.942 763.593 596.864 759.009 Q593.808 754.403 593.808 745.676 Q593.808 736.926 596.864 732.343 Q599.942 727.736 605.753 727.736 Z\" fill=\"#000000\" fill-rule=\"evenodd\" fill-opacity=\"1\" /><path clip-path=\"url(#clip820)\" d=\"M625.915 757.042 L630.799 757.042 L630.799 762.921 L625.915 762.921 L625.915 757.042 Z\" fill=\"#000000\" fill-rule=\"evenodd\" fill-opacity=\"1\" /><path clip-path=\"url(#clip820)\" d=\"M645.012 758.986 L661.331 758.986 L661.331 762.921 L639.387 762.921 L639.387 758.986 Q642.049 756.232 646.632 751.602 Q651.239 746.949 652.419 745.607 Q654.664 743.084 655.544 741.347 Q656.447 739.588 656.447 737.898 Q656.447 735.144 654.502 733.408 Q652.581 731.672 649.479 731.672 Q647.28 731.672 644.827 732.435 Q642.396 733.199 639.618 734.75 L639.618 730.028 Q642.442 728.894 644.896 728.315 Q647.35 727.736 649.387 727.736 Q654.757 727.736 657.951 730.422 Q661.146 733.107 661.146 737.597 Q661.146 739.727 660.336 741.648 Q659.549 743.547 657.442 746.139 Q656.863 746.81 653.762 750.028 Q650.66 753.222 645.012 758.986 Z\" fill=\"#000000\" fill-rule=\"evenodd\" fill-opacity=\"1\" /><path clip-path=\"url(#clip820)\" d=\"M671.192 728.361 L689.548 728.361 L689.548 732.297 L675.474 732.297 L675.474 740.769 Q676.493 740.422 677.512 740.26 Q678.53 740.074 679.549 740.074 Q685.336 740.074 688.715 743.246 Q692.095 746.417 692.095 751.834 Q692.095 757.412 688.623 760.514 Q685.15 763.593 678.831 763.593 Q676.655 763.593 674.387 763.222 Q672.141 762.852 669.734 762.111 L669.734 757.412 Q671.817 758.546 674.039 759.102 Q676.262 759.658 678.738 759.658 Q682.743 759.658 685.081 757.551 Q687.419 755.445 687.419 751.834 Q687.419 748.222 685.081 746.116 Q682.743 744.01 678.738 744.01 Q676.863 744.01 674.988 744.426 Q673.137 744.843 671.192 745.722 L671.192 728.361 Z\" fill=\"#000000\" fill-rule=\"evenodd\" fill-opacity=\"1\" /><path clip-path=\"url(#clip820)\" d=\"M604.757 634.201 Q601.146 634.201 599.317 637.765 Q597.512 641.307 597.512 648.437 Q597.512 655.543 599.317 659.108 Q601.146 662.65 604.757 662.65 Q608.392 662.65 610.197 659.108 Q612.026 655.543 612.026 648.437 Q612.026 641.307 610.197 637.765 Q608.392 634.201 604.757 634.201 M604.757 630.497 Q610.567 630.497 613.623 635.103 Q616.702 639.687 616.702 648.437 Q616.702 657.164 613.623 661.77 Q610.567 666.353 604.757 666.353 Q598.947 666.353 595.868 661.77 Q592.813 657.164 592.813 648.437 Q592.813 639.687 595.868 635.103 Q598.947 630.497 604.757 630.497 Z\" fill=\"#000000\" fill-rule=\"evenodd\" fill-opacity=\"1\" /><path clip-path=\"url(#clip820)\" d=\"M624.919 659.802 L629.803 659.802 L629.803 665.682 L624.919 665.682 L624.919 659.802 Z\" fill=\"#000000\" fill-rule=\"evenodd\" fill-opacity=\"1\" /><path clip-path=\"url(#clip820)\" d=\"M640.035 631.122 L658.391 631.122 L658.391 635.057 L644.317 635.057 L644.317 643.529 Q645.336 643.182 646.354 643.02 Q647.373 642.835 648.391 642.835 Q654.178 642.835 657.558 646.006 Q660.938 649.177 660.938 654.594 Q660.938 660.173 657.465 663.275 Q653.993 666.353 647.674 666.353 Q645.498 666.353 643.229 665.983 Q640.984 665.613 638.577 664.872 L638.577 660.173 Q640.66 661.307 642.882 661.863 Q645.104 662.418 647.581 662.418 Q651.586 662.418 653.924 660.312 Q656.262 658.205 656.262 654.594 Q656.262 650.983 653.924 648.877 Q651.586 646.77 647.581 646.77 Q645.706 646.77 643.831 647.187 Q641.979 647.603 640.035 648.483 L640.035 631.122 Z\" fill=\"#000000\" fill-rule=\"evenodd\" fill-opacity=\"1\" /><path clip-path=\"url(#clip820)\" d=\"M680.15 634.201 Q676.539 634.201 674.711 637.765 Q672.905 641.307 672.905 648.437 Q672.905 655.543 674.711 659.108 Q676.539 662.65 680.15 662.65 Q683.785 662.65 685.59 659.108 Q687.419 655.543 687.419 648.437 Q687.419 641.307 685.59 637.765 Q683.785 634.201 680.15 634.201 M680.15 630.497 Q685.961 630.497 689.016 635.103 Q692.095 639.687 692.095 648.437 Q692.095 657.164 689.016 661.77 Q685.961 666.353 680.15 666.353 Q674.34 666.353 671.262 661.77 Q668.206 657.164 668.206 648.437 Q668.206 639.687 671.262 635.103 Q674.34 630.497 680.15 630.497 Z\" fill=\"#000000\" fill-rule=\"evenodd\" fill-opacity=\"1\" /><path clip-path=\"url(#clip820)\" d=\"M605.753 536.961 Q602.142 536.961 600.313 540.526 Q598.507 544.068 598.507 551.197 Q598.507 558.304 600.313 561.869 Q602.142 565.41 605.753 565.41 Q609.387 565.41 611.192 561.869 Q613.021 558.304 613.021 551.197 Q613.021 544.068 611.192 540.526 Q609.387 536.961 605.753 536.961 M605.753 533.258 Q611.563 533.258 614.618 537.864 Q617.697 542.447 617.697 551.197 Q617.697 559.924 614.618 564.531 Q611.563 569.114 605.753 569.114 Q599.942 569.114 596.864 564.531 Q593.808 559.924 593.808 551.197 Q593.808 542.447 596.864 537.864 Q599.942 533.258 605.753 533.258 Z\" fill=\"#000000\" fill-rule=\"evenodd\" fill-opacity=\"1\" /><path clip-path=\"url(#clip820)\" d=\"M625.915 562.563 L630.799 562.563 L630.799 568.443 L625.915 568.443 L625.915 562.563 Z\" fill=\"#000000\" fill-rule=\"evenodd\" fill-opacity=\"1\" /><path clip-path=\"url(#clip820)\" d=\"M639.803 533.883 L662.025 533.883 L662.025 535.873 L649.479 568.443 L644.595 568.443 L656.401 537.818 L639.803 537.818 L639.803 533.883 Z\" fill=\"#000000\" fill-rule=\"evenodd\" fill-opacity=\"1\" /><path clip-path=\"url(#clip820)\" d=\"M671.192 533.883 L689.548 533.883 L689.548 537.818 L675.474 537.818 L675.474 546.29 Q676.493 545.943 677.512 545.781 Q678.53 545.595 679.549 545.595 Q685.336 545.595 688.715 548.767 Q692.095 551.938 692.095 557.355 Q692.095 562.933 688.623 566.035 Q685.15 569.114 678.831 569.114 Q676.655 569.114 674.387 568.743 Q672.141 568.373 669.734 567.632 L669.734 562.933 Q671.817 564.068 674.039 564.623 Q676.262 565.179 678.738 565.179 Q682.743 565.179 685.081 563.072 Q687.419 560.966 687.419 557.355 Q687.419 553.744 685.081 551.637 Q682.743 549.531 678.738 549.531 Q676.863 549.531 674.988 549.947 Q673.137 550.364 671.192 551.244 L671.192 533.883 Z\" fill=\"#000000\" fill-rule=\"evenodd\" fill-opacity=\"1\" /><polyline clip-path=\"url(#clip822)\" style=\"stroke:#009af9; stroke-linecap:round; stroke-linejoin:round; stroke-width:4; stroke-opacity:1; fill:none\" points=\"1144.96,289.36 1144.96,708.925 1322.29,1169.48 1431.89,1034.55 1322.29,490.607 1144.96,289.36 \"/>\n<path clip-path=\"url(#clip820)\" d=\"M2016.5 198.898 L2281.8 198.898 L2281.8 95.2176 L2016.5 95.2176  Z\" fill=\"#ffffff\" fill-rule=\"evenodd\" fill-opacity=\"1\"/>\n<polyline clip-path=\"url(#clip820)\" style=\"stroke:#000000; stroke-linecap:round; stroke-linejoin:round; stroke-width:4; stroke-opacity:1; fill:none\" points=\"2016.5,198.898 2281.8,198.898 2281.8,95.2176 2016.5,95.2176 2016.5,198.898 \"/>\n<polyline clip-path=\"url(#clip820)\" style=\"stroke:#009af9; stroke-linecap:round; stroke-linejoin:round; stroke-width:4; stroke-opacity:1; fill:none\" points=\"2040.16,147.058 2182.07,147.058 \"/>\n<path clip-path=\"url(#clip820)\" d=\"M2219.56 166.745 Q2217.76 171.375 2216.04 172.787 Q2214.33 174.199 2211.46 174.199 L2208.06 174.199 L2208.06 170.634 L2210.56 170.634 Q2212.32 170.634 2213.29 169.8 Q2214.26 168.967 2215.44 165.865 L2216.2 163.921 L2205.72 138.412 L2210.23 138.412 L2218.33 158.689 L2226.44 138.412 L2230.95 138.412 L2219.56 166.745 Z\" fill=\"#000000\" fill-rule=\"evenodd\" fill-opacity=\"1\" /><path clip-path=\"url(#clip820)\" d=\"M2238.24 160.402 L2245.88 160.402 L2245.88 134.037 L2237.57 135.703 L2237.57 131.444 L2245.83 129.778 L2250.51 129.778 L2250.51 160.402 L2258.15 160.402 L2258.15 164.338 L2238.24 164.338 L2238.24 160.402 Z\" fill=\"#000000\" fill-rule=\"evenodd\" fill-opacity=\"1\" /></svg>\n",
      "text/html": [
       "<?xml version=\"1.0\" encoding=\"utf-8\"?>\n",
       "<svg xmlns=\"http://www.w3.org/2000/svg\" xmlns:xlink=\"http://www.w3.org/1999/xlink\" width=\"600\" height=\"400\" viewBox=\"0 0 2400 1600\">\n",
       "<defs>\n",
       "  <clipPath id=\"clip870\">\n",
       "    <rect x=\"0\" y=\"0\" width=\"2400\" height=\"1600\"/>\n",
       "  </clipPath>\n",
       "</defs>\n",
       "<path clip-path=\"url(#clip870)\" d=\"M0 1600 L2400 1600 L2400 0 L0 0  Z\" fill=\"#ffffff\" fill-rule=\"evenodd\" fill-opacity=\"1\"/>\n",
       "<defs>\n",
       "  <clipPath id=\"clip871\">\n",
       "    <rect x=\"480\" y=\"0\" width=\"1681\" height=\"1600\"/>\n",
       "  </clipPath>\n",
       "</defs>\n",
       "<defs>\n",
       "  <clipPath id=\"clip872\">\n",
       "    <rect x=\"224\" y=\"47\" width=\"2130\" height=\"1440\"/>\n",
       "  </clipPath>\n",
       "</defs>\n",
       "<path clip-path=\"url(#clip872)\" d=\"M-474.014 3227.16 L-474.014 1671.32 L81.1418 893.405 L1042.7 1342.54 L1042.7 2898.37 L487.544 3676.29 L-474.014 3227.16  Z\" fill=\"#ffffff\" fill-rule=\"evenodd\" fill-opacity=\"1\"/>\n",
       "<polyline clip-path=\"url(#clip872)\" style=\"stroke:#000000; stroke-linecap:round; stroke-linejoin:round; stroke-width:2; stroke-opacity:0.1; fill:none\" points=\"741.261,1208.56 1156.72,848.76 1156.72,129.158 \"/>\n",
       "<polyline clip-path=\"url(#clip872)\" style=\"stroke:#000000; stroke-linecap:round; stroke-linejoin:round; stroke-width:2; stroke-opacity:0.1; fill:none\" points=\"861.456,1243.26 1276.92,883.457 1276.92,163.855 \"/>\n",
       "<polyline clip-path=\"url(#clip872)\" style=\"stroke:#000000; stroke-linecap:round; stroke-linejoin:round; stroke-width:2; stroke-opacity:0.1; fill:none\" points=\"981.65,1277.96 1397.11,918.155 1397.11,198.553 \"/>\n",
       "<polyline clip-path=\"url(#clip872)\" style=\"stroke:#000000; stroke-linecap:round; stroke-linejoin:round; stroke-width:2; stroke-opacity:0.1; fill:none\" points=\"1101.85,1312.65 1517.31,952.852 1517.31,233.25 \"/>\n",
       "<polyline clip-path=\"url(#clip872)\" style=\"stroke:#000000; stroke-linecap:round; stroke-linejoin:round; stroke-width:2; stroke-opacity:0.1; fill:none\" points=\"1222.04,1347.35 1637.5,987.549 1637.5,267.947 \"/>\n",
       "<polyline clip-path=\"url(#clip872)\" style=\"stroke:#000000; stroke-linecap:round; stroke-linejoin:round; stroke-width:2; stroke-opacity:0.1; fill:none\" points=\"1342.23,1382.05 1757.7,1022.25 1757.7,302.644 \"/>\n",
       "<polyline clip-path=\"url(#clip870)\" style=\"stroke:#000000; stroke-linecap:round; stroke-linejoin:round; stroke-width:4; stroke-opacity:1; fill:none\" points=\"720.895,1202.68 1440.5,1410.41 \"/>\n",
       "<polyline clip-path=\"url(#clip870)\" style=\"stroke:#000000; stroke-linecap:round; stroke-linejoin:round; stroke-width:4; stroke-opacity:1; fill:none\" points=\"741.261,1208.56 746.246,1204.24 \"/>\n",
       "<polyline clip-path=\"url(#clip870)\" style=\"stroke:#000000; stroke-linecap:round; stroke-linejoin:round; stroke-width:4; stroke-opacity:1; fill:none\" points=\"861.456,1243.26 866.441,1238.94 \"/>\n",
       "<polyline clip-path=\"url(#clip870)\" style=\"stroke:#000000; stroke-linecap:round; stroke-linejoin:round; stroke-width:4; stroke-opacity:1; fill:none\" points=\"981.65,1277.96 986.636,1273.64 \"/>\n",
       "<polyline clip-path=\"url(#clip870)\" style=\"stroke:#000000; stroke-linecap:round; stroke-linejoin:round; stroke-width:4; stroke-opacity:1; fill:none\" points=\"1101.85,1312.65 1106.83,1308.34 \"/>\n",
       "<polyline clip-path=\"url(#clip870)\" style=\"stroke:#000000; stroke-linecap:round; stroke-linejoin:round; stroke-width:4; stroke-opacity:1; fill:none\" points=\"1222.04,1347.35 1227.03,1343.03 \"/>\n",
       "<polyline clip-path=\"url(#clip870)\" style=\"stroke:#000000; stroke-linecap:round; stroke-linejoin:round; stroke-width:4; stroke-opacity:1; fill:none\" points=\"1342.23,1382.05 1347.22,1377.73 \"/>\n",
       "<path clip-path=\"url(#clip870)\" d=\"M641.735 1220.45 Q638.124 1220.45 636.295 1224.02 Q634.49 1227.56 634.49 1234.69 Q634.49 1241.8 636.295 1245.36 Q638.124 1248.9 641.735 1248.9 Q645.37 1248.9 647.175 1245.36 Q649.004 1241.8 649.004 1234.69 Q649.004 1227.56 647.175 1224.02 Q645.37 1220.45 641.735 1220.45 M641.735 1216.75 Q647.545 1216.75 650.601 1221.36 Q653.68 1225.94 653.68 1234.69 Q653.68 1243.42 650.601 1248.02 Q647.545 1252.61 641.735 1252.61 Q635.925 1252.61 632.846 1248.02 Q629.791 1243.42 629.791 1234.69 Q629.791 1225.94 632.846 1221.36 Q635.925 1216.75 641.735 1216.75 Z\" fill=\"#000000\" fill-rule=\"evenodd\" fill-opacity=\"1\" /><path clip-path=\"url(#clip870)\" d=\"M661.897 1246.06 L666.781 1246.06 L666.781 1251.93 L661.897 1251.93 L661.897 1246.06 Z\" fill=\"#000000\" fill-rule=\"evenodd\" fill-opacity=\"1\" /><path clip-path=\"url(#clip870)\" d=\"M686.967 1220.45 Q683.355 1220.45 681.527 1224.02 Q679.721 1227.56 679.721 1234.69 Q679.721 1241.8 681.527 1245.36 Q683.355 1248.9 686.967 1248.9 Q690.601 1248.9 692.406 1245.36 Q694.235 1241.8 694.235 1234.69 Q694.235 1227.56 692.406 1224.02 Q690.601 1220.45 686.967 1220.45 M686.967 1216.75 Q692.777 1216.75 695.832 1221.36 Q698.911 1225.94 698.911 1234.69 Q698.911 1243.42 695.832 1248.02 Q692.777 1252.61 686.967 1252.61 Q681.156 1252.61 678.078 1248.02 Q675.022 1243.42 675.022 1234.69 Q675.022 1225.94 678.078 1221.36 Q681.156 1216.75 686.967 1216.75 Z\" fill=\"#000000\" fill-rule=\"evenodd\" fill-opacity=\"1\" /><path clip-path=\"url(#clip870)\" d=\"M717.128 1220.45 Q713.517 1220.45 711.689 1224.02 Q709.883 1227.56 709.883 1234.69 Q709.883 1241.8 711.689 1245.36 Q713.517 1248.9 717.128 1248.9 Q720.763 1248.9 722.568 1245.36 Q724.397 1241.8 724.397 1234.69 Q724.397 1227.56 722.568 1224.02 Q720.763 1220.45 717.128 1220.45 M717.128 1216.75 Q722.939 1216.75 725.994 1221.36 Q729.073 1225.94 729.073 1234.69 Q729.073 1243.42 725.994 1248.02 Q722.939 1252.61 717.128 1252.61 Q711.318 1252.61 708.24 1248.02 Q705.184 1243.42 705.184 1234.69 Q705.184 1225.94 708.24 1221.36 Q711.318 1216.75 717.128 1216.75 Z\" fill=\"#000000\" fill-rule=\"evenodd\" fill-opacity=\"1\" /><path clip-path=\"url(#clip870)\" d=\"M762.925 1255.15 Q759.314 1255.15 757.486 1258.72 Q755.68 1262.26 755.68 1269.39 Q755.68 1276.49 757.486 1280.06 Q759.314 1283.6 762.925 1283.6 Q766.56 1283.6 768.365 1280.06 Q770.194 1276.49 770.194 1269.39 Q770.194 1262.26 768.365 1258.72 Q766.56 1255.15 762.925 1255.15 M762.925 1251.45 Q768.736 1251.45 771.791 1256.05 Q774.87 1260.64 774.87 1269.39 Q774.87 1278.11 771.791 1282.72 Q768.736 1287.3 762.925 1287.3 Q757.115 1287.3 754.037 1282.72 Q750.981 1278.11 750.981 1269.39 Q750.981 1260.64 754.037 1256.05 Q757.115 1251.45 762.925 1251.45 Z\" fill=\"#000000\" fill-rule=\"evenodd\" fill-opacity=\"1\" /><path clip-path=\"url(#clip870)\" d=\"M783.087 1280.75 L787.972 1280.75 L787.972 1286.63 L783.087 1286.63 L783.087 1280.75 Z\" fill=\"#000000\" fill-rule=\"evenodd\" fill-opacity=\"1\" /><path clip-path=\"url(#clip870)\" d=\"M802.184 1282.7 L818.504 1282.7 L818.504 1286.63 L796.559 1286.63 L796.559 1282.7 Q799.222 1279.94 803.805 1275.31 Q808.411 1270.66 809.592 1269.32 Q811.837 1266.79 812.717 1265.06 Q813.62 1263.3 813.62 1261.61 Q813.62 1258.85 811.675 1257.12 Q809.754 1255.38 806.652 1255.38 Q804.453 1255.38 801.999 1256.15 Q799.569 1256.91 796.791 1258.46 L796.791 1253.74 Q799.615 1252.6 802.069 1252.03 Q804.522 1251.45 806.559 1251.45 Q811.93 1251.45 815.124 1254.13 Q818.319 1256.82 818.319 1261.31 Q818.319 1263.44 817.508 1265.36 Q816.721 1267.26 814.615 1269.85 Q814.036 1270.52 810.934 1273.74 Q807.833 1276.93 802.184 1282.7 Z\" fill=\"#000000\" fill-rule=\"evenodd\" fill-opacity=\"1\" /><path clip-path=\"url(#clip870)\" d=\"M828.365 1252.07 L846.721 1252.07 L846.721 1256.01 L832.647 1256.01 L832.647 1264.48 Q833.666 1264.13 834.684 1263.97 Q835.703 1263.79 836.721 1263.79 Q842.508 1263.79 845.888 1266.96 Q849.268 1270.13 849.268 1275.54 Q849.268 1281.12 845.795 1284.22 Q842.323 1287.3 836.004 1287.3 Q833.828 1287.3 831.559 1286.93 Q829.314 1286.56 826.907 1285.82 L826.907 1281.12 Q828.99 1282.26 831.212 1282.81 Q833.434 1283.37 835.911 1283.37 Q839.916 1283.37 842.254 1281.26 Q844.592 1279.16 844.592 1275.54 Q844.592 1271.93 842.254 1269.83 Q839.916 1267.72 835.911 1267.72 Q834.036 1267.72 832.161 1268.14 Q830.309 1268.55 828.365 1269.43 L828.365 1252.07 Z\" fill=\"#000000\" fill-rule=\"evenodd\" fill-opacity=\"1\" /><path clip-path=\"url(#clip870)\" d=\"M882.125 1289.85 Q878.514 1289.85 876.685 1293.41 Q874.879 1296.95 874.879 1304.08 Q874.879 1311.19 876.685 1314.76 Q878.514 1318.3 882.125 1318.3 Q885.759 1318.3 887.565 1314.76 Q889.393 1311.19 889.393 1304.08 Q889.393 1296.95 887.565 1293.41 Q885.759 1289.85 882.125 1289.85 M882.125 1286.14 Q887.935 1286.14 890.991 1290.75 Q894.069 1295.33 894.069 1304.08 Q894.069 1312.81 890.991 1317.42 Q887.935 1322 882.125 1322 Q876.315 1322 873.236 1317.42 Q870.18 1312.81 870.18 1304.08 Q870.18 1295.33 873.236 1290.75 Q876.315 1286.14 882.125 1286.14 Z\" fill=\"#000000\" fill-rule=\"evenodd\" fill-opacity=\"1\" /><path clip-path=\"url(#clip870)\" d=\"M902.287 1315.45 L907.171 1315.45 L907.171 1321.33 L902.287 1321.33 L902.287 1315.45 Z\" fill=\"#000000\" fill-rule=\"evenodd\" fill-opacity=\"1\" /><path clip-path=\"url(#clip870)\" d=\"M917.402 1286.77 L935.759 1286.77 L935.759 1290.7 L921.685 1290.7 L921.685 1299.18 Q922.703 1298.83 923.722 1298.67 Q924.74 1298.48 925.759 1298.48 Q931.546 1298.48 934.925 1301.65 Q938.305 1304.82 938.305 1310.24 Q938.305 1315.82 934.833 1318.92 Q931.361 1322 925.041 1322 Q922.865 1322 920.597 1321.63 Q918.351 1321.26 915.944 1320.52 L915.944 1315.82 Q918.027 1316.95 920.25 1317.51 Q922.472 1318.07 924.949 1318.07 Q928.953 1318.07 931.291 1315.96 Q933.629 1313.85 933.629 1310.24 Q933.629 1306.63 931.291 1304.52 Q928.953 1302.42 924.949 1302.42 Q923.074 1302.42 921.199 1302.83 Q919.347 1303.25 917.402 1304.13 L917.402 1286.77 Z\" fill=\"#000000\" fill-rule=\"evenodd\" fill-opacity=\"1\" /><path clip-path=\"url(#clip870)\" d=\"M957.518 1289.85 Q953.907 1289.85 952.078 1293.41 Q950.273 1296.95 950.273 1304.08 Q950.273 1311.19 952.078 1314.76 Q953.907 1318.3 957.518 1318.3 Q961.152 1318.3 962.958 1314.76 Q964.786 1311.19 964.786 1304.08 Q964.786 1296.95 962.958 1293.41 Q961.152 1289.85 957.518 1289.85 M957.518 1286.14 Q963.328 1286.14 966.384 1290.75 Q969.462 1295.33 969.462 1304.08 Q969.462 1312.81 966.384 1317.42 Q963.328 1322 957.518 1322 Q951.708 1322 948.629 1317.42 Q945.574 1312.81 945.574 1304.08 Q945.574 1295.33 948.629 1290.75 Q951.708 1286.14 957.518 1286.14 Z\" fill=\"#000000\" fill-rule=\"evenodd\" fill-opacity=\"1\" /><path clip-path=\"url(#clip870)\" d=\"M1003.31 1324.55 Q999.704 1324.55 997.875 1328.11 Q996.07 1331.65 996.07 1338.78 Q996.07 1345.89 997.875 1349.45 Q999.704 1352.99 1003.31 1352.99 Q1006.95 1352.99 1008.75 1349.45 Q1010.58 1345.89 1010.58 1338.78 Q1010.58 1331.65 1008.75 1328.11 Q1006.95 1324.55 1003.31 1324.55 M1003.31 1320.84 Q1009.13 1320.84 1012.18 1325.45 Q1015.26 1330.03 1015.26 1338.78 Q1015.26 1347.51 1012.18 1352.11 Q1009.13 1356.7 1003.31 1356.7 Q997.505 1356.7 994.426 1352.11 Q991.371 1347.51 991.371 1338.78 Q991.371 1330.03 994.426 1325.45 Q997.505 1320.84 1003.31 1320.84 Z\" fill=\"#000000\" fill-rule=\"evenodd\" fill-opacity=\"1\" /><path clip-path=\"url(#clip870)\" d=\"M1023.48 1350.15 L1028.36 1350.15 L1028.36 1356.03 L1023.48 1356.03 L1023.48 1350.15 Z\" fill=\"#000000\" fill-rule=\"evenodd\" fill-opacity=\"1\" /><path clip-path=\"url(#clip870)\" d=\"M1037.37 1321.47 L1059.59 1321.47 L1059.59 1323.46 L1047.04 1356.03 L1042.16 1356.03 L1053.96 1325.4 L1037.37 1325.4 L1037.37 1321.47 Z\" fill=\"#000000\" fill-rule=\"evenodd\" fill-opacity=\"1\" /><path clip-path=\"url(#clip870)\" d=\"M1068.75 1321.47 L1087.11 1321.47 L1087.11 1325.4 L1073.04 1325.4 L1073.04 1333.87 Q1074.06 1333.53 1075.07 1333.36 Q1076.09 1333.18 1077.11 1333.18 Q1082.9 1333.18 1086.28 1336.35 Q1089.66 1339.52 1089.66 1344.94 Q1089.66 1350.52 1086.18 1353.62 Q1082.71 1356.7 1076.39 1356.7 Q1074.22 1356.7 1071.95 1356.33 Q1069.7 1355.96 1067.3 1355.22 L1067.3 1350.52 Q1069.38 1351.65 1071.6 1352.21 Q1073.82 1352.76 1076.3 1352.76 Q1080.31 1352.76 1082.64 1350.66 Q1084.98 1348.55 1084.98 1344.94 Q1084.98 1341.33 1082.64 1339.22 Q1080.31 1337.11 1076.3 1337.11 Q1074.43 1337.11 1072.55 1337.53 Q1070.7 1337.95 1068.75 1338.83 L1068.75 1321.47 Z\" fill=\"#000000\" fill-rule=\"evenodd\" fill-opacity=\"1\" /><path clip-path=\"url(#clip870)\" d=\"M1113.32 1386.79 L1120.96 1386.79 L1120.96 1360.42 L1112.65 1362.09 L1112.65 1357.83 L1120.92 1356.16 L1125.59 1356.16 L1125.59 1386.79 L1133.23 1386.79 L1133.23 1390.72 L1113.32 1390.72 L1113.32 1386.79 Z\" fill=\"#000000\" fill-rule=\"evenodd\" fill-opacity=\"1\" /><path clip-path=\"url(#clip870)\" d=\"M1142.68 1384.84 L1147.56 1384.84 L1147.56 1390.72 L1142.68 1390.72 L1142.68 1384.84 Z\" fill=\"#000000\" fill-rule=\"evenodd\" fill-opacity=\"1\" /><path clip-path=\"url(#clip870)\" d=\"M1167.75 1359.24 Q1164.13 1359.24 1162.31 1362.81 Q1160.5 1366.35 1160.5 1373.48 Q1160.5 1380.59 1162.31 1384.15 Q1164.13 1387.69 1167.75 1387.69 Q1171.38 1387.69 1173.19 1384.15 Q1175.01 1380.59 1175.01 1373.48 Q1175.01 1366.35 1173.19 1362.81 Q1171.38 1359.24 1167.75 1359.24 M1167.75 1355.54 Q1173.56 1355.54 1176.61 1360.15 Q1179.69 1364.73 1179.69 1373.48 Q1179.69 1382.21 1176.61 1386.81 Q1173.56 1391.4 1167.75 1391.4 Q1161.94 1391.4 1158.86 1386.81 Q1155.8 1382.21 1155.8 1373.48 Q1155.8 1364.73 1158.86 1360.15 Q1161.94 1355.54 1167.75 1355.54 Z\" fill=\"#000000\" fill-rule=\"evenodd\" fill-opacity=\"1\" /><path clip-path=\"url(#clip870)\" d=\"M1197.91 1359.24 Q1194.3 1359.24 1192.47 1362.81 Q1190.66 1366.35 1190.66 1373.48 Q1190.66 1380.59 1192.47 1384.15 Q1194.3 1387.69 1197.91 1387.69 Q1201.54 1387.69 1203.35 1384.15 Q1205.18 1380.59 1205.18 1373.48 Q1205.18 1366.35 1203.35 1362.81 Q1201.54 1359.24 1197.91 1359.24 M1197.91 1355.54 Q1203.72 1355.54 1206.77 1360.15 Q1209.85 1364.73 1209.85 1373.48 Q1209.85 1382.21 1206.77 1386.81 Q1203.72 1391.4 1197.91 1391.4 Q1192.1 1391.4 1189.02 1386.81 Q1185.96 1382.21 1185.96 1373.48 Q1185.96 1364.73 1189.02 1360.15 Q1192.1 1355.54 1197.91 1355.54 Z\" fill=\"#000000\" fill-rule=\"evenodd\" fill-opacity=\"1\" /><path clip-path=\"url(#clip870)\" d=\"M1234.51 1421.49 L1242.15 1421.49 L1242.15 1395.12 L1233.84 1396.79 L1233.84 1392.53 L1242.11 1390.86 L1246.78 1390.86 L1246.78 1421.49 L1254.42 1421.49 L1254.42 1425.42 L1234.51 1425.42 L1234.51 1421.49 Z\" fill=\"#000000\" fill-rule=\"evenodd\" fill-opacity=\"1\" /><path clip-path=\"url(#clip870)\" d=\"M1263.87 1419.54 L1268.75 1419.54 L1268.75 1425.42 L1263.87 1425.42 L1263.87 1419.54 Z\" fill=\"#000000\" fill-rule=\"evenodd\" fill-opacity=\"1\" /><path clip-path=\"url(#clip870)\" d=\"M1282.96 1421.49 L1299.28 1421.49 L1299.28 1425.42 L1277.34 1425.42 L1277.34 1421.49 Q1280 1418.73 1284.58 1414.1 Q1289.19 1409.45 1290.37 1408.11 Q1292.62 1405.58 1293.5 1403.85 Q1294.4 1402.09 1294.4 1400.4 Q1294.4 1397.64 1292.45 1395.91 Q1290.53 1394.17 1287.43 1394.17 Q1285.23 1394.17 1282.78 1394.94 Q1280.35 1395.7 1277.57 1397.25 L1277.57 1392.53 Q1280.39 1391.39 1282.85 1390.81 Q1285.3 1390.24 1287.34 1390.24 Q1292.71 1390.24 1295.9 1392.92 Q1299.1 1395.61 1299.1 1400.1 Q1299.1 1402.23 1298.29 1404.15 Q1297.5 1406.05 1295.39 1408.64 Q1294.82 1409.31 1291.71 1412.53 Q1288.61 1415.72 1282.96 1421.49 Z\" fill=\"#000000\" fill-rule=\"evenodd\" fill-opacity=\"1\" /><path clip-path=\"url(#clip870)\" d=\"M1309.14 1390.86 L1327.5 1390.86 L1327.5 1394.8 L1313.43 1394.8 L1313.43 1403.27 Q1314.44 1402.92 1315.46 1402.76 Q1316.48 1402.57 1317.5 1402.57 Q1323.29 1402.57 1326.67 1405.75 Q1330.05 1408.92 1330.05 1414.33 Q1330.05 1419.91 1326.57 1423.01 Q1323.1 1426.09 1316.78 1426.09 Q1314.61 1426.09 1312.34 1425.72 Q1310.09 1425.35 1307.69 1424.61 L1307.69 1419.91 Q1309.77 1421.05 1311.99 1421.6 Q1314.21 1422.16 1316.69 1422.16 Q1320.69 1422.16 1323.03 1420.05 Q1325.37 1417.94 1325.37 1414.33 Q1325.37 1410.72 1323.03 1408.62 Q1320.69 1406.51 1316.69 1406.51 Q1314.82 1406.51 1312.94 1406.93 Q1311.09 1407.34 1309.14 1408.22 L1309.14 1390.86 Z\" fill=\"#000000\" fill-rule=\"evenodd\" fill-opacity=\"1\" /><polyline clip-path=\"url(#clip872)\" style=\"stroke:#000000; stroke-linecap:round; stroke-linejoin:round; stroke-width:2; stroke-opacity:0.1; fill:none\" points=\"1479.5,1376.64 759.895,1168.91 759.895,449.305 \"/>\n",
       "<polyline clip-path=\"url(#clip872)\" style=\"stroke:#000000; stroke-linecap:round; stroke-linejoin:round; stroke-width:2; stroke-opacity:0.1; fill:none\" points=\"1569.32,1298.85 849.721,1091.11 849.721,371.513 \"/>\n",
       "<polyline clip-path=\"url(#clip872)\" style=\"stroke:#000000; stroke-linecap:round; stroke-linejoin:round; stroke-width:2; stroke-opacity:0.1; fill:none\" points=\"1659.15,1221.05 939.548,1013.32 939.548,293.721 \"/>\n",
       "<polyline clip-path=\"url(#clip872)\" style=\"stroke:#000000; stroke-linecap:round; stroke-linejoin:round; stroke-width:2; stroke-opacity:0.1; fill:none\" points=\"1748.98,1143.26 1029.37,935.531 1029.37,215.929 \"/>\n",
       "<polyline clip-path=\"url(#clip872)\" style=\"stroke:#000000; stroke-linecap:round; stroke-linejoin:round; stroke-width:2; stroke-opacity:0.1; fill:none\" points=\"1838.8,1065.47 1119.2,857.739 1119.2,138.137 \"/>\n",
       "<polyline clip-path=\"url(#clip870)\" style=\"stroke:#000000; stroke-linecap:round; stroke-linejoin:round; stroke-width:4; stroke-opacity:1; fill:none\" points=\"1440.5,1410.41 1855.96,1050.61 \"/>\n",
       "<polyline clip-path=\"url(#clip870)\" style=\"stroke:#000000; stroke-linecap:round; stroke-linejoin:round; stroke-width:4; stroke-opacity:1; fill:none\" points=\"1479.5,1376.64 1470.86,1374.14 \"/>\n",
       "<polyline clip-path=\"url(#clip870)\" style=\"stroke:#000000; stroke-linecap:round; stroke-linejoin:round; stroke-width:4; stroke-opacity:1; fill:none\" points=\"1569.32,1298.85 1560.69,1296.35 \"/>\n",
       "<polyline clip-path=\"url(#clip870)\" style=\"stroke:#000000; stroke-linecap:round; stroke-linejoin:round; stroke-width:4; stroke-opacity:1; fill:none\" points=\"1659.15,1221.05 1650.51,1218.56 \"/>\n",
       "<polyline clip-path=\"url(#clip870)\" style=\"stroke:#000000; stroke-linecap:round; stroke-linejoin:round; stroke-width:4; stroke-opacity:1; fill:none\" points=\"1748.98,1143.26 1740.34,1140.77 \"/>\n",
       "<polyline clip-path=\"url(#clip870)\" style=\"stroke:#000000; stroke-linecap:round; stroke-linejoin:round; stroke-width:4; stroke-opacity:1; fill:none\" points=\"1838.8,1065.47 1830.17,1062.98 \"/>\n",
       "<path clip-path=\"url(#clip870)\" d=\"M1514.88 1379.17 Q1511.27 1379.17 1509.44 1382.73 Q1507.64 1386.27 1507.64 1393.4 Q1507.64 1400.51 1509.44 1404.07 Q1511.27 1407.61 1514.88 1407.61 Q1518.52 1407.61 1520.32 1404.07 Q1522.15 1400.51 1522.15 1393.4 Q1522.15 1386.27 1520.32 1382.73 Q1518.52 1379.17 1514.88 1379.17 M1514.88 1375.46 Q1520.69 1375.46 1523.75 1380.07 Q1526.83 1384.65 1526.83 1393.4 Q1526.83 1402.13 1523.75 1406.74 Q1520.69 1411.32 1514.88 1411.32 Q1509.07 1411.32 1506 1406.74 Q1502.94 1402.13 1502.94 1393.4 Q1502.94 1384.65 1506 1380.07 Q1509.07 1375.46 1514.88 1375.46 Z\" fill=\"#000000\" fill-rule=\"evenodd\" fill-opacity=\"1\" /><path clip-path=\"url(#clip870)\" d=\"M1535.05 1404.77 L1539.93 1404.77 L1539.93 1410.65 L1535.05 1410.65 L1535.05 1404.77 Z\" fill=\"#000000\" fill-rule=\"evenodd\" fill-opacity=\"1\" /><path clip-path=\"url(#clip870)\" d=\"M1560.69 1391.5 Q1557.55 1391.5 1555.69 1393.66 Q1553.87 1395.81 1553.87 1399.56 Q1553.87 1403.29 1555.69 1405.46 Q1557.55 1407.61 1560.69 1407.61 Q1563.84 1407.61 1565.67 1405.46 Q1567.52 1403.29 1567.52 1399.56 Q1567.52 1395.81 1565.67 1393.66 Q1563.84 1391.5 1560.69 1391.5 M1569.98 1376.85 L1569.98 1381.11 Q1568.22 1380.28 1566.41 1379.84 Q1564.63 1379.4 1562.87 1379.4 Q1558.24 1379.4 1555.79 1382.52 Q1553.36 1385.65 1553.01 1391.97 Q1554.37 1389.95 1556.43 1388.89 Q1558.49 1387.8 1560.97 1387.8 Q1566.18 1387.8 1569.19 1390.97 Q1572.22 1394.12 1572.22 1399.56 Q1572.22 1404.88 1569.07 1408.1 Q1565.93 1411.32 1560.69 1411.32 Q1554.7 1411.32 1551.53 1406.74 Q1548.36 1402.13 1548.36 1393.4 Q1548.36 1385.21 1552.25 1380.35 Q1556.13 1375.46 1562.68 1375.46 Q1564.44 1375.46 1566.23 1375.81 Q1568.03 1376.16 1569.98 1376.85 Z\" fill=\"#000000\" fill-rule=\"evenodd\" fill-opacity=\"1\" /><path clip-path=\"url(#clip870)\" d=\"M1604.71 1301.37 Q1601.1 1301.37 1599.27 1304.94 Q1597.47 1308.48 1597.47 1315.61 Q1597.47 1322.72 1599.27 1326.28 Q1601.1 1329.82 1604.71 1329.82 Q1608.34 1329.82 1610.15 1326.28 Q1611.98 1322.72 1611.98 1315.61 Q1611.98 1308.48 1610.15 1304.94 Q1608.34 1301.37 1604.71 1301.37 M1604.71 1297.67 Q1610.52 1297.67 1613.58 1302.28 Q1616.65 1306.86 1616.65 1315.61 Q1616.65 1324.34 1613.58 1328.94 Q1610.52 1333.53 1604.71 1333.53 Q1598.9 1333.53 1595.82 1328.94 Q1592.77 1324.34 1592.77 1315.61 Q1592.77 1306.86 1595.82 1302.28 Q1598.9 1297.67 1604.71 1297.67 Z\" fill=\"#000000\" fill-rule=\"evenodd\" fill-opacity=\"1\" /><path clip-path=\"url(#clip870)\" d=\"M1624.87 1326.98 L1629.76 1326.98 L1629.76 1332.86 L1624.87 1332.86 L1624.87 1326.98 Z\" fill=\"#000000\" fill-rule=\"evenodd\" fill-opacity=\"1\" /><path clip-path=\"url(#clip870)\" d=\"M1649.94 1316.44 Q1646.61 1316.44 1644.69 1318.23 Q1642.79 1320.01 1642.79 1323.13 Q1642.79 1326.26 1644.69 1328.04 Q1646.61 1329.82 1649.94 1329.82 Q1653.27 1329.82 1655.2 1328.04 Q1657.12 1326.24 1657.12 1323.13 Q1657.12 1320.01 1655.2 1318.23 Q1653.3 1316.44 1649.94 1316.44 M1645.27 1314.45 Q1642.26 1313.71 1640.57 1311.65 Q1638.9 1309.59 1638.9 1306.63 Q1638.9 1302.49 1641.84 1300.08 Q1644.8 1297.67 1649.94 1297.67 Q1655.1 1297.67 1658.04 1300.08 Q1660.98 1302.49 1660.98 1306.63 Q1660.98 1309.59 1659.29 1311.65 Q1657.63 1313.71 1654.64 1314.45 Q1658.02 1315.24 1659.9 1317.53 Q1661.79 1319.82 1661.79 1323.13 Q1661.79 1328.16 1658.71 1330.84 Q1655.66 1333.53 1649.94 1333.53 Q1644.22 1333.53 1641.15 1330.84 Q1638.09 1328.16 1638.09 1323.13 Q1638.09 1319.82 1639.99 1317.53 Q1641.89 1315.24 1645.27 1314.45 M1643.55 1307.07 Q1643.55 1309.75 1645.22 1311.26 Q1646.91 1312.76 1649.94 1312.76 Q1652.95 1312.76 1654.64 1311.26 Q1656.35 1309.75 1656.35 1307.07 Q1656.35 1304.38 1654.64 1302.88 Q1652.95 1301.37 1649.94 1301.37 Q1646.91 1301.37 1645.22 1302.88 Q1643.55 1304.38 1643.55 1307.07 Z\" fill=\"#000000\" fill-rule=\"evenodd\" fill-opacity=\"1\" /><path clip-path=\"url(#clip870)\" d=\"M1683.26 1251.13 L1690.9 1251.13 L1690.9 1224.76 L1682.59 1226.43 L1682.59 1222.17 L1690.86 1220.5 L1695.53 1220.5 L1695.53 1251.13 L1703.17 1251.13 L1703.17 1255.06 L1683.26 1255.06 L1683.26 1251.13 Z\" fill=\"#000000\" fill-rule=\"evenodd\" fill-opacity=\"1\" /><path clip-path=\"url(#clip870)\" d=\"M1712.62 1249.18 L1717.5 1249.18 L1717.5 1255.06 L1712.62 1255.06 L1712.62 1249.18 Z\" fill=\"#000000\" fill-rule=\"evenodd\" fill-opacity=\"1\" /><path clip-path=\"url(#clip870)\" d=\"M1737.68 1223.58 Q1734.07 1223.58 1732.24 1227.15 Q1730.44 1230.69 1730.44 1237.82 Q1730.44 1244.92 1732.24 1248.49 Q1734.07 1252.03 1737.68 1252.03 Q1741.32 1252.03 1743.12 1248.49 Q1744.95 1244.92 1744.95 1237.82 Q1744.95 1230.69 1743.12 1227.15 Q1741.32 1223.58 1737.68 1223.58 M1737.68 1219.88 Q1743.49 1219.88 1746.55 1224.49 Q1749.63 1229.07 1749.63 1237.82 Q1749.63 1246.55 1746.55 1251.15 Q1743.49 1255.73 1737.68 1255.73 Q1731.87 1255.73 1728.8 1251.15 Q1725.74 1246.55 1725.74 1237.82 Q1725.74 1229.07 1728.8 1224.49 Q1731.87 1219.88 1737.68 1219.88 Z\" fill=\"#000000\" fill-rule=\"evenodd\" fill-opacity=\"1\" /><path clip-path=\"url(#clip870)\" d=\"M1773.09 1173.34 L1780.73 1173.34 L1780.73 1146.97 L1772.42 1148.64 L1772.42 1144.38 L1780.68 1142.71 L1785.36 1142.71 L1785.36 1173.34 L1793 1173.34 L1793 1177.27 L1773.09 1177.27 L1773.09 1173.34 Z\" fill=\"#000000\" fill-rule=\"evenodd\" fill-opacity=\"1\" /><path clip-path=\"url(#clip870)\" d=\"M1802.44 1171.39 L1807.33 1171.39 L1807.33 1177.27 L1802.44 1177.27 L1802.44 1171.39 Z\" fill=\"#000000\" fill-rule=\"evenodd\" fill-opacity=\"1\" /><path clip-path=\"url(#clip870)\" d=\"M1821.54 1173.34 L1837.86 1173.34 L1837.86 1177.27 L1815.91 1177.27 L1815.91 1173.34 Q1818.58 1170.58 1823.16 1165.95 Q1827.77 1161.3 1828.95 1159.96 Q1831.19 1157.43 1832.07 1155.7 Q1832.97 1153.94 1832.97 1152.25 Q1832.97 1149.49 1831.03 1147.76 Q1829.11 1146.02 1826.01 1146.02 Q1823.81 1146.02 1821.35 1146.79 Q1818.92 1147.55 1816.15 1149.1 L1816.15 1144.38 Q1818.97 1143.24 1821.42 1142.67 Q1823.88 1142.09 1825.91 1142.09 Q1831.28 1142.09 1834.48 1144.77 Q1837.67 1147.46 1837.67 1151.95 Q1837.67 1154.08 1836.86 1156 Q1836.08 1157.9 1833.97 1160.49 Q1833.39 1161.16 1830.29 1164.38 Q1827.19 1167.57 1821.54 1173.34 Z\" fill=\"#000000\" fill-rule=\"evenodd\" fill-opacity=\"1\" /><path clip-path=\"url(#clip870)\" d=\"M1862.92 1095.54 L1870.55 1095.54 L1870.55 1069.18 L1862.24 1070.85 L1862.24 1066.59 L1870.51 1064.92 L1875.18 1064.92 L1875.18 1095.54 L1882.82 1095.54 L1882.82 1099.48 L1862.92 1099.48 L1862.92 1095.54 Z\" fill=\"#000000\" fill-rule=\"evenodd\" fill-opacity=\"1\" /><path clip-path=\"url(#clip870)\" d=\"M1892.27 1093.6 L1897.15 1093.6 L1897.15 1099.48 L1892.27 1099.48 L1892.27 1093.6 Z\" fill=\"#000000\" fill-rule=\"evenodd\" fill-opacity=\"1\" /><path clip-path=\"url(#clip870)\" d=\"M1920.18 1068.99 L1908.38 1087.44 L1920.18 1087.44 L1920.18 1068.99 M1918.96 1064.92 L1924.84 1064.92 L1924.84 1087.44 L1929.77 1087.44 L1929.77 1091.33 L1924.84 1091.33 L1924.84 1099.48 L1920.18 1099.48 L1920.18 1091.33 L1904.58 1091.33 L1904.58 1086.82 L1918.96 1064.92 Z\" fill=\"#000000\" fill-rule=\"evenodd\" fill-opacity=\"1\" /><polyline clip-path=\"url(#clip872)\" style=\"stroke:#000000; stroke-linecap:round; stroke-linejoin:round; stroke-width:2; stroke-opacity:0.1; fill:none\" points=\"720.895,1134.6 1136.36,774.798 1855.96,982.529 \"/>\n",
       "<polyline clip-path=\"url(#clip872)\" style=\"stroke:#000000; stroke-linecap:round; stroke-linejoin:round; stroke-width:2; stroke-opacity:0.1; fill:none\" points=\"720.895,1037.36 1136.36,677.559 1855.96,885.29 \"/>\n",
       "<polyline clip-path=\"url(#clip872)\" style=\"stroke:#000000; stroke-linecap:round; stroke-linejoin:round; stroke-width:2; stroke-opacity:0.1; fill:none\" points=\"720.895,940.12 1136.36,580.319 1855.96,788.051 \"/>\n",
       "<polyline clip-path=\"url(#clip872)\" style=\"stroke:#000000; stroke-linecap:round; stroke-linejoin:round; stroke-width:2; stroke-opacity:0.1; fill:none\" points=\"720.895,842.881 1136.36,483.08 1855.96,690.811 \"/>\n",
       "<polyline clip-path=\"url(#clip872)\" style=\"stroke:#000000; stroke-linecap:round; stroke-linejoin:round; stroke-width:2; stroke-opacity:0.1; fill:none\" points=\"720.895,745.641 1136.36,385.84 1855.96,593.572 \"/>\n",
       "<polyline clip-path=\"url(#clip872)\" style=\"stroke:#000000; stroke-linecap:round; stroke-linejoin:round; stroke-width:2; stroke-opacity:0.1; fill:none\" points=\"720.895,648.402 1136.36,288.601 1855.96,496.332 \"/>\n",
       "<polyline clip-path=\"url(#clip872)\" style=\"stroke:#000000; stroke-linecap:round; stroke-linejoin:round; stroke-width:2; stroke-opacity:0.1; fill:none\" points=\"720.895,551.163 1136.36,191.362 1855.96,399.093 \"/>\n",
       "<polyline clip-path=\"url(#clip870)\" style=\"stroke:#000000; stroke-linecap:round; stroke-linejoin:round; stroke-width:4; stroke-opacity:1; fill:none\" points=\"720.895,1202.68 720.895,483.08 \"/>\n",
       "<polyline clip-path=\"url(#clip870)\" style=\"stroke:#000000; stroke-linecap:round; stroke-linejoin:round; stroke-width:4; stroke-opacity:1; fill:none\" points=\"720.895,1134.6 725.88,1130.28 \"/>\n",
       "<polyline clip-path=\"url(#clip870)\" style=\"stroke:#000000; stroke-linecap:round; stroke-linejoin:round; stroke-width:4; stroke-opacity:1; fill:none\" points=\"720.895,1037.36 725.88,1033.04 \"/>\n",
       "<polyline clip-path=\"url(#clip870)\" style=\"stroke:#000000; stroke-linecap:round; stroke-linejoin:round; stroke-width:4; stroke-opacity:1; fill:none\" points=\"720.895,940.12 725.88,935.803 \"/>\n",
       "<polyline clip-path=\"url(#clip870)\" style=\"stroke:#000000; stroke-linecap:round; stroke-linejoin:round; stroke-width:4; stroke-opacity:1; fill:none\" points=\"720.895,842.881 725.88,838.563 \"/>\n",
       "<polyline clip-path=\"url(#clip870)\" style=\"stroke:#000000; stroke-linecap:round; stroke-linejoin:round; stroke-width:4; stroke-opacity:1; fill:none\" points=\"720.895,745.641 725.88,741.324 \"/>\n",
       "<polyline clip-path=\"url(#clip870)\" style=\"stroke:#000000; stroke-linecap:round; stroke-linejoin:round; stroke-width:4; stroke-opacity:1; fill:none\" points=\"720.895,648.402 725.88,644.084 \"/>\n",
       "<polyline clip-path=\"url(#clip870)\" style=\"stroke:#000000; stroke-linecap:round; stroke-linejoin:round; stroke-width:4; stroke-opacity:1; fill:none\" points=\"720.895,551.163 725.88,546.845 \"/>\n",
       "<path clip-path=\"url(#clip870)\" d=\"M555.984 1135.05 L585.66 1135.05 L585.66 1138.99 L555.984 1138.99 L555.984 1135.05 Z\" fill=\"#000000\" fill-rule=\"evenodd\" fill-opacity=\"1\" /><path clip-path=\"url(#clip870)\" d=\"M605.753 1120.4 Q602.142 1120.4 600.313 1123.96 Q598.507 1127.5 598.507 1134.63 Q598.507 1141.74 600.313 1145.31 Q602.142 1148.85 605.753 1148.85 Q609.387 1148.85 611.192 1145.31 Q613.021 1141.74 613.021 1134.63 Q613.021 1127.5 611.192 1123.96 Q609.387 1120.4 605.753 1120.4 M605.753 1116.69 Q611.563 1116.69 614.618 1121.3 Q617.697 1125.88 617.697 1134.63 Q617.697 1143.36 614.618 1147.97 Q611.563 1152.55 605.753 1152.55 Q599.942 1152.55 596.864 1147.97 Q593.808 1143.36 593.808 1134.63 Q593.808 1125.88 596.864 1121.3 Q599.942 1116.69 605.753 1116.69 Z\" fill=\"#000000\" fill-rule=\"evenodd\" fill-opacity=\"1\" /><path clip-path=\"url(#clip870)\" d=\"M625.915 1146 L630.799 1146 L630.799 1151.88 L625.915 1151.88 L625.915 1146 Z\" fill=\"#000000\" fill-rule=\"evenodd\" fill-opacity=\"1\" /><path clip-path=\"url(#clip870)\" d=\"M639.803 1117.32 L662.025 1117.32 L662.025 1119.31 L649.479 1151.88 L644.595 1151.88 L656.401 1121.25 L639.803 1121.25 L639.803 1117.32 Z\" fill=\"#000000\" fill-rule=\"evenodd\" fill-opacity=\"1\" /><path clip-path=\"url(#clip870)\" d=\"M671.192 1117.32 L689.548 1117.32 L689.548 1121.25 L675.474 1121.25 L675.474 1129.73 Q676.493 1129.38 677.512 1129.22 Q678.53 1129.03 679.549 1129.03 Q685.336 1129.03 688.715 1132.2 Q692.095 1135.37 692.095 1140.79 Q692.095 1146.37 688.623 1149.47 Q685.15 1152.55 678.831 1152.55 Q676.655 1152.55 674.387 1152.18 Q672.141 1151.81 669.734 1151.07 L669.734 1146.37 Q671.817 1147.5 674.039 1148.06 Q676.262 1148.62 678.738 1148.62 Q682.743 1148.62 685.081 1146.51 Q687.419 1144.4 687.419 1140.79 Q687.419 1137.18 685.081 1135.07 Q682.743 1132.97 678.738 1132.97 Q676.863 1132.97 674.988 1133.38 Q673.137 1133.8 671.192 1134.68 L671.192 1117.32 Z\" fill=\"#000000\" fill-rule=\"evenodd\" fill-opacity=\"1\" /><path clip-path=\"url(#clip870)\" d=\"M554.989 1037.81 L584.665 1037.81 L584.665 1041.75 L554.989 1041.75 L554.989 1037.81 Z\" fill=\"#000000\" fill-rule=\"evenodd\" fill-opacity=\"1\" /><path clip-path=\"url(#clip870)\" d=\"M604.757 1023.16 Q601.146 1023.16 599.317 1026.72 Q597.512 1030.26 597.512 1037.39 Q597.512 1044.5 599.317 1048.07 Q601.146 1051.61 604.757 1051.61 Q608.392 1051.61 610.197 1048.07 Q612.026 1044.5 612.026 1037.39 Q612.026 1030.26 610.197 1026.72 Q608.392 1023.16 604.757 1023.16 M604.757 1019.45 Q610.567 1019.45 613.623 1024.06 Q616.702 1028.64 616.702 1037.39 Q616.702 1046.12 613.623 1050.73 Q610.567 1055.31 604.757 1055.31 Q598.947 1055.31 595.868 1050.73 Q592.813 1046.12 592.813 1037.39 Q592.813 1028.64 595.868 1024.06 Q598.947 1019.45 604.757 1019.45 Z\" fill=\"#000000\" fill-rule=\"evenodd\" fill-opacity=\"1\" /><path clip-path=\"url(#clip870)\" d=\"M624.919 1048.76 L629.803 1048.76 L629.803 1054.64 L624.919 1054.64 L624.919 1048.76 Z\" fill=\"#000000\" fill-rule=\"evenodd\" fill-opacity=\"1\" /><path clip-path=\"url(#clip870)\" d=\"M640.035 1020.08 L658.391 1020.08 L658.391 1024.01 L644.317 1024.01 L644.317 1032.49 Q645.336 1032.14 646.354 1031.98 Q647.373 1031.79 648.391 1031.79 Q654.178 1031.79 657.558 1034.96 Q660.938 1038.14 660.938 1043.55 Q660.938 1049.13 657.465 1052.23 Q653.993 1055.31 647.674 1055.31 Q645.498 1055.31 643.229 1054.94 Q640.984 1054.57 638.577 1053.83 L638.577 1049.13 Q640.66 1050.26 642.882 1050.82 Q645.104 1051.38 647.581 1051.38 Q651.586 1051.38 653.924 1049.27 Q656.262 1047.16 656.262 1043.55 Q656.262 1039.94 653.924 1037.83 Q651.586 1035.73 647.581 1035.73 Q645.706 1035.73 643.831 1036.14 Q641.979 1036.56 640.035 1037.44 L640.035 1020.08 Z\" fill=\"#000000\" fill-rule=\"evenodd\" fill-opacity=\"1\" /><path clip-path=\"url(#clip870)\" d=\"M680.15 1023.16 Q676.539 1023.16 674.711 1026.72 Q672.905 1030.26 672.905 1037.39 Q672.905 1044.5 674.711 1048.07 Q676.539 1051.61 680.15 1051.61 Q683.785 1051.61 685.59 1048.07 Q687.419 1044.5 687.419 1037.39 Q687.419 1030.26 685.59 1026.72 Q683.785 1023.16 680.15 1023.16 M680.15 1019.45 Q685.961 1019.45 689.016 1024.06 Q692.095 1028.64 692.095 1037.39 Q692.095 1046.12 689.016 1050.73 Q685.961 1055.31 680.15 1055.31 Q674.34 1055.31 671.262 1050.73 Q668.206 1046.12 668.206 1037.39 Q668.206 1028.64 671.262 1024.06 Q674.34 1019.45 680.15 1019.45 Z\" fill=\"#000000\" fill-rule=\"evenodd\" fill-opacity=\"1\" /><path clip-path=\"url(#clip870)\" d=\"M555.984 940.572 L585.66 940.572 L585.66 944.507 L555.984 944.507 L555.984 940.572 Z\" fill=\"#000000\" fill-rule=\"evenodd\" fill-opacity=\"1\" /><path clip-path=\"url(#clip870)\" d=\"M605.753 925.919 Q602.142 925.919 600.313 929.484 Q598.507 933.025 598.507 940.155 Q598.507 947.261 600.313 950.826 Q602.142 954.368 605.753 954.368 Q609.387 954.368 611.192 950.826 Q613.021 947.261 613.021 940.155 Q613.021 933.025 611.192 929.484 Q609.387 925.919 605.753 925.919 M605.753 922.215 Q611.563 922.215 614.618 926.822 Q617.697 931.405 617.697 940.155 Q617.697 948.882 614.618 953.488 Q611.563 958.072 605.753 958.072 Q599.942 958.072 596.864 953.488 Q593.808 948.882 593.808 940.155 Q593.808 931.405 596.864 926.822 Q599.942 922.215 605.753 922.215 Z\" fill=\"#000000\" fill-rule=\"evenodd\" fill-opacity=\"1\" /><path clip-path=\"url(#clip870)\" d=\"M625.915 951.521 L630.799 951.521 L630.799 957.4 L625.915 957.4 L625.915 951.521 Z\" fill=\"#000000\" fill-rule=\"evenodd\" fill-opacity=\"1\" /><path clip-path=\"url(#clip870)\" d=\"M645.012 953.465 L661.331 953.465 L661.331 957.4 L639.387 957.4 L639.387 953.465 Q642.049 950.711 646.632 946.081 Q651.239 941.428 652.419 940.086 Q654.664 937.562 655.544 935.826 Q656.447 934.067 656.447 932.377 Q656.447 929.623 654.502 927.887 Q652.581 926.15 649.479 926.15 Q647.28 926.15 644.827 926.914 Q642.396 927.678 639.618 929.229 L639.618 924.507 Q642.442 923.373 644.896 922.794 Q647.35 922.215 649.387 922.215 Q654.757 922.215 657.951 924.9 Q661.146 927.586 661.146 932.076 Q661.146 934.206 660.336 936.127 Q659.549 938.025 657.442 940.618 Q656.863 941.289 653.762 944.507 Q650.66 947.701 645.012 953.465 Z\" fill=\"#000000\" fill-rule=\"evenodd\" fill-opacity=\"1\" /><path clip-path=\"url(#clip870)\" d=\"M671.192 922.84 L689.548 922.84 L689.548 926.775 L675.474 926.775 L675.474 935.248 Q676.493 934.9 677.512 934.738 Q678.53 934.553 679.549 934.553 Q685.336 934.553 688.715 937.724 Q692.095 940.896 692.095 946.312 Q692.095 951.891 688.623 954.993 Q685.15 958.072 678.831 958.072 Q676.655 958.072 674.387 957.701 Q672.141 957.331 669.734 956.59 L669.734 951.891 Q671.817 953.025 674.039 953.581 Q676.262 954.136 678.738 954.136 Q682.743 954.136 685.081 952.03 Q687.419 949.923 687.419 946.312 Q687.419 942.701 685.081 940.595 Q682.743 938.488 678.738 938.488 Q676.863 938.488 674.988 938.905 Q673.137 939.322 671.192 940.201 L671.192 922.84 Z\" fill=\"#000000\" fill-rule=\"evenodd\" fill-opacity=\"1\" /><path clip-path=\"url(#clip870)\" d=\"M604.757 828.68 Q601.146 828.68 599.317 832.244 Q597.512 835.786 597.512 842.916 Q597.512 850.022 599.317 853.587 Q601.146 857.128 604.757 857.128 Q608.392 857.128 610.197 853.587 Q612.026 850.022 612.026 842.916 Q612.026 835.786 610.197 832.244 Q608.392 828.68 604.757 828.68 M604.757 824.976 Q610.567 824.976 613.623 829.582 Q616.702 834.166 616.702 842.916 Q616.702 851.642 613.623 856.249 Q610.567 860.832 604.757 860.832 Q598.947 860.832 595.868 856.249 Q592.813 851.642 592.813 842.916 Q592.813 834.166 595.868 829.582 Q598.947 824.976 604.757 824.976 Z\" fill=\"#000000\" fill-rule=\"evenodd\" fill-opacity=\"1\" /><path clip-path=\"url(#clip870)\" d=\"M624.919 854.281 L629.803 854.281 L629.803 860.161 L624.919 860.161 L624.919 854.281 Z\" fill=\"#000000\" fill-rule=\"evenodd\" fill-opacity=\"1\" /><path clip-path=\"url(#clip870)\" d=\"M649.989 828.68 Q646.377 828.68 644.549 832.244 Q642.743 835.786 642.743 842.916 Q642.743 850.022 644.549 853.587 Q646.377 857.128 649.989 857.128 Q653.623 857.128 655.428 853.587 Q657.257 850.022 657.257 842.916 Q657.257 835.786 655.428 832.244 Q653.623 828.68 649.989 828.68 M649.989 824.976 Q655.799 824.976 658.854 829.582 Q661.933 834.166 661.933 842.916 Q661.933 851.642 658.854 856.249 Q655.799 860.832 649.989 860.832 Q644.178 860.832 641.1 856.249 Q638.044 851.642 638.044 842.916 Q638.044 834.166 641.1 829.582 Q644.178 824.976 649.989 824.976 Z\" fill=\"#000000\" fill-rule=\"evenodd\" fill-opacity=\"1\" /><path clip-path=\"url(#clip870)\" d=\"M680.15 828.68 Q676.539 828.68 674.711 832.244 Q672.905 835.786 672.905 842.916 Q672.905 850.022 674.711 853.587 Q676.539 857.128 680.15 857.128 Q683.785 857.128 685.59 853.587 Q687.419 850.022 687.419 842.916 Q687.419 835.786 685.59 832.244 Q683.785 828.68 680.15 828.68 M680.15 824.976 Q685.961 824.976 689.016 829.582 Q692.095 834.166 692.095 842.916 Q692.095 851.642 689.016 856.249 Q685.961 860.832 680.15 860.832 Q674.34 860.832 671.262 856.249 Q668.206 851.642 668.206 842.916 Q668.206 834.166 671.262 829.582 Q674.34 824.976 680.15 824.976 Z\" fill=\"#000000\" fill-rule=\"evenodd\" fill-opacity=\"1\" /><path clip-path=\"url(#clip870)\" d=\"M605.753 731.44 Q602.142 731.44 600.313 735.005 Q598.507 738.547 598.507 745.676 Q598.507 752.783 600.313 756.347 Q602.142 759.889 605.753 759.889 Q609.387 759.889 611.192 756.347 Q613.021 752.783 613.021 745.676 Q613.021 738.547 611.192 735.005 Q609.387 731.44 605.753 731.44 M605.753 727.736 Q611.563 727.736 614.618 732.343 Q617.697 736.926 617.697 745.676 Q617.697 754.403 614.618 759.009 Q611.563 763.593 605.753 763.593 Q599.942 763.593 596.864 759.009 Q593.808 754.403 593.808 745.676 Q593.808 736.926 596.864 732.343 Q599.942 727.736 605.753 727.736 Z\" fill=\"#000000\" fill-rule=\"evenodd\" fill-opacity=\"1\" /><path clip-path=\"url(#clip870)\" d=\"M625.915 757.042 L630.799 757.042 L630.799 762.921 L625.915 762.921 L625.915 757.042 Z\" fill=\"#000000\" fill-rule=\"evenodd\" fill-opacity=\"1\" /><path clip-path=\"url(#clip870)\" d=\"M645.012 758.986 L661.331 758.986 L661.331 762.921 L639.387 762.921 L639.387 758.986 Q642.049 756.232 646.632 751.602 Q651.239 746.949 652.419 745.607 Q654.664 743.084 655.544 741.347 Q656.447 739.588 656.447 737.898 Q656.447 735.144 654.502 733.408 Q652.581 731.672 649.479 731.672 Q647.28 731.672 644.827 732.435 Q642.396 733.199 639.618 734.75 L639.618 730.028 Q642.442 728.894 644.896 728.315 Q647.35 727.736 649.387 727.736 Q654.757 727.736 657.951 730.422 Q661.146 733.107 661.146 737.597 Q661.146 739.727 660.336 741.648 Q659.549 743.547 657.442 746.139 Q656.863 746.81 653.762 750.028 Q650.66 753.222 645.012 758.986 Z\" fill=\"#000000\" fill-rule=\"evenodd\" fill-opacity=\"1\" /><path clip-path=\"url(#clip870)\" d=\"M671.192 728.361 L689.548 728.361 L689.548 732.297 L675.474 732.297 L675.474 740.769 Q676.493 740.422 677.512 740.26 Q678.53 740.074 679.549 740.074 Q685.336 740.074 688.715 743.246 Q692.095 746.417 692.095 751.834 Q692.095 757.412 688.623 760.514 Q685.15 763.593 678.831 763.593 Q676.655 763.593 674.387 763.222 Q672.141 762.852 669.734 762.111 L669.734 757.412 Q671.817 758.546 674.039 759.102 Q676.262 759.658 678.738 759.658 Q682.743 759.658 685.081 757.551 Q687.419 755.445 687.419 751.834 Q687.419 748.222 685.081 746.116 Q682.743 744.01 678.738 744.01 Q676.863 744.01 674.988 744.426 Q673.137 744.843 671.192 745.722 L671.192 728.361 Z\" fill=\"#000000\" fill-rule=\"evenodd\" fill-opacity=\"1\" /><path clip-path=\"url(#clip870)\" d=\"M604.757 634.201 Q601.146 634.201 599.317 637.765 Q597.512 641.307 597.512 648.437 Q597.512 655.543 599.317 659.108 Q601.146 662.65 604.757 662.65 Q608.392 662.65 610.197 659.108 Q612.026 655.543 612.026 648.437 Q612.026 641.307 610.197 637.765 Q608.392 634.201 604.757 634.201 M604.757 630.497 Q610.567 630.497 613.623 635.103 Q616.702 639.687 616.702 648.437 Q616.702 657.164 613.623 661.77 Q610.567 666.353 604.757 666.353 Q598.947 666.353 595.868 661.77 Q592.813 657.164 592.813 648.437 Q592.813 639.687 595.868 635.103 Q598.947 630.497 604.757 630.497 Z\" fill=\"#000000\" fill-rule=\"evenodd\" fill-opacity=\"1\" /><path clip-path=\"url(#clip870)\" d=\"M624.919 659.802 L629.803 659.802 L629.803 665.682 L624.919 665.682 L624.919 659.802 Z\" fill=\"#000000\" fill-rule=\"evenodd\" fill-opacity=\"1\" /><path clip-path=\"url(#clip870)\" d=\"M640.035 631.122 L658.391 631.122 L658.391 635.057 L644.317 635.057 L644.317 643.529 Q645.336 643.182 646.354 643.02 Q647.373 642.835 648.391 642.835 Q654.178 642.835 657.558 646.006 Q660.938 649.177 660.938 654.594 Q660.938 660.173 657.465 663.275 Q653.993 666.353 647.674 666.353 Q645.498 666.353 643.229 665.983 Q640.984 665.613 638.577 664.872 L638.577 660.173 Q640.66 661.307 642.882 661.863 Q645.104 662.418 647.581 662.418 Q651.586 662.418 653.924 660.312 Q656.262 658.205 656.262 654.594 Q656.262 650.983 653.924 648.877 Q651.586 646.77 647.581 646.77 Q645.706 646.77 643.831 647.187 Q641.979 647.603 640.035 648.483 L640.035 631.122 Z\" fill=\"#000000\" fill-rule=\"evenodd\" fill-opacity=\"1\" /><path clip-path=\"url(#clip870)\" d=\"M680.15 634.201 Q676.539 634.201 674.711 637.765 Q672.905 641.307 672.905 648.437 Q672.905 655.543 674.711 659.108 Q676.539 662.65 680.15 662.65 Q683.785 662.65 685.59 659.108 Q687.419 655.543 687.419 648.437 Q687.419 641.307 685.59 637.765 Q683.785 634.201 680.15 634.201 M680.15 630.497 Q685.961 630.497 689.016 635.103 Q692.095 639.687 692.095 648.437 Q692.095 657.164 689.016 661.77 Q685.961 666.353 680.15 666.353 Q674.34 666.353 671.262 661.77 Q668.206 657.164 668.206 648.437 Q668.206 639.687 671.262 635.103 Q674.34 630.497 680.15 630.497 Z\" fill=\"#000000\" fill-rule=\"evenodd\" fill-opacity=\"1\" /><path clip-path=\"url(#clip870)\" d=\"M605.753 536.961 Q602.142 536.961 600.313 540.526 Q598.507 544.068 598.507 551.197 Q598.507 558.304 600.313 561.869 Q602.142 565.41 605.753 565.41 Q609.387 565.41 611.192 561.869 Q613.021 558.304 613.021 551.197 Q613.021 544.068 611.192 540.526 Q609.387 536.961 605.753 536.961 M605.753 533.258 Q611.563 533.258 614.618 537.864 Q617.697 542.447 617.697 551.197 Q617.697 559.924 614.618 564.531 Q611.563 569.114 605.753 569.114 Q599.942 569.114 596.864 564.531 Q593.808 559.924 593.808 551.197 Q593.808 542.447 596.864 537.864 Q599.942 533.258 605.753 533.258 Z\" fill=\"#000000\" fill-rule=\"evenodd\" fill-opacity=\"1\" /><path clip-path=\"url(#clip870)\" d=\"M625.915 562.563 L630.799 562.563 L630.799 568.443 L625.915 568.443 L625.915 562.563 Z\" fill=\"#000000\" fill-rule=\"evenodd\" fill-opacity=\"1\" /><path clip-path=\"url(#clip870)\" d=\"M639.803 533.883 L662.025 533.883 L662.025 535.873 L649.479 568.443 L644.595 568.443 L656.401 537.818 L639.803 537.818 L639.803 533.883 Z\" fill=\"#000000\" fill-rule=\"evenodd\" fill-opacity=\"1\" /><path clip-path=\"url(#clip870)\" d=\"M671.192 533.883 L689.548 533.883 L689.548 537.818 L675.474 537.818 L675.474 546.29 Q676.493 545.943 677.512 545.781 Q678.53 545.595 679.549 545.595 Q685.336 545.595 688.715 548.767 Q692.095 551.938 692.095 557.355 Q692.095 562.933 688.623 566.035 Q685.15 569.114 678.831 569.114 Q676.655 569.114 674.387 568.743 Q672.141 568.373 669.734 567.632 L669.734 562.933 Q671.817 564.068 674.039 564.623 Q676.262 565.179 678.738 565.179 Q682.743 565.179 685.081 563.072 Q687.419 560.966 687.419 557.355 Q687.419 553.744 685.081 551.637 Q682.743 549.531 678.738 549.531 Q676.863 549.531 674.988 549.947 Q673.137 550.364 671.192 551.244 L671.192 533.883 Z\" fill=\"#000000\" fill-rule=\"evenodd\" fill-opacity=\"1\" /><polyline clip-path=\"url(#clip872)\" style=\"stroke:#009af9; stroke-linecap:round; stroke-linejoin:round; stroke-width:4; stroke-opacity:1; fill:none\" points=\"1144.96,289.36 1144.96,708.925 1322.29,1169.48 1431.89,1034.55 1322.29,490.607 1144.96,289.36 \"/>\n",
       "<path clip-path=\"url(#clip870)\" d=\"M2016.5 198.898 L2281.8 198.898 L2281.8 95.2176 L2016.5 95.2176  Z\" fill=\"#ffffff\" fill-rule=\"evenodd\" fill-opacity=\"1\"/>\n",
       "<polyline clip-path=\"url(#clip870)\" style=\"stroke:#000000; stroke-linecap:round; stroke-linejoin:round; stroke-width:4; stroke-opacity:1; fill:none\" points=\"2016.5,198.898 2281.8,198.898 2281.8,95.2176 2016.5,95.2176 2016.5,198.898 \"/>\n",
       "<polyline clip-path=\"url(#clip870)\" style=\"stroke:#009af9; stroke-linecap:round; stroke-linejoin:round; stroke-width:4; stroke-opacity:1; fill:none\" points=\"2040.16,147.058 2182.07,147.058 \"/>\n",
       "<path clip-path=\"url(#clip870)\" d=\"M2219.56 166.745 Q2217.76 171.375 2216.04 172.787 Q2214.33 174.199 2211.46 174.199 L2208.06 174.199 L2208.06 170.634 L2210.56 170.634 Q2212.32 170.634 2213.29 169.8 Q2214.26 168.967 2215.44 165.865 L2216.2 163.921 L2205.72 138.412 L2210.23 138.412 L2218.33 158.689 L2226.44 138.412 L2230.95 138.412 L2219.56 166.745 Z\" fill=\"#000000\" fill-rule=\"evenodd\" fill-opacity=\"1\" /><path clip-path=\"url(#clip870)\" d=\"M2238.24 160.402 L2245.88 160.402 L2245.88 134.037 L2237.57 135.703 L2237.57 131.444 L2245.83 129.778 L2250.51 129.778 L2250.51 160.402 L2258.15 160.402 L2258.15 164.338 L2238.24 164.338 L2238.24 160.402 Z\" fill=\"#000000\" fill-rule=\"evenodd\" fill-opacity=\"1\" /></svg>\n"
      ]
     },
     "metadata": {},
     "output_type": "display_data"
    }
   ],
   "source": [
    "poly = Polyhedron(Dodecahedron.verts[[3,11,12,17,4]], [[1,2], [2,3], [3,4], [4, 5], [5,1]], [[1,2,3,4,5]])\n",
    "plotPolyhedron(poly)"
   ]
  },
  {
   "cell_type": "code",
   "execution_count": 2,
   "metadata": {},
   "outputs": [
    {
     "name": "stdout",
     "output_type": "stream",
     "text": [
      "current facet:"
     ]
    },
    {
     "name": "stdout",
     "output_type": "stream",
     "text": [
      "[1, 4, 3, 5, 2]\n",
      "current subfacet:[1, 4, 3, 5, 2]"
     ]
    },
    {
     "name": "stdout",
     "output_type": "stream",
     "text": [
      "\n",
      "current subfacet:[4, 3, 5, 2]\n",
      "current subfacet:[3, 5, 2]\n",
      "current facet:[1, 7, 6, 8, 2]\n",
      "current subfacet:[1, 7, 6, 8, 2]\n",
      "current subfacet:[7, 6, 8, 2]\n",
      "current subfacet:[6, 8, 2]\n",
      "current facet:[9, 12, 11, 13, 10]\n",
      "current subfacet:[9, 12, 11, 13, 10]\n",
      "current subfacet:[12, 11, 13, 10]\n",
      "current subfacet:["
     ]
    },
    {
     "name": "stdout",
     "output_type": "stream",
     "text": [
      "11, 13, 10]\n",
      "current facet:[9, 15, 14, 16, 10]\n",
      "current subfacet:[9"
     ]
    }
   ],
   "source": [
    "triangulatePolyhedron(Dodecahedron)"
   ]
  },
  {
   "cell_type": "code",
   "execution_count": null,
   "metadata": {},
   "outputs": [],
   "source": []
  },
  {
   "cell_type": "markdown",
   "metadata": {},
   "source": [
    "## Experimente"
   ]
  },
  {
   "cell_type": "code",
   "execution_count": 17,
   "metadata": {},
   "outputs": [
    {
     "data": {
      "text/plain": [
       "GLMakie.Screen(...)"
      ]
     },
     "metadata": {},
     "output_type": "display_data"
    }
   ],
   "source": [
    "using GeometryBasics, GLMakie\n",
    "\n",
    "X = [0. 1 1 2; 1 1 2 2; 0 0 1 1]\n",
    "Y = [1. 1 1 1; 1 0 1 0; 0 0 0 0]\n",
    "Z = [1. 1 1 1; 1 0 1 0; 0 0 0 0]\n",
    "C = [.5 1. 1. .5; 1. .5 .5 .1667; .333 .333 .5 .5]\n",
    "\n",
    "xyz = reshape([X[:] Y[:] Z[:]]', :)\n",
    "fap = poly(connect(xyz, Point{3}), connect(1:length(X), TriangleFace); strokewidth=1)\n",
    "\n",
    "display(fap)"
   ]
  },
  {
   "cell_type": "code",
   "execution_count": 19,
   "metadata": {},
   "outputs": [
    {
     "data": {
      "text/plain": [
       "12-element reinterpret(Point3{Float64}, ::TupleView{Tuple{Float64, Float64, Float64}, 3, 3, Base.ReshapedArray{Float64, 1, LinearAlgebra.Adjoint{Float64, Matrix{Float64}}, Tuple{Base.MultiplicativeInverses.SignedMultiplicativeInverse{Int64}}}}):\n",
       " [0.0, 1.0, 1.0]\n",
       " [1.0, 1.0, 1.0]\n",
       " [0.0, 0.0, 0.0]\n",
       " [1.0, 1.0, 1.0]\n",
       " [1.0, 0.0, 0.0]\n",
       " [0.0, 0.0, 0.0]\n",
       " [1.0, 1.0, 1.0]\n",
       " [2.0, 1.0, 1.0]\n",
       " [1.0, 0.0, 0.0]\n",
       " [2.0, 1.0, 1.0]\n",
       " [2.0, 0.0, 0.0]\n",
       " [1.0, 0.0, 0.0]"
      ]
     },
     "metadata": {},
     "output_type": "display_data"
    }
   ],
   "source": [
    "connect(xyz, Point{3})"
   ]
  },
  {
   "cell_type": "code",
   "execution_count": 23,
   "metadata": {},
   "outputs": [],
   "source": [
    "using PolygonOps"
   ]
  },
  {
   "cell_type": "code",
   "execution_count": 26,
   "metadata": {},
   "outputs": [
    {
     "data": {
      "text/plain": [
       "-1"
      ]
     },
     "metadata": {},
     "output_type": "display_data"
    }
   ],
   "source": [
    "inpolygon([1,0,0], [[1,0,0], [0,1,0], [0,0,1], [1,0,0]])"
   ]
  },
  {
   "cell_type": "code",
   "execution_count": 31,
   "metadata": {},
   "outputs": [
    {
     "data": {
      "text/plain": [
       "1-element Vector{Int64}:\n",
       " 3"
      ]
     },
     "metadata": {},
     "output_type": "display_data"
    }
   ],
   "source": [
    "a = [1,2,3]\n",
    "a[a.>2]"
   ]
  },
  {
   "cell_type": "code",
   "execution_count": 2,
   "metadata": {},
   "outputs": [
    {
     "ename": "UndefVarError",
     "evalue": "UndefVarError: Figure not defined",
     "output_type": "error",
     "traceback": [
      "UndefVarError: Figure not defined\n",
      "\n",
      "Stacktrace:\n",
      " [1] top-level scope\n",
      "   @ c:\\Users\\sasch\\Documents\\Code-Projects\\Non-convex-Interlocking-\\src\\Sascha\\non-convex-interlocking.ipynb:4"
     ]
    }
   ],
   "source": [
    "using Makie.GeometryBasics\n",
    "\n",
    "\n",
    "f = Figure()\n",
    "Axis(f[1, 1])\n",
    "\n",
    "poly!(Point2f[(0, 0), (2, 0), (3, 1), (1, 1)], color = :red, strokecolor = :black, strokewidth = 1)\n",
    "\n",
    "f"
   ]
  },
  {
   "cell_type": "code",
   "execution_count": 6,
   "metadata": {},
   "outputs": [
    {
     "ename": "ErrorException",
     "evalue": "There is no current axis to plot into.",
     "output_type": "error",
     "traceback": [
      "There is no current axis to plot into.\n",
      "\n",
      "Stacktrace:\n",
      " [1] error(s::String)\n",
      "   @ Base .\\error.jl:35\n",
      " [2] plot!(::Type{Poly}, ::Figure, ::Vararg{Any}; kw_attributes::Base.Pairs{Symbol, Any, Tuple{Symbol, Symbol}, NamedTuple{(:color, :strokewidth), Tuple{Vector{Float64}, Int64}}})\n",
      "   @ Makie C:\\Users\\sasch\\.julia\\packages\\Makie\\gAmAB\\src\\figureplotting.jl:65\n",
      " [3] poly!(::Figure, ::Vararg{Any}; attributes::Base.Pairs{Symbol, Any, Tuple{Symbol, Symbol}, NamedTuple{(:color, :strokewidth), Tuple{Vector{Float64}, Int64}}})\n",
      "   @ MakieCore C:\\Users\\sasch\\.julia\\packages\\MakieCore\\LOKNz\\src\\recipes.jl:38\n",
      " [4] top-level scope\n",
      "   @ c:\\Users\\sasch\\Documents\\Code-Projects\\Non-convex-Interlocking-\\src\\Sascha\\non-convex-interlocking.ipynb:11"
     ]
    }
   ],
   "source": [
    "using Makie.GeometryBasics, GLMakie\n",
    "\n",
    "X = [0. 1 1 2; 1 1 2 2; 0 0 1 1]\n",
    "Y = [1. 1 1 1; 1 0 1 0; 0 0 0 0]\n",
    "Z = [1. 1 1 1; 1 0 1 0; 0 0 0 0]\n",
    "C = [.5 1. 1. .5; 1. .5 .5 .1667; .333 .333 .5 .5]\n",
    "\n",
    "fap = Figure()\n",
    "\n",
    "xyz = reshape([X[:] Y[:] Z[:]]', :)\n",
    "poly!(fap, connect(xyz, Point{3}), connect(1:length(X), TriangleFace); color=C[:], strokewidth=1)\n",
    "\n",
    "display(fap)"
   ]
  },
  {
   "cell_type": "code",
   "execution_count": 2,
   "metadata": {},
   "outputs": [
    {
     "data": {
      "application/vnd.plotly.v1+json": {
       "config": {
        "editable": false,
        "responsive": true,
        "scrollZoom": true,
        "showLink": false,
        "staticPlot": false
       },
       "data": [
        {
         "facecolor": [
          "rgb(50, 200, 200)",
          "rgb(50, 200, 200)",
          "rgb(100, 200, 255)",
          "rgb(100, 200, 255)",
          "rgb(150, 200, 115)",
          "rgb(150, 200, 115)",
          "rgb(200, 200, 50)",
          "rgb(200, 200, 50)",
          "rgb(230, 200, 10)",
          "rgb(230, 200, 10)",
          "rgb(255, 140, 0)",
          "rgb(255, 140, 0)"
         ],
         "i": [
          7,
          0,
          0,
          0,
          4,
          4,
          2,
          6,
          4,
          0,
          3,
          7
         ],
         "j": [
          3,
          4,
          1,
          2,
          5,
          6,
          5,
          5,
          0,
          1,
          2,
          2
         ],
         "k": [
          0,
          7,
          2,
          3,
          6,
          7,
          1,
          2,
          5,
          5,
          7,
          6
         ],
         "type": "mesh3d",
         "x": [
          0,
          0,
          1,
          1,
          0,
          0,
          1,
          1
         ],
         "y": [
          0,
          1,
          1,
          0,
          0,
          1,
          1,
          0
         ],
         "z": [
          0,
          0,
          0,
          0,
          1,
          1,
          1,
          1
         ]
        }
       ],
       "frames": [],
       "layout": {
        "margin": {
         "b": 50,
         "l": 50,
         "r": 50,
         "t": 60
        },
        "template": {
         "data": {
          "bar": [
           {
            "error_x": {
             "color": "#2a3f5f"
            },
            "error_y": {
             "color": "#2a3f5f"
            },
            "marker": {
             "line": {
              "color": "#E5ECF6",
              "width": 0.5
             }
            },
            "type": "bar"
           }
          ],
          "barpolar": [
           {
            "marker": {
             "line": {
              "color": "#E5ECF6",
              "width": 0.5
             }
            },
            "type": "barpolar"
           }
          ],
          "carpet": [
           {
            "aaxis": {
             "endlinecolor": "#2a3f5f",
             "gridcolor": "white",
             "linecolor": "white",
             "minorgridcolor": "white",
             "startlinecolor": "#2a3f5f"
            },
            "baxis": {
             "endlinecolor": "#2a3f5f",
             "gridcolor": "white",
             "linecolor": "white",
             "minorgridcolor": "white",
             "startlinecolor": "#2a3f5f"
            },
            "type": "carpet"
           }
          ],
          "choropleth": [
           {
            "colorbar": {
             "outlinewidth": 0,
             "ticks": ""
            },
            "type": "choropleth"
           }
          ],
          "contour": [
           {
            "colorbar": {
             "outlinewidth": 0,
             "ticks": ""
            },
            "colorscale": [
             [
              0,
              "#0d0887"
             ],
             [
              0.1111111111111111,
              "#46039f"
             ],
             [
              0.2222222222222222,
              "#7201a8"
             ],
             [
              0.3333333333333333,
              "#9c179e"
             ],
             [
              0.4444444444444444,
              "#bd3786"
             ],
             [
              0.5555555555555556,
              "#d8576b"
             ],
             [
              0.6666666666666666,
              "#ed7953"
             ],
             [
              0.7777777777777778,
              "#fb9f3a"
             ],
             [
              0.8888888888888888,
              "#fdca26"
             ],
             [
              1,
              "#f0f921"
             ]
            ],
            "type": "contour"
           }
          ],
          "contourcarpet": [
           {
            "colorbar": {
             "outlinewidth": 0,
             "ticks": ""
            },
            "type": "contourcarpet"
           }
          ],
          "heatmap": [
           {
            "colorbar": {
             "outlinewidth": 0,
             "ticks": ""
            },
            "colorscale": [
             [
              0,
              "#0d0887"
             ],
             [
              0.1111111111111111,
              "#46039f"
             ],
             [
              0.2222222222222222,
              "#7201a8"
             ],
             [
              0.3333333333333333,
              "#9c179e"
             ],
             [
              0.4444444444444444,
              "#bd3786"
             ],
             [
              0.5555555555555556,
              "#d8576b"
             ],
             [
              0.6666666666666666,
              "#ed7953"
             ],
             [
              0.7777777777777778,
              "#fb9f3a"
             ],
             [
              0.8888888888888888,
              "#fdca26"
             ],
             [
              1,
              "#f0f921"
             ]
            ],
            "type": "heatmap"
           }
          ],
          "heatmapgl": [
           {
            "colorbar": {
             "outlinewidth": 0,
             "ticks": ""
            },
            "colorscale": [
             [
              0,
              "#0d0887"
             ],
             [
              0.1111111111111111,
              "#46039f"
             ],
             [
              0.2222222222222222,
              "#7201a8"
             ],
             [
              0.3333333333333333,
              "#9c179e"
             ],
             [
              0.4444444444444444,
              "#bd3786"
             ],
             [
              0.5555555555555556,
              "#d8576b"
             ],
             [
              0.6666666666666666,
              "#ed7953"
             ],
             [
              0.7777777777777778,
              "#fb9f3a"
             ],
             [
              0.8888888888888888,
              "#fdca26"
             ],
             [
              1,
              "#f0f921"
             ]
            ],
            "type": "heatmapgl"
           }
          ],
          "histogram": [
           {
            "marker": {
             "colorbar": {
              "outlinewidth": 0,
              "ticks": ""
             }
            },
            "type": "histogram"
           }
          ],
          "histogram2d": [
           {
            "colorbar": {
             "outlinewidth": 0,
             "ticks": ""
            },
            "colorscale": [
             [
              0,
              "#0d0887"
             ],
             [
              0.1111111111111111,
              "#46039f"
             ],
             [
              0.2222222222222222,
              "#7201a8"
             ],
             [
              0.3333333333333333,
              "#9c179e"
             ],
             [
              0.4444444444444444,
              "#bd3786"
             ],
             [
              0.5555555555555556,
              "#d8576b"
             ],
             [
              0.6666666666666666,
              "#ed7953"
             ],
             [
              0.7777777777777778,
              "#fb9f3a"
             ],
             [
              0.8888888888888888,
              "#fdca26"
             ],
             [
              1,
              "#f0f921"
             ]
            ],
            "type": "histogram2d"
           }
          ],
          "histogram2dcontour": [
           {
            "colorbar": {
             "outlinewidth": 0,
             "ticks": ""
            },
            "colorscale": [
             [
              0,
              "#0d0887"
             ],
             [
              0.1111111111111111,
              "#46039f"
             ],
             [
              0.2222222222222222,
              "#7201a8"
             ],
             [
              0.3333333333333333,
              "#9c179e"
             ],
             [
              0.4444444444444444,
              "#bd3786"
             ],
             [
              0.5555555555555556,
              "#d8576b"
             ],
             [
              0.6666666666666666,
              "#ed7953"
             ],
             [
              0.7777777777777778,
              "#fb9f3a"
             ],
             [
              0.8888888888888888,
              "#fdca26"
             ],
             [
              1,
              "#f0f921"
             ]
            ],
            "type": "histogram2dcontour"
           }
          ],
          "mesh3d": [
           {
            "colorbar": {
             "outlinewidth": 0,
             "ticks": ""
            },
            "type": "mesh3d"
           }
          ],
          "parcoords": [
           {
            "line": {
             "colorbar": {
              "outlinewidth": 0,
              "ticks": ""
             }
            },
            "type": "parcoords"
           }
          ],
          "pie": [
           {
            "automargin": true,
            "type": "pie"
           }
          ],
          "scatter": [
           {
            "marker": {
             "colorbar": {
              "outlinewidth": 0,
              "ticks": ""
             }
            },
            "type": "scatter"
           }
          ],
          "scatter3d": [
           {
            "line": {
             "colorbar": {
              "outlinewidth": 0,
              "ticks": ""
             }
            },
            "marker": {
             "colorbar": {
              "outlinewidth": 0,
              "ticks": ""
             }
            },
            "type": "scatter3d"
           }
          ],
          "scattercarpet": [
           {
            "marker": {
             "colorbar": {
              "outlinewidth": 0,
              "ticks": ""
             }
            },
            "type": "scattercarpet"
           }
          ],
          "scattergeo": [
           {
            "marker": {
             "colorbar": {
              "outlinewidth": 0,
              "ticks": ""
             }
            },
            "type": "scattergeo"
           }
          ],
          "scattergl": [
           {
            "marker": {
             "colorbar": {
              "outlinewidth": 0,
              "ticks": ""
             }
            },
            "type": "scattergl"
           }
          ],
          "scattermapbox": [
           {
            "marker": {
             "colorbar": {
              "outlinewidth": 0,
              "ticks": ""
             }
            },
            "type": "scattermapbox"
           }
          ],
          "scatterpolar": [
           {
            "marker": {
             "colorbar": {
              "outlinewidth": 0,
              "ticks": ""
             }
            },
            "type": "scatterpolar"
           }
          ],
          "scatterpolargl": [
           {
            "marker": {
             "colorbar": {
              "outlinewidth": 0,
              "ticks": ""
             }
            },
            "type": "scatterpolargl"
           }
          ],
          "scatterternary": [
           {
            "marker": {
             "colorbar": {
              "outlinewidth": 0,
              "ticks": ""
             }
            },
            "type": "scatterternary"
           }
          ],
          "surface": [
           {
            "colorbar": {
             "outlinewidth": 0,
             "ticks": ""
            },
            "colorscale": [
             [
              0,
              "#0d0887"
             ],
             [
              0.1111111111111111,
              "#46039f"
             ],
             [
              0.2222222222222222,
              "#7201a8"
             ],
             [
              0.3333333333333333,
              "#9c179e"
             ],
             [
              0.4444444444444444,
              "#bd3786"
             ],
             [
              0.5555555555555556,
              "#d8576b"
             ],
             [
              0.6666666666666666,
              "#ed7953"
             ],
             [
              0.7777777777777778,
              "#fb9f3a"
             ],
             [
              0.8888888888888888,
              "#fdca26"
             ],
             [
              1,
              "#f0f921"
             ]
            ],
            "type": "surface"
           }
          ],
          "table": [
           {
            "cells": {
             "fill": {
              "color": "#EBF0F8"
             },
             "line": {
              "color": "white"
             }
            },
            "header": {
             "fill": {
              "color": "#C8D4E3"
             },
             "line": {
              "color": "white"
             }
            },
            "type": "table"
           }
          ]
         },
         "layout": {
          "annotationdefaults": {
           "arrowcolor": "#2a3f5f",
           "arrowhead": 0,
           "arrowwidth": 1
          },
          "autotypenumbers": "strict",
          "coloraxis": {
           "colorbar": {
            "outlinewidth": 0,
            "ticks": ""
           }
          },
          "colorscale": {
           "diverging": [
            [
             0,
             "#8e0152"
            ],
            [
             0.1,
             "#c51b7d"
            ],
            [
             0.2,
             "#de77ae"
            ],
            [
             0.3,
             "#f1b6da"
            ],
            [
             0.4,
             "#fde0ef"
            ],
            [
             0.5,
             "#f7f7f7"
            ],
            [
             0.6,
             "#e6f5d0"
            ],
            [
             0.7,
             "#b8e186"
            ],
            [
             0.8,
             "#7fbc41"
            ],
            [
             0.9,
             "#4d9221"
            ],
            [
             1,
             "#276419"
            ]
           ],
           "sequential": [
            [
             0,
             "#0d0887"
            ],
            [
             0.1111111111111111,
             "#46039f"
            ],
            [
             0.2222222222222222,
             "#7201a8"
            ],
            [
             0.3333333333333333,
             "#9c179e"
            ],
            [
             0.4444444444444444,
             "#bd3786"
            ],
            [
             0.5555555555555556,
             "#d8576b"
            ],
            [
             0.6666666666666666,
             "#ed7953"
            ],
            [
             0.7777777777777778,
             "#fb9f3a"
            ],
            [
             0.8888888888888888,
             "#fdca26"
            ],
            [
             1,
             "#f0f921"
            ]
           ],
           "sequentialminus": [
            [
             0,
             "#0d0887"
            ],
            [
             0.1111111111111111,
             "#46039f"
            ],
            [
             0.2222222222222222,
             "#7201a8"
            ],
            [
             0.3333333333333333,
             "#9c179e"
            ],
            [
             0.4444444444444444,
             "#bd3786"
            ],
            [
             0.5555555555555556,
             "#d8576b"
            ],
            [
             0.6666666666666666,
             "#ed7953"
            ],
            [
             0.7777777777777778,
             "#fb9f3a"
            ],
            [
             0.8888888888888888,
             "#fdca26"
            ],
            [
             1,
             "#f0f921"
            ]
           ]
          },
          "colorway": [
           "#636efa",
           "#EF553B",
           "#00cc96",
           "#ab63fa",
           "#FFA15A",
           "#19d3f3",
           "#FF6692",
           "#B6E880",
           "#FF97FF",
           "#FECB52"
          ],
          "font": {
           "color": "#2a3f5f"
          },
          "geo": {
           "bgcolor": "white",
           "lakecolor": "white",
           "landcolor": "#E5ECF6",
           "showlakes": true,
           "showland": true,
           "subunitcolor": "white"
          },
          "hoverlabel": {
           "align": "left"
          },
          "hovermode": "closest",
          "mapbox": {
           "style": "light"
          },
          "paper_bgcolor": "white",
          "plot_bgcolor": "#E5ECF6",
          "polar": {
           "angularaxis": {
            "gridcolor": "white",
            "linecolor": "white",
            "ticks": ""
           },
           "bgcolor": "#E5ECF6",
           "radialaxis": {
            "gridcolor": "white",
            "linecolor": "white",
            "ticks": ""
           }
          },
          "scene": {
           "xaxis": {
            "backgroundcolor": "#E5ECF6",
            "gridcolor": "white",
            "gridwidth": 2,
            "linecolor": "white",
            "showbackground": true,
            "ticks": "",
            "zerolinecolor": "white"
           },
           "yaxis": {
            "backgroundcolor": "#E5ECF6",
            "gridcolor": "white",
            "gridwidth": 2,
            "linecolor": "white",
            "showbackground": true,
            "ticks": "",
            "zerolinecolor": "white"
           },
           "zaxis": {
            "backgroundcolor": "#E5ECF6",
            "gridcolor": "white",
            "gridwidth": 2,
            "linecolor": "white",
            "showbackground": true,
            "ticks": "",
            "zerolinecolor": "white"
           }
          },
          "shapedefaults": {
           "line": {
            "color": "#2a3f5f"
           }
          },
          "ternary": {
           "aaxis": {
            "gridcolor": "white",
            "linecolor": "white",
            "ticks": ""
           },
           "baxis": {
            "gridcolor": "white",
            "linecolor": "white",
            "ticks": ""
           },
           "bgcolor": "#E5ECF6",
           "caxis": {
            "gridcolor": "white",
            "linecolor": "white",
            "ticks": ""
           }
          },
          "title": {
           "x": 0.05
          },
          "xaxis": {
           "automargin": true,
           "gridcolor": "white",
           "linecolor": "white",
           "ticks": "",
           "title": {
            "standoff": 15
           },
           "zerolinecolor": "white",
           "zerolinewidth": 2
          },
          "yaxis": {
           "automargin": true,
           "gridcolor": "white",
           "linecolor": "white",
           "ticks": "",
           "title": {
            "standoff": 15
           },
           "zerolinecolor": "white",
           "zerolinewidth": 2
          }
         }
        }
       }
      },
      "image/png": "[encoded data removed]",
      "image/svg+xml": "<svg class=\"main-svg\" xmlns=\"http://www.w3.org/2000/svg\" xmlns:xlink=\"http://www.w3.org/1999/xlink\" width=\"700\" height=\"500\" style=\"\" viewBox=\"0 0 700 500\"><rect x=\"0\" y=\"0\" width=\"700\" height=\"500\" style=\"fill: rgb(255, 255, 255); fill-opacity: 1;\"/><defs id=\"defs-68df68\"><g class=\"clips\"/><g class=\"gradients\"/></defs><g class=\"bglayer\"/><g class=\"layer-below\"><g class=\"imagelayer\"/><g class=\"shapelayer\"/></g><g class=\"cartesianlayer\"/><g class=\"polarlayer\"/><g class=\"ternarylayer\"/><g class=\"geolayer\"/><g class=\"funnelarealayer\"/><g class=\"pielayer\"/><g class=\"treemaplayer\"/><g class=\"sunburstlayer\"/><g class=\"glimages\"><image xmlns=\"http://www.w3.org/2000/svg\" xlink:href=\"data:image/png;base64,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\" x=\"50\" y=\"60\" width=\"600\" height=\"390\" preserveAspectRatio=\"none\"/></g><defs id=\"topdefs-68df68\"><g class=\"clips\"/></defs><g class=\"layer-above\"><g class=\"imagelayer\"/><g class=\"shapelayer\"/></g><g class=\"infolayer\"><g class=\"g-gtitle\"/></g></svg>",
      "text/html": [
       "<div\n",
       "    class=\"webio-mountpoint\"\n",
       "    data-webio-mountpoint=\"9971199383945222506\"\n",
       ">\n",
       "    <script>\n",
       "    (function(){\n",
       "    // Some integrations (namely, IJulia/Jupyter) use an alternate render pathway than\n",
       "    // just putting the html on the page. If WebIO isn't defined, then it's pretty likely\n",
       "    // that we're in one of those situations and the integration just isn't installed\n",
       "    // correctly.\n",
       "    if (typeof window.WebIO === \"undefined\") {\n",
       "        document\n",
       "            .querySelector('[data-webio-mountpoint=\"9971199383945222506\"]')\n",
       "            .innerHTML = (\n",
       "                '<div style=\"padding: 1em; background-color: #f8d6da; border: 1px solid #f5c6cb; font-weight: bold;\">' +\n",
       "                '<p><strong>WebIO not detected.</strong></p>' +\n",
       "                '<p>Please read ' +\n",
       "                '<a href=\"https://juliagizmos.github.io/WebIO.jl/latest/troubleshooting/not-detected/\" target=\"_blank\">the troubleshooting guide</a> ' +\n",
       "                'for more information on how to resolve this issue.</p>' +\n",
       "                '<p><a href=\"https://juliagizmos.github.io/WebIO.jl/latest/troubleshooting/not-detected/\" target=\"_blank\">https://juliagizmos.github.io/WebIO.jl/latest/troubleshooting/not-detected/</a></p>' +\n",
       "                '</div>'\n",
       "            );\n",
       "        return;\n",
       "    }\n",
       "    WebIO.mount(\n",
       "        document.querySelector('[data-webio-mountpoint=\"9971199383945222506\"]'),\n",
       "        {\"props\":{},\"nodeType\":\"Scope\",\"type\":\"node\",\"instanceArgs\":{\"imports\":{\"data\":[{\"name\":\"Plotly\",\"type\":\"js\",\"url\":\"\\/assetserver\\/d18d62e3d860f95bdd778d5ce0d98356c8e8cd70-plotly.min.js\"},{\"name\":null,\"type\":\"js\",\"url\":\"\\/assetserver\\/3ce237707c6799d71e862d9d30b4d1f68d73bd38-plotly_webio.bundle.js\"}],\"type\":\"async_block\"},\"id\":\"6468378107830442750\",\"handlers\":{\"_toImage\":[\"(function (options){return this.Plotly.toImage(this.plotElem,options).then((function (data){return WebIO.setval({\\\"name\\\":\\\"image\\\",\\\"scope\\\":\\\"6468378107830442750\\\",\\\"id\\\":\\\"7247372437615282780\\\",\\\"type\\\":\\\"observable\\\"},data)}))})\"],\"__get_gd_contents\":[\"(function (prop){prop==\\\"data\\\" ? (WebIO.setval({\\\"name\\\":\\\"__gd_contents\\\",\\\"scope\\\":\\\"6468378107830442750\\\",\\\"id\\\":\\\"16318773484048925291\\\",\\\"type\\\":\\\"observable\\\"},this.plotElem.data)) : undefined; return prop==\\\"layout\\\" ? (WebIO.setval({\\\"name\\\":\\\"__gd_contents\\\",\\\"scope\\\":\\\"6468378107830442750\\\",\\\"id\\\":\\\"16318773484048925291\\\",\\\"type\\\":\\\"observable\\\"},this.plotElem.layout)) : undefined})\"],\"_downloadImage\":[\"(function (options){return this.Plotly.downloadImage(this.plotElem,options)})\"],\"_commands\":[\"(function (args){var fn=args.shift(); var elem=this.plotElem; var Plotly=this.Plotly; args.unshift(elem); return Plotly[fn].apply(this,args)})\"]},\"systemjs_options\":null,\"mount_callbacks\":[\"function () {\\n    var handler = ((function (Plotly,PlotlyWebIO){PlotlyWebIO.init(WebIO); var gd=this.dom.querySelector(\\\"#plot-e382eec8-cd31-46f1-a9be-31fa34f1d705\\\"); this.plotElem=gd; this.Plotly=Plotly; (window.Blink!==undefined) ? (gd.style.width=\\\"100%\\\", gd.style.height=\\\"100vh\\\", gd.style.marginLeft=\\\"0%\\\", gd.style.marginTop=\\\"0vh\\\") : undefined; window.onresize=(function (){return Plotly.Plots.resize(gd)}); Plotly.newPlot(gd,[{\\\"y\\\":[0,1,1,0,0,1,1,0],\\\"type\\\":\\\"mesh3d\\\",\\\"j\\\":[3,4,1,2,5,6,5,5,0,1,2,2],\\\"k\\\":[0,7,2,3,6,7,1,2,5,5,7,6],\\\"z\\\":[0,0,0,0,1,1,1,1],\\\"i\\\":[7,0,0,0,4,4,2,6,4,0,3,7],\\\"facecolor\\\":[\\\"rgb(50, 200, 200)\\\",\\\"rgb(50, 200, 200)\\\",\\\"rgb(100, 200, 255)\\\",\\\"rgb(100, 200, 255)\\\",\\\"rgb(150, 200, 115)\\\",\\\"rgb(150, 200, 115)\\\",\\\"rgb(200, 200, 50)\\\",\\\"rgb(200, 200, 50)\\\",\\\"rgb(230, 200, 10)\\\",\\\"rgb(230, 200, 10)\\\",\\\"rgb(255, 140, 0)\\\",\\\"rgb(255, 140, 0)\\\"],\\\"x\\\":[0,0,1,1,0,0,1,1]}],{\\\"template\\\":{\\\"layout\\\":{\\\"coloraxis\\\":{\\\"colorbar\\\":{\\\"ticks\\\":\\\"\\\",\\\"outlinewidth\\\":0}},\\\"xaxis\\\":{\\\"gridcolor\\\":\\\"white\\\",\\\"zerolinewidth\\\":2,\\\"title\\\":{\\\"standoff\\\":15},\\\"ticks\\\":\\\"\\\",\\\"zerolinecolor\\\":\\\"white\\\",\\\"automargin\\\":true,\\\"linecolor\\\":\\\"white\\\"},\\\"hovermode\\\":\\\"closest\\\",\\\"paper_bgcolor\\\":\\\"white\\\",\\\"geo\\\":{\\\"showlakes\\\":true,\\\"showland\\\":true,\\\"landcolor\\\":\\\"#E5ECF6\\\",\\\"bgcolor\\\":\\\"white\\\",\\\"subunitcolor\\\":\\\"white\\\",\\\"lakecolor\\\":\\\"white\\\"},\\\"colorscale\\\":{\\\"sequential\\\":[[0.0,\\\"#0d0887\\\"],[0.1111111111111111,\\\"#46039f\\\"],[0.2222222222222222,\\\"#7201a8\\\"],[0.3333333333333333,\\\"#9c179e\\\"],[0.4444444444444444,\\\"#bd3786\\\"],[0.5555555555555556,\\\"#d8576b\\\"],[0.6666666666666666,\\\"#ed7953\\\"],[0.7777777777777778,\\\"#fb9f3a\\\"],[0.8888888888888888,\\\"#fdca26\\\"],[1.0,\\\"#f0f921\\\"]],\\\"diverging\\\":[[0,\\\"#8e0152\\\"],[0.1,\\\"#c51b7d\\\"],[0.2,\\\"#de77ae\\\"],[0.3,\\\"#f1b6da\\\"],[0.4,\\\"#fde0ef\\\"],[0.5,\\\"#f7f7f7\\\"],[0.6,\\\"#e6f5d0\\\"],[0.7,\\\"#b8e186\\\"],[0.8,\\\"#7fbc41\\\"],[0.9,\\\"#4d9221\\\"],[1,\\\"#276419\\\"]],\\\"sequentialminus\\\":[[0.0,\\\"#0d0887\\\"],[0.1111111111111111,\\\"#46039f\\\"],[0.2222222222222222,\\\"#7201a8\\\"],[0.3333333333333333,\\\"#9c179e\\\"],[0.4444444444444444,\\\"#bd3786\\\"],[0.5555555555555556,\\\"#d8576b\\\"],[0.6666666666666666,\\\"#ed7953\\\"],[0.7777777777777778,\\\"#fb9f3a\\\"],[0.8888888888888888,\\\"#fdca26\\\"],[1.0,\\\"#f0f921\\\"]]},\\\"yaxis\\\":{\\\"gridcolor\\\":\\\"white\\\",\\\"zerolinewidth\\\":2,\\\"title\\\":{\\\"standoff\\\":15},\\\"ticks\\\":\\\"\\\",\\\"zerolinecolor\\\":\\\"white\\\",\\\"automargin\\\":true,\\\"linecolor\\\":\\\"white\\\"},\\\"shapedefaults\\\":{\\\"line\\\":{\\\"color\\\":\\\"#2a3f5f\\\"}},\\\"hoverlabel\\\":{\\\"align\\\":\\\"left\\\"},\\\"mapbox\\\":{\\\"style\\\":\\\"light\\\"},\\\"polar\\\":{\\\"angularaxis\\\":{\\\"gridcolor\\\":\\\"white\\\",\\\"ticks\\\":\\\"\\\",\\\"linecolor\\\":\\\"white\\\"},\\\"bgcolor\\\":\\\"#E5ECF6\\\",\\\"radialaxis\\\":{\\\"gridcolor\\\":\\\"white\\\",\\\"ticks\\\":\\\"\\\",\\\"linecolor\\\":\\\"white\\\"}},\\\"autotypenumbers\\\":\\\"strict\\\",\\\"font\\\":{\\\"color\\\":\\\"#2a3f5f\\\"},\\\"ternary\\\":{\\\"baxis\\\":{\\\"gridcolor\\\":\\\"white\\\",\\\"ticks\\\":\\\"\\\",\\\"linecolor\\\":\\\"white\\\"},\\\"bgcolor\\\":\\\"#E5ECF6\\\",\\\"caxis\\\":{\\\"gridcolor\\\":\\\"white\\\",\\\"ticks\\\":\\\"\\\",\\\"linecolor\\\":\\\"white\\\"},\\\"aaxis\\\":{\\\"gridcolor\\\":\\\"white\\\",\\\"ticks\\\":\\\"\\\",\\\"linecolor\\\":\\\"white\\\"}},\\\"annotationdefaults\\\":{\\\"arrowhead\\\":0,\\\"arrowwidth\\\":1,\\\"arrowcolor\\\":\\\"#2a3f5f\\\"},\\\"plot_bgcolor\\\":\\\"#E5ECF6\\\",\\\"title\\\":{\\\"x\\\":0.05},\\\"scene\\\":{\\\"xaxis\\\":{\\\"gridcolor\\\":\\\"white\\\",\\\"gridwidth\\\":2,\\\"backgroundcolor\\\":\\\"#E5ECF6\\\",\\\"ticks\\\":\\\"\\\",\\\"showbackground\\\":true,\\\"zerolinecolor\\\":\\\"white\\\",\\\"linecolor\\\":\\\"white\\\"},\\\"zaxis\\\":{\\\"gridcolor\\\":\\\"white\\\",\\\"gridwidth\\\":2,\\\"backgroundcolor\\\":\\\"#E5ECF6\\\",\\\"ticks\\\":\\\"\\\",\\\"showbackground\\\":true,\\\"zerolinecolor\\\":\\\"white\\\",\\\"linecolor\\\":\\\"white\\\"},\\\"yaxis\\\":{\\\"gridcolor\\\":\\\"white\\\",\\\"gridwidth\\\":2,\\\"backgroundcolor\\\":\\\"#E5ECF6\\\",\\\"ticks\\\":\\\"\\\",\\\"showbackground\\\":true,\\\"zerolinecolor\\\":\\\"white\\\",\\\"linecolor\\\":\\\"white\\\"}},\\\"colorway\\\":[\\\"#636efa\\\",\\\"#EF553B\\\",\\\"#00cc96\\\",\\\"#ab63fa\\\",\\\"#FFA15A\\\",\\\"#19d3f3\\\",\\\"#FF6692\\\",\\\"#B6E880\\\",\\\"#FF97FF\\\",\\\"#FECB52\\\"]},\\\"data\\\":{\\\"barpolar\\\":[{\\\"type\\\":\\\"barpolar\\\",\\\"marker\\\":{\\\"line\\\":{\\\"color\\\":\\\"#E5ECF6\\\",\\\"width\\\":0.5}}}],\\\"carpet\\\":[{\\\"aaxis\\\":{\\\"gridcolor\\\":\\\"white\\\",\\\"endlinecolor\\\":\\\"#2a3f5f\\\",\\\"minorgridcolor\\\":\\\"white\\\",\\\"startlinecolor\\\":\\\"#2a3f5f\\\",\\\"linecolor\\\":\\\"white\\\"},\\\"type\\\":\\\"carpet\\\",\\\"baxis\\\":{\\\"gridcolor\\\":\\\"white\\\",\\\"endlinecolor\\\":\\\"#2a3f5f\\\",\\\"minorgridcolor\\\":\\\"white\\\",\\\"startlinecolor\\\":\\\"#2a3f5f\\\",\\\"linecolor\\\":\\\"white\\\"}}],\\\"scatterpolar\\\":[{\\\"type\\\":\\\"scatterpolar\\\",\\\"marker\\\":{\\\"colorbar\\\":{\\\"ticks\\\":\\\"\\\",\\\"outlinewidth\\\":0}}}],\\\"parcoords\\\":[{\\\"line\\\":{\\\"colorbar\\\":{\\\"ticks\\\":\\\"\\\",\\\"outlinewidth\\\":0}},\\\"type\\\":\\\"parcoords\\\"}],\\\"scatter\\\":[{\\\"type\\\":\\\"scatter\\\",\\\"marker\\\":{\\\"colorbar\\\":{\\\"ticks\\\":\\\"\\\",\\\"outlinewidth\\\":0}}}],\\\"histogram2dcontour\\\":[{\\\"colorbar\\\":{\\\"ticks\\\":\\\"\\\",\\\"outlinewidth\\\":0},\\\"type\\\":\\\"histogram2dcontour\\\",\\\"colorscale\\\":[[0.0,\\\"#0d0887\\\"],[0.1111111111111111,\\\"#46039f\\\"],[0.2222222222222222,\\\"#7201a8\\\"],[0.3333333333333333,\\\"#9c179e\\\"],[0.4444444444444444,\\\"#bd3786\\\"],[0.5555555555555556,\\\"#d8576b\\\"],[0.6666666666666666,\\\"#ed7953\\\"],[0.7777777777777778,\\\"#fb9f3a\\\"],[0.8888888888888888,\\\"#fdca26\\\"],[1.0,\\\"#f0f921\\\"]]}],\\\"contour\\\":[{\\\"colorbar\\\":{\\\"ticks\\\":\\\"\\\",\\\"outlinewidth\\\":0},\\\"type\\\":\\\"contour\\\",\\\"colorscale\\\":[[0.0,\\\"#0d0887\\\"],[0.1111111111111111,\\\"#46039f\\\"],[0.2222222222222222,\\\"#7201a8\\\"],[0.3333333333333333,\\\"#9c179e\\\"],[0.4444444444444444,\\\"#bd3786\\\"],[0.5555555555555556,\\\"#d8576b\\\"],[0.6666666666666666,\\\"#ed7953\\\"],[0.7777777777777778,\\\"#fb9f3a\\\"],[0.8888888888888888,\\\"#fdca26\\\"],[1.0,\\\"#f0f921\\\"]]}],\\\"scattercarpet\\\":[{\\\"type\\\":\\\"scattercarpet\\\",\\\"marker\\\":{\\\"colorbar\\\":{\\\"ticks\\\":\\\"\\\",\\\"outlinewidth\\\":0}}}],\\\"mesh3d\\\":[{\\\"colorbar\\\":{\\\"ticks\\\":\\\"\\\",\\\"outlinewidth\\\":0},\\\"type\\\":\\\"mesh3d\\\"}],\\\"surface\\\":[{\\\"colorbar\\\":{\\\"ticks\\\":\\\"\\\",\\\"outlinewidth\\\":0},\\\"type\\\":\\\"surface\\\",\\\"colorscale\\\":[[0.0,\\\"#0d0887\\\"],[0.1111111111111111,\\\"#46039f\\\"],[0.2222222222222222,\\\"#7201a8\\\"],[0.3333333333333333,\\\"#9c179e\\\"],[0.4444444444444444,\\\"#bd3786\\\"],[0.5555555555555556,\\\"#d8576b\\\"],[0.6666666666666666,\\\"#ed7953\\\"],[0.7777777777777778,\\\"#fb9f3a\\\"],[0.8888888888888888,\\\"#fdca26\\\"],[1.0,\\\"#f0f921\\\"]]}],\\\"scattermapbox\\\":[{\\\"type\\\":\\\"scattermapbox\\\",\\\"marker\\\":{\\\"colorbar\\\":{\\\"ticks\\\":\\\"\\\",\\\"outlinewidth\\\":0}}}],\\\"scattergeo\\\":[{\\\"type\\\":\\\"scattergeo\\\",\\\"marker\\\":{\\\"colorbar\\\":{\\\"ticks\\\":\\\"\\\",\\\"outlinewidth\\\":0}}}],\\\"histogram\\\":[{\\\"type\\\":\\\"histogram\\\",\\\"marker\\\":{\\\"colorbar\\\":{\\\"ticks\\\":\\\"\\\",\\\"outlinewidth\\\":0}}}],\\\"pie\\\":[{\\\"type\\\":\\\"pie\\\",\\\"automargin\\\":true}],\\\"choropleth\\\":[{\\\"colorbar\\\":{\\\"ticks\\\":\\\"\\\",\\\"outlinewidth\\\":0},\\\"type\\\":\\\"choropleth\\\"}],\\\"heatmapgl\\\":[{\\\"colorbar\\\":{\\\"ticks\\\":\\\"\\\",\\\"outlinewidth\\\":0},\\\"type\\\":\\\"heatmapgl\\\",\\\"colorscale\\\":[[0.0,\\\"#0d0887\\\"],[0.1111111111111111,\\\"#46039f\\\"],[0.2222222222222222,\\\"#7201a8\\\"],[0.3333333333333333,\\\"#9c179e\\\"],[0.4444444444444444,\\\"#bd3786\\\"],[0.5555555555555556,\\\"#d8576b\\\"],[0.6666666666666666,\\\"#ed7953\\\"],[0.7777777777777778,\\\"#fb9f3a\\\"],[0.8888888888888888,\\\"#fdca26\\\"],[1.0,\\\"#f0f921\\\"]]}],\\\"bar\\\":[{\\\"type\\\":\\\"bar\\\",\\\"error_y\\\":{\\\"color\\\":\\\"#2a3f5f\\\"},\\\"error_x\\\":{\\\"color\\\":\\\"#2a3f5f\\\"},\\\"marker\\\":{\\\"line\\\":{\\\"color\\\":\\\"#E5ECF6\\\",\\\"width\\\":0.5}}}],\\\"heatmap\\\":[{\\\"colorbar\\\":{\\\"ticks\\\":\\\"\\\",\\\"outlinewidth\\\":0},\\\"type\\\":\\\"heatmap\\\",\\\"colorscale\\\":[[0.0,\\\"#0d0887\\\"],[0.1111111111111111,\\\"#46039f\\\"],[0.2222222222222222,\\\"#7201a8\\\"],[0.3333333333333333,\\\"#9c179e\\\"],[0.4444444444444444,\\\"#bd3786\\\"],[0.5555555555555556,\\\"#d8576b\\\"],[0.6666666666666666,\\\"#ed7953\\\"],[0.7777777777777778,\\\"#fb9f3a\\\"],[0.8888888888888888,\\\"#fdca26\\\"],[1.0,\\\"#f0f921\\\"]]}],\\\"contourcarpet\\\":[{\\\"colorbar\\\":{\\\"ticks\\\":\\\"\\\",\\\"outlinewidth\\\":0},\\\"type\\\":\\\"contourcarpet\\\"}],\\\"table\\\":[{\\\"type\\\":\\\"table\\\",\\\"header\\\":{\\\"line\\\":{\\\"color\\\":\\\"white\\\"},\\\"fill\\\":{\\\"color\\\":\\\"#C8D4E3\\\"}},\\\"cells\\\":{\\\"line\\\":{\\\"color\\\":\\\"white\\\"},\\\"fill\\\":{\\\"color\\\":\\\"#EBF0F8\\\"}}}],\\\"scatter3d\\\":[{\\\"line\\\":{\\\"colorbar\\\":{\\\"ticks\\\":\\\"\\\",\\\"outlinewidth\\\":0}},\\\"type\\\":\\\"scatter3d\\\",\\\"marker\\\":{\\\"colorbar\\\":{\\\"ticks\\\":\\\"\\\",\\\"outlinewidth\\\":0}}}],\\\"scattergl\\\":[{\\\"type\\\":\\\"scattergl\\\",\\\"marker\\\":{\\\"colorbar\\\":{\\\"ticks\\\":\\\"\\\",\\\"outlinewidth\\\":0}}}],\\\"histogram2d\\\":[{\\\"colorbar\\\":{\\\"ticks\\\":\\\"\\\",\\\"outlinewidth\\\":0},\\\"type\\\":\\\"histogram2d\\\",\\\"colorscale\\\":[[0.0,\\\"#0d0887\\\"],[0.1111111111111111,\\\"#46039f\\\"],[0.2222222222222222,\\\"#7201a8\\\"],[0.3333333333333333,\\\"#9c179e\\\"],[0.4444444444444444,\\\"#bd3786\\\"],[0.5555555555555556,\\\"#d8576b\\\"],[0.6666666666666666,\\\"#ed7953\\\"],[0.7777777777777778,\\\"#fb9f3a\\\"],[0.8888888888888888,\\\"#fdca26\\\"],[1.0,\\\"#f0f921\\\"]]}],\\\"scatterternary\\\":[{\\\"type\\\":\\\"scatterternary\\\",\\\"marker\\\":{\\\"colorbar\\\":{\\\"ticks\\\":\\\"\\\",\\\"outlinewidth\\\":0}}}],\\\"scatterpolargl\\\":[{\\\"type\\\":\\\"scatterpolargl\\\",\\\"marker\\\":{\\\"colorbar\\\":{\\\"ticks\\\":\\\"\\\",\\\"outlinewidth\\\":0}}}]}},\\\"margin\\\":{\\\"l\\\":50,\\\"b\\\":50,\\\"r\\\":50,\\\"t\\\":60}},{\\\"showLink\\\":false,\\\"editable\\\":false,\\\"responsive\\\":true,\\\"staticPlot\\\":false,\\\"scrollZoom\\\":true}); gd.on(\\\"plotly_hover\\\",(function (data){var filtered_data=WebIO.PlotlyCommands.filterEventData(gd,data,\\\"hover\\\"); return !(filtered_data.isnil) ? (WebIO.setval({\\\"name\\\":\\\"hover\\\",\\\"scope\\\":\\\"6468378107830442750\\\",\\\"id\\\":\\\"4890081979012649179\\\",\\\"type\\\":\\\"observable\\\"},filtered_data.out)) : undefined})); gd.on(\\\"plotly_unhover\\\",(function (){return WebIO.setval({\\\"name\\\":\\\"hover\\\",\\\"scope\\\":\\\"6468378107830442750\\\",\\\"id\\\":\\\"4890081979012649179\\\",\\\"type\\\":\\\"observable\\\"},{})})); gd.on(\\\"plotly_selected\\\",(function (data){var filtered_data=WebIO.PlotlyCommands.filterEventData(gd,data,\\\"selected\\\"); return !(filtered_data.isnil) ? (WebIO.setval({\\\"name\\\":\\\"selected\\\",\\\"scope\\\":\\\"6468378107830442750\\\",\\\"id\\\":\\\"6154972141301402692\\\",\\\"type\\\":\\\"observable\\\"},filtered_data.out)) : undefined})); gd.on(\\\"plotly_deselect\\\",(function (){return WebIO.setval({\\\"name\\\":\\\"selected\\\",\\\"scope\\\":\\\"6468378107830442750\\\",\\\"id\\\":\\\"6154972141301402692\\\",\\\"type\\\":\\\"observable\\\"},{})})); gd.on(\\\"plotly_relayout\\\",(function (data){var filtered_data=WebIO.PlotlyCommands.filterEventData(gd,data,\\\"relayout\\\"); return !(filtered_data.isnil) ? (WebIO.setval({\\\"name\\\":\\\"relayout\\\",\\\"scope\\\":\\\"6468378107830442750\\\",\\\"id\\\":\\\"1730503704444159985\\\",\\\"type\\\":\\\"observable\\\"},filtered_data.out)) : undefined})); return gd.on(\\\"plotly_click\\\",(function (data){var filtered_data=WebIO.PlotlyCommands.filterEventData(gd,data,\\\"click\\\"); return !(filtered_data.isnil) ? (WebIO.setval({\\\"name\\\":\\\"click\\\",\\\"scope\\\":\\\"6468378107830442750\\\",\\\"id\\\":\\\"18437360837881078461\\\",\\\"type\\\":\\\"observable\\\"},filtered_data.out)) : undefined}))}));\\n    (WebIO.importBlock({\\\"data\\\":[{\\\"name\\\":\\\"Plotly\\\",\\\"type\\\":\\\"js\\\",\\\"url\\\":\\\"\\/assetserver\\/d18d62e3d860f95bdd778d5ce0d98356c8e8cd70-plotly.min.js\\\"},{\\\"name\\\":null,\\\"type\\\":\\\"js\\\",\\\"url\\\":\\\"\\/assetserver\\/3ce237707c6799d71e862d9d30b4d1f68d73bd38-plotly_webio.bundle.js\\\"}],\\\"type\\\":\\\"async_block\\\"})).then((imports) => handler.apply(this, imports));\\n}\\n\"],\"observables\":{\"_toImage\":{\"sync\":false,\"id\":\"12166335854801571608\",\"value\":{}},\"hover\":{\"sync\":false,\"id\":\"4890081979012649179\",\"value\":{}},\"selected\":{\"sync\":false,\"id\":\"6154972141301402692\",\"value\":{}},\"__gd_contents\":{\"sync\":false,\"id\":\"16318773484048925291\",\"value\":{}},\"click\":{\"sync\":false,\"id\":\"18437360837881078461\",\"value\":{}},\"image\":{\"sync\":true,\"id\":\"7247372437615282780\",\"value\":\"\"},\"__get_gd_contents\":{\"sync\":false,\"id\":\"17916785080951855132\",\"value\":\"\"},\"_downloadImage\":{\"sync\":false,\"id\":\"12427245675669465807\",\"value\":{}},\"relayout\":{\"sync\":false,\"id\":\"1730503704444159985\",\"value\":{}},\"_commands\":{\"sync\":false,\"id\":\"8194042769078685957\",\"value\":[]}}},\"children\":[{\"props\":{\"id\":\"plot-e382eec8-cd31-46f1-a9be-31fa34f1d705\"},\"nodeType\":\"DOM\",\"type\":\"node\",\"instanceArgs\":{\"namespace\":\"html\",\"tag\":\"div\"},\"children\":[]}]},\n",
       "        window,\n",
       "    );\n",
       "    })()\n",
       "    </script>\n",
       "</div>\n"
      ],
      "text/plain": [
       "data: [\n",
       "  \"mesh3d with fields facecolor, i, j, k, type, x, y, and z\"\n",
       "]\n",
       "\n",
       "layout: \"layout with fields margin and template\"\n",
       "\n"
      ]
     },
     "metadata": {},
     "output_type": "display_data"
    }
   ],
   "source": [
    "using PlotlyJS\n",
    "\n",
    "p = Plot()\n",
    "\n",
    "plot(mesh3d(\n",
    "    x=[0, 1, 2, 0],\n",
    "    y=[0, 0, 1, 2],\n",
    "    z=[0, 2, 0, 1],\n",
    "    #colorbar_title=\"z\",\n",
    "    colorscale=[[0, \"gold\"],\n",
    "                [0.5, \"mediumturquoise\"],\n",
    "                [1, \"magenta\"]],\n",
    "    # Intensity of each vertex, which will be interpolated and color-coded\n",
    "    intensity=[0, 0,0,0],\n",
    "    # i, j and k give the vertices of triangles\n",
    "    # here we represent the 4 triangles of the tetrahedron surface\n",
    "    i=[0, 0, 0, 1],\n",
    "    j=[1, 2, 3, 2],\n",
    "    k=[2, 3, 1, 3],\n",
    "    name=\"y\",\n",
    "    showscale=true\n",
    "))\n",
    "\n",
    "facecolor = repeat([\n",
    "    \"rgb(50, 200, 200)\",\n",
    "    \"rgb(100, 200, 255)\",\n",
    "    \"rgb(150, 200, 115)\",\n",
    "    \"rgb(200, 200, 50)\",\n",
    "    \"rgb(230, 200, 10)\",\n",
    "    \"rgb(255, 140, 0)\"\n",
    "], inner=[2])\n",
    "\n",
    "t = mesh3d(\n",
    "    x=[0, 0, 1, 1, 0, 0, 1, 1],\n",
    "    y=[0, 1, 1, 0, 0, 1, 1, 0],\n",
    "    z=[0, 0, 0, 0, 1, 1, 1, 1],\n",
    "    i=[7, 0, 0, 0, 4, 4, 2, 6, 4, 0, 3, 7],\n",
    "    j=[3, 4, 1, 2, 5, 6, 5, 5, 0, 1, 2, 2],\n",
    "    k=[0, 7, 2, 3, 6, 7, 1, 2, 5, 5, 7, 6],\n",
    "    facecolor=facecolor)\n",
    "\n",
    "plot(t)\n"
   ]
  },
  {
   "cell_type": "code",
   "execution_count": null,
   "metadata": {},
   "outputs": [],
   "source": []
  }
 ],
 "metadata": {
  "kernelspec": {
   "display_name": "Julia 1.8.4",
   "language": "julia",
   "name": "julia-1.8"
  },
  "language_info": {
   "file_extension": ".jl",
   "mimetype": "application/julia",
   "name": "julia",
   "version": "1.8.4"
  },
  "orig_nbformat": 4,
  "vscode": {
   "interpreter": {
    "hash": "a2ac061361b194fcb51195d855160f93752d4459f9e3b172838ff5b9184122a7"
   }
  }
 },
 "nbformat": 4,
 "nbformat_minor": 2
}
