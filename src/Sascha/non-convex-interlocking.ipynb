{
 "cells": [
  {
   "attachments": {},
   "cell_type": "markdown",
   "metadata": {},
   "source": [
    "# Interlocking analysis for Assemblies of possibly non convex Polyhedra"
   ]
  },
  {
   "cell_type": "code",
   "execution_count": 50,
   "metadata": {},
   "outputs": [
    {
     "data": {
      "text/plain": [
       "triangulatePolyhedron"
      ]
     },
     "metadata": {},
     "output_type": "display_data"
    }
   ],
   "source": [
    "using Plots\n",
    "\n",
    "include(\"../Polyhedron.jl\")"
   ]
  },
  {
   "cell_type": "code",
   "execution_count": 51,
   "metadata": {},
   "outputs": [
    {
     "data": {
      "text/plain": [
       "Polyhedron(Vector{Float32}[[1.0, 0.0, 0.0], [0.0, 1.0, 0.0], [0.0, 0.0, 1.0]], [(1, 2), (2, 3), (3, 1)], [[1, 2, 3]])"
      ]
     },
     "metadata": {},
     "output_type": "display_data"
    }
   ],
   "source": [
    "verts = [[1,0,0], [0,1,0], [0,0,1]]\n",
    "edges = [(1,2), (2,3), (3,1)]\n",
    "facets = [[1,2,3]]\n",
    "\n",
    "standard_simplex = Polyhedron(verts, edges, facets)"
   ]
  },
  {
   "cell_type": "code",
   "execution_count": 52,
   "metadata": {},
   "outputs": [
    {
     "name": "stdout",
     "output_type": "stream",
     "text": [
      "[(1, 2), (2, 3), (3, 4), (4, 1), (4, 2)]\n",
      "Any[[4, 1, 2], [2, 3, 4]]"
     ]
    },
    {
     "data": {
      "text/plain": [
       "Polyhedron(Vector{Float32}[[0.0, 0.0, 0.0], [1.0, 0.0, 0.0], [1.0, 1.0, 0.0], [0.0, 1.0, 0.0]], [(1, 2), (2, 3), (3, 4), (4, 1), (4, 2)], [[4, 1, 2], [2, 3, 4]])"
      ]
     },
     "metadata": {},
     "output_type": "display_data"
    }
   ],
   "source": [
    "verts = [[0,0,0], [1,0,0], [1,1,0], [0,1,0]]\n",
    "edges = [(1,2), (2,3), (3,4), (4,1)]\n",
    "facets = [[1,2,3,4]]\n",
    "\n",
    "square = Polyhedron(verts, edges, facets)\n",
    "\n",
    "triang = triangulatePolyhedron(square)"
   ]
  },
  {
   "cell_type": "code",
   "execution_count": 53,
   "metadata": {},
   "outputs": [
    {
     "name": "stdout",
     "output_type": "stream",
     "text": []
    },
    {
     "name": "stderr",
     "output_type": "stream",
     "text": [
      "invalid number of domain values\n",
      "invalid number of domain values\n",
      "invalid number of domain values\n"
     ]
    }
   ],
   "source": [
    "p = plot()\n",
    "\n",
    "plot_polyhedron!(p, triang)\n",
    "display(p)"
   ]
  },
  {
   "cell_type": "markdown",
   "metadata": {},
   "source": [
    "## Experimente"
   ]
  },
  {
   "cell_type": "code",
   "execution_count": 17,
   "metadata": {},
   "outputs": [
    {
     "data": {
      "text/plain": [
       "GLMakie.Screen(...)"
      ]
     },
     "metadata": {},
     "output_type": "display_data"
    }
   ],
   "source": [
    "using GeometryBasics, GLMakie\n",
    "\n",
    "X = [0. 1 1 2; 1 1 2 2; 0 0 1 1]\n",
    "Y = [1. 1 1 1; 1 0 1 0; 0 0 0 0]\n",
    "Z = [1. 1 1 1; 1 0 1 0; 0 0 0 0]\n",
    "C = [.5 1. 1. .5; 1. .5 .5 .1667; .333 .333 .5 .5]\n",
    "\n",
    "xyz = reshape([X[:] Y[:] Z[:]]', :)\n",
    "fap = poly(connect(xyz, Point{3}), connect(1:length(X), TriangleFace); strokewidth=1)\n",
    "\n",
    "display(fap)"
   ]
  },
  {
   "cell_type": "code",
   "execution_count": 19,
   "metadata": {},
   "outputs": [
    {
     "data": {
      "text/plain": [
       "12-element reinterpret(Point3{Float64}, ::TupleView{Tuple{Float64, Float64, Float64}, 3, 3, Base.ReshapedArray{Float64, 1, LinearAlgebra.Adjoint{Float64, Matrix{Float64}}, Tuple{Base.MultiplicativeInverses.SignedMultiplicativeInverse{Int64}}}}):\n",
       " [0.0, 1.0, 1.0]\n",
       " [1.0, 1.0, 1.0]\n",
       " [0.0, 0.0, 0.0]\n",
       " [1.0, 1.0, 1.0]\n",
       " [1.0, 0.0, 0.0]\n",
       " [0.0, 0.0, 0.0]\n",
       " [1.0, 1.0, 1.0]\n",
       " [2.0, 1.0, 1.0]\n",
       " [1.0, 0.0, 0.0]\n",
       " [2.0, 1.0, 1.0]\n",
       " [2.0, 0.0, 0.0]\n",
       " [1.0, 0.0, 0.0]"
      ]
     },
     "metadata": {},
     "output_type": "display_data"
    }
   ],
   "source": [
    "connect(xyz, Point{3})"
   ]
  },
  {
   "cell_type": "code",
   "execution_count": 23,
   "metadata": {},
   "outputs": [],
   "source": [
    "using PolygonOps"
   ]
  },
  {
   "cell_type": "code",
   "execution_count": 26,
   "metadata": {},
   "outputs": [
    {
     "data": {
      "text/plain": [
       "-1"
      ]
     },
     "metadata": {},
     "output_type": "display_data"
    }
   ],
   "source": [
    "inpolygon([1,0,0], [[1,0,0], [0,1,0], [0,0,1], [1,0,0]])"
   ]
  },
  {
   "cell_type": "code",
   "execution_count": 31,
   "metadata": {},
   "outputs": [
    {
     "data": {
      "text/plain": [
       "1-element Vector{Int64}:\n",
       " 3"
      ]
     },
     "metadata": {},
     "output_type": "display_data"
    }
   ],
   "source": [
    "a = [1,2,3]\n",
    "a[a.>2]"
   ]
  },
  {
   "cell_type": "code",
   "execution_count": null,
   "metadata": {},
   "outputs": [],
   "source": []
  }
 ],
 "metadata": {
  "kernelspec": {
   "display_name": "Julia 1.8.4",
   "language": "julia",
   "name": "julia-1.8"
  },
  "language_info": {
   "file_extension": ".jl",
   "mimetype": "application/julia",
   "name": "julia",
   "version": "1.8.4"
  },
  "orig_nbformat": 4,
  "vscode": {
   "interpreter": {
    "hash": "a2ac061361b194fcb51195d855160f93752d4459f9e3b172838ff5b9184122a7"
   }
  }
 },
 "nbformat": 4,
 "nbformat_minor": 2
}
